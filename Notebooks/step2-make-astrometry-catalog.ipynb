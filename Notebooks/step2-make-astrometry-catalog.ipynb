{
 "cells": [
  {
   "attachments": {},
   "cell_type": "markdown",
   "metadata": {
    "cell_id": "13fa0a8041b94cc6abdd661fba12e342",
    "deepnote_cell_type": "markdown"
   },
   "source": [
    "## Astrometry catalog\n",
    "\n",
    "Process an association and derive an astrometric catalog to send to the `astrometry_db` database.\n",
    "\n",
    "For fields that don't have a good existing astrometric reference (i.e., the pointings *not* in COSMOS, GOODS), derive a catalog from one JWST filter, e.g., F444W, and then align all other JWST filters to that one."
   ]
  },
  {
   "cell_type": "code",
   "execution_count": 2,
   "metadata": {
    "cell_id": "655b7887b0d043f3826a693bfbab4e6f",
    "deepnote_cell_type": "code",
    "deepnote_to_be_reexecuted": false,
    "execution_millis": 29,
    "execution_start": 1683729245668,
    "source_hash": "ddb207d8"
   },
   "outputs": [
    {
     "name": "stdout",
     "output_type": "stream",
     "text": [
      "Set ROOT_PATH=/workspaces/panoramic-jwst/Astrometry\n",
      "jwst 1.14.0\n",
      "grizli 1.11.2\n"
     ]
    }
   ],
   "source": [
    "import os\n",
    "if os.getenv('CRDS_PATH') is None:\n",
    "    print('Set environment variables....')\n",
    "    \n",
    "    os.environ['CRDS_PATH'] = '/tmp/crds_cache'\n",
    "    os.environ['CRDS_SERVER_URL'] = \"https://jwst-crds.stsci.edu\"\n",
    "\n",
    "if os.getenv('iref') is None:\n",
    "    os.environ['iref'] = '/tmp/crds_cache/iref'\n",
    "    \n",
    "if os.getenv('jref') is None:\n",
    "    os.environ['jref'] = '/tmp/crds_cache/jref'\n",
    "\n",
    "if os.path.exists('/workspaces/panoramic-jwst/Astrometry'):\n",
    "    os.chdir('/workspaces/panoramic-jwst/Astrometry')\n",
    "\n",
    "if os.path.exists('../LocalWorkspace'):\n",
    "    os.chdir('../LocalWorkspace')\n",
    "\n",
    "import glob\n",
    "\n",
    "import warnings\n",
    "warnings.filterwarnings('ignore')\n",
    "\n",
    "import numpy as np\n",
    "import matplotlib.pyplot as plt\n",
    "\n",
    "from grizli import utils, prep\n",
    "from grizli.aws import db, visit_processor\n",
    "\n",
    "import jwst\n",
    "print('jwst', jwst.__version__)\n",
    "\n",
    "import grizli\n",
    "print('grizli', grizli.__version__)\n"
   ]
  },
  {
   "cell_type": "code",
   "execution_count": 2,
   "metadata": {},
   "outputs": [
    {
     "data": {
      "text/html": [
       "<div><i>GTable length=2</i>\n",
       "<table id=\"table140448261282144\" class=\"table-striped table-bordered table-condensed\">\n",
       "<thead><tr><th>assoc_name</th><th>status</th><th>filter</th></tr></thead>\n",
       "<thead><tr><th>str30</th><th>int64</th><th>str11</th></tr></thead>\n",
       "<tr><td>j013444m1532_indef-f444w_00002</td><td>70</td><td>F444W-CLEAR</td></tr>\n",
       "<tr><td>j013444m1532_indef-f444w_00009</td><td>70</td><td>F444W-CLEAR</td></tr>\n",
       "</table></div>"
      ],
      "text/plain": [
       "<GTable length=2>\n",
       "          assoc_name           status    filter  \n",
       "            str30              int64     str11   \n",
       "------------------------------ ------ -----------\n",
       "j013444m1532_indef-f444w_00002     70 F444W-CLEAR\n",
       "j013444m1532_indef-f444w_00009     70 F444W-CLEAR"
      ]
     },
     "execution_count": 2,
     "metadata": {},
     "output_type": "execute_result"
    }
   ],
   "source": [
    "# Find PANORAMIC visits that haven't been processed\n",
    "\n",
    "progs = \"'2514'\" # PANORAMIC\n",
    "# progs = \"'4445','4446'\" # DD programs\n",
    "# progs = \"'1837'\" # PRIMER\n",
    "\n",
    "filter = 'F444W-CLEAR'\n",
    "\n",
    "if 0:\n",
    "    # CANUCS 1149 cluster\n",
    "    progs = \"'1208'\" # PRIMER\n",
    "    filter = 'F410M-CLEAR'\n",
    "\n",
    "\n",
    "panoramic_assoc = db.SQL(f\"\"\"select assoc_name, max(status) as status, max(filter) as filter\n",
    "from assoc_table\n",
    "where status != 2 and filter in ('{filter}')\n",
    "and proposal_id in ({progs})\n",
    "GROUP BY assoc_name\n",
    "\"\"\"\n",
    ") \n",
    "# comment\n",
    "assoc_list = panoramic_assoc['assoc_name']\n",
    "panoramic_assoc"
   ]
  },
  {
   "cell_type": "code",
   "execution_count": 3,
   "metadata": {
    "cell_id": "76d19d4b63fe40cfad649c4497e7755c",
    "deepnote_cell_type": "code",
    "deepnote_to_be_reexecuted": false,
    "execution_millis": 101,
    "execution_start": 1683729372747,
    "source_hash": "a60f1809"
   },
   "outputs": [
    {
     "name": "stdout",
     "output_type": "stream",
     "text": [
      "j013444m1532_indef-f444w_00002\n",
      "# (2023-08-15 08:56:58.180)\n",
      "# get_wcs_guess : No entries found in wcs_log for wcs_assoc='j013444m1532_indef-f444w_00002'\n",
      "\n",
      "# Write parameters to j013444m1532_indef-f444w_00002.run.yaml\n",
      "\n",
      "\n",
      "# Write parameters to j013444m1532_indef-f444w_00002.run.yaml\n",
      "\n",
      "Failed to `import dust_attenuation`\n",
      "Install my fork with $ pip install git+https://github.com/gbrammer/dust_attenuation.git\n",
      "Failed to `import dust_extinction`\n",
      "Install my fork with $ pip install git+https://github.com/gbrammer/dust_extinction.git\n",
      "j013444m1532_indef-f444w_00002 : found 6 GAIA sources\n",
      "j013444m1532_indef-f444w_00002.gaia.reg: x = ra, y=dec, ellipse=False\n",
      "# (2023-08-15 08:57:01.785)\n",
      "\n",
      "auto_script.fetch_files(**{'field_root': 'j013444m1532_indef-f444w_00002', 'HOME_PATH': '$PWD', 'paths': {'home': '/workspaces/panoramic-jwst/Astrometry', 'base': '/workspaces/panoramic-jwst/Astrometry/j013444m1532_indef-f444w_00002', 'raw': '/workspaces/panoramic-jwst/Astrometry/j013444m1532_indef-f444w_00002/RAW', 'prep': '/workspaces/panoramic-jwst/Astrometry/j013444m1532_indef-f444w_00002/Prep', 'persist': '/workspaces/panoramic-jwst/Astrometry/j013444m1532_indef-f444w_00002/Persistence', 'extract': '/workspaces/panoramic-jwst/Astrometry/j013444m1532_indef-f444w_00002/Extractions', 'thumbs': '/workspaces/panoramic-jwst/Astrometry/j013444m1532_indef-f444w_00002/Extractions'}, 'inst_products': {'ACS/WFC': ['FLC'], 'WFC3/IR': ['RAW'], 'WFC3/UVIS': ['FLC'], 'WFPC2/PC': ['C0M', 'C1M'], 'WFPC2/WFC': ['C0M', 'C1M']}, 'remove_bad': True, 'reprocess_parallel': False, 'reprocess_clean_darks': False, 's3_sync': 'cp', 'fetch_flt_calibs': ['IDCTAB', 'PFLTFILE', 'NPOLFILE'], 'filters': ['F444W'], 'min_bad_expflag': 2, 'fetch_only': False, 'force_rate': True, 'get_rateints': False, 'recalibrate_jwst': False, 's3path': None})\n",
      "\n",
      "paths:  {'home': '/workspaces/panoramic-jwst/Astrometry', 'base': '/workspaces/panoramic-jwst/Astrometry/j013444m1532_indef-f444w_00002', 'raw': '/workspaces/panoramic-jwst/Astrometry/j013444m1532_indef-f444w_00002/RAW', 'prep': '/workspaces/panoramic-jwst/Astrometry/j013444m1532_indef-f444w_00002/Prep', 'persist': '/workspaces/panoramic-jwst/Astrometry/j013444m1532_indef-f444w_00002/Persistence', 'extract': '/workspaces/panoramic-jwst/Astrometry/j013444m1532_indef-f444w_00002/Extractions', 'thumbs': '/workspaces/panoramic-jwst/Astrometry/j013444m1532_indef-f444w_00002/Extractions'}\n",
      "directory /workspaces/panoramic-jwst/Astrometry exists\n",
      "directory /workspaces/panoramic-jwst/Astrometry/j013444m1532_indef-f444w_00002 exists\n",
      "mkdir /workspaces/panoramic-jwst/Astrometry/j013444m1532_indef-f444w_00002/RAW\n",
      "mkdir /workspaces/panoramic-jwst/Astrometry/j013444m1532_indef-f444w_00002/Prep\n",
      "mkdir /workspaces/panoramic-jwst/Astrometry/j013444m1532_indef-f444w_00002/Persistence\n",
      "mkdir /workspaces/panoramic-jwst/Astrometry/j013444m1532_indef-f444w_00002/Extractions\n",
      "Fetch 4 JWST files!\n",
      "Download iteration: 0\n",
      "Downloading URL https://mast.stsci.edu/api/v0.1/Download/file?uri=mast:JWST/product/jw02514197001_02201_00001_nrcblong_rate.fits to /workspaces/panoramic-jwst/Astrometry/j013444m1532_indef-f444w_00002/RAW/jw02514197001_02201_00001_nrcblong_rate.fits ... [Done]\n",
      "Downloading URL https://mast.stsci.edu/api/v0.1/Download/file?uri=mast:JWST/product/jw02514197001_02201_00002_nrcblong_rate.fits to /workspaces/panoramic-jwst/Astrometry/j013444m1532_indef-f444w_00002/RAW/jw02514197001_02201_00002_nrcblong_rate.fits ... [Done]\n",
      "Downloading URL https://mast.stsci.edu/api/v0.1/Download/file?uri=mast:JWST/product/jw02514197001_02201_00003_nrcblong_rate.fits to /workspaces/panoramic-jwst/Astrometry/j013444m1532_indef-f444w_00002/RAW/jw02514197001_02201_00003_nrcblong_rate.fits ... [Done]\n",
      "Downloading URL https://mast.stsci.edu/api/v0.1/Download/file?uri=mast:JWST/product/jw02514197001_02201_00004_nrcblong_rate.fits to /workspaces/panoramic-jwst/Astrometry/j013444m1532_indef-f444w_00002/RAW/jw02514197001_02201_00004_nrcblong_rate.fits ... [Done]\n",
      "Warning: no files to fetch for filters=['F444W'].\n",
      "\n",
      "grizli.pipeline.reprocess: Fetch calibrations...\n",
      "\n",
      "# (2023-08-15 08:57:16.669)\n",
      "\n",
      "auto_script.parse_visits(**{'files': [], 'field_root': 'j013444m1532_indef-f444w_00002', 'RAW_PATH': '/workspaces/panoramic-jwst/Astrometry/j013444m1532_indef-f444w_00002/RAW', 'use_visit': True, 'combine_same_pa': False, 'combine_minexp': 2, 'is_dash': False, 'filters': ['F444W'], 'max_dt': 4, 'visit_split_shift': 1.2, 'file_query': '*'})\n",
      "\n",
      "indef-02514-197-262.0-NRCB5-F444W-CLEAR 4\n"
     ]
    },
    {
     "name": "stderr",
     "output_type": "stream",
     "text": [
      "cp: cannot stat '*mask.reg': No such file or directory\n"
     ]
    },
    {
     "name": "stdout",
     "output_type": "stream",
     "text": [
      "** Combine Singles: **\n",
      "0 indef-02514-197-262.0-nrcb5-f444w-clear 4\n",
      "\n",
      " == Grism groups ==\n",
      "\n",
      "# (2023-08-15 08:57:16.756)\n",
      "\n",
      "auto_script.preprocess(**{'field_root': 'j013444m1532_indef-f444w_00002', 'HOME_PATH': '/workspaces/panoramic-jwst/Astrometry', 'PERSIST_PATH': '/workspaces/panoramic-jwst/Astrometry/j013444m1532_indef-f444w_00002/Persistence', 'min_overlap': 0.2, 'make_combined': False, 'catalogs': ['PS1', 'DES', 'NSC', 'SDSS', 'GAIA', 'WISE'], 'use_visit': True, 'master_radec': 'astrometry_db', 'parent_radec': None, 'use_first_radec': False, 'skip_imaging': False, 'clean': True, 'skip_single_optical_visits': False, 'visit_prep_args': {'align_thresh': None, 'align_rms_limit': 2, 'align_mag_limits': [14, 24, 0.05], 'align_assume_close': False, 'align_transform': None, 'align_ref_border': 100, 'align_guess': None, 'max_err_percentile': 99, 'align_min_flux_radius': 1.0, 'catalog_mask_pad': 0.05, 'match_catalog_density': False, 'skymethod': 'localmin', 'drizzle_params': {}, 'single_image_CRs': True, 'run_tweak_align': True, 'tweak_threshold': 3.0, 'tweak_fit_order': -1, 'tweak_max_dist': 100, 'tweak_n_min': 10, 'tweak_ref_exp': 0, 'tweak_mosaic_iters': 2, 'align_simple': False, 'align_clip': 120, 'column_average': True, 'sky_iter': 10, 'iter_atol': 0.0001, 'imaging_bkg_params': {'bh': 256, 'bw': 256, 'fh': 3, 'fw': 3, 'pixel_scale': 0.1, 'get_median': False}, 'run_separate_chip_sky': True, 'fix_stars': False, 'reference_catalogs': ['LS_DR9', 'PS1', 'DES', 'NSC', 'GAIA'], 'outlier_threshold': 4, 'nircam_wisp_kwargs': {'niter': 3, 'update': True}, 'oneoverf_kwargs': {'thresholds': [5, 4, 3], 'dilate_iterations': 3, 'deg_pix': 64, 'other_axis': False}, 'snowball_kwargs': {'snowball_erode': 4, 'snowball_dilate': 18, 'mask_bit': 1024, 'instruments': ['NIRCAM', 'NIRISS'], 'max_fraction': 0.3}, 'angle_background_kwargs': {'threshold': 1.8, 'detection_background': True, 'angles': [30.0, -30.0, 0, 90], 'suffix': 'angles', 'niter': 3, 'instruments': []}, 'miri_skyflat': False, 'miri_skyfile': None, 'use_skyflats': True, 'use_self_catalog': False}, 'persistence_args': {'dq_value': 1024, 'err_threshold': 0.5, 'grow_mask': 3, 'verbose': True, 'reset': False}})\n",
      "\n",
      "indef-02514-197-262.0-nrcb5-f444w-clear\n",
      "\n",
      "\n",
      "\n",
      "indef-02514-197-262.0-nrcb5-f444w-clear radec: None (0.00)\n",
      "\n",
      "\n",
      "\n",
      "# (2023-08-15 08:57:18.220)\n",
      "\n",
      "prep.process_direct_grism_visit(**{'direct': {'files': ['jw02514197001_02201_00001_nrcblong_rate.fits', 'jw02514197001_02201_00002_nrcblong_rate.fits', 'jw02514197001_02201_00003_nrcblong_rate.fits', 'jw02514197001_02201_00004_nrcblong_rate.fits'], 'footprint': <POLYGON ((23.674 -15.577, 23.674 -15.577, 23.674 -15.577, 23.674 -15.577, 2...>, 'product': 'indef-02514-197-262.0-nrcb5-f444w-clear'}, 'grism': {}, 'radec': None, 'outlier_threshold': 4, 'align_clip': 120, 'align_thresh': None, 'align_mag_limits': [14, 24, 0.05], 'align_rms_limit': 2, 'align_triangle_ba_max': 0.9, 'align_ref_border': 100, 'align_min_flux_radius': 1.0, 'align_assume_close': False, 'align_transform': None, 'align_guess': None, 'max_err_percentile': 99, 'catalog_mask_pad': 0.05, 'match_catalog_density': False, 'column_average': True, 'sky_iter': 10, 'run_tweak_align': True, 'tweak_fit_order': -1, 'skip_direct': False, 'fix_stars': False, 'tweak_max_dist': 100, 'tweak_n_min': 10, 'tweak_threshold': 3.0, 'tweak_ref_exp': 0, 'tweak_mosaic_iters': 2, 'align_simple': False, 'single_image_CRs': True, 'skymethod': 'localmin', 'drizzle_params': {}, 'iter_atol': 0.0001, 'static_mask': False, 'imaging_bkg_params': {'bh': 256, 'bw': 256, 'fh': 3, 'fw': 3, 'pixel_scale': 0.1, 'get_median': False}, 'run_separate_chip_sky': True, 'separate_chip_kwargs': {}, 'reference_catalogs': ['LS_DR9', 'PS1', 'DES', 'NSC', 'GAIA'], 'use_self_catalog': False, 'nircam_wisp_kwargs': {'niter': 3, 'update': True}, 'oneoverf_kwargs': {'thresholds': [5, 4, 3], 'dilate_iterations': 3, 'deg_pix': 64, 'other_axis': False}, 'snowball_kwargs': {'snowball_erode': 4, 'snowball_dilate': 18, 'mask_bit': 1024, 'instruments': ['NIRCAM', 'NIRISS'], 'max_fraction': 0.3}, 'angle_background_kwargs': {'threshold': 1.8, 'detection_background': True, 'angles': [30.0, -30.0, 0, 90], 'suffix': 'angles', 'niter': 3, 'instruments': []}, 'miri_skyflat': False, 'miri_skyfile': None, 'use_skyflats': True})\n",
      "\n",
      "\n",
      "\n",
      "The following task in the stsci.skypac package can be run with TEAL:\n",
      "                                    skymatch                                    \n",
      "The following tasks in the drizzlepac package can be run with TEAL:\n",
      "    astrodrizzle       config_testbed      imagefindpars           mapreg       \n",
      "       photeq            pixreplace           pixtopix            pixtosky      \n",
      "  refimagefindpars       resetbits          runastrodriz          skytopix      \n",
      "     tweakback            tweakreg           updatenpol\n",
      "# ../RAW/jw02514197001_02201_00001_nrcblong_rate.fits -> jw02514197001_02201_00001_nrcblong_rate.fits \n",
      "# (2023-08-15 08:57:20.581)\n",
      "\n",
      "jwst_utils.initialize_jwst_image(**{'filename': 'jw02514197001_02201_00001_nrcblong_rate.fits', 'verbose': True, 'max_dq_bit': 14, 'orig_keys': ['TELESCOP', 'INSTRUME', 'DETECTOR', 'FILTER', 'PUPIL', 'EXP_TYPE', 'GRATING'], 'oneoverf_correction': True, 'oneoverf_kwargs': {'thresholds': [5, 4, 3], 'dilate_iterations': 3, 'deg_pix': 64, 'other_axis': False}, 'use_skyflats': True, 'nircam_edge': 8})\n",
      "\n",
      "ENV CRDS_CONTEXT = jwst_0995.pmap\n",
      "OTELESCO = TELESCOP JWST\n",
      "OINSTRUM = INSTRUME NIRCAM\n",
      "ODETECTO = DETECTOR NRCBLONG\n",
      "OFILTER = FILTER F444W\n",
      "OPUPIL = PUPIL CLEAR\n",
      "OEXP_TYP = EXP_TYPE NRC_IMAGE\n",
      "PFLTFILE = /tmp/crds_cache/references/jwst/nircam/jwst_nircam_flat_0584.fits\n",
      "Clip MAXDQBIT = 14\n",
      "initialize_jwst_image: Mask outer ring of 8 pixels for NRCBLONG\n",
      "exposure_oneoverf_correction: jw02514197001_02201_00001_nrcblong_rate.fits axis=1 deg_pix=64\n",
      "exposure_oneoverf_correction: jw02514197001_02201_00001_nrcblong_rate.fits apply to file\n",
      "ENV CRDS_CONTEXT = jwst_0995.pmap\n",
      "jwst.flatfield.FlatFieldStep: /tmp/crds_cache/references/jwst/nircam/jwst_nircam_flat_0584.fits\n",
      "jwst.flatfield.PhotomStep: /tmp/crds_cache/references/jwst/nircam/jwst_nircam_photom_0114.fits\n",
      "jwst_utils.get_jwst_skyflat: /usr/local/python/3.10.8/lib/python3.10/site-packages/grizli/data/CONF/NircamSkyFlat/nrcblong-f444w-clear_skyflat_smooth.fits not found\n",
      "ENV CRDS_CONTEXT = jwst_0995.pmap\n",
      "jwst.assign_wcs.AssignWcsStep: /tmp/crds_cache/references/jwst/nircam/jwst_nircam_distortion_0148.asdf\n",
      "# (2023-08-15 08:58:33.871)\n",
      "\n",
      "jwst_utils.pipeline_model_wcs_header(**{'datamodel': <ImageModel(2048, 2048) from jw02514197001_02201_00001_nrcblong_rate.fits>, 'step': 64, 'degrees': [3, 4, 5, 5], 'lsq_args': {'jac': '2-point', 'bounds': (-inf, inf), 'method': 'trf', 'ftol': 1e-12, 'xtol': 1e-12, 'gtol': 1e-12, 'x_scale': 1.0, 'loss': 'soft_l1', 'f_scale': 1000.0, 'diff_step': 1e-06, 'tr_solver': None, 'tr_options': {}, 'jac_sparsity': None, 'max_nfev': 100, 'verbose': 0, 'kwargs': {}}, 'crpix': None, 'verbose': True, 'initial_header': None, 'max_rms': 0.0001, 'set_diff_step': False, 'get_guess': False, 'fast_coeffs': True})\n",
      "\n",
      "Fit SIP degree=3 rms= 6.30e-03, 4.83e-03 pix\n",
      "Fit SIP degree=4 rms= 4.54e-03, 4.26e-03 pix\n",
      "Fit SIP degree=5 rms= 3.54e-04, 3.53e-04 pix\n",
      "Fit SIP degree=5 rms= 3.55e-04, 3.53e-04 pix\n",
      "# photometry keywords\n",
      "PHOTFNU = 9.3313e-08\n",
      "PHOTPLAM = 44036.7\n",
      "PHOTFLAM = 1.4387e-21\n",
      "ZP = 26.48\n",
      "TO_MJYSR = 1.000\n",
      "\n",
      "# prep.apply_region_mask_from_db: query failed\n",
      "# (2023-08-15 08:58:39.065)\n",
      "\n",
      "jwst_utils.set_jwst_to_hst_keywords(**{'input': 'jw02514197001_02201_00001_nrcblong_rate.fits', 'reset': False, 'verbose': True, 'orig_keys': ['TELESCOP', 'INSTRUME', 'DETECTOR', 'FILTER', 'PUPIL', 'EXP_TYPE', 'GRATING']})\n",
      "\n",
      "  Set: TELESCOP > HST\n",
      "  Set: INSTRUME > WFC3\n",
      "  Set: DETECTOR > IR\n",
      "# ../RAW/jw02514197001_02201_00002_nrcblong_rate.fits -> jw02514197001_02201_00002_nrcblong_rate.fits \n",
      "# (2023-08-15 08:58:39.210)\n",
      "\n",
      "jwst_utils.initialize_jwst_image(**{'filename': 'jw02514197001_02201_00002_nrcblong_rate.fits', 'verbose': True, 'max_dq_bit': 14, 'orig_keys': ['TELESCOP', 'INSTRUME', 'DETECTOR', 'FILTER', 'PUPIL', 'EXP_TYPE', 'GRATING'], 'oneoverf_correction': True, 'oneoverf_kwargs': {'thresholds': [5, 4, 3], 'dilate_iterations': 3, 'deg_pix': 64, 'other_axis': False}, 'use_skyflats': True, 'nircam_edge': 8})\n",
      "\n",
      "ENV CRDS_CONTEXT = jwst_0995.pmap\n",
      "OTELESCO = TELESCOP JWST\n",
      "OINSTRUM = INSTRUME NIRCAM\n",
      "ODETECTO = DETECTOR NRCBLONG\n",
      "OFILTER = FILTER F444W\n",
      "OPUPIL = PUPIL CLEAR\n",
      "OEXP_TYP = EXP_TYPE NRC_IMAGE\n",
      "PFLTFILE = /tmp/crds_cache/references/jwst/nircam/jwst_nircam_flat_0584.fits\n",
      "Clip MAXDQBIT = 14\n",
      "initialize_jwst_image: Mask outer ring of 8 pixels for NRCBLONG\n",
      "exposure_oneoverf_correction: jw02514197001_02201_00002_nrcblong_rate.fits axis=1 deg_pix=64\n",
      "exposure_oneoverf_correction: jw02514197001_02201_00002_nrcblong_rate.fits apply to file\n",
      "ENV CRDS_CONTEXT = jwst_0995.pmap\n",
      "jwst.flatfield.FlatFieldStep: /tmp/crds_cache/references/jwst/nircam/jwst_nircam_flat_0584.fits\n",
      "jwst.flatfield.PhotomStep: /tmp/crds_cache/references/jwst/nircam/jwst_nircam_photom_0114.fits\n",
      "jwst_utils.get_jwst_skyflat: /usr/local/python/3.10.8/lib/python3.10/site-packages/grizli/data/CONF/NircamSkyFlat/nrcblong-f444w-clear_skyflat_smooth.fits not found\n",
      "ENV CRDS_CONTEXT = jwst_0995.pmap\n",
      "jwst.assign_wcs.AssignWcsStep: /tmp/crds_cache/references/jwst/nircam/jwst_nircam_distortion_0148.asdf\n",
      "# (2023-08-15 08:58:44.220)\n",
      "\n",
      "jwst_utils.pipeline_model_wcs_header(**{'datamodel': <ImageModel(2048, 2048) from jw02514197001_02201_00002_nrcblong_rate.fits>, 'step': 64, 'degrees': [3, 4, 5, 5], 'lsq_args': {'jac': '2-point', 'bounds': (-inf, inf), 'method': 'trf', 'ftol': 1e-12, 'xtol': 1e-12, 'gtol': 1e-12, 'x_scale': 1.0, 'loss': 'soft_l1', 'f_scale': 1000.0, 'diff_step': 1e-06, 'tr_solver': None, 'tr_options': {}, 'jac_sparsity': None, 'max_nfev': 100, 'verbose': 0, 'kwargs': {}}, 'crpix': None, 'verbose': True, 'initial_header': None, 'max_rms': 0.0001, 'set_diff_step': False, 'get_guess': False, 'fast_coeffs': True})\n",
      "\n",
      "Fit SIP degree=3 rms= 6.30e-03, 4.83e-03 pix\n",
      "Fit SIP degree=4 rms= 4.54e-03, 4.26e-03 pix\n",
      "Fit SIP degree=5 rms= 3.54e-04, 3.54e-04 pix\n",
      "Fit SIP degree=5 rms= 3.54e-04, 3.54e-04 pix\n",
      "# photometry keywords\n",
      "PHOTFNU = 9.3313e-08\n",
      "PHOTPLAM = 44036.7\n",
      "PHOTFLAM = 1.4387e-21\n",
      "ZP = 26.48\n",
      "TO_MJYSR = 1.000\n",
      "\n",
      "# prep.apply_region_mask_from_db: query failed\n",
      "# (2023-08-15 08:58:50.690)\n",
      "\n",
      "jwst_utils.set_jwst_to_hst_keywords(**{'input': 'jw02514197001_02201_00002_nrcblong_rate.fits', 'reset': False, 'verbose': True, 'orig_keys': ['TELESCOP', 'INSTRUME', 'DETECTOR', 'FILTER', 'PUPIL', 'EXP_TYPE', 'GRATING']})\n",
      "\n",
      "  Set: TELESCOP > HST\n",
      "  Set: INSTRUME > WFC3\n",
      "  Set: DETECTOR > IR\n",
      "# ../RAW/jw02514197001_02201_00003_nrcblong_rate.fits -> jw02514197001_02201_00003_nrcblong_rate.fits \n",
      "# (2023-08-15 08:58:50.862)\n",
      "\n",
      "jwst_utils.initialize_jwst_image(**{'filename': 'jw02514197001_02201_00003_nrcblong_rate.fits', 'verbose': True, 'max_dq_bit': 14, 'orig_keys': ['TELESCOP', 'INSTRUME', 'DETECTOR', 'FILTER', 'PUPIL', 'EXP_TYPE', 'GRATING'], 'oneoverf_correction': True, 'oneoverf_kwargs': {'thresholds': [5, 4, 3], 'dilate_iterations': 3, 'deg_pix': 64, 'other_axis': False}, 'use_skyflats': True, 'nircam_edge': 8})\n",
      "\n",
      "ENV CRDS_CONTEXT = jwst_0995.pmap\n",
      "OTELESCO = TELESCOP JWST\n",
      "OINSTRUM = INSTRUME NIRCAM\n",
      "ODETECTO = DETECTOR NRCBLONG\n",
      "OFILTER = FILTER F444W\n",
      "OPUPIL = PUPIL CLEAR\n",
      "OEXP_TYP = EXP_TYPE NRC_IMAGE\n",
      "PFLTFILE = /tmp/crds_cache/references/jwst/nircam/jwst_nircam_flat_0584.fits\n",
      "Clip MAXDQBIT = 14\n",
      "initialize_jwst_image: Mask outer ring of 8 pixels for NRCBLONG\n",
      "exposure_oneoverf_correction: jw02514197001_02201_00003_nrcblong_rate.fits axis=1 deg_pix=64\n",
      "exposure_oneoverf_correction: jw02514197001_02201_00003_nrcblong_rate.fits apply to file\n",
      "ENV CRDS_CONTEXT = jwst_0995.pmap\n",
      "jwst.flatfield.FlatFieldStep: /tmp/crds_cache/references/jwst/nircam/jwst_nircam_flat_0584.fits\n",
      "jwst.flatfield.PhotomStep: /tmp/crds_cache/references/jwst/nircam/jwst_nircam_photom_0114.fits\n",
      "jwst_utils.get_jwst_skyflat: /usr/local/python/3.10.8/lib/python3.10/site-packages/grizli/data/CONF/NircamSkyFlat/nrcblong-f444w-clear_skyflat_smooth.fits not found\n",
      "ENV CRDS_CONTEXT = jwst_0995.pmap\n",
      "jwst.assign_wcs.AssignWcsStep: /tmp/crds_cache/references/jwst/nircam/jwst_nircam_distortion_0148.asdf\n",
      "# (2023-08-15 08:58:55.577)\n",
      "\n",
      "jwst_utils.pipeline_model_wcs_header(**{'datamodel': <ImageModel(2048, 2048) from jw02514197001_02201_00003_nrcblong_rate.fits>, 'step': 64, 'degrees': [3, 4, 5, 5], 'lsq_args': {'jac': '2-point', 'bounds': (-inf, inf), 'method': 'trf', 'ftol': 1e-12, 'xtol': 1e-12, 'gtol': 1e-12, 'x_scale': 1.0, 'loss': 'soft_l1', 'f_scale': 1000.0, 'diff_step': 1e-06, 'tr_solver': None, 'tr_options': {}, 'jac_sparsity': None, 'max_nfev': 100, 'verbose': 0, 'kwargs': {}}, 'crpix': None, 'verbose': True, 'initial_header': None, 'max_rms': 0.0001, 'set_diff_step': False, 'get_guess': False, 'fast_coeffs': True})\n",
      "\n",
      "Fit SIP degree=3 rms= 6.30e-03, 4.83e-03 pix\n",
      "Fit SIP degree=4 rms= 4.55e-03, 4.25e-03 pix\n",
      "Fit SIP degree=5 rms= 3.53e-04, 3.54e-04 pix\n",
      "Fit SIP degree=5 rms= 3.53e-04, 3.54e-04 pix\n",
      "# photometry keywords\n",
      "PHOTFNU = 9.3313e-08\n",
      "PHOTPLAM = 44036.7\n",
      "PHOTFLAM = 1.4387e-21\n",
      "ZP = 26.48\n",
      "TO_MJYSR = 1.000\n",
      "\n",
      "# prep.apply_region_mask_from_db: query failed\n",
      "# (2023-08-15 08:59:01.776)\n",
      "\n",
      "jwst_utils.set_jwst_to_hst_keywords(**{'input': 'jw02514197001_02201_00003_nrcblong_rate.fits', 'reset': False, 'verbose': True, 'orig_keys': ['TELESCOP', 'INSTRUME', 'DETECTOR', 'FILTER', 'PUPIL', 'EXP_TYPE', 'GRATING']})\n",
      "\n",
      "  Set: TELESCOP > HST\n",
      "  Set: INSTRUME > WFC3\n",
      "  Set: DETECTOR > IR\n",
      "# ../RAW/jw02514197001_02201_00004_nrcblong_rate.fits -> jw02514197001_02201_00004_nrcblong_rate.fits \n",
      "# (2023-08-15 08:59:01.939)\n",
      "\n",
      "jwst_utils.initialize_jwst_image(**{'filename': 'jw02514197001_02201_00004_nrcblong_rate.fits', 'verbose': True, 'max_dq_bit': 14, 'orig_keys': ['TELESCOP', 'INSTRUME', 'DETECTOR', 'FILTER', 'PUPIL', 'EXP_TYPE', 'GRATING'], 'oneoverf_correction': True, 'oneoverf_kwargs': {'thresholds': [5, 4, 3], 'dilate_iterations': 3, 'deg_pix': 64, 'other_axis': False}, 'use_skyflats': True, 'nircam_edge': 8})\n",
      "\n",
      "ENV CRDS_CONTEXT = jwst_0995.pmap\n",
      "OTELESCO = TELESCOP JWST\n",
      "OINSTRUM = INSTRUME NIRCAM\n",
      "ODETECTO = DETECTOR NRCBLONG\n",
      "OFILTER = FILTER F444W\n",
      "OPUPIL = PUPIL CLEAR\n",
      "OEXP_TYP = EXP_TYPE NRC_IMAGE\n",
      "PFLTFILE = /tmp/crds_cache/references/jwst/nircam/jwst_nircam_flat_0584.fits\n",
      "Clip MAXDQBIT = 14\n",
      "initialize_jwst_image: Mask outer ring of 8 pixels for NRCBLONG\n",
      "exposure_oneoverf_correction: jw02514197001_02201_00004_nrcblong_rate.fits axis=1 deg_pix=64\n",
      "exposure_oneoverf_correction: jw02514197001_02201_00004_nrcblong_rate.fits apply to file\n",
      "ENV CRDS_CONTEXT = jwst_0995.pmap\n",
      "jwst.flatfield.FlatFieldStep: /tmp/crds_cache/references/jwst/nircam/jwst_nircam_flat_0584.fits\n",
      "jwst.flatfield.PhotomStep: /tmp/crds_cache/references/jwst/nircam/jwst_nircam_photom_0114.fits\n",
      "jwst_utils.get_jwst_skyflat: /usr/local/python/3.10.8/lib/python3.10/site-packages/grizli/data/CONF/NircamSkyFlat/nrcblong-f444w-clear_skyflat_smooth.fits not found\n",
      "ENV CRDS_CONTEXT = jwst_0995.pmap\n",
      "jwst.assign_wcs.AssignWcsStep: /tmp/crds_cache/references/jwst/nircam/jwst_nircam_distortion_0148.asdf\n",
      "# (2023-08-15 08:59:06.776)\n",
      "\n",
      "jwst_utils.pipeline_model_wcs_header(**{'datamodel': <ImageModel(2048, 2048) from jw02514197001_02201_00004_nrcblong_rate.fits>, 'step': 64, 'degrees': [3, 4, 5, 5], 'lsq_args': {'jac': '2-point', 'bounds': (-inf, inf), 'method': 'trf', 'ftol': 1e-12, 'xtol': 1e-12, 'gtol': 1e-12, 'x_scale': 1.0, 'loss': 'soft_l1', 'f_scale': 1000.0, 'diff_step': 1e-06, 'tr_solver': None, 'tr_options': {}, 'jac_sparsity': None, 'max_nfev': 100, 'verbose': 0, 'kwargs': {}}, 'crpix': None, 'verbose': True, 'initial_header': None, 'max_rms': 0.0001, 'set_diff_step': False, 'get_guess': False, 'fast_coeffs': True})\n",
      "\n",
      "Fit SIP degree=3 rms= 6.30e-03, 4.83e-03 pix\n",
      "Fit SIP degree=4 rms= 4.55e-03, 4.25e-03 pix\n",
      "Fit SIP degree=5 rms= 3.54e-04, 3.54e-04 pix\n",
      "Fit SIP degree=5 rms= 3.54e-04, 3.54e-04 pix\n",
      "# photometry keywords\n",
      "PHOTFNU = 9.3313e-08\n",
      "PHOTPLAM = 44036.7\n",
      "PHOTFLAM = 1.4387e-21\n",
      "ZP = 26.48\n",
      "TO_MJYSR = 1.000\n",
      "\n",
      "# prep.apply_region_mask_from_db: query failed\n",
      "# (2023-08-15 08:59:14.620)\n",
      "\n",
      "jwst_utils.set_jwst_to_hst_keywords(**{'input': 'jw02514197001_02201_00004_nrcblong_rate.fits', 'reset': False, 'verbose': True, 'orig_keys': ['TELESCOP', 'INSTRUME', 'DETECTOR', 'FILTER', 'PUPIL', 'EXP_TYPE', 'GRATING']})\n",
      "\n",
      "  Set: TELESCOP > HST\n",
      "  Set: INSTRUME > WFC3\n",
      "  Set: DETECTOR > IR\n",
      "# (2023-08-15 08:59:14.754)\n",
      "\n",
      "prep.mask_snowballs(**{'visit': {'files': ['jw02514197001_02201_00001_nrcblong_rate.fits', 'jw02514197001_02201_00002_nrcblong_rate.fits', 'jw02514197001_02201_00003_nrcblong_rate.fits', 'jw02514197001_02201_00004_nrcblong_rate.fits'], 'footprint': <POLYGON ((23.674 -15.577, 23.674 -15.577, 23.674 -15.577, 23.674 -15.577, 2...>, 'product': 'indef-02514-197-262.0-nrcb5-f444w-clear'}, 'snowball_erode': 4, 'snowball_dilate': 18, 'mask_bit': 1024, 'instruments': ['NIRCAM', 'NIRISS'], 'max_fraction': 0.3, 'unset4': False, 'kwargs': {}})\n",
      "\n",
      "Snowball mask: jw02514197001_02201_00001_nrcblong_rate.fits  N=  4(f=0.12%)\n",
      "Snowball mask: jw02514197001_02201_00002_nrcblong_rate.fits  N=  3(f=0.08%)\n",
      "Snowball mask: jw02514197001_02201_00003_nrcblong_rate.fits  N=  2(f=0.09%)\n",
      "Snowball mask: jw02514197001_02201_00004_nrcblong_rate.fits  N=  2(f=0.05%)\n",
      "# (2023-08-15 08:59:15.365)\n",
      "\n",
      "prep.tweak_align(**{'direct_group': {'files': ['jw02514197001_02201_00001_nrcblong_rate.fits', 'jw02514197001_02201_00002_nrcblong_rate.fits', 'jw02514197001_02201_00003_nrcblong_rate.fits', 'jw02514197001_02201_00004_nrcblong_rate.fits'], 'footprint': <POLYGON ((23.674 -15.577, 23.674 -15.577, 23.674 -15.577, 23.674 -15.577, 2...>, 'product': 'indef-02514-197-262.0-nrcb5-f444w-clear'}, 'grism_group': {}, 'max_dist': 100, 'n_min': 10, 'key': ' ', 'threshold': 3.0, 'drizzle': False, 'fit_order': -1, 'ref_exp': 0, 'flux_radius': [0.5, 5], 'master_radec': None, 'make_figures': True})\n",
      "\n",
      "### Tweak alignment (use_sewpy=False) \n",
      "# tw jw02514197001_02201_00001_nrcblong_rate.fits [-0.000,  0.000]  [ 0.000,  0.000] N=100 Ntot=250\n",
      "# tw jw02514197001_02201_00002_nrcblong_rate.fits [ 0.451, -1.171]  [ 0.015,  0.018] N=73 Ntot=247\n",
      "# tw jw02514197001_02201_00003_nrcblong_rate.fits [ 0.462,  1.740]  [ 0.014,  0.017] N=77 Ntot=254\n",
      "# tw jw02514197001_02201_00004_nrcblong_rate.fits [-0.195, -1.475]  [ 0.015,  0.015] N=74 Ntot=254\n",
      "# (2023-08-15 08:59:24.317)\n",
      "\n",
      "prep.find_direct_grism_pairs(**{'direct': {'files': ['jw02514197001_02201_00001_nrcblong_rate.fits', 'jw02514197001_02201_00002_nrcblong_rate.fits', 'jw02514197001_02201_00003_nrcblong_rate.fits', 'jw02514197001_02201_00004_nrcblong_rate.fits'], 'footprint': <POLYGON ((23.674 -15.577, 23.674 -15.577, 23.674 -15.577, 23.674 -15.577, 2...>, 'product': 'indef-02514-197-262.0-nrcb5-f444w-clear'}, 'grism': {}, 'check_pixel': [507, 507], 'toler': 0.1, 'key': ' ', 'same_visit': True, 'log': True})\n",
      "\n",
      "\n",
      "grism_matches = OrderedDict([('jw02514197001_02201_00001_nrcblong_rate.fits', []), ('jw02514197001_02201_00002_nrcblong_rate.fits', []), ('jw02514197001_02201_00003_nrcblong_rate.fits', []), ('jw02514197001_02201_00004_nrcblong_rate.fits', [])])\n",
      "\n",
      "# (2023-08-15 08:59:24.445)\n",
      "\n",
      "prep.apply_tweak_shifts(**{'wcs_ref': WCS Keywords\n",
      "\n",
      "Number of WCS axes: 2\n",
      "CTYPE : 'RA---TAN-SIP'  'DEC--TAN-SIP'  \n",
      "CRVAL : 23.690084616754827  -15.556071858342852  \n",
      "CRPIX : 1024.489  1024.662  \n",
      "CD1_1 CD1_2  : 2.45501527674372e-06  -1.7366324202985e-05  \n",
      "CD2_1 CD2_2  : -1.7287866138521e-05  -2.489891423366e-06  \n",
      "NAXIS : 2048  2048, 'shift_dict': OrderedDict([('jw02514197001_02201_00001_nrcblong_rate.fits', [-8.469669410260394e-12, 3.035438567167148e-11, 0.0, 1.0, 100, array([9.302698e-10, 6.511198e-10])]), ('jw02514197001_02201_00002_nrcblong_rate.fits', [0.45140649545851375, -1.1714451558677865, 0.0, 1.0, 73, array([0.015374, 0.018154])]), ('jw02514197001_02201_00003_nrcblong_rate.fits', [0.461880426620894, 1.7395858052377662, 0.0, 1.0, 77, array([0.014071, 0.016578])]), ('jw02514197001_02201_00004_nrcblong_rate.fits', [-0.1948128342111204, -1.4745032180996418, 0.0, 1.0, 74, array([0.014799, 0.01517 ])])]), 'grism_matches': OrderedDict([('jw02514197001_02201_00001_nrcblong_rate.fits', []), ('jw02514197001_02201_00002_nrcblong_rate.fits', []), ('jw02514197001_02201_00003_nrcblong_rate.fits', []), ('jw02514197001_02201_00004_nrcblong_rate.fits', [])]), 'verbose': False, 'log': True})\n",
      "\n",
      "# (2023-08-15 08:59:25.012)\n",
      "\n",
      "jwst_utils.set_jwst_to_hst_keywords(**{'input': 'jw02514197001_02201_00001_nrcblong_rate.fits', 'reset': True, 'verbose': True, 'orig_keys': ['TELESCOP', 'INSTRUME', 'DETECTOR', 'FILTER', 'PUPIL', 'EXP_TYPE', 'GRATING']})\n",
      "\n",
      "Reset: TELESCOP > JWST (OTELESCO)\n",
      "Reset: INSTRUME > NIRCAM (OINSTRUM)\n",
      "Reset: DETECTOR > NRCBLONG (ODETECTO)\n",
      "Reset: FILTER > F444W (OFILTER)\n",
      "Reset: PUPIL > CLEAR (OPUPIL)\n",
      "Reset: EXP_TYPE > NRC_IMAGE (OEXP_TYP)\n",
      "# (2023-08-15 08:59:25.117)\n",
      "\n",
      "jwst_utils.set_jwst_to_hst_keywords(**{'input': 'jw02514197001_02201_00002_nrcblong_rate.fits', 'reset': True, 'verbose': True, 'orig_keys': ['TELESCOP', 'INSTRUME', 'DETECTOR', 'FILTER', 'PUPIL', 'EXP_TYPE', 'GRATING']})\n",
      "\n",
      "Reset: TELESCOP > JWST (OTELESCO)\n",
      "Reset: INSTRUME > NIRCAM (OINSTRUM)\n",
      "Reset: DETECTOR > NRCBLONG (ODETECTO)\n",
      "Reset: FILTER > F444W (OFILTER)\n",
      "Reset: PUPIL > CLEAR (OPUPIL)\n",
      "Reset: EXP_TYPE > NRC_IMAGE (OEXP_TYP)\n",
      "# (2023-08-15 08:59:25.222)\n",
      "\n",
      "jwst_utils.set_jwst_to_hst_keywords(**{'input': 'jw02514197001_02201_00003_nrcblong_rate.fits', 'reset': True, 'verbose': True, 'orig_keys': ['TELESCOP', 'INSTRUME', 'DETECTOR', 'FILTER', 'PUPIL', 'EXP_TYPE', 'GRATING']})\n",
      "\n",
      "Reset: TELESCOP > JWST (OTELESCO)\n",
      "Reset: INSTRUME > NIRCAM (OINSTRUM)\n",
      "Reset: DETECTOR > NRCBLONG (ODETECTO)\n",
      "Reset: FILTER > F444W (OFILTER)\n",
      "Reset: PUPIL > CLEAR (OPUPIL)\n",
      "Reset: EXP_TYPE > NRC_IMAGE (OEXP_TYP)\n",
      "# (2023-08-15 08:59:25.317)\n",
      "\n",
      "jwst_utils.set_jwst_to_hst_keywords(**{'input': 'jw02514197001_02201_00004_nrcblong_rate.fits', 'reset': True, 'verbose': True, 'orig_keys': ['TELESCOP', 'INSTRUME', 'DETECTOR', 'FILTER', 'PUPIL', 'EXP_TYPE', 'GRATING']})\n",
      "\n",
      "Reset: TELESCOP > JWST (OTELESCO)\n",
      "Reset: INSTRUME > NIRCAM (OINSTRUM)\n",
      "Reset: DETECTOR > NRCBLONG (ODETECTO)\n",
      "Reset: FILTER > F444W (OFILTER)\n",
      "Reset: PUPIL > CLEAR (OPUPIL)\n",
      "Reset: EXP_TYPE > NRC_IMAGE (OEXP_TYP)\n",
      "# iterate_tweak_align: make copies to ./TweakBackup\n",
      "# prep.iterate_tweak_align: iteration 0\n",
      "# prep.apply_region_mask_from_db: query failed\n",
      "# prep.apply_region_mask_from_db: query failed\n",
      "# prep.apply_region_mask_from_db: query failed\n",
      "# prep.apply_region_mask_from_db: query failed\n",
      "297\n",
      "# (2023-08-15 08:59:34.766)\n",
      "\n",
      "prep.tweak_align(**{'direct_group': {'files': ['jw02514197001_02201_00001_nrcblong_rate.fits', 'jw02514197001_02201_00002_nrcblong_rate.fits', 'jw02514197001_02201_00003_nrcblong_rate.fits', 'jw02514197001_02201_00004_nrcblong_rate.fits'], 'footprint': <POLYGON ((23.674 -15.577, 23.674 -15.577, 23.674 -15.577, 23.674 -15.577, 2...>, 'product': 'indef-02514-197-262.0-nrcb5-f444w-clear'}, 'grism_group': {}, 'max_dist': 100, 'n_min': 10, 'key': ' ', 'threshold': 3.0, 'drizzle': False, 'fit_order': -1, 'ref_exp': 0, 'flux_radius': [0.5, 5], 'master_radec': 'tweak_indef-02514-197-262.0-nrcb5-f444w-clear_0.radec', 'make_figures': True})\n",
      "\n",
      "### Tweak alignment (use_sewpy=False) \n",
      "### reference sources from tweak_indef-02514-197-262.0-nrcb5-f444w-clear_0.radec\n",
      "# tw jw02514197001_02201_00001_nrcblong_rate.fits [ 0.001,  0.003]  [ 0.011,  0.015] N=89 Ntot=250\n",
      "# tw jw02514197001_02201_00002_nrcblong_rate.fits [ 0.006,  0.000]  [ 0.011,  0.015] N=87 Ntot=247\n",
      "# tw jw02514197001_02201_00003_nrcblong_rate.fits [-0.001,  0.003]  [ 0.009,  0.011] N=90 Ntot=254\n",
      "# tw jw02514197001_02201_00004_nrcblong_rate.fits [-0.003, -0.001]  [ 0.010,  0.012] N=87 Ntot=254\n",
      "# (2023-08-15 08:59:49.816)\n",
      "\n",
      "prep.find_direct_grism_pairs(**{'direct': {'files': ['jw02514197001_02201_00001_nrcblong_rate.fits', 'jw02514197001_02201_00002_nrcblong_rate.fits', 'jw02514197001_02201_00003_nrcblong_rate.fits', 'jw02514197001_02201_00004_nrcblong_rate.fits'], 'footprint': <POLYGON ((23.674 -15.577, 23.674 -15.577, 23.674 -15.577, 23.674 -15.577, 2...>, 'product': 'indef-02514-197-262.0-nrcb5-f444w-clear'}, 'grism': {}, 'check_pixel': [507, 507], 'toler': 0.1, 'key': ' ', 'same_visit': True, 'log': True})\n",
      "\n",
      "\n",
      "grism_matches = OrderedDict([('jw02514197001_02201_00001_nrcblong_rate.fits', []), ('jw02514197001_02201_00002_nrcblong_rate.fits', []), ('jw02514197001_02201_00003_nrcblong_rate.fits', []), ('jw02514197001_02201_00004_nrcblong_rate.fits', [])])\n",
      "\n",
      "# (2023-08-15 08:59:49.959)\n",
      "\n",
      "prep.apply_tweak_shifts(**{'wcs_ref': WCS Keywords\n",
      "\n",
      "Number of WCS axes: 2\n",
      "CTYPE : 'RA---TAN-SIP'  'DEC--TAN-SIP'  \n",
      "CRVAL : 23.690084616755  -15.556071858343  \n",
      "CRPIX : 1024.489  1024.662  \n",
      "CD1_1 CD1_2  : 2.4550152769986e-06  -1.7366324198306e-05  \n",
      "CD2_1 CD2_2  : -1.7287866139427e-05  -2.4898914237269e-06  \n",
      "NAXIS : 2048  2048, 'shift_dict': OrderedDict([('jw02514197001_02201_00001_nrcblong_rate.fits', [0.0008101435271328228, 0.002514836782893326, 0.0, 1.0, 89, array([0.011182, 0.015037])]), ('jw02514197001_02201_00002_nrcblong_rate.fits', [0.005947561711025173, 0.00038526891626133875, 0.0, 1.0, 87, array([0.011339, 0.014527])]), ('jw02514197001_02201_00003_nrcblong_rate.fits', [-0.0006878606258737818, 0.0027396091992955007, 0.0, 1.0, 90, array([0.009137, 0.011396])]), ('jw02514197001_02201_00004_nrcblong_rate.fits', [-0.0028626792203567675, -0.001295743642913294, 0.0, 1.0, 87, array([0.010056, 0.012206])])]), 'grism_matches': OrderedDict([('jw02514197001_02201_00001_nrcblong_rate.fits', []), ('jw02514197001_02201_00002_nrcblong_rate.fits', []), ('jw02514197001_02201_00003_nrcblong_rate.fits', []), ('jw02514197001_02201_00004_nrcblong_rate.fits', [])]), 'verbose': False, 'log': True})\n",
      "\n",
      "# prep.iterate_tweak_align: iteration 1\n",
      "# prep.apply_region_mask_from_db: query failed\n",
      "# prep.apply_region_mask_from_db: query failed\n",
      "# prep.apply_region_mask_from_db: query failed\n",
      "# prep.apply_region_mask_from_db: query failed\n",
      "297\n",
      "# (2023-08-15 08:59:58.922)\n",
      "\n",
      "prep.tweak_align(**{'direct_group': {'files': ['jw02514197001_02201_00001_nrcblong_rate.fits', 'jw02514197001_02201_00002_nrcblong_rate.fits', 'jw02514197001_02201_00003_nrcblong_rate.fits', 'jw02514197001_02201_00004_nrcblong_rate.fits'], 'footprint': <POLYGON ((23.674 -15.577, 23.674 -15.577, 23.674 -15.577, 23.674 -15.577, 2...>, 'product': 'indef-02514-197-262.0-nrcb5-f444w-clear'}, 'grism_group': {}, 'max_dist': 100, 'n_min': 10, 'key': ' ', 'threshold': 3.0, 'drizzle': False, 'fit_order': -1, 'ref_exp': 0, 'flux_radius': [0.5, 5], 'master_radec': 'tweak_indef-02514-197-262.0-nrcb5-f444w-clear_1.radec', 'make_figures': True})\n",
      "\n",
      "### Tweak alignment (use_sewpy=False) \n",
      "### reference sources from tweak_indef-02514-197-262.0-nrcb5-f444w-clear_1.radec\n",
      "# tw jw02514197001_02201_00001_nrcblong_rate.fits [ 0.001,  0.005]  [ 0.011,  0.015] N=89 Ntot=250\n",
      "# tw jw02514197001_02201_00002_nrcblong_rate.fits [ 0.005,  0.001]  [ 0.011,  0.015] N=87 Ntot=247\n",
      "# tw jw02514197001_02201_00003_nrcblong_rate.fits [ 0.000,  0.005]  [ 0.009,  0.011] N=90 Ntot=254\n",
      "# tw jw02514197001_02201_00004_nrcblong_rate.fits [-0.002, -0.002]  [ 0.010,  0.012] N=87 Ntot=254\n",
      "# (2023-08-15 09:00:14.508)\n",
      "\n",
      "prep.find_direct_grism_pairs(**{'direct': {'files': ['jw02514197001_02201_00001_nrcblong_rate.fits', 'jw02514197001_02201_00002_nrcblong_rate.fits', 'jw02514197001_02201_00003_nrcblong_rate.fits', 'jw02514197001_02201_00004_nrcblong_rate.fits'], 'footprint': <POLYGON ((23.674 -15.577, 23.674 -15.577, 23.674 -15.577, 23.674 -15.577, 2...>, 'product': 'indef-02514-197-262.0-nrcb5-f444w-clear'}, 'grism': {}, 'check_pixel': [507, 507], 'toler': 0.1, 'key': ' ', 'same_visit': True, 'log': True})\n",
      "\n",
      "\n",
      "grism_matches = OrderedDict([('jw02514197001_02201_00001_nrcblong_rate.fits', []), ('jw02514197001_02201_00002_nrcblong_rate.fits', []), ('jw02514197001_02201_00003_nrcblong_rate.fits', []), ('jw02514197001_02201_00004_nrcblong_rate.fits', [])])\n",
      "\n",
      "# (2023-08-15 09:00:14.651)\n",
      "\n",
      "prep.apply_tweak_shifts(**{'wcs_ref': WCS Keywords\n",
      "\n",
      "Number of WCS axes: 2\n",
      "CTYPE : 'RA---TAN-SIP'  'DEC--TAN-SIP'  \n",
      "CRVAL : 23.690084616755  -15.556071858343  \n",
      "CRPIX : 1024.489  1024.662  \n",
      "CD1_1 CD1_2  : 2.4550152769986e-06  -1.7366324198306e-05  \n",
      "CD2_1 CD2_2  : -1.7287866139427e-05  -2.4898914237269e-06  \n",
      "NAXIS : 2048  2048, 'shift_dict': OrderedDict([('jw02514197001_02201_00001_nrcblong_rate.fits', [0.001296613567546956, 0.005344038019757136, 0.0, 1.0, 89, array([0.01116 , 0.015055])]), ('jw02514197001_02201_00002_nrcblong_rate.fits', [0.00518963750232615, 0.0010140792753645655, 0.0, 1.0, 87, array([0.011231, 0.014525])]), ('jw02514197001_02201_00003_nrcblong_rate.fits', [0.00016147977696334692, 0.005104129024061876, 0.0, 1.0, 90, array([0.009163, 0.011394])]), ('jw02514197001_02201_00004_nrcblong_rate.fits', [-0.0021680851041310234, -0.0024993173153688986, 0.0, 1.0, 87, array([0.009915, 0.01217 ])])]), 'grism_matches': OrderedDict([('jw02514197001_02201_00001_nrcblong_rate.fits', []), ('jw02514197001_02201_00002_nrcblong_rate.fits', []), ('jw02514197001_02201_00003_nrcblong_rate.fits', []), ('jw02514197001_02201_00004_nrcblong_rate.fits', [])]), 'verbose': False, 'log': True})\n",
      "\n",
      "# iterate_tweak_align: remove ./TweakBackup\n",
      "# remove tweak_indef-02514-197-262.0-nrcb5-f444w-clear_1.radec\n",
      "# remove tweak_indef-02514-197-262.0-nrcb5-f444w-clear_0_wcs.csv\n",
      "# remove tweak_indef-02514-197-262.0-nrcb5-f444w-clear_0.cat.fits\n",
      "# remove tweak_indef-02514-197-262.0-nrcb5-f444w-clear_0_fp.png\n",
      "# remove tweak_indef-02514-197-262.0-nrcb5-f444w-clear_1_wcs.csv\n",
      "# remove tweak_indef-02514-197-262.0-nrcb5-f444w-clear_1.cat.fits\n",
      "# remove tweak_indef-02514-197-262.0-nrcb5-f444w-clear_0_bkg.fits\n",
      "# remove tweak_indef-02514-197-262.0-nrcb5-f444w-clear_1_fp.png\n",
      "# remove tweak_indef-02514-197-262.0-nrcb5-f444w-clear_1.log.txt\n",
      "# remove tweak_indef-02514-197-262.0-nrcb5-f444w-clear_0_drc_wht.fits\n",
      "# remove tweak_indef-02514-197-262.0-nrcb5-f444w-clear_0.radec\n",
      "# remove tweak_indef-02514-197-262.0-nrcb5-f444w-clear_1_bkg.fits\n",
      "# remove tweak_indef-02514-197-262.0-nrcb5-f444w-clear_0_drc_sci.fits\n",
      "# remove tweak_indef-02514-197-262.0-nrcb5-f444w-clear_0_seg.fits\n",
      "# remove tweak_indef-02514-197-262.0-nrcb5-f444w-clear_1_seg.fits\n",
      "# remove tweak_indef-02514-197-262.0-nrcb5-f444w-clear_1_drc_wht.fits\n",
      "# remove tweak_indef-02514-197-262.0-nrcb5-f444w-clear_0.log.txt\n",
      "# remove tweak_indef-02514-197-262.0-nrcb5-f444w-clear_1_drc_sci.fits\n",
      "# (2023-08-15 09:00:15.150)\n",
      "\n",
      "jwst_utils.set_jwst_to_hst_keywords(**{'input': 'jw02514197001_02201_00001_nrcblong_rate.fits', 'reset': False, 'verbose': True, 'orig_keys': ['TELESCOP', 'INSTRUME', 'DETECTOR', 'FILTER', 'PUPIL', 'EXP_TYPE', 'GRATING']})\n",
      "\n",
      "  Set: TELESCOP > HST\n",
      "  Set: INSTRUME > WFC3\n",
      "  Set: DETECTOR > IR\n",
      "# (2023-08-15 09:00:15.259)\n",
      "\n",
      "jwst_utils.set_jwst_to_hst_keywords(**{'input': 'jw02514197001_02201_00002_nrcblong_rate.fits', 'reset': False, 'verbose': True, 'orig_keys': ['TELESCOP', 'INSTRUME', 'DETECTOR', 'FILTER', 'PUPIL', 'EXP_TYPE', 'GRATING']})\n",
      "\n",
      "  Set: TELESCOP > HST\n",
      "  Set: INSTRUME > WFC3\n",
      "  Set: DETECTOR > IR\n",
      "# (2023-08-15 09:00:15.362)\n",
      "\n",
      "jwst_utils.set_jwst_to_hst_keywords(**{'input': 'jw02514197001_02201_00003_nrcblong_rate.fits', 'reset': False, 'verbose': True, 'orig_keys': ['TELESCOP', 'INSTRUME', 'DETECTOR', 'FILTER', 'PUPIL', 'EXP_TYPE', 'GRATING']})\n",
      "\n",
      "  Set: TELESCOP > HST\n",
      "  Set: INSTRUME > WFC3\n",
      "  Set: DETECTOR > IR\n",
      "# (2023-08-15 09:00:15.466)\n",
      "\n",
      "jwst_utils.set_jwst_to_hst_keywords(**{'input': 'jw02514197001_02201_00004_nrcblong_rate.fits', 'reset': False, 'verbose': True, 'orig_keys': ['TELESCOP', 'INSTRUME', 'DETECTOR', 'FILTER', 'PUPIL', 'EXP_TYPE', 'GRATING']})\n",
      "\n",
      "  Set: TELESCOP > HST\n",
      "  Set: INSTRUME > WFC3\n",
      "  Set: DETECTOR > IR\n",
      "Query LegacySurveys (ls_dr9.tractor) catalog (23.690084709786,-15.556071822621,3.00)\n",
      "Launched query: 'SELECT TOP 1000000 * FROM ls_dr9.tractor WHERE ra > 23.664134099006056 AND ra < 23.716035320565943 AND dec > -15.581071822621 AND dec < -15.531071822621  AND flux_r*SQRT(flux_ivar_r) > 10'\n",
      "------>https\n",
      "host = datalab.noirlab.edu:443\n",
      "context = /tap/sync\n",
      "Content-type = application/x-www-form-urlencoded\n",
      "200 OK\n",
      "[('Date', 'Tue, 15 Aug 2023 09:00:16 GMT'), ('Server', 'Apache-Coyote/1.1'), ('Content-Disposition', 'attachment; filename=\"result_nzsz1nkcmcp8zbuh.xml\"'), ('Content-Type', 'application/x-votable+xml'), ('Connection', 'close'), ('Transfer-Encoding', 'chunked')]\n",
      "Retrieving sync. results...\n",
      "Saving results to: result_nzsz1nkcmcp8zbuh.xml\n",
      "Query finished.\n",
      "indef-02514-197-262.0-nrcb5-f444w-clear_ls_dr9.reg: x = ra, y=dec, ellipse=False\n",
      "indef-02514-197-262.0-nrcb5-f444w-clear - Reference RADEC: indef-02514-197-262.0-nrcb5-f444w-clear_ls_dr9.radec [LS_DR9] N=140\n",
      "# (2023-08-15 09:00:18.050)\n",
      "#  indef-02514-197-262.0-nrcb5-f444w-clear: First Drizzle\n"
     ]
    },
    {
     "name": "stderr",
     "output_type": "stream",
     "text": [
      "2023-08-15 09:00:19,350 - stpipe - WARNING - Static mask for file 'jw02514197001_02201_00001_nrcblong_rate.fits', ext=('SCI', 1) NOT FOUND.\n",
      "2023-08-15 09:00:19,370 - stpipe - WARNING - Static mask for file 'jw02514197001_02201_00002_nrcblong_rate.fits', ext=('SCI', 1) NOT FOUND.\n",
      "2023-08-15 09:00:19,390 - stpipe - WARNING - Static mask for file 'jw02514197001_02201_00003_nrcblong_rate.fits', ext=('SCI', 1) NOT FOUND.\n",
      "2023-08-15 09:00:19,412 - stpipe - WARNING - Static mask for file 'jw02514197001_02201_00004_nrcblong_rate.fits', ext=('SCI', 1) NOT FOUND.\n",
      "2023-08-15 09:00:21,050 - stpipe - INFO - Writing out image to disk: jw02514197001_02201_00002_nrcblong_rate_single_sci.fits\n"
     ]
    },
    {
     "name": "stdout",
     "output_type": "stream",
     "text": [
      "Writing out image to disk: jw02514197001_02201_00002_nrcblong_rate_single_sci.fits\n"
     ]
    },
    {
     "name": "stderr",
     "output_type": "stream",
     "text": [
      "2023-08-15 09:00:21,059 - stpipe - INFO - Writing out image to disk: jw02514197001_02201_00001_nrcblong_rate_single_sci.fits\n"
     ]
    },
    {
     "name": "stdout",
     "output_type": "stream",
     "text": [
      "Writing out image to disk: jw02514197001_02201_00001_nrcblong_rate_single_sci.fits\n"
     ]
    },
    {
     "name": "stderr",
     "output_type": "stream",
     "text": [
      "2023-08-15 09:00:21,079 - stpipe - INFO - Writing out image to disk: jw02514197001_02201_00003_nrcblong_rate_single_sci.fits\n"
     ]
    },
    {
     "name": "stdout",
     "output_type": "stream",
     "text": [
      "Writing out image to disk: jw02514197001_02201_00003_nrcblong_rate_single_sci.fits\n"
     ]
    },
    {
     "name": "stderr",
     "output_type": "stream",
     "text": [
      "2023-08-15 09:00:21,123 - stpipe - INFO - Writing out image to disk: jw02514197001_02201_00004_nrcblong_rate_single_sci.fits\n"
     ]
    },
    {
     "name": "stdout",
     "output_type": "stream",
     "text": [
      "Writing out image to disk: jw02514197001_02201_00004_nrcblong_rate_single_sci.fits\n"
     ]
    },
    {
     "name": "stderr",
     "output_type": "stream",
     "text": [
      "2023-08-15 09:00:21,156 - stpipe - INFO - Writing out image to disk: jw02514197001_02201_00002_nrcblong_rate_single_wht.fits\n",
      "2023-08-15 09:00:21,172 - stpipe - INFO - Writing out image to disk: jw02514197001_02201_00001_nrcblong_rate_single_wht.fits\n"
     ]
    },
    {
     "name": "stdout",
     "output_type": "stream",
     "text": [
      "Writing out image to disk: jw02514197001_02201_00002_nrcblong_rate_single_wht.fits\n",
      "Writing out image to disk: jw02514197001_02201_00001_nrcblong_rate_single_wht.fits\n"
     ]
    },
    {
     "name": "stderr",
     "output_type": "stream",
     "text": [
      "2023-08-15 09:00:21,194 - stpipe - INFO - Writing out image to disk: jw02514197001_02201_00003_nrcblong_rate_single_wht.fits\n"
     ]
    },
    {
     "name": "stdout",
     "output_type": "stream",
     "text": [
      "Writing out image to disk: jw02514197001_02201_00003_nrcblong_rate_single_wht.fits\n"
     ]
    },
    {
     "name": "stderr",
     "output_type": "stream",
     "text": [
      "2023-08-15 09:00:21,245 - stpipe - INFO - Writing out image to disk: jw02514197001_02201_00004_nrcblong_rate_single_wht.fits\n"
     ]
    },
    {
     "name": "stdout",
     "output_type": "stream",
     "text": [
      "Writing out image to disk: jw02514197001_02201_00004_nrcblong_rate_single_wht.fits\n"
     ]
    },
    {
     "name": "stderr",
     "output_type": "stream",
     "text": [
      "2023-08-15 09:00:26,339 - stpipe - WARNING - Cannot find flat field file 'jwst_nircam_flat_0584.fits'\n",
      "2023-08-15 09:00:26,341 - stpipe - WARNING - Treating flatfield as a constant value of '1'.\n",
      "2023-08-15 09:00:27,243 - stpipe - WARNING - Cannot find flat field file 'jwst_nircam_flat_0584.fits'\n",
      "2023-08-15 09:00:27,244 - stpipe - WARNING - Treating flatfield as a constant value of '1'.\n",
      "2023-08-15 09:00:28,123 - stpipe - WARNING - Cannot find flat field file 'jwst_nircam_flat_0584.fits'\n",
      "2023-08-15 09:00:28,124 - stpipe - WARNING - Treating flatfield as a constant value of '1'.\n",
      "2023-08-15 09:00:29,029 - stpipe - WARNING - Cannot find flat field file 'jwst_nircam_flat_0584.fits'\n",
      "2023-08-15 09:00:29,031 - stpipe - WARNING - Treating flatfield as a constant value of '1'.\n",
      "2023-08-15 09:00:30,737 - stpipe - INFO - Writing out image to disk: indef-02514-197-262.0-nrcb5-f444w-clear_drz_sci.fits\n"
     ]
    },
    {
     "name": "stdout",
     "output_type": "stream",
     "text": [
      "Writing out image to disk: indef-02514-197-262.0-nrcb5-f444w-clear_drz_sci.fits\n"
     ]
    },
    {
     "name": "stderr",
     "output_type": "stream",
     "text": [
      "2023-08-15 09:00:30,903 - stpipe - INFO - Writing out image to disk: indef-02514-197-262.0-nrcb5-f444w-clear_drz_wht.fits\n"
     ]
    },
    {
     "name": "stdout",
     "output_type": "stream",
     "text": [
      "Writing out image to disk: indef-02514-197-262.0-nrcb5-f444w-clear_drz_wht.fits\n"
     ]
    },
    {
     "name": "stderr",
     "output_type": "stream",
     "text": [
      "2023-08-15 09:00:30,934 - stpipe - INFO - ==== Processing Step Final Drizzle finished at 09:00:30.93 (15/08/2023)\n"
     ]
    },
    {
     "name": "stdout",
     "output_type": "stream",
     "text": [
      "==== Processing Step Final Drizzle finished at 09:00:30.93 (15/08/2023)\n"
     ]
    },
    {
     "name": "stderr",
     "output_type": "stream",
     "text": [
      "2023-08-15 09:00:30,936 - stpipe - INFO - \n"
     ]
    },
    {
     "name": "stdout",
     "output_type": "stream",
     "text": [
      "\n"
     ]
    },
    {
     "name": "stderr",
     "output_type": "stream",
     "text": [
      "2023-08-15 09:00:30,938 - stpipe - INFO - AstroDrizzle Version 3.6.1 is finished processing at 09:00:30.937 (15/08/2023).\n"
     ]
    },
    {
     "name": "stdout",
     "output_type": "stream",
     "text": [
      "AstroDrizzle Version 3.6.1 is finished processing at 09:00:30.937 (15/08/2023).\n"
     ]
    },
    {
     "name": "stderr",
     "output_type": "stream",
     "text": [
      "2023-08-15 09:00:30,940 - stpipe - INFO - \n"
     ]
    },
    {
     "name": "stdout",
     "output_type": "stream",
     "text": [
      "\n"
     ]
    },
    {
     "name": "stderr",
     "output_type": "stream",
     "text": [
      "2023-08-15 09:00:30,942 - stpipe - INFO - \n"
     ]
    },
    {
     "name": "stdout",
     "output_type": "stream",
     "text": [
      "\n"
     ]
    },
    {
     "name": "stderr",
     "output_type": "stream",
     "text": [
      "2023-08-15 09:00:30,944 - stpipe - INFO - \n"
     ]
    },
    {
     "name": "stdout",
     "output_type": "stream",
     "text": [
      "\n"
     ]
    },
    {
     "name": "stderr",
     "output_type": "stream",
     "text": [
      "2023-08-15 09:00:30,946 - stpipe - INFO -    --------------------          --------------------\n"
     ]
    },
    {
     "name": "stdout",
     "output_type": "stream",
     "text": [
      "   --------------------          --------------------\n"
     ]
    },
    {
     "name": "stderr",
     "output_type": "stream",
     "text": [
      "2023-08-15 09:00:30,948 - stpipe - INFO -                    Step          Elapsed time\n"
     ]
    },
    {
     "name": "stdout",
     "output_type": "stream",
     "text": [
      "                   Step          Elapsed time\n"
     ]
    },
    {
     "name": "stderr",
     "output_type": "stream",
     "text": [
      "2023-08-15 09:00:30,950 - stpipe - INFO -    --------------------          --------------------\n"
     ]
    },
    {
     "name": "stdout",
     "output_type": "stream",
     "text": [
      "   --------------------          --------------------\n"
     ]
    },
    {
     "name": "stderr",
     "output_type": "stream",
     "text": [
      "2023-08-15 09:00:30,954 - stpipe - INFO - \n"
     ]
    },
    {
     "name": "stdout",
     "output_type": "stream",
     "text": [
      "\n"
     ]
    },
    {
     "name": "stderr",
     "output_type": "stream",
     "text": [
      "2023-08-15 09:00:30,956 - stpipe - INFO -          Initialization          0.7656 sec.\n"
     ]
    },
    {
     "name": "stdout",
     "output_type": "stream",
     "text": [
      "         Initialization          0.7656 sec.\n"
     ]
    },
    {
     "name": "stderr",
     "output_type": "stream",
     "text": [
      "2023-08-15 09:00:30,958 - stpipe - INFO -             Static Mask          0.0005 sec.\n"
     ]
    },
    {
     "name": "stdout",
     "output_type": "stream",
     "text": [
      "            Static Mask          0.0005 sec.\n"
     ]
    },
    {
     "name": "stderr",
     "output_type": "stream",
     "text": [
      "2023-08-15 09:00:30,961 - stpipe - INFO -            Subtract Sky          1.0221 sec.\n"
     ]
    },
    {
     "name": "stdout",
     "output_type": "stream",
     "text": [
      "           Subtract Sky          1.0221 sec.\n"
     ]
    },
    {
     "name": "stderr",
     "output_type": "stream",
     "text": [
      "2023-08-15 09:00:30,963 - stpipe - INFO -        Separate Drizzle          1.0400 sec.\n"
     ]
    },
    {
     "name": "stdout",
     "output_type": "stream",
     "text": [
      "       Separate Drizzle          1.0400 sec.\n"
     ]
    },
    {
     "name": "stderr",
     "output_type": "stream",
     "text": [
      "2023-08-15 09:00:30,965 - stpipe - INFO -           Create Median          1.0973 sec.\n"
     ]
    },
    {
     "name": "stdout",
     "output_type": "stream",
     "text": [
      "          Create Median          1.0973 sec.\n"
     ]
    },
    {
     "name": "stderr",
     "output_type": "stream",
     "text": [
      "2023-08-15 09:00:30,968 - stpipe - INFO -                    Blot          2.5599 sec.\n"
     ]
    },
    {
     "name": "stdout",
     "output_type": "stream",
     "text": [
      "                   Blot          2.5599 sec.\n"
     ]
    },
    {
     "name": "stderr",
     "output_type": "stream",
     "text": [
      "2023-08-15 09:00:30,970 - stpipe - INFO -                 Driz_CR          1.1741 sec.\n"
     ]
    },
    {
     "name": "stdout",
     "output_type": "stream",
     "text": [
      "                Driz_CR          1.1741 sec.\n"
     ]
    },
    {
     "name": "stderr",
     "output_type": "stream",
     "text": [
      "2023-08-15 09:00:30,972 - stpipe - INFO -           Final Drizzle          4.6891 sec.\n"
     ]
    },
    {
     "name": "stdout",
     "output_type": "stream",
     "text": [
      "          Final Drizzle          4.6891 sec.\n"
     ]
    },
    {
     "name": "stderr",
     "output_type": "stream",
     "text": [
      "2023-08-15 09:00:30,975 - stpipe - INFO -    ====================          ====================\n"
     ]
    },
    {
     "name": "stdout",
     "output_type": "stream",
     "text": [
      "   ====================          ====================\n"
     ]
    },
    {
     "name": "stderr",
     "output_type": "stream",
     "text": [
      "2023-08-15 09:00:30,977 - stpipe - INFO -                   Total          12.3488 sec.\n"
     ]
    },
    {
     "name": "stdout",
     "output_type": "stream",
     "text": [
      "                  Total          12.3488 sec.\n"
     ]
    },
    {
     "name": "stderr",
     "output_type": "stream",
     "text": [
      "2023-08-15 09:00:30,980 - stpipe - INFO - \n"
     ]
    },
    {
     "name": "stdout",
     "output_type": "stream",
     "text": [
      "\n"
     ]
    },
    {
     "name": "stderr",
     "output_type": "stream",
     "text": [
      "2023-08-15 09:00:30,982 - stpipe - INFO - Removing intermediate files for jw02514197001_02201_00001_nrcblong_rate.fits\n",
      "2023-08-15 09:00:31,016 - stpipe - INFO - Removing intermediate files for jw02514197001_02201_00002_nrcblong_rate.fits\n",
      "2023-08-15 09:00:31,042 - stpipe - INFO - Removing intermediate files for jw02514197001_02201_00003_nrcblong_rate.fits\n",
      "2023-08-15 09:00:31,067 - stpipe - INFO - Removing intermediate files for jw02514197001_02201_00004_nrcblong_rate.fits\n",
      "2023-08-15 09:00:31,102 - stpipe - INFO - Trailer file written to:  astrodrizzle.log\n"
     ]
    },
    {
     "name": "stdout",
     "output_type": "stream",
     "text": [
      "Trailer file written to:  astrodrizzle.log\n",
      "make_SEP_catalog: sep version = 1.2.1\n",
      "# (2023-08-15 09:00:31.111)\n",
      "sep: Image AB zeropoint =  26.475\n",
      "# (2023-08-15 09:00:31.208)\n",
      "SEP: Get background {'bw': 32.0, 'bh': 32.0, 'fw': 3, 'fh': 3}\n",
      "SEP: err_scale=0.032\n",
      "   SEP: Extract...\n",
      "    Done.\n",
      "compute_SEP_auto_params: sep version = 1.2.1\n",
      "compute_SEP_auto_params: autoparams=[2.5, <Quantity 0.35 arcsec>, 2.4, 3.8]; pixel_scale=0.06300919574704972; subpix=0; flux_radii=[0.2, 0.5, 0.9]\n",
      "# SEP indef-02514-197-262.0-nrcb5-f444w-clear.cat.fits: 2239 objects\n",
      "# (2023-08-15 09:00:32.638)\n",
      "\n",
      "prep.align_drizzled_image(**{'root': 'indef-02514-197-262.0-nrcb5-f444w-clear', 'mag_limits': [14, 24, 0.05], 'radec': 'indef-02514-197-262.0-nrcb5-f444w-clear_ls_dr9.radec', 'NITER': 3, 'clip': 120, 'log': True, 'outlier_threshold': 4, 'verbose': True, 'guess': [0.0, 0.0, 0.0, 1], 'simple': False, 'rms_limit': 2, 'use_guess': False, 'triangle_size_limit': [5, 2400], 'max_sources': 200, 'triangle_ba_max': 0.9, 'max_err_percentile': 99, 'catalog_mask_pad': 0.05, 'min_flux_radius': 1.0, 'match_catalog_density': False, 'assume_close': False, 'ref_border': 100, 'transform': None})\n",
      "\n",
      "# wcs indef-02514-197-262.0-nrcb5-f444w-clear radec=\"indef-02514-197-262.0-nrcb5-f444w-clear_ls_dr9.radec\"; Ncat=95; Nref=89\n",
      "# wcs indef-02514-197-262.0-nrcb5-f444w-clear (guess)   :   0.00   0.00   0.000   1.000\n",
      "  tristars.match: Nin=54, Nout=74, match=25\n",
      "# wcs indef-02514-197-262.0-nrcb5-f444w-clear (0) 25:  -0.88   2.16   0.002   1.000\n",
      "  tristars.match: Nin=54, Nout=75, match=25\n",
      "# wcs indef-02514-197-262.0-nrcb5-f444w-clear (1) 25:   0.00   0.00   0.000   1.000\n",
      "  tristars.match: Nin=54, Nout=75, match=25\n",
      "# wcs indef-02514-197-262.0-nrcb5-f444w-clear (2) 25:  -0.00  -0.00   0.000   1.000\n",
      "Initialize indef-02514-197-262.0-nrcb5-f444w-clear_wcs.log\n",
      "\n",
      "....Updating header for 'jw02514197001_02201_00001_nrcblong_rate.fits' ...\n",
      "\n",
      "\n",
      "Processing jw02514197001_02201_00001_nrcblong_rate.fits['SCI',1]\n",
      "\n"
     ]
    },
    {
     "name": "stderr",
     "output_type": "stream",
     "text": [
      "2023-08-15 09:00:34,072 - stpipe - INFO -     with WCS of\n",
      "2023-08-15 09:00:34,229 - stpipe - INFO -     with WCS of\n"
     ]
    },
    {
     "name": "stdout",
     "output_type": "stream",
     "text": [
      "Updating header for jw02514197001_02201_00001_nrcblong_rate.fits[1]\n",
      "WCS Keywords\n",
      "\n",
      "CD_11  CD_12: 2.4556432302213667e-06 -1.7366233745182057e-05\n",
      "CD_21  CD_22: -1.728777696868702e-05 -2.4905222313525414e-06\n",
      "CRVAL    : 23.690125798488285 -15.556081694052711\n",
      "CRPIX    : 1024.489 1024.662\n",
      "NAXIS    : 2048 2048\n",
      "Plate Scale : 0.06286072310936532\n",
      "ORIENTAT : -98.16124188636857\n",
      "WCSNAME  :  LS_DR9\n",
      "\n",
      "....Updating header for 'jw02514197001_02201_00002_nrcblong_rate.fits' ...\n",
      "\n",
      "\n",
      "Processing jw02514197001_02201_00002_nrcblong_rate.fits['SCI',1]\n",
      "\n",
      "Updating header for jw02514197001_02201_00002_nrcblong_rate.fits[1]\n",
      "WCS Keywords\n",
      "\n",
      "CD_11  CD_12: 2.455715302545202e-06 -1.7366223318889144e-05\n",
      "CD_21  CD_22: -1.7287766683935155e-05 -2.490594631398311e-06\n",
      "CRVAL    : 23.690409982926543 -15.555520970481\n",
      "CRPIX    : 1024.489 1024.662\n",
      "NAXIS    : 2048 2048\n",
      "Plate Scale : 0.0628607229676568\n",
      "ORIENTAT : -98.1614807732537\n",
      "WCSNAME  :  LS_DR9\n"
     ]
    },
    {
     "name": "stderr",
     "output_type": "stream",
     "text": [
      "2023-08-15 09:00:34,379 - stpipe - INFO -     with WCS of\n"
     ]
    },
    {
     "name": "stdout",
     "output_type": "stream",
     "text": [
      "\n",
      "....Updating header for 'jw02514197001_02201_00003_nrcblong_rate.fits' ...\n",
      "\n",
      "\n",
      "Processing jw02514197001_02201_00003_nrcblong_rate.fits['SCI',1]\n",
      "\n",
      "Updating header for jw02514197001_02201_00003_nrcblong_rate.fits[1]\n",
      "WCS Keywords\n",
      "\n",
      "CD_11  CD_12: 2.4557033686278217e-06 -1.736622485238912e-05\n",
      "CD_21  CD_22: -1.728776817616281e-05 -2.490582642629104e-06\n",
      "CRVAL    : 23.69020399262284 -15.556000768024454\n",
      "CRPIX    : 1024.489 1024.662\n",
      "NAXIS    : 2048 2048\n",
      "Plate Scale : 0.06286072222557185\n",
      "ORIENTAT : -98.16144130530255\n",
      "WCSNAME  :  LS_DR9\n",
      "\n",
      "....Updating header for 'jw02514197001_02201_00004_nrcblong_rate.fits' ...\n",
      "\n",
      "\n",
      "Processing jw02514197001_02201_00004_nrcblong_rate.fits['SCI',1]\n",
      "\n"
     ]
    },
    {
     "name": "stderr",
     "output_type": "stream",
     "text": [
      "2023-08-15 09:00:34,519 - stpipe - INFO -     with WCS of\n",
      "2023-08-15 09:00:34,601 - stpipe - INFO - Setting up logfile :  astrodrizzle.log\n"
     ]
    },
    {
     "name": "stdout",
     "output_type": "stream",
     "text": [
      "Updating header for jw02514197001_02201_00004_nrcblong_rate.fits[1]\n",
      "WCS Keywords\n",
      "\n",
      "CD_11  CD_12: 2.455729425438583e-06 -1.7366221147512693e-05\n",
      "CD_21  CD_22: -1.7287764536328874e-05 -2.4906088186842797e-06\n",
      "CRVAL    : 23.690486420996113 -15.55544208935525\n",
      "CRPIX    : 1024.489 1024.662\n",
      "NAXIS    : 2048 2048\n",
      "Plate Scale : 0.06286072247019947\n",
      "ORIENTAT : -98.16152764425048\n",
      "WCSNAME  :  LS_DR9\n",
      "# (2023-08-15 09:00:34.579)\n",
      "# indef-02514-197-262.0-nrcb5-f444w-clear: Second Drizzle\n",
      "Setting up logfile :  astrodrizzle.log\n"
     ]
    },
    {
     "name": "stderr",
     "output_type": "stream",
     "text": [
      "2023-08-15 09:00:34,603 - stpipe - INFO - AstroDrizzle log file: astrodrizzle.log\n"
     ]
    },
    {
     "name": "stdout",
     "output_type": "stream",
     "text": [
      "AstroDrizzle log file: astrodrizzle.log\n"
     ]
    },
    {
     "name": "stderr",
     "output_type": "stream",
     "text": [
      "2023-08-15 09:00:34,605 - stpipe - INFO - AstroDrizzle Version 3.6.1 started at: 09:00:34.605 (15/08/2023)\n"
     ]
    },
    {
     "name": "stdout",
     "output_type": "stream",
     "text": [
      "AstroDrizzle Version 3.6.1 started at: 09:00:34.605 (15/08/2023)\n"
     ]
    },
    {
     "name": "stderr",
     "output_type": "stream",
     "text": [
      "2023-08-15 09:00:34,607 - stpipe - INFO - \n"
     ]
    },
    {
     "name": "stdout",
     "output_type": "stream",
     "text": [
      "\n"
     ]
    },
    {
     "name": "stderr",
     "output_type": "stream",
     "text": [
      "2023-08-15 09:00:34,608 - stpipe - INFO - Version Information\n",
      "2023-08-15 09:00:34,609 - stpipe - INFO - --------------------\n",
      "2023-08-15 09:00:34,610 - stpipe - INFO - Python Version 3.10.8 (main, Nov 16 2022, 17:55:27) [GCC 9.4.0]\n",
      "2023-08-15 09:00:34,611 - stpipe - INFO - numpy Version -> 1.24.4 \n",
      "2023-08-15 09:00:34,611 - stpipe - INFO - astropy Version -> 5.3.1 \n",
      "2023-08-15 09:00:34,612 - stpipe - INFO - stwcs Version -> 1.7.2 \n",
      "2023-08-15 09:00:34,612 - stpipe - INFO - photutils Version -> 1.9.0 \n",
      "2023-08-15 09:00:34,614 - stpipe - INFO - ==== Processing Step  Initialization  started at  09:00:34.613 (15/08/2023)\n"
     ]
    },
    {
     "name": "stdout",
     "output_type": "stream",
     "text": [
      "==== Processing Step  Initialization  started at  09:00:34.613 (15/08/2023)\n"
     ]
    },
    {
     "name": "stderr",
     "output_type": "stream",
     "text": [
      "2023-08-15 09:00:34,616 - stpipe - INFO - \n"
     ]
    },
    {
     "name": "stdout",
     "output_type": "stream",
     "text": [
      "\n"
     ]
    },
    {
     "name": "stderr",
     "output_type": "stream",
     "text": [
      "2023-08-15 09:00:34,669 - stpipe - INFO - Executing serially\n",
      "2023-08-15 09:00:34,763 - stpipe - INFO - Setting up output name: indef-02514-197-262.0-nrcb5-f444w-clear_drz.fits\n",
      "2023-08-15 09:00:34,764 - stpipe - INFO - -Creating imageObject List as input for processing steps.\n",
      "2023-08-15 09:00:34,860 - stpipe - INFO - Reading in MDRIZSKY of 0.26553502678871155\n",
      "2023-08-15 09:00:34,982 - stpipe - INFO - Reading in MDRIZSKY of 0.2658900022506714\n",
      "2023-08-15 09:00:35,098 - stpipe - INFO - Reading in MDRIZSKY of 0.26495468616485596\n",
      "2023-08-15 09:00:35,221 - stpipe - INFO - Reading in MDRIZSKY of 0.26305288076400757\n",
      "2023-08-15 09:00:35,245 - stpipe - INFO - No context image will be created for jw02514197001_02201_00001_nrcblong_rate.fits\n",
      "2023-08-15 09:00:35,246 - stpipe - INFO - No context image will be created for jw02514197001_02201_00002_nrcblong_rate.fits\n",
      "2023-08-15 09:00:35,247 - stpipe - INFO - No context image will be created for jw02514197001_02201_00003_nrcblong_rate.fits\n",
      "2023-08-15 09:00:35,248 - stpipe - INFO - No context image will be created for jw02514197001_02201_00004_nrcblong_rate.fits\n",
      "2023-08-15 09:00:35,265 - stpipe - INFO - Reset bit values of 4096 to a value of 0 in jw02514197001_02201_00001_nrcblong_rate.fits[DQ,1]\n",
      "2023-08-15 09:00:35,307 - stpipe - INFO - Reset bit values of 4096 to a value of 0 in jw02514197001_02201_00002_nrcblong_rate.fits[DQ,1]\n",
      "2023-08-15 09:00:35,342 - stpipe - INFO - Reset bit values of 4096 to a value of 0 in jw02514197001_02201_00003_nrcblong_rate.fits[DQ,1]\n",
      "2023-08-15 09:00:35,382 - stpipe - INFO - Reset bit values of 4096 to a value of 0 in jw02514197001_02201_00004_nrcblong_rate.fits[DQ,1]\n",
      "2023-08-15 09:00:35,407 - stpipe - INFO - -Creating output WCS.\n",
      "2023-08-15 09:00:35,411 - stpipe - INFO - No context image will be created for indef-02514-197-262.0-nrcb5-f444w-clear_drz.fits\n",
      "2023-08-15 09:00:35,413 - stpipe - INFO - WCS Keywords\n"
     ]
    },
    {
     "name": "stdout",
     "output_type": "stream",
     "text": [
      "WCS Keywords\n"
     ]
    },
    {
     "name": "stderr",
     "output_type": "stream",
     "text": [
      "2023-08-15 09:00:35,415 - stpipe - INFO - \n"
     ]
    },
    {
     "name": "stdout",
     "output_type": "stream",
     "text": [
      "\n"
     ]
    },
    {
     "name": "stderr",
     "output_type": "stream",
     "text": [
      "2023-08-15 09:00:35,416 - stpipe - INFO - Number of WCS axes: 2\n"
     ]
    },
    {
     "name": "stdout",
     "output_type": "stream",
     "text": [
      "Number of WCS axes: 2\n"
     ]
    },
    {
     "name": "stderr",
     "output_type": "stream",
     "text": [
      "2023-08-15 09:00:35,418 - stpipe - INFO - CTYPE : 'RA---TAN'  'DEC--TAN'  \n"
     ]
    },
    {
     "name": "stdout",
     "output_type": "stream",
     "text": [
      "CTYPE : 'RA---TAN'  'DEC--TAN'  \n"
     ]
    },
    {
     "name": "stderr",
     "output_type": "stream",
     "text": [
      "2023-08-15 09:00:35,420 - stpipe - INFO - CRVAL : 23.69038697033694  -15.555729398517402  \n"
     ]
    },
    {
     "name": "stdout",
     "output_type": "stream",
     "text": [
      "CRVAL : 23.69038697033694  -15.555729398517402  \n"
     ]
    },
    {
     "name": "stderr",
     "output_type": "stream",
     "text": [
      "2023-08-15 09:00:35,422 - stpipe - INFO - CRPIX : 1054.0  1046.0  \n"
     ]
    },
    {
     "name": "stdout",
     "output_type": "stream",
     "text": [
      "CRPIX : 1054.0  1046.0  \n"
     ]
    },
    {
     "name": "stderr",
     "output_type": "stream",
     "text": [
      "2023-08-15 09:00:35,423 - stpipe - INFO - CD1_1 CD1_2  : 2.4846514237271144e-06  -1.7325297022669743e-05  \n"
     ]
    },
    {
     "name": "stdout",
     "output_type": "stream",
     "text": [
      "CD1_1 CD1_2  : 2.4846514237271144e-06  -1.7325297022669743e-05  \n"
     ]
    },
    {
     "name": "stderr",
     "output_type": "stream",
     "text": [
      "2023-08-15 09:00:35,425 - stpipe - INFO - CD2_1 CD2_2  : -1.7325297022669743e-05  -2.4846514237271144e-06  \n"
     ]
    },
    {
     "name": "stdout",
     "output_type": "stream",
     "text": [
      "CD2_1 CD2_2  : -1.7325297022669743e-05  -2.4846514237271144e-06  \n"
     ]
    },
    {
     "name": "stderr",
     "output_type": "stream",
     "text": [
      "2023-08-15 09:00:35,427 - stpipe - INFO - NAXIS : 2108  2092\n"
     ]
    },
    {
     "name": "stdout",
     "output_type": "stream",
     "text": [
      "NAXIS : 2108  2092\n"
     ]
    },
    {
     "name": "stderr",
     "output_type": "stream",
     "text": [
      "2023-08-15 09:00:35,429 - stpipe - INFO - ********************************************************************************\n"
     ]
    },
    {
     "name": "stdout",
     "output_type": "stream",
     "text": [
      "********************************************************************************\n"
     ]
    },
    {
     "name": "stderr",
     "output_type": "stream",
     "text": [
      "2023-08-15 09:00:35,434 - stpipe - INFO - *\n"
     ]
    },
    {
     "name": "stdout",
     "output_type": "stream",
     "text": [
      "*\n"
     ]
    },
    {
     "name": "stderr",
     "output_type": "stream",
     "text": [
      "2023-08-15 09:00:35,436 - stpipe - INFO - *  Estimated memory usage:  up to 329 Mb.\n"
     ]
    },
    {
     "name": "stdout",
     "output_type": "stream",
     "text": [
      "*  Estimated memory usage:  up to 329 Mb.\n"
     ]
    },
    {
     "name": "stderr",
     "output_type": "stream",
     "text": [
      "2023-08-15 09:00:35,438 - stpipe - INFO - *  Output image size:       2108 X 2092 pixels. \n"
     ]
    },
    {
     "name": "stdout",
     "output_type": "stream",
     "text": [
      "*  Output image size:       2108 X 2092 pixels. \n"
     ]
    },
    {
     "name": "stderr",
     "output_type": "stream",
     "text": [
      "2023-08-15 09:00:35,440 - stpipe - INFO - *  Output image file:       ~ 50 Mb. \n"
     ]
    },
    {
     "name": "stdout",
     "output_type": "stream",
     "text": [
      "*  Output image file:       ~ 50 Mb. \n"
     ]
    },
    {
     "name": "stderr",
     "output_type": "stream",
     "text": [
      "2023-08-15 09:00:35,442 - stpipe - INFO - *  Cores available:         4\n"
     ]
    },
    {
     "name": "stdout",
     "output_type": "stream",
     "text": [
      "*  Cores available:         4\n"
     ]
    },
    {
     "name": "stderr",
     "output_type": "stream",
     "text": [
      "2023-08-15 09:00:35,444 - stpipe - INFO - *\n"
     ]
    },
    {
     "name": "stdout",
     "output_type": "stream",
     "text": [
      "*\n"
     ]
    },
    {
     "name": "stderr",
     "output_type": "stream",
     "text": [
      "2023-08-15 09:00:35,446 - stpipe - INFO - ********************************************************************************\n"
     ]
    },
    {
     "name": "stdout",
     "output_type": "stream",
     "text": [
      "********************************************************************************\n"
     ]
    },
    {
     "name": "stderr",
     "output_type": "stream",
     "text": [
      "2023-08-15 09:00:35,448 - stpipe - INFO - ==== Processing Step Initialization finished at 09:00:35.447 (15/08/2023)\n"
     ]
    },
    {
     "name": "stdout",
     "output_type": "stream",
     "text": [
      "==== Processing Step Initialization finished at 09:00:35.447 (15/08/2023)\n"
     ]
    },
    {
     "name": "stderr",
     "output_type": "stream",
     "text": [
      "2023-08-15 09:00:35,450 - stpipe - INFO - USER INPUT PARAMETERS common to all Processing Steps:\n",
      "2023-08-15 09:00:35,453 - stpipe - INFO - \tbuild :\tFalse\n",
      "2023-08-15 09:00:35,454 - stpipe - INFO - \tcoeffs :\tTrue\n",
      "2023-08-15 09:00:35,455 - stpipe - INFO - \tcontext :\tFalse\n",
      "2023-08-15 09:00:35,455 - stpipe - INFO - \tcrbit :\t4096\n",
      "2023-08-15 09:00:35,456 - stpipe - INFO - \tgroup :\t\n",
      "2023-08-15 09:00:35,457 - stpipe - INFO - \tin_memory :\tFalse\n",
      "2023-08-15 09:00:35,459 - stpipe - INFO - \tinput :\t['jw02514197001_02201_00001_nrcblong_rate.fits', 'jw02514197001_02201_00002_nrcblong_rate.fits', 'jw02514197001_02201_00003_nrcblong_rate.fits', 'jw02514197001_02201_00004_nrcblong_rate.fits']\n",
      "2023-08-15 09:00:35,460 - stpipe - INFO - \tmdriztab :\tFalse\n",
      "2023-08-15 09:00:35,461 - stpipe - INFO - \tnum_cores :\tNone\n",
      "2023-08-15 09:00:35,462 - stpipe - INFO - \toutput :\tindef-02514-197-262.0-nrcb5-f444w-clear\n",
      "2023-08-15 09:00:35,463 - stpipe - INFO - \tproc_unit :\tnative\n",
      "2023-08-15 09:00:35,464 - stpipe - INFO - \tresetbits :\t4096\n",
      "2023-08-15 09:00:35,465 - stpipe - INFO - \trules_file :\t\n",
      "2023-08-15 09:00:35,466 - stpipe - INFO - \trunfile :\tastrodrizzle.log\n",
      "2023-08-15 09:00:35,467 - stpipe - INFO - \tstepsize :\t10\n",
      "2023-08-15 09:00:35,468 - stpipe - INFO - \tupdatewcs :\tFalse\n",
      "2023-08-15 09:00:35,469 - stpipe - INFO - \twcskey :\t\n",
      "2023-08-15 09:00:35,470 - stpipe - INFO - ==== Processing Step  Static Mask  started at  09:00:35.470 (15/08/2023)\n"
     ]
    },
    {
     "name": "stdout",
     "output_type": "stream",
     "text": [
      "==== Processing Step  Static Mask  started at  09:00:35.470 (15/08/2023)\n"
     ]
    },
    {
     "name": "stderr",
     "output_type": "stream",
     "text": [
      "2023-08-15 09:00:35,472 - stpipe - INFO - \n"
     ]
    },
    {
     "name": "stdout",
     "output_type": "stream",
     "text": [
      "\n"
     ]
    },
    {
     "name": "stderr",
     "output_type": "stream",
     "text": [
      "2023-08-15 09:00:35,475 - stpipe - INFO - Static Mask step not performed.\n",
      "2023-08-15 09:00:35,476 - stpipe - INFO - ==== Processing Step Static Mask finished at 09:00:35.476 (15/08/2023)\n"
     ]
    },
    {
     "name": "stdout",
     "output_type": "stream",
     "text": [
      "==== Processing Step Static Mask finished at 09:00:35.476 (15/08/2023)\n"
     ]
    },
    {
     "name": "stderr",
     "output_type": "stream",
     "text": [
      "2023-08-15 09:00:35,479 - stpipe - INFO - ==== Processing Step  Subtract Sky  started at  09:00:35.47 (15/08/2023)\n"
     ]
    },
    {
     "name": "stdout",
     "output_type": "stream",
     "text": [
      "==== Processing Step  Subtract Sky  started at  09:00:35.47 (15/08/2023)\n"
     ]
    },
    {
     "name": "stderr",
     "output_type": "stream",
     "text": [
      "2023-08-15 09:00:35,480 - stpipe - INFO - \n"
     ]
    },
    {
     "name": "stdout",
     "output_type": "stream",
     "text": [
      "\n"
     ]
    },
    {
     "name": "stderr",
     "output_type": "stream",
     "text": [
      "2023-08-15 09:00:35,483 - stpipe - INFO - USER INPUT PARAMETERS for Sky Subtraction Step:\n",
      "2023-08-15 09:00:35,484 - stpipe - INFO - \tsky_bits :\t0\n",
      "2023-08-15 09:00:35,485 - stpipe - INFO - \tskyclip :\t5\n",
      "2023-08-15 09:00:35,487 - stpipe - INFO - \tskyfile :\t\n",
      "2023-08-15 09:00:35,487 - stpipe - INFO - \tskylower :\tNone\n",
      "2023-08-15 09:00:35,489 - stpipe - INFO - \tskylsigma :\t4.0\n",
      "2023-08-15 09:00:35,490 - stpipe - INFO - \tskymask_cat :\t\n",
      "2023-08-15 09:00:35,491 - stpipe - INFO - \tskymethod :\tlocalmin\n",
      "2023-08-15 09:00:35,492 - stpipe - INFO - \tskystat :\tmedian\n",
      "2023-08-15 09:00:35,492 - stpipe - INFO - \tskysub :\tTrue\n",
      "2023-08-15 09:00:35,494 - stpipe - INFO - \tskyupper :\tNone\n",
      "2023-08-15 09:00:35,495 - stpipe - INFO - \tskyuser :\t\n",
      "2023-08-15 09:00:35,496 - stpipe - INFO - \tskyusigma :\t4.0\n",
      "2023-08-15 09:00:35,497 - stpipe - INFO - \tskywidth :\t0.1\n",
      "2023-08-15 09:00:35,497 - stpipe - INFO - \tuse_static :\tTrue\n",
      "2023-08-15 09:00:35,511 - stpipe - WARNING - Static mask for file 'jw02514197001_02201_00001_nrcblong_rate.fits', ext=('SCI', 1) NOT FOUND.\n",
      "2023-08-15 09:00:35,533 - stpipe - WARNING - Static mask for file 'jw02514197001_02201_00002_nrcblong_rate.fits', ext=('SCI', 1) NOT FOUND.\n",
      "2023-08-15 09:00:35,553 - stpipe - WARNING - Static mask for file 'jw02514197001_02201_00003_nrcblong_rate.fits', ext=('SCI', 1) NOT FOUND.\n",
      "2023-08-15 09:00:35,574 - stpipe - WARNING - Static mask for file 'jw02514197001_02201_00004_nrcblong_rate.fits', ext=('SCI', 1) NOT FOUND.\n",
      "2023-08-15 09:00:35,582 - stpipe - INFO - ***** skymatch started on 2023-08-15 09:00:35.582607\n"
     ]
    },
    {
     "name": "stdout",
     "output_type": "stream",
     "text": [
      "***** skymatch started on 2023-08-15 09:00:35.582607\n"
     ]
    },
    {
     "name": "stderr",
     "output_type": "stream",
     "text": [
      "2023-08-15 09:00:35,584 - stpipe - INFO -       Version 1.0.9\n"
     ]
    },
    {
     "name": "stdout",
     "output_type": "stream",
     "text": [
      "      Version 1.0.9\n"
     ]
    },
    {
     "name": "stderr",
     "output_type": "stream",
     "text": [
      "2023-08-15 09:00:35,586 - stpipe - INFO - \n"
     ]
    },
    {
     "name": "stdout",
     "output_type": "stream",
     "text": [
      "\n"
     ]
    },
    {
     "name": "stderr",
     "output_type": "stream",
     "text": [
      "2023-08-15 09:00:35,587 - stpipe - INFO - 'skymatch' task will apply computed sky differences to input image file(s).\n"
     ]
    },
    {
     "name": "stdout",
     "output_type": "stream",
     "text": [
      "'skymatch' task will apply computed sky differences to input image file(s).\n"
     ]
    },
    {
     "name": "stderr",
     "output_type": "stream",
     "text": [
      "2023-08-15 09:00:35,590 - stpipe - INFO - \n"
     ]
    },
    {
     "name": "stdout",
     "output_type": "stream",
     "text": [
      "\n"
     ]
    },
    {
     "name": "stderr",
     "output_type": "stream",
     "text": [
      "2023-08-15 09:00:35,591 - stpipe - INFO - NOTE: Computed sky values WILL NOT be subtracted from image data ('subtractsky'=False).\n"
     ]
    },
    {
     "name": "stdout",
     "output_type": "stream",
     "text": [
      "NOTE: Computed sky values WILL NOT be subtracted from image data ('subtractsky'=False).\n"
     ]
    },
    {
     "name": "stderr",
     "output_type": "stream",
     "text": [
      "2023-08-15 09:00:35,593 - stpipe - INFO - 'MDRIZSKY' header keyword will represent sky value *computed* from data.\n"
     ]
    },
    {
     "name": "stdout",
     "output_type": "stream",
     "text": [
      "'MDRIZSKY' header keyword will represent sky value *computed* from data.\n"
     ]
    },
    {
     "name": "stderr",
     "output_type": "stream",
     "text": [
      "2023-08-15 09:00:35,595 - stpipe - INFO - \n"
     ]
    },
    {
     "name": "stdout",
     "output_type": "stream",
     "text": [
      "\n"
     ]
    },
    {
     "name": "stderr",
     "output_type": "stream",
     "text": [
      "2023-08-15 09:00:35,597 - stpipe - INFO - -----  User specified keywords:  -----\n"
     ]
    },
    {
     "name": "stdout",
     "output_type": "stream",
     "text": [
      "-----  User specified keywords:  -----\n"
     ]
    },
    {
     "name": "stderr",
     "output_type": "stream",
     "text": [
      "2023-08-15 09:00:35,598 - stpipe - INFO -        Sky Value Keyword:  'MDRIZSKY'\n"
     ]
    },
    {
     "name": "stdout",
     "output_type": "stream",
     "text": [
      "       Sky Value Keyword:  'MDRIZSKY'\n"
     ]
    },
    {
     "name": "stderr",
     "output_type": "stream",
     "text": [
      "2023-08-15 09:00:35,600 - stpipe - INFO -        Data Units Keyword: 'BUNIT'\n"
     ]
    },
    {
     "name": "stdout",
     "output_type": "stream",
     "text": [
      "       Data Units Keyword: 'BUNIT'\n"
     ]
    },
    {
     "name": "stderr",
     "output_type": "stream",
     "text": [
      "2023-08-15 09:00:35,602 - stpipe - INFO - \n"
     ]
    },
    {
     "name": "stdout",
     "output_type": "stream",
     "text": [
      "\n"
     ]
    },
    {
     "name": "stderr",
     "output_type": "stream",
     "text": [
      "2023-08-15 09:00:35,605 - stpipe - INFO - \n"
     ]
    },
    {
     "name": "stdout",
     "output_type": "stream",
     "text": [
      "\n"
     ]
    },
    {
     "name": "stderr",
     "output_type": "stream",
     "text": [
      "2023-08-15 09:00:35,607 - stpipe - INFO - -----  Input file list:  -----\n"
     ]
    },
    {
     "name": "stdout",
     "output_type": "stream",
     "text": [
      "-----  Input file list:  -----\n"
     ]
    },
    {
     "name": "stderr",
     "output_type": "stream",
     "text": [
      "2023-08-15 09:00:35,609 - stpipe - INFO - \n"
     ]
    },
    {
     "name": "stdout",
     "output_type": "stream",
     "text": [
      "\n"
     ]
    },
    {
     "name": "stderr",
     "output_type": "stream",
     "text": [
      "2023-08-15 09:00:35,611 - stpipe - INFO -    **  Input image: 'jw02514197001_02201_00001_nrcblong_rate.fits'\n"
     ]
    },
    {
     "name": "stdout",
     "output_type": "stream",
     "text": [
      "   **  Input image: 'jw02514197001_02201_00001_nrcblong_rate.fits'\n"
     ]
    },
    {
     "name": "stderr",
     "output_type": "stream",
     "text": [
      "2023-08-15 09:00:35,612 - stpipe - INFO -        EXT: 'SCI',1;\tMASK: jw02514197001_02201_00001_nrcblong_skymatch_mask_sci1.fits[0]\n"
     ]
    },
    {
     "name": "stdout",
     "output_type": "stream",
     "text": [
      "       EXT: 'SCI',1;\tMASK: jw02514197001_02201_00001_nrcblong_skymatch_mask_sci1.fits[0]\n"
     ]
    },
    {
     "name": "stderr",
     "output_type": "stream",
     "text": [
      "2023-08-15 09:00:35,614 - stpipe - INFO - \n"
     ]
    },
    {
     "name": "stdout",
     "output_type": "stream",
     "text": [
      "\n"
     ]
    },
    {
     "name": "stderr",
     "output_type": "stream",
     "text": [
      "2023-08-15 09:00:35,616 - stpipe - INFO -    **  Input image: 'jw02514197001_02201_00002_nrcblong_rate.fits'\n"
     ]
    },
    {
     "name": "stdout",
     "output_type": "stream",
     "text": [
      "   **  Input image: 'jw02514197001_02201_00002_nrcblong_rate.fits'\n"
     ]
    },
    {
     "name": "stderr",
     "output_type": "stream",
     "text": [
      "2023-08-15 09:00:35,617 - stpipe - INFO -        EXT: 'SCI',1;\tMASK: jw02514197001_02201_00002_nrcblong_skymatch_mask_sci1.fits[0]\n"
     ]
    },
    {
     "name": "stdout",
     "output_type": "stream",
     "text": [
      "       EXT: 'SCI',1;\tMASK: jw02514197001_02201_00002_nrcblong_skymatch_mask_sci1.fits[0]\n"
     ]
    },
    {
     "name": "stderr",
     "output_type": "stream",
     "text": [
      "2023-08-15 09:00:35,619 - stpipe - INFO - \n"
     ]
    },
    {
     "name": "stdout",
     "output_type": "stream",
     "text": [
      "\n"
     ]
    },
    {
     "name": "stderr",
     "output_type": "stream",
     "text": [
      "2023-08-15 09:00:35,621 - stpipe - INFO -    **  Input image: 'jw02514197001_02201_00003_nrcblong_rate.fits'\n"
     ]
    },
    {
     "name": "stdout",
     "output_type": "stream",
     "text": [
      "   **  Input image: 'jw02514197001_02201_00003_nrcblong_rate.fits'\n"
     ]
    },
    {
     "name": "stderr",
     "output_type": "stream",
     "text": [
      "2023-08-15 09:00:35,623 - stpipe - INFO -        EXT: 'SCI',1;\tMASK: jw02514197001_02201_00003_nrcblong_skymatch_mask_sci1.fits[0]\n"
     ]
    },
    {
     "name": "stdout",
     "output_type": "stream",
     "text": [
      "       EXT: 'SCI',1;\tMASK: jw02514197001_02201_00003_nrcblong_skymatch_mask_sci1.fits[0]\n"
     ]
    },
    {
     "name": "stderr",
     "output_type": "stream",
     "text": [
      "2023-08-15 09:00:35,625 - stpipe - INFO - \n"
     ]
    },
    {
     "name": "stdout",
     "output_type": "stream",
     "text": [
      "\n"
     ]
    },
    {
     "name": "stderr",
     "output_type": "stream",
     "text": [
      "2023-08-15 09:00:35,627 - stpipe - INFO -    **  Input image: 'jw02514197001_02201_00004_nrcblong_rate.fits'\n"
     ]
    },
    {
     "name": "stdout",
     "output_type": "stream",
     "text": [
      "   **  Input image: 'jw02514197001_02201_00004_nrcblong_rate.fits'\n"
     ]
    },
    {
     "name": "stderr",
     "output_type": "stream",
     "text": [
      "2023-08-15 09:00:35,629 - stpipe - INFO -        EXT: 'SCI',1;\tMASK: jw02514197001_02201_00004_nrcblong_skymatch_mask_sci1.fits[0]\n"
     ]
    },
    {
     "name": "stdout",
     "output_type": "stream",
     "text": [
      "       EXT: 'SCI',1;\tMASK: jw02514197001_02201_00004_nrcblong_skymatch_mask_sci1.fits[0]\n"
     ]
    },
    {
     "name": "stderr",
     "output_type": "stream",
     "text": [
      "2023-08-15 09:00:35,631 - stpipe - INFO - \n"
     ]
    },
    {
     "name": "stdout",
     "output_type": "stream",
     "text": [
      "\n"
     ]
    },
    {
     "name": "stderr",
     "output_type": "stream",
     "text": [
      "2023-08-15 09:00:35,634 - stpipe - INFO - -----  Sky statistics parameters:  -----\n"
     ]
    },
    {
     "name": "stdout",
     "output_type": "stream",
     "text": [
      "-----  Sky statistics parameters:  -----\n"
     ]
    },
    {
     "name": "stderr",
     "output_type": "stream",
     "text": [
      "2023-08-15 09:00:35,636 - stpipe - INFO -        statistics function: 'median'\n"
     ]
    },
    {
     "name": "stdout",
     "output_type": "stream",
     "text": [
      "       statistics function: 'median'\n"
     ]
    },
    {
     "name": "stderr",
     "output_type": "stream",
     "text": [
      "2023-08-15 09:00:35,638 - stpipe - INFO -        lower = None\n"
     ]
    },
    {
     "name": "stdout",
     "output_type": "stream",
     "text": [
      "       lower = None\n"
     ]
    },
    {
     "name": "stderr",
     "output_type": "stream",
     "text": [
      "2023-08-15 09:00:35,640 - stpipe - INFO -        upper = None\n"
     ]
    },
    {
     "name": "stdout",
     "output_type": "stream",
     "text": [
      "       upper = None\n"
     ]
    },
    {
     "name": "stderr",
     "output_type": "stream",
     "text": [
      "2023-08-15 09:00:35,642 - stpipe - INFO -        nclip = 5\n"
     ]
    },
    {
     "name": "stdout",
     "output_type": "stream",
     "text": [
      "       nclip = 5\n"
     ]
    },
    {
     "name": "stderr",
     "output_type": "stream",
     "text": [
      "2023-08-15 09:00:35,644 - stpipe - INFO -        lsigma = 4.0\n"
     ]
    },
    {
     "name": "stdout",
     "output_type": "stream",
     "text": [
      "       lsigma = 4.0\n"
     ]
    },
    {
     "name": "stderr",
     "output_type": "stream",
     "text": [
      "2023-08-15 09:00:35,646 - stpipe - INFO -        usigma = 4.0\n"
     ]
    },
    {
     "name": "stdout",
     "output_type": "stream",
     "text": [
      "       usigma = 4.0\n"
     ]
    },
    {
     "name": "stderr",
     "output_type": "stream",
     "text": [
      "2023-08-15 09:00:35,647 - stpipe - INFO -        binwidth = 0.1\n"
     ]
    },
    {
     "name": "stdout",
     "output_type": "stream",
     "text": [
      "       binwidth = 0.1\n"
     ]
    },
    {
     "name": "stderr",
     "output_type": "stream",
     "text": [
      "2023-08-15 09:00:35,649 - stpipe - INFO - \n"
     ]
    },
    {
     "name": "stdout",
     "output_type": "stream",
     "text": [
      "\n"
     ]
    },
    {
     "name": "stderr",
     "output_type": "stream",
     "text": [
      "2023-08-15 09:00:35,651 - stpipe - INFO - -----  Data->Brightness conversion parameters for input files:  -----\n"
     ]
    },
    {
     "name": "stdout",
     "output_type": "stream",
     "text": [
      "-----  Data->Brightness conversion parameters for input files:  -----\n"
     ]
    },
    {
     "name": "stderr",
     "output_type": "stream",
     "text": [
      "2023-08-15 09:00:35,652 - stpipe - INFO - \n"
     ]
    },
    {
     "name": "stdout",
     "output_type": "stream",
     "text": [
      "\n"
     ]
    },
    {
     "name": "stderr",
     "output_type": "stream",
     "text": [
      "2023-08-15 09:00:35,654 - stpipe - INFO -    *   Image: jw02514197001_02201_00001_nrcblong_rate.fits\n"
     ]
    },
    {
     "name": "stdout",
     "output_type": "stream",
     "text": [
      "   *   Image: jw02514197001_02201_00001_nrcblong_rate.fits\n"
     ]
    },
    {
     "name": "stderr",
     "output_type": "stream",
     "text": [
      "2023-08-15 09:00:35,676 - stpipe - INFO -        EXT = 'SCI',1\n"
     ]
    },
    {
     "name": "stdout",
     "output_type": "stream",
     "text": [
      "       EXT = 'SCI',1\n"
     ]
    },
    {
     "name": "stderr",
     "output_type": "stream",
     "text": [
      "2023-08-15 09:00:35,678 - stpipe - INFO -              Data units type: COUNT-RATE\n"
     ]
    },
    {
     "name": "stdout",
     "output_type": "stream",
     "text": [
      "             Data units type: COUNT-RATE\n"
     ]
    },
    {
     "name": "stderr",
     "output_type": "stream",
     "text": [
      "2023-08-15 09:00:35,680 - stpipe - INFO -              Conversion factor (data->brightness):  251.87909685725003\n"
     ]
    },
    {
     "name": "stdout",
     "output_type": "stream",
     "text": [
      "             Conversion factor (data->brightness):  251.87909685725003\n"
     ]
    },
    {
     "name": "stderr",
     "output_type": "stream",
     "text": [
      "2023-08-15 09:00:35,682 - stpipe - INFO - \n"
     ]
    },
    {
     "name": "stdout",
     "output_type": "stream",
     "text": [
      "\n"
     ]
    },
    {
     "name": "stderr",
     "output_type": "stream",
     "text": [
      "2023-08-15 09:00:35,683 - stpipe - INFO -    *   Image: jw02514197001_02201_00002_nrcblong_rate.fits\n"
     ]
    },
    {
     "name": "stdout",
     "output_type": "stream",
     "text": [
      "   *   Image: jw02514197001_02201_00002_nrcblong_rate.fits\n"
     ]
    },
    {
     "name": "stderr",
     "output_type": "stream",
     "text": [
      "2023-08-15 09:00:35,706 - stpipe - INFO -        EXT = 'SCI',1\n"
     ]
    },
    {
     "name": "stdout",
     "output_type": "stream",
     "text": [
      "       EXT = 'SCI',1\n"
     ]
    },
    {
     "name": "stderr",
     "output_type": "stream",
     "text": [
      "2023-08-15 09:00:35,708 - stpipe - INFO -              Data units type: COUNT-RATE\n"
     ]
    },
    {
     "name": "stdout",
     "output_type": "stream",
     "text": [
      "             Data units type: COUNT-RATE\n"
     ]
    },
    {
     "name": "stderr",
     "output_type": "stream",
     "text": [
      "2023-08-15 09:00:35,710 - stpipe - INFO -              Conversion factor (data->brightness):  251.87909809026252\n"
     ]
    },
    {
     "name": "stdout",
     "output_type": "stream",
     "text": [
      "             Conversion factor (data->brightness):  251.87909809026252\n"
     ]
    },
    {
     "name": "stderr",
     "output_type": "stream",
     "text": [
      "2023-08-15 09:00:35,711 - stpipe - INFO - \n"
     ]
    },
    {
     "name": "stdout",
     "output_type": "stream",
     "text": [
      "\n"
     ]
    },
    {
     "name": "stderr",
     "output_type": "stream",
     "text": [
      "2023-08-15 09:00:35,713 - stpipe - INFO -    *   Image: jw02514197001_02201_00003_nrcblong_rate.fits\n"
     ]
    },
    {
     "name": "stdout",
     "output_type": "stream",
     "text": [
      "   *   Image: jw02514197001_02201_00003_nrcblong_rate.fits\n"
     ]
    },
    {
     "name": "stderr",
     "output_type": "stream",
     "text": [
      "2023-08-15 09:00:35,736 - stpipe - INFO -        EXT = 'SCI',1\n"
     ]
    },
    {
     "name": "stdout",
     "output_type": "stream",
     "text": [
      "       EXT = 'SCI',1\n"
     ]
    },
    {
     "name": "stderr",
     "output_type": "stream",
     "text": [
      "2023-08-15 09:00:35,737 - stpipe - INFO -              Data units type: COUNT-RATE\n"
     ]
    },
    {
     "name": "stdout",
     "output_type": "stream",
     "text": [
      "             Data units type: COUNT-RATE\n"
     ]
    },
    {
     "name": "stderr",
     "output_type": "stream",
     "text": [
      "2023-08-15 09:00:35,739 - stpipe - INFO -              Conversion factor (data->brightness):  251.8791035759559\n"
     ]
    },
    {
     "name": "stdout",
     "output_type": "stream",
     "text": [
      "             Conversion factor (data->brightness):  251.8791035759559\n"
     ]
    },
    {
     "name": "stderr",
     "output_type": "stream",
     "text": [
      "2023-08-15 09:00:35,741 - stpipe - INFO - \n"
     ]
    },
    {
     "name": "stdout",
     "output_type": "stream",
     "text": [
      "\n"
     ]
    },
    {
     "name": "stderr",
     "output_type": "stream",
     "text": [
      "2023-08-15 09:00:35,744 - stpipe - INFO -    *   Image: jw02514197001_02201_00004_nrcblong_rate.fits\n"
     ]
    },
    {
     "name": "stdout",
     "output_type": "stream",
     "text": [
      "   *   Image: jw02514197001_02201_00004_nrcblong_rate.fits\n"
     ]
    },
    {
     "name": "stderr",
     "output_type": "stream",
     "text": [
      "2023-08-15 09:00:35,766 - stpipe - INFO -        EXT = 'SCI',1\n"
     ]
    },
    {
     "name": "stdout",
     "output_type": "stream",
     "text": [
      "       EXT = 'SCI',1\n"
     ]
    },
    {
     "name": "stderr",
     "output_type": "stream",
     "text": [
      "2023-08-15 09:00:35,768 - stpipe - INFO -              Data units type: COUNT-RATE\n"
     ]
    },
    {
     "name": "stdout",
     "output_type": "stream",
     "text": [
      "             Data units type: COUNT-RATE\n"
     ]
    },
    {
     "name": "stderr",
     "output_type": "stream",
     "text": [
      "2023-08-15 09:00:35,770 - stpipe - INFO -              Conversion factor (data->brightness):  251.8791019953191\n"
     ]
    },
    {
     "name": "stdout",
     "output_type": "stream",
     "text": [
      "             Conversion factor (data->brightness):  251.8791019953191\n"
     ]
    },
    {
     "name": "stderr",
     "output_type": "stream",
     "text": [
      "2023-08-15 09:00:35,772 - stpipe - INFO - \n"
     ]
    },
    {
     "name": "stdout",
     "output_type": "stream",
     "text": [
      "\n"
     ]
    },
    {
     "name": "stderr",
     "output_type": "stream",
     "text": [
      "2023-08-15 09:00:35,774 - stpipe - INFO - \n"
     ]
    },
    {
     "name": "stdout",
     "output_type": "stream",
     "text": [
      "\n"
     ]
    },
    {
     "name": "stderr",
     "output_type": "stream",
     "text": [
      "2023-08-15 09:00:35,776 - stpipe - INFO - -----  Computing sky values requested image extensions (detector chips):  -----\n"
     ]
    },
    {
     "name": "stdout",
     "output_type": "stream",
     "text": [
      "-----  Computing sky values requested image extensions (detector chips):  -----\n"
     ]
    },
    {
     "name": "stderr",
     "output_type": "stream",
     "text": [
      "2023-08-15 09:00:35,778 - stpipe - INFO - \n"
     ]
    },
    {
     "name": "stdout",
     "output_type": "stream",
     "text": [
      "\n"
     ]
    },
    {
     "name": "stderr",
     "output_type": "stream",
     "text": [
      "2023-08-15 09:00:35,910 - stpipe - INFO -    *   Image:   'jw02514197001_02201_00001_nrcblong_rate.fits['SCI',1]'  --  SKY = 66.88272273150636 (brightness units)\n"
     ]
    },
    {
     "name": "stdout",
     "output_type": "stream",
     "text": [
      "   *   Image:   'jw02514197001_02201_00001_nrcblong_rate.fits['SCI',1]'  --  SKY = 66.88272273150636 (brightness units)\n"
     ]
    },
    {
     "name": "stderr",
     "output_type": "stream",
     "text": [
      "2023-08-15 09:00:35,911 - stpipe - INFO -        Sky change (data units):\n"
     ]
    },
    {
     "name": "stdout",
     "output_type": "stream",
     "text": [
      "       Sky change (data units):\n"
     ]
    },
    {
     "name": "stderr",
     "output_type": "stream",
     "text": [
      "2023-08-15 09:00:35,913 - stpipe - INFO -       - EXT = 'SCI',1   delta(MDRIZSKY) = 0.265535   NEW MDRIZSKY = 0.265535\n"
     ]
    },
    {
     "name": "stdout",
     "output_type": "stream",
     "text": [
      "      - EXT = 'SCI',1   delta(MDRIZSKY) = 0.265535   NEW MDRIZSKY = 0.265535\n"
     ]
    },
    {
     "name": "stderr",
     "output_type": "stream",
     "text": [
      "2023-08-15 09:00:36,045 - stpipe - INFO -    *   Image:   'jw02514197001_02201_00002_nrcblong_rate.fits['SCI',1]'  --  SKY = 66.97213395811698 (brightness units)\n"
     ]
    },
    {
     "name": "stdout",
     "output_type": "stream",
     "text": [
      "   *   Image:   'jw02514197001_02201_00002_nrcblong_rate.fits['SCI',1]'  --  SKY = 66.97213395811698 (brightness units)\n"
     ]
    },
    {
     "name": "stderr",
     "output_type": "stream",
     "text": [
      "2023-08-15 09:00:36,047 - stpipe - INFO -        Sky change (data units):\n"
     ]
    },
    {
     "name": "stdout",
     "output_type": "stream",
     "text": [
      "       Sky change (data units):\n"
     ]
    },
    {
     "name": "stderr",
     "output_type": "stream",
     "text": [
      "2023-08-15 09:00:36,048 - stpipe - INFO -       - EXT = 'SCI',1   delta(MDRIZSKY) = 0.26589   NEW MDRIZSKY = 0.26589\n"
     ]
    },
    {
     "name": "stdout",
     "output_type": "stream",
     "text": [
      "      - EXT = 'SCI',1   delta(MDRIZSKY) = 0.26589   NEW MDRIZSKY = 0.26589\n"
     ]
    },
    {
     "name": "stderr",
     "output_type": "stream",
     "text": [
      "2023-08-15 09:00:36,189 - stpipe - INFO -    *   Image:   'jw02514197001_02201_00003_nrcblong_rate.fits['SCI',1]'  --  SKY = 66.73654883945264 (brightness units)\n"
     ]
    },
    {
     "name": "stdout",
     "output_type": "stream",
     "text": [
      "   *   Image:   'jw02514197001_02201_00003_nrcblong_rate.fits['SCI',1]'  --  SKY = 66.73654883945264 (brightness units)\n"
     ]
    },
    {
     "name": "stderr",
     "output_type": "stream",
     "text": [
      "2023-08-15 09:00:36,192 - stpipe - INFO -        Sky change (data units):\n"
     ]
    },
    {
     "name": "stdout",
     "output_type": "stream",
     "text": [
      "       Sky change (data units):\n"
     ]
    },
    {
     "name": "stderr",
     "output_type": "stream",
     "text": [
      "2023-08-15 09:00:36,194 - stpipe - INFO -       - EXT = 'SCI',1   delta(MDRIZSKY) = 0.264955   NEW MDRIZSKY = 0.264955\n"
     ]
    },
    {
     "name": "stdout",
     "output_type": "stream",
     "text": [
      "      - EXT = 'SCI',1   delta(MDRIZSKY) = 0.264955   NEW MDRIZSKY = 0.264955\n"
     ]
    },
    {
     "name": "stderr",
     "output_type": "stream",
     "text": [
      "2023-08-15 09:00:36,337 - stpipe - INFO -    *   Image:   'jw02514197001_02201_00004_nrcblong_rate.fits['SCI',1]'  --  SKY = 66.25752338411998 (brightness units)\n"
     ]
    },
    {
     "name": "stdout",
     "output_type": "stream",
     "text": [
      "   *   Image:   'jw02514197001_02201_00004_nrcblong_rate.fits['SCI',1]'  --  SKY = 66.25752338411998 (brightness units)\n"
     ]
    },
    {
     "name": "stderr",
     "output_type": "stream",
     "text": [
      "2023-08-15 09:00:36,339 - stpipe - INFO -        Sky change (data units):\n"
     ]
    },
    {
     "name": "stdout",
     "output_type": "stream",
     "text": [
      "       Sky change (data units):\n"
     ]
    },
    {
     "name": "stderr",
     "output_type": "stream",
     "text": [
      "2023-08-15 09:00:36,341 - stpipe - INFO -       - EXT = 'SCI',1   delta(MDRIZSKY) = 0.263053   NEW MDRIZSKY = 0.263053\n"
     ]
    },
    {
     "name": "stdout",
     "output_type": "stream",
     "text": [
      "      - EXT = 'SCI',1   delta(MDRIZSKY) = 0.263053   NEW MDRIZSKY = 0.263053\n"
     ]
    },
    {
     "name": "stderr",
     "output_type": "stream",
     "text": [
      "2023-08-15 09:00:36,343 - stpipe - INFO - ***** skymatch ended on 2023-08-15 09:00:36.343230\n"
     ]
    },
    {
     "name": "stdout",
     "output_type": "stream",
     "text": [
      "***** skymatch ended on 2023-08-15 09:00:36.343230\n"
     ]
    },
    {
     "name": "stderr",
     "output_type": "stream",
     "text": [
      "2023-08-15 09:00:36,345 - stpipe - INFO - TOTAL RUN TIME: 0:00:00.760623\n"
     ]
    },
    {
     "name": "stdout",
     "output_type": "stream",
     "text": [
      "TOTAL RUN TIME: 0:00:00.760623\n"
     ]
    },
    {
     "name": "stderr",
     "output_type": "stream",
     "text": [
      "2023-08-15 09:00:36,412 - stpipe - INFO - ==== Processing Step Subtract Sky finished at 09:00:36.412 (15/08/2023)\n"
     ]
    },
    {
     "name": "stdout",
     "output_type": "stream",
     "text": [
      "==== Processing Step Subtract Sky finished at 09:00:36.412 (15/08/2023)\n"
     ]
    },
    {
     "name": "stderr",
     "output_type": "stream",
     "text": [
      "2023-08-15 09:00:36,414 - stpipe - INFO - ==== Processing Step  Separate Drizzle  started at  09:00:36.414 (15/08/2023)\n"
     ]
    },
    {
     "name": "stdout",
     "output_type": "stream",
     "text": [
      "==== Processing Step  Separate Drizzle  started at  09:00:36.414 (15/08/2023)\n"
     ]
    },
    {
     "name": "stderr",
     "output_type": "stream",
     "text": [
      "2023-08-15 09:00:36,417 - stpipe - INFO - \n"
     ]
    },
    {
     "name": "stdout",
     "output_type": "stream",
     "text": [
      "\n"
     ]
    },
    {
     "name": "stderr",
     "output_type": "stream",
     "text": [
      "2023-08-15 09:00:36,419 - stpipe - INFO - Interpreted paramDict with single=True as:\n",
      "2023-08-15 09:00:36,420 - stpipe - INFO - {'build': False, 'stepsize': 10, 'coeffs': True, 'wcskey': '', 'kernel': 'turbo', 'wt_scl': 'exptime', 'pixfrac': 1.0, 'fillval': None, 'bits': 4, 'compress': False, 'units': 'cps'}\n",
      "2023-08-15 09:00:36,421 - stpipe - INFO - USER INPUT PARAMETERS for Separate Drizzle Step:\n",
      "2023-08-15 09:00:36,422 - stpipe - INFO - \tbits :\t4\n",
      "2023-08-15 09:00:36,423 - stpipe - INFO - \tbuild :\tFalse\n",
      "2023-08-15 09:00:36,425 - stpipe - INFO - \tclean :\tTrue\n",
      "2023-08-15 09:00:36,426 - stpipe - INFO - \tcoeffs :\tTrue\n",
      "2023-08-15 09:00:36,426 - stpipe - INFO - \tcompress :\tFalse\n",
      "2023-08-15 09:00:36,427 - stpipe - INFO - \tcrbit :\tNone\n",
      "2023-08-15 09:00:36,428 - stpipe - INFO - \tfillval :\tNone\n",
      "2023-08-15 09:00:36,430 - stpipe - INFO - \tkernel :\tturbo\n",
      "2023-08-15 09:00:36,431 - stpipe - INFO - \tnum_cores :\tNone\n",
      "2023-08-15 09:00:36,432 - stpipe - INFO - \tpixfrac :\t1.0\n",
      "2023-08-15 09:00:36,433 - stpipe - INFO - \tproc_unit :\telectrons\n",
      "2023-08-15 09:00:36,434 - stpipe - INFO - \trules_file :\tNone\n",
      "2023-08-15 09:00:36,435 - stpipe - INFO - \tstepsize :\t10\n",
      "2023-08-15 09:00:36,436 - stpipe - INFO - \tunits :\tcps\n",
      "2023-08-15 09:00:36,437 - stpipe - INFO - \twcskey :\t\n",
      "2023-08-15 09:00:36,437 - stpipe - INFO - \twht_type :\tNone\n",
      "2023-08-15 09:00:36,438 - stpipe - INFO - \twt_scl :\texptime\n",
      "2023-08-15 09:00:36,439 - stpipe - INFO -   **Using sub-sampling value of 10 for kernel turbo\n",
      "2023-08-15 09:00:36,440 - stpipe - INFO - Running Drizzle to create output frame with WCS of: \n",
      "2023-08-15 09:00:36,441 - stpipe - INFO - WCS Keywords\n"
     ]
    },
    {
     "name": "stdout",
     "output_type": "stream",
     "text": [
      "WCS Keywords\n"
     ]
    },
    {
     "name": "stderr",
     "output_type": "stream",
     "text": [
      "2023-08-15 09:00:36,443 - stpipe - INFO - \n"
     ]
    },
    {
     "name": "stdout",
     "output_type": "stream",
     "text": [
      "\n"
     ]
    },
    {
     "name": "stderr",
     "output_type": "stream",
     "text": [
      "2023-08-15 09:00:36,445 - stpipe - INFO - Number of WCS axes: 2\n"
     ]
    },
    {
     "name": "stdout",
     "output_type": "stream",
     "text": [
      "Number of WCS axes: 2\n"
     ]
    },
    {
     "name": "stderr",
     "output_type": "stream",
     "text": [
      "2023-08-15 09:00:36,446 - stpipe - INFO - CTYPE : 'RA---TAN'  'DEC--TAN'  \n"
     ]
    },
    {
     "name": "stdout",
     "output_type": "stream",
     "text": [
      "CTYPE : 'RA---TAN'  'DEC--TAN'  \n"
     ]
    },
    {
     "name": "stderr",
     "output_type": "stream",
     "text": [
      "2023-08-15 09:00:36,448 - stpipe - INFO - CRVAL : 23.69038697033694  -15.555729398517402  \n"
     ]
    },
    {
     "name": "stdout",
     "output_type": "stream",
     "text": [
      "CRVAL : 23.69038697033694  -15.555729398517402  \n"
     ]
    },
    {
     "name": "stderr",
     "output_type": "stream",
     "text": [
      "2023-08-15 09:00:36,450 - stpipe - INFO - CRPIX : 1054.0  1046.0  \n"
     ]
    },
    {
     "name": "stdout",
     "output_type": "stream",
     "text": [
      "CRPIX : 1054.0  1046.0  \n"
     ]
    },
    {
     "name": "stderr",
     "output_type": "stream",
     "text": [
      "2023-08-15 09:00:36,452 - stpipe - INFO - CD1_1 CD1_2  : 2.4846514237271144e-06  -1.7325297022669743e-05  \n"
     ]
    },
    {
     "name": "stdout",
     "output_type": "stream",
     "text": [
      "CD1_1 CD1_2  : 2.4846514237271144e-06  -1.7325297022669743e-05  \n"
     ]
    },
    {
     "name": "stderr",
     "output_type": "stream",
     "text": [
      "2023-08-15 09:00:36,454 - stpipe - INFO - CD2_1 CD2_2  : -1.7325297022669743e-05  -2.4846514237271144e-06  \n"
     ]
    },
    {
     "name": "stdout",
     "output_type": "stream",
     "text": [
      "CD2_1 CD2_2  : -1.7325297022669743e-05  -2.4846514237271144e-06  \n"
     ]
    },
    {
     "name": "stderr",
     "output_type": "stream",
     "text": [
      "2023-08-15 09:00:36,456 - stpipe - INFO - NAXIS : 2108  2092\n"
     ]
    },
    {
     "name": "stdout",
     "output_type": "stream",
     "text": [
      "NAXIS : 2108  2092\n"
     ]
    },
    {
     "name": "stderr",
     "output_type": "stream",
     "text": [
      "2023-08-15 09:00:36,458 - stpipe - INFO - Executing 4 parallel workers\n",
      "2023-08-15 09:00:36,472 - stpipe - INFO - -Drizzle input: jw02514197001_02201_00001_nrcblong_rate.fits[sci,1]\n",
      "2023-08-15 09:00:36,483 - stpipe - INFO - -Drizzle input: jw02514197001_02201_00002_nrcblong_rate.fits[sci,1]\n",
      "2023-08-15 09:00:36,506 - stpipe - INFO - -Drizzle input: jw02514197001_02201_00003_nrcblong_rate.fits[sci,1]\n",
      "2023-08-15 09:00:36,515 - stpipe - INFO - -Drizzle input: jw02514197001_02201_00004_nrcblong_rate.fits[sci,1]\n",
      "2023-08-15 09:00:36,520 - stpipe - INFO - Applying sky value of 0.265535 to jw02514197001_02201_00001_nrcblong_rate.fits[sci,1]\n",
      "2023-08-15 09:00:36,548 - stpipe - INFO - Applying sky value of 0.265890 to jw02514197001_02201_00002_nrcblong_rate.fits[sci,1]\n",
      "2023-08-15 09:00:36,556 - stpipe - INFO - Using WCSLIB-based coordinate transformation...\n",
      "2023-08-15 09:00:36,558 - stpipe - INFO - stepsize = 10\n",
      "2023-08-15 09:00:36,565 - stpipe - INFO - Applying sky value of 0.263053 to jw02514197001_02201_00004_nrcblong_rate.fits[sci,1]\n",
      "2023-08-15 09:00:36,568 - stpipe - INFO - Applying sky value of 0.264955 to jw02514197001_02201_00003_nrcblong_rate.fits[sci,1]\n",
      "2023-08-15 09:00:36,579 - stpipe - INFO - Using WCSLIB-based coordinate transformation...\n",
      "2023-08-15 09:00:36,583 - stpipe - INFO - stepsize = 10\n",
      "2023-08-15 09:00:36,583 - stpipe - INFO - -Drizzling using kernel = turbo\n",
      "2023-08-15 09:00:36,585 - stpipe - INFO - \n",
      "2023-08-15 09:00:36,596 - stpipe - INFO - Using WCSLIB-based coordinate transformation...\n",
      "2023-08-15 09:00:36,599 - stpipe - INFO - stepsize = 10\n",
      "2023-08-15 09:00:36,601 - stpipe - INFO - Using WCSLIB-based coordinate transformation...\n",
      "2023-08-15 09:00:36,603 - stpipe - INFO - stepsize = 10\n",
      "2023-08-15 09:00:36,615 - stpipe - INFO - -Drizzling using kernel = turbo\n",
      "2023-08-15 09:00:36,617 - stpipe - INFO - \n",
      "2023-08-15 09:00:36,621 - stpipe - INFO - -Drizzling using kernel = turbo\n",
      "2023-08-15 09:00:36,622 - stpipe - INFO - \n",
      "2023-08-15 09:00:36,627 - stpipe - INFO - -Drizzling using kernel = turbo\n",
      "2023-08-15 09:00:36,631 - stpipe - INFO - \n",
      "2023-08-15 09:00:37,092 - stpipe - INFO - -Generating simple FITS output: jw02514197001_02201_00001_nrcblong_rate_single_sci.fits\n"
     ]
    },
    {
     "name": "stdout",
     "output_type": "stream",
     "text": [
      "-Generating simple FITS output: jw02514197001_02201_00001_nrcblong_rate_single_sci.fits\n"
     ]
    },
    {
     "name": "stderr",
     "output_type": "stream",
     "text": [
      "2023-08-15 09:00:37,127 - stpipe - INFO - -Generating simple FITS output: jw02514197001_02201_00002_nrcblong_rate_single_sci.fits\n",
      "2023-08-15 09:00:37,128 - stpipe - INFO - -Generating simple FITS output: jw02514197001_02201_00003_nrcblong_rate_single_sci.fits\n"
     ]
    },
    {
     "name": "stdout",
     "output_type": "stream",
     "text": [
      "-Generating simple FITS output: jw02514197001_02201_00002_nrcblong_rate_single_sci.fits\n",
      "-Generating simple FITS output: jw02514197001_02201_00003_nrcblong_rate_single_sci.fits\n"
     ]
    },
    {
     "name": "stderr",
     "output_type": "stream",
     "text": [
      "2023-08-15 09:00:37,159 - stpipe - INFO - -Generating simple FITS output: jw02514197001_02201_00004_nrcblong_rate_single_sci.fits\n"
     ]
    },
    {
     "name": "stdout",
     "output_type": "stream",
     "text": [
      "-Generating simple FITS output: jw02514197001_02201_00004_nrcblong_rate_single_sci.fits\n"
     ]
    },
    {
     "name": "stderr",
     "output_type": "stream",
     "text": [
      "2023-08-15 09:00:37,288 - stpipe - INFO - Writing out image to disk: jw02514197001_02201_00001_nrcblong_rate_single_sci.fits\n"
     ]
    },
    {
     "name": "stdout",
     "output_type": "stream",
     "text": [
      "Writing out image to disk: jw02514197001_02201_00001_nrcblong_rate_single_sci.fits\n"
     ]
    },
    {
     "name": "stderr",
     "output_type": "stream",
     "text": [
      "2023-08-15 09:00:37,296 - stpipe - INFO - Writing out image to disk: jw02514197001_02201_00003_nrcblong_rate_single_sci.fits\n"
     ]
    },
    {
     "name": "stdout",
     "output_type": "stream",
     "text": [
      "Writing out image to disk: jw02514197001_02201_00003_nrcblong_rate_single_sci.fits\n"
     ]
    },
    {
     "name": "stderr",
     "output_type": "stream",
     "text": [
      "2023-08-15 09:00:37,304 - stpipe - INFO - Writing out image to disk: jw02514197001_02201_00002_nrcblong_rate_single_sci.fits\n"
     ]
    },
    {
     "name": "stdout",
     "output_type": "stream",
     "text": [
      "Writing out image to disk: jw02514197001_02201_00002_nrcblong_rate_single_sci.fits\n"
     ]
    },
    {
     "name": "stderr",
     "output_type": "stream",
     "text": [
      "2023-08-15 09:00:37,332 - stpipe - INFO - Writing out image to disk: jw02514197001_02201_00004_nrcblong_rate_single_sci.fits\n"
     ]
    },
    {
     "name": "stdout",
     "output_type": "stream",
     "text": [
      "Writing out image to disk: jw02514197001_02201_00004_nrcblong_rate_single_sci.fits\n"
     ]
    },
    {
     "name": "stderr",
     "output_type": "stream",
     "text": [
      "2023-08-15 09:00:37,384 - stpipe - INFO - Writing out image to disk: jw02514197001_02201_00003_nrcblong_rate_single_wht.fits\n"
     ]
    },
    {
     "name": "stdout",
     "output_type": "stream",
     "text": [
      "Writing out image to disk: jw02514197001_02201_00003_nrcblong_rate_single_wht.fits\n"
     ]
    },
    {
     "name": "stderr",
     "output_type": "stream",
     "text": [
      "2023-08-15 09:00:37,391 - stpipe - INFO - Writing out image to disk: jw02514197001_02201_00001_nrcblong_rate_single_wht.fits\n"
     ]
    },
    {
     "name": "stdout",
     "output_type": "stream",
     "text": [
      "Writing out image to disk: jw02514197001_02201_00001_nrcblong_rate_single_wht.fits\n"
     ]
    },
    {
     "name": "stderr",
     "output_type": "stream",
     "text": [
      "2023-08-15 09:00:37,402 - stpipe - INFO - Writing out image to disk: jw02514197001_02201_00002_nrcblong_rate_single_wht.fits\n"
     ]
    },
    {
     "name": "stdout",
     "output_type": "stream",
     "text": [
      "Writing out image to disk: jw02514197001_02201_00002_nrcblong_rate_single_wht.fits\n"
     ]
    },
    {
     "name": "stderr",
     "output_type": "stream",
     "text": [
      "2023-08-15 09:00:37,435 - stpipe - INFO - Writing out image to disk: jw02514197001_02201_00004_nrcblong_rate_single_wht.fits\n"
     ]
    },
    {
     "name": "stdout",
     "output_type": "stream",
     "text": [
      "Writing out image to disk: jw02514197001_02201_00004_nrcblong_rate_single_wht.fits\n"
     ]
    },
    {
     "name": "stderr",
     "output_type": "stream",
     "text": [
      "2023-08-15 09:00:37,509 - stpipe - INFO - ==== Processing Step Separate Drizzle finished at 09:00:37.508 (15/08/2023)\n"
     ]
    },
    {
     "name": "stdout",
     "output_type": "stream",
     "text": [
      "==== Processing Step Separate Drizzle finished at 09:00:37.508 (15/08/2023)\n"
     ]
    },
    {
     "name": "stderr",
     "output_type": "stream",
     "text": [
      "2023-08-15 09:00:37,512 - stpipe - INFO - ==== Processing Step  Create Median  started at  09:00:37.511 (15/08/2023)\n"
     ]
    },
    {
     "name": "stdout",
     "output_type": "stream",
     "text": [
      "==== Processing Step  Create Median  started at  09:00:37.511 (15/08/2023)\n"
     ]
    },
    {
     "name": "stderr",
     "output_type": "stream",
     "text": [
      "2023-08-15 09:00:37,513 - stpipe - INFO - \n"
     ]
    },
    {
     "name": "stdout",
     "output_type": "stream",
     "text": [
      "\n"
     ]
    },
    {
     "name": "stderr",
     "output_type": "stream",
     "text": [
      "2023-08-15 09:00:37,515 - stpipe - INFO - USER INPUT PARAMETERS for Create Median Step:\n",
      "2023-08-15 09:00:37,516 - stpipe - INFO - \tcombine_bufsize :\tNone\n",
      "2023-08-15 09:00:37,517 - stpipe - INFO - \tcombine_grow :\t1\n",
      "2023-08-15 09:00:37,518 - stpipe - INFO - \tcombine_hthresh :\tNone\n",
      "2023-08-15 09:00:37,519 - stpipe - INFO - \tcombine_lthresh :\tNone\n",
      "2023-08-15 09:00:37,520 - stpipe - INFO - \tcombine_maskpt :\t0.3\n",
      "2023-08-15 09:00:37,522 - stpipe - INFO - \tcombine_nhigh :\t0\n",
      "2023-08-15 09:00:37,523 - stpipe - INFO - \tcombine_nlow :\t0\n",
      "2023-08-15 09:00:37,524 - stpipe - INFO - \tcombine_nsigma :\t4 3\n",
      "2023-08-15 09:00:37,525 - stpipe - INFO - \tcombine_type :\tminmed\n",
      "2023-08-15 09:00:37,526 - stpipe - INFO - \tcompress :\tFalse\n",
      "2023-08-15 09:00:37,527 - stpipe - INFO - \tmedian :\tTrue\n",
      "2023-08-15 09:00:37,528 - stpipe - INFO - \tmedian_newmasks :\tTrue\n",
      "2023-08-15 09:00:37,528 - stpipe - INFO - \tproc_unit :\tnative\n",
      "2023-08-15 09:00:37,559 - stpipe - INFO - reference sky value for image 'jw02514197001_02201_00001_nrcblong_rate.fits' is 62.721763142734765\n"
     ]
    },
    {
     "name": "stdout",
     "output_type": "stream",
     "text": [
      "reference sky value for image 'jw02514197001_02201_00001_nrcblong_rate.fits' is 62.721763142734765\n"
     ]
    },
    {
     "name": "stderr",
     "output_type": "stream",
     "text": [
      "2023-08-15 09:00:37,584 - stpipe - INFO - reference sky value for image 'jw02514197001_02201_00002_nrcblong_rate.fits' is 62.805611541628835\n"
     ]
    },
    {
     "name": "stdout",
     "output_type": "stream",
     "text": [
      "reference sky value for image 'jw02514197001_02201_00002_nrcblong_rate.fits' is 62.805611541628835\n"
     ]
    },
    {
     "name": "stderr",
     "output_type": "stream",
     "text": [
      "2023-08-15 09:00:37,605 - stpipe - INFO - reference sky value for image 'jw02514197001_02201_00003_nrcblong_rate.fits' is 62.584681464314464\n"
     ]
    },
    {
     "name": "stdout",
     "output_type": "stream",
     "text": [
      "reference sky value for image 'jw02514197001_02201_00003_nrcblong_rate.fits' is 62.584681464314464\n"
     ]
    },
    {
     "name": "stderr",
     "output_type": "stream",
     "text": [
      "2023-08-15 09:00:37,626 - stpipe - INFO - reference sky value for image 'jw02514197001_02201_00004_nrcblong_rate.fits' is 62.13545791238546\n"
     ]
    },
    {
     "name": "stdout",
     "output_type": "stream",
     "text": [
      "reference sky value for image 'jw02514197001_02201_00004_nrcblong_rate.fits' is 62.13545791238546\n"
     ]
    },
    {
     "name": "stderr",
     "output_type": "stream",
     "text": [
      "2023-08-15 09:00:38,556 - stpipe - INFO - Saving output median image to: 'indef-02514-197-262.0-nrcb5-f444w-clear_med.fits'\n"
     ]
    },
    {
     "name": "stdout",
     "output_type": "stream",
     "text": [
      "Saving output median image to: 'indef-02514-197-262.0-nrcb5-f444w-clear_med.fits'\n"
     ]
    },
    {
     "name": "stderr",
     "output_type": "stream",
     "text": [
      "2023-08-15 09:00:38,576 - stpipe - INFO - ==== Processing Step Create Median finished at 09:00:38.576 (15/08/2023)\n"
     ]
    },
    {
     "name": "stdout",
     "output_type": "stream",
     "text": [
      "==== Processing Step Create Median finished at 09:00:38.576 (15/08/2023)\n"
     ]
    },
    {
     "name": "stderr",
     "output_type": "stream",
     "text": [
      "2023-08-15 09:00:38,579 - stpipe - INFO - ==== Processing Step  Blot  started at  09:00:38.579 (15/08/2023)\n"
     ]
    },
    {
     "name": "stdout",
     "output_type": "stream",
     "text": [
      "==== Processing Step  Blot  started at  09:00:38.579 (15/08/2023)\n"
     ]
    },
    {
     "name": "stderr",
     "output_type": "stream",
     "text": [
      "2023-08-15 09:00:38,581 - stpipe - INFO - \n"
     ]
    },
    {
     "name": "stdout",
     "output_type": "stream",
     "text": [
      "\n"
     ]
    },
    {
     "name": "stderr",
     "output_type": "stream",
     "text": [
      "2023-08-15 09:00:38,583 - stpipe - INFO - USER INPUT PARAMETERS for Blot Step:\n",
      "2023-08-15 09:00:38,584 - stpipe - INFO - \tblot_addsky :\tTrue\n",
      "2023-08-15 09:00:38,585 - stpipe - INFO - \tblot_interp :\tpoly5\n",
      "2023-08-15 09:00:38,586 - stpipe - INFO - \tblot_sinscl :\t1.0\n",
      "2023-08-15 09:00:38,587 - stpipe - INFO - \tblot_skyval :\t0.0\n",
      "2023-08-15 09:00:38,588 - stpipe - INFO - \tcoeffs :\tTrue\n",
      "2023-08-15 09:00:38,590 - stpipe - INFO -     Blot: creating blotted image:  jw02514197001_02201_00001_nrcblong_rate.fits[sci,1]\n"
     ]
    },
    {
     "name": "stdout",
     "output_type": "stream",
     "text": [
      "    Blot: creating blotted image:  jw02514197001_02201_00001_nrcblong_rate.fits[sci,1]\n"
     ]
    },
    {
     "name": "stderr",
     "output_type": "stream",
     "text": [
      "2023-08-15 09:00:38,608 - stpipe - INFO - Using default C-based coordinate transformation...\n"
     ]
    },
    {
     "name": "stdout",
     "output_type": "stream",
     "text": [
      "Using default C-based coordinate transformation...\n"
     ]
    },
    {
     "name": "stderr",
     "output_type": "stream",
     "text": [
      "2023-08-15 09:00:39,144 - stpipe - INFO - Applying sky value of 0.265535 to blotted image jw02514197001_02201_00001_nrcblong_rate.fits[sci,1]\n",
      "2023-08-15 09:00:39,222 - stpipe - INFO - -Generating simple FITS output: jw02514197001_02201_00001_nrcblong_rate_sci1_blt.fits\n"
     ]
    },
    {
     "name": "stdout",
     "output_type": "stream",
     "text": [
      "-Generating simple FITS output: jw02514197001_02201_00001_nrcblong_rate_sci1_blt.fits\n"
     ]
    },
    {
     "name": "stderr",
     "output_type": "stream",
     "text": [
      "2023-08-15 09:00:39,245 - stpipe - INFO - Writing out image to disk: jw02514197001_02201_00001_nrcblong_rate_sci1_blt.fits\n"
     ]
    },
    {
     "name": "stdout",
     "output_type": "stream",
     "text": [
      "Writing out image to disk: jw02514197001_02201_00001_nrcblong_rate_sci1_blt.fits\n"
     ]
    },
    {
     "name": "stderr",
     "output_type": "stream",
     "text": [
      "2023-08-15 09:00:39,269 - stpipe - INFO -     Blot: creating blotted image:  jw02514197001_02201_00002_nrcblong_rate.fits[sci,1]\n"
     ]
    },
    {
     "name": "stdout",
     "output_type": "stream",
     "text": [
      "    Blot: creating blotted image:  jw02514197001_02201_00002_nrcblong_rate.fits[sci,1]\n"
     ]
    },
    {
     "name": "stderr",
     "output_type": "stream",
     "text": [
      "2023-08-15 09:00:39,284 - stpipe - INFO - Using default C-based coordinate transformation...\n"
     ]
    },
    {
     "name": "stdout",
     "output_type": "stream",
     "text": [
      "Using default C-based coordinate transformation...\n"
     ]
    },
    {
     "name": "stderr",
     "output_type": "stream",
     "text": [
      "2023-08-15 09:00:39,811 - stpipe - INFO - Applying sky value of 0.265890 to blotted image jw02514197001_02201_00002_nrcblong_rate.fits[sci,1]\n",
      "2023-08-15 09:00:39,871 - stpipe - INFO - -Generating simple FITS output: jw02514197001_02201_00002_nrcblong_rate_sci1_blt.fits\n"
     ]
    },
    {
     "name": "stdout",
     "output_type": "stream",
     "text": [
      "-Generating simple FITS output: jw02514197001_02201_00002_nrcblong_rate_sci1_blt.fits\n"
     ]
    },
    {
     "name": "stderr",
     "output_type": "stream",
     "text": [
      "2023-08-15 09:00:39,891 - stpipe - INFO - Writing out image to disk: jw02514197001_02201_00002_nrcblong_rate_sci1_blt.fits\n"
     ]
    },
    {
     "name": "stdout",
     "output_type": "stream",
     "text": [
      "Writing out image to disk: jw02514197001_02201_00002_nrcblong_rate_sci1_blt.fits\n"
     ]
    },
    {
     "name": "stderr",
     "output_type": "stream",
     "text": [
      "2023-08-15 09:00:39,913 - stpipe - INFO -     Blot: creating blotted image:  jw02514197001_02201_00003_nrcblong_rate.fits[sci,1]\n"
     ]
    },
    {
     "name": "stdout",
     "output_type": "stream",
     "text": [
      "    Blot: creating blotted image:  jw02514197001_02201_00003_nrcblong_rate.fits[sci,1]\n"
     ]
    },
    {
     "name": "stderr",
     "output_type": "stream",
     "text": [
      "2023-08-15 09:00:39,927 - stpipe - INFO - Using default C-based coordinate transformation...\n"
     ]
    },
    {
     "name": "stdout",
     "output_type": "stream",
     "text": [
      "Using default C-based coordinate transformation...\n"
     ]
    },
    {
     "name": "stderr",
     "output_type": "stream",
     "text": [
      "2023-08-15 09:00:40,468 - stpipe - INFO - Applying sky value of 0.264955 to blotted image jw02514197001_02201_00003_nrcblong_rate.fits[sci,1]\n",
      "2023-08-15 09:00:40,529 - stpipe - INFO - -Generating simple FITS output: jw02514197001_02201_00003_nrcblong_rate_sci1_blt.fits\n"
     ]
    },
    {
     "name": "stdout",
     "output_type": "stream",
     "text": [
      "-Generating simple FITS output: jw02514197001_02201_00003_nrcblong_rate_sci1_blt.fits\n"
     ]
    },
    {
     "name": "stderr",
     "output_type": "stream",
     "text": [
      "2023-08-15 09:00:40,551 - stpipe - INFO - Writing out image to disk: jw02514197001_02201_00003_nrcblong_rate_sci1_blt.fits\n"
     ]
    },
    {
     "name": "stdout",
     "output_type": "stream",
     "text": [
      "Writing out image to disk: jw02514197001_02201_00003_nrcblong_rate_sci1_blt.fits\n"
     ]
    },
    {
     "name": "stderr",
     "output_type": "stream",
     "text": [
      "2023-08-15 09:00:40,573 - stpipe - INFO -     Blot: creating blotted image:  jw02514197001_02201_00004_nrcblong_rate.fits[sci,1]\n"
     ]
    },
    {
     "name": "stdout",
     "output_type": "stream",
     "text": [
      "    Blot: creating blotted image:  jw02514197001_02201_00004_nrcblong_rate.fits[sci,1]\n"
     ]
    },
    {
     "name": "stderr",
     "output_type": "stream",
     "text": [
      "2023-08-15 09:00:40,587 - stpipe - INFO - Using default C-based coordinate transformation...\n"
     ]
    },
    {
     "name": "stdout",
     "output_type": "stream",
     "text": [
      "Using default C-based coordinate transformation...\n"
     ]
    },
    {
     "name": "stderr",
     "output_type": "stream",
     "text": [
      "2023-08-15 09:00:41,127 - stpipe - INFO - Applying sky value of 0.263053 to blotted image jw02514197001_02201_00004_nrcblong_rate.fits[sci,1]\n",
      "2023-08-15 09:00:41,198 - stpipe - INFO - -Generating simple FITS output: jw02514197001_02201_00004_nrcblong_rate_sci1_blt.fits\n"
     ]
    },
    {
     "name": "stdout",
     "output_type": "stream",
     "text": [
      "-Generating simple FITS output: jw02514197001_02201_00004_nrcblong_rate_sci1_blt.fits\n"
     ]
    },
    {
     "name": "stderr",
     "output_type": "stream",
     "text": [
      "2023-08-15 09:00:41,221 - stpipe - INFO - Writing out image to disk: jw02514197001_02201_00004_nrcblong_rate_sci1_blt.fits\n"
     ]
    },
    {
     "name": "stdout",
     "output_type": "stream",
     "text": [
      "Writing out image to disk: jw02514197001_02201_00004_nrcblong_rate_sci1_blt.fits\n"
     ]
    },
    {
     "name": "stderr",
     "output_type": "stream",
     "text": [
      "2023-08-15 09:00:41,247 - stpipe - INFO - ==== Processing Step Blot finished at 09:00:41.247 (15/08/2023)\n"
     ]
    },
    {
     "name": "stdout",
     "output_type": "stream",
     "text": [
      "==== Processing Step Blot finished at 09:00:41.247 (15/08/2023)\n"
     ]
    },
    {
     "name": "stderr",
     "output_type": "stream",
     "text": [
      "2023-08-15 09:00:41,250 - stpipe - INFO - ==== Processing Step  Driz_CR  started at  09:00:41.2 (15/08/2023)\n"
     ]
    },
    {
     "name": "stdout",
     "output_type": "stream",
     "text": [
      "==== Processing Step  Driz_CR  started at  09:00:41.2 (15/08/2023)\n"
     ]
    },
    {
     "name": "stderr",
     "output_type": "stream",
     "text": [
      "2023-08-15 09:00:41,254 - stpipe - INFO - \n"
     ]
    },
    {
     "name": "stdout",
     "output_type": "stream",
     "text": [
      "\n"
     ]
    },
    {
     "name": "stderr",
     "output_type": "stream",
     "text": [
      "2023-08-15 09:00:41,257 - stpipe - INFO - USER INPUT PARAMETERS for Driz_CR Step:\n",
      "2023-08-15 09:00:41,258 - stpipe - INFO - \tcrbit :\t4096\n",
      "2023-08-15 09:00:41,259 - stpipe - INFO - \tdriz_cr :\tTrue\n",
      "2023-08-15 09:00:41,260 - stpipe - INFO - \tdriz_cr_corr :\tFalse\n",
      "2023-08-15 09:00:41,260 - stpipe - INFO - \tdriz_cr_ctegrow :\t0\n",
      "2023-08-15 09:00:41,261 - stpipe - INFO - \tdriz_cr_grow :\t1\n",
      "2023-08-15 09:00:41,263 - stpipe - INFO - \tdriz_cr_scale :\t2.5 0.7\n",
      "2023-08-15 09:00:41,266 - stpipe - INFO - \tdriz_cr_snr :\t8.0 5.0\n",
      "2023-08-15 09:00:41,268 - stpipe - INFO - \tinmemory :\tFalse\n",
      "2023-08-15 09:00:41,269 - stpipe - INFO - Executing 4 parallel workers\n",
      "2023-08-15 09:00:42,107 - stpipe - INFO - Creating output: jw02514197001_02201_00001_nrcblong_rate_sci1_crmask.fits\n",
      "2023-08-15 09:00:42,104 - stpipe - INFO - Creating output: jw02514197001_02201_00002_nrcblong_rate_sci1_crmask.fits\n"
     ]
    },
    {
     "name": "stdout",
     "output_type": "stream",
     "text": [
      "Creating output: jw02514197001_02201_00002_nrcblong_rate_sci1_crmask.fits\n",
      "Creating output: jw02514197001_02201_00001_nrcblong_rate_sci1_crmask.fits\n"
     ]
    },
    {
     "name": "stderr",
     "output_type": "stream",
     "text": [
      "2023-08-15 09:00:42,146 - stpipe - INFO - Creating output: jw02514197001_02201_00003_nrcblong_rate_sci1_crmask.fits\n"
     ]
    },
    {
     "name": "stdout",
     "output_type": "stream",
     "text": [
      "Creating output: jw02514197001_02201_00003_nrcblong_rate_sci1_crmask.fits\n"
     ]
    },
    {
     "name": "stderr",
     "output_type": "stream",
     "text": [
      "2023-08-15 09:00:42,174 - stpipe - INFO - Creating output: jw02514197001_02201_00004_nrcblong_rate_sci1_crmask.fits\n"
     ]
    },
    {
     "name": "stdout",
     "output_type": "stream",
     "text": [
      "Creating output: jw02514197001_02201_00004_nrcblong_rate_sci1_crmask.fits\n"
     ]
    },
    {
     "name": "stderr",
     "output_type": "stream",
     "text": [
      "2023-08-15 09:00:42,459 - stpipe - INFO - ==== Processing Step Driz_CR finished at 09:00:42.458 (15/08/2023)\n"
     ]
    },
    {
     "name": "stdout",
     "output_type": "stream",
     "text": [
      "==== Processing Step Driz_CR finished at 09:00:42.458 (15/08/2023)\n"
     ]
    },
    {
     "name": "stderr",
     "output_type": "stream",
     "text": [
      "2023-08-15 09:00:42,472 - stpipe - INFO - ==== Processing Step  Final Drizzle  started at  09:00:42.472 (15/08/2023)\n"
     ]
    },
    {
     "name": "stdout",
     "output_type": "stream",
     "text": [
      "==== Processing Step  Final Drizzle  started at  09:00:42.472 (15/08/2023)\n"
     ]
    },
    {
     "name": "stderr",
     "output_type": "stream",
     "text": [
      "2023-08-15 09:00:42,474 - stpipe - INFO - \n"
     ]
    },
    {
     "name": "stdout",
     "output_type": "stream",
     "text": [
      "\n"
     ]
    },
    {
     "name": "stderr",
     "output_type": "stream",
     "text": [
      "2023-08-15 09:00:42,476 - stpipe - INFO - Interpreted paramDict with single=False as:\n",
      "2023-08-15 09:00:42,477 - stpipe - INFO - {'build': False, 'stepsize': 10, 'coeffs': True, 'wcskey': '', 'wht_type': 'IVM', 'kernel': 'square', 'wt_scl': 'exptime', 'pixfrac': 0.8, 'fillval': None, 'maskval': None, 'bits': 4, 'units': 'cps'}\n",
      "2023-08-15 09:00:42,478 - stpipe - INFO - USER INPUT PARAMETERS for Final Drizzle Step:\n",
      "2023-08-15 09:00:42,479 - stpipe - INFO - \tbits :\t4\n",
      "2023-08-15 09:00:42,480 - stpipe - INFO - \tbuild :\tFalse\n",
      "2023-08-15 09:00:42,482 - stpipe - INFO - \tclean :\tTrue\n",
      "2023-08-15 09:00:42,483 - stpipe - INFO - \tcoeffs :\tTrue\n",
      "2023-08-15 09:00:42,484 - stpipe - INFO - \tcrbit :\t4096\n",
      "2023-08-15 09:00:42,485 - stpipe - INFO - \tfillval :\tNone\n",
      "2023-08-15 09:00:42,486 - stpipe - INFO - \tkernel :\tsquare\n",
      "2023-08-15 09:00:42,487 - stpipe - INFO - \tlogfile :\tastrodrizzle.log\n",
      "2023-08-15 09:00:42,488 - stpipe - INFO - \tmaskval :\tNone\n",
      "2023-08-15 09:00:42,490 - stpipe - INFO - \tpixfrac :\t0.8\n",
      "2023-08-15 09:00:42,491 - stpipe - INFO - \tproc_unit :\tnative\n",
      "2023-08-15 09:00:42,491 - stpipe - INFO - \trules_file :\tNone\n",
      "2023-08-15 09:00:42,493 - stpipe - INFO - \tstepsize :\t10\n",
      "2023-08-15 09:00:42,494 - stpipe - INFO - \tunits :\tcps\n",
      "2023-08-15 09:00:42,495 - stpipe - INFO - \twcskey :\t\n",
      "2023-08-15 09:00:42,495 - stpipe - INFO - \twht_type :\tIVM\n",
      "2023-08-15 09:00:42,496 - stpipe - INFO - \twt_scl :\texptime\n",
      "2023-08-15 09:00:42,497 - stpipe - INFO -   **Using sub-sampling value of 10 for kernel square\n",
      "2023-08-15 09:00:42,499 - stpipe - INFO - Running Drizzle to create output frame with WCS of: \n",
      "2023-08-15 09:00:42,500 - stpipe - INFO - WCS Keywords\n"
     ]
    },
    {
     "name": "stdout",
     "output_type": "stream",
     "text": [
      "WCS Keywords\n"
     ]
    },
    {
     "name": "stderr",
     "output_type": "stream",
     "text": [
      "2023-08-15 09:00:42,502 - stpipe - INFO - \n"
     ]
    },
    {
     "name": "stdout",
     "output_type": "stream",
     "text": [
      "\n"
     ]
    },
    {
     "name": "stderr",
     "output_type": "stream",
     "text": [
      "2023-08-15 09:00:42,504 - stpipe - INFO - Number of WCS axes: 2\n"
     ]
    },
    {
     "name": "stdout",
     "output_type": "stream",
     "text": [
      "Number of WCS axes: 2\n"
     ]
    },
    {
     "name": "stderr",
     "output_type": "stream",
     "text": [
      "2023-08-15 09:00:42,506 - stpipe - INFO - CTYPE : 'RA---TAN'  'DEC--TAN'  \n"
     ]
    },
    {
     "name": "stdout",
     "output_type": "stream",
     "text": [
      "CTYPE : 'RA---TAN'  'DEC--TAN'  \n"
     ]
    },
    {
     "name": "stderr",
     "output_type": "stream",
     "text": [
      "2023-08-15 09:00:42,508 - stpipe - INFO - CRVAL : 23.69038697033694  -15.555729398517402  \n"
     ]
    },
    {
     "name": "stdout",
     "output_type": "stream",
     "text": [
      "CRVAL : 23.69038697033694  -15.555729398517402  \n"
     ]
    },
    {
     "name": "stderr",
     "output_type": "stream",
     "text": [
      "2023-08-15 09:00:42,510 - stpipe - INFO - CRPIX : 1054.0  1046.0  \n"
     ]
    },
    {
     "name": "stdout",
     "output_type": "stream",
     "text": [
      "CRPIX : 1054.0  1046.0  \n"
     ]
    },
    {
     "name": "stderr",
     "output_type": "stream",
     "text": [
      "2023-08-15 09:00:42,512 - stpipe - INFO - CD1_1 CD1_2  : 2.4846514237271144e-06  -1.7325297022669743e-05  \n"
     ]
    },
    {
     "name": "stdout",
     "output_type": "stream",
     "text": [
      "CD1_1 CD1_2  : 2.4846514237271144e-06  -1.7325297022669743e-05  \n"
     ]
    },
    {
     "name": "stderr",
     "output_type": "stream",
     "text": [
      "2023-08-15 09:00:42,514 - stpipe - INFO - CD2_1 CD2_2  : -1.7325297022669743e-05  -2.4846514237271144e-06  \n"
     ]
    },
    {
     "name": "stdout",
     "output_type": "stream",
     "text": [
      "CD2_1 CD2_2  : -1.7325297022669743e-05  -2.4846514237271144e-06  \n"
     ]
    },
    {
     "name": "stderr",
     "output_type": "stream",
     "text": [
      "2023-08-15 09:00:42,516 - stpipe - INFO - NAXIS : 2108  2092\n"
     ]
    },
    {
     "name": "stdout",
     "output_type": "stream",
     "text": [
      "NAXIS : 2108  2092\n"
     ]
    },
    {
     "name": "stderr",
     "output_type": "stream",
     "text": [
      "2023-08-15 09:00:42,521 - stpipe - INFO - -Drizzle input: jw02514197001_02201_00001_nrcblong_rate.fits[sci,1]\n",
      "2023-08-15 09:00:42,543 - stpipe - INFO - Applying sky value of 0.265535 to jw02514197001_02201_00001_nrcblong_rate.fits[sci,1]\n",
      "2023-08-15 09:00:42,613 - stpipe - INFO - Automatically creating IVM files for chip 1\n",
      "2023-08-15 09:00:42,615 - stpipe - WARNING - Cannot find flat field file 'jwst_nircam_flat_0584.fits'\n",
      "2023-08-15 09:00:42,617 - stpipe - WARNING - Treating flatfield as a constant value of '1'.\n",
      "2023-08-15 09:00:42,653 - stpipe - INFO - Using WCSLIB-based coordinate transformation...\n",
      "2023-08-15 09:00:42,655 - stpipe - INFO - stepsize = 10\n",
      "2023-08-15 09:00:42,668 - stpipe - INFO - -Drizzling using kernel = square\n",
      "2023-08-15 09:00:42,669 - stpipe - INFO - \n",
      "2023-08-15 09:00:43,389 - stpipe - WARNING - ! 1 points were outside the output image.\n",
      "2023-08-15 09:00:43,391 - stpipe - INFO - -Drizzle input: jw02514197001_02201_00002_nrcblong_rate.fits[sci,1]\n",
      "2023-08-15 09:00:43,414 - stpipe - INFO - Applying sky value of 0.265890 to jw02514197001_02201_00002_nrcblong_rate.fits[sci,1]\n",
      "2023-08-15 09:00:43,475 - stpipe - INFO - Automatically creating IVM files for chip 1\n",
      "2023-08-15 09:00:43,477 - stpipe - WARNING - Cannot find flat field file 'jwst_nircam_flat_0584.fits'\n",
      "2023-08-15 09:00:43,479 - stpipe - WARNING - Treating flatfield as a constant value of '1'.\n",
      "2023-08-15 09:00:43,502 - stpipe - INFO - Using WCSLIB-based coordinate transformation...\n",
      "2023-08-15 09:00:43,503 - stpipe - INFO - stepsize = 10\n",
      "2023-08-15 09:00:43,516 - stpipe - INFO - -Drizzling using kernel = square\n",
      "2023-08-15 09:00:43,517 - stpipe - INFO - \n",
      "2023-08-15 09:00:44,202 - stpipe - INFO - -Drizzle input: jw02514197001_02201_00003_nrcblong_rate.fits[sci,1]\n",
      "2023-08-15 09:00:44,226 - stpipe - INFO - Applying sky value of 0.264955 to jw02514197001_02201_00003_nrcblong_rate.fits[sci,1]\n",
      "2023-08-15 09:00:44,292 - stpipe - INFO - Automatically creating IVM files for chip 1\n",
      "2023-08-15 09:00:44,294 - stpipe - WARNING - Cannot find flat field file 'jwst_nircam_flat_0584.fits'\n",
      "2023-08-15 09:00:44,295 - stpipe - WARNING - Treating flatfield as a constant value of '1'.\n",
      "2023-08-15 09:00:44,317 - stpipe - INFO - Using WCSLIB-based coordinate transformation...\n",
      "2023-08-15 09:00:44,318 - stpipe - INFO - stepsize = 10\n",
      "2023-08-15 09:00:44,332 - stpipe - INFO - -Drizzling using kernel = square\n",
      "2023-08-15 09:00:44,333 - stpipe - INFO - \n",
      "2023-08-15 09:00:45,033 - stpipe - INFO - -Drizzle input: jw02514197001_02201_00004_nrcblong_rate.fits[sci,1]\n",
      "2023-08-15 09:00:45,057 - stpipe - INFO - Applying sky value of 0.263053 to jw02514197001_02201_00004_nrcblong_rate.fits[sci,1]\n",
      "2023-08-15 09:00:45,119 - stpipe - INFO - Automatically creating IVM files for chip 1\n",
      "2023-08-15 09:00:45,121 - stpipe - WARNING - Cannot find flat field file 'jwst_nircam_flat_0584.fits'\n",
      "2023-08-15 09:00:45,122 - stpipe - WARNING - Treating flatfield as a constant value of '1'.\n",
      "2023-08-15 09:00:45,145 - stpipe - INFO - Using WCSLIB-based coordinate transformation...\n",
      "2023-08-15 09:00:45,146 - stpipe - INFO - stepsize = 10\n",
      "2023-08-15 09:00:45,159 - stpipe - INFO - -Drizzling using kernel = square\n",
      "2023-08-15 09:00:45,160 - stpipe - INFO - \n",
      "2023-08-15 09:00:45,843 - stpipe - INFO - Deleting previous output product: indef-02514-197-262.0-nrcb5-f444w-clear_drz_sci.fits\n",
      "2023-08-15 09:00:45,847 - stpipe - INFO - Deleting previous output WHT product: indef-02514-197-262.0-nrcb5-f444w-clear_drz_wht.fits\n",
      "2023-08-15 09:00:46,406 - stpipe - INFO - -Generating simple FITS output: indef-02514-197-262.0-nrcb5-f444w-clear_drz_sci.fits\n"
     ]
    },
    {
     "name": "stdout",
     "output_type": "stream",
     "text": [
      "-Generating simple FITS output: indef-02514-197-262.0-nrcb5-f444w-clear_drz_sci.fits\n"
     ]
    },
    {
     "name": "stderr",
     "output_type": "stream",
     "text": [
      "2023-08-15 09:00:46,584 - stpipe - INFO - Writing out image to disk: indef-02514-197-262.0-nrcb5-f444w-clear_drz_sci.fits\n"
     ]
    },
    {
     "name": "stdout",
     "output_type": "stream",
     "text": [
      "Writing out image to disk: indef-02514-197-262.0-nrcb5-f444w-clear_drz_sci.fits\n"
     ]
    },
    {
     "name": "stderr",
     "output_type": "stream",
     "text": [
      "2023-08-15 09:00:46,730 - stpipe - INFO - Writing out image to disk: indef-02514-197-262.0-nrcb5-f444w-clear_drz_wht.fits\n"
     ]
    },
    {
     "name": "stdout",
     "output_type": "stream",
     "text": [
      "Writing out image to disk: indef-02514-197-262.0-nrcb5-f444w-clear_drz_wht.fits\n"
     ]
    },
    {
     "name": "stderr",
     "output_type": "stream",
     "text": [
      "2023-08-15 09:00:46,759 - stpipe - INFO - ==== Processing Step Final Drizzle finished at 09:00:46.759 (15/08/2023)\n"
     ]
    },
    {
     "name": "stdout",
     "output_type": "stream",
     "text": [
      "==== Processing Step Final Drizzle finished at 09:00:46.759 (15/08/2023)\n"
     ]
    },
    {
     "name": "stderr",
     "output_type": "stream",
     "text": [
      "2023-08-15 09:00:46,761 - stpipe - INFO - \n"
     ]
    },
    {
     "name": "stdout",
     "output_type": "stream",
     "text": [
      "\n"
     ]
    },
    {
     "name": "stderr",
     "output_type": "stream",
     "text": [
      "2023-08-15 09:00:46,763 - stpipe - INFO - AstroDrizzle Version 3.6.1 is finished processing at 09:00:46.762 (15/08/2023).\n"
     ]
    },
    {
     "name": "stdout",
     "output_type": "stream",
     "text": [
      "AstroDrizzle Version 3.6.1 is finished processing at 09:00:46.762 (15/08/2023).\n"
     ]
    },
    {
     "name": "stderr",
     "output_type": "stream",
     "text": [
      "2023-08-15 09:00:46,764 - stpipe - INFO - \n"
     ]
    },
    {
     "name": "stdout",
     "output_type": "stream",
     "text": [
      "\n"
     ]
    },
    {
     "name": "stderr",
     "output_type": "stream",
     "text": [
      "2023-08-15 09:00:46,767 - stpipe - INFO - \n"
     ]
    },
    {
     "name": "stdout",
     "output_type": "stream",
     "text": [
      "\n"
     ]
    },
    {
     "name": "stderr",
     "output_type": "stream",
     "text": [
      "2023-08-15 09:00:46,769 - stpipe - INFO - \n"
     ]
    },
    {
     "name": "stdout",
     "output_type": "stream",
     "text": [
      "\n"
     ]
    },
    {
     "name": "stderr",
     "output_type": "stream",
     "text": [
      "2023-08-15 09:00:46,771 - stpipe - INFO -    --------------------          --------------------\n"
     ]
    },
    {
     "name": "stdout",
     "output_type": "stream",
     "text": [
      "   --------------------          --------------------\n"
     ]
    },
    {
     "name": "stderr",
     "output_type": "stream",
     "text": [
      "2023-08-15 09:00:46,772 - stpipe - INFO -                    Step          Elapsed time\n"
     ]
    },
    {
     "name": "stdout",
     "output_type": "stream",
     "text": [
      "                   Step          Elapsed time\n"
     ]
    },
    {
     "name": "stderr",
     "output_type": "stream",
     "text": [
      "2023-08-15 09:00:46,774 - stpipe - INFO -    --------------------          --------------------\n"
     ]
    },
    {
     "name": "stdout",
     "output_type": "stream",
     "text": [
      "   --------------------          --------------------\n"
     ]
    },
    {
     "name": "stderr",
     "output_type": "stream",
     "text": [
      "2023-08-15 09:00:46,775 - stpipe - INFO - \n"
     ]
    },
    {
     "name": "stdout",
     "output_type": "stream",
     "text": [
      "\n"
     ]
    },
    {
     "name": "stderr",
     "output_type": "stream",
     "text": [
      "2023-08-15 09:00:46,777 - stpipe - INFO -          Initialization          0.8340 sec.\n"
     ]
    },
    {
     "name": "stdout",
     "output_type": "stream",
     "text": [
      "         Initialization          0.8340 sec.\n"
     ]
    },
    {
     "name": "stderr",
     "output_type": "stream",
     "text": [
      "2023-08-15 09:00:46,780 - stpipe - INFO -             Static Mask          0.0063 sec.\n"
     ]
    },
    {
     "name": "stdout",
     "output_type": "stream",
     "text": [
      "            Static Mask          0.0063 sec.\n"
     ]
    },
    {
     "name": "stderr",
     "output_type": "stream",
     "text": [
      "2023-08-15 09:00:46,782 - stpipe - INFO -            Subtract Sky          0.9333 sec.\n"
     ]
    },
    {
     "name": "stdout",
     "output_type": "stream",
     "text": [
      "           Subtract Sky          0.9333 sec.\n"
     ]
    },
    {
     "name": "stderr",
     "output_type": "stream",
     "text": [
      "2023-08-15 09:00:46,783 - stpipe - INFO -        Separate Drizzle          1.0944 sec.\n"
     ]
    },
    {
     "name": "stdout",
     "output_type": "stream",
     "text": [
      "       Separate Drizzle          1.0944 sec.\n"
     ]
    },
    {
     "name": "stderr",
     "output_type": "stream",
     "text": [
      "2023-08-15 09:00:46,785 - stpipe - INFO -           Create Median          1.0648 sec.\n"
     ]
    },
    {
     "name": "stdout",
     "output_type": "stream",
     "text": [
      "          Create Median          1.0648 sec.\n"
     ]
    },
    {
     "name": "stderr",
     "output_type": "stream",
     "text": [
      "2023-08-15 09:00:46,787 - stpipe - INFO -                    Blot          2.6682 sec.\n"
     ]
    },
    {
     "name": "stdout",
     "output_type": "stream",
     "text": [
      "                   Blot          2.6682 sec.\n"
     ]
    },
    {
     "name": "stderr",
     "output_type": "stream",
     "text": [
      "2023-08-15 09:00:46,789 - stpipe - INFO -                 Driz_CR          1.2092 sec.\n"
     ]
    },
    {
     "name": "stdout",
     "output_type": "stream",
     "text": [
      "                Driz_CR          1.2092 sec.\n"
     ]
    },
    {
     "name": "stderr",
     "output_type": "stream",
     "text": [
      "2023-08-15 09:00:46,791 - stpipe - INFO -           Final Drizzle          4.2869 sec.\n"
     ]
    },
    {
     "name": "stdout",
     "output_type": "stream",
     "text": [
      "          Final Drizzle          4.2869 sec.\n"
     ]
    },
    {
     "name": "stderr",
     "output_type": "stream",
     "text": [
      "2023-08-15 09:00:46,793 - stpipe - INFO -    ====================          ====================\n"
     ]
    },
    {
     "name": "stdout",
     "output_type": "stream",
     "text": [
      "   ====================          ====================\n"
     ]
    },
    {
     "name": "stderr",
     "output_type": "stream",
     "text": [
      "2023-08-15 09:00:46,795 - stpipe - INFO -                   Total          12.0970 sec.\n"
     ]
    },
    {
     "name": "stdout",
     "output_type": "stream",
     "text": [
      "                  Total          12.0970 sec.\n"
     ]
    },
    {
     "name": "stderr",
     "output_type": "stream",
     "text": [
      "2023-08-15 09:00:46,797 - stpipe - INFO - \n"
     ]
    },
    {
     "name": "stdout",
     "output_type": "stream",
     "text": [
      "\n"
     ]
    },
    {
     "name": "stderr",
     "output_type": "stream",
     "text": [
      "2023-08-15 09:00:46,799 - stpipe - INFO - Removing intermediate files for jw02514197001_02201_00001_nrcblong_rate.fits\n",
      "2023-08-15 09:00:46,819 - stpipe - INFO - Removing intermediate files for jw02514197001_02201_00002_nrcblong_rate.fits\n",
      "2023-08-15 09:00:46,832 - stpipe - INFO - Removing intermediate files for jw02514197001_02201_00003_nrcblong_rate.fits\n",
      "2023-08-15 09:00:46,843 - stpipe - INFO - Removing intermediate files for jw02514197001_02201_00004_nrcblong_rate.fits\n",
      "2023-08-15 09:00:46,867 - stpipe - INFO - Trailer file written to:  astrodrizzle.log\n"
     ]
    },
    {
     "name": "stdout",
     "output_type": "stream",
     "text": [
      "Trailer file written to:  astrodrizzle.log\n"
     ]
    },
    {
     "name": "stderr",
     "output_type": "stream",
     "text": [
      "2023-08-15 09:00:47,116 - stpipe - INFO - Setting up logfile :  astrodrizzle.log\n"
     ]
    },
    {
     "name": "stdout",
     "output_type": "stream",
     "text": [
      "nircam_wisp_correction - jw02514197001_02201_00001_nrcblong_rate.fits: NIRCam filter F444W not supported\n",
      "nircam_wisp_correction - jw02514197001_02201_00002_nrcblong_rate.fits: NIRCam filter F444W not supported\n",
      "nircam_wisp_correction - jw02514197001_02201_00003_nrcblong_rate.fits: NIRCam filter F444W not supported\n",
      "nircam_wisp_correction - jw02514197001_02201_00004_nrcblong_rate.fits: NIRCam filter F444W not supported\n",
      "Setting up logfile :  astrodrizzle.log\n"
     ]
    },
    {
     "name": "stderr",
     "output_type": "stream",
     "text": [
      "2023-08-15 09:00:47,118 - stpipe - INFO - AstroDrizzle log file: astrodrizzle.log\n"
     ]
    },
    {
     "name": "stdout",
     "output_type": "stream",
     "text": [
      "AstroDrizzle log file: astrodrizzle.log\n"
     ]
    },
    {
     "name": "stderr",
     "output_type": "stream",
     "text": [
      "2023-08-15 09:00:47,120 - stpipe - INFO - AstroDrizzle Version 3.6.1 started at: 09:00:47.119 (15/08/2023)\n"
     ]
    },
    {
     "name": "stdout",
     "output_type": "stream",
     "text": [
      "AstroDrizzle Version 3.6.1 started at: 09:00:47.119 (15/08/2023)\n"
     ]
    },
    {
     "name": "stderr",
     "output_type": "stream",
     "text": [
      "2023-08-15 09:00:47,122 - stpipe - INFO - \n"
     ]
    },
    {
     "name": "stdout",
     "output_type": "stream",
     "text": [
      "\n"
     ]
    },
    {
     "name": "stderr",
     "output_type": "stream",
     "text": [
      "2023-08-15 09:00:47,124 - stpipe - INFO - Version Information\n",
      "2023-08-15 09:00:47,125 - stpipe - INFO - --------------------\n",
      "2023-08-15 09:00:47,126 - stpipe - INFO - Python Version 3.10.8 (main, Nov 16 2022, 17:55:27) [GCC 9.4.0]\n",
      "2023-08-15 09:00:47,128 - stpipe - INFO - numpy Version -> 1.24.4 \n",
      "2023-08-15 09:00:47,129 - stpipe - INFO - astropy Version -> 5.3.1 \n",
      "2023-08-15 09:00:47,129 - stpipe - INFO - stwcs Version -> 1.7.2 \n",
      "2023-08-15 09:00:47,130 - stpipe - INFO - photutils Version -> 1.9.0 \n",
      "2023-08-15 09:00:47,132 - stpipe - INFO - ==== Processing Step  Initialization  started at  09:00:47.132 (15/08/2023)\n"
     ]
    },
    {
     "name": "stdout",
     "output_type": "stream",
     "text": [
      "==== Processing Step  Initialization  started at  09:00:47.132 (15/08/2023)\n"
     ]
    },
    {
     "name": "stderr",
     "output_type": "stream",
     "text": [
      "2023-08-15 09:00:47,134 - stpipe - INFO - \n"
     ]
    },
    {
     "name": "stdout",
     "output_type": "stream",
     "text": [
      "\n"
     ]
    },
    {
     "name": "stderr",
     "output_type": "stream",
     "text": [
      "2023-08-15 09:00:47,190 - stpipe - INFO - Executing serially\n",
      "2023-08-15 09:00:47,277 - stpipe - INFO - Setting up output name: indef-02514-197-262.0-nrcb5-f444w-clear_drz.fits\n",
      "2023-08-15 09:00:47,278 - stpipe - INFO - -Creating imageObject List as input for processing steps.\n",
      "2023-08-15 09:00:47,406 - stpipe - INFO - Reading in MDRIZSKY of 0.26553502678871155\n",
      "2023-08-15 09:00:47,535 - stpipe - INFO - Reading in MDRIZSKY of 0.2658900022506714\n",
      "2023-08-15 09:00:47,660 - stpipe - INFO - Reading in MDRIZSKY of 0.26495468616485596\n",
      "2023-08-15 09:00:47,780 - stpipe - INFO - Reading in MDRIZSKY of 0.26305288076400757\n",
      "2023-08-15 09:00:47,803 - stpipe - INFO - No context image will be created for jw02514197001_02201_00001_nrcblong_rate.fits\n",
      "2023-08-15 09:00:47,805 - stpipe - INFO - No context image will be created for jw02514197001_02201_00002_nrcblong_rate.fits\n",
      "2023-08-15 09:00:47,806 - stpipe - INFO - No context image will be created for jw02514197001_02201_00003_nrcblong_rate.fits\n",
      "2023-08-15 09:00:47,807 - stpipe - INFO - No context image will be created for jw02514197001_02201_00004_nrcblong_rate.fits\n",
      "2023-08-15 09:00:47,808 - stpipe - INFO - -Creating output WCS.\n",
      "2023-08-15 09:00:47,811 - stpipe - INFO - No context image will be created for indef-02514-197-262.0-nrcb5-f444w-clear_drz.fits\n",
      "2023-08-15 09:00:47,813 - stpipe - INFO - WCS Keywords\n"
     ]
    },
    {
     "name": "stdout",
     "output_type": "stream",
     "text": [
      "WCS Keywords\n"
     ]
    },
    {
     "name": "stderr",
     "output_type": "stream",
     "text": [
      "2023-08-15 09:00:47,815 - stpipe - INFO - \n"
     ]
    },
    {
     "name": "stdout",
     "output_type": "stream",
     "text": [
      "\n"
     ]
    },
    {
     "name": "stderr",
     "output_type": "stream",
     "text": [
      "2023-08-15 09:00:47,816 - stpipe - INFO - Number of WCS axes: 2\n"
     ]
    },
    {
     "name": "stdout",
     "output_type": "stream",
     "text": [
      "Number of WCS axes: 2\n"
     ]
    },
    {
     "name": "stderr",
     "output_type": "stream",
     "text": [
      "2023-08-15 09:00:47,818 - stpipe - INFO - CTYPE : 'RA---TAN'  'DEC--TAN'  \n"
     ]
    },
    {
     "name": "stdout",
     "output_type": "stream",
     "text": [
      "CTYPE : 'RA---TAN'  'DEC--TAN'  \n"
     ]
    },
    {
     "name": "stderr",
     "output_type": "stream",
     "text": [
      "2023-08-15 09:00:47,820 - stpipe - INFO - CRVAL : 23.69038697033694  -15.555729398517402  \n"
     ]
    },
    {
     "name": "stdout",
     "output_type": "stream",
     "text": [
      "CRVAL : 23.69038697033694  -15.555729398517402  \n"
     ]
    },
    {
     "name": "stderr",
     "output_type": "stream",
     "text": [
      "2023-08-15 09:00:47,821 - stpipe - INFO - CRPIX : 1054.0  1046.0  \n"
     ]
    },
    {
     "name": "stdout",
     "output_type": "stream",
     "text": [
      "CRPIX : 1054.0  1046.0  \n"
     ]
    },
    {
     "name": "stderr",
     "output_type": "stream",
     "text": [
      "2023-08-15 09:00:47,823 - stpipe - INFO - CD1_1 CD1_2  : 2.4846514237271144e-06  -1.7325297022669743e-05  \n"
     ]
    },
    {
     "name": "stdout",
     "output_type": "stream",
     "text": [
      "CD1_1 CD1_2  : 2.4846514237271144e-06  -1.7325297022669743e-05  \n"
     ]
    },
    {
     "name": "stderr",
     "output_type": "stream",
     "text": [
      "2023-08-15 09:00:47,824 - stpipe - INFO - CD2_1 CD2_2  : -1.7325297022669743e-05  -2.4846514237271144e-06  \n"
     ]
    },
    {
     "name": "stdout",
     "output_type": "stream",
     "text": [
      "CD2_1 CD2_2  : -1.7325297022669743e-05  -2.4846514237271144e-06  \n"
     ]
    },
    {
     "name": "stderr",
     "output_type": "stream",
     "text": [
      "2023-08-15 09:00:47,826 - stpipe - INFO - NAXIS : 2108  2092\n"
     ]
    },
    {
     "name": "stdout",
     "output_type": "stream",
     "text": [
      "NAXIS : 2108  2092\n"
     ]
    },
    {
     "name": "stderr",
     "output_type": "stream",
     "text": [
      "2023-08-15 09:00:47,828 - stpipe - INFO - ********************************************************************************\n"
     ]
    },
    {
     "name": "stdout",
     "output_type": "stream",
     "text": [
      "********************************************************************************\n"
     ]
    },
    {
     "name": "stderr",
     "output_type": "stream",
     "text": [
      "2023-08-15 09:00:47,830 - stpipe - INFO - *\n"
     ]
    },
    {
     "name": "stdout",
     "output_type": "stream",
     "text": [
      "*\n"
     ]
    },
    {
     "name": "stderr",
     "output_type": "stream",
     "text": [
      "2023-08-15 09:00:47,833 - stpipe - INFO - *  Estimated memory usage:  up to 82 Mb.\n"
     ]
    },
    {
     "name": "stdout",
     "output_type": "stream",
     "text": [
      "*  Estimated memory usage:  up to 82 Mb.\n"
     ]
    },
    {
     "name": "stderr",
     "output_type": "stream",
     "text": [
      "2023-08-15 09:00:47,835 - stpipe - INFO - *  Output image size:       2108 X 2092 pixels. \n"
     ]
    },
    {
     "name": "stdout",
     "output_type": "stream",
     "text": [
      "*  Output image size:       2108 X 2092 pixels. \n"
     ]
    },
    {
     "name": "stderr",
     "output_type": "stream",
     "text": [
      "2023-08-15 09:00:47,836 - stpipe - INFO - *  Output image file:       ~ 50 Mb. \n"
     ]
    },
    {
     "name": "stdout",
     "output_type": "stream",
     "text": [
      "*  Output image file:       ~ 50 Mb. \n"
     ]
    },
    {
     "name": "stderr",
     "output_type": "stream",
     "text": [
      "2023-08-15 09:00:47,838 - stpipe - INFO - *  Cores available:         1\n"
     ]
    },
    {
     "name": "stdout",
     "output_type": "stream",
     "text": [
      "*  Cores available:         1\n"
     ]
    },
    {
     "name": "stderr",
     "output_type": "stream",
     "text": [
      "2023-08-15 09:00:47,839 - stpipe - INFO - *\n"
     ]
    },
    {
     "name": "stdout",
     "output_type": "stream",
     "text": [
      "*\n"
     ]
    },
    {
     "name": "stderr",
     "output_type": "stream",
     "text": [
      "2023-08-15 09:00:47,841 - stpipe - INFO - ********************************************************************************\n"
     ]
    },
    {
     "name": "stdout",
     "output_type": "stream",
     "text": [
      "********************************************************************************\n"
     ]
    },
    {
     "name": "stderr",
     "output_type": "stream",
     "text": [
      "2023-08-15 09:00:47,844 - stpipe - INFO - ==== Processing Step Initialization finished at 09:00:47.844 (15/08/2023)\n"
     ]
    },
    {
     "name": "stdout",
     "output_type": "stream",
     "text": [
      "==== Processing Step Initialization finished at 09:00:47.844 (15/08/2023)\n"
     ]
    },
    {
     "name": "stderr",
     "output_type": "stream",
     "text": [
      "2023-08-15 09:00:47,846 - stpipe - INFO - USER INPUT PARAMETERS common to all Processing Steps:\n",
      "2023-08-15 09:00:47,847 - stpipe - INFO - \tbuild :\tFalse\n",
      "2023-08-15 09:00:47,848 - stpipe - INFO - \tcoeffs :\tTrue\n",
      "2023-08-15 09:00:47,849 - stpipe - INFO - \tcontext :\tFalse\n",
      "2023-08-15 09:00:47,850 - stpipe - INFO - \tcrbit :\t4096\n",
      "2023-08-15 09:00:47,851 - stpipe - INFO - \tgroup :\t\n",
      "2023-08-15 09:00:47,852 - stpipe - INFO - \tin_memory :\tFalse\n",
      "2023-08-15 09:00:47,853 - stpipe - INFO - \tinput :\t['jw02514197001_02201_00001_nrcblong_rate.fits', 'jw02514197001_02201_00002_nrcblong_rate.fits', 'jw02514197001_02201_00003_nrcblong_rate.fits', 'jw02514197001_02201_00004_nrcblong_rate.fits']\n",
      "2023-08-15 09:00:47,854 - stpipe - INFO - \tmdriztab :\tFalse\n",
      "2023-08-15 09:00:47,855 - stpipe - INFO - \tnum_cores :\tNone\n",
      "2023-08-15 09:00:47,856 - stpipe - INFO - \toutput :\tindef-02514-197-262.0-nrcb5-f444w-clear\n",
      "2023-08-15 09:00:47,857 - stpipe - INFO - \tproc_unit :\tnative\n",
      "2023-08-15 09:00:47,858 - stpipe - INFO - \tresetbits :\t0\n",
      "2023-08-15 09:00:47,859 - stpipe - INFO - \trules_file :\t\n",
      "2023-08-15 09:00:47,860 - stpipe - INFO - \trunfile :\tastrodrizzle.log\n",
      "2023-08-15 09:00:47,861 - stpipe - INFO - \tstepsize :\t10\n",
      "2023-08-15 09:00:47,861 - stpipe - INFO - \tupdatewcs :\tFalse\n",
      "2023-08-15 09:00:47,863 - stpipe - INFO - \twcskey :\t\n",
      "2023-08-15 09:00:47,864 - stpipe - INFO - ==== Processing Step  Static Mask  started at  09:00:47.864 (15/08/2023)\n"
     ]
    },
    {
     "name": "stdout",
     "output_type": "stream",
     "text": [
      "==== Processing Step  Static Mask  started at  09:00:47.864 (15/08/2023)\n"
     ]
    },
    {
     "name": "stderr",
     "output_type": "stream",
     "text": [
      "2023-08-15 09:00:47,866 - stpipe - INFO - \n"
     ]
    },
    {
     "name": "stdout",
     "output_type": "stream",
     "text": [
      "\n"
     ]
    },
    {
     "name": "stderr",
     "output_type": "stream",
     "text": [
      "2023-08-15 09:00:47,868 - stpipe - INFO - Static Mask step not performed.\n",
      "2023-08-15 09:00:47,869 - stpipe - INFO - ==== Processing Step Static Mask finished at 09:00:47.869 (15/08/2023)\n"
     ]
    },
    {
     "name": "stdout",
     "output_type": "stream",
     "text": [
      "==== Processing Step Static Mask finished at 09:00:47.869 (15/08/2023)\n"
     ]
    },
    {
     "name": "stderr",
     "output_type": "stream",
     "text": [
      "2023-08-15 09:00:47,871 - stpipe - INFO - ==== Processing Step  Subtract Sky  started at  09:00:47.871 (15/08/2023)\n"
     ]
    },
    {
     "name": "stdout",
     "output_type": "stream",
     "text": [
      "==== Processing Step  Subtract Sky  started at  09:00:47.871 (15/08/2023)\n"
     ]
    },
    {
     "name": "stderr",
     "output_type": "stream",
     "text": [
      "2023-08-15 09:00:47,873 - stpipe - INFO - \n"
     ]
    },
    {
     "name": "stdout",
     "output_type": "stream",
     "text": [
      "\n"
     ]
    },
    {
     "name": "stderr",
     "output_type": "stream",
     "text": [
      "2023-08-15 09:00:47,875 - stpipe - INFO - USER INPUT PARAMETERS for Sky Subtraction Step:\n",
      "2023-08-15 09:00:47,876 - stpipe - INFO - \tsky_bits :\t0\n",
      "2023-08-15 09:00:47,876 - stpipe - INFO - \tskyclip :\t5\n",
      "2023-08-15 09:00:47,877 - stpipe - INFO - \tskyfile :\t\n",
      "2023-08-15 09:00:47,878 - stpipe - INFO - \tskylower :\tNone\n",
      "2023-08-15 09:00:47,879 - stpipe - INFO - \tskylsigma :\t4.0\n",
      "2023-08-15 09:00:47,880 - stpipe - INFO - \tskymask_cat :\t\n",
      "2023-08-15 09:00:47,882 - stpipe - INFO - \tskymethod :\tlocalmin\n",
      "2023-08-15 09:00:47,882 - stpipe - INFO - \tskystat :\tmedian\n",
      "2023-08-15 09:00:47,883 - stpipe - INFO - \tskysub :\tTrue\n",
      "2023-08-15 09:00:47,884 - stpipe - INFO - \tskyupper :\tNone\n",
      "2023-08-15 09:00:47,885 - stpipe - INFO - \tskyuser :\t\n",
      "2023-08-15 09:00:47,886 - stpipe - INFO - \tskyusigma :\t4.0\n",
      "2023-08-15 09:00:47,886 - stpipe - INFO - \tskywidth :\t0.1\n",
      "2023-08-15 09:00:47,888 - stpipe - INFO - \tuse_static :\tTrue\n",
      "2023-08-15 09:00:47,907 - stpipe - WARNING - Static mask for file 'jw02514197001_02201_00001_nrcblong_rate.fits', ext=('SCI', 1) NOT FOUND.\n",
      "2023-08-15 09:00:47,928 - stpipe - WARNING - Static mask for file 'jw02514197001_02201_00002_nrcblong_rate.fits', ext=('SCI', 1) NOT FOUND.\n",
      "2023-08-15 09:00:47,949 - stpipe - WARNING - Static mask for file 'jw02514197001_02201_00003_nrcblong_rate.fits', ext=('SCI', 1) NOT FOUND.\n",
      "2023-08-15 09:00:47,969 - stpipe - WARNING - Static mask for file 'jw02514197001_02201_00004_nrcblong_rate.fits', ext=('SCI', 1) NOT FOUND.\n",
      "2023-08-15 09:00:47,977 - stpipe - INFO - ***** skymatch started on 2023-08-15 09:00:47.977259\n"
     ]
    },
    {
     "name": "stdout",
     "output_type": "stream",
     "text": [
      "***** skymatch started on 2023-08-15 09:00:47.977259\n"
     ]
    },
    {
     "name": "stderr",
     "output_type": "stream",
     "text": [
      "2023-08-15 09:00:47,979 - stpipe - INFO -       Version 1.0.9\n"
     ]
    },
    {
     "name": "stdout",
     "output_type": "stream",
     "text": [
      "      Version 1.0.9\n"
     ]
    },
    {
     "name": "stderr",
     "output_type": "stream",
     "text": [
      "2023-08-15 09:00:47,980 - stpipe - INFO - \n"
     ]
    },
    {
     "name": "stdout",
     "output_type": "stream",
     "text": [
      "\n"
     ]
    },
    {
     "name": "stderr",
     "output_type": "stream",
     "text": [
      "2023-08-15 09:00:47,982 - stpipe - INFO - 'skymatch' task will apply computed sky differences to input image file(s).\n"
     ]
    },
    {
     "name": "stdout",
     "output_type": "stream",
     "text": [
      "'skymatch' task will apply computed sky differences to input image file(s).\n"
     ]
    },
    {
     "name": "stderr",
     "output_type": "stream",
     "text": [
      "2023-08-15 09:00:47,984 - stpipe - INFO - \n"
     ]
    },
    {
     "name": "stdout",
     "output_type": "stream",
     "text": [
      "\n"
     ]
    },
    {
     "name": "stderr",
     "output_type": "stream",
     "text": [
      "2023-08-15 09:00:47,985 - stpipe - INFO - NOTE: Computed sky values WILL NOT be subtracted from image data ('subtractsky'=False).\n"
     ]
    },
    {
     "name": "stdout",
     "output_type": "stream",
     "text": [
      "NOTE: Computed sky values WILL NOT be subtracted from image data ('subtractsky'=False).\n"
     ]
    },
    {
     "name": "stderr",
     "output_type": "stream",
     "text": [
      "2023-08-15 09:00:47,988 - stpipe - INFO - 'MDRIZSKY' header keyword will represent sky value *computed* from data.\n"
     ]
    },
    {
     "name": "stdout",
     "output_type": "stream",
     "text": [
      "'MDRIZSKY' header keyword will represent sky value *computed* from data.\n"
     ]
    },
    {
     "name": "stderr",
     "output_type": "stream",
     "text": [
      "2023-08-15 09:00:47,990 - stpipe - INFO - \n"
     ]
    },
    {
     "name": "stdout",
     "output_type": "stream",
     "text": [
      "\n"
     ]
    },
    {
     "name": "stderr",
     "output_type": "stream",
     "text": [
      "2023-08-15 09:00:47,991 - stpipe - INFO - -----  User specified keywords:  -----\n"
     ]
    },
    {
     "name": "stdout",
     "output_type": "stream",
     "text": [
      "-----  User specified keywords:  -----\n"
     ]
    },
    {
     "name": "stderr",
     "output_type": "stream",
     "text": [
      "2023-08-15 09:00:47,993 - stpipe - INFO -        Sky Value Keyword:  'MDRIZSKY'\n"
     ]
    },
    {
     "name": "stdout",
     "output_type": "stream",
     "text": [
      "       Sky Value Keyword:  'MDRIZSKY'\n"
     ]
    },
    {
     "name": "stderr",
     "output_type": "stream",
     "text": [
      "2023-08-15 09:00:47,995 - stpipe - INFO -        Data Units Keyword: 'BUNIT'\n"
     ]
    },
    {
     "name": "stdout",
     "output_type": "stream",
     "text": [
      "       Data Units Keyword: 'BUNIT'\n"
     ]
    },
    {
     "name": "stderr",
     "output_type": "stream",
     "text": [
      "2023-08-15 09:00:47,996 - stpipe - INFO - \n"
     ]
    },
    {
     "name": "stdout",
     "output_type": "stream",
     "text": [
      "\n"
     ]
    },
    {
     "name": "stderr",
     "output_type": "stream",
     "text": [
      "2023-08-15 09:00:47,999 - stpipe - INFO - \n"
     ]
    },
    {
     "name": "stdout",
     "output_type": "stream",
     "text": [
      "\n"
     ]
    },
    {
     "name": "stderr",
     "output_type": "stream",
     "text": [
      "2023-08-15 09:00:48,001 - stpipe - INFO - -----  Input file list:  -----\n"
     ]
    },
    {
     "name": "stdout",
     "output_type": "stream",
     "text": [
      "-----  Input file list:  -----\n"
     ]
    },
    {
     "name": "stderr",
     "output_type": "stream",
     "text": [
      "2023-08-15 09:00:48,003 - stpipe - INFO - \n"
     ]
    },
    {
     "name": "stdout",
     "output_type": "stream",
     "text": [
      "\n"
     ]
    },
    {
     "name": "stderr",
     "output_type": "stream",
     "text": [
      "2023-08-15 09:00:48,005 - stpipe - INFO -    **  Input image: 'jw02514197001_02201_00001_nrcblong_rate.fits'\n"
     ]
    },
    {
     "name": "stdout",
     "output_type": "stream",
     "text": [
      "   **  Input image: 'jw02514197001_02201_00001_nrcblong_rate.fits'\n"
     ]
    },
    {
     "name": "stderr",
     "output_type": "stream",
     "text": [
      "2023-08-15 09:00:48,007 - stpipe - INFO -        EXT: 'SCI',1;\tMASK: jw02514197001_02201_00001_nrcblong_skymatch_mask_sci1.fits[0]\n"
     ]
    },
    {
     "name": "stdout",
     "output_type": "stream",
     "text": [
      "       EXT: 'SCI',1;\tMASK: jw02514197001_02201_00001_nrcblong_skymatch_mask_sci1.fits[0]\n"
     ]
    },
    {
     "name": "stderr",
     "output_type": "stream",
     "text": [
      "2023-08-15 09:00:48,009 - stpipe - INFO - \n"
     ]
    },
    {
     "name": "stdout",
     "output_type": "stream",
     "text": [
      "\n"
     ]
    },
    {
     "name": "stderr",
     "output_type": "stream",
     "text": [
      "2023-08-15 09:00:48,010 - stpipe - INFO -    **  Input image: 'jw02514197001_02201_00002_nrcblong_rate.fits'\n"
     ]
    },
    {
     "name": "stdout",
     "output_type": "stream",
     "text": [
      "   **  Input image: 'jw02514197001_02201_00002_nrcblong_rate.fits'\n"
     ]
    },
    {
     "name": "stderr",
     "output_type": "stream",
     "text": [
      "2023-08-15 09:00:48,013 - stpipe - INFO -        EXT: 'SCI',1;\tMASK: jw02514197001_02201_00002_nrcblong_skymatch_mask_sci1.fits[0]\n"
     ]
    },
    {
     "name": "stdout",
     "output_type": "stream",
     "text": [
      "       EXT: 'SCI',1;\tMASK: jw02514197001_02201_00002_nrcblong_skymatch_mask_sci1.fits[0]\n"
     ]
    },
    {
     "name": "stderr",
     "output_type": "stream",
     "text": [
      "2023-08-15 09:00:48,019 - stpipe - INFO - \n"
     ]
    },
    {
     "name": "stdout",
     "output_type": "stream",
     "text": [
      "\n"
     ]
    },
    {
     "name": "stderr",
     "output_type": "stream",
     "text": [
      "2023-08-15 09:00:48,021 - stpipe - INFO -    **  Input image: 'jw02514197001_02201_00003_nrcblong_rate.fits'\n"
     ]
    },
    {
     "name": "stdout",
     "output_type": "stream",
     "text": [
      "   **  Input image: 'jw02514197001_02201_00003_nrcblong_rate.fits'\n"
     ]
    },
    {
     "name": "stderr",
     "output_type": "stream",
     "text": [
      "2023-08-15 09:00:48,023 - stpipe - INFO -        EXT: 'SCI',1;\tMASK: jw02514197001_02201_00003_nrcblong_skymatch_mask_sci1.fits[0]\n"
     ]
    },
    {
     "name": "stdout",
     "output_type": "stream",
     "text": [
      "       EXT: 'SCI',1;\tMASK: jw02514197001_02201_00003_nrcblong_skymatch_mask_sci1.fits[0]\n"
     ]
    },
    {
     "name": "stderr",
     "output_type": "stream",
     "text": [
      "2023-08-15 09:00:48,024 - stpipe - INFO - \n"
     ]
    },
    {
     "name": "stdout",
     "output_type": "stream",
     "text": [
      "\n"
     ]
    },
    {
     "name": "stderr",
     "output_type": "stream",
     "text": [
      "2023-08-15 09:00:48,025 - stpipe - INFO -    **  Input image: 'jw02514197001_02201_00004_nrcblong_rate.fits'\n"
     ]
    },
    {
     "name": "stdout",
     "output_type": "stream",
     "text": [
      "   **  Input image: 'jw02514197001_02201_00004_nrcblong_rate.fits'\n"
     ]
    },
    {
     "name": "stderr",
     "output_type": "stream",
     "text": [
      "2023-08-15 09:00:48,028 - stpipe - INFO -        EXT: 'SCI',1;\tMASK: jw02514197001_02201_00004_nrcblong_skymatch_mask_sci1.fits[0]\n"
     ]
    },
    {
     "name": "stdout",
     "output_type": "stream",
     "text": [
      "       EXT: 'SCI',1;\tMASK: jw02514197001_02201_00004_nrcblong_skymatch_mask_sci1.fits[0]\n"
     ]
    },
    {
     "name": "stderr",
     "output_type": "stream",
     "text": [
      "2023-08-15 09:00:48,029 - stpipe - INFO - \n"
     ]
    },
    {
     "name": "stdout",
     "output_type": "stream",
     "text": [
      "\n"
     ]
    },
    {
     "name": "stderr",
     "output_type": "stream",
     "text": [
      "2023-08-15 09:00:48,033 - stpipe - INFO - -----  Sky statistics parameters:  -----\n"
     ]
    },
    {
     "name": "stdout",
     "output_type": "stream",
     "text": [
      "-----  Sky statistics parameters:  -----\n"
     ]
    },
    {
     "name": "stderr",
     "output_type": "stream",
     "text": [
      "2023-08-15 09:00:48,035 - stpipe - INFO -        statistics function: 'median'\n"
     ]
    },
    {
     "name": "stdout",
     "output_type": "stream",
     "text": [
      "       statistics function: 'median'\n"
     ]
    },
    {
     "name": "stderr",
     "output_type": "stream",
     "text": [
      "2023-08-15 09:00:48,036 - stpipe - INFO -        lower = None\n"
     ]
    },
    {
     "name": "stdout",
     "output_type": "stream",
     "text": [
      "       lower = None\n"
     ]
    },
    {
     "name": "stderr",
     "output_type": "stream",
     "text": [
      "2023-08-15 09:00:48,038 - stpipe - INFO -        upper = None\n"
     ]
    },
    {
     "name": "stdout",
     "output_type": "stream",
     "text": [
      "       upper = None\n"
     ]
    },
    {
     "name": "stderr",
     "output_type": "stream",
     "text": [
      "2023-08-15 09:00:48,040 - stpipe - INFO -        nclip = 5\n"
     ]
    },
    {
     "name": "stdout",
     "output_type": "stream",
     "text": [
      "       nclip = 5\n"
     ]
    },
    {
     "name": "stderr",
     "output_type": "stream",
     "text": [
      "2023-08-15 09:00:48,042 - stpipe - INFO -        lsigma = 4.0\n"
     ]
    },
    {
     "name": "stdout",
     "output_type": "stream",
     "text": [
      "       lsigma = 4.0\n"
     ]
    },
    {
     "name": "stderr",
     "output_type": "stream",
     "text": [
      "2023-08-15 09:00:48,043 - stpipe - INFO -        usigma = 4.0\n"
     ]
    },
    {
     "name": "stdout",
     "output_type": "stream",
     "text": [
      "       usigma = 4.0\n"
     ]
    },
    {
     "name": "stderr",
     "output_type": "stream",
     "text": [
      "2023-08-15 09:00:48,045 - stpipe - INFO -        binwidth = 0.1\n"
     ]
    },
    {
     "name": "stdout",
     "output_type": "stream",
     "text": [
      "       binwidth = 0.1\n"
     ]
    },
    {
     "name": "stderr",
     "output_type": "stream",
     "text": [
      "2023-08-15 09:00:48,047 - stpipe - INFO - \n"
     ]
    },
    {
     "name": "stdout",
     "output_type": "stream",
     "text": [
      "\n"
     ]
    },
    {
     "name": "stderr",
     "output_type": "stream",
     "text": [
      "2023-08-15 09:00:48,048 - stpipe - INFO - -----  Data->Brightness conversion parameters for input files:  -----\n"
     ]
    },
    {
     "name": "stdout",
     "output_type": "stream",
     "text": [
      "-----  Data->Brightness conversion parameters for input files:  -----\n"
     ]
    },
    {
     "name": "stderr",
     "output_type": "stream",
     "text": [
      "2023-08-15 09:00:48,050 - stpipe - INFO - \n"
     ]
    },
    {
     "name": "stdout",
     "output_type": "stream",
     "text": [
      "\n"
     ]
    },
    {
     "name": "stderr",
     "output_type": "stream",
     "text": [
      "2023-08-15 09:00:48,054 - stpipe - INFO -    *   Image: jw02514197001_02201_00001_nrcblong_rate.fits\n"
     ]
    },
    {
     "name": "stdout",
     "output_type": "stream",
     "text": [
      "   *   Image: jw02514197001_02201_00001_nrcblong_rate.fits\n"
     ]
    },
    {
     "name": "stderr",
     "output_type": "stream",
     "text": [
      "2023-08-15 09:00:48,079 - stpipe - INFO -        EXT = 'SCI',1\n"
     ]
    },
    {
     "name": "stdout",
     "output_type": "stream",
     "text": [
      "       EXT = 'SCI',1\n"
     ]
    },
    {
     "name": "stderr",
     "output_type": "stream",
     "text": [
      "2023-08-15 09:00:48,081 - stpipe - INFO -              Data units type: COUNT-RATE\n"
     ]
    },
    {
     "name": "stdout",
     "output_type": "stream",
     "text": [
      "             Data units type: COUNT-RATE\n"
     ]
    },
    {
     "name": "stderr",
     "output_type": "stream",
     "text": [
      "2023-08-15 09:00:48,083 - stpipe - INFO -              Conversion factor (data->brightness):  251.87909685725003\n"
     ]
    },
    {
     "name": "stdout",
     "output_type": "stream",
     "text": [
      "             Conversion factor (data->brightness):  251.87909685725003\n"
     ]
    },
    {
     "name": "stderr",
     "output_type": "stream",
     "text": [
      "2023-08-15 09:00:48,085 - stpipe - INFO - \n"
     ]
    },
    {
     "name": "stdout",
     "output_type": "stream",
     "text": [
      "\n"
     ]
    },
    {
     "name": "stderr",
     "output_type": "stream",
     "text": [
      "2023-08-15 09:00:48,087 - stpipe - INFO -    *   Image: jw02514197001_02201_00002_nrcblong_rate.fits\n"
     ]
    },
    {
     "name": "stdout",
     "output_type": "stream",
     "text": [
      "   *   Image: jw02514197001_02201_00002_nrcblong_rate.fits\n"
     ]
    },
    {
     "name": "stderr",
     "output_type": "stream",
     "text": [
      "2023-08-15 09:00:48,112 - stpipe - INFO -        EXT = 'SCI',1\n"
     ]
    },
    {
     "name": "stdout",
     "output_type": "stream",
     "text": [
      "       EXT = 'SCI',1\n"
     ]
    },
    {
     "name": "stderr",
     "output_type": "stream",
     "text": [
      "2023-08-15 09:00:48,113 - stpipe - INFO -              Data units type: COUNT-RATE\n"
     ]
    },
    {
     "name": "stdout",
     "output_type": "stream",
     "text": [
      "             Data units type: COUNT-RATE\n"
     ]
    },
    {
     "name": "stderr",
     "output_type": "stream",
     "text": [
      "2023-08-15 09:00:48,115 - stpipe - INFO -              Conversion factor (data->brightness):  251.87909809026252\n"
     ]
    },
    {
     "name": "stdout",
     "output_type": "stream",
     "text": [
      "             Conversion factor (data->brightness):  251.87909809026252\n"
     ]
    },
    {
     "name": "stderr",
     "output_type": "stream",
     "text": [
      "2023-08-15 09:00:48,117 - stpipe - INFO - \n"
     ]
    },
    {
     "name": "stdout",
     "output_type": "stream",
     "text": [
      "\n"
     ]
    },
    {
     "name": "stderr",
     "output_type": "stream",
     "text": [
      "2023-08-15 09:00:48,118 - stpipe - INFO -    *   Image: jw02514197001_02201_00003_nrcblong_rate.fits\n"
     ]
    },
    {
     "name": "stdout",
     "output_type": "stream",
     "text": [
      "   *   Image: jw02514197001_02201_00003_nrcblong_rate.fits\n"
     ]
    },
    {
     "name": "stderr",
     "output_type": "stream",
     "text": [
      "2023-08-15 09:00:48,141 - stpipe - INFO -        EXT = 'SCI',1\n"
     ]
    },
    {
     "name": "stdout",
     "output_type": "stream",
     "text": [
      "       EXT = 'SCI',1\n"
     ]
    },
    {
     "name": "stderr",
     "output_type": "stream",
     "text": [
      "2023-08-15 09:00:48,143 - stpipe - INFO -              Data units type: COUNT-RATE\n"
     ]
    },
    {
     "name": "stdout",
     "output_type": "stream",
     "text": [
      "             Data units type: COUNT-RATE\n"
     ]
    },
    {
     "name": "stderr",
     "output_type": "stream",
     "text": [
      "2023-08-15 09:00:48,145 - stpipe - INFO -              Conversion factor (data->brightness):  251.8791035759559\n"
     ]
    },
    {
     "name": "stdout",
     "output_type": "stream",
     "text": [
      "             Conversion factor (data->brightness):  251.8791035759559\n"
     ]
    },
    {
     "name": "stderr",
     "output_type": "stream",
     "text": [
      "2023-08-15 09:00:48,146 - stpipe - INFO - \n"
     ]
    },
    {
     "name": "stdout",
     "output_type": "stream",
     "text": [
      "\n"
     ]
    },
    {
     "name": "stderr",
     "output_type": "stream",
     "text": [
      "2023-08-15 09:00:48,147 - stpipe - INFO -    *   Image: jw02514197001_02201_00004_nrcblong_rate.fits\n"
     ]
    },
    {
     "name": "stdout",
     "output_type": "stream",
     "text": [
      "   *   Image: jw02514197001_02201_00004_nrcblong_rate.fits\n"
     ]
    },
    {
     "name": "stderr",
     "output_type": "stream",
     "text": [
      "2023-08-15 09:00:48,174 - stpipe - INFO -        EXT = 'SCI',1\n"
     ]
    },
    {
     "name": "stdout",
     "output_type": "stream",
     "text": [
      "       EXT = 'SCI',1\n"
     ]
    },
    {
     "name": "stderr",
     "output_type": "stream",
     "text": [
      "2023-08-15 09:00:48,175 - stpipe - INFO -              Data units type: COUNT-RATE\n"
     ]
    },
    {
     "name": "stdout",
     "output_type": "stream",
     "text": [
      "             Data units type: COUNT-RATE\n"
     ]
    },
    {
     "name": "stderr",
     "output_type": "stream",
     "text": [
      "2023-08-15 09:00:48,177 - stpipe - INFO -              Conversion factor (data->brightness):  251.8791019953191\n"
     ]
    },
    {
     "name": "stdout",
     "output_type": "stream",
     "text": [
      "             Conversion factor (data->brightness):  251.8791019953191\n"
     ]
    },
    {
     "name": "stderr",
     "output_type": "stream",
     "text": [
      "2023-08-15 09:00:48,179 - stpipe - INFO - \n"
     ]
    },
    {
     "name": "stdout",
     "output_type": "stream",
     "text": [
      "\n"
     ]
    },
    {
     "name": "stderr",
     "output_type": "stream",
     "text": [
      "2023-08-15 09:00:48,182 - stpipe - INFO - \n"
     ]
    },
    {
     "name": "stdout",
     "output_type": "stream",
     "text": [
      "\n"
     ]
    },
    {
     "name": "stderr",
     "output_type": "stream",
     "text": [
      "2023-08-15 09:00:48,184 - stpipe - INFO - -----  Computing sky values requested image extensions (detector chips):  -----\n"
     ]
    },
    {
     "name": "stdout",
     "output_type": "stream",
     "text": [
      "-----  Computing sky values requested image extensions (detector chips):  -----\n"
     ]
    },
    {
     "name": "stderr",
     "output_type": "stream",
     "text": [
      "2023-08-15 09:00:48,186 - stpipe - INFO - \n"
     ]
    },
    {
     "name": "stdout",
     "output_type": "stream",
     "text": [
      "\n"
     ]
    },
    {
     "name": "stderr",
     "output_type": "stream",
     "text": [
      "2023-08-15 09:00:48,337 - stpipe - INFO -    *   Image:   'jw02514197001_02201_00001_nrcblong_rate.fits['SCI',1]'  --  SKY = 66.88272273150636 (brightness units)\n"
     ]
    },
    {
     "name": "stdout",
     "output_type": "stream",
     "text": [
      "   *   Image:   'jw02514197001_02201_00001_nrcblong_rate.fits['SCI',1]'  --  SKY = 66.88272273150636 (brightness units)\n"
     ]
    },
    {
     "name": "stderr",
     "output_type": "stream",
     "text": [
      "2023-08-15 09:00:48,339 - stpipe - INFO -        Sky change (data units):\n"
     ]
    },
    {
     "name": "stdout",
     "output_type": "stream",
     "text": [
      "       Sky change (data units):\n"
     ]
    },
    {
     "name": "stderr",
     "output_type": "stream",
     "text": [
      "2023-08-15 09:00:48,348 - stpipe - INFO -       - EXT = 'SCI',1   delta(MDRIZSKY) = 0.265535   NEW MDRIZSKY = 0.265535\n"
     ]
    },
    {
     "name": "stdout",
     "output_type": "stream",
     "text": [
      "      - EXT = 'SCI',1   delta(MDRIZSKY) = 0.265535   NEW MDRIZSKY = 0.265535\n"
     ]
    },
    {
     "name": "stderr",
     "output_type": "stream",
     "text": [
      "2023-08-15 09:00:48,508 - stpipe - INFO -    *   Image:   'jw02514197001_02201_00002_nrcblong_rate.fits['SCI',1]'  --  SKY = 66.97208891862448 (brightness units)\n"
     ]
    },
    {
     "name": "stdout",
     "output_type": "stream",
     "text": [
      "   *   Image:   'jw02514197001_02201_00002_nrcblong_rate.fits['SCI',1]'  --  SKY = 66.97208891862448 (brightness units)\n"
     ]
    },
    {
     "name": "stderr",
     "output_type": "stream",
     "text": [
      "2023-08-15 09:00:48,510 - stpipe - INFO -        Sky change (data units):\n"
     ]
    },
    {
     "name": "stdout",
     "output_type": "stream",
     "text": [
      "       Sky change (data units):\n"
     ]
    },
    {
     "name": "stderr",
     "output_type": "stream",
     "text": [
      "2023-08-15 09:00:48,512 - stpipe - INFO -       - EXT = 'SCI',1   delta(MDRIZSKY) = 0.26589   NEW MDRIZSKY = 0.26589\n"
     ]
    },
    {
     "name": "stdout",
     "output_type": "stream",
     "text": [
      "      - EXT = 'SCI',1   delta(MDRIZSKY) = 0.26589   NEW MDRIZSKY = 0.26589\n"
     ]
    },
    {
     "name": "stderr",
     "output_type": "stream",
     "text": [
      "2023-08-15 09:00:48,658 - stpipe - INFO -    *   Image:   'jw02514197001_02201_00003_nrcblong_rate.fits['SCI',1]'  --  SKY = 66.7365263197059 (brightness units)\n"
     ]
    },
    {
     "name": "stdout",
     "output_type": "stream",
     "text": [
      "   *   Image:   'jw02514197001_02201_00003_nrcblong_rate.fits['SCI',1]'  --  SKY = 66.7365263197059 (brightness units)\n"
     ]
    },
    {
     "name": "stderr",
     "output_type": "stream",
     "text": [
      "2023-08-15 09:00:48,660 - stpipe - INFO -        Sky change (data units):\n"
     ]
    },
    {
     "name": "stdout",
     "output_type": "stream",
     "text": [
      "       Sky change (data units):\n"
     ]
    },
    {
     "name": "stderr",
     "output_type": "stream",
     "text": [
      "2023-08-15 09:00:48,661 - stpipe - INFO -       - EXT = 'SCI',1   delta(MDRIZSKY) = 0.264955   NEW MDRIZSKY = 0.264955\n"
     ]
    },
    {
     "name": "stdout",
     "output_type": "stream",
     "text": [
      "      - EXT = 'SCI',1   delta(MDRIZSKY) = 0.264955   NEW MDRIZSKY = 0.264955\n"
     ]
    },
    {
     "name": "stderr",
     "output_type": "stream",
     "text": [
      "2023-08-15 09:00:48,798 - stpipe - INFO -    *   Image:   'jw02514197001_02201_00004_nrcblong_rate.fits['SCI',1]'  --  SKY = 66.25752338411998 (brightness units)\n"
     ]
    },
    {
     "name": "stdout",
     "output_type": "stream",
     "text": [
      "   *   Image:   'jw02514197001_02201_00004_nrcblong_rate.fits['SCI',1]'  --  SKY = 66.25752338411998 (brightness units)\n"
     ]
    },
    {
     "name": "stderr",
     "output_type": "stream",
     "text": [
      "2023-08-15 09:00:48,800 - stpipe - INFO -        Sky change (data units):\n"
     ]
    },
    {
     "name": "stdout",
     "output_type": "stream",
     "text": [
      "       Sky change (data units):\n"
     ]
    },
    {
     "name": "stderr",
     "output_type": "stream",
     "text": [
      "2023-08-15 09:00:48,802 - stpipe - INFO -       - EXT = 'SCI',1   delta(MDRIZSKY) = 0.263053   NEW MDRIZSKY = 0.263053\n"
     ]
    },
    {
     "name": "stdout",
     "output_type": "stream",
     "text": [
      "      - EXT = 'SCI',1   delta(MDRIZSKY) = 0.263053   NEW MDRIZSKY = 0.263053\n"
     ]
    },
    {
     "name": "stderr",
     "output_type": "stream",
     "text": [
      "2023-08-15 09:00:48,804 - stpipe - INFO - ***** skymatch ended on 2023-08-15 09:00:48.804441\n"
     ]
    },
    {
     "name": "stdout",
     "output_type": "stream",
     "text": [
      "***** skymatch ended on 2023-08-15 09:00:48.804441\n"
     ]
    },
    {
     "name": "stderr",
     "output_type": "stream",
     "text": [
      "2023-08-15 09:00:48,806 - stpipe - INFO - TOTAL RUN TIME: 0:00:00.827182\n"
     ]
    },
    {
     "name": "stdout",
     "output_type": "stream",
     "text": [
      "TOTAL RUN TIME: 0:00:00.827182\n"
     ]
    },
    {
     "name": "stderr",
     "output_type": "stream",
     "text": [
      "2023-08-15 09:00:48,872 - stpipe - INFO - ==== Processing Step Subtract Sky finished at 09:00:48.872 (15/08/2023)\n"
     ]
    },
    {
     "name": "stdout",
     "output_type": "stream",
     "text": [
      "==== Processing Step Subtract Sky finished at 09:00:48.872 (15/08/2023)\n"
     ]
    },
    {
     "name": "stderr",
     "output_type": "stream",
     "text": [
      "2023-08-15 09:00:48,874 - stpipe - INFO - ==== Processing Step  Separate Drizzle  started at  09:00:48.874 (15/08/2023)\n"
     ]
    },
    {
     "name": "stdout",
     "output_type": "stream",
     "text": [
      "==== Processing Step  Separate Drizzle  started at  09:00:48.874 (15/08/2023)\n"
     ]
    },
    {
     "name": "stderr",
     "output_type": "stream",
     "text": [
      "2023-08-15 09:00:48,876 - stpipe - INFO - \n"
     ]
    },
    {
     "name": "stdout",
     "output_type": "stream",
     "text": [
      "\n"
     ]
    },
    {
     "name": "stderr",
     "output_type": "stream",
     "text": [
      "2023-08-15 09:00:48,878 - stpipe - INFO - Single drizzle step not performed.\n",
      "2023-08-15 09:00:48,879 - stpipe - INFO - ==== Processing Step Separate Drizzle finished at 09:00:48.879 (15/08/2023)\n"
     ]
    },
    {
     "name": "stdout",
     "output_type": "stream",
     "text": [
      "==== Processing Step Separate Drizzle finished at 09:00:48.879 (15/08/2023)\n"
     ]
    },
    {
     "name": "stderr",
     "output_type": "stream",
     "text": [
      "2023-08-15 09:00:48,881 - stpipe - INFO - ==== Processing Step  Create Median  started at  09:00:48.881 (15/08/2023)\n"
     ]
    },
    {
     "name": "stdout",
     "output_type": "stream",
     "text": [
      "==== Processing Step  Create Median  started at  09:00:48.881 (15/08/2023)\n"
     ]
    },
    {
     "name": "stderr",
     "output_type": "stream",
     "text": [
      "2023-08-15 09:00:48,883 - stpipe - INFO - \n"
     ]
    },
    {
     "name": "stdout",
     "output_type": "stream",
     "text": [
      "\n"
     ]
    },
    {
     "name": "stderr",
     "output_type": "stream",
     "text": [
      "2023-08-15 09:00:48,885 - stpipe - INFO - Median combination step not performed.\n",
      "2023-08-15 09:00:48,886 - stpipe - INFO - ==== Processing Step  Blot  started at  09:00:48.886 (15/08/2023)\n"
     ]
    },
    {
     "name": "stdout",
     "output_type": "stream",
     "text": [
      "==== Processing Step  Blot  started at  09:00:48.886 (15/08/2023)\n"
     ]
    },
    {
     "name": "stderr",
     "output_type": "stream",
     "text": [
      "2023-08-15 09:00:48,888 - stpipe - INFO - \n"
     ]
    },
    {
     "name": "stdout",
     "output_type": "stream",
     "text": [
      "\n"
     ]
    },
    {
     "name": "stderr",
     "output_type": "stream",
     "text": [
      "2023-08-15 09:00:48,891 - stpipe - INFO - Blot step not performed.\n",
      "2023-08-15 09:00:48,892 - stpipe - INFO - ==== Processing Step Blot finished at 09:00:48.89 (15/08/2023)\n"
     ]
    },
    {
     "name": "stdout",
     "output_type": "stream",
     "text": [
      "==== Processing Step Blot finished at 09:00:48.89 (15/08/2023)\n"
     ]
    },
    {
     "name": "stderr",
     "output_type": "stream",
     "text": [
      "2023-08-15 09:00:48,894 - stpipe - INFO - ==== Processing Step  Driz_CR  started at  09:00:48.89 (15/08/2023)\n"
     ]
    },
    {
     "name": "stdout",
     "output_type": "stream",
     "text": [
      "==== Processing Step  Driz_CR  started at  09:00:48.89 (15/08/2023)\n"
     ]
    },
    {
     "name": "stderr",
     "output_type": "stream",
     "text": [
      "2023-08-15 09:00:48,896 - stpipe - INFO - \n"
     ]
    },
    {
     "name": "stdout",
     "output_type": "stream",
     "text": [
      "\n"
     ]
    },
    {
     "name": "stderr",
     "output_type": "stream",
     "text": [
      "2023-08-15 09:00:48,898 - stpipe - INFO - Cosmic-ray identification (driz_cr) step not performed.\n",
      "2023-08-15 09:00:48,900 - stpipe - INFO - ==== Processing Step  Final Drizzle  started at  09:00:48.899 (15/08/2023)\n"
     ]
    },
    {
     "name": "stdout",
     "output_type": "stream",
     "text": [
      "==== Processing Step  Final Drizzle  started at  09:00:48.899 (15/08/2023)\n"
     ]
    },
    {
     "name": "stderr",
     "output_type": "stream",
     "text": [
      "2023-08-15 09:00:48,902 - stpipe - INFO - \n"
     ]
    },
    {
     "name": "stdout",
     "output_type": "stream",
     "text": [
      "\n"
     ]
    },
    {
     "name": "stderr",
     "output_type": "stream",
     "text": [
      "2023-08-15 09:00:48,904 - stpipe - INFO - Interpreted paramDict with single=False as:\n",
      "2023-08-15 09:00:48,905 - stpipe - INFO - {'build': False, 'stepsize': 10, 'coeffs': True, 'wcskey': '', 'wht_type': 'IVM', 'kernel': 'square', 'wt_scl': 'exptime', 'pixfrac': 0.8, 'fillval': None, 'maskval': None, 'bits': 4, 'units': 'cps'}\n",
      "2023-08-15 09:00:48,905 - stpipe - INFO - USER INPUT PARAMETERS for Final Drizzle Step:\n",
      "2023-08-15 09:00:48,907 - stpipe - INFO - \tbits :\t4\n",
      "2023-08-15 09:00:48,907 - stpipe - INFO - \tbuild :\tFalse\n",
      "2023-08-15 09:00:48,908 - stpipe - INFO - \tclean :\tTrue\n",
      "2023-08-15 09:00:48,909 - stpipe - INFO - \tcoeffs :\tTrue\n",
      "2023-08-15 09:00:48,910 - stpipe - INFO - \tcrbit :\t4096\n",
      "2023-08-15 09:00:48,911 - stpipe - INFO - \tfillval :\tNone\n",
      "2023-08-15 09:00:48,912 - stpipe - INFO - \tkernel :\tsquare\n",
      "2023-08-15 09:00:48,913 - stpipe - INFO - \tlogfile :\tastrodrizzle.log\n",
      "2023-08-15 09:00:48,914 - stpipe - INFO - \tmaskval :\tNone\n",
      "2023-08-15 09:00:48,915 - stpipe - INFO - \tpixfrac :\t0.8\n",
      "2023-08-15 09:00:48,916 - stpipe - INFO - \tproc_unit :\tnative\n",
      "2023-08-15 09:00:48,917 - stpipe - INFO - \trules_file :\tNone\n",
      "2023-08-15 09:00:48,918 - stpipe - INFO - \tstepsize :\t10\n",
      "2023-08-15 09:00:48,919 - stpipe - INFO - \tunits :\tcps\n",
      "2023-08-15 09:00:48,920 - stpipe - INFO - \twcskey :\t\n",
      "2023-08-15 09:00:48,921 - stpipe - INFO - \twht_type :\tIVM\n",
      "2023-08-15 09:00:48,922 - stpipe - INFO - \twt_scl :\texptime\n",
      "2023-08-15 09:00:48,923 - stpipe - INFO -   **Using sub-sampling value of 10 for kernel square\n",
      "2023-08-15 09:00:48,925 - stpipe - INFO - Running Drizzle to create output frame with WCS of: \n",
      "2023-08-15 09:00:48,926 - stpipe - INFO - WCS Keywords\n"
     ]
    },
    {
     "name": "stdout",
     "output_type": "stream",
     "text": [
      "WCS Keywords\n"
     ]
    },
    {
     "name": "stderr",
     "output_type": "stream",
     "text": [
      "2023-08-15 09:00:48,928 - stpipe - INFO - \n"
     ]
    },
    {
     "name": "stdout",
     "output_type": "stream",
     "text": [
      "\n"
     ]
    },
    {
     "name": "stderr",
     "output_type": "stream",
     "text": [
      "2023-08-15 09:00:48,929 - stpipe - INFO - Number of WCS axes: 2\n"
     ]
    },
    {
     "name": "stdout",
     "output_type": "stream",
     "text": [
      "Number of WCS axes: 2\n"
     ]
    },
    {
     "name": "stderr",
     "output_type": "stream",
     "text": [
      "2023-08-15 09:00:48,931 - stpipe - INFO - CTYPE : 'RA---TAN'  'DEC--TAN'  \n"
     ]
    },
    {
     "name": "stdout",
     "output_type": "stream",
     "text": [
      "CTYPE : 'RA---TAN'  'DEC--TAN'  \n"
     ]
    },
    {
     "name": "stderr",
     "output_type": "stream",
     "text": [
      "2023-08-15 09:00:48,934 - stpipe - INFO - CRVAL : 23.69038697033694  -15.555729398517402  \n"
     ]
    },
    {
     "name": "stdout",
     "output_type": "stream",
     "text": [
      "CRVAL : 23.69038697033694  -15.555729398517402  \n"
     ]
    },
    {
     "name": "stderr",
     "output_type": "stream",
     "text": [
      "2023-08-15 09:00:48,936 - stpipe - INFO - CRPIX : 1054.0  1046.0  \n"
     ]
    },
    {
     "name": "stdout",
     "output_type": "stream",
     "text": [
      "CRPIX : 1054.0  1046.0  \n"
     ]
    },
    {
     "name": "stderr",
     "output_type": "stream",
     "text": [
      "2023-08-15 09:00:48,937 - stpipe - INFO - CD1_1 CD1_2  : 2.4846514237271144e-06  -1.7325297022669743e-05  \n"
     ]
    },
    {
     "name": "stdout",
     "output_type": "stream",
     "text": [
      "CD1_1 CD1_2  : 2.4846514237271144e-06  -1.7325297022669743e-05  \n"
     ]
    },
    {
     "name": "stderr",
     "output_type": "stream",
     "text": [
      "2023-08-15 09:00:48,939 - stpipe - INFO - CD2_1 CD2_2  : -1.7325297022669743e-05  -2.4846514237271144e-06  \n"
     ]
    },
    {
     "name": "stdout",
     "output_type": "stream",
     "text": [
      "CD2_1 CD2_2  : -1.7325297022669743e-05  -2.4846514237271144e-06  \n"
     ]
    },
    {
     "name": "stderr",
     "output_type": "stream",
     "text": [
      "2023-08-15 09:00:48,941 - stpipe - INFO - NAXIS : 2108  2092\n"
     ]
    },
    {
     "name": "stdout",
     "output_type": "stream",
     "text": [
      "NAXIS : 2108  2092\n"
     ]
    },
    {
     "name": "stderr",
     "output_type": "stream",
     "text": [
      "2023-08-15 09:00:48,948 - stpipe - INFO - -Drizzle input: jw02514197001_02201_00001_nrcblong_rate.fits[sci,1]\n",
      "2023-08-15 09:00:48,976 - stpipe - INFO - Applying sky value of 0.265535 to jw02514197001_02201_00001_nrcblong_rate.fits[sci,1]\n",
      "2023-08-15 09:00:48,991 - stpipe - WARNING - No CR mask file found! Input DQ array not updated.\n",
      "2023-08-15 09:00:48,992 - stpipe - INFO - Automatically creating IVM files for chip 1\n",
      "2023-08-15 09:00:48,995 - stpipe - WARNING - Cannot find flat field file 'jwst_nircam_flat_0584.fits'\n",
      "2023-08-15 09:00:48,996 - stpipe - WARNING - Treating flatfield as a constant value of '1'.\n",
      "2023-08-15 09:00:49,037 - stpipe - INFO - Using WCSLIB-based coordinate transformation...\n",
      "2023-08-15 09:00:49,038 - stpipe - INFO - stepsize = 10\n",
      "2023-08-15 09:00:49,051 - stpipe - INFO - -Drizzling using kernel = square\n",
      "2023-08-15 09:00:49,052 - stpipe - INFO - \n",
      "2023-08-15 09:00:49,779 - stpipe - WARNING - ! 1 points were outside the output image.\n",
      "2023-08-15 09:00:49,780 - stpipe - INFO - -Drizzle input: jw02514197001_02201_00002_nrcblong_rate.fits[sci,1]\n",
      "2023-08-15 09:00:49,803 - stpipe - INFO - Applying sky value of 0.265890 to jw02514197001_02201_00002_nrcblong_rate.fits[sci,1]\n",
      "2023-08-15 09:00:49,813 - stpipe - WARNING - No CR mask file found! Input DQ array not updated.\n",
      "2023-08-15 09:00:49,814 - stpipe - INFO - Automatically creating IVM files for chip 1\n",
      "2023-08-15 09:00:49,817 - stpipe - WARNING - Cannot find flat field file 'jwst_nircam_flat_0584.fits'\n",
      "2023-08-15 09:00:49,818 - stpipe - WARNING - Treating flatfield as a constant value of '1'.\n",
      "2023-08-15 09:00:49,842 - stpipe - INFO - Using WCSLIB-based coordinate transformation...\n",
      "2023-08-15 09:00:49,843 - stpipe - INFO - stepsize = 10\n",
      "2023-08-15 09:00:49,856 - stpipe - INFO - -Drizzling using kernel = square\n",
      "2023-08-15 09:00:49,857 - stpipe - INFO - \n",
      "2023-08-15 09:00:50,544 - stpipe - INFO - -Drizzle input: jw02514197001_02201_00003_nrcblong_rate.fits[sci,1]\n",
      "2023-08-15 09:00:50,566 - stpipe - INFO - Applying sky value of 0.264955 to jw02514197001_02201_00003_nrcblong_rate.fits[sci,1]\n",
      "2023-08-15 09:00:50,576 - stpipe - WARNING - No CR mask file found! Input DQ array not updated.\n",
      "2023-08-15 09:00:50,577 - stpipe - INFO - Automatically creating IVM files for chip 1\n",
      "2023-08-15 09:00:50,580 - stpipe - WARNING - Cannot find flat field file 'jwst_nircam_flat_0584.fits'\n",
      "2023-08-15 09:00:50,580 - stpipe - WARNING - Treating flatfield as a constant value of '1'.\n",
      "2023-08-15 09:00:50,604 - stpipe - INFO - Using WCSLIB-based coordinate transformation...\n",
      "2023-08-15 09:00:50,605 - stpipe - INFO - stepsize = 10\n",
      "2023-08-15 09:00:50,618 - stpipe - INFO - -Drizzling using kernel = square\n",
      "2023-08-15 09:00:50,619 - stpipe - INFO - \n",
      "2023-08-15 09:00:51,330 - stpipe - INFO - -Drizzle input: jw02514197001_02201_00004_nrcblong_rate.fits[sci,1]\n",
      "2023-08-15 09:00:51,354 - stpipe - INFO - Applying sky value of 0.263053 to jw02514197001_02201_00004_nrcblong_rate.fits[sci,1]\n",
      "2023-08-15 09:00:51,363 - stpipe - WARNING - No CR mask file found! Input DQ array not updated.\n",
      "2023-08-15 09:00:51,365 - stpipe - INFO - Automatically creating IVM files for chip 1\n",
      "2023-08-15 09:00:51,367 - stpipe - WARNING - Cannot find flat field file 'jwst_nircam_flat_0584.fits'\n",
      "2023-08-15 09:00:51,368 - stpipe - WARNING - Treating flatfield as a constant value of '1'.\n",
      "2023-08-15 09:00:51,391 - stpipe - INFO - Using WCSLIB-based coordinate transformation...\n",
      "2023-08-15 09:00:51,392 - stpipe - INFO - stepsize = 10\n",
      "2023-08-15 09:00:51,405 - stpipe - INFO - -Drizzling using kernel = square\n",
      "2023-08-15 09:00:51,406 - stpipe - INFO - \n",
      "2023-08-15 09:00:52,089 - stpipe - INFO - Deleting previous output product: indef-02514-197-262.0-nrcb5-f444w-clear_drz_sci.fits\n",
      "2023-08-15 09:00:52,094 - stpipe - INFO - Deleting previous output WHT product: indef-02514-197-262.0-nrcb5-f444w-clear_drz_wht.fits\n",
      "2023-08-15 09:00:52,881 - stpipe - INFO - -Generating simple FITS output: indef-02514-197-262.0-nrcb5-f444w-clear_drz_sci.fits\n"
     ]
    },
    {
     "name": "stdout",
     "output_type": "stream",
     "text": [
      "-Generating simple FITS output: indef-02514-197-262.0-nrcb5-f444w-clear_drz_sci.fits\n"
     ]
    },
    {
     "name": "stderr",
     "output_type": "stream",
     "text": [
      "2023-08-15 09:00:53,070 - stpipe - INFO - Writing out image to disk: indef-02514-197-262.0-nrcb5-f444w-clear_drz_sci.fits\n"
     ]
    },
    {
     "name": "stdout",
     "output_type": "stream",
     "text": [
      "Writing out image to disk: indef-02514-197-262.0-nrcb5-f444w-clear_drz_sci.fits\n"
     ]
    },
    {
     "name": "stderr",
     "output_type": "stream",
     "text": [
      "2023-08-15 09:00:53,225 - stpipe - INFO - Writing out image to disk: indef-02514-197-262.0-nrcb5-f444w-clear_drz_wht.fits\n"
     ]
    },
    {
     "name": "stdout",
     "output_type": "stream",
     "text": [
      "Writing out image to disk: indef-02514-197-262.0-nrcb5-f444w-clear_drz_wht.fits\n"
     ]
    },
    {
     "name": "stderr",
     "output_type": "stream",
     "text": [
      "2023-08-15 09:00:53,259 - stpipe - INFO - ==== Processing Step Final Drizzle finished at 09:00:53.258 (15/08/2023)\n"
     ]
    },
    {
     "name": "stdout",
     "output_type": "stream",
     "text": [
      "==== Processing Step Final Drizzle finished at 09:00:53.258 (15/08/2023)\n"
     ]
    },
    {
     "name": "stderr",
     "output_type": "stream",
     "text": [
      "2023-08-15 09:00:53,261 - stpipe - INFO - \n"
     ]
    },
    {
     "name": "stdout",
     "output_type": "stream",
     "text": [
      "\n"
     ]
    },
    {
     "name": "stderr",
     "output_type": "stream",
     "text": [
      "2023-08-15 09:00:53,263 - stpipe - INFO - AstroDrizzle Version 3.6.1 is finished processing at 09:00:53.263 (15/08/2023).\n"
     ]
    },
    {
     "name": "stdout",
     "output_type": "stream",
     "text": [
      "AstroDrizzle Version 3.6.1 is finished processing at 09:00:53.263 (15/08/2023).\n"
     ]
    },
    {
     "name": "stderr",
     "output_type": "stream",
     "text": [
      "2023-08-15 09:00:53,264 - stpipe - INFO - \n"
     ]
    },
    {
     "name": "stdout",
     "output_type": "stream",
     "text": [
      "\n"
     ]
    },
    {
     "name": "stderr",
     "output_type": "stream",
     "text": [
      "2023-08-15 09:00:53,267 - stpipe - INFO - \n"
     ]
    },
    {
     "name": "stdout",
     "output_type": "stream",
     "text": [
      "\n"
     ]
    },
    {
     "name": "stderr",
     "output_type": "stream",
     "text": [
      "2023-08-15 09:00:53,269 - stpipe - INFO - \n"
     ]
    },
    {
     "name": "stdout",
     "output_type": "stream",
     "text": [
      "\n"
     ]
    },
    {
     "name": "stderr",
     "output_type": "stream",
     "text": [
      "2023-08-15 09:00:53,271 - stpipe - INFO -    --------------------          --------------------\n"
     ]
    },
    {
     "name": "stdout",
     "output_type": "stream",
     "text": [
      "   --------------------          --------------------\n"
     ]
    },
    {
     "name": "stderr",
     "output_type": "stream",
     "text": [
      "2023-08-15 09:00:53,273 - stpipe - INFO -                    Step          Elapsed time\n"
     ]
    },
    {
     "name": "stdout",
     "output_type": "stream",
     "text": [
      "                   Step          Elapsed time\n"
     ]
    },
    {
     "name": "stderr",
     "output_type": "stream",
     "text": [
      "2023-08-15 09:00:53,275 - stpipe - INFO -    --------------------          --------------------\n"
     ]
    },
    {
     "name": "stdout",
     "output_type": "stream",
     "text": [
      "   --------------------          --------------------\n"
     ]
    },
    {
     "name": "stderr",
     "output_type": "stream",
     "text": [
      "2023-08-15 09:00:53,277 - stpipe - INFO - \n"
     ]
    },
    {
     "name": "stdout",
     "output_type": "stream",
     "text": [
      "\n"
     ]
    },
    {
     "name": "stderr",
     "output_type": "stream",
     "text": [
      "2023-08-15 09:00:53,280 - stpipe - INFO -          Initialization          0.7118 sec.\n"
     ]
    },
    {
     "name": "stdout",
     "output_type": "stream",
     "text": [
      "         Initialization          0.7118 sec.\n"
     ]
    },
    {
     "name": "stderr",
     "output_type": "stream",
     "text": [
      "2023-08-15 09:00:53,282 - stpipe - INFO -             Static Mask          0.0048 sec.\n"
     ]
    },
    {
     "name": "stdout",
     "output_type": "stream",
     "text": [
      "            Static Mask          0.0048 sec.\n"
     ]
    },
    {
     "name": "stderr",
     "output_type": "stream",
     "text": [
      "2023-08-15 09:00:53,284 - stpipe - INFO -            Subtract Sky          1.0007 sec.\n"
     ]
    },
    {
     "name": "stdout",
     "output_type": "stream",
     "text": [
      "           Subtract Sky          1.0007 sec.\n"
     ]
    },
    {
     "name": "stderr",
     "output_type": "stream",
     "text": [
      "2023-08-15 09:00:53,286 - stpipe - INFO -        Separate Drizzle          0.0048 sec.\n"
     ]
    },
    {
     "name": "stdout",
     "output_type": "stream",
     "text": [
      "       Separate Drizzle          0.0048 sec.\n"
     ]
    },
    {
     "name": "stderr",
     "output_type": "stream",
     "text": [
      "2023-08-15 09:00:53,288 - stpipe - INFO -           Create Median          0.0000 sec.\n"
     ]
    },
    {
     "name": "stdout",
     "output_type": "stream",
     "text": [
      "          Create Median          0.0000 sec.\n"
     ]
    },
    {
     "name": "stderr",
     "output_type": "stream",
     "text": [
      "2023-08-15 09:00:53,289 - stpipe - INFO -                    Blot          0.0054 sec.\n"
     ]
    },
    {
     "name": "stdout",
     "output_type": "stream",
     "text": [
      "                   Blot          0.0054 sec.\n"
     ]
    },
    {
     "name": "stderr",
     "output_type": "stream",
     "text": [
      "2023-08-15 09:00:53,291 - stpipe - INFO -                 Driz_CR          0.0000 sec.\n"
     ]
    },
    {
     "name": "stdout",
     "output_type": "stream",
     "text": [
      "                Driz_CR          0.0000 sec.\n"
     ]
    },
    {
     "name": "stderr",
     "output_type": "stream",
     "text": [
      "2023-08-15 09:00:53,294 - stpipe - INFO -           Final Drizzle          4.3593 sec.\n"
     ]
    },
    {
     "name": "stdout",
     "output_type": "stream",
     "text": [
      "          Final Drizzle          4.3593 sec.\n"
     ]
    },
    {
     "name": "stderr",
     "output_type": "stream",
     "text": [
      "2023-08-15 09:00:53,296 - stpipe - INFO -    ====================          ====================\n"
     ]
    },
    {
     "name": "stdout",
     "output_type": "stream",
     "text": [
      "   ====================          ====================\n"
     ]
    },
    {
     "name": "stderr",
     "output_type": "stream",
     "text": [
      "2023-08-15 09:00:53,301 - stpipe - INFO -                   Total          6.0867 sec.\n"
     ]
    },
    {
     "name": "stdout",
     "output_type": "stream",
     "text": [
      "                  Total          6.0867 sec.\n"
     ]
    },
    {
     "name": "stderr",
     "output_type": "stream",
     "text": [
      "2023-08-15 09:00:53,304 - stpipe - INFO - \n"
     ]
    },
    {
     "name": "stdout",
     "output_type": "stream",
     "text": [
      "\n"
     ]
    },
    {
     "name": "stderr",
     "output_type": "stream",
     "text": [
      "2023-08-15 09:00:53,307 - stpipe - INFO - Removing intermediate files for jw02514197001_02201_00001_nrcblong_rate.fits\n",
      "2023-08-15 09:00:53,317 - stpipe - INFO - Removing intermediate files for jw02514197001_02201_00002_nrcblong_rate.fits\n",
      "2023-08-15 09:00:53,328 - stpipe - INFO - Removing intermediate files for jw02514197001_02201_00003_nrcblong_rate.fits\n",
      "2023-08-15 09:00:53,335 - stpipe - INFO - Removing intermediate files for jw02514197001_02201_00004_nrcblong_rate.fits\n",
      "2023-08-15 09:00:53,349 - stpipe - INFO - Trailer file written to:  astrodrizzle.log\n"
     ]
    },
    {
     "name": "stdout",
     "output_type": "stream",
     "text": [
      "Trailer file written to:  astrodrizzle.log\n",
      "# Imaging background: {'bh': 256, 'bw': 256, 'fh': 3, 'fw': 3, 'pixel_scale': 0.1, 'get_median': False}\n",
      "# (2023-08-15 09:00:53.602)\n",
      "\n",
      "prep.blot_background(**{'visit': {'files': ['jw02514197001_02201_00001_nrcblong_rate.fits', 'jw02514197001_02201_00002_nrcblong_rate.fits', 'jw02514197001_02201_00003_nrcblong_rate.fits', 'jw02514197001_02201_00004_nrcblong_rate.fits'], 'footprint': <POLYGON ((23.674 -15.577, 23.674 -15.577, 23.674 -15.577, 23.674 -15.577, 2...>, 'product': 'indef-02514-197-262.0-nrcb5-f444w-clear'}, 'bkg_params': {'bh': 256, 'bw': 256, 'fh': 3, 'fw': 3, 'pixel_scale': 0.1}, 'verbose': True, 'skip_existing': True, 'get_median': False, 'log': True, 'stepsize': 10, 'kwargs': {}})\n",
      "\n",
      "#   Blot background from indef-02514-197-262.0-nrcb5-f444w-clear_drz_sci.fits\n",
      "#   Blot background: jw02514197001_02201_00001_nrcblong_rate.fits[SCI,1]\n",
      "#   Blot background: jw02514197001_02201_00002_nrcblong_rate.fits[SCI,1]\n",
      "#   Blot background: jw02514197001_02201_00003_nrcblong_rate.fits[SCI,1]\n",
      "#   Blot background: jw02514197001_02201_00004_nrcblong_rate.fits[SCI,1]\n",
      "# (2023-08-15 09:00:55.664)\n",
      "\n",
      "jwst_utils.set_jwst_to_hst_keywords(**{'input': 'jw02514197001_02201_00001_nrcblong_rate.fits', 'reset': True, 'verbose': True, 'orig_keys': ['TELESCOP', 'INSTRUME', 'DETECTOR', 'FILTER', 'PUPIL', 'EXP_TYPE', 'GRATING']})\n",
      "\n",
      "Reset: TELESCOP > JWST (OTELESCO)\n",
      "Reset: INSTRUME > NIRCAM (OINSTRUM)\n",
      "Reset: DETECTOR > NRCBLONG (ODETECTO)\n",
      "Reset: FILTER > F444W (OFILTER)\n",
      "Reset: PUPIL > CLEAR (OPUPIL)\n",
      "Reset: EXP_TYPE > NRC_IMAGE (OEXP_TYP)\n",
      "# (2023-08-15 09:00:55.758)\n",
      "\n",
      "jwst_utils.set_jwst_to_hst_keywords(**{'input': 'jw02514197001_02201_00002_nrcblong_rate.fits', 'reset': True, 'verbose': True, 'orig_keys': ['TELESCOP', 'INSTRUME', 'DETECTOR', 'FILTER', 'PUPIL', 'EXP_TYPE', 'GRATING']})\n",
      "\n",
      "Reset: TELESCOP > JWST (OTELESCO)\n",
      "Reset: INSTRUME > NIRCAM (OINSTRUM)\n",
      "Reset: DETECTOR > NRCBLONG (ODETECTO)\n",
      "Reset: FILTER > F444W (OFILTER)\n",
      "Reset: PUPIL > CLEAR (OPUPIL)\n",
      "Reset: EXP_TYPE > NRC_IMAGE (OEXP_TYP)\n",
      "# (2023-08-15 09:00:55.864)\n",
      "\n",
      "jwst_utils.set_jwst_to_hst_keywords(**{'input': 'jw02514197001_02201_00003_nrcblong_rate.fits', 'reset': True, 'verbose': True, 'orig_keys': ['TELESCOP', 'INSTRUME', 'DETECTOR', 'FILTER', 'PUPIL', 'EXP_TYPE', 'GRATING']})\n",
      "\n",
      "Reset: TELESCOP > JWST (OTELESCO)\n",
      "Reset: INSTRUME > NIRCAM (OINSTRUM)\n",
      "Reset: DETECTOR > NRCBLONG (ODETECTO)\n",
      "Reset: FILTER > F444W (OFILTER)\n",
      "Reset: PUPIL > CLEAR (OPUPIL)\n",
      "Reset: EXP_TYPE > NRC_IMAGE (OEXP_TYP)\n",
      "# (2023-08-15 09:00:55.972)\n",
      "\n",
      "jwst_utils.set_jwst_to_hst_keywords(**{'input': 'jw02514197001_02201_00004_nrcblong_rate.fits', 'reset': True, 'verbose': True, 'orig_keys': ['TELESCOP', 'INSTRUME', 'DETECTOR', 'FILTER', 'PUPIL', 'EXP_TYPE', 'GRATING']})\n",
      "\n",
      "Reset: TELESCOP > JWST (OTELESCO)\n",
      "Reset: INSTRUME > NIRCAM (OINSTRUM)\n",
      "Reset: DETECTOR > NRCBLONG (ODETECTO)\n",
      "Reset: FILTER > F444W (OFILTER)\n",
      "Reset: PUPIL > CLEAR (OPUPIL)\n",
      "Reset: EXP_TYPE > NRC_IMAGE (OEXP_TYP)\n",
      "# prep.apply_region_mask_from_db: query failed\n"
     ]
    },
    {
     "name": "stderr",
     "output_type": "stream",
     "text": [
      "2023-08-15 09:00:57,371 - stpipe - INFO - Using WCSLIB-based coordinate transformation...\n",
      "2023-08-15 09:00:57,372 - stpipe - INFO - stepsize = 10\n",
      "2023-08-15 09:00:57,388 - stpipe - INFO - -Drizzling using kernel = square\n",
      "2023-08-15 09:00:57,389 - stpipe - INFO - \n"
     ]
    },
    {
     "name": "stdout",
     "output_type": "stream",
     "text": [
      "# prep.apply_region_mask_from_db: query failed\n"
     ]
    },
    {
     "name": "stderr",
     "output_type": "stream",
     "text": [
      "2023-08-15 09:00:59,425 - stpipe - INFO - Using WCSLIB-based coordinate transformation...\n",
      "2023-08-15 09:00:59,425 - stpipe - INFO - stepsize = 10\n",
      "2023-08-15 09:00:59,441 - stpipe - INFO - -Drizzling using kernel = square\n",
      "2023-08-15 09:00:59,442 - stpipe - INFO - \n"
     ]
    },
    {
     "name": "stdout",
     "output_type": "stream",
     "text": [
      "# prep.apply_region_mask_from_db: query failed\n"
     ]
    },
    {
     "name": "stderr",
     "output_type": "stream",
     "text": [
      "2023-08-15 09:01:01,427 - stpipe - INFO - Using WCSLIB-based coordinate transformation...\n",
      "2023-08-15 09:01:01,428 - stpipe - INFO - stepsize = 10\n",
      "2023-08-15 09:01:01,441 - stpipe - INFO - -Drizzling using kernel = square\n",
      "2023-08-15 09:01:01,441 - stpipe - INFO - \n"
     ]
    },
    {
     "name": "stdout",
     "output_type": "stream",
     "text": [
      "# prep.apply_region_mask_from_db: query failed\n"
     ]
    },
    {
     "name": "stderr",
     "output_type": "stream",
     "text": [
      "2023-08-15 09:01:03,442 - stpipe - INFO - Using WCSLIB-based coordinate transformation...\n",
      "2023-08-15 09:01:03,443 - stpipe - INFO - stepsize = 10\n",
      "2023-08-15 09:01:03,456 - stpipe - INFO - -Drizzling using kernel = square\n",
      "2023-08-15 09:01:03,457 - stpipe - INFO - \n"
     ]
    },
    {
     "name": "stdout",
     "output_type": "stream",
     "text": [
      "make_SEP_catalog: sep version = 1.2.1\n",
      "# (2023-08-15 09:01:04.430)\n",
      "sep: Image AB zeropoint =  26.475\n",
      "# (2023-08-15 09:01:04.470)\n",
      "SEP: Get background {'bw': 32.0, 'bh': 32.0, 'fw': 3, 'fh': 3}\n",
      "SEP: err_scale=0.717\n",
      "   SEP: Extract...\n",
      "    Done.\n",
      "compute_SEP_auto_params: sep version = 1.2.1\n",
      "compute_SEP_auto_params: autoparams=[2.5, <Quantity 0.35 arcsec>, 2.4, 3.8]; pixel_scale=0.06300919576852007; subpix=0; flux_radii=[0.2, 0.5, 0.9]\n",
      "# SEP indef-02514-197-262.0-nrcb5-f444w-clear.cat.fits: 882 objects\n",
      "indef-02514-197-262.0-nrcb5-f444w-clear.cat.reg: x = X_WORLD, y=Y_WORLD, ellipse=False\n",
      "jw02514197001_02201_00001_nrcblong_rate.fits\n",
      "utils.fix_flt_nan: jw02514197001_02201_00001_nrcblong_rate.fits[SCI,1] NaNPixels=46662\n",
      "jw02514197001_02201_00002_nrcblong_rate.fits\n",
      "utils.fix_flt_nan: jw02514197001_02201_00002_nrcblong_rate.fits[SCI,1] NaNPixels=46620\n",
      "jw02514197001_02201_00003_nrcblong_rate.fits\n",
      "utils.fix_flt_nan: jw02514197001_02201_00003_nrcblong_rate.fits[SCI,1] NaNPixels=46638\n",
      "jw02514197001_02201_00004_nrcblong_rate.fits\n",
      "utils.fix_flt_nan: jw02514197001_02201_00004_nrcblong_rate.fits[SCI,1] NaNPixels=46528\n",
      "remove indef-02514-197-262.0-nrcb5-f444w-clear_drz_wht.fits\n",
      "remove indef-02514-197-262.0-nrcb5-f444w-clear_seg.fits\n",
      "remove indef-02514-197-262.0-nrcb5-f444w-clear_bkg.fits\n",
      "kill='preprocess'\n",
      "Update exposure footprints in ./j013444m1532_indef-f444w_00002_visits.yaml\n",
      "j013444m1532_indef-f444w_00009\n",
      "# (2023-08-15 09:01:08.208)\n",
      "# get_wcs_guess : No entries found in wcs_log for wcs_assoc='j013444m1532_indef-f444w_00009'\n",
      "\n",
      "# Write parameters to j013444m1532_indef-f444w_00009.run.yaml\n",
      "\n",
      "\n",
      "# Write parameters to j013444m1532_indef-f444w_00009.run.yaml\n",
      "\n",
      "j013444m1532_indef-f444w_00009 : found 3 GAIA sources\n",
      "j013444m1532_indef-f444w_00009.gaia.reg: x = ra, y=dec, ellipse=False\n",
      "# (2023-08-15 09:01:11.633)\n",
      "\n",
      "auto_script.fetch_files(**{'field_root': 'j013444m1532_indef-f444w_00009', 'HOME_PATH': '$PWD', 'paths': {'home': '/workspaces/panoramic-jwst/Astrometry', 'base': '/workspaces/panoramic-jwst/Astrometry/j013444m1532_indef-f444w_00009', 'raw': '/workspaces/panoramic-jwst/Astrometry/j013444m1532_indef-f444w_00009/RAW', 'prep': '/workspaces/panoramic-jwst/Astrometry/j013444m1532_indef-f444w_00009/Prep', 'persist': '/workspaces/panoramic-jwst/Astrometry/j013444m1532_indef-f444w_00009/Persistence', 'extract': '/workspaces/panoramic-jwst/Astrometry/j013444m1532_indef-f444w_00009/Extractions', 'thumbs': '/workspaces/panoramic-jwst/Astrometry/j013444m1532_indef-f444w_00009/Extractions'}, 'inst_products': {'ACS/WFC': ['FLC'], 'WFC3/IR': ['RAW'], 'WFC3/UVIS': ['FLC'], 'WFPC2/PC': ['C0M', 'C1M'], 'WFPC2/WFC': ['C0M', 'C1M']}, 'remove_bad': True, 'reprocess_parallel': False, 'reprocess_clean_darks': False, 's3_sync': 'cp', 'fetch_flt_calibs': ['IDCTAB', 'PFLTFILE', 'NPOLFILE'], 'filters': ['F444W'], 'min_bad_expflag': 2, 'fetch_only': False, 'force_rate': True, 'get_rateints': False, 'recalibrate_jwst': False, 's3path': None})\n",
      "\n",
      "paths:  {'home': '/workspaces/panoramic-jwst/Astrometry', 'base': '/workspaces/panoramic-jwst/Astrometry/j013444m1532_indef-f444w_00009', 'raw': '/workspaces/panoramic-jwst/Astrometry/j013444m1532_indef-f444w_00009/RAW', 'prep': '/workspaces/panoramic-jwst/Astrometry/j013444m1532_indef-f444w_00009/Prep', 'persist': '/workspaces/panoramic-jwst/Astrometry/j013444m1532_indef-f444w_00009/Persistence', 'extract': '/workspaces/panoramic-jwst/Astrometry/j013444m1532_indef-f444w_00009/Extractions', 'thumbs': '/workspaces/panoramic-jwst/Astrometry/j013444m1532_indef-f444w_00009/Extractions'}\n",
      "directory /workspaces/panoramic-jwst/Astrometry exists\n",
      "directory /workspaces/panoramic-jwst/Astrometry/j013444m1532_indef-f444w_00009 exists\n",
      "mkdir /workspaces/panoramic-jwst/Astrometry/j013444m1532_indef-f444w_00009/RAW\n",
      "mkdir /workspaces/panoramic-jwst/Astrometry/j013444m1532_indef-f444w_00009/Prep\n",
      "mkdir /workspaces/panoramic-jwst/Astrometry/j013444m1532_indef-f444w_00009/Persistence\n",
      "mkdir /workspaces/panoramic-jwst/Astrometry/j013444m1532_indef-f444w_00009/Extractions\n",
      "Fetch 4 JWST files!\n",
      "Download iteration: 0\n"
     ]
    },
    {
     "name": "stderr",
     "output_type": "stream",
     "text": [
      "2023-08-15 09:01:12,662 - stpipe - INFO - Download: jw02514197001_02201_00003_nrcalong_rate.fits\n"
     ]
    },
    {
     "name": "stdout",
     "output_type": "stream",
     "text": [
      "Downloading URL https://mast.stsci.edu/api/v0.1/Download/file?uri=mast:JWST/product/jw02514197001_02201_00003_nrcalong_rate.fits to /workspaces/panoramic-jwst/Astrometry/j013444m1532_indef-f444w_00009/RAW/jw02514197001_02201_00003_nrcalong_rate.fits ... [Done]\n"
     ]
    },
    {
     "name": "stderr",
     "output_type": "stream",
     "text": [
      "2023-08-15 09:01:16,004 - stpipe - INFO - Download: jw02514197001_02201_00001_nrcalong_rate.fits\n"
     ]
    },
    {
     "name": "stdout",
     "output_type": "stream",
     "text": [
      "Downloading URL https://mast.stsci.edu/api/v0.1/Download/file?uri=mast:JWST/product/jw02514197001_02201_00001_nrcalong_rate.fits to /workspaces/panoramic-jwst/Astrometry/j013444m1532_indef-f444w_00009/RAW/jw02514197001_02201_00001_nrcalong_rate.fits ... [Done]\n"
     ]
    },
    {
     "name": "stderr",
     "output_type": "stream",
     "text": [
      "2023-08-15 09:01:19,446 - stpipe - INFO - Download: jw02514197001_02201_00002_nrcalong_rate.fits\n"
     ]
    },
    {
     "name": "stdout",
     "output_type": "stream",
     "text": [
      "Downloading URL https://mast.stsci.edu/api/v0.1/Download/file?uri=mast:JWST/product/jw02514197001_02201_00002_nrcalong_rate.fits to /workspaces/panoramic-jwst/Astrometry/j013444m1532_indef-f444w_00009/RAW/jw02514197001_02201_00002_nrcalong_rate.fits ... [Done]\n"
     ]
    },
    {
     "name": "stderr",
     "output_type": "stream",
     "text": [
      "2023-08-15 09:01:22,855 - stpipe - INFO - Download: jw02514197001_02201_00004_nrcalong_rate.fits\n"
     ]
    },
    {
     "name": "stdout",
     "output_type": "stream",
     "text": [
      "Downloading URL https://mast.stsci.edu/api/v0.1/Download/file?uri=mast:JWST/product/jw02514197001_02201_00004_nrcalong_rate.fits to /workspaces/panoramic-jwst/Astrometry/j013444m1532_indef-f444w_00009/RAW/jw02514197001_02201_00004_nrcalong_rate.fits ... [Done]\n",
      "Warning: no files to fetch for filters=['F444W'].\n",
      "\n",
      "grizli.pipeline.reprocess: Fetch calibrations...\n",
      "\n",
      "# (2023-08-15 09:01:26.321)\n",
      "\n",
      "auto_script.parse_visits(**{'files': [], 'field_root': 'j013444m1532_indef-f444w_00009', 'RAW_PATH': '/workspaces/panoramic-jwst/Astrometry/j013444m1532_indef-f444w_00009/RAW', 'use_visit': True, 'combine_same_pa': False, 'combine_minexp': 2, 'is_dash': False, 'filters': ['F444W'], 'max_dt': 4, 'visit_split_shift': 1.2, 'file_query': '*'})\n",
      "\n",
      "indef-02514-197-262.0-NRCA5-F444W-CLEAR 4\n",
      "** Combine Singles: **\n",
      "0 indef-02514-197-262.0-nrca5-f444w-clear 4\n",
      "\n",
      " == Grism groups ==\n",
      "\n",
      "# (2023-08-15 09:01:26.406)\n",
      "\n",
      "auto_script.preprocess(**{'field_root': 'j013444m1532_indef-f444w_00009', 'HOME_PATH': '/workspaces/panoramic-jwst/Astrometry', 'PERSIST_PATH': '/workspaces/panoramic-jwst/Astrometry/j013444m1532_indef-f444w_00009/Persistence', 'min_overlap': 0.2, 'make_combined': False, 'catalogs': ['PS1', 'DES', 'NSC', 'SDSS', 'GAIA', 'WISE'], 'use_visit': True, 'master_radec': 'astrometry_db', 'parent_radec': None, 'use_first_radec': False, 'skip_imaging': False, 'clean': True, 'skip_single_optical_visits': False, 'visit_prep_args': {'align_thresh': None, 'align_rms_limit': 2, 'align_mag_limits': [14, 24, 0.05], 'align_assume_close': False, 'align_transform': None, 'align_ref_border': 100, 'align_guess': None, 'max_err_percentile': 99, 'align_min_flux_radius': 1.0, 'catalog_mask_pad': 0.05, 'match_catalog_density': False, 'skymethod': 'localmin', 'drizzle_params': {}, 'single_image_CRs': True, 'run_tweak_align': True, 'tweak_threshold': 3.0, 'tweak_fit_order': -1, 'tweak_max_dist': 100, 'tweak_n_min': 10, 'tweak_ref_exp': 0, 'tweak_mosaic_iters': 2, 'align_simple': False, 'align_clip': 120, 'column_average': True, 'sky_iter': 10, 'iter_atol': 0.0001, 'imaging_bkg_params': {'bh': 256, 'bw': 256, 'fh': 3, 'fw': 3, 'pixel_scale': 0.1, 'get_median': False}, 'run_separate_chip_sky': True, 'fix_stars': False, 'reference_catalogs': ['LS_DR9', 'PS1', 'DES', 'NSC', 'GAIA'], 'outlier_threshold': 4, 'nircam_wisp_kwargs': {'niter': 3, 'update': True}, 'oneoverf_kwargs': {'thresholds': [5, 4, 3], 'dilate_iterations': 3, 'deg_pix': 64, 'other_axis': False}, 'snowball_kwargs': {'snowball_erode': 4, 'snowball_dilate': 18, 'mask_bit': 1024, 'instruments': ['NIRCAM', 'NIRISS'], 'max_fraction': 0.3}, 'angle_background_kwargs': {'threshold': 1.8, 'detection_background': True, 'angles': [30.0, -30.0, 0, 90], 'suffix': 'angles', 'niter': 3, 'instruments': []}, 'miri_skyflat': False, 'miri_skyfile': None, 'use_skyflats': True, 'use_self_catalog': False}, 'persistence_args': {'dq_value': 1024, 'err_threshold': 0.5, 'grow_mask': 3, 'verbose': True, 'reset': False}})\n",
      "\n",
      "indef-02514-197-262.0-nrca5-f444w-clear\n"
     ]
    },
    {
     "name": "stderr",
     "output_type": "stream",
     "text": [
      "cp: cannot stat '*mask.reg': No such file or directory\n"
     ]
    },
    {
     "name": "stdout",
     "output_type": "stream",
     "text": [
      "\n",
      "\n",
      "\n",
      "indef-02514-197-262.0-nrca5-f444w-clear radec: None (0.00)\n",
      "\n",
      "\n",
      "\n",
      "# (2023-08-15 09:01:27.859)\n",
      "\n",
      "prep.process_direct_grism_visit(**{'direct': {'files': ['jw02514197001_02201_00001_nrcalong_rate.fits', 'jw02514197001_02201_00002_nrcalong_rate.fits', 'jw02514197001_02201_00003_nrcalong_rate.fits', 'jw02514197001_02201_00004_nrcalong_rate.fits'], 'footprint': <POLYGON ((23.668 -15.528, 23.668 -15.528, 23.668 -15.528, 23.668 -15.528, 2...>, 'product': 'indef-02514-197-262.0-nrca5-f444w-clear'}, 'grism': {}, 'radec': None, 'outlier_threshold': 4, 'align_clip': 120, 'align_thresh': None, 'align_mag_limits': [14, 24, 0.05], 'align_rms_limit': 2, 'align_triangle_ba_max': 0.9, 'align_ref_border': 100, 'align_min_flux_radius': 1.0, 'align_assume_close': False, 'align_transform': None, 'align_guess': None, 'max_err_percentile': 99, 'catalog_mask_pad': 0.05, 'match_catalog_density': False, 'column_average': True, 'sky_iter': 10, 'run_tweak_align': True, 'tweak_fit_order': -1, 'skip_direct': False, 'fix_stars': False, 'tweak_max_dist': 100, 'tweak_n_min': 10, 'tweak_threshold': 3.0, 'tweak_ref_exp': 0, 'tweak_mosaic_iters': 2, 'align_simple': False, 'single_image_CRs': True, 'skymethod': 'localmin', 'drizzle_params': {}, 'iter_atol': 0.0001, 'static_mask': False, 'imaging_bkg_params': {'bh': 256, 'bw': 256, 'fh': 3, 'fw': 3, 'pixel_scale': 0.1, 'get_median': False}, 'run_separate_chip_sky': True, 'separate_chip_kwargs': {}, 'reference_catalogs': ['LS_DR9', 'PS1', 'DES', 'NSC', 'GAIA'], 'use_self_catalog': False, 'nircam_wisp_kwargs': {'niter': 3, 'update': True}, 'oneoverf_kwargs': {'thresholds': [5, 4, 3], 'dilate_iterations': 3, 'deg_pix': 64, 'other_axis': False}, 'snowball_kwargs': {'snowball_erode': 4, 'snowball_dilate': 18, 'mask_bit': 1024, 'instruments': ['NIRCAM', 'NIRISS'], 'max_fraction': 0.3}, 'angle_background_kwargs': {'threshold': 1.8, 'detection_background': True, 'angles': [30.0, -30.0, 0, 90], 'suffix': 'angles', 'niter': 3, 'instruments': []}, 'miri_skyflat': False, 'miri_skyfile': None, 'use_skyflats': True})\n",
      "\n",
      "# ../RAW/jw02514197001_02201_00001_nrcalong_rate.fits -> jw02514197001_02201_00001_nrcalong_rate.fits \n",
      "# (2023-08-15 09:01:27.922)\n",
      "\n",
      "jwst_utils.initialize_jwst_image(**{'filename': 'jw02514197001_02201_00001_nrcalong_rate.fits', 'verbose': True, 'max_dq_bit': 14, 'orig_keys': ['TELESCOP', 'INSTRUME', 'DETECTOR', 'FILTER', 'PUPIL', 'EXP_TYPE', 'GRATING'], 'oneoverf_correction': True, 'oneoverf_kwargs': {'thresholds': [5, 4, 3], 'dilate_iterations': 3, 'deg_pix': 64, 'other_axis': False}, 'use_skyflats': True, 'nircam_edge': 8})\n",
      "\n",
      "ENV CRDS_CONTEXT = jwst_0995.pmap\n",
      "OTELESCO = TELESCOP JWST\n",
      "OINSTRUM = INSTRUME NIRCAM\n",
      "ODETECTO = DETECTOR NRCALONG\n",
      "OFILTER = FILTER F444W\n",
      "OPUPIL = PUPIL CLEAR\n",
      "OEXP_TYP = EXP_TYPE NRC_IMAGE\n",
      "PFLTFILE = /tmp/crds_cache/references/jwst/nircam/jwst_nircam_flat_0574.fits\n",
      "Clip MAXDQBIT = 14\n",
      "initialize_jwst_image: Mask outer ring of 8 pixels for NRCALONG\n",
      "exposure_oneoverf_correction: jw02514197001_02201_00001_nrcalong_rate.fits axis=1 deg_pix=64\n",
      "exposure_oneoverf_correction: jw02514197001_02201_00001_nrcalong_rate.fits apply to file\n",
      "ENV CRDS_CONTEXT = jwst_0995.pmap\n",
      "jwst.flatfield.FlatFieldStep: /tmp/crds_cache/references/jwst/nircam/jwst_nircam_flat_0574.fits\n",
      "jwst.flatfield.PhotomStep: /tmp/crds_cache/references/jwst/nircam/jwst_nircam_photom_0111.fits\n",
      "jwst_utils.get_jwst_skyflat: /usr/local/python/3.10.8/lib/python3.10/site-packages/grizli/data/CONF/NircamSkyFlat/nrcalong-f444w-clear_skyflat_smooth.fits not found\n",
      "ENV CRDS_CONTEXT = jwst_0995.pmap\n",
      "jwst.assign_wcs.AssignWcsStep: /tmp/crds_cache/references/jwst/nircam/jwst_nircam_distortion_0141.asdf\n",
      "# (2023-08-15 09:01:37.379)\n",
      "\n",
      "jwst_utils.pipeline_model_wcs_header(**{'datamodel': <ImageModel(2048, 2048) from jw02514197001_02201_00001_nrcalong_rate.fits>, 'step': 64, 'degrees': [3, 4, 5, 5], 'lsq_args': {'jac': '2-point', 'bounds': (-inf, inf), 'method': 'trf', 'ftol': 1e-12, 'xtol': 1e-12, 'gtol': 1e-12, 'x_scale': 1.0, 'loss': 'soft_l1', 'f_scale': 1000.0, 'diff_step': 1e-06, 'tr_solver': None, 'tr_options': {}, 'jac_sparsity': None, 'max_nfev': 100, 'verbose': 0, 'kwargs': {}}, 'crpix': None, 'verbose': True, 'initial_header': None, 'max_rms': 0.0001, 'set_diff_step': False, 'get_guess': False, 'fast_coeffs': True})\n",
      "\n",
      "Fit SIP degree=3 rms= 8.58e-03, 8.37e-03 pix\n",
      "Fit SIP degree=4 rms= 6.96e-03, 6.60e-03 pix\n",
      "Fit SIP degree=5 rms= 4.51e-04, 4.51e-04 pix\n",
      "Fit SIP degree=5 rms= 4.51e-04, 4.51e-04 pix\n",
      "# photometry keywords\n",
      "PHOTFNU = 9.3078e-08\n",
      "PHOTPLAM = 44036.7\n",
      "PHOTFLAM = 1.4351e-21\n",
      "ZP = 26.48\n",
      "TO_MJYSR = 1.000\n",
      "\n",
      "# prep.apply_region_mask_from_db: query failed\n",
      "# (2023-08-15 09:01:43.793)\n",
      "\n",
      "jwst_utils.set_jwst_to_hst_keywords(**{'input': 'jw02514197001_02201_00001_nrcalong_rate.fits', 'reset': False, 'verbose': True, 'orig_keys': ['TELESCOP', 'INSTRUME', 'DETECTOR', 'FILTER', 'PUPIL', 'EXP_TYPE', 'GRATING']})\n",
      "\n",
      "  Set: TELESCOP > HST\n",
      "  Set: INSTRUME > WFC3\n",
      "  Set: DETECTOR > IR\n",
      "# ../RAW/jw02514197001_02201_00002_nrcalong_rate.fits -> jw02514197001_02201_00002_nrcalong_rate.fits \n",
      "# (2023-08-15 09:01:43.971)\n",
      "\n",
      "jwst_utils.initialize_jwst_image(**{'filename': 'jw02514197001_02201_00002_nrcalong_rate.fits', 'verbose': True, 'max_dq_bit': 14, 'orig_keys': ['TELESCOP', 'INSTRUME', 'DETECTOR', 'FILTER', 'PUPIL', 'EXP_TYPE', 'GRATING'], 'oneoverf_correction': True, 'oneoverf_kwargs': {'thresholds': [5, 4, 3], 'dilate_iterations': 3, 'deg_pix': 64, 'other_axis': False}, 'use_skyflats': True, 'nircam_edge': 8})\n",
      "\n",
      "ENV CRDS_CONTEXT = jwst_0995.pmap\n",
      "OTELESCO = TELESCOP JWST\n",
      "OINSTRUM = INSTRUME NIRCAM\n",
      "ODETECTO = DETECTOR NRCALONG\n",
      "OFILTER = FILTER F444W\n",
      "OPUPIL = PUPIL CLEAR\n",
      "OEXP_TYP = EXP_TYPE NRC_IMAGE\n",
      "PFLTFILE = /tmp/crds_cache/references/jwst/nircam/jwst_nircam_flat_0574.fits\n",
      "Clip MAXDQBIT = 14\n",
      "initialize_jwst_image: Mask outer ring of 8 pixels for NRCALONG\n",
      "exposure_oneoverf_correction: jw02514197001_02201_00002_nrcalong_rate.fits axis=1 deg_pix=64\n",
      "exposure_oneoverf_correction: jw02514197001_02201_00002_nrcalong_rate.fits apply to file\n",
      "ENV CRDS_CONTEXT = jwst_0995.pmap\n",
      "jwst.flatfield.FlatFieldStep: /tmp/crds_cache/references/jwst/nircam/jwst_nircam_flat_0574.fits\n",
      "jwst.flatfield.PhotomStep: /tmp/crds_cache/references/jwst/nircam/jwst_nircam_photom_0111.fits\n",
      "jwst_utils.get_jwst_skyflat: /usr/local/python/3.10.8/lib/python3.10/site-packages/grizli/data/CONF/NircamSkyFlat/nrcalong-f444w-clear_skyflat_smooth.fits not found\n",
      "ENV CRDS_CONTEXT = jwst_0995.pmap\n",
      "jwst.assign_wcs.AssignWcsStep: /tmp/crds_cache/references/jwst/nircam/jwst_nircam_distortion_0141.asdf\n",
      "# (2023-08-15 09:01:49.110)\n",
      "\n",
      "jwst_utils.pipeline_model_wcs_header(**{'datamodel': <ImageModel(2048, 2048) from jw02514197001_02201_00002_nrcalong_rate.fits>, 'step': 64, 'degrees': [3, 4, 5, 5], 'lsq_args': {'jac': '2-point', 'bounds': (-inf, inf), 'method': 'trf', 'ftol': 1e-12, 'xtol': 1e-12, 'gtol': 1e-12, 'x_scale': 1.0, 'loss': 'soft_l1', 'f_scale': 1000.0, 'diff_step': 1e-06, 'tr_solver': None, 'tr_options': {}, 'jac_sparsity': None, 'max_nfev': 100, 'verbose': 0, 'kwargs': {}}, 'crpix': None, 'verbose': True, 'initial_header': None, 'max_rms': 0.0001, 'set_diff_step': False, 'get_guess': False, 'fast_coeffs': True})\n",
      "\n",
      "Fit SIP degree=3 rms= 8.57e-03, 8.37e-03 pix\n",
      "Fit SIP degree=4 rms= 6.96e-03, 6.60e-03 pix\n",
      "Fit SIP degree=5 rms= 4.51e-04, 4.50e-04 pix\n",
      "Fit SIP degree=5 rms= 4.52e-04, 4.51e-04 pix\n",
      "# photometry keywords\n",
      "PHOTFNU = 9.3078e-08\n",
      "PHOTPLAM = 44036.7\n",
      "PHOTFLAM = 1.4351e-21\n",
      "ZP = 26.48\n",
      "TO_MJYSR = 1.000\n",
      "\n",
      "# prep.apply_region_mask_from_db: query failed\n",
      "# (2023-08-15 09:01:55.119)\n",
      "\n",
      "jwst_utils.set_jwst_to_hst_keywords(**{'input': 'jw02514197001_02201_00002_nrcalong_rate.fits', 'reset': False, 'verbose': True, 'orig_keys': ['TELESCOP', 'INSTRUME', 'DETECTOR', 'FILTER', 'PUPIL', 'EXP_TYPE', 'GRATING']})\n",
      "\n",
      "  Set: TELESCOP > HST\n",
      "  Set: INSTRUME > WFC3\n",
      "  Set: DETECTOR > IR\n",
      "# ../RAW/jw02514197001_02201_00003_nrcalong_rate.fits -> jw02514197001_02201_00003_nrcalong_rate.fits \n",
      "# (2023-08-15 09:01:55.275)\n",
      "\n",
      "jwst_utils.initialize_jwst_image(**{'filename': 'jw02514197001_02201_00003_nrcalong_rate.fits', 'verbose': True, 'max_dq_bit': 14, 'orig_keys': ['TELESCOP', 'INSTRUME', 'DETECTOR', 'FILTER', 'PUPIL', 'EXP_TYPE', 'GRATING'], 'oneoverf_correction': True, 'oneoverf_kwargs': {'thresholds': [5, 4, 3], 'dilate_iterations': 3, 'deg_pix': 64, 'other_axis': False}, 'use_skyflats': True, 'nircam_edge': 8})\n",
      "\n",
      "ENV CRDS_CONTEXT = jwst_0995.pmap\n",
      "OTELESCO = TELESCOP JWST\n",
      "OINSTRUM = INSTRUME NIRCAM\n",
      "ODETECTO = DETECTOR NRCALONG\n",
      "OFILTER = FILTER F444W\n",
      "OPUPIL = PUPIL CLEAR\n",
      "OEXP_TYP = EXP_TYPE NRC_IMAGE\n",
      "PFLTFILE = /tmp/crds_cache/references/jwst/nircam/jwst_nircam_flat_0574.fits\n",
      "Clip MAXDQBIT = 14\n",
      "initialize_jwst_image: Mask outer ring of 8 pixels for NRCALONG\n",
      "exposure_oneoverf_correction: jw02514197001_02201_00003_nrcalong_rate.fits axis=1 deg_pix=64\n",
      "exposure_oneoverf_correction: jw02514197001_02201_00003_nrcalong_rate.fits apply to file\n",
      "ENV CRDS_CONTEXT = jwst_0995.pmap\n",
      "jwst.flatfield.FlatFieldStep: /tmp/crds_cache/references/jwst/nircam/jwst_nircam_flat_0574.fits\n",
      "jwst.flatfield.PhotomStep: /tmp/crds_cache/references/jwst/nircam/jwst_nircam_photom_0111.fits\n",
      "jwst_utils.get_jwst_skyflat: /usr/local/python/3.10.8/lib/python3.10/site-packages/grizli/data/CONF/NircamSkyFlat/nrcalong-f444w-clear_skyflat_smooth.fits not found\n",
      "ENV CRDS_CONTEXT = jwst_0995.pmap\n",
      "jwst.assign_wcs.AssignWcsStep: /tmp/crds_cache/references/jwst/nircam/jwst_nircam_distortion_0141.asdf\n",
      "# (2023-08-15 09:01:59.882)\n",
      "\n",
      "jwst_utils.pipeline_model_wcs_header(**{'datamodel': <ImageModel(2048, 2048) from jw02514197001_02201_00003_nrcalong_rate.fits>, 'step': 64, 'degrees': [3, 4, 5, 5], 'lsq_args': {'jac': '2-point', 'bounds': (-inf, inf), 'method': 'trf', 'ftol': 1e-12, 'xtol': 1e-12, 'gtol': 1e-12, 'x_scale': 1.0, 'loss': 'soft_l1', 'f_scale': 1000.0, 'diff_step': 1e-06, 'tr_solver': None, 'tr_options': {}, 'jac_sparsity': None, 'max_nfev': 100, 'verbose': 0, 'kwargs': {}}, 'crpix': None, 'verbose': True, 'initial_header': None, 'max_rms': 0.0001, 'set_diff_step': False, 'get_guess': False, 'fast_coeffs': True})\n",
      "\n",
      "Fit SIP degree=3 rms= 8.58e-03, 8.37e-03 pix\n",
      "Fit SIP degree=4 rms= 6.96e-03, 6.60e-03 pix\n",
      "Fit SIP degree=5 rms= 4.50e-04, 4.50e-04 pix\n",
      "Fit SIP degree=5 rms= 4.51e-04, 4.50e-04 pix\n",
      "# photometry keywords\n",
      "PHOTFNU = 9.3078e-08\n",
      "PHOTPLAM = 44036.7\n",
      "PHOTFLAM = 1.4351e-21\n",
      "ZP = 26.48\n",
      "TO_MJYSR = 1.000\n",
      "\n",
      "# prep.apply_region_mask_from_db: query failed\n",
      "# (2023-08-15 09:02:05.990)\n",
      "\n",
      "jwst_utils.set_jwst_to_hst_keywords(**{'input': 'jw02514197001_02201_00003_nrcalong_rate.fits', 'reset': False, 'verbose': True, 'orig_keys': ['TELESCOP', 'INSTRUME', 'DETECTOR', 'FILTER', 'PUPIL', 'EXP_TYPE', 'GRATING']})\n",
      "\n",
      "  Set: TELESCOP > HST\n",
      "  Set: INSTRUME > WFC3\n",
      "  Set: DETECTOR > IR\n",
      "# ../RAW/jw02514197001_02201_00004_nrcalong_rate.fits -> jw02514197001_02201_00004_nrcalong_rate.fits \n",
      "# (2023-08-15 09:02:06.152)\n",
      "\n",
      "jwst_utils.initialize_jwst_image(**{'filename': 'jw02514197001_02201_00004_nrcalong_rate.fits', 'verbose': True, 'max_dq_bit': 14, 'orig_keys': ['TELESCOP', 'INSTRUME', 'DETECTOR', 'FILTER', 'PUPIL', 'EXP_TYPE', 'GRATING'], 'oneoverf_correction': True, 'oneoverf_kwargs': {'thresholds': [5, 4, 3], 'dilate_iterations': 3, 'deg_pix': 64, 'other_axis': False}, 'use_skyflats': True, 'nircam_edge': 8})\n",
      "\n",
      "ENV CRDS_CONTEXT = jwst_0995.pmap\n",
      "OTELESCO = TELESCOP JWST\n",
      "OINSTRUM = INSTRUME NIRCAM\n",
      "ODETECTO = DETECTOR NRCALONG\n",
      "OFILTER = FILTER F444W\n",
      "OPUPIL = PUPIL CLEAR\n",
      "OEXP_TYP = EXP_TYPE NRC_IMAGE\n",
      "PFLTFILE = /tmp/crds_cache/references/jwst/nircam/jwst_nircam_flat_0574.fits\n",
      "Clip MAXDQBIT = 14\n",
      "initialize_jwst_image: Mask outer ring of 8 pixels for NRCALONG\n",
      "exposure_oneoverf_correction: jw02514197001_02201_00004_nrcalong_rate.fits axis=1 deg_pix=64\n",
      "exposure_oneoverf_correction: jw02514197001_02201_00004_nrcalong_rate.fits apply to file\n",
      "ENV CRDS_CONTEXT = jwst_0995.pmap\n",
      "jwst.flatfield.FlatFieldStep: /tmp/crds_cache/references/jwst/nircam/jwst_nircam_flat_0574.fits\n",
      "jwst.flatfield.PhotomStep: /tmp/crds_cache/references/jwst/nircam/jwst_nircam_photom_0111.fits\n",
      "jwst_utils.get_jwst_skyflat: /usr/local/python/3.10.8/lib/python3.10/site-packages/grizli/data/CONF/NircamSkyFlat/nrcalong-f444w-clear_skyflat_smooth.fits not found\n",
      "ENV CRDS_CONTEXT = jwst_0995.pmap\n",
      "jwst.assign_wcs.AssignWcsStep: /tmp/crds_cache/references/jwst/nircam/jwst_nircam_distortion_0141.asdf\n",
      "# (2023-08-15 09:02:12.276)\n",
      "\n",
      "jwst_utils.pipeline_model_wcs_header(**{'datamodel': <ImageModel(2048, 2048) from jw02514197001_02201_00004_nrcalong_rate.fits>, 'step': 64, 'degrees': [3, 4, 5, 5], 'lsq_args': {'jac': '2-point', 'bounds': (-inf, inf), 'method': 'trf', 'ftol': 1e-12, 'xtol': 1e-12, 'gtol': 1e-12, 'x_scale': 1.0, 'loss': 'soft_l1', 'f_scale': 1000.0, 'diff_step': 1e-06, 'tr_solver': None, 'tr_options': {}, 'jac_sparsity': None, 'max_nfev': 100, 'verbose': 0, 'kwargs': {}}, 'crpix': None, 'verbose': True, 'initial_header': None, 'max_rms': 0.0001, 'set_diff_step': False, 'get_guess': False, 'fast_coeffs': True})\n",
      "\n",
      "Fit SIP degree=3 rms= 8.57e-03, 8.37e-03 pix\n",
      "Fit SIP degree=4 rms= 6.96e-03, 6.60e-03 pix\n",
      "Fit SIP degree=5 rms= 4.50e-04, 4.50e-04 pix\n",
      "Fit SIP degree=5 rms= 4.51e-04, 4.50e-04 pix\n",
      "# photometry keywords\n",
      "PHOTFNU = 9.3078e-08\n",
      "PHOTPLAM = 44036.7\n",
      "PHOTFLAM = 1.4351e-21\n",
      "ZP = 26.48\n",
      "TO_MJYSR = 1.000\n",
      "\n",
      "# prep.apply_region_mask_from_db: query failed\n",
      "# (2023-08-15 09:02:19.692)\n",
      "\n",
      "jwst_utils.set_jwst_to_hst_keywords(**{'input': 'jw02514197001_02201_00004_nrcalong_rate.fits', 'reset': False, 'verbose': True, 'orig_keys': ['TELESCOP', 'INSTRUME', 'DETECTOR', 'FILTER', 'PUPIL', 'EXP_TYPE', 'GRATING']})\n",
      "\n",
      "  Set: TELESCOP > HST\n",
      "  Set: INSTRUME > WFC3\n",
      "  Set: DETECTOR > IR\n",
      "# (2023-08-15 09:02:19.791)\n",
      "\n",
      "prep.mask_snowballs(**{'visit': {'files': ['jw02514197001_02201_00001_nrcalong_rate.fits', 'jw02514197001_02201_00002_nrcalong_rate.fits', 'jw02514197001_02201_00003_nrcalong_rate.fits', 'jw02514197001_02201_00004_nrcalong_rate.fits'], 'footprint': <POLYGON ((23.668 -15.528, 23.668 -15.528, 23.668 -15.528, 23.668 -15.528, 2...>, 'product': 'indef-02514-197-262.0-nrca5-f444w-clear'}, 'snowball_erode': 4, 'snowball_dilate': 18, 'mask_bit': 1024, 'instruments': ['NIRCAM', 'NIRISS'], 'max_fraction': 0.3, 'unset4': False, 'kwargs': {}})\n",
      "\n",
      "Snowball mask: jw02514197001_02201_00001_nrcalong_rate.fits  N=  1(f=0.03%)\n",
      "Snowball mask: jw02514197001_02201_00002_nrcalong_rate.fits  N=  4(f=0.08%)\n",
      "Snowball mask: jw02514197001_02201_00003_nrcalong_rate.fits  N=  2(f=0.04%)\n",
      "Snowball mask: jw02514197001_02201_00004_nrcalong_rate.fits  N=  2(f=0.09%)\n",
      "# (2023-08-15 09:02:20.369)\n",
      "\n",
      "prep.tweak_align(**{'direct_group': {'files': ['jw02514197001_02201_00001_nrcalong_rate.fits', 'jw02514197001_02201_00002_nrcalong_rate.fits', 'jw02514197001_02201_00003_nrcalong_rate.fits', 'jw02514197001_02201_00004_nrcalong_rate.fits'], 'footprint': <POLYGON ((23.668 -15.528, 23.668 -15.528, 23.668 -15.528, 23.668 -15.528, 2...>, 'product': 'indef-02514-197-262.0-nrca5-f444w-clear'}, 'grism_group': {}, 'max_dist': 100, 'n_min': 10, 'key': ' ', 'threshold': 3.0, 'drizzle': False, 'fit_order': -1, 'ref_exp': 0, 'flux_radius': [0.5, 5], 'master_radec': None, 'make_figures': True})\n",
      "\n",
      "### Tweak alignment (use_sewpy=False) \n",
      "# tw jw02514197001_02201_00001_nrcalong_rate.fits [ 0.000,  0.000]  [ 0.000,  0.000] N=100 Ntot=256\n",
      "# tw jw02514197001_02201_00002_nrcalong_rate.fits [ 0.459, -1.184]  [ 0.020,  0.012] N=70 Ntot=254\n",
      "# tw jw02514197001_02201_00003_nrcalong_rate.fits [ 0.475,  1.749]  [ 0.015,  0.016] N=76 Ntot=265\n",
      "# tw jw02514197001_02201_00004_nrcalong_rate.fits [-0.183, -1.473]  [ 0.019,  0.021] N=70 Ntot=257\n",
      "# (2023-08-15 09:02:29.328)\n",
      "\n",
      "prep.find_direct_grism_pairs(**{'direct': {'files': ['jw02514197001_02201_00001_nrcalong_rate.fits', 'jw02514197001_02201_00002_nrcalong_rate.fits', 'jw02514197001_02201_00003_nrcalong_rate.fits', 'jw02514197001_02201_00004_nrcalong_rate.fits'], 'footprint': <POLYGON ((23.668 -15.528, 23.668 -15.528, 23.668 -15.528, 23.668 -15.528, 2...>, 'product': 'indef-02514-197-262.0-nrca5-f444w-clear'}, 'grism': {}, 'check_pixel': [507, 507], 'toler': 0.1, 'key': ' ', 'same_visit': True, 'log': True})\n",
      "\n",
      "\n",
      "grism_matches = OrderedDict([('jw02514197001_02201_00001_nrcalong_rate.fits', []), ('jw02514197001_02201_00002_nrcalong_rate.fits', []), ('jw02514197001_02201_00003_nrcalong_rate.fits', []), ('jw02514197001_02201_00004_nrcalong_rate.fits', [])])\n",
      "\n",
      "# (2023-08-15 09:02:29.461)\n",
      "\n",
      "prep.apply_tweak_shifts(**{'wcs_ref': WCS Keywords\n",
      "\n",
      "Number of WCS axes: 2\n",
      "CTYPE : 'RA---TAN-SIP'  'DEC--TAN-SIP'  \n",
      "CRVAL : 23.68350180126983  -15.507781139798881  \n",
      "CRPIX : 1024.647  1024.66  \n",
      "CD1_1 CD1_2  : 2.52630877075178e-06  -1.7338252066824e-05  \n",
      "CD2_1 CD2_2  : -1.7250232456312e-05  -2.5113225199415e-06  \n",
      "NAXIS : 2048  2048, 'shift_dict': OrderedDict([('jw02514197001_02201_00001_nrcalong_rate.fits', [1.0118128557223827e-10, 7.37827576813288e-11, 0.0, 1.0, 100, array([1.339596e-09, 4.845639e-10])]), ('jw02514197001_02201_00002_nrcalong_rate.fits', [0.45853255021745554, -1.184288800271247, 0.0, 1.0, 70, array([0.020023, 0.011953])]), ('jw02514197001_02201_00003_nrcalong_rate.fits', [0.474697617974698, 1.7494396922351996, 0.0, 1.0, 76, array([0.014829, 0.016242])]), ('jw02514197001_02201_00004_nrcalong_rate.fits', [-0.1825473560094224, -1.4731215823486536, 0.0, 1.0, 70, array([0.019428, 0.020619])])]), 'grism_matches': OrderedDict([('jw02514197001_02201_00001_nrcalong_rate.fits', []), ('jw02514197001_02201_00002_nrcalong_rate.fits', []), ('jw02514197001_02201_00003_nrcalong_rate.fits', []), ('jw02514197001_02201_00004_nrcalong_rate.fits', [])]), 'verbose': False, 'log': True})\n",
      "\n",
      "# (2023-08-15 09:02:30.027)\n",
      "\n",
      "jwst_utils.set_jwst_to_hst_keywords(**{'input': 'jw02514197001_02201_00001_nrcalong_rate.fits', 'reset': True, 'verbose': True, 'orig_keys': ['TELESCOP', 'INSTRUME', 'DETECTOR', 'FILTER', 'PUPIL', 'EXP_TYPE', 'GRATING']})\n",
      "\n",
      "Reset: TELESCOP > JWST (OTELESCO)\n",
      "Reset: INSTRUME > NIRCAM (OINSTRUM)\n",
      "Reset: DETECTOR > NRCALONG (ODETECTO)\n",
      "Reset: FILTER > F444W (OFILTER)\n",
      "Reset: PUPIL > CLEAR (OPUPIL)\n",
      "Reset: EXP_TYPE > NRC_IMAGE (OEXP_TYP)\n",
      "# (2023-08-15 09:02:30.133)\n",
      "\n",
      "jwst_utils.set_jwst_to_hst_keywords(**{'input': 'jw02514197001_02201_00002_nrcalong_rate.fits', 'reset': True, 'verbose': True, 'orig_keys': ['TELESCOP', 'INSTRUME', 'DETECTOR', 'FILTER', 'PUPIL', 'EXP_TYPE', 'GRATING']})\n",
      "\n",
      "Reset: TELESCOP > JWST (OTELESCO)\n",
      "Reset: INSTRUME > NIRCAM (OINSTRUM)\n",
      "Reset: DETECTOR > NRCALONG (ODETECTO)\n",
      "Reset: FILTER > F444W (OFILTER)\n",
      "Reset: PUPIL > CLEAR (OPUPIL)\n",
      "Reset: EXP_TYPE > NRC_IMAGE (OEXP_TYP)\n",
      "# (2023-08-15 09:02:30.233)\n",
      "\n",
      "jwst_utils.set_jwst_to_hst_keywords(**{'input': 'jw02514197001_02201_00003_nrcalong_rate.fits', 'reset': True, 'verbose': True, 'orig_keys': ['TELESCOP', 'INSTRUME', 'DETECTOR', 'FILTER', 'PUPIL', 'EXP_TYPE', 'GRATING']})\n",
      "\n",
      "Reset: TELESCOP > JWST (OTELESCO)\n",
      "Reset: INSTRUME > NIRCAM (OINSTRUM)\n",
      "Reset: DETECTOR > NRCALONG (ODETECTO)\n",
      "Reset: FILTER > F444W (OFILTER)\n",
      "Reset: PUPIL > CLEAR (OPUPIL)\n",
      "Reset: EXP_TYPE > NRC_IMAGE (OEXP_TYP)\n",
      "# (2023-08-15 09:02:30.326)\n",
      "\n",
      "jwst_utils.set_jwst_to_hst_keywords(**{'input': 'jw02514197001_02201_00004_nrcalong_rate.fits', 'reset': True, 'verbose': True, 'orig_keys': ['TELESCOP', 'INSTRUME', 'DETECTOR', 'FILTER', 'PUPIL', 'EXP_TYPE', 'GRATING']})\n",
      "\n",
      "Reset: TELESCOP > JWST (OTELESCO)\n",
      "Reset: INSTRUME > NIRCAM (OINSTRUM)\n",
      "Reset: DETECTOR > NRCALONG (ODETECTO)\n",
      "Reset: FILTER > F444W (OFILTER)\n",
      "Reset: PUPIL > CLEAR (OPUPIL)\n",
      "Reset: EXP_TYPE > NRC_IMAGE (OEXP_TYP)\n",
      "# iterate_tweak_align: make copies to ./TweakBackup\n",
      "# prep.iterate_tweak_align: iteration 0\n",
      "# prep.apply_region_mask_from_db: query failed\n",
      "# prep.apply_region_mask_from_db: query failed\n",
      "# prep.apply_region_mask_from_db: query failed\n",
      "# prep.apply_region_mask_from_db: query failed\n",
      "309\n",
      "# (2023-08-15 09:02:39.708)\n",
      "\n",
      "prep.tweak_align(**{'direct_group': {'files': ['jw02514197001_02201_00001_nrcalong_rate.fits', 'jw02514197001_02201_00002_nrcalong_rate.fits', 'jw02514197001_02201_00003_nrcalong_rate.fits', 'jw02514197001_02201_00004_nrcalong_rate.fits'], 'footprint': <POLYGON ((23.668 -15.528, 23.668 -15.528, 23.668 -15.528, 23.668 -15.528, 2...>, 'product': 'indef-02514-197-262.0-nrca5-f444w-clear'}, 'grism_group': {}, 'max_dist': 100, 'n_min': 10, 'key': ' ', 'threshold': 3.0, 'drizzle': False, 'fit_order': -1, 'ref_exp': 0, 'flux_radius': [0.5, 5], 'master_radec': 'tweak_indef-02514-197-262.0-nrca5-f444w-clear_0.radec', 'make_figures': True})\n",
      "\n",
      "### Tweak alignment (use_sewpy=False) \n",
      "### reference sources from tweak_indef-02514-197-262.0-nrca5-f444w-clear_0.radec\n",
      "# tw jw02514197001_02201_00001_nrcalong_rate.fits [ 0.009,  0.003]  [ 0.012,  0.013] N=79 Ntot=256\n",
      "# tw jw02514197001_02201_00002_nrcalong_rate.fits [ 0.007,  0.009]  [ 0.009,  0.009] N=77 Ntot=254\n",
      "# tw jw02514197001_02201_00003_nrcalong_rate.fits [-0.000,  0.000]  [ 0.021,  0.011] N=80 Ntot=265\n",
      "# tw jw02514197001_02201_00004_nrcalong_rate.fits [-0.004, -0.001]  [ 0.019,  0.020] N=76 Ntot=257\n",
      "# (2023-08-15 09:02:54.929)\n",
      "\n",
      "prep.find_direct_grism_pairs(**{'direct': {'files': ['jw02514197001_02201_00001_nrcalong_rate.fits', 'jw02514197001_02201_00002_nrcalong_rate.fits', 'jw02514197001_02201_00003_nrcalong_rate.fits', 'jw02514197001_02201_00004_nrcalong_rate.fits'], 'footprint': <POLYGON ((23.668 -15.528, 23.668 -15.528, 23.668 -15.528, 23.668 -15.528, 2...>, 'product': 'indef-02514-197-262.0-nrca5-f444w-clear'}, 'grism': {}, 'check_pixel': [507, 507], 'toler': 0.1, 'key': ' ', 'same_visit': True, 'log': True})\n",
      "\n",
      "\n",
      "grism_matches = OrderedDict([('jw02514197001_02201_00001_nrcalong_rate.fits', []), ('jw02514197001_02201_00002_nrcalong_rate.fits', []), ('jw02514197001_02201_00003_nrcalong_rate.fits', []), ('jw02514197001_02201_00004_nrcalong_rate.fits', [])])\n",
      "\n",
      "# (2023-08-15 09:02:55.070)\n",
      "\n",
      "prep.apply_tweak_shifts(**{'wcs_ref': WCS Keywords\n",
      "\n",
      "Number of WCS axes: 2\n",
      "CTYPE : 'RA---TAN-SIP'  'DEC--TAN-SIP'  \n",
      "CRVAL : 23.68350180127  -15.507781139799  \n",
      "CRPIX : 1024.647  1024.66  \n",
      "CD1_1 CD1_2  : 2.5263087715181e-06  -1.7338252060287e-05  \n",
      "CD2_1 CD2_2  : -1.7250232456335e-05  -2.5113225173574e-06  \n",
      "NAXIS : 2048  2048, 'shift_dict': OrderedDict([('jw02514197001_02201_00001_nrcalong_rate.fits', [0.008815237771841566, 0.0028951138544925925, 0.0, 1.0, 79, array([0.012463, 0.012987])]), ('jw02514197001_02201_00002_nrcalong_rate.fits', [0.006848536184406839, 0.008866306673752433, 0.0, 1.0, 77, array([0.009379, 0.009226])]), ('jw02514197001_02201_00003_nrcalong_rate.fits', [-0.00038231681370604065, 0.00013987863712827675, 0.0, 1.0, 80, array([0.02125 , 0.011134])]), ('jw02514197001_02201_00004_nrcalong_rate.fits', [-0.004286804174967074, -0.0012197235075888102, 0.0, 1.0, 76, array([0.018525, 0.020438])])]), 'grism_matches': OrderedDict([('jw02514197001_02201_00001_nrcalong_rate.fits', []), ('jw02514197001_02201_00002_nrcalong_rate.fits', []), ('jw02514197001_02201_00003_nrcalong_rate.fits', []), ('jw02514197001_02201_00004_nrcalong_rate.fits', [])]), 'verbose': False, 'log': True})\n",
      "\n",
      "# prep.iterate_tweak_align: iteration 1\n",
      "# prep.apply_region_mask_from_db: query failed\n",
      "# prep.apply_region_mask_from_db: query failed\n",
      "# prep.apply_region_mask_from_db: query failed\n",
      "# prep.apply_region_mask_from_db: query failed\n",
      "310\n",
      "# (2023-08-15 09:03:04.178)\n",
      "\n",
      "prep.tweak_align(**{'direct_group': {'files': ['jw02514197001_02201_00001_nrcalong_rate.fits', 'jw02514197001_02201_00002_nrcalong_rate.fits', 'jw02514197001_02201_00003_nrcalong_rate.fits', 'jw02514197001_02201_00004_nrcalong_rate.fits'], 'footprint': <POLYGON ((23.668 -15.528, 23.668 -15.528, 23.668 -15.528, 23.668 -15.528, 2...>, 'product': 'indef-02514-197-262.0-nrca5-f444w-clear'}, 'grism_group': {}, 'max_dist': 100, 'n_min': 10, 'key': ' ', 'threshold': 3.0, 'drizzle': False, 'fit_order': -1, 'ref_exp': 0, 'flux_radius': [0.5, 5], 'master_radec': 'tweak_indef-02514-197-262.0-nrca5-f444w-clear_1.radec', 'make_figures': True})\n",
      "\n",
      "### Tweak alignment (use_sewpy=False) \n",
      "### reference sources from tweak_indef-02514-197-262.0-nrca5-f444w-clear_1.radec\n",
      "# tw jw02514197001_02201_00001_nrcalong_rate.fits [ 0.015,  0.007]  [ 0.013,  0.013] N=77 Ntot=256\n",
      "# tw jw02514197001_02201_00002_nrcalong_rate.fits [ 0.010,  0.011]  [ 0.009,  0.009] N=76 Ntot=254\n",
      "# tw jw02514197001_02201_00003_nrcalong_rate.fits [ 0.001,  0.001]  [ 0.022,  0.011] N=78 Ntot=265\n",
      "# tw jw02514197001_02201_00004_nrcalong_rate.fits [-0.001, -0.001]  [ 0.019,  0.021] N=74 Ntot=257\n",
      "# (2023-08-15 09:03:19.012)\n",
      "\n",
      "prep.find_direct_grism_pairs(**{'direct': {'files': ['jw02514197001_02201_00001_nrcalong_rate.fits', 'jw02514197001_02201_00002_nrcalong_rate.fits', 'jw02514197001_02201_00003_nrcalong_rate.fits', 'jw02514197001_02201_00004_nrcalong_rate.fits'], 'footprint': <POLYGON ((23.668 -15.528, 23.668 -15.528, 23.668 -15.528, 23.668 -15.528, 2...>, 'product': 'indef-02514-197-262.0-nrca5-f444w-clear'}, 'grism': {}, 'check_pixel': [507, 507], 'toler': 0.1, 'key': ' ', 'same_visit': True, 'log': True})\n",
      "\n",
      "\n",
      "grism_matches = OrderedDict([('jw02514197001_02201_00001_nrcalong_rate.fits', []), ('jw02514197001_02201_00002_nrcalong_rate.fits', []), ('jw02514197001_02201_00003_nrcalong_rate.fits', []), ('jw02514197001_02201_00004_nrcalong_rate.fits', [])])\n",
      "\n",
      "# (2023-08-15 09:03:19.169)\n",
      "\n",
      "prep.apply_tweak_shifts(**{'wcs_ref': WCS Keywords\n",
      "\n",
      "Number of WCS axes: 2\n",
      "CTYPE : 'RA---TAN-SIP'  'DEC--TAN-SIP'  \n",
      "CRVAL : 23.68350180127  -15.507781139799  \n",
      "CRPIX : 1024.647  1024.66  \n",
      "CD1_1 CD1_2  : 2.5263087715181e-06  -1.7338252060287e-05  \n",
      "CD2_1 CD2_2  : -1.7250232456335e-05  -2.5113225173574e-06  \n",
      "NAXIS : 2048  2048, 'shift_dict': OrderedDict([('jw02514197001_02201_00001_nrcalong_rate.fits', [0.01466710960632156, 0.006565684820543538, 0.0, 1.0, 77, array([0.012625, 0.012838])]), ('jw02514197001_02201_00002_nrcalong_rate.fits', [0.00978337612298219, 0.01061159299440817, 0.0, 1.0, 76, array([0.009425, 0.009432])]), ('jw02514197001_02201_00003_nrcalong_rate.fits', [0.0013558370981385792, 0.0014623985946400353, 0.0, 1.0, 78, array([0.021508, 0.011361])]), ('jw02514197001_02201_00004_nrcalong_rate.fits', [-0.0010186550615571832, -0.0007953736392352084, 0.0, 1.0, 74, array([0.019038, 0.020881])])]), 'grism_matches': OrderedDict([('jw02514197001_02201_00001_nrcalong_rate.fits', []), ('jw02514197001_02201_00002_nrcalong_rate.fits', []), ('jw02514197001_02201_00003_nrcalong_rate.fits', []), ('jw02514197001_02201_00004_nrcalong_rate.fits', [])]), 'verbose': False, 'log': True})\n",
      "\n",
      "# iterate_tweak_align: remove ./TweakBackup\n",
      "# remove tweak_indef-02514-197-262.0-nrca5-f444w-clear_1.log.txt\n",
      "# remove tweak_indef-02514-197-262.0-nrca5-f444w-clear_0_drc_wht.fits\n",
      "# remove tweak_indef-02514-197-262.0-nrca5-f444w-clear_1_bkg.fits\n",
      "# remove tweak_indef-02514-197-262.0-nrca5-f444w-clear_1.cat.fits\n",
      "# remove tweak_indef-02514-197-262.0-nrca5-f444w-clear_0.cat.fits\n",
      "# remove tweak_indef-02514-197-262.0-nrca5-f444w-clear_1.radec\n",
      "# remove tweak_indef-02514-197-262.0-nrca5-f444w-clear_0_drc_sci.fits\n",
      "# remove tweak_indef-02514-197-262.0-nrca5-f444w-clear_1_drc_wht.fits\n",
      "# remove tweak_indef-02514-197-262.0-nrca5-f444w-clear_0_fp.png\n",
      "# remove tweak_indef-02514-197-262.0-nrca5-f444w-clear_1_fp.png\n",
      "# remove tweak_indef-02514-197-262.0-nrca5-f444w-clear_1_seg.fits\n",
      "# remove tweak_indef-02514-197-262.0-nrca5-f444w-clear_1_wcs.csv\n",
      "# remove tweak_indef-02514-197-262.0-nrca5-f444w-clear_1_drc_sci.fits\n",
      "# remove tweak_indef-02514-197-262.0-nrca5-f444w-clear_0.log.txt\n",
      "# remove tweak_indef-02514-197-262.0-nrca5-f444w-clear_0.radec\n",
      "# remove tweak_indef-02514-197-262.0-nrca5-f444w-clear_0_seg.fits\n",
      "# remove tweak_indef-02514-197-262.0-nrca5-f444w-clear_0_wcs.csv\n",
      "# remove tweak_indef-02514-197-262.0-nrca5-f444w-clear_0_bkg.fits\n",
      "# (2023-08-15 09:03:19.656)\n",
      "\n",
      "jwst_utils.set_jwst_to_hst_keywords(**{'input': 'jw02514197001_02201_00001_nrcalong_rate.fits', 'reset': False, 'verbose': True, 'orig_keys': ['TELESCOP', 'INSTRUME', 'DETECTOR', 'FILTER', 'PUPIL', 'EXP_TYPE', 'GRATING']})\n",
      "\n",
      "  Set: TELESCOP > HST\n",
      "  Set: INSTRUME > WFC3\n",
      "  Set: DETECTOR > IR\n",
      "# (2023-08-15 09:03:19.758)\n",
      "\n",
      "jwst_utils.set_jwst_to_hst_keywords(**{'input': 'jw02514197001_02201_00002_nrcalong_rate.fits', 'reset': False, 'verbose': True, 'orig_keys': ['TELESCOP', 'INSTRUME', 'DETECTOR', 'FILTER', 'PUPIL', 'EXP_TYPE', 'GRATING']})\n",
      "\n",
      "  Set: TELESCOP > HST\n",
      "  Set: INSTRUME > WFC3\n",
      "  Set: DETECTOR > IR\n",
      "# (2023-08-15 09:03:19.860)\n",
      "\n",
      "jwst_utils.set_jwst_to_hst_keywords(**{'input': 'jw02514197001_02201_00003_nrcalong_rate.fits', 'reset': False, 'verbose': True, 'orig_keys': ['TELESCOP', 'INSTRUME', 'DETECTOR', 'FILTER', 'PUPIL', 'EXP_TYPE', 'GRATING']})\n",
      "\n",
      "  Set: TELESCOP > HST\n",
      "  Set: INSTRUME > WFC3\n",
      "  Set: DETECTOR > IR\n",
      "# (2023-08-15 09:03:19.958)\n",
      "\n",
      "jwst_utils.set_jwst_to_hst_keywords(**{'input': 'jw02514197001_02201_00004_nrcalong_rate.fits', 'reset': False, 'verbose': True, 'orig_keys': ['TELESCOP', 'INSTRUME', 'DETECTOR', 'FILTER', 'PUPIL', 'EXP_TYPE', 'GRATING']})\n",
      "\n",
      "  Set: TELESCOP > HST\n",
      "  Set: INSTRUME > WFC3\n",
      "  Set: DETECTOR > IR\n",
      "Query LegacySurveys (ls_dr9.tractor) catalog (23.683501880955,-15.507780870299,3.00)\n",
      "Launched query: 'SELECT TOP 1000000 * FROM ls_dr9.tractor WHERE ra > 23.657557348263968 AND ra < 23.70944641364603 AND dec > -15.532780870299 AND dec < -15.482780870298999  AND flux_r*SQRT(flux_ivar_r) > 10'\n",
      "------>https\n",
      "host = datalab.noirlab.edu:443\n",
      "context = /tap/sync\n",
      "Content-type = application/x-www-form-urlencoded\n",
      "200 OK\n",
      "[('Date', 'Tue, 15 Aug 2023 09:03:21 GMT'), ('Server', 'Apache-Coyote/1.1'), ('Content-Disposition', 'attachment; filename=\"result_dlcp753gdb5pgv9a.xml\"'), ('Content-Type', 'application/x-votable+xml'), ('Connection', 'close'), ('Transfer-Encoding', 'chunked')]\n",
      "Retrieving sync. results...\n",
      "Saving results to: result_dlcp753gdb5pgv9a.xml\n",
      "Query finished.\n",
      "indef-02514-197-262.0-nrca5-f444w-clear_ls_dr9.reg: x = ra, y=dec, ellipse=False\n",
      "indef-02514-197-262.0-nrca5-f444w-clear - Reference RADEC: indef-02514-197-262.0-nrca5-f444w-clear_ls_dr9.radec [LS_DR9] N=118\n",
      "# (2023-08-15 09:03:22.566)\n",
      "#  indef-02514-197-262.0-nrca5-f444w-clear: First Drizzle\n"
     ]
    },
    {
     "name": "stderr",
     "output_type": "stream",
     "text": [
      "2023-08-15 09:03:23,792 - stpipe - WARNING - Static mask for file 'jw02514197001_02201_00001_nrcalong_rate.fits', ext=('SCI', 1) NOT FOUND.\n",
      "2023-08-15 09:03:23,812 - stpipe - WARNING - Static mask for file 'jw02514197001_02201_00002_nrcalong_rate.fits', ext=('SCI', 1) NOT FOUND.\n",
      "2023-08-15 09:03:23,834 - stpipe - WARNING - Static mask for file 'jw02514197001_02201_00003_nrcalong_rate.fits', ext=('SCI', 1) NOT FOUND.\n",
      "2023-08-15 09:03:23,856 - stpipe - WARNING - Static mask for file 'jw02514197001_02201_00004_nrcalong_rate.fits', ext=('SCI', 1) NOT FOUND.\n",
      "2023-08-15 09:03:25,450 - stpipe - INFO - Writing out image to disk: jw02514197001_02201_00002_nrcalong_rate_single_sci.fits\n"
     ]
    },
    {
     "name": "stdout",
     "output_type": "stream",
     "text": [
      "Writing out image to disk: jw02514197001_02201_00002_nrcalong_rate_single_sci.fits\n"
     ]
    },
    {
     "name": "stderr",
     "output_type": "stream",
     "text": [
      "2023-08-15 09:03:25,548 - stpipe - INFO - Writing out image to disk: jw02514197001_02201_00002_nrcalong_rate_single_wht.fits\n"
     ]
    },
    {
     "name": "stdout",
     "output_type": "stream",
     "text": [
      "Writing out image to disk: jw02514197001_02201_00002_nrcalong_rate_single_wht.fits\n"
     ]
    },
    {
     "name": "stderr",
     "output_type": "stream",
     "text": [
      "2023-08-15 09:03:25,549 - stpipe - INFO - Writing out image to disk: jw02514197001_02201_00003_nrcalong_rate_single_sci.fits\n"
     ]
    },
    {
     "name": "stdout",
     "output_type": "stream",
     "text": [
      "Writing out image to disk: jw02514197001_02201_00003_nrcalong_rate_single_sci.fits\n"
     ]
    },
    {
     "name": "stderr",
     "output_type": "stream",
     "text": [
      "2023-08-15 09:03:25,620 - stpipe - INFO - Writing out image to disk: jw02514197001_02201_00001_nrcalong_rate_single_sci.fits\n"
     ]
    },
    {
     "name": "stdout",
     "output_type": "stream",
     "text": [
      "Writing out image to disk: jw02514197001_02201_00001_nrcalong_rate_single_sci.fits\n"
     ]
    },
    {
     "name": "stderr",
     "output_type": "stream",
     "text": [
      "2023-08-15 09:03:25,629 - stpipe - INFO - Writing out image to disk: jw02514197001_02201_00003_nrcalong_rate_single_wht.fits\n"
     ]
    },
    {
     "name": "stdout",
     "output_type": "stream",
     "text": [
      "Writing out image to disk: jw02514197001_02201_00003_nrcalong_rate_single_wht.fits\n"
     ]
    },
    {
     "name": "stderr",
     "output_type": "stream",
     "text": [
      "2023-08-15 09:03:25,635 - stpipe - INFO - Writing out image to disk: jw02514197001_02201_00004_nrcalong_rate_single_sci.fits\n"
     ]
    },
    {
     "name": "stdout",
     "output_type": "stream",
     "text": [
      "Writing out image to disk: jw02514197001_02201_00004_nrcalong_rate_single_sci.fits\n"
     ]
    },
    {
     "name": "stderr",
     "output_type": "stream",
     "text": [
      "2023-08-15 09:03:25,715 - stpipe - INFO - Writing out image to disk: jw02514197001_02201_00001_nrcalong_rate_single_wht.fits\n"
     ]
    },
    {
     "name": "stdout",
     "output_type": "stream",
     "text": [
      "Writing out image to disk: jw02514197001_02201_00001_nrcalong_rate_single_wht.fits\n"
     ]
    },
    {
     "name": "stderr",
     "output_type": "stream",
     "text": [
      "2023-08-15 09:03:25,722 - stpipe - INFO - Writing out image to disk: jw02514197001_02201_00004_nrcalong_rate_single_wht.fits\n"
     ]
    },
    {
     "name": "stdout",
     "output_type": "stream",
     "text": [
      "Writing out image to disk: jw02514197001_02201_00004_nrcalong_rate_single_wht.fits\n"
     ]
    },
    {
     "name": "stderr",
     "output_type": "stream",
     "text": [
      "2023-08-15 09:03:30,620 - stpipe - WARNING - Cannot find flat field file 'jwst_nircam_flat_0574.fits'\n",
      "2023-08-15 09:03:30,621 - stpipe - WARNING - Treating flatfield as a constant value of '1'.\n",
      "2023-08-15 09:03:31,517 - stpipe - WARNING - Cannot find flat field file 'jwst_nircam_flat_0574.fits'\n",
      "2023-08-15 09:03:31,518 - stpipe - WARNING - Treating flatfield as a constant value of '1'.\n",
      "2023-08-15 09:03:32,386 - stpipe - WARNING - Cannot find flat field file 'jwst_nircam_flat_0574.fits'\n",
      "2023-08-15 09:03:32,387 - stpipe - WARNING - Treating flatfield as a constant value of '1'.\n",
      "2023-08-15 09:03:33,257 - stpipe - WARNING - Cannot find flat field file 'jwst_nircam_flat_0574.fits'\n",
      "2023-08-15 09:03:33,258 - stpipe - WARNING - Treating flatfield as a constant value of '1'.\n",
      "2023-08-15 09:03:34,778 - stpipe - INFO - Writing out image to disk: indef-02514-197-262.0-nrca5-f444w-clear_drz_sci.fits\n"
     ]
    },
    {
     "name": "stdout",
     "output_type": "stream",
     "text": [
      "Writing out image to disk: indef-02514-197-262.0-nrca5-f444w-clear_drz_sci.fits\n"
     ]
    },
    {
     "name": "stderr",
     "output_type": "stream",
     "text": [
      "2023-08-15 09:03:34,950 - stpipe - INFO - Writing out image to disk: indef-02514-197-262.0-nrca5-f444w-clear_drz_wht.fits\n"
     ]
    },
    {
     "name": "stdout",
     "output_type": "stream",
     "text": [
      "Writing out image to disk: indef-02514-197-262.0-nrca5-f444w-clear_drz_wht.fits\n"
     ]
    },
    {
     "name": "stderr",
     "output_type": "stream",
     "text": [
      "2023-08-15 09:03:34,979 - stpipe - INFO - ==== Processing Step Final Drizzle finished at 09:03:34.979 (15/08/2023)\n"
     ]
    },
    {
     "name": "stdout",
     "output_type": "stream",
     "text": [
      "==== Processing Step Final Drizzle finished at 09:03:34.979 (15/08/2023)\n"
     ]
    },
    {
     "name": "stderr",
     "output_type": "stream",
     "text": [
      "2023-08-15 09:03:34,981 - stpipe - INFO - \n"
     ]
    },
    {
     "name": "stdout",
     "output_type": "stream",
     "text": [
      "\n"
     ]
    },
    {
     "name": "stderr",
     "output_type": "stream",
     "text": [
      "2023-08-15 09:03:34,984 - stpipe - INFO - AstroDrizzle Version 3.6.1 is finished processing at 09:03:34.984 (15/08/2023).\n"
     ]
    },
    {
     "name": "stdout",
     "output_type": "stream",
     "text": [
      "AstroDrizzle Version 3.6.1 is finished processing at 09:03:34.984 (15/08/2023).\n"
     ]
    },
    {
     "name": "stderr",
     "output_type": "stream",
     "text": [
      "2023-08-15 09:03:34,986 - stpipe - INFO - \n"
     ]
    },
    {
     "name": "stdout",
     "output_type": "stream",
     "text": [
      "\n"
     ]
    },
    {
     "name": "stderr",
     "output_type": "stream",
     "text": [
      "2023-08-15 09:03:34,988 - stpipe - INFO - \n"
     ]
    },
    {
     "name": "stdout",
     "output_type": "stream",
     "text": [
      "\n"
     ]
    },
    {
     "name": "stderr",
     "output_type": "stream",
     "text": [
      "2023-08-15 09:03:34,990 - stpipe - INFO - \n"
     ]
    },
    {
     "name": "stdout",
     "output_type": "stream",
     "text": [
      "\n"
     ]
    },
    {
     "name": "stderr",
     "output_type": "stream",
     "text": [
      "2023-08-15 09:03:34,993 - stpipe - INFO -    --------------------          --------------------\n"
     ]
    },
    {
     "name": "stdout",
     "output_type": "stream",
     "text": [
      "   --------------------          --------------------\n"
     ]
    },
    {
     "name": "stderr",
     "output_type": "stream",
     "text": [
      "2023-08-15 09:03:34,995 - stpipe - INFO -                    Step          Elapsed time\n"
     ]
    },
    {
     "name": "stdout",
     "output_type": "stream",
     "text": [
      "                   Step          Elapsed time\n"
     ]
    },
    {
     "name": "stderr",
     "output_type": "stream",
     "text": [
      "2023-08-15 09:03:34,997 - stpipe - INFO -    --------------------          --------------------\n"
     ]
    },
    {
     "name": "stdout",
     "output_type": "stream",
     "text": [
      "   --------------------          --------------------\n"
     ]
    },
    {
     "name": "stderr",
     "output_type": "stream",
     "text": [
      "2023-08-15 09:03:34,999 - stpipe - INFO - \n"
     ]
    },
    {
     "name": "stdout",
     "output_type": "stream",
     "text": [
      "\n"
     ]
    },
    {
     "name": "stderr",
     "output_type": "stream",
     "text": [
      "2023-08-15 09:03:35,001 - stpipe - INFO -          Initialization          0.7200 sec.\n"
     ]
    },
    {
     "name": "stdout",
     "output_type": "stream",
     "text": [
      "         Initialization          0.7200 sec.\n"
     ]
    },
    {
     "name": "stderr",
     "output_type": "stream",
     "text": [
      "2023-08-15 09:03:35,004 - stpipe - INFO -             Static Mask          0.0003 sec.\n"
     ]
    },
    {
     "name": "stdout",
     "output_type": "stream",
     "text": [
      "            Static Mask          0.0003 sec.\n"
     ]
    },
    {
     "name": "stderr",
     "output_type": "stream",
     "text": [
      "2023-08-15 09:03:35,006 - stpipe - INFO -            Subtract Sky          0.9516 sec.\n"
     ]
    },
    {
     "name": "stdout",
     "output_type": "stream",
     "text": [
      "           Subtract Sky          0.9516 sec.\n"
     ]
    },
    {
     "name": "stderr",
     "output_type": "stream",
     "text": [
      "2023-08-15 09:03:35,008 - stpipe - INFO -        Separate Drizzle          1.0391 sec.\n"
     ]
    },
    {
     "name": "stdout",
     "output_type": "stream",
     "text": [
      "       Separate Drizzle          1.0391 sec.\n"
     ]
    },
    {
     "name": "stderr",
     "output_type": "stream",
     "text": [
      "2023-08-15 09:03:35,010 - stpipe - INFO -           Create Median          1.0434 sec.\n"
     ]
    },
    {
     "name": "stdout",
     "output_type": "stream",
     "text": [
      "          Create Median          1.0434 sec.\n"
     ]
    },
    {
     "name": "stderr",
     "output_type": "stream",
     "text": [
      "2023-08-15 09:03:35,013 - stpipe - INFO -                    Blot          2.5605 sec.\n"
     ]
    },
    {
     "name": "stdout",
     "output_type": "stream",
     "text": [
      "                   Blot          2.5605 sec.\n"
     ]
    },
    {
     "name": "stderr",
     "output_type": "stream",
     "text": [
      "2023-08-15 09:03:35,014 - stpipe - INFO -                 Driz_CR          1.1370 sec.\n"
     ]
    },
    {
     "name": "stdout",
     "output_type": "stream",
     "text": [
      "                Driz_CR          1.1370 sec.\n"
     ]
    },
    {
     "name": "stderr",
     "output_type": "stream",
     "text": [
      "2023-08-15 09:03:35,017 - stpipe - INFO -           Final Drizzle          4.4544 sec.\n"
     ]
    },
    {
     "name": "stdout",
     "output_type": "stream",
     "text": [
      "          Final Drizzle          4.4544 sec.\n"
     ]
    },
    {
     "name": "stderr",
     "output_type": "stream",
     "text": [
      "2023-08-15 09:03:35,019 - stpipe - INFO -    ====================          ====================\n"
     ]
    },
    {
     "name": "stdout",
     "output_type": "stream",
     "text": [
      "   ====================          ====================\n"
     ]
    },
    {
     "name": "stderr",
     "output_type": "stream",
     "text": [
      "2023-08-15 09:03:35,022 - stpipe - INFO -                   Total          11.9062 sec.\n"
     ]
    },
    {
     "name": "stdout",
     "output_type": "stream",
     "text": [
      "                  Total          11.9062 sec.\n"
     ]
    },
    {
     "name": "stderr",
     "output_type": "stream",
     "text": [
      "2023-08-15 09:03:35,023 - stpipe - INFO - \n"
     ]
    },
    {
     "name": "stdout",
     "output_type": "stream",
     "text": [
      "\n"
     ]
    },
    {
     "name": "stderr",
     "output_type": "stream",
     "text": [
      "2023-08-15 09:03:35,027 - stpipe - INFO - Removing intermediate files for jw02514197001_02201_00001_nrcalong_rate.fits\n",
      "2023-08-15 09:03:35,056 - stpipe - INFO - Removing intermediate files for jw02514197001_02201_00002_nrcalong_rate.fits\n",
      "2023-08-15 09:03:35,079 - stpipe - INFO - Removing intermediate files for jw02514197001_02201_00003_nrcalong_rate.fits\n",
      "2023-08-15 09:03:35,101 - stpipe - INFO - Removing intermediate files for jw02514197001_02201_00004_nrcalong_rate.fits\n",
      "2023-08-15 09:03:35,133 - stpipe - INFO - Trailer file written to:  astrodrizzle.log\n"
     ]
    },
    {
     "name": "stdout",
     "output_type": "stream",
     "text": [
      "Trailer file written to:  astrodrizzle.log\n",
      "make_SEP_catalog: sep version = 1.2.1\n",
      "# (2023-08-15 09:03:35.143)\n",
      "sep: Image AB zeropoint =  26.478\n",
      "# (2023-08-15 09:03:35.229)\n",
      "SEP: Get background {'bw': 32.0, 'bh': 32.0, 'fw': 3, 'fh': 3}\n",
      "SEP: err_scale=0.034\n",
      "   SEP: Extract...\n",
      "    Done.\n",
      "compute_SEP_auto_params: sep version = 1.2.1\n",
      "compute_SEP_auto_params: autoparams=[2.5, <Quantity 0.35 arcsec>, 2.4, 3.8]; pixel_scale=0.06291593582096011; subpix=0; flux_radii=[0.2, 0.5, 0.9]\n",
      "# SEP indef-02514-197-262.0-nrca5-f444w-clear.cat.fits: 2647 objects\n",
      "# (2023-08-15 09:03:36.857)\n",
      "\n",
      "prep.align_drizzled_image(**{'root': 'indef-02514-197-262.0-nrca5-f444w-clear', 'mag_limits': [14, 24, 0.05], 'radec': 'indef-02514-197-262.0-nrca5-f444w-clear_ls_dr9.radec', 'NITER': 3, 'clip': 120, 'log': True, 'outlier_threshold': 4, 'verbose': True, 'guess': [0.0, 0.0, 0.0, 1], 'simple': False, 'rms_limit': 2, 'use_guess': False, 'triangle_size_limit': [5, 2400], 'max_sources': 200, 'triangle_ba_max': 0.9, 'max_err_percentile': 99, 'catalog_mask_pad': 0.05, 'min_flux_radius': 1.0, 'match_catalog_density': False, 'assume_close': False, 'ref_border': 100, 'transform': None})\n",
      "\n",
      "# wcs indef-02514-197-262.0-nrca5-f444w-clear radec=\"indef-02514-197-262.0-nrca5-f444w-clear_ls_dr9.radec\"; Ncat=143; Nref=78\n",
      "# wcs indef-02514-197-262.0-nrca5-f444w-clear (guess)   :   0.00   0.00   0.000   1.000\n",
      "  tristars.match: Nin=60, Nout=107, match=40\n",
      "  tristars.match: Nin=39, Nout=39, match=39\n",
      "# wcs indef-02514-197-262.0-nrca5-f444w-clear (0) 39:  -0.50   2.57  -0.009   1.000\n",
      "  tristars.match: Nin=60, Nout=106, match=40\n",
      "  tristars.match: Nin=39, Nout=39, match=39\n",
      "# wcs indef-02514-197-262.0-nrca5-f444w-clear (1) 39:  -0.00  -0.00   0.000   1.000\n",
      "  tristars.match: Nin=60, Nout=106, match=40\n",
      "  tristars.match: Nin=39, Nout=39, match=39\n",
      "# wcs indef-02514-197-262.0-nrca5-f444w-clear (2) 39:   0.00   0.00  -0.000   1.000\n",
      "Initialize indef-02514-197-262.0-nrca5-f444w-clear_wcs.log\n"
     ]
    },
    {
     "name": "stderr",
     "output_type": "stream",
     "text": [
      "2023-08-15 09:03:39,943 - stpipe - INFO -     with WCS of\n"
     ]
    },
    {
     "name": "stdout",
     "output_type": "stream",
     "text": [
      "\n",
      "....Updating header for 'jw02514197001_02201_00001_nrcalong_rate.fits' ...\n",
      "\n",
      "\n",
      "Processing jw02514197001_02201_00001_nrcalong_rate.fits['SCI',1]\n",
      "\n",
      "Updating header for jw02514197001_02201_00001_nrcalong_rate.fits[1]\n",
      "WCS Keywords\n",
      "\n",
      "CD_11  CD_12: 2.523665444513796e-06 -1.733863667151012e-05\n",
      "CD_21  CD_22: -1.7250619372238812e-05 -2.5086657098576643e-06\n",
      "CRVAL    : 23.683549200150313 -15.507783105952162\n",
      "CRPIX    : 1024.647 1024.66\n",
      "NAXIS    : 2048 2048\n",
      "Plate Scale : 0.06276326724414756\n",
      "ORIENTAT : -98.23279103996289\n",
      "WCSNAME  :  LS_DR9\n",
      "\n",
      "....Updating header for 'jw02514197001_02201_00002_nrcalong_rate.fits' ...\n",
      "\n",
      "\n",
      "Processing jw02514197001_02201_00002_nrcalong_rate.fits['SCI',1]\n",
      "\n"
     ]
    },
    {
     "name": "stderr",
     "output_type": "stream",
     "text": [
      "2023-08-15 09:03:40,073 - stpipe - INFO -     with WCS of\n",
      "2023-08-15 09:03:40,220 - stpipe - INFO -     with WCS of\n"
     ]
    },
    {
     "name": "stdout",
     "output_type": "stream",
     "text": [
      "Updating header for jw02514197001_02201_00002_nrcalong_rate.fits[1]\n",
      "WCS Keywords\n",
      "\n",
      "CD_11  CD_12: 2.5237375971090644e-06 -1.7338626162902147e-05\n",
      "CD_21  CD_22: -1.7250608775326783e-05 -2.508738226138789e-06\n",
      "CRVAL    : 23.683833318642776 -15.507222591670903\n",
      "CRPIX    : 1024.647 1024.66\n",
      "NAXIS    : 2048 2048\n",
      "Plate Scale : 0.06276326715239934\n",
      "ORIENTAT : -98.23303067879922\n",
      "WCSNAME  :  LS_DR9\n",
      "\n",
      "....Updating header for 'jw02514197001_02201_00003_nrcalong_rate.fits' ...\n",
      "\n",
      "\n",
      "Processing jw02514197001_02201_00003_nrcalong_rate.fits['SCI',1]\n",
      "\n",
      "Updating header for jw02514197001_02201_00003_nrcalong_rate.fits[1]\n",
      "WCS Keywords\n",
      "\n",
      "CD_11  CD_12: 2.5237257933263067e-06 -1.733862776294234e-05\n",
      "CD_21  CD_22: -1.7250610406919206e-05 -2.5087263458998865e-06\n",
      "CRVAL    : 23.683627288133778 -15.50770220713727\n",
      "CRPIX    : 1024.647 1024.66\n",
      "NAXIS    : 2048 2048\n",
      "Plate Scale : 0.06276326677944513\n",
      "ORIENTAT : -98.23299147604489\n",
      "WCSNAME  :  LS_DR9\n"
     ]
    },
    {
     "name": "stderr",
     "output_type": "stream",
     "text": [
      "2023-08-15 09:03:40,361 - stpipe - INFO -     with WCS of\n",
      "2023-08-15 09:03:40,445 - stpipe - INFO - Setting up logfile :  astrodrizzle.log\n"
     ]
    },
    {
     "name": "stdout",
     "output_type": "stream",
     "text": [
      "\n",
      "....Updating header for 'jw02514197001_02201_00004_nrcalong_rate.fits' ...\n",
      "\n",
      "\n",
      "Processing jw02514197001_02201_00004_nrcalong_rate.fits['SCI',1]\n",
      "\n",
      "Updating header for jw02514197001_02201_00004_nrcalong_rate.fits[1]\n",
      "WCS Keywords\n",
      "\n",
      "CD_11  CD_12: 2.5237517319005064e-06 -1.7338623943352858e-05\n",
      "CD_21  CD_22: -1.7250606535082832e-05 -2.5087524417827383e-06\n",
      "CRVAL    : 23.68390975831864 -15.507143639208655\n",
      "CRPIX    : 1024.647 1024.66\n",
      "NAXIS    : 2048 2048\n",
      "Plate Scale : 0.06276326650345508\n",
      "ORIENTAT : -98.23307773081885\n",
      "WCSNAME  :  LS_DR9\n",
      "# (2023-08-15 09:03:40.424)\n",
      "# indef-02514-197-262.0-nrca5-f444w-clear: Second Drizzle\n",
      "Setting up logfile :  astrodrizzle.log\n"
     ]
    },
    {
     "name": "stderr",
     "output_type": "stream",
     "text": [
      "2023-08-15 09:03:40,446 - stpipe - INFO - AstroDrizzle log file: astrodrizzle.log\n"
     ]
    },
    {
     "name": "stdout",
     "output_type": "stream",
     "text": [
      "AstroDrizzle log file: astrodrizzle.log\n"
     ]
    },
    {
     "name": "stderr",
     "output_type": "stream",
     "text": [
      "2023-08-15 09:03:40,448 - stpipe - INFO - AstroDrizzle Version 3.6.1 started at: 09:03:40.448 (15/08/2023)\n"
     ]
    },
    {
     "name": "stdout",
     "output_type": "stream",
     "text": [
      "AstroDrizzle Version 3.6.1 started at: 09:03:40.448 (15/08/2023)\n"
     ]
    },
    {
     "name": "stderr",
     "output_type": "stream",
     "text": [
      "2023-08-15 09:03:40,449 - stpipe - INFO - \n"
     ]
    },
    {
     "name": "stdout",
     "output_type": "stream",
     "text": [
      "\n"
     ]
    },
    {
     "name": "stderr",
     "output_type": "stream",
     "text": [
      "2023-08-15 09:03:40,453 - stpipe - INFO - Version Information\n",
      "2023-08-15 09:03:40,454 - stpipe - INFO - --------------------\n",
      "2023-08-15 09:03:40,455 - stpipe - INFO - Python Version 3.10.8 (main, Nov 16 2022, 17:55:27) [GCC 9.4.0]\n",
      "2023-08-15 09:03:40,456 - stpipe - INFO - numpy Version -> 1.24.4 \n",
      "2023-08-15 09:03:40,457 - stpipe - INFO - astropy Version -> 5.3.1 \n",
      "2023-08-15 09:03:40,458 - stpipe - INFO - stwcs Version -> 1.7.2 \n",
      "2023-08-15 09:03:40,459 - stpipe - INFO - photutils Version -> 1.9.0 \n",
      "2023-08-15 09:03:40,461 - stpipe - INFO - ==== Processing Step  Initialization  started at  09:03:40.461 (15/08/2023)\n"
     ]
    },
    {
     "name": "stdout",
     "output_type": "stream",
     "text": [
      "==== Processing Step  Initialization  started at  09:03:40.461 (15/08/2023)\n"
     ]
    },
    {
     "name": "stderr",
     "output_type": "stream",
     "text": [
      "2023-08-15 09:03:40,463 - stpipe - INFO - \n"
     ]
    },
    {
     "name": "stdout",
     "output_type": "stream",
     "text": [
      "\n"
     ]
    },
    {
     "name": "stderr",
     "output_type": "stream",
     "text": [
      "2023-08-15 09:03:40,514 - stpipe - INFO - Executing serially\n",
      "2023-08-15 09:03:40,593 - stpipe - INFO - Setting up output name: indef-02514-197-262.0-nrca5-f444w-clear_drz.fits\n",
      "2023-08-15 09:03:40,594 - stpipe - INFO - -Creating imageObject List as input for processing steps.\n",
      "2023-08-15 09:03:40,702 - stpipe - INFO - Reading in MDRIZSKY of 0.26322680711746216\n",
      "2023-08-15 09:03:40,827 - stpipe - INFO - Reading in MDRIZSKY of 0.2596265971660614\n",
      "2023-08-15 09:03:40,941 - stpipe - INFO - Reading in MDRIZSKY of 0.26429107785224915\n",
      "2023-08-15 09:03:41,055 - stpipe - INFO - Reading in MDRIZSKY of 0.262439489364624\n",
      "2023-08-15 09:03:41,078 - stpipe - INFO - No context image will be created for jw02514197001_02201_00001_nrcalong_rate.fits\n",
      "2023-08-15 09:03:41,079 - stpipe - INFO - No context image will be created for jw02514197001_02201_00002_nrcalong_rate.fits\n",
      "2023-08-15 09:03:41,080 - stpipe - INFO - No context image will be created for jw02514197001_02201_00003_nrcalong_rate.fits\n",
      "2023-08-15 09:03:41,081 - stpipe - INFO - No context image will be created for jw02514197001_02201_00004_nrcalong_rate.fits\n",
      "2023-08-15 09:03:41,095 - stpipe - INFO - Reset bit values of 4096 to a value of 0 in jw02514197001_02201_00001_nrcalong_rate.fits[DQ,1]\n",
      "2023-08-15 09:03:41,131 - stpipe - INFO - Reset bit values of 4096 to a value of 0 in jw02514197001_02201_00002_nrcalong_rate.fits[DQ,1]\n",
      "2023-08-15 09:03:41,168 - stpipe - INFO - Reset bit values of 4096 to a value of 0 in jw02514197001_02201_00003_nrcalong_rate.fits[DQ,1]\n",
      "2023-08-15 09:03:41,204 - stpipe - INFO - Reset bit values of 4096 to a value of 0 in jw02514197001_02201_00004_nrcalong_rate.fits[DQ,1]\n",
      "2023-08-15 09:03:41,227 - stpipe - INFO - -Creating output WCS.\n",
      "2023-08-15 09:03:41,232 - stpipe - INFO - No context image will be created for indef-02514-197-262.0-nrca5-f444w-clear_drz.fits\n",
      "2023-08-15 09:03:41,233 - stpipe - INFO - WCS Keywords\n"
     ]
    },
    {
     "name": "stdout",
     "output_type": "stream",
     "text": [
      "WCS Keywords\n"
     ]
    },
    {
     "name": "stderr",
     "output_type": "stream",
     "text": [
      "2023-08-15 09:03:41,235 - stpipe - INFO - \n"
     ]
    },
    {
     "name": "stdout",
     "output_type": "stream",
     "text": [
      "\n"
     ]
    },
    {
     "name": "stderr",
     "output_type": "stream",
     "text": [
      "2023-08-15 09:03:41,237 - stpipe - INFO - Number of WCS axes: 2\n"
     ]
    },
    {
     "name": "stdout",
     "output_type": "stream",
     "text": [
      "Number of WCS axes: 2\n"
     ]
    },
    {
     "name": "stderr",
     "output_type": "stream",
     "text": [
      "2023-08-15 09:03:41,239 - stpipe - INFO - CTYPE : 'RA---TAN'  'DEC--TAN'  \n"
     ]
    },
    {
     "name": "stdout",
     "output_type": "stream",
     "text": [
      "CTYPE : 'RA---TAN'  'DEC--TAN'  \n"
     ]
    },
    {
     "name": "stderr",
     "output_type": "stream",
     "text": [
      "2023-08-15 09:03:41,241 - stpipe - INFO - CRVAL : 23.683811214865685  -15.507445512250277  \n"
     ]
    },
    {
     "name": "stdout",
     "output_type": "stream",
     "text": [
      "CRVAL : 23.683811214865685  -15.507445512250277  \n"
     ]
    },
    {
     "name": "stderr",
     "output_type": "stream",
     "text": [
      "2023-08-15 09:03:41,243 - stpipe - INFO - CRPIX : 1054.0  1046.0  \n"
     ]
    },
    {
     "name": "stdout",
     "output_type": "stream",
     "text": [
      "CRPIX : 1054.0  1046.0  \n"
     ]
    },
    {
     "name": "stderr",
     "output_type": "stream",
     "text": [
      "2023-08-15 09:03:41,244 - stpipe - INFO - CD1_1 CD1_2  : 2.5025752099369816e-06  -1.7296542196802506e-05  \n"
     ]
    },
    {
     "name": "stdout",
     "output_type": "stream",
     "text": [
      "CD1_1 CD1_2  : 2.5025752099369816e-06  -1.7296542196802506e-05  \n"
     ]
    },
    {
     "name": "stderr",
     "output_type": "stream",
     "text": [
      "2023-08-15 09:03:41,246 - stpipe - INFO - CD2_1 CD2_2  : -1.7296542196802506e-05  -2.5025752099369816e-06  \n"
     ]
    },
    {
     "name": "stdout",
     "output_type": "stream",
     "text": [
      "CD2_1 CD2_2  : -1.7296542196802506e-05  -2.5025752099369816e-06  \n"
     ]
    },
    {
     "name": "stderr",
     "output_type": "stream",
     "text": [
      "2023-08-15 09:03:41,248 - stpipe - INFO - NAXIS : 2108  2092\n"
     ]
    },
    {
     "name": "stdout",
     "output_type": "stream",
     "text": [
      "NAXIS : 2108  2092\n"
     ]
    },
    {
     "name": "stderr",
     "output_type": "stream",
     "text": [
      "2023-08-15 09:03:41,252 - stpipe - INFO - ********************************************************************************\n"
     ]
    },
    {
     "name": "stdout",
     "output_type": "stream",
     "text": [
      "********************************************************************************\n"
     ]
    },
    {
     "name": "stderr",
     "output_type": "stream",
     "text": [
      "2023-08-15 09:03:41,254 - stpipe - INFO - *\n"
     ]
    },
    {
     "name": "stdout",
     "output_type": "stream",
     "text": [
      "*\n"
     ]
    },
    {
     "name": "stderr",
     "output_type": "stream",
     "text": [
      "2023-08-15 09:03:41,255 - stpipe - INFO - *  Estimated memory usage:  up to 329 Mb.\n"
     ]
    },
    {
     "name": "stdout",
     "output_type": "stream",
     "text": [
      "*  Estimated memory usage:  up to 329 Mb.\n"
     ]
    },
    {
     "name": "stderr",
     "output_type": "stream",
     "text": [
      "2023-08-15 09:03:41,257 - stpipe - INFO - *  Output image size:       2108 X 2092 pixels. \n"
     ]
    },
    {
     "name": "stdout",
     "output_type": "stream",
     "text": [
      "*  Output image size:       2108 X 2092 pixels. \n"
     ]
    },
    {
     "name": "stderr",
     "output_type": "stream",
     "text": [
      "2023-08-15 09:03:41,259 - stpipe - INFO - *  Output image file:       ~ 50 Mb. \n"
     ]
    },
    {
     "name": "stdout",
     "output_type": "stream",
     "text": [
      "*  Output image file:       ~ 50 Mb. \n"
     ]
    },
    {
     "name": "stderr",
     "output_type": "stream",
     "text": [
      "2023-08-15 09:03:41,261 - stpipe - INFO - *  Cores available:         4\n"
     ]
    },
    {
     "name": "stdout",
     "output_type": "stream",
     "text": [
      "*  Cores available:         4\n"
     ]
    },
    {
     "name": "stderr",
     "output_type": "stream",
     "text": [
      "2023-08-15 09:03:41,262 - stpipe - INFO - *\n"
     ]
    },
    {
     "name": "stdout",
     "output_type": "stream",
     "text": [
      "*\n"
     ]
    },
    {
     "name": "stderr",
     "output_type": "stream",
     "text": [
      "2023-08-15 09:03:41,264 - stpipe - INFO - ********************************************************************************\n"
     ]
    },
    {
     "name": "stdout",
     "output_type": "stream",
     "text": [
      "********************************************************************************\n"
     ]
    },
    {
     "name": "stderr",
     "output_type": "stream",
     "text": [
      "2023-08-15 09:03:41,265 - stpipe - INFO - ==== Processing Step Initialization finished at 09:03:41.265 (15/08/2023)\n"
     ]
    },
    {
     "name": "stdout",
     "output_type": "stream",
     "text": [
      "==== Processing Step Initialization finished at 09:03:41.265 (15/08/2023)\n"
     ]
    },
    {
     "name": "stderr",
     "output_type": "stream",
     "text": [
      "2023-08-15 09:03:41,267 - stpipe - INFO - USER INPUT PARAMETERS common to all Processing Steps:\n",
      "2023-08-15 09:03:41,268 - stpipe - INFO - \tbuild :\tFalse\n",
      "2023-08-15 09:03:41,269 - stpipe - INFO - \tcoeffs :\tTrue\n",
      "2023-08-15 09:03:41,269 - stpipe - INFO - \tcontext :\tFalse\n",
      "2023-08-15 09:03:41,270 - stpipe - INFO - \tcrbit :\t4096\n",
      "2023-08-15 09:03:41,271 - stpipe - INFO - \tgroup :\t\n",
      "2023-08-15 09:03:41,271 - stpipe - INFO - \tin_memory :\tFalse\n",
      "2023-08-15 09:03:41,273 - stpipe - INFO - \tinput :\t['jw02514197001_02201_00001_nrcalong_rate.fits', 'jw02514197001_02201_00002_nrcalong_rate.fits', 'jw02514197001_02201_00003_nrcalong_rate.fits', 'jw02514197001_02201_00004_nrcalong_rate.fits']\n",
      "2023-08-15 09:03:41,274 - stpipe - INFO - \tmdriztab :\tFalse\n",
      "2023-08-15 09:03:41,274 - stpipe - INFO - \tnum_cores :\tNone\n",
      "2023-08-15 09:03:41,275 - stpipe - INFO - \toutput :\tindef-02514-197-262.0-nrca5-f444w-clear\n",
      "2023-08-15 09:03:41,276 - stpipe - INFO - \tproc_unit :\tnative\n",
      "2023-08-15 09:03:41,276 - stpipe - INFO - \tresetbits :\t4096\n",
      "2023-08-15 09:03:41,277 - stpipe - INFO - \trules_file :\t\n",
      "2023-08-15 09:03:41,277 - stpipe - INFO - \trunfile :\tastrodrizzle.log\n",
      "2023-08-15 09:03:41,278 - stpipe - INFO - \tstepsize :\t10\n",
      "2023-08-15 09:03:41,279 - stpipe - INFO - \tupdatewcs :\tFalse\n",
      "2023-08-15 09:03:41,281 - stpipe - INFO - \twcskey :\t\n",
      "2023-08-15 09:03:41,282 - stpipe - INFO - ==== Processing Step  Static Mask  started at  09:03:41.282 (15/08/2023)\n"
     ]
    },
    {
     "name": "stdout",
     "output_type": "stream",
     "text": [
      "==== Processing Step  Static Mask  started at  09:03:41.282 (15/08/2023)\n"
     ]
    },
    {
     "name": "stderr",
     "output_type": "stream",
     "text": [
      "2023-08-15 09:03:41,284 - stpipe - INFO - \n"
     ]
    },
    {
     "name": "stdout",
     "output_type": "stream",
     "text": [
      "\n"
     ]
    },
    {
     "name": "stderr",
     "output_type": "stream",
     "text": [
      "2023-08-15 09:03:41,286 - stpipe - INFO - Static Mask step not performed.\n",
      "2023-08-15 09:03:41,287 - stpipe - INFO - ==== Processing Step Static Mask finished at 09:03:41.287 (15/08/2023)\n"
     ]
    },
    {
     "name": "stdout",
     "output_type": "stream",
     "text": [
      "==== Processing Step Static Mask finished at 09:03:41.287 (15/08/2023)\n"
     ]
    },
    {
     "name": "stderr",
     "output_type": "stream",
     "text": [
      "2023-08-15 09:03:41,289 - stpipe - INFO - ==== Processing Step  Subtract Sky  started at  09:03:41.289 (15/08/2023)\n"
     ]
    },
    {
     "name": "stdout",
     "output_type": "stream",
     "text": [
      "==== Processing Step  Subtract Sky  started at  09:03:41.289 (15/08/2023)\n"
     ]
    },
    {
     "name": "stderr",
     "output_type": "stream",
     "text": [
      "2023-08-15 09:03:41,291 - stpipe - INFO - \n"
     ]
    },
    {
     "name": "stdout",
     "output_type": "stream",
     "text": [
      "\n"
     ]
    },
    {
     "name": "stderr",
     "output_type": "stream",
     "text": [
      "2023-08-15 09:03:41,292 - stpipe - INFO - USER INPUT PARAMETERS for Sky Subtraction Step:\n",
      "2023-08-15 09:03:41,293 - stpipe - INFO - \tsky_bits :\t0\n",
      "2023-08-15 09:03:41,294 - stpipe - INFO - \tskyclip :\t5\n",
      "2023-08-15 09:03:41,295 - stpipe - INFO - \tskyfile :\t\n",
      "2023-08-15 09:03:41,296 - stpipe - INFO - \tskylower :\tNone\n",
      "2023-08-15 09:03:41,297 - stpipe - INFO - \tskylsigma :\t4.0\n",
      "2023-08-15 09:03:41,298 - stpipe - INFO - \tskymask_cat :\t\n",
      "2023-08-15 09:03:41,299 - stpipe - INFO - \tskymethod :\tlocalmin\n",
      "2023-08-15 09:03:41,300 - stpipe - INFO - \tskystat :\tmedian\n",
      "2023-08-15 09:03:41,300 - stpipe - INFO - \tskysub :\tTrue\n",
      "2023-08-15 09:03:41,302 - stpipe - INFO - \tskyupper :\tNone\n",
      "2023-08-15 09:03:41,303 - stpipe - INFO - \tskyuser :\t\n",
      "2023-08-15 09:03:41,304 - stpipe - INFO - \tskyusigma :\t4.0\n",
      "2023-08-15 09:03:41,307 - stpipe - INFO - \tskywidth :\t0.1\n",
      "2023-08-15 09:03:41,309 - stpipe - INFO - \tuse_static :\tTrue\n",
      "2023-08-15 09:03:41,322 - stpipe - WARNING - Static mask for file 'jw02514197001_02201_00001_nrcalong_rate.fits', ext=('SCI', 1) NOT FOUND.\n",
      "2023-08-15 09:03:41,341 - stpipe - WARNING - Static mask for file 'jw02514197001_02201_00002_nrcalong_rate.fits', ext=('SCI', 1) NOT FOUND.\n",
      "2023-08-15 09:03:41,361 - stpipe - WARNING - Static mask for file 'jw02514197001_02201_00003_nrcalong_rate.fits', ext=('SCI', 1) NOT FOUND.\n",
      "2023-08-15 09:03:41,382 - stpipe - WARNING - Static mask for file 'jw02514197001_02201_00004_nrcalong_rate.fits', ext=('SCI', 1) NOT FOUND.\n",
      "2023-08-15 09:03:41,390 - stpipe - INFO - ***** skymatch started on 2023-08-15 09:03:41.390729\n"
     ]
    },
    {
     "name": "stdout",
     "output_type": "stream",
     "text": [
      "***** skymatch started on 2023-08-15 09:03:41.390729\n"
     ]
    },
    {
     "name": "stderr",
     "output_type": "stream",
     "text": [
      "2023-08-15 09:03:41,392 - stpipe - INFO -       Version 1.0.9\n"
     ]
    },
    {
     "name": "stdout",
     "output_type": "stream",
     "text": [
      "      Version 1.0.9\n"
     ]
    },
    {
     "name": "stderr",
     "output_type": "stream",
     "text": [
      "2023-08-15 09:03:41,394 - stpipe - INFO - \n"
     ]
    },
    {
     "name": "stdout",
     "output_type": "stream",
     "text": [
      "\n"
     ]
    },
    {
     "name": "stderr",
     "output_type": "stream",
     "text": [
      "2023-08-15 09:03:41,395 - stpipe - INFO - 'skymatch' task will apply computed sky differences to input image file(s).\n"
     ]
    },
    {
     "name": "stdout",
     "output_type": "stream",
     "text": [
      "'skymatch' task will apply computed sky differences to input image file(s).\n"
     ]
    },
    {
     "name": "stderr",
     "output_type": "stream",
     "text": [
      "2023-08-15 09:03:41,397 - stpipe - INFO - \n"
     ]
    },
    {
     "name": "stdout",
     "output_type": "stream",
     "text": [
      "\n"
     ]
    },
    {
     "name": "stderr",
     "output_type": "stream",
     "text": [
      "2023-08-15 09:03:41,398 - stpipe - INFO - NOTE: Computed sky values WILL NOT be subtracted from image data ('subtractsky'=False).\n"
     ]
    },
    {
     "name": "stdout",
     "output_type": "stream",
     "text": [
      "NOTE: Computed sky values WILL NOT be subtracted from image data ('subtractsky'=False).\n"
     ]
    },
    {
     "name": "stderr",
     "output_type": "stream",
     "text": [
      "2023-08-15 09:03:41,400 - stpipe - INFO - 'MDRIZSKY' header keyword will represent sky value *computed* from data.\n"
     ]
    },
    {
     "name": "stdout",
     "output_type": "stream",
     "text": [
      "'MDRIZSKY' header keyword will represent sky value *computed* from data.\n"
     ]
    },
    {
     "name": "stderr",
     "output_type": "stream",
     "text": [
      "2023-08-15 09:03:41,401 - stpipe - INFO - \n"
     ]
    },
    {
     "name": "stdout",
     "output_type": "stream",
     "text": [
      "\n"
     ]
    },
    {
     "name": "stderr",
     "output_type": "stream",
     "text": [
      "2023-08-15 09:03:41,403 - stpipe - INFO - -----  User specified keywords:  -----\n"
     ]
    },
    {
     "name": "stdout",
     "output_type": "stream",
     "text": [
      "-----  User specified keywords:  -----\n"
     ]
    },
    {
     "name": "stderr",
     "output_type": "stream",
     "text": [
      "2023-08-15 09:03:41,404 - stpipe - INFO -        Sky Value Keyword:  'MDRIZSKY'\n"
     ]
    },
    {
     "name": "stdout",
     "output_type": "stream",
     "text": [
      "       Sky Value Keyword:  'MDRIZSKY'\n"
     ]
    },
    {
     "name": "stderr",
     "output_type": "stream",
     "text": [
      "2023-08-15 09:03:41,405 - stpipe - INFO -        Data Units Keyword: 'BUNIT'\n"
     ]
    },
    {
     "name": "stdout",
     "output_type": "stream",
     "text": [
      "       Data Units Keyword: 'BUNIT'\n"
     ]
    },
    {
     "name": "stderr",
     "output_type": "stream",
     "text": [
      "2023-08-15 09:03:41,407 - stpipe - INFO - \n"
     ]
    },
    {
     "name": "stdout",
     "output_type": "stream",
     "text": [
      "\n"
     ]
    },
    {
     "name": "stderr",
     "output_type": "stream",
     "text": [
      "2023-08-15 09:03:41,410 - stpipe - INFO - \n"
     ]
    },
    {
     "name": "stdout",
     "output_type": "stream",
     "text": [
      "\n"
     ]
    },
    {
     "name": "stderr",
     "output_type": "stream",
     "text": [
      "2023-08-15 09:03:41,411 - stpipe - INFO - -----  Input file list:  -----\n"
     ]
    },
    {
     "name": "stdout",
     "output_type": "stream",
     "text": [
      "-----  Input file list:  -----\n"
     ]
    },
    {
     "name": "stderr",
     "output_type": "stream",
     "text": [
      "2023-08-15 09:03:41,413 - stpipe - INFO - \n"
     ]
    },
    {
     "name": "stdout",
     "output_type": "stream",
     "text": [
      "\n"
     ]
    },
    {
     "name": "stderr",
     "output_type": "stream",
     "text": [
      "2023-08-15 09:03:41,414 - stpipe - INFO -    **  Input image: 'jw02514197001_02201_00001_nrcalong_rate.fits'\n"
     ]
    },
    {
     "name": "stdout",
     "output_type": "stream",
     "text": [
      "   **  Input image: 'jw02514197001_02201_00001_nrcalong_rate.fits'\n"
     ]
    },
    {
     "name": "stderr",
     "output_type": "stream",
     "text": [
      "2023-08-15 09:03:41,416 - stpipe - INFO -        EXT: 'SCI',1;\tMASK: jw02514197001_02201_00001_nrcalong_skymatch_mask_sci1.fits[0]\n"
     ]
    },
    {
     "name": "stdout",
     "output_type": "stream",
     "text": [
      "       EXT: 'SCI',1;\tMASK: jw02514197001_02201_00001_nrcalong_skymatch_mask_sci1.fits[0]\n"
     ]
    },
    {
     "name": "stderr",
     "output_type": "stream",
     "text": [
      "2023-08-15 09:03:41,418 - stpipe - INFO - \n"
     ]
    },
    {
     "name": "stdout",
     "output_type": "stream",
     "text": [
      "\n"
     ]
    },
    {
     "name": "stderr",
     "output_type": "stream",
     "text": [
      "2023-08-15 09:03:41,419 - stpipe - INFO -    **  Input image: 'jw02514197001_02201_00002_nrcalong_rate.fits'\n"
     ]
    },
    {
     "name": "stdout",
     "output_type": "stream",
     "text": [
      "   **  Input image: 'jw02514197001_02201_00002_nrcalong_rate.fits'\n"
     ]
    },
    {
     "name": "stderr",
     "output_type": "stream",
     "text": [
      "2023-08-15 09:03:41,420 - stpipe - INFO -        EXT: 'SCI',1;\tMASK: jw02514197001_02201_00002_nrcalong_skymatch_mask_sci1.fits[0]\n"
     ]
    },
    {
     "name": "stdout",
     "output_type": "stream",
     "text": [
      "       EXT: 'SCI',1;\tMASK: jw02514197001_02201_00002_nrcalong_skymatch_mask_sci1.fits[0]\n"
     ]
    },
    {
     "name": "stderr",
     "output_type": "stream",
     "text": [
      "2023-08-15 09:03:41,422 - stpipe - INFO - \n"
     ]
    },
    {
     "name": "stdout",
     "output_type": "stream",
     "text": [
      "\n"
     ]
    },
    {
     "name": "stderr",
     "output_type": "stream",
     "text": [
      "2023-08-15 09:03:41,423 - stpipe - INFO -    **  Input image: 'jw02514197001_02201_00003_nrcalong_rate.fits'\n"
     ]
    },
    {
     "name": "stdout",
     "output_type": "stream",
     "text": [
      "   **  Input image: 'jw02514197001_02201_00003_nrcalong_rate.fits'\n"
     ]
    },
    {
     "name": "stderr",
     "output_type": "stream",
     "text": [
      "2023-08-15 09:03:41,426 - stpipe - INFO -        EXT: 'SCI',1;\tMASK: jw02514197001_02201_00003_nrcalong_skymatch_mask_sci1.fits[0]\n"
     ]
    },
    {
     "name": "stdout",
     "output_type": "stream",
     "text": [
      "       EXT: 'SCI',1;\tMASK: jw02514197001_02201_00003_nrcalong_skymatch_mask_sci1.fits[0]\n"
     ]
    },
    {
     "name": "stderr",
     "output_type": "stream",
     "text": [
      "2023-08-15 09:03:41,428 - stpipe - INFO - \n"
     ]
    },
    {
     "name": "stdout",
     "output_type": "stream",
     "text": [
      "\n"
     ]
    },
    {
     "name": "stderr",
     "output_type": "stream",
     "text": [
      "2023-08-15 09:03:41,434 - stpipe - INFO -    **  Input image: 'jw02514197001_02201_00004_nrcalong_rate.fits'\n"
     ]
    },
    {
     "name": "stdout",
     "output_type": "stream",
     "text": [
      "   **  Input image: 'jw02514197001_02201_00004_nrcalong_rate.fits'\n"
     ]
    },
    {
     "name": "stderr",
     "output_type": "stream",
     "text": [
      "2023-08-15 09:03:41,436 - stpipe - INFO -        EXT: 'SCI',1;\tMASK: jw02514197001_02201_00004_nrcalong_skymatch_mask_sci1.fits[0]\n"
     ]
    },
    {
     "name": "stdout",
     "output_type": "stream",
     "text": [
      "       EXT: 'SCI',1;\tMASK: jw02514197001_02201_00004_nrcalong_skymatch_mask_sci1.fits[0]\n"
     ]
    },
    {
     "name": "stderr",
     "output_type": "stream",
     "text": [
      "2023-08-15 09:03:41,437 - stpipe - INFO - \n"
     ]
    },
    {
     "name": "stdout",
     "output_type": "stream",
     "text": [
      "\n"
     ]
    },
    {
     "name": "stderr",
     "output_type": "stream",
     "text": [
      "2023-08-15 09:03:41,439 - stpipe - INFO - -----  Sky statistics parameters:  -----\n"
     ]
    },
    {
     "name": "stdout",
     "output_type": "stream",
     "text": [
      "-----  Sky statistics parameters:  -----\n"
     ]
    },
    {
     "name": "stderr",
     "output_type": "stream",
     "text": [
      "2023-08-15 09:03:41,441 - stpipe - INFO -        statistics function: 'median'\n"
     ]
    },
    {
     "name": "stdout",
     "output_type": "stream",
     "text": [
      "       statistics function: 'median'\n"
     ]
    },
    {
     "name": "stderr",
     "output_type": "stream",
     "text": [
      "2023-08-15 09:03:41,443 - stpipe - INFO -        lower = None\n"
     ]
    },
    {
     "name": "stdout",
     "output_type": "stream",
     "text": [
      "       lower = None\n"
     ]
    },
    {
     "name": "stderr",
     "output_type": "stream",
     "text": [
      "2023-08-15 09:03:41,445 - stpipe - INFO -        upper = None\n"
     ]
    },
    {
     "name": "stdout",
     "output_type": "stream",
     "text": [
      "       upper = None\n"
     ]
    },
    {
     "name": "stderr",
     "output_type": "stream",
     "text": [
      "2023-08-15 09:03:41,447 - stpipe - INFO -        nclip = 5\n"
     ]
    },
    {
     "name": "stdout",
     "output_type": "stream",
     "text": [
      "       nclip = 5\n"
     ]
    },
    {
     "name": "stderr",
     "output_type": "stream",
     "text": [
      "2023-08-15 09:03:41,448 - stpipe - INFO -        lsigma = 4.0\n"
     ]
    },
    {
     "name": "stdout",
     "output_type": "stream",
     "text": [
      "       lsigma = 4.0\n"
     ]
    },
    {
     "name": "stderr",
     "output_type": "stream",
     "text": [
      "2023-08-15 09:03:41,450 - stpipe - INFO -        usigma = 4.0\n"
     ]
    },
    {
     "name": "stdout",
     "output_type": "stream",
     "text": [
      "       usigma = 4.0\n"
     ]
    },
    {
     "name": "stderr",
     "output_type": "stream",
     "text": [
      "2023-08-15 09:03:41,453 - stpipe - INFO -        binwidth = 0.1\n"
     ]
    },
    {
     "name": "stdout",
     "output_type": "stream",
     "text": [
      "       binwidth = 0.1\n"
     ]
    },
    {
     "name": "stderr",
     "output_type": "stream",
     "text": [
      "2023-08-15 09:03:41,455 - stpipe - INFO - \n"
     ]
    },
    {
     "name": "stdout",
     "output_type": "stream",
     "text": [
      "\n"
     ]
    },
    {
     "name": "stderr",
     "output_type": "stream",
     "text": [
      "2023-08-15 09:03:41,456 - stpipe - INFO - -----  Data->Brightness conversion parameters for input files:  -----\n"
     ]
    },
    {
     "name": "stdout",
     "output_type": "stream",
     "text": [
      "-----  Data->Brightness conversion parameters for input files:  -----\n"
     ]
    },
    {
     "name": "stderr",
     "output_type": "stream",
     "text": [
      "2023-08-15 09:03:41,458 - stpipe - INFO - \n"
     ]
    },
    {
     "name": "stdout",
     "output_type": "stream",
     "text": [
      "\n"
     ]
    },
    {
     "name": "stderr",
     "output_type": "stream",
     "text": [
      "2023-08-15 09:03:41,460 - stpipe - INFO -    *   Image: jw02514197001_02201_00001_nrcalong_rate.fits\n"
     ]
    },
    {
     "name": "stdout",
     "output_type": "stream",
     "text": [
      "   *   Image: jw02514197001_02201_00001_nrcalong_rate.fits\n"
     ]
    },
    {
     "name": "stderr",
     "output_type": "stream",
     "text": [
      "2023-08-15 09:03:41,485 - stpipe - INFO -        EXT = 'SCI',1\n"
     ]
    },
    {
     "name": "stdout",
     "output_type": "stream",
     "text": [
      "       EXT = 'SCI',1\n"
     ]
    },
    {
     "name": "stderr",
     "output_type": "stream",
     "text": [
      "2023-08-15 09:03:41,486 - stpipe - INFO -              Data units type: COUNT-RATE\n"
     ]
    },
    {
     "name": "stdout",
     "output_type": "stream",
     "text": [
      "             Data units type: COUNT-RATE\n"
     ]
    },
    {
     "name": "stderr",
     "output_type": "stream",
     "text": [
      "2023-08-15 09:03:41,488 - stpipe - INFO -              Conversion factor (data->brightness):  252.62636812843786\n"
     ]
    },
    {
     "name": "stdout",
     "output_type": "stream",
     "text": [
      "             Conversion factor (data->brightness):  252.62636812843786\n"
     ]
    },
    {
     "name": "stderr",
     "output_type": "stream",
     "text": [
      "2023-08-15 09:03:41,490 - stpipe - INFO - \n"
     ]
    },
    {
     "name": "stdout",
     "output_type": "stream",
     "text": [
      "\n"
     ]
    },
    {
     "name": "stderr",
     "output_type": "stream",
     "text": [
      "2023-08-15 09:03:41,491 - stpipe - INFO -    *   Image: jw02514197001_02201_00002_nrcalong_rate.fits\n"
     ]
    },
    {
     "name": "stdout",
     "output_type": "stream",
     "text": [
      "   *   Image: jw02514197001_02201_00002_nrcalong_rate.fits\n"
     ]
    },
    {
     "name": "stderr",
     "output_type": "stream",
     "text": [
      "2023-08-15 09:03:41,512 - stpipe - INFO -        EXT = 'SCI',1\n"
     ]
    },
    {
     "name": "stdout",
     "output_type": "stream",
     "text": [
      "       EXT = 'SCI',1\n"
     ]
    },
    {
     "name": "stderr",
     "output_type": "stream",
     "text": [
      "2023-08-15 09:03:41,514 - stpipe - INFO -              Data units type: COUNT-RATE\n"
     ]
    },
    {
     "name": "stdout",
     "output_type": "stream",
     "text": [
      "             Data units type: COUNT-RATE\n"
     ]
    },
    {
     "name": "stderr",
     "output_type": "stream",
     "text": [
      "2023-08-15 09:03:41,516 - stpipe - INFO -              Conversion factor (data->brightness):  252.62636883294763\n"
     ]
    },
    {
     "name": "stdout",
     "output_type": "stream",
     "text": [
      "             Conversion factor (data->brightness):  252.62636883294763\n"
     ]
    },
    {
     "name": "stderr",
     "output_type": "stream",
     "text": [
      "2023-08-15 09:03:41,518 - stpipe - INFO - \n"
     ]
    },
    {
     "name": "stdout",
     "output_type": "stream",
     "text": [
      "\n"
     ]
    },
    {
     "name": "stderr",
     "output_type": "stream",
     "text": [
      "2023-08-15 09:03:41,519 - stpipe - INFO -    *   Image: jw02514197001_02201_00003_nrcalong_rate.fits\n"
     ]
    },
    {
     "name": "stdout",
     "output_type": "stream",
     "text": [
      "   *   Image: jw02514197001_02201_00003_nrcalong_rate.fits\n"
     ]
    },
    {
     "name": "stderr",
     "output_type": "stream",
     "text": [
      "2023-08-15 09:03:41,540 - stpipe - INFO -        EXT = 'SCI',1\n"
     ]
    },
    {
     "name": "stdout",
     "output_type": "stream",
     "text": [
      "       EXT = 'SCI',1\n"
     ]
    },
    {
     "name": "stderr",
     "output_type": "stream",
     "text": [
      "2023-08-15 09:03:41,542 - stpipe - INFO -              Data units type: COUNT-RATE\n"
     ]
    },
    {
     "name": "stdout",
     "output_type": "stream",
     "text": [
      "             Data units type: COUNT-RATE\n"
     ]
    },
    {
     "name": "stderr",
     "output_type": "stream",
     "text": [
      "2023-08-15 09:03:41,544 - stpipe - INFO -              Conversion factor (data->brightness):  252.62637213509916\n"
     ]
    },
    {
     "name": "stdout",
     "output_type": "stream",
     "text": [
      "             Conversion factor (data->brightness):  252.62637213509916\n"
     ]
    },
    {
     "name": "stderr",
     "output_type": "stream",
     "text": [
      "2023-08-15 09:03:41,546 - stpipe - INFO - \n"
     ]
    },
    {
     "name": "stdout",
     "output_type": "stream",
     "text": [
      "\n"
     ]
    },
    {
     "name": "stderr",
     "output_type": "stream",
     "text": [
      "2023-08-15 09:03:41,547 - stpipe - INFO -    *   Image: jw02514197001_02201_00004_nrcalong_rate.fits\n"
     ]
    },
    {
     "name": "stdout",
     "output_type": "stream",
     "text": [
      "   *   Image: jw02514197001_02201_00004_nrcalong_rate.fits\n"
     ]
    },
    {
     "name": "stderr",
     "output_type": "stream",
     "text": [
      "2023-08-15 09:03:41,568 - stpipe - INFO -        EXT = 'SCI',1\n"
     ]
    },
    {
     "name": "stdout",
     "output_type": "stream",
     "text": [
      "       EXT = 'SCI',1\n"
     ]
    },
    {
     "name": "stderr",
     "output_type": "stream",
     "text": [
      "2023-08-15 09:03:41,571 - stpipe - INFO -              Data units type: COUNT-RATE\n"
     ]
    },
    {
     "name": "stdout",
     "output_type": "stream",
     "text": [
      "             Data units type: COUNT-RATE\n"
     ]
    },
    {
     "name": "stderr",
     "output_type": "stream",
     "text": [
      "2023-08-15 09:03:41,572 - stpipe - INFO -              Conversion factor (data->brightness):  252.62637383681337\n"
     ]
    },
    {
     "name": "stdout",
     "output_type": "stream",
     "text": [
      "             Conversion factor (data->brightness):  252.62637383681337\n"
     ]
    },
    {
     "name": "stderr",
     "output_type": "stream",
     "text": [
      "2023-08-15 09:03:41,575 - stpipe - INFO - \n"
     ]
    },
    {
     "name": "stdout",
     "output_type": "stream",
     "text": [
      "\n"
     ]
    },
    {
     "name": "stderr",
     "output_type": "stream",
     "text": [
      "2023-08-15 09:03:41,577 - stpipe - INFO - \n"
     ]
    },
    {
     "name": "stdout",
     "output_type": "stream",
     "text": [
      "\n"
     ]
    },
    {
     "name": "stderr",
     "output_type": "stream",
     "text": [
      "2023-08-15 09:03:41,579 - stpipe - INFO - -----  Computing sky values requested image extensions (detector chips):  -----\n"
     ]
    },
    {
     "name": "stdout",
     "output_type": "stream",
     "text": [
      "-----  Computing sky values requested image extensions (detector chips):  -----\n"
     ]
    },
    {
     "name": "stderr",
     "output_type": "stream",
     "text": [
      "2023-08-15 09:03:41,580 - stpipe - INFO - \n"
     ]
    },
    {
     "name": "stdout",
     "output_type": "stream",
     "text": [
      "\n"
     ]
    },
    {
     "name": "stderr",
     "output_type": "stream",
     "text": [
      "2023-08-15 09:03:41,735 - stpipe - INFO -    *   Image:   'jw02514197001_02201_00001_nrcalong_rate.fits['SCI',1]'  --  SKY = 66.49803227612931 (brightness units)\n"
     ]
    },
    {
     "name": "stdout",
     "output_type": "stream",
     "text": [
      "   *   Image:   'jw02514197001_02201_00001_nrcalong_rate.fits['SCI',1]'  --  SKY = 66.49803227612931 (brightness units)\n"
     ]
    },
    {
     "name": "stderr",
     "output_type": "stream",
     "text": [
      "2023-08-15 09:03:41,737 - stpipe - INFO -        Sky change (data units):\n"
     ]
    },
    {
     "name": "stdout",
     "output_type": "stream",
     "text": [
      "       Sky change (data units):\n"
     ]
    },
    {
     "name": "stderr",
     "output_type": "stream",
     "text": [
      "2023-08-15 09:03:41,739 - stpipe - INFO -       - EXT = 'SCI',1   delta(MDRIZSKY) = 0.263227   NEW MDRIZSKY = 0.263227\n"
     ]
    },
    {
     "name": "stdout",
     "output_type": "stream",
     "text": [
      "      - EXT = 'SCI',1   delta(MDRIZSKY) = 0.263227   NEW MDRIZSKY = 0.263227\n"
     ]
    },
    {
     "name": "stderr",
     "output_type": "stream",
     "text": [
      "2023-08-15 09:03:41,880 - stpipe - INFO -    *   Image:   'jw02514197001_02201_00002_nrcalong_rate.fits['SCI',1]'  --  SKY = 65.58852449451655 (brightness units)\n"
     ]
    },
    {
     "name": "stdout",
     "output_type": "stream",
     "text": [
      "   *   Image:   'jw02514197001_02201_00002_nrcalong_rate.fits['SCI',1]'  --  SKY = 65.58852449451655 (brightness units)\n"
     ]
    },
    {
     "name": "stderr",
     "output_type": "stream",
     "text": [
      "2023-08-15 09:03:41,882 - stpipe - INFO -        Sky change (data units):\n"
     ]
    },
    {
     "name": "stdout",
     "output_type": "stream",
     "text": [
      "       Sky change (data units):\n"
     ]
    },
    {
     "name": "stderr",
     "output_type": "stream",
     "text": [
      "2023-08-15 09:03:41,883 - stpipe - INFO -       - EXT = 'SCI',1   delta(MDRIZSKY) = 0.259627   NEW MDRIZSKY = 0.259627\n"
     ]
    },
    {
     "name": "stdout",
     "output_type": "stream",
     "text": [
      "      - EXT = 'SCI',1   delta(MDRIZSKY) = 0.259627   NEW MDRIZSKY = 0.259627\n"
     ]
    },
    {
     "name": "stderr",
     "output_type": "stream",
     "text": [
      "2023-08-15 09:03:42,007 - stpipe - INFO -    *   Image:   'jw02514197001_02201_00003_nrcalong_rate.fits['SCI',1]'  --  SKY = 66.76689618548876 (brightness units)\n"
     ]
    },
    {
     "name": "stdout",
     "output_type": "stream",
     "text": [
      "   *   Image:   'jw02514197001_02201_00003_nrcalong_rate.fits['SCI',1]'  --  SKY = 66.76689618548876 (brightness units)\n"
     ]
    },
    {
     "name": "stderr",
     "output_type": "stream",
     "text": [
      "2023-08-15 09:03:42,009 - stpipe - INFO -        Sky change (data units):\n"
     ]
    },
    {
     "name": "stdout",
     "output_type": "stream",
     "text": [
      "       Sky change (data units):\n"
     ]
    },
    {
     "name": "stderr",
     "output_type": "stream",
     "text": [
      "2023-08-15 09:03:42,010 - stpipe - INFO -       - EXT = 'SCI',1   delta(MDRIZSKY) = 0.264291   NEW MDRIZSKY = 0.264291\n"
     ]
    },
    {
     "name": "stdout",
     "output_type": "stream",
     "text": [
      "      - EXT = 'SCI',1   delta(MDRIZSKY) = 0.264291   NEW MDRIZSKY = 0.264291\n"
     ]
    },
    {
     "name": "stderr",
     "output_type": "stream",
     "text": [
      "2023-08-15 09:03:42,142 - stpipe - INFO -    *   Image:   'jw02514197001_02201_00004_nrcalong_rate.fits['SCI',1]'  --  SKY = 66.29913654976991 (brightness units)\n"
     ]
    },
    {
     "name": "stdout",
     "output_type": "stream",
     "text": [
      "   *   Image:   'jw02514197001_02201_00004_nrcalong_rate.fits['SCI',1]'  --  SKY = 66.29913654976991 (brightness units)\n"
     ]
    },
    {
     "name": "stderr",
     "output_type": "stream",
     "text": [
      "2023-08-15 09:03:42,144 - stpipe - INFO -        Sky change (data units):\n"
     ]
    },
    {
     "name": "stdout",
     "output_type": "stream",
     "text": [
      "       Sky change (data units):\n"
     ]
    },
    {
     "name": "stderr",
     "output_type": "stream",
     "text": [
      "2023-08-15 09:03:42,145 - stpipe - INFO -       - EXT = 'SCI',1   delta(MDRIZSKY) = 0.262439   NEW MDRIZSKY = 0.262439\n"
     ]
    },
    {
     "name": "stdout",
     "output_type": "stream",
     "text": [
      "      - EXT = 'SCI',1   delta(MDRIZSKY) = 0.262439   NEW MDRIZSKY = 0.262439\n"
     ]
    },
    {
     "name": "stderr",
     "output_type": "stream",
     "text": [
      "2023-08-15 09:03:42,147 - stpipe - INFO - ***** skymatch ended on 2023-08-15 09:03:42.147506\n"
     ]
    },
    {
     "name": "stdout",
     "output_type": "stream",
     "text": [
      "***** skymatch ended on 2023-08-15 09:03:42.147506\n"
     ]
    },
    {
     "name": "stderr",
     "output_type": "stream",
     "text": [
      "2023-08-15 09:03:42,149 - stpipe - INFO - TOTAL RUN TIME: 0:00:00.756777\n"
     ]
    },
    {
     "name": "stdout",
     "output_type": "stream",
     "text": [
      "TOTAL RUN TIME: 0:00:00.756777\n"
     ]
    },
    {
     "name": "stderr",
     "output_type": "stream",
     "text": [
      "2023-08-15 09:03:42,215 - stpipe - INFO - ==== Processing Step Subtract Sky finished at 09:03:42.214 (15/08/2023)\n"
     ]
    },
    {
     "name": "stdout",
     "output_type": "stream",
     "text": [
      "==== Processing Step Subtract Sky finished at 09:03:42.214 (15/08/2023)\n"
     ]
    },
    {
     "name": "stderr",
     "output_type": "stream",
     "text": [
      "2023-08-15 09:03:42,217 - stpipe - INFO - ==== Processing Step  Separate Drizzle  started at  09:03:42.216 (15/08/2023)\n"
     ]
    },
    {
     "name": "stdout",
     "output_type": "stream",
     "text": [
      "==== Processing Step  Separate Drizzle  started at  09:03:42.216 (15/08/2023)\n"
     ]
    },
    {
     "name": "stderr",
     "output_type": "stream",
     "text": [
      "2023-08-15 09:03:42,218 - stpipe - INFO - \n"
     ]
    },
    {
     "name": "stdout",
     "output_type": "stream",
     "text": [
      "\n"
     ]
    },
    {
     "name": "stderr",
     "output_type": "stream",
     "text": [
      "2023-08-15 09:03:42,221 - stpipe - INFO - Interpreted paramDict with single=True as:\n",
      "2023-08-15 09:03:42,221 - stpipe - INFO - {'build': False, 'stepsize': 10, 'coeffs': True, 'wcskey': '', 'kernel': 'turbo', 'wt_scl': 'exptime', 'pixfrac': 1.0, 'fillval': None, 'bits': 4, 'compress': False, 'units': 'cps'}\n",
      "2023-08-15 09:03:42,222 - stpipe - INFO - USER INPUT PARAMETERS for Separate Drizzle Step:\n",
      "2023-08-15 09:03:42,223 - stpipe - INFO - \tbits :\t4\n",
      "2023-08-15 09:03:42,224 - stpipe - INFO - \tbuild :\tFalse\n",
      "2023-08-15 09:03:42,225 - stpipe - INFO - \tclean :\tTrue\n",
      "2023-08-15 09:03:42,226 - stpipe - INFO - \tcoeffs :\tTrue\n",
      "2023-08-15 09:03:42,227 - stpipe - INFO - \tcompress :\tFalse\n",
      "2023-08-15 09:03:42,227 - stpipe - INFO - \tcrbit :\tNone\n",
      "2023-08-15 09:03:42,228 - stpipe - INFO - \tfillval :\tNone\n",
      "2023-08-15 09:03:42,230 - stpipe - INFO - \tkernel :\tturbo\n",
      "2023-08-15 09:03:42,230 - stpipe - INFO - \tnum_cores :\tNone\n",
      "2023-08-15 09:03:42,231 - stpipe - INFO - \tpixfrac :\t1.0\n",
      "2023-08-15 09:03:42,234 - stpipe - INFO - \tproc_unit :\telectrons\n",
      "2023-08-15 09:03:42,235 - stpipe - INFO - \trules_file :\tNone\n",
      "2023-08-15 09:03:42,236 - stpipe - INFO - \tstepsize :\t10\n",
      "2023-08-15 09:03:42,237 - stpipe - INFO - \tunits :\tcps\n",
      "2023-08-15 09:03:42,237 - stpipe - INFO - \twcskey :\t\n",
      "2023-08-15 09:03:42,239 - stpipe - INFO - \twht_type :\tNone\n",
      "2023-08-15 09:03:42,240 - stpipe - INFO - \twt_scl :\texptime\n",
      "2023-08-15 09:03:42,240 - stpipe - INFO -   **Using sub-sampling value of 10 for kernel turbo\n",
      "2023-08-15 09:03:42,241 - stpipe - INFO - Running Drizzle to create output frame with WCS of: \n",
      "2023-08-15 09:03:42,243 - stpipe - INFO - WCS Keywords\n"
     ]
    },
    {
     "name": "stdout",
     "output_type": "stream",
     "text": [
      "WCS Keywords\n"
     ]
    },
    {
     "name": "stderr",
     "output_type": "stream",
     "text": [
      "2023-08-15 09:03:42,244 - stpipe - INFO - \n"
     ]
    },
    {
     "name": "stdout",
     "output_type": "stream",
     "text": [
      "\n"
     ]
    },
    {
     "name": "stderr",
     "output_type": "stream",
     "text": [
      "2023-08-15 09:03:42,246 - stpipe - INFO - Number of WCS axes: 2\n"
     ]
    },
    {
     "name": "stdout",
     "output_type": "stream",
     "text": [
      "Number of WCS axes: 2\n"
     ]
    },
    {
     "name": "stderr",
     "output_type": "stream",
     "text": [
      "2023-08-15 09:03:42,248 - stpipe - INFO - CTYPE : 'RA---TAN'  'DEC--TAN'  \n"
     ]
    },
    {
     "name": "stdout",
     "output_type": "stream",
     "text": [
      "CTYPE : 'RA---TAN'  'DEC--TAN'  \n"
     ]
    },
    {
     "name": "stderr",
     "output_type": "stream",
     "text": [
      "2023-08-15 09:03:42,250 - stpipe - INFO - CRVAL : 23.683811214865685  -15.507445512250277  \n"
     ]
    },
    {
     "name": "stdout",
     "output_type": "stream",
     "text": [
      "CRVAL : 23.683811214865685  -15.507445512250277  \n"
     ]
    },
    {
     "name": "stderr",
     "output_type": "stream",
     "text": [
      "2023-08-15 09:03:42,252 - stpipe - INFO - CRPIX : 1054.0  1046.0  \n"
     ]
    },
    {
     "name": "stdout",
     "output_type": "stream",
     "text": [
      "CRPIX : 1054.0  1046.0  \n"
     ]
    },
    {
     "name": "stderr",
     "output_type": "stream",
     "text": [
      "2023-08-15 09:03:42,253 - stpipe - INFO - CD1_1 CD1_2  : 2.5025752099369816e-06  -1.7296542196802506e-05  \n"
     ]
    },
    {
     "name": "stdout",
     "output_type": "stream",
     "text": [
      "CD1_1 CD1_2  : 2.5025752099369816e-06  -1.7296542196802506e-05  \n"
     ]
    },
    {
     "name": "stderr",
     "output_type": "stream",
     "text": [
      "2023-08-15 09:03:42,255 - stpipe - INFO - CD2_1 CD2_2  : -1.7296542196802506e-05  -2.5025752099369816e-06  \n"
     ]
    },
    {
     "name": "stdout",
     "output_type": "stream",
     "text": [
      "CD2_1 CD2_2  : -1.7296542196802506e-05  -2.5025752099369816e-06  \n"
     ]
    },
    {
     "name": "stderr",
     "output_type": "stream",
     "text": [
      "2023-08-15 09:03:42,258 - stpipe - INFO - NAXIS : 2108  2092\n"
     ]
    },
    {
     "name": "stdout",
     "output_type": "stream",
     "text": [
      "NAXIS : 2108  2092\n"
     ]
    },
    {
     "name": "stderr",
     "output_type": "stream",
     "text": [
      "2023-08-15 09:03:42,259 - stpipe - INFO - Executing 4 parallel workers\n",
      "2023-08-15 09:03:42,274 - stpipe - INFO - -Drizzle input: jw02514197001_02201_00001_nrcalong_rate.fits[sci,1]\n",
      "2023-08-15 09:03:42,284 - stpipe - INFO - -Drizzle input: jw02514197001_02201_00002_nrcalong_rate.fits[sci,1]\n",
      "2023-08-15 09:03:42,307 - stpipe - INFO - -Drizzle input: jw02514197001_02201_00003_nrcalong_rate.fits[sci,1]\n",
      "2023-08-15 09:03:42,319 - stpipe - INFO - -Drizzle input: jw02514197001_02201_00004_nrcalong_rate.fits[sci,1]\n",
      "2023-08-15 09:03:42,321 - stpipe - INFO - Applying sky value of 0.263227 to jw02514197001_02201_00001_nrcalong_rate.fits[sci,1]\n",
      "2023-08-15 09:03:42,326 - stpipe - INFO - Applying sky value of 0.259627 to jw02514197001_02201_00002_nrcalong_rate.fits[sci,1]\n",
      "2023-08-15 09:03:42,354 - stpipe - INFO - Applying sky value of 0.264291 to jw02514197001_02201_00003_nrcalong_rate.fits[sci,1]\n",
      "2023-08-15 09:03:42,358 - stpipe - INFO - Using WCSLIB-based coordinate transformation...\n",
      "2023-08-15 09:03:42,360 - stpipe - INFO - Using WCSLIB-based coordinate transformation...\n",
      "2023-08-15 09:03:42,359 - stpipe - INFO - stepsize = 10\n",
      "2023-08-15 09:03:42,366 - stpipe - INFO - Applying sky value of 0.262439 to jw02514197001_02201_00004_nrcalong_rate.fits[sci,1]\n",
      "2023-08-15 09:03:42,367 - stpipe - INFO - stepsize = 10\n",
      "2023-08-15 09:03:42,389 - stpipe - INFO - -Drizzling using kernel = turbo\n",
      "2023-08-15 09:03:42,390 - stpipe - INFO - Using WCSLIB-based coordinate transformation...\n",
      "2023-08-15 09:03:42,392 - stpipe - INFO - stepsize = 10\n",
      "2023-08-15 09:03:42,391 - stpipe - INFO - \n",
      "2023-08-15 09:03:42,396 - stpipe - INFO - -Drizzling using kernel = turbo\n",
      "2023-08-15 09:03:42,405 - stpipe - INFO - Using WCSLIB-based coordinate transformation...\n",
      "2023-08-15 09:03:42,407 - stpipe - INFO - stepsize = 10\n",
      "2023-08-15 09:03:42,406 - stpipe - INFO - \n",
      "2023-08-15 09:03:42,415 - stpipe - INFO - -Drizzling using kernel = turbo\n",
      "2023-08-15 09:03:42,417 - stpipe - INFO - \n",
      "2023-08-15 09:03:42,427 - stpipe - INFO - -Drizzling using kernel = turbo\n",
      "2023-08-15 09:03:42,429 - stpipe - INFO - \n",
      "2023-08-15 09:03:42,912 - stpipe - INFO - -Generating simple FITS output: jw02514197001_02201_00002_nrcalong_rate_single_sci.fits\n",
      "2023-08-15 09:03:42,913 - stpipe - INFO - -Generating simple FITS output: jw02514197001_02201_00003_nrcalong_rate_single_sci.fits\n"
     ]
    },
    {
     "name": "stdout",
     "output_type": "stream",
     "text": [
      "-Generating simple FITS output: jw02514197001_02201_00002_nrcalong_rate_single_sci.fits\n",
      "-Generating simple FITS output: jw02514197001_02201_00003_nrcalong_rate_single_sci.fits\n"
     ]
    },
    {
     "name": "stderr",
     "output_type": "stream",
     "text": [
      "2023-08-15 09:03:42,915 - stpipe - INFO - -Generating simple FITS output: jw02514197001_02201_00004_nrcalong_rate_single_sci.fits\n"
     ]
    },
    {
     "name": "stdout",
     "output_type": "stream",
     "text": [
      "-Generating simple FITS output: jw02514197001_02201_00004_nrcalong_rate_single_sci.fits\n"
     ]
    },
    {
     "name": "stderr",
     "output_type": "stream",
     "text": [
      "2023-08-15 09:03:42,956 - stpipe - INFO - -Generating simple FITS output: jw02514197001_02201_00001_nrcalong_rate_single_sci.fits\n"
     ]
    },
    {
     "name": "stdout",
     "output_type": "stream",
     "text": [
      "-Generating simple FITS output: jw02514197001_02201_00001_nrcalong_rate_single_sci.fits\n"
     ]
    },
    {
     "name": "stderr",
     "output_type": "stream",
     "text": [
      "2023-08-15 09:03:43,053 - stpipe - INFO - Writing out image to disk: jw02514197001_02201_00003_nrcalong_rate_single_sci.fits\n"
     ]
    },
    {
     "name": "stdout",
     "output_type": "stream",
     "text": [
      "Writing out image to disk: jw02514197001_02201_00003_nrcalong_rate_single_sci.fits\n"
     ]
    },
    {
     "name": "stderr",
     "output_type": "stream",
     "text": [
      "2023-08-15 09:03:43,070 - stpipe - INFO - Writing out image to disk: jw02514197001_02201_00002_nrcalong_rate_single_sci.fits\n"
     ]
    },
    {
     "name": "stdout",
     "output_type": "stream",
     "text": [
      "Writing out image to disk: jw02514197001_02201_00002_nrcalong_rate_single_sci.fits\n"
     ]
    },
    {
     "name": "stderr",
     "output_type": "stream",
     "text": [
      "2023-08-15 09:03:43,071 - stpipe - INFO - Writing out image to disk: jw02514197001_02201_00004_nrcalong_rate_single_sci.fits\n"
     ]
    },
    {
     "name": "stdout",
     "output_type": "stream",
     "text": [
      "Writing out image to disk: jw02514197001_02201_00004_nrcalong_rate_single_sci.fits\n"
     ]
    },
    {
     "name": "stderr",
     "output_type": "stream",
     "text": [
      "2023-08-15 09:03:43,124 - stpipe - INFO - Writing out image to disk: jw02514197001_02201_00001_nrcalong_rate_single_sci.fits\n"
     ]
    },
    {
     "name": "stdout",
     "output_type": "stream",
     "text": [
      "Writing out image to disk: jw02514197001_02201_00001_nrcalong_rate_single_sci.fits\n"
     ]
    },
    {
     "name": "stderr",
     "output_type": "stream",
     "text": [
      "2023-08-15 09:03:43,145 - stpipe - INFO - Writing out image to disk: jw02514197001_02201_00003_nrcalong_rate_single_wht.fits\n"
     ]
    },
    {
     "name": "stdout",
     "output_type": "stream",
     "text": [
      "Writing out image to disk: jw02514197001_02201_00003_nrcalong_rate_single_wht.fits\n"
     ]
    },
    {
     "name": "stderr",
     "output_type": "stream",
     "text": [
      "2023-08-15 09:03:43,164 - stpipe - INFO - Writing out image to disk: jw02514197001_02201_00002_nrcalong_rate_single_wht.fits\n"
     ]
    },
    {
     "name": "stdout",
     "output_type": "stream",
     "text": [
      "Writing out image to disk: jw02514197001_02201_00002_nrcalong_rate_single_wht.fits\n"
     ]
    },
    {
     "name": "stderr",
     "output_type": "stream",
     "text": [
      "2023-08-15 09:03:43,175 - stpipe - INFO - Writing out image to disk: jw02514197001_02201_00004_nrcalong_rate_single_wht.fits\n"
     ]
    },
    {
     "name": "stdout",
     "output_type": "stream",
     "text": [
      "Writing out image to disk: jw02514197001_02201_00004_nrcalong_rate_single_wht.fits\n"
     ]
    },
    {
     "name": "stderr",
     "output_type": "stream",
     "text": [
      "2023-08-15 09:03:43,228 - stpipe - INFO - Writing out image to disk: jw02514197001_02201_00001_nrcalong_rate_single_wht.fits\n"
     ]
    },
    {
     "name": "stdout",
     "output_type": "stream",
     "text": [
      "Writing out image to disk: jw02514197001_02201_00001_nrcalong_rate_single_wht.fits\n"
     ]
    },
    {
     "name": "stderr",
     "output_type": "stream",
     "text": [
      "2023-08-15 09:03:43,310 - stpipe - INFO - ==== Processing Step Separate Drizzle finished at 09:03:43.309 (15/08/2023)\n"
     ]
    },
    {
     "name": "stdout",
     "output_type": "stream",
     "text": [
      "==== Processing Step Separate Drizzle finished at 09:03:43.309 (15/08/2023)\n"
     ]
    },
    {
     "name": "stderr",
     "output_type": "stream",
     "text": [
      "2023-08-15 09:03:43,313 - stpipe - INFO - ==== Processing Step  Create Median  started at  09:03:43.313 (15/08/2023)\n"
     ]
    },
    {
     "name": "stdout",
     "output_type": "stream",
     "text": [
      "==== Processing Step  Create Median  started at  09:03:43.313 (15/08/2023)\n"
     ]
    },
    {
     "name": "stderr",
     "output_type": "stream",
     "text": [
      "2023-08-15 09:03:43,314 - stpipe - INFO - \n"
     ]
    },
    {
     "name": "stdout",
     "output_type": "stream",
     "text": [
      "\n"
     ]
    },
    {
     "name": "stderr",
     "output_type": "stream",
     "text": [
      "2023-08-15 09:03:43,317 - stpipe - INFO - USER INPUT PARAMETERS for Create Median Step:\n",
      "2023-08-15 09:03:43,318 - stpipe - INFO - \tcombine_bufsize :\tNone\n",
      "2023-08-15 09:03:43,319 - stpipe - INFO - \tcombine_grow :\t1\n",
      "2023-08-15 09:03:43,320 - stpipe - INFO - \tcombine_hthresh :\tNone\n",
      "2023-08-15 09:03:43,321 - stpipe - INFO - \tcombine_lthresh :\tNone\n",
      "2023-08-15 09:03:43,322 - stpipe - INFO - \tcombine_maskpt :\t0.3\n",
      "2023-08-15 09:03:43,323 - stpipe - INFO - \tcombine_nhigh :\t0\n",
      "2023-08-15 09:03:43,324 - stpipe - INFO - \tcombine_nlow :\t0\n",
      "2023-08-15 09:03:43,325 - stpipe - INFO - \tcombine_nsigma :\t4 3\n",
      "2023-08-15 09:03:43,327 - stpipe - INFO - \tcombine_type :\tminmed\n",
      "2023-08-15 09:03:43,328 - stpipe - INFO - \tcompress :\tFalse\n",
      "2023-08-15 09:03:43,329 - stpipe - INFO - \tmedian :\tTrue\n",
      "2023-08-15 09:03:43,330 - stpipe - INFO - \tmedian_newmasks :\tTrue\n",
      "2023-08-15 09:03:43,331 - stpipe - INFO - \tproc_unit :\tnative\n",
      "2023-08-15 09:03:43,358 - stpipe - INFO - reference sky value for image 'jw02514197001_02201_00001_nrcalong_rate.fits' is 62.17654088240862\n"
     ]
    },
    {
     "name": "stdout",
     "output_type": "stream",
     "text": [
      "reference sky value for image 'jw02514197001_02201_00001_nrcalong_rate.fits' is 62.17654088240862\n"
     ]
    },
    {
     "name": "stderr",
     "output_type": "stream",
     "text": [
      "2023-08-15 09:03:43,379 - stpipe - INFO - reference sky value for image 'jw02514197001_02201_00002_nrcalong_rate.fits' is 61.3261388899982\n"
     ]
    },
    {
     "name": "stdout",
     "output_type": "stream",
     "text": [
      "reference sky value for image 'jw02514197001_02201_00002_nrcalong_rate.fits' is 61.3261388899982\n"
     ]
    },
    {
     "name": "stderr",
     "output_type": "stream",
     "text": [
      "2023-08-15 09:03:43,399 - stpipe - INFO - reference sky value for image 'jw02514197001_02201_00003_nrcalong_rate.fits' is 62.42793120840192\n"
     ]
    },
    {
     "name": "stdout",
     "output_type": "stream",
     "text": [
      "reference sky value for image 'jw02514197001_02201_00003_nrcalong_rate.fits' is 62.42793120840192\n"
     ]
    },
    {
     "name": "stderr",
     "output_type": "stream",
     "text": [
      "2023-08-15 09:03:43,420 - stpipe - INFO - reference sky value for image 'jw02514197001_02201_00004_nrcalong_rate.fits' is 61.990569343328474\n"
     ]
    },
    {
     "name": "stdout",
     "output_type": "stream",
     "text": [
      "reference sky value for image 'jw02514197001_02201_00004_nrcalong_rate.fits' is 61.990569343328474\n"
     ]
    },
    {
     "name": "stderr",
     "output_type": "stream",
     "text": [
      "2023-08-15 09:03:44,375 - stpipe - INFO - Saving output median image to: 'indef-02514-197-262.0-nrca5-f444w-clear_med.fits'\n"
     ]
    },
    {
     "name": "stdout",
     "output_type": "stream",
     "text": [
      "Saving output median image to: 'indef-02514-197-262.0-nrca5-f444w-clear_med.fits'\n"
     ]
    },
    {
     "name": "stderr",
     "output_type": "stream",
     "text": [
      "2023-08-15 09:03:44,396 - stpipe - INFO - ==== Processing Step Create Median finished at 09:03:44.395 (15/08/2023)\n"
     ]
    },
    {
     "name": "stdout",
     "output_type": "stream",
     "text": [
      "==== Processing Step Create Median finished at 09:03:44.395 (15/08/2023)\n"
     ]
    },
    {
     "name": "stderr",
     "output_type": "stream",
     "text": [
      "2023-08-15 09:03:44,398 - stpipe - INFO - ==== Processing Step  Blot  started at  09:03:44.398 (15/08/2023)\n"
     ]
    },
    {
     "name": "stdout",
     "output_type": "stream",
     "text": [
      "==== Processing Step  Blot  started at  09:03:44.398 (15/08/2023)\n"
     ]
    },
    {
     "name": "stderr",
     "output_type": "stream",
     "text": [
      "2023-08-15 09:03:44,400 - stpipe - INFO - \n"
     ]
    },
    {
     "name": "stdout",
     "output_type": "stream",
     "text": [
      "\n"
     ]
    },
    {
     "name": "stderr",
     "output_type": "stream",
     "text": [
      "2023-08-15 09:03:44,402 - stpipe - INFO - USER INPUT PARAMETERS for Blot Step:\n",
      "2023-08-15 09:03:44,404 - stpipe - INFO - \tblot_addsky :\tTrue\n",
      "2023-08-15 09:03:44,405 - stpipe - INFO - \tblot_interp :\tpoly5\n",
      "2023-08-15 09:03:44,406 - stpipe - INFO - \tblot_sinscl :\t1.0\n",
      "2023-08-15 09:03:44,407 - stpipe - INFO - \tblot_skyval :\t0.0\n",
      "2023-08-15 09:03:44,407 - stpipe - INFO - \tcoeffs :\tTrue\n",
      "2023-08-15 09:03:44,409 - stpipe - INFO -     Blot: creating blotted image:  jw02514197001_02201_00001_nrcalong_rate.fits[sci,1]\n"
     ]
    },
    {
     "name": "stdout",
     "output_type": "stream",
     "text": [
      "    Blot: creating blotted image:  jw02514197001_02201_00001_nrcalong_rate.fits[sci,1]\n"
     ]
    },
    {
     "name": "stderr",
     "output_type": "stream",
     "text": [
      "2023-08-15 09:03:44,424 - stpipe - INFO - Using default C-based coordinate transformation...\n"
     ]
    },
    {
     "name": "stdout",
     "output_type": "stream",
     "text": [
      "Using default C-based coordinate transformation...\n"
     ]
    },
    {
     "name": "stderr",
     "output_type": "stream",
     "text": [
      "2023-08-15 09:03:44,988 - stpipe - INFO - Applying sky value of 0.263227 to blotted image jw02514197001_02201_00001_nrcalong_rate.fits[sci,1]\n",
      "2023-08-15 09:03:45,236 - stpipe - INFO - -Generating simple FITS output: jw02514197001_02201_00001_nrcalong_rate_sci1_blt.fits\n"
     ]
    },
    {
     "name": "stdout",
     "output_type": "stream",
     "text": [
      "-Generating simple FITS output: jw02514197001_02201_00001_nrcalong_rate_sci1_blt.fits\n"
     ]
    },
    {
     "name": "stderr",
     "output_type": "stream",
     "text": [
      "2023-08-15 09:03:45,259 - stpipe - INFO - Writing out image to disk: jw02514197001_02201_00001_nrcalong_rate_sci1_blt.fits\n"
     ]
    },
    {
     "name": "stdout",
     "output_type": "stream",
     "text": [
      "Writing out image to disk: jw02514197001_02201_00001_nrcalong_rate_sci1_blt.fits\n"
     ]
    },
    {
     "name": "stderr",
     "output_type": "stream",
     "text": [
      "2023-08-15 09:03:45,280 - stpipe - INFO -     Blot: creating blotted image:  jw02514197001_02201_00002_nrcalong_rate.fits[sci,1]\n"
     ]
    },
    {
     "name": "stdout",
     "output_type": "stream",
     "text": [
      "    Blot: creating blotted image:  jw02514197001_02201_00002_nrcalong_rate.fits[sci,1]\n"
     ]
    },
    {
     "name": "stderr",
     "output_type": "stream",
     "text": [
      "2023-08-15 09:03:45,293 - stpipe - INFO - Using default C-based coordinate transformation...\n"
     ]
    },
    {
     "name": "stdout",
     "output_type": "stream",
     "text": [
      "Using default C-based coordinate transformation...\n"
     ]
    },
    {
     "name": "stderr",
     "output_type": "stream",
     "text": [
      "2023-08-15 09:03:45,838 - stpipe - INFO - Applying sky value of 0.259627 to blotted image jw02514197001_02201_00002_nrcalong_rate.fits[sci,1]\n",
      "2023-08-15 09:03:45,915 - stpipe - INFO - -Generating simple FITS output: jw02514197001_02201_00002_nrcalong_rate_sci1_blt.fits\n"
     ]
    },
    {
     "name": "stdout",
     "output_type": "stream",
     "text": [
      "-Generating simple FITS output: jw02514197001_02201_00002_nrcalong_rate_sci1_blt.fits\n"
     ]
    },
    {
     "name": "stderr",
     "output_type": "stream",
     "text": [
      "2023-08-15 09:03:45,936 - stpipe - INFO - Writing out image to disk: jw02514197001_02201_00002_nrcalong_rate_sci1_blt.fits\n"
     ]
    },
    {
     "name": "stdout",
     "output_type": "stream",
     "text": [
      "Writing out image to disk: jw02514197001_02201_00002_nrcalong_rate_sci1_blt.fits\n"
     ]
    },
    {
     "name": "stderr",
     "output_type": "stream",
     "text": [
      "2023-08-15 09:03:45,958 - stpipe - INFO -     Blot: creating blotted image:  jw02514197001_02201_00003_nrcalong_rate.fits[sci,1]\n"
     ]
    },
    {
     "name": "stdout",
     "output_type": "stream",
     "text": [
      "    Blot: creating blotted image:  jw02514197001_02201_00003_nrcalong_rate.fits[sci,1]\n"
     ]
    },
    {
     "name": "stderr",
     "output_type": "stream",
     "text": [
      "2023-08-15 09:03:45,971 - stpipe - INFO - Using default C-based coordinate transformation...\n"
     ]
    },
    {
     "name": "stdout",
     "output_type": "stream",
     "text": [
      "Using default C-based coordinate transformation...\n"
     ]
    },
    {
     "name": "stderr",
     "output_type": "stream",
     "text": [
      "2023-08-15 09:03:46,576 - stpipe - INFO - Applying sky value of 0.264291 to blotted image jw02514197001_02201_00003_nrcalong_rate.fits[sci,1]\n",
      "2023-08-15 09:03:46,638 - stpipe - INFO - -Generating simple FITS output: jw02514197001_02201_00003_nrcalong_rate_sci1_blt.fits\n"
     ]
    },
    {
     "name": "stdout",
     "output_type": "stream",
     "text": [
      "-Generating simple FITS output: jw02514197001_02201_00003_nrcalong_rate_sci1_blt.fits\n"
     ]
    },
    {
     "name": "stderr",
     "output_type": "stream",
     "text": [
      "2023-08-15 09:03:46,660 - stpipe - INFO - Writing out image to disk: jw02514197001_02201_00003_nrcalong_rate_sci1_blt.fits\n"
     ]
    },
    {
     "name": "stdout",
     "output_type": "stream",
     "text": [
      "Writing out image to disk: jw02514197001_02201_00003_nrcalong_rate_sci1_blt.fits\n"
     ]
    },
    {
     "name": "stderr",
     "output_type": "stream",
     "text": [
      "2023-08-15 09:03:46,682 - stpipe - INFO -     Blot: creating blotted image:  jw02514197001_02201_00004_nrcalong_rate.fits[sci,1]\n"
     ]
    },
    {
     "name": "stdout",
     "output_type": "stream",
     "text": [
      "    Blot: creating blotted image:  jw02514197001_02201_00004_nrcalong_rate.fits[sci,1]\n"
     ]
    },
    {
     "name": "stderr",
     "output_type": "stream",
     "text": [
      "2023-08-15 09:03:46,696 - stpipe - INFO - Using default C-based coordinate transformation...\n"
     ]
    },
    {
     "name": "stdout",
     "output_type": "stream",
     "text": [
      "Using default C-based coordinate transformation...\n"
     ]
    },
    {
     "name": "stderr",
     "output_type": "stream",
     "text": [
      "2023-08-15 09:03:47,243 - stpipe - INFO - Applying sky value of 0.262439 to blotted image jw02514197001_02201_00004_nrcalong_rate.fits[sci,1]\n",
      "2023-08-15 09:03:47,304 - stpipe - INFO - -Generating simple FITS output: jw02514197001_02201_00004_nrcalong_rate_sci1_blt.fits\n"
     ]
    },
    {
     "name": "stdout",
     "output_type": "stream",
     "text": [
      "-Generating simple FITS output: jw02514197001_02201_00004_nrcalong_rate_sci1_blt.fits\n"
     ]
    },
    {
     "name": "stderr",
     "output_type": "stream",
     "text": [
      "2023-08-15 09:03:47,326 - stpipe - INFO - Writing out image to disk: jw02514197001_02201_00004_nrcalong_rate_sci1_blt.fits\n"
     ]
    },
    {
     "name": "stdout",
     "output_type": "stream",
     "text": [
      "Writing out image to disk: jw02514197001_02201_00004_nrcalong_rate_sci1_blt.fits\n"
     ]
    },
    {
     "name": "stderr",
     "output_type": "stream",
     "text": [
      "2023-08-15 09:03:47,348 - stpipe - INFO - ==== Processing Step Blot finished at 09:03:47.348 (15/08/2023)\n"
     ]
    },
    {
     "name": "stdout",
     "output_type": "stream",
     "text": [
      "==== Processing Step Blot finished at 09:03:47.348 (15/08/2023)\n"
     ]
    },
    {
     "name": "stderr",
     "output_type": "stream",
     "text": [
      "2023-08-15 09:03:47,350 - stpipe - INFO - ==== Processing Step  Driz_CR  started at  09:03:47.350 (15/08/2023)\n"
     ]
    },
    {
     "name": "stdout",
     "output_type": "stream",
     "text": [
      "==== Processing Step  Driz_CR  started at  09:03:47.350 (15/08/2023)\n"
     ]
    },
    {
     "name": "stderr",
     "output_type": "stream",
     "text": [
      "2023-08-15 09:03:47,352 - stpipe - INFO - \n"
     ]
    },
    {
     "name": "stdout",
     "output_type": "stream",
     "text": [
      "\n"
     ]
    },
    {
     "name": "stderr",
     "output_type": "stream",
     "text": [
      "2023-08-15 09:03:47,354 - stpipe - INFO - USER INPUT PARAMETERS for Driz_CR Step:\n",
      "2023-08-15 09:03:47,355 - stpipe - INFO - \tcrbit :\t4096\n",
      "2023-08-15 09:03:47,356 - stpipe - INFO - \tdriz_cr :\tTrue\n",
      "2023-08-15 09:03:47,357 - stpipe - INFO - \tdriz_cr_corr :\tFalse\n",
      "2023-08-15 09:03:47,359 - stpipe - INFO - \tdriz_cr_ctegrow :\t0\n",
      "2023-08-15 09:03:47,360 - stpipe - INFO - \tdriz_cr_grow :\t1\n",
      "2023-08-15 09:03:47,361 - stpipe - INFO - \tdriz_cr_scale :\t2.5 0.7\n",
      "2023-08-15 09:03:47,362 - stpipe - INFO - \tdriz_cr_snr :\t8.0 5.0\n",
      "2023-08-15 09:03:47,362 - stpipe - INFO - \tinmemory :\tFalse\n",
      "2023-08-15 09:03:47,363 - stpipe - INFO - Executing 4 parallel workers\n",
      "2023-08-15 09:03:48,178 - stpipe - INFO - Creating output: jw02514197001_02201_00002_nrcalong_rate_sci1_crmask.fits\n"
     ]
    },
    {
     "name": "stdout",
     "output_type": "stream",
     "text": [
      "Creating output: jw02514197001_02201_00002_nrcalong_rate_sci1_crmask.fits\n"
     ]
    },
    {
     "name": "stderr",
     "output_type": "stream",
     "text": [
      "2023-08-15 09:03:48,170 - stpipe - INFO - Creating output: jw02514197001_02201_00001_nrcalong_rate_sci1_crmask.fits\n"
     ]
    },
    {
     "name": "stdout",
     "output_type": "stream",
     "text": [
      "Creating output: jw02514197001_02201_00001_nrcalong_rate_sci1_crmask.fits\n"
     ]
    },
    {
     "name": "stderr",
     "output_type": "stream",
     "text": [
      "2023-08-15 09:03:48,229 - stpipe - INFO - Creating output: jw02514197001_02201_00004_nrcalong_rate_sci1_crmask.fits\n"
     ]
    },
    {
     "name": "stdout",
     "output_type": "stream",
     "text": [
      "Creating output: jw02514197001_02201_00004_nrcalong_rate_sci1_crmask.fits\n"
     ]
    },
    {
     "name": "stderr",
     "output_type": "stream",
     "text": [
      "2023-08-15 09:03:48,235 - stpipe - INFO - Creating output: jw02514197001_02201_00003_nrcalong_rate_sci1_crmask.fits\n"
     ]
    },
    {
     "name": "stdout",
     "output_type": "stream",
     "text": [
      "Creating output: jw02514197001_02201_00003_nrcalong_rate_sci1_crmask.fits\n"
     ]
    },
    {
     "name": "stderr",
     "output_type": "stream",
     "text": [
      "2023-08-15 09:03:48,483 - stpipe - INFO - ==== Processing Step Driz_CR finished at 09:03:48.483 (15/08/2023)\n"
     ]
    },
    {
     "name": "stdout",
     "output_type": "stream",
     "text": [
      "==== Processing Step Driz_CR finished at 09:03:48.483 (15/08/2023)\n"
     ]
    },
    {
     "name": "stderr",
     "output_type": "stream",
     "text": [
      "2023-08-15 09:03:48,494 - stpipe - INFO - ==== Processing Step  Final Drizzle  started at  09:03:48.494 (15/08/2023)\n"
     ]
    },
    {
     "name": "stdout",
     "output_type": "stream",
     "text": [
      "==== Processing Step  Final Drizzle  started at  09:03:48.494 (15/08/2023)\n"
     ]
    },
    {
     "name": "stderr",
     "output_type": "stream",
     "text": [
      "2023-08-15 09:03:48,496 - stpipe - INFO - \n"
     ]
    },
    {
     "name": "stdout",
     "output_type": "stream",
     "text": [
      "\n"
     ]
    },
    {
     "name": "stderr",
     "output_type": "stream",
     "text": [
      "2023-08-15 09:03:48,498 - stpipe - INFO - Interpreted paramDict with single=False as:\n",
      "2023-08-15 09:03:48,499 - stpipe - INFO - {'build': False, 'stepsize': 10, 'coeffs': True, 'wcskey': '', 'wht_type': 'IVM', 'kernel': 'square', 'wt_scl': 'exptime', 'pixfrac': 0.8, 'fillval': None, 'maskval': None, 'bits': 4, 'units': 'cps'}\n",
      "2023-08-15 09:03:48,500 - stpipe - INFO - USER INPUT PARAMETERS for Final Drizzle Step:\n",
      "2023-08-15 09:03:48,502 - stpipe - INFO - \tbits :\t4\n",
      "2023-08-15 09:03:48,503 - stpipe - INFO - \tbuild :\tFalse\n",
      "2023-08-15 09:03:48,504 - stpipe - INFO - \tclean :\tTrue\n",
      "2023-08-15 09:03:48,505 - stpipe - INFO - \tcoeffs :\tTrue\n",
      "2023-08-15 09:03:48,506 - stpipe - INFO - \tcrbit :\t4096\n",
      "2023-08-15 09:03:48,507 - stpipe - INFO - \tfillval :\tNone\n",
      "2023-08-15 09:03:48,508 - stpipe - INFO - \tkernel :\tsquare\n",
      "2023-08-15 09:03:48,509 - stpipe - INFO - \tlogfile :\tastrodrizzle.log\n",
      "2023-08-15 09:03:48,510 - stpipe - INFO - \tmaskval :\tNone\n",
      "2023-08-15 09:03:48,511 - stpipe - INFO - \tpixfrac :\t0.8\n",
      "2023-08-15 09:03:48,512 - stpipe - INFO - \tproc_unit :\tnative\n",
      "2023-08-15 09:03:48,513 - stpipe - INFO - \trules_file :\tNone\n",
      "2023-08-15 09:03:48,515 - stpipe - INFO - \tstepsize :\t10\n",
      "2023-08-15 09:03:48,515 - stpipe - INFO - \tunits :\tcps\n",
      "2023-08-15 09:03:48,516 - stpipe - INFO - \twcskey :\t\n",
      "2023-08-15 09:03:48,517 - stpipe - INFO - \twht_type :\tIVM\n",
      "2023-08-15 09:03:48,519 - stpipe - INFO - \twt_scl :\texptime\n",
      "2023-08-15 09:03:48,520 - stpipe - INFO -   **Using sub-sampling value of 10 for kernel square\n",
      "2023-08-15 09:03:48,521 - stpipe - INFO - Running Drizzle to create output frame with WCS of: \n",
      "2023-08-15 09:03:48,523 - stpipe - INFO - WCS Keywords\n"
     ]
    },
    {
     "name": "stdout",
     "output_type": "stream",
     "text": [
      "WCS Keywords\n"
     ]
    },
    {
     "name": "stderr",
     "output_type": "stream",
     "text": [
      "2023-08-15 09:03:48,525 - stpipe - INFO - \n"
     ]
    },
    {
     "name": "stdout",
     "output_type": "stream",
     "text": [
      "\n"
     ]
    },
    {
     "name": "stderr",
     "output_type": "stream",
     "text": [
      "2023-08-15 09:03:48,527 - stpipe - INFO - Number of WCS axes: 2\n"
     ]
    },
    {
     "name": "stdout",
     "output_type": "stream",
     "text": [
      "Number of WCS axes: 2\n"
     ]
    },
    {
     "name": "stderr",
     "output_type": "stream",
     "text": [
      "2023-08-15 09:03:48,529 - stpipe - INFO - CTYPE : 'RA---TAN'  'DEC--TAN'  \n"
     ]
    },
    {
     "name": "stdout",
     "output_type": "stream",
     "text": [
      "CTYPE : 'RA---TAN'  'DEC--TAN'  \n"
     ]
    },
    {
     "name": "stderr",
     "output_type": "stream",
     "text": [
      "2023-08-15 09:03:48,531 - stpipe - INFO - CRVAL : 23.683811214865685  -15.507445512250277  \n"
     ]
    },
    {
     "name": "stdout",
     "output_type": "stream",
     "text": [
      "CRVAL : 23.683811214865685  -15.507445512250277  \n"
     ]
    },
    {
     "name": "stderr",
     "output_type": "stream",
     "text": [
      "2023-08-15 09:03:48,533 - stpipe - INFO - CRPIX : 1054.0  1046.0  \n"
     ]
    },
    {
     "name": "stdout",
     "output_type": "stream",
     "text": [
      "CRPIX : 1054.0  1046.0  \n"
     ]
    },
    {
     "name": "stderr",
     "output_type": "stream",
     "text": [
      "2023-08-15 09:03:48,535 - stpipe - INFO - CD1_1 CD1_2  : 2.5025752099369816e-06  -1.7296542196802506e-05  \n"
     ]
    },
    {
     "name": "stdout",
     "output_type": "stream",
     "text": [
      "CD1_1 CD1_2  : 2.5025752099369816e-06  -1.7296542196802506e-05  \n"
     ]
    },
    {
     "name": "stderr",
     "output_type": "stream",
     "text": [
      "2023-08-15 09:03:48,537 - stpipe - INFO - CD2_1 CD2_2  : -1.7296542196802506e-05  -2.5025752099369816e-06  \n"
     ]
    },
    {
     "name": "stdout",
     "output_type": "stream",
     "text": [
      "CD2_1 CD2_2  : -1.7296542196802506e-05  -2.5025752099369816e-06  \n"
     ]
    },
    {
     "name": "stderr",
     "output_type": "stream",
     "text": [
      "2023-08-15 09:03:48,539 - stpipe - INFO - NAXIS : 2108  2092\n"
     ]
    },
    {
     "name": "stdout",
     "output_type": "stream",
     "text": [
      "NAXIS : 2108  2092\n"
     ]
    },
    {
     "name": "stderr",
     "output_type": "stream",
     "text": [
      "2023-08-15 09:03:48,545 - stpipe - INFO - -Drizzle input: jw02514197001_02201_00001_nrcalong_rate.fits[sci,1]\n",
      "2023-08-15 09:03:48,568 - stpipe - INFO - Applying sky value of 0.263227 to jw02514197001_02201_00001_nrcalong_rate.fits[sci,1]\n",
      "2023-08-15 09:03:48,637 - stpipe - INFO - Automatically creating IVM files for chip 1\n",
      "2023-08-15 09:03:48,639 - stpipe - WARNING - Cannot find flat field file 'jwst_nircam_flat_0574.fits'\n",
      "2023-08-15 09:03:48,640 - stpipe - WARNING - Treating flatfield as a constant value of '1'.\n",
      "2023-08-15 09:03:48,671 - stpipe - INFO - Using WCSLIB-based coordinate transformation...\n",
      "2023-08-15 09:03:48,672 - stpipe - INFO - stepsize = 10\n",
      "2023-08-15 09:03:48,685 - stpipe - INFO - -Drizzling using kernel = square\n",
      "2023-08-15 09:03:48,686 - stpipe - INFO - \n",
      "2023-08-15 09:03:49,413 - stpipe - INFO - -Drizzle input: jw02514197001_02201_00002_nrcalong_rate.fits[sci,1]\n",
      "2023-08-15 09:03:49,440 - stpipe - INFO - Applying sky value of 0.259627 to jw02514197001_02201_00002_nrcalong_rate.fits[sci,1]\n",
      "2023-08-15 09:03:49,502 - stpipe - INFO - Automatically creating IVM files for chip 1\n",
      "2023-08-15 09:03:49,506 - stpipe - WARNING - Cannot find flat field file 'jwst_nircam_flat_0574.fits'\n",
      "2023-08-15 09:03:49,507 - stpipe - WARNING - Treating flatfield as a constant value of '1'.\n",
      "2023-08-15 09:03:49,530 - stpipe - INFO - Using WCSLIB-based coordinate transformation...\n",
      "2023-08-15 09:03:49,532 - stpipe - INFO - stepsize = 10\n",
      "2023-08-15 09:03:49,545 - stpipe - INFO - -Drizzling using kernel = square\n",
      "2023-08-15 09:03:49,546 - stpipe - INFO - \n",
      "2023-08-15 09:03:50,274 - stpipe - INFO - -Drizzle input: jw02514197001_02201_00003_nrcalong_rate.fits[sci,1]\n",
      "2023-08-15 09:03:50,298 - stpipe - INFO - Applying sky value of 0.264291 to jw02514197001_02201_00003_nrcalong_rate.fits[sci,1]\n",
      "2023-08-15 09:03:50,364 - stpipe - INFO - Automatically creating IVM files for chip 1\n",
      "2023-08-15 09:03:50,366 - stpipe - WARNING - Cannot find flat field file 'jwst_nircam_flat_0574.fits'\n",
      "2023-08-15 09:03:50,367 - stpipe - WARNING - Treating flatfield as a constant value of '1'.\n",
      "2023-08-15 09:03:50,389 - stpipe - INFO - Using WCSLIB-based coordinate transformation...\n",
      "2023-08-15 09:03:50,390 - stpipe - INFO - stepsize = 10\n",
      "2023-08-15 09:03:50,404 - stpipe - INFO - -Drizzling using kernel = square\n",
      "2023-08-15 09:03:50,405 - stpipe - INFO - \n",
      "2023-08-15 09:03:51,105 - stpipe - INFO - -Drizzle input: jw02514197001_02201_00004_nrcalong_rate.fits[sci,1]\n",
      "2023-08-15 09:03:51,127 - stpipe - INFO - Applying sky value of 0.262439 to jw02514197001_02201_00004_nrcalong_rate.fits[sci,1]\n",
      "2023-08-15 09:03:51,187 - stpipe - INFO - Automatically creating IVM files for chip 1\n",
      "2023-08-15 09:03:51,190 - stpipe - WARNING - Cannot find flat field file 'jwst_nircam_flat_0574.fits'\n",
      "2023-08-15 09:03:51,191 - stpipe - WARNING - Treating flatfield as a constant value of '1'.\n",
      "2023-08-15 09:03:51,212 - stpipe - INFO - Using WCSLIB-based coordinate transformation...\n",
      "2023-08-15 09:03:51,213 - stpipe - INFO - stepsize = 10\n",
      "2023-08-15 09:03:51,226 - stpipe - INFO - -Drizzling using kernel = square\n",
      "2023-08-15 09:03:51,227 - stpipe - INFO - \n",
      "2023-08-15 09:03:51,912 - stpipe - INFO - Deleting previous output product: indef-02514-197-262.0-nrca5-f444w-clear_drz_sci.fits\n",
      "2023-08-15 09:03:51,915 - stpipe - INFO - Deleting previous output WHT product: indef-02514-197-262.0-nrca5-f444w-clear_drz_wht.fits\n",
      "2023-08-15 09:03:52,494 - stpipe - INFO - -Generating simple FITS output: indef-02514-197-262.0-nrca5-f444w-clear_drz_sci.fits\n"
     ]
    },
    {
     "name": "stdout",
     "output_type": "stream",
     "text": [
      "-Generating simple FITS output: indef-02514-197-262.0-nrca5-f444w-clear_drz_sci.fits\n"
     ]
    },
    {
     "name": "stderr",
     "output_type": "stream",
     "text": [
      "2023-08-15 09:03:52,666 - stpipe - INFO - Writing out image to disk: indef-02514-197-262.0-nrca5-f444w-clear_drz_sci.fits\n"
     ]
    },
    {
     "name": "stdout",
     "output_type": "stream",
     "text": [
      "Writing out image to disk: indef-02514-197-262.0-nrca5-f444w-clear_drz_sci.fits\n"
     ]
    },
    {
     "name": "stderr",
     "output_type": "stream",
     "text": [
      "2023-08-15 09:03:52,806 - stpipe - INFO - Writing out image to disk: indef-02514-197-262.0-nrca5-f444w-clear_drz_wht.fits\n"
     ]
    },
    {
     "name": "stdout",
     "output_type": "stream",
     "text": [
      "Writing out image to disk: indef-02514-197-262.0-nrca5-f444w-clear_drz_wht.fits\n"
     ]
    },
    {
     "name": "stderr",
     "output_type": "stream",
     "text": [
      "2023-08-15 09:03:52,833 - stpipe - INFO - ==== Processing Step Final Drizzle finished at 09:03:52.833 (15/08/2023)\n"
     ]
    },
    {
     "name": "stdout",
     "output_type": "stream",
     "text": [
      "==== Processing Step Final Drizzle finished at 09:03:52.833 (15/08/2023)\n"
     ]
    },
    {
     "name": "stderr",
     "output_type": "stream",
     "text": [
      "2023-08-15 09:03:52,836 - stpipe - INFO - \n"
     ]
    },
    {
     "name": "stdout",
     "output_type": "stream",
     "text": [
      "\n"
     ]
    },
    {
     "name": "stderr",
     "output_type": "stream",
     "text": [
      "2023-08-15 09:03:52,838 - stpipe - INFO - AstroDrizzle Version 3.6.1 is finished processing at 09:03:52.838 (15/08/2023).\n"
     ]
    },
    {
     "name": "stdout",
     "output_type": "stream",
     "text": [
      "AstroDrizzle Version 3.6.1 is finished processing at 09:03:52.838 (15/08/2023).\n"
     ]
    },
    {
     "name": "stderr",
     "output_type": "stream",
     "text": [
      "2023-08-15 09:03:52,840 - stpipe - INFO - \n"
     ]
    },
    {
     "name": "stdout",
     "output_type": "stream",
     "text": [
      "\n"
     ]
    },
    {
     "name": "stderr",
     "output_type": "stream",
     "text": [
      "2023-08-15 09:03:52,842 - stpipe - INFO - \n"
     ]
    },
    {
     "name": "stdout",
     "output_type": "stream",
     "text": [
      "\n"
     ]
    },
    {
     "name": "stderr",
     "output_type": "stream",
     "text": [
      "2023-08-15 09:03:52,844 - stpipe - INFO - \n"
     ]
    },
    {
     "name": "stdout",
     "output_type": "stream",
     "text": [
      "\n"
     ]
    },
    {
     "name": "stderr",
     "output_type": "stream",
     "text": [
      "2023-08-15 09:03:52,846 - stpipe - INFO -    --------------------          --------------------\n"
     ]
    },
    {
     "name": "stdout",
     "output_type": "stream",
     "text": [
      "   --------------------          --------------------\n"
     ]
    },
    {
     "name": "stderr",
     "output_type": "stream",
     "text": [
      "2023-08-15 09:03:52,848 - stpipe - INFO -                    Step          Elapsed time\n"
     ]
    },
    {
     "name": "stdout",
     "output_type": "stream",
     "text": [
      "                   Step          Elapsed time\n"
     ]
    },
    {
     "name": "stderr",
     "output_type": "stream",
     "text": [
      "2023-08-15 09:03:52,850 - stpipe - INFO -    --------------------          --------------------\n"
     ]
    },
    {
     "name": "stdout",
     "output_type": "stream",
     "text": [
      "   --------------------          --------------------\n"
     ]
    },
    {
     "name": "stderr",
     "output_type": "stream",
     "text": [
      "2023-08-15 09:03:52,852 - stpipe - INFO - \n"
     ]
    },
    {
     "name": "stdout",
     "output_type": "stream",
     "text": [
      "\n"
     ]
    },
    {
     "name": "stderr",
     "output_type": "stream",
     "text": [
      "2023-08-15 09:03:52,854 - stpipe - INFO -          Initialization          0.8043 sec.\n"
     ]
    },
    {
     "name": "stdout",
     "output_type": "stream",
     "text": [
      "         Initialization          0.8043 sec.\n"
     ]
    },
    {
     "name": "stderr",
     "output_type": "stream",
     "text": [
      "2023-08-15 09:03:52,855 - stpipe - INFO -             Static Mask          0.0048 sec.\n"
     ]
    },
    {
     "name": "stdout",
     "output_type": "stream",
     "text": [
      "            Static Mask          0.0048 sec.\n"
     ]
    },
    {
     "name": "stderr",
     "output_type": "stream",
     "text": [
      "2023-08-15 09:03:52,857 - stpipe - INFO -            Subtract Sky          0.9254 sec.\n"
     ]
    },
    {
     "name": "stdout",
     "output_type": "stream",
     "text": [
      "           Subtract Sky          0.9254 sec.\n"
     ]
    },
    {
     "name": "stderr",
     "output_type": "stream",
     "text": [
      "2023-08-15 09:03:52,860 - stpipe - INFO -        Separate Drizzle          1.0930 sec.\n"
     ]
    },
    {
     "name": "stdout",
     "output_type": "stream",
     "text": [
      "       Separate Drizzle          1.0930 sec.\n"
     ]
    },
    {
     "name": "stderr",
     "output_type": "stream",
     "text": [
      "2023-08-15 09:03:52,861 - stpipe - INFO -           Create Median          1.0829 sec.\n"
     ]
    },
    {
     "name": "stdout",
     "output_type": "stream",
     "text": [
      "          Create Median          1.0829 sec.\n"
     ]
    },
    {
     "name": "stderr",
     "output_type": "stream",
     "text": [
      "2023-08-15 09:03:52,863 - stpipe - INFO -                    Blot          2.9498 sec.\n"
     ]
    },
    {
     "name": "stdout",
     "output_type": "stream",
     "text": [
      "                   Blot          2.9498 sec.\n"
     ]
    },
    {
     "name": "stderr",
     "output_type": "stream",
     "text": [
      "2023-08-15 09:03:52,865 - stpipe - INFO -                 Driz_CR          1.1324 sec.\n"
     ]
    },
    {
     "name": "stdout",
     "output_type": "stream",
     "text": [
      "                Driz_CR          1.1324 sec.\n"
     ]
    },
    {
     "name": "stderr",
     "output_type": "stream",
     "text": [
      "2023-08-15 09:03:52,868 - stpipe - INFO -           Final Drizzle          4.3387 sec.\n"
     ]
    },
    {
     "name": "stdout",
     "output_type": "stream",
     "text": [
      "          Final Drizzle          4.3387 sec.\n"
     ]
    },
    {
     "name": "stderr",
     "output_type": "stream",
     "text": [
      "2023-08-15 09:03:52,870 - stpipe - INFO -    ====================          ====================\n"
     ]
    },
    {
     "name": "stdout",
     "output_type": "stream",
     "text": [
      "   ====================          ====================\n"
     ]
    },
    {
     "name": "stderr",
     "output_type": "stream",
     "text": [
      "2023-08-15 09:03:52,872 - stpipe - INFO -                   Total          12.3314 sec.\n"
     ]
    },
    {
     "name": "stdout",
     "output_type": "stream",
     "text": [
      "                  Total          12.3314 sec.\n"
     ]
    },
    {
     "name": "stderr",
     "output_type": "stream",
     "text": [
      "2023-08-15 09:03:52,874 - stpipe - INFO - \n"
     ]
    },
    {
     "name": "stdout",
     "output_type": "stream",
     "text": [
      "\n"
     ]
    },
    {
     "name": "stderr",
     "output_type": "stream",
     "text": [
      "2023-08-15 09:03:52,875 - stpipe - INFO - Removing intermediate files for jw02514197001_02201_00001_nrcalong_rate.fits\n",
      "2023-08-15 09:03:52,892 - stpipe - INFO - Removing intermediate files for jw02514197001_02201_00002_nrcalong_rate.fits\n",
      "2023-08-15 09:03:52,905 - stpipe - INFO - Removing intermediate files for jw02514197001_02201_00003_nrcalong_rate.fits\n",
      "2023-08-15 09:03:52,916 - stpipe - INFO - Removing intermediate files for jw02514197001_02201_00004_nrcalong_rate.fits\n",
      "2023-08-15 09:03:52,933 - stpipe - INFO - Trailer file written to:  astrodrizzle.log\n"
     ]
    },
    {
     "name": "stdout",
     "output_type": "stream",
     "text": [
      "Trailer file written to:  astrodrizzle.log\n"
     ]
    },
    {
     "name": "stderr",
     "output_type": "stream",
     "text": [
      "2023-08-15 09:03:53,307 - stpipe - INFO - Setting up logfile :  astrodrizzle.log\n"
     ]
    },
    {
     "name": "stdout",
     "output_type": "stream",
     "text": [
      "nircam_wisp_correction - jw02514197001_02201_00001_nrcalong_rate.fits: NIRCam filter F444W not supported\n",
      "nircam_wisp_correction - jw02514197001_02201_00002_nrcalong_rate.fits: NIRCam filter F444W not supported\n",
      "nircam_wisp_correction - jw02514197001_02201_00003_nrcalong_rate.fits: NIRCam filter F444W not supported\n",
      "nircam_wisp_correction - jw02514197001_02201_00004_nrcalong_rate.fits: NIRCam filter F444W not supported\n",
      "Setting up logfile :  astrodrizzle.log\n"
     ]
    },
    {
     "name": "stderr",
     "output_type": "stream",
     "text": [
      "2023-08-15 09:03:53,308 - stpipe - INFO - AstroDrizzle log file: astrodrizzle.log\n"
     ]
    },
    {
     "name": "stdout",
     "output_type": "stream",
     "text": [
      "AstroDrizzle log file: astrodrizzle.log\n"
     ]
    },
    {
     "name": "stderr",
     "output_type": "stream",
     "text": [
      "2023-08-15 09:03:53,310 - stpipe - INFO - AstroDrizzle Version 3.6.1 started at: 09:03:53.309 (15/08/2023)\n"
     ]
    },
    {
     "name": "stdout",
     "output_type": "stream",
     "text": [
      "AstroDrizzle Version 3.6.1 started at: 09:03:53.309 (15/08/2023)\n"
     ]
    },
    {
     "name": "stderr",
     "output_type": "stream",
     "text": [
      "2023-08-15 09:03:53,312 - stpipe - INFO - \n"
     ]
    },
    {
     "name": "stdout",
     "output_type": "stream",
     "text": [
      "\n"
     ]
    },
    {
     "name": "stderr",
     "output_type": "stream",
     "text": [
      "2023-08-15 09:03:53,313 - stpipe - INFO - Version Information\n",
      "2023-08-15 09:03:53,315 - stpipe - INFO - --------------------\n",
      "2023-08-15 09:03:53,316 - stpipe - INFO - Python Version 3.10.8 (main, Nov 16 2022, 17:55:27) [GCC 9.4.0]\n",
      "2023-08-15 09:03:53,317 - stpipe - INFO - numpy Version -> 1.24.4 \n",
      "2023-08-15 09:03:53,318 - stpipe - INFO - astropy Version -> 5.3.1 \n",
      "2023-08-15 09:03:53,319 - stpipe - INFO - stwcs Version -> 1.7.2 \n",
      "2023-08-15 09:03:53,319 - stpipe - INFO - photutils Version -> 1.9.0 \n",
      "2023-08-15 09:03:53,321 - stpipe - INFO - ==== Processing Step  Initialization  started at  09:03:53.321 (15/08/2023)\n"
     ]
    },
    {
     "name": "stdout",
     "output_type": "stream",
     "text": [
      "==== Processing Step  Initialization  started at  09:03:53.321 (15/08/2023)\n"
     ]
    },
    {
     "name": "stderr",
     "output_type": "stream",
     "text": [
      "2023-08-15 09:03:53,322 - stpipe - INFO - \n"
     ]
    },
    {
     "name": "stdout",
     "output_type": "stream",
     "text": [
      "\n"
     ]
    },
    {
     "name": "stderr",
     "output_type": "stream",
     "text": [
      "2023-08-15 09:03:53,377 - stpipe - INFO - Executing serially\n",
      "2023-08-15 09:03:53,455 - stpipe - INFO - Setting up output name: indef-02514-197-262.0-nrca5-f444w-clear_drz.fits\n",
      "2023-08-15 09:03:53,456 - stpipe - INFO - -Creating imageObject List as input for processing steps.\n",
      "2023-08-15 09:03:53,553 - stpipe - INFO - Reading in MDRIZSKY of 0.26322680711746216\n",
      "2023-08-15 09:03:53,669 - stpipe - INFO - Reading in MDRIZSKY of 0.2596265971660614\n",
      "2023-08-15 09:03:53,788 - stpipe - INFO - Reading in MDRIZSKY of 0.26429107785224915\n",
      "2023-08-15 09:03:53,906 - stpipe - INFO - Reading in MDRIZSKY of 0.262439489364624\n",
      "2023-08-15 09:03:53,930 - stpipe - INFO - No context image will be created for jw02514197001_02201_00001_nrcalong_rate.fits\n",
      "2023-08-15 09:03:53,931 - stpipe - INFO - No context image will be created for jw02514197001_02201_00002_nrcalong_rate.fits\n",
      "2023-08-15 09:03:53,931 - stpipe - INFO - No context image will be created for jw02514197001_02201_00003_nrcalong_rate.fits\n",
      "2023-08-15 09:03:53,932 - stpipe - INFO - No context image will be created for jw02514197001_02201_00004_nrcalong_rate.fits\n",
      "2023-08-15 09:03:53,933 - stpipe - INFO - -Creating output WCS.\n",
      "2023-08-15 09:03:53,937 - stpipe - INFO - No context image will be created for indef-02514-197-262.0-nrca5-f444w-clear_drz.fits\n",
      "2023-08-15 09:03:53,939 - stpipe - INFO - WCS Keywords\n"
     ]
    },
    {
     "name": "stdout",
     "output_type": "stream",
     "text": [
      "WCS Keywords\n"
     ]
    },
    {
     "name": "stderr",
     "output_type": "stream",
     "text": [
      "2023-08-15 09:03:53,940 - stpipe - INFO - \n"
     ]
    },
    {
     "name": "stdout",
     "output_type": "stream",
     "text": [
      "\n"
     ]
    },
    {
     "name": "stderr",
     "output_type": "stream",
     "text": [
      "2023-08-15 09:03:53,942 - stpipe - INFO - Number of WCS axes: 2\n"
     ]
    },
    {
     "name": "stdout",
     "output_type": "stream",
     "text": [
      "Number of WCS axes: 2\n"
     ]
    },
    {
     "name": "stderr",
     "output_type": "stream",
     "text": [
      "2023-08-15 09:03:53,944 - stpipe - INFO - CTYPE : 'RA---TAN'  'DEC--TAN'  \n"
     ]
    },
    {
     "name": "stdout",
     "output_type": "stream",
     "text": [
      "CTYPE : 'RA---TAN'  'DEC--TAN'  \n"
     ]
    },
    {
     "name": "stderr",
     "output_type": "stream",
     "text": [
      "2023-08-15 09:03:53,946 - stpipe - INFO - CRVAL : 23.683811214865685  -15.507445512250277  \n"
     ]
    },
    {
     "name": "stdout",
     "output_type": "stream",
     "text": [
      "CRVAL : 23.683811214865685  -15.507445512250277  \n"
     ]
    },
    {
     "name": "stderr",
     "output_type": "stream",
     "text": [
      "2023-08-15 09:03:53,948 - stpipe - INFO - CRPIX : 1054.0  1046.0  \n"
     ]
    },
    {
     "name": "stdout",
     "output_type": "stream",
     "text": [
      "CRPIX : 1054.0  1046.0  \n"
     ]
    },
    {
     "name": "stderr",
     "output_type": "stream",
     "text": [
      "2023-08-15 09:03:53,950 - stpipe - INFO - CD1_1 CD1_2  : 2.5025752099369816e-06  -1.7296542196802506e-05  \n"
     ]
    },
    {
     "name": "stdout",
     "output_type": "stream",
     "text": [
      "CD1_1 CD1_2  : 2.5025752099369816e-06  -1.7296542196802506e-05  \n"
     ]
    },
    {
     "name": "stderr",
     "output_type": "stream",
     "text": [
      "2023-08-15 09:03:53,951 - stpipe - INFO - CD2_1 CD2_2  : -1.7296542196802506e-05  -2.5025752099369816e-06  \n"
     ]
    },
    {
     "name": "stdout",
     "output_type": "stream",
     "text": [
      "CD2_1 CD2_2  : -1.7296542196802506e-05  -2.5025752099369816e-06  \n"
     ]
    },
    {
     "name": "stderr",
     "output_type": "stream",
     "text": [
      "2023-08-15 09:03:53,953 - stpipe - INFO - NAXIS : 2108  2092\n"
     ]
    },
    {
     "name": "stdout",
     "output_type": "stream",
     "text": [
      "NAXIS : 2108  2092\n"
     ]
    },
    {
     "name": "stderr",
     "output_type": "stream",
     "text": [
      "2023-08-15 09:03:53,954 - stpipe - INFO - ********************************************************************************\n"
     ]
    },
    {
     "name": "stdout",
     "output_type": "stream",
     "text": [
      "********************************************************************************\n"
     ]
    },
    {
     "name": "stderr",
     "output_type": "stream",
     "text": [
      "2023-08-15 09:03:53,956 - stpipe - INFO - *\n"
     ]
    },
    {
     "name": "stdout",
     "output_type": "stream",
     "text": [
      "*\n"
     ]
    },
    {
     "name": "stderr",
     "output_type": "stream",
     "text": [
      "2023-08-15 09:03:53,957 - stpipe - INFO - *  Estimated memory usage:  up to 82 Mb.\n"
     ]
    },
    {
     "name": "stdout",
     "output_type": "stream",
     "text": [
      "*  Estimated memory usage:  up to 82 Mb.\n"
     ]
    },
    {
     "name": "stderr",
     "output_type": "stream",
     "text": [
      "2023-08-15 09:03:53,961 - stpipe - INFO - *  Output image size:       2108 X 2092 pixels. \n"
     ]
    },
    {
     "name": "stdout",
     "output_type": "stream",
     "text": [
      "*  Output image size:       2108 X 2092 pixels. \n"
     ]
    },
    {
     "name": "stderr",
     "output_type": "stream",
     "text": [
      "2023-08-15 09:03:53,962 - stpipe - INFO - *  Output image file:       ~ 50 Mb. \n"
     ]
    },
    {
     "name": "stdout",
     "output_type": "stream",
     "text": [
      "*  Output image file:       ~ 50 Mb. \n"
     ]
    },
    {
     "name": "stderr",
     "output_type": "stream",
     "text": [
      "2023-08-15 09:03:53,964 - stpipe - INFO - *  Cores available:         1\n"
     ]
    },
    {
     "name": "stdout",
     "output_type": "stream",
     "text": [
      "*  Cores available:         1\n"
     ]
    },
    {
     "name": "stderr",
     "output_type": "stream",
     "text": [
      "2023-08-15 09:03:53,965 - stpipe - INFO - *\n"
     ]
    },
    {
     "name": "stdout",
     "output_type": "stream",
     "text": [
      "*\n"
     ]
    },
    {
     "name": "stderr",
     "output_type": "stream",
     "text": [
      "2023-08-15 09:03:53,967 - stpipe - INFO - ********************************************************************************\n"
     ]
    },
    {
     "name": "stdout",
     "output_type": "stream",
     "text": [
      "********************************************************************************\n"
     ]
    },
    {
     "name": "stderr",
     "output_type": "stream",
     "text": [
      "2023-08-15 09:03:53,968 - stpipe - INFO - ==== Processing Step Initialization finished at 09:03:53.968 (15/08/2023)\n"
     ]
    },
    {
     "name": "stdout",
     "output_type": "stream",
     "text": [
      "==== Processing Step Initialization finished at 09:03:53.968 (15/08/2023)\n"
     ]
    },
    {
     "name": "stderr",
     "output_type": "stream",
     "text": [
      "2023-08-15 09:03:53,972 - stpipe - INFO - USER INPUT PARAMETERS common to all Processing Steps:\n",
      "2023-08-15 09:03:53,973 - stpipe - INFO - \tbuild :\tFalse\n",
      "2023-08-15 09:03:53,974 - stpipe - INFO - \tcoeffs :\tTrue\n",
      "2023-08-15 09:03:53,975 - stpipe - INFO - \tcontext :\tFalse\n",
      "2023-08-15 09:03:53,975 - stpipe - INFO - \tcrbit :\t4096\n",
      "2023-08-15 09:03:53,976 - stpipe - INFO - \tgroup :\t\n",
      "2023-08-15 09:03:53,977 - stpipe - INFO - \tin_memory :\tFalse\n",
      "2023-08-15 09:03:53,978 - stpipe - INFO - \tinput :\t['jw02514197001_02201_00001_nrcalong_rate.fits', 'jw02514197001_02201_00002_nrcalong_rate.fits', 'jw02514197001_02201_00003_nrcalong_rate.fits', 'jw02514197001_02201_00004_nrcalong_rate.fits']\n",
      "2023-08-15 09:03:53,979 - stpipe - INFO - \tmdriztab :\tFalse\n",
      "2023-08-15 09:03:53,980 - stpipe - INFO - \tnum_cores :\tNone\n",
      "2023-08-15 09:03:53,981 - stpipe - INFO - \toutput :\tindef-02514-197-262.0-nrca5-f444w-clear\n",
      "2023-08-15 09:03:53,983 - stpipe - INFO - \tproc_unit :\tnative\n",
      "2023-08-15 09:03:53,984 - stpipe - INFO - \tresetbits :\t0\n",
      "2023-08-15 09:03:53,984 - stpipe - INFO - \trules_file :\t\n",
      "2023-08-15 09:03:53,986 - stpipe - INFO - \trunfile :\tastrodrizzle.log\n",
      "2023-08-15 09:03:53,987 - stpipe - INFO - \tstepsize :\t10\n",
      "2023-08-15 09:03:53,988 - stpipe - INFO - \tupdatewcs :\tFalse\n",
      "2023-08-15 09:03:53,988 - stpipe - INFO - \twcskey :\t\n",
      "2023-08-15 09:03:53,990 - stpipe - INFO - ==== Processing Step  Static Mask  started at  09:03:53.989 (15/08/2023)\n"
     ]
    },
    {
     "name": "stdout",
     "output_type": "stream",
     "text": [
      "==== Processing Step  Static Mask  started at  09:03:53.989 (15/08/2023)\n"
     ]
    },
    {
     "name": "stderr",
     "output_type": "stream",
     "text": [
      "2023-08-15 09:03:53,991 - stpipe - INFO - \n"
     ]
    },
    {
     "name": "stdout",
     "output_type": "stream",
     "text": [
      "\n"
     ]
    },
    {
     "name": "stderr",
     "output_type": "stream",
     "text": [
      "2023-08-15 09:03:53,993 - stpipe - INFO - Static Mask step not performed.\n",
      "2023-08-15 09:03:53,994 - stpipe - INFO - ==== Processing Step Static Mask finished at 09:03:53.994 (15/08/2023)\n"
     ]
    },
    {
     "name": "stdout",
     "output_type": "stream",
     "text": [
      "==== Processing Step Static Mask finished at 09:03:53.994 (15/08/2023)\n"
     ]
    },
    {
     "name": "stderr",
     "output_type": "stream",
     "text": [
      "2023-08-15 09:03:53,999 - stpipe - INFO - ==== Processing Step  Subtract Sky  started at  09:03:53.999 (15/08/2023)\n"
     ]
    },
    {
     "name": "stdout",
     "output_type": "stream",
     "text": [
      "==== Processing Step  Subtract Sky  started at  09:03:53.999 (15/08/2023)\n"
     ]
    },
    {
     "name": "stderr",
     "output_type": "stream",
     "text": [
      "2023-08-15 09:03:54,001 - stpipe - INFO - \n"
     ]
    },
    {
     "name": "stdout",
     "output_type": "stream",
     "text": [
      "\n"
     ]
    },
    {
     "name": "stderr",
     "output_type": "stream",
     "text": [
      "2023-08-15 09:03:54,003 - stpipe - INFO - USER INPUT PARAMETERS for Sky Subtraction Step:\n",
      "2023-08-15 09:03:54,004 - stpipe - INFO - \tsky_bits :\t0\n",
      "2023-08-15 09:03:54,005 - stpipe - INFO - \tskyclip :\t5\n",
      "2023-08-15 09:03:54,006 - stpipe - INFO - \tskyfile :\t\n",
      "2023-08-15 09:03:54,007 - stpipe - INFO - \tskylower :\tNone\n",
      "2023-08-15 09:03:54,008 - stpipe - INFO - \tskylsigma :\t4.0\n",
      "2023-08-15 09:03:54,009 - stpipe - INFO - \tskymask_cat :\t\n",
      "2023-08-15 09:03:54,009 - stpipe - INFO - \tskymethod :\tlocalmin\n",
      "2023-08-15 09:03:54,010 - stpipe - INFO - \tskystat :\tmedian\n",
      "2023-08-15 09:03:54,011 - stpipe - INFO - \tskysub :\tTrue\n",
      "2023-08-15 09:03:54,011 - stpipe - INFO - \tskyupper :\tNone\n",
      "2023-08-15 09:03:54,012 - stpipe - INFO - \tskyuser :\t\n",
      "2023-08-15 09:03:54,013 - stpipe - INFO - \tskyusigma :\t4.0\n",
      "2023-08-15 09:03:54,013 - stpipe - INFO - \tskywidth :\t0.1\n",
      "2023-08-15 09:03:54,014 - stpipe - INFO - \tuse_static :\tTrue\n",
      "2023-08-15 09:03:54,030 - stpipe - WARNING - Static mask for file 'jw02514197001_02201_00001_nrcalong_rate.fits', ext=('SCI', 1) NOT FOUND.\n",
      "2023-08-15 09:03:54,055 - stpipe - WARNING - Static mask for file 'jw02514197001_02201_00002_nrcalong_rate.fits', ext=('SCI', 1) NOT FOUND.\n",
      "2023-08-15 09:03:54,076 - stpipe - WARNING - Static mask for file 'jw02514197001_02201_00003_nrcalong_rate.fits', ext=('SCI', 1) NOT FOUND.\n",
      "2023-08-15 09:03:54,098 - stpipe - WARNING - Static mask for file 'jw02514197001_02201_00004_nrcalong_rate.fits', ext=('SCI', 1) NOT FOUND.\n",
      "2023-08-15 09:03:54,106 - stpipe - INFO - ***** skymatch started on 2023-08-15 09:03:54.106181\n"
     ]
    },
    {
     "name": "stdout",
     "output_type": "stream",
     "text": [
      "***** skymatch started on 2023-08-15 09:03:54.106181\n"
     ]
    },
    {
     "name": "stderr",
     "output_type": "stream",
     "text": [
      "2023-08-15 09:03:54,107 - stpipe - INFO -       Version 1.0.9\n"
     ]
    },
    {
     "name": "stdout",
     "output_type": "stream",
     "text": [
      "      Version 1.0.9\n"
     ]
    },
    {
     "name": "stderr",
     "output_type": "stream",
     "text": [
      "2023-08-15 09:03:54,109 - stpipe - INFO - \n"
     ]
    },
    {
     "name": "stdout",
     "output_type": "stream",
     "text": [
      "\n"
     ]
    },
    {
     "name": "stderr",
     "output_type": "stream",
     "text": [
      "2023-08-15 09:03:54,111 - stpipe - INFO - 'skymatch' task will apply computed sky differences to input image file(s).\n"
     ]
    },
    {
     "name": "stdout",
     "output_type": "stream",
     "text": [
      "'skymatch' task will apply computed sky differences to input image file(s).\n"
     ]
    },
    {
     "name": "stderr",
     "output_type": "stream",
     "text": [
      "2023-08-15 09:03:54,112 - stpipe - INFO - \n"
     ]
    },
    {
     "name": "stdout",
     "output_type": "stream",
     "text": [
      "\n"
     ]
    },
    {
     "name": "stderr",
     "output_type": "stream",
     "text": [
      "2023-08-15 09:03:54,114 - stpipe - INFO - NOTE: Computed sky values WILL NOT be subtracted from image data ('subtractsky'=False).\n"
     ]
    },
    {
     "name": "stdout",
     "output_type": "stream",
     "text": [
      "NOTE: Computed sky values WILL NOT be subtracted from image data ('subtractsky'=False).\n"
     ]
    },
    {
     "name": "stderr",
     "output_type": "stream",
     "text": [
      "2023-08-15 09:03:54,115 - stpipe - INFO - 'MDRIZSKY' header keyword will represent sky value *computed* from data.\n"
     ]
    },
    {
     "name": "stdout",
     "output_type": "stream",
     "text": [
      "'MDRIZSKY' header keyword will represent sky value *computed* from data.\n"
     ]
    },
    {
     "name": "stderr",
     "output_type": "stream",
     "text": [
      "2023-08-15 09:03:54,118 - stpipe - INFO - \n"
     ]
    },
    {
     "name": "stdout",
     "output_type": "stream",
     "text": [
      "\n"
     ]
    },
    {
     "name": "stderr",
     "output_type": "stream",
     "text": [
      "2023-08-15 09:03:54,120 - stpipe - INFO - -----  User specified keywords:  -----\n"
     ]
    },
    {
     "name": "stdout",
     "output_type": "stream",
     "text": [
      "-----  User specified keywords:  -----\n"
     ]
    },
    {
     "name": "stderr",
     "output_type": "stream",
     "text": [
      "2023-08-15 09:03:54,122 - stpipe - INFO -        Sky Value Keyword:  'MDRIZSKY'\n"
     ]
    },
    {
     "name": "stdout",
     "output_type": "stream",
     "text": [
      "       Sky Value Keyword:  'MDRIZSKY'\n"
     ]
    },
    {
     "name": "stderr",
     "output_type": "stream",
     "text": [
      "2023-08-15 09:03:54,126 - stpipe - INFO -        Data Units Keyword: 'BUNIT'\n"
     ]
    },
    {
     "name": "stdout",
     "output_type": "stream",
     "text": [
      "       Data Units Keyword: 'BUNIT'\n"
     ]
    },
    {
     "name": "stderr",
     "output_type": "stream",
     "text": [
      "2023-08-15 09:03:54,133 - stpipe - INFO - \n"
     ]
    },
    {
     "name": "stdout",
     "output_type": "stream",
     "text": [
      "\n"
     ]
    },
    {
     "name": "stderr",
     "output_type": "stream",
     "text": [
      "2023-08-15 09:03:54,139 - stpipe - INFO - \n"
     ]
    },
    {
     "name": "stdout",
     "output_type": "stream",
     "text": [
      "\n"
     ]
    },
    {
     "name": "stderr",
     "output_type": "stream",
     "text": [
      "2023-08-15 09:03:54,140 - stpipe - INFO - -----  Input file list:  -----\n"
     ]
    },
    {
     "name": "stdout",
     "output_type": "stream",
     "text": [
      "-----  Input file list:  -----\n"
     ]
    },
    {
     "name": "stderr",
     "output_type": "stream",
     "text": [
      "2023-08-15 09:03:54,142 - stpipe - INFO - \n"
     ]
    },
    {
     "name": "stdout",
     "output_type": "stream",
     "text": [
      "\n"
     ]
    },
    {
     "name": "stderr",
     "output_type": "stream",
     "text": [
      "2023-08-15 09:03:54,144 - stpipe - INFO -    **  Input image: 'jw02514197001_02201_00001_nrcalong_rate.fits'\n"
     ]
    },
    {
     "name": "stdout",
     "output_type": "stream",
     "text": [
      "   **  Input image: 'jw02514197001_02201_00001_nrcalong_rate.fits'\n"
     ]
    },
    {
     "name": "stderr",
     "output_type": "stream",
     "text": [
      "2023-08-15 09:03:54,146 - stpipe - INFO -        EXT: 'SCI',1;\tMASK: jw02514197001_02201_00001_nrcalong_skymatch_mask_sci1.fits[0]\n"
     ]
    },
    {
     "name": "stdout",
     "output_type": "stream",
     "text": [
      "       EXT: 'SCI',1;\tMASK: jw02514197001_02201_00001_nrcalong_skymatch_mask_sci1.fits[0]\n"
     ]
    },
    {
     "name": "stderr",
     "output_type": "stream",
     "text": [
      "2023-08-15 09:03:54,147 - stpipe - INFO - \n"
     ]
    },
    {
     "name": "stdout",
     "output_type": "stream",
     "text": [
      "\n"
     ]
    },
    {
     "name": "stderr",
     "output_type": "stream",
     "text": [
      "2023-08-15 09:03:54,149 - stpipe - INFO -    **  Input image: 'jw02514197001_02201_00002_nrcalong_rate.fits'\n"
     ]
    },
    {
     "name": "stdout",
     "output_type": "stream",
     "text": [
      "   **  Input image: 'jw02514197001_02201_00002_nrcalong_rate.fits'\n"
     ]
    },
    {
     "name": "stderr",
     "output_type": "stream",
     "text": [
      "2023-08-15 09:03:54,150 - stpipe - INFO -        EXT: 'SCI',1;\tMASK: jw02514197001_02201_00002_nrcalong_skymatch_mask_sci1.fits[0]\n"
     ]
    },
    {
     "name": "stdout",
     "output_type": "stream",
     "text": [
      "       EXT: 'SCI',1;\tMASK: jw02514197001_02201_00002_nrcalong_skymatch_mask_sci1.fits[0]\n"
     ]
    },
    {
     "name": "stderr",
     "output_type": "stream",
     "text": [
      "2023-08-15 09:03:54,152 - stpipe - INFO - \n"
     ]
    },
    {
     "name": "stdout",
     "output_type": "stream",
     "text": [
      "\n"
     ]
    },
    {
     "name": "stderr",
     "output_type": "stream",
     "text": [
      "2023-08-15 09:03:54,153 - stpipe - INFO -    **  Input image: 'jw02514197001_02201_00003_nrcalong_rate.fits'\n"
     ]
    },
    {
     "name": "stdout",
     "output_type": "stream",
     "text": [
      "   **  Input image: 'jw02514197001_02201_00003_nrcalong_rate.fits'\n"
     ]
    },
    {
     "name": "stderr",
     "output_type": "stream",
     "text": [
      "2023-08-15 09:03:54,155 - stpipe - INFO -        EXT: 'SCI',1;\tMASK: jw02514197001_02201_00003_nrcalong_skymatch_mask_sci1.fits[0]\n"
     ]
    },
    {
     "name": "stdout",
     "output_type": "stream",
     "text": [
      "       EXT: 'SCI',1;\tMASK: jw02514197001_02201_00003_nrcalong_skymatch_mask_sci1.fits[0]\n"
     ]
    },
    {
     "name": "stderr",
     "output_type": "stream",
     "text": [
      "2023-08-15 09:03:54,157 - stpipe - INFO - \n"
     ]
    },
    {
     "name": "stdout",
     "output_type": "stream",
     "text": [
      "\n"
     ]
    },
    {
     "name": "stderr",
     "output_type": "stream",
     "text": [
      "2023-08-15 09:03:54,163 - stpipe - INFO -    **  Input image: 'jw02514197001_02201_00004_nrcalong_rate.fits'\n"
     ]
    },
    {
     "name": "stdout",
     "output_type": "stream",
     "text": [
      "   **  Input image: 'jw02514197001_02201_00004_nrcalong_rate.fits'\n"
     ]
    },
    {
     "name": "stderr",
     "output_type": "stream",
     "text": [
      "2023-08-15 09:03:54,166 - stpipe - INFO -        EXT: 'SCI',1;\tMASK: jw02514197001_02201_00004_nrcalong_skymatch_mask_sci1.fits[0]\n"
     ]
    },
    {
     "name": "stdout",
     "output_type": "stream",
     "text": [
      "       EXT: 'SCI',1;\tMASK: jw02514197001_02201_00004_nrcalong_skymatch_mask_sci1.fits[0]\n"
     ]
    },
    {
     "name": "stderr",
     "output_type": "stream",
     "text": [
      "2023-08-15 09:03:54,168 - stpipe - INFO - \n"
     ]
    },
    {
     "name": "stdout",
     "output_type": "stream",
     "text": [
      "\n"
     ]
    },
    {
     "name": "stderr",
     "output_type": "stream",
     "text": [
      "2023-08-15 09:03:54,170 - stpipe - INFO - -----  Sky statistics parameters:  -----\n"
     ]
    },
    {
     "name": "stdout",
     "output_type": "stream",
     "text": [
      "-----  Sky statistics parameters:  -----\n"
     ]
    },
    {
     "name": "stderr",
     "output_type": "stream",
     "text": [
      "2023-08-15 09:03:54,172 - stpipe - INFO -        statistics function: 'median'\n"
     ]
    },
    {
     "name": "stdout",
     "output_type": "stream",
     "text": [
      "       statistics function: 'median'\n"
     ]
    },
    {
     "name": "stderr",
     "output_type": "stream",
     "text": [
      "2023-08-15 09:03:54,175 - stpipe - INFO -        lower = None\n"
     ]
    },
    {
     "name": "stdout",
     "output_type": "stream",
     "text": [
      "       lower = None\n"
     ]
    },
    {
     "name": "stderr",
     "output_type": "stream",
     "text": [
      "2023-08-15 09:03:54,176 - stpipe - INFO -        upper = None\n"
     ]
    },
    {
     "name": "stdout",
     "output_type": "stream",
     "text": [
      "       upper = None\n"
     ]
    },
    {
     "name": "stderr",
     "output_type": "stream",
     "text": [
      "2023-08-15 09:03:54,178 - stpipe - INFO -        nclip = 5\n"
     ]
    },
    {
     "name": "stdout",
     "output_type": "stream",
     "text": [
      "       nclip = 5\n"
     ]
    },
    {
     "name": "stderr",
     "output_type": "stream",
     "text": [
      "2023-08-15 09:03:54,180 - stpipe - INFO -        lsigma = 4.0\n"
     ]
    },
    {
     "name": "stdout",
     "output_type": "stream",
     "text": [
      "       lsigma = 4.0\n"
     ]
    },
    {
     "name": "stderr",
     "output_type": "stream",
     "text": [
      "2023-08-15 09:03:54,181 - stpipe - INFO -        usigma = 4.0\n"
     ]
    },
    {
     "name": "stdout",
     "output_type": "stream",
     "text": [
      "       usigma = 4.0\n"
     ]
    },
    {
     "name": "stderr",
     "output_type": "stream",
     "text": [
      "2023-08-15 09:03:54,183 - stpipe - INFO -        binwidth = 0.1\n"
     ]
    },
    {
     "name": "stdout",
     "output_type": "stream",
     "text": [
      "       binwidth = 0.1\n"
     ]
    },
    {
     "name": "stderr",
     "output_type": "stream",
     "text": [
      "2023-08-15 09:03:54,184 - stpipe - INFO - \n"
     ]
    },
    {
     "name": "stdout",
     "output_type": "stream",
     "text": [
      "\n"
     ]
    },
    {
     "name": "stderr",
     "output_type": "stream",
     "text": [
      "2023-08-15 09:03:54,186 - stpipe - INFO - -----  Data->Brightness conversion parameters for input files:  -----\n"
     ]
    },
    {
     "name": "stdout",
     "output_type": "stream",
     "text": [
      "-----  Data->Brightness conversion parameters for input files:  -----\n"
     ]
    },
    {
     "name": "stderr",
     "output_type": "stream",
     "text": [
      "2023-08-15 09:03:54,188 - stpipe - INFO - \n"
     ]
    },
    {
     "name": "stdout",
     "output_type": "stream",
     "text": [
      "\n"
     ]
    },
    {
     "name": "stderr",
     "output_type": "stream",
     "text": [
      "2023-08-15 09:03:54,189 - stpipe - INFO -    *   Image: jw02514197001_02201_00001_nrcalong_rate.fits\n"
     ]
    },
    {
     "name": "stdout",
     "output_type": "stream",
     "text": [
      "   *   Image: jw02514197001_02201_00001_nrcalong_rate.fits\n"
     ]
    },
    {
     "name": "stderr",
     "output_type": "stream",
     "text": [
      "2023-08-15 09:03:54,223 - stpipe - INFO -        EXT = 'SCI',1\n"
     ]
    },
    {
     "name": "stdout",
     "output_type": "stream",
     "text": [
      "       EXT = 'SCI',1\n"
     ]
    },
    {
     "name": "stderr",
     "output_type": "stream",
     "text": [
      "2023-08-15 09:03:54,225 - stpipe - INFO -              Data units type: COUNT-RATE\n"
     ]
    },
    {
     "name": "stdout",
     "output_type": "stream",
     "text": [
      "             Data units type: COUNT-RATE\n"
     ]
    },
    {
     "name": "stderr",
     "output_type": "stream",
     "text": [
      "2023-08-15 09:03:54,227 - stpipe - INFO -              Conversion factor (data->brightness):  252.62636812843786\n"
     ]
    },
    {
     "name": "stdout",
     "output_type": "stream",
     "text": [
      "             Conversion factor (data->brightness):  252.62636812843786\n"
     ]
    },
    {
     "name": "stderr",
     "output_type": "stream",
     "text": [
      "2023-08-15 09:03:54,230 - stpipe - INFO - \n"
     ]
    },
    {
     "name": "stdout",
     "output_type": "stream",
     "text": [
      "\n"
     ]
    },
    {
     "name": "stderr",
     "output_type": "stream",
     "text": [
      "2023-08-15 09:03:54,232 - stpipe - INFO -    *   Image: jw02514197001_02201_00002_nrcalong_rate.fits\n"
     ]
    },
    {
     "name": "stdout",
     "output_type": "stream",
     "text": [
      "   *   Image: jw02514197001_02201_00002_nrcalong_rate.fits\n"
     ]
    },
    {
     "name": "stderr",
     "output_type": "stream",
     "text": [
      "2023-08-15 09:03:54,253 - stpipe - INFO -        EXT = 'SCI',1\n"
     ]
    },
    {
     "name": "stdout",
     "output_type": "stream",
     "text": [
      "       EXT = 'SCI',1\n"
     ]
    },
    {
     "name": "stderr",
     "output_type": "stream",
     "text": [
      "2023-08-15 09:03:54,255 - stpipe - INFO -              Data units type: COUNT-RATE\n"
     ]
    },
    {
     "name": "stdout",
     "output_type": "stream",
     "text": [
      "             Data units type: COUNT-RATE\n"
     ]
    },
    {
     "name": "stderr",
     "output_type": "stream",
     "text": [
      "2023-08-15 09:03:54,257 - stpipe - INFO -              Conversion factor (data->brightness):  252.62636883294763\n"
     ]
    },
    {
     "name": "stdout",
     "output_type": "stream",
     "text": [
      "             Conversion factor (data->brightness):  252.62636883294763\n"
     ]
    },
    {
     "name": "stderr",
     "output_type": "stream",
     "text": [
      "2023-08-15 09:03:54,259 - stpipe - INFO - \n"
     ]
    },
    {
     "name": "stdout",
     "output_type": "stream",
     "text": [
      "\n"
     ]
    },
    {
     "name": "stderr",
     "output_type": "stream",
     "text": [
      "2023-08-15 09:03:54,261 - stpipe - INFO -    *   Image: jw02514197001_02201_00003_nrcalong_rate.fits\n"
     ]
    },
    {
     "name": "stdout",
     "output_type": "stream",
     "text": [
      "   *   Image: jw02514197001_02201_00003_nrcalong_rate.fits\n"
     ]
    },
    {
     "name": "stderr",
     "output_type": "stream",
     "text": [
      "2023-08-15 09:03:54,297 - stpipe - INFO -        EXT = 'SCI',1\n"
     ]
    },
    {
     "name": "stdout",
     "output_type": "stream",
     "text": [
      "       EXT = 'SCI',1\n"
     ]
    },
    {
     "name": "stderr",
     "output_type": "stream",
     "text": [
      "2023-08-15 09:03:54,299 - stpipe - INFO -              Data units type: COUNT-RATE\n"
     ]
    },
    {
     "name": "stdout",
     "output_type": "stream",
     "text": [
      "             Data units type: COUNT-RATE\n"
     ]
    },
    {
     "name": "stderr",
     "output_type": "stream",
     "text": [
      "2023-08-15 09:03:54,300 - stpipe - INFO -              Conversion factor (data->brightness):  252.62637213509916\n"
     ]
    },
    {
     "name": "stdout",
     "output_type": "stream",
     "text": [
      "             Conversion factor (data->brightness):  252.62637213509916\n"
     ]
    },
    {
     "name": "stderr",
     "output_type": "stream",
     "text": [
      "2023-08-15 09:03:54,303 - stpipe - INFO - \n"
     ]
    },
    {
     "name": "stdout",
     "output_type": "stream",
     "text": [
      "\n"
     ]
    },
    {
     "name": "stderr",
     "output_type": "stream",
     "text": [
      "2023-08-15 09:03:54,305 - stpipe - INFO -    *   Image: jw02514197001_02201_00004_nrcalong_rate.fits\n"
     ]
    },
    {
     "name": "stdout",
     "output_type": "stream",
     "text": [
      "   *   Image: jw02514197001_02201_00004_nrcalong_rate.fits\n"
     ]
    },
    {
     "name": "stderr",
     "output_type": "stream",
     "text": [
      "2023-08-15 09:03:54,329 - stpipe - INFO -        EXT = 'SCI',1\n"
     ]
    },
    {
     "name": "stdout",
     "output_type": "stream",
     "text": [
      "       EXT = 'SCI',1\n"
     ]
    },
    {
     "name": "stderr",
     "output_type": "stream",
     "text": [
      "2023-08-15 09:03:54,330 - stpipe - INFO -              Data units type: COUNT-RATE\n"
     ]
    },
    {
     "name": "stdout",
     "output_type": "stream",
     "text": [
      "             Data units type: COUNT-RATE\n"
     ]
    },
    {
     "name": "stderr",
     "output_type": "stream",
     "text": [
      "2023-08-15 09:03:54,332 - stpipe - INFO -              Conversion factor (data->brightness):  252.62637383681337\n"
     ]
    },
    {
     "name": "stdout",
     "output_type": "stream",
     "text": [
      "             Conversion factor (data->brightness):  252.62637383681337\n"
     ]
    },
    {
     "name": "stderr",
     "output_type": "stream",
     "text": [
      "2023-08-15 09:03:54,334 - stpipe - INFO - \n"
     ]
    },
    {
     "name": "stdout",
     "output_type": "stream",
     "text": [
      "\n"
     ]
    },
    {
     "name": "stderr",
     "output_type": "stream",
     "text": [
      "2023-08-15 09:03:54,336 - stpipe - INFO - \n"
     ]
    },
    {
     "name": "stdout",
     "output_type": "stream",
     "text": [
      "\n"
     ]
    },
    {
     "name": "stderr",
     "output_type": "stream",
     "text": [
      "2023-08-15 09:03:54,338 - stpipe - INFO - -----  Computing sky values requested image extensions (detector chips):  -----\n"
     ]
    },
    {
     "name": "stdout",
     "output_type": "stream",
     "text": [
      "-----  Computing sky values requested image extensions (detector chips):  -----\n"
     ]
    },
    {
     "name": "stderr",
     "output_type": "stream",
     "text": [
      "2023-08-15 09:03:54,340 - stpipe - INFO - \n"
     ]
    },
    {
     "name": "stdout",
     "output_type": "stream",
     "text": [
      "\n"
     ]
    },
    {
     "name": "stderr",
     "output_type": "stream",
     "text": [
      "2023-08-15 09:03:54,479 - stpipe - INFO -    *   Image:   'jw02514197001_02201_00001_nrcalong_rate.fits['SCI',1]'  --  SKY = 66.49803227612931 (brightness units)\n"
     ]
    },
    {
     "name": "stdout",
     "output_type": "stream",
     "text": [
      "   *   Image:   'jw02514197001_02201_00001_nrcalong_rate.fits['SCI',1]'  --  SKY = 66.49803227612931 (brightness units)\n"
     ]
    },
    {
     "name": "stderr",
     "output_type": "stream",
     "text": [
      "2023-08-15 09:03:54,480 - stpipe - INFO -        Sky change (data units):\n"
     ]
    },
    {
     "name": "stdout",
     "output_type": "stream",
     "text": [
      "       Sky change (data units):\n"
     ]
    },
    {
     "name": "stderr",
     "output_type": "stream",
     "text": [
      "2023-08-15 09:03:54,482 - stpipe - INFO -       - EXT = 'SCI',1   delta(MDRIZSKY) = 0.263227   NEW MDRIZSKY = 0.263227\n"
     ]
    },
    {
     "name": "stdout",
     "output_type": "stream",
     "text": [
      "      - EXT = 'SCI',1   delta(MDRIZSKY) = 0.263227   NEW MDRIZSKY = 0.263227\n"
     ]
    },
    {
     "name": "stderr",
     "output_type": "stream",
     "text": [
      "2023-08-15 09:03:54,615 - stpipe - INFO -    *   Image:   'jw02514197001_02201_00002_nrcalong_rate.fits['SCI',1]'  --  SKY = 65.58841156172923 (brightness units)\n"
     ]
    },
    {
     "name": "stdout",
     "output_type": "stream",
     "text": [
      "   *   Image:   'jw02514197001_02201_00002_nrcalong_rate.fits['SCI',1]'  --  SKY = 65.58841156172923 (brightness units)\n"
     ]
    },
    {
     "name": "stderr",
     "output_type": "stream",
     "text": [
      "2023-08-15 09:03:54,617 - stpipe - INFO -        Sky change (data units):\n"
     ]
    },
    {
     "name": "stdout",
     "output_type": "stream",
     "text": [
      "       Sky change (data units):\n"
     ]
    },
    {
     "name": "stderr",
     "output_type": "stream",
     "text": [
      "2023-08-15 09:03:54,618 - stpipe - INFO -       - EXT = 'SCI',1   delta(MDRIZSKY) = 0.259626   NEW MDRIZSKY = 0.259626\n"
     ]
    },
    {
     "name": "stdout",
     "output_type": "stream",
     "text": [
      "      - EXT = 'SCI',1   delta(MDRIZSKY) = 0.259626   NEW MDRIZSKY = 0.259626\n"
     ]
    },
    {
     "name": "stderr",
     "output_type": "stream",
     "text": [
      "2023-08-15 09:03:54,751 - stpipe - INFO -    *   Image:   'jw02514197001_02201_00003_nrcalong_rate.fits['SCI',1]'  --  SKY = 66.76675313728963 (brightness units)\n"
     ]
    },
    {
     "name": "stdout",
     "output_type": "stream",
     "text": [
      "   *   Image:   'jw02514197001_02201_00003_nrcalong_rate.fits['SCI',1]'  --  SKY = 66.76675313728963 (brightness units)\n"
     ]
    },
    {
     "name": "stderr",
     "output_type": "stream",
     "text": [
      "2023-08-15 09:03:54,753 - stpipe - INFO -        Sky change (data units):\n"
     ]
    },
    {
     "name": "stdout",
     "output_type": "stream",
     "text": [
      "       Sky change (data units):\n"
     ]
    },
    {
     "name": "stderr",
     "output_type": "stream",
     "text": [
      "2023-08-15 09:03:54,755 - stpipe - INFO -       - EXT = 'SCI',1   delta(MDRIZSKY) = 0.264291   NEW MDRIZSKY = 0.264291\n"
     ]
    },
    {
     "name": "stdout",
     "output_type": "stream",
     "text": [
      "      - EXT = 'SCI',1   delta(MDRIZSKY) = 0.264291   NEW MDRIZSKY = 0.264291\n"
     ]
    },
    {
     "name": "stderr",
     "output_type": "stream",
     "text": [
      "2023-08-15 09:03:54,889 - stpipe - INFO -    *   Image:   'jw02514197001_02201_00004_nrcalong_rate.fits['SCI',1]'  --  SKY = 66.29889562648555 (brightness units)\n"
     ]
    },
    {
     "name": "stdout",
     "output_type": "stream",
     "text": [
      "   *   Image:   'jw02514197001_02201_00004_nrcalong_rate.fits['SCI',1]'  --  SKY = 66.29889562648555 (brightness units)\n"
     ]
    },
    {
     "name": "stderr",
     "output_type": "stream",
     "text": [
      "2023-08-15 09:03:54,891 - stpipe - INFO -        Sky change (data units):\n"
     ]
    },
    {
     "name": "stdout",
     "output_type": "stream",
     "text": [
      "       Sky change (data units):\n"
     ]
    },
    {
     "name": "stderr",
     "output_type": "stream",
     "text": [
      "2023-08-15 09:03:54,892 - stpipe - INFO -       - EXT = 'SCI',1   delta(MDRIZSKY) = 0.262439   NEW MDRIZSKY = 0.262439\n"
     ]
    },
    {
     "name": "stdout",
     "output_type": "stream",
     "text": [
      "      - EXT = 'SCI',1   delta(MDRIZSKY) = 0.262439   NEW MDRIZSKY = 0.262439\n"
     ]
    },
    {
     "name": "stderr",
     "output_type": "stream",
     "text": [
      "2023-08-15 09:03:54,895 - stpipe - INFO - ***** skymatch ended on 2023-08-15 09:03:54.894968\n"
     ]
    },
    {
     "name": "stdout",
     "output_type": "stream",
     "text": [
      "***** skymatch ended on 2023-08-15 09:03:54.894968\n"
     ]
    },
    {
     "name": "stderr",
     "output_type": "stream",
     "text": [
      "2023-08-15 09:03:54,896 - stpipe - INFO - TOTAL RUN TIME: 0:00:00.788787\n"
     ]
    },
    {
     "name": "stdout",
     "output_type": "stream",
     "text": [
      "TOTAL RUN TIME: 0:00:00.788787\n"
     ]
    },
    {
     "name": "stderr",
     "output_type": "stream",
     "text": [
      "2023-08-15 09:03:54,963 - stpipe - INFO - ==== Processing Step Subtract Sky finished at 09:03:54.96 (15/08/2023)\n"
     ]
    },
    {
     "name": "stdout",
     "output_type": "stream",
     "text": [
      "==== Processing Step Subtract Sky finished at 09:03:54.96 (15/08/2023)\n"
     ]
    },
    {
     "name": "stderr",
     "output_type": "stream",
     "text": [
      "2023-08-15 09:03:54,965 - stpipe - INFO - ==== Processing Step  Separate Drizzle  started at  09:03:54.965 (15/08/2023)\n"
     ]
    },
    {
     "name": "stdout",
     "output_type": "stream",
     "text": [
      "==== Processing Step  Separate Drizzle  started at  09:03:54.965 (15/08/2023)\n"
     ]
    },
    {
     "name": "stderr",
     "output_type": "stream",
     "text": [
      "2023-08-15 09:03:54,967 - stpipe - INFO - \n"
     ]
    },
    {
     "name": "stdout",
     "output_type": "stream",
     "text": [
      "\n"
     ]
    },
    {
     "name": "stderr",
     "output_type": "stream",
     "text": [
      "2023-08-15 09:03:54,969 - stpipe - INFO - Single drizzle step not performed.\n",
      "2023-08-15 09:03:54,970 - stpipe - INFO - ==== Processing Step Separate Drizzle finished at 09:03:54.97 (15/08/2023)\n"
     ]
    },
    {
     "name": "stdout",
     "output_type": "stream",
     "text": [
      "==== Processing Step Separate Drizzle finished at 09:03:54.97 (15/08/2023)\n"
     ]
    },
    {
     "name": "stderr",
     "output_type": "stream",
     "text": [
      "2023-08-15 09:03:54,972 - stpipe - INFO - ==== Processing Step  Create Median  started at  09:03:54.97 (15/08/2023)\n"
     ]
    },
    {
     "name": "stdout",
     "output_type": "stream",
     "text": [
      "==== Processing Step  Create Median  started at  09:03:54.97 (15/08/2023)\n"
     ]
    },
    {
     "name": "stderr",
     "output_type": "stream",
     "text": [
      "2023-08-15 09:03:54,974 - stpipe - INFO - \n"
     ]
    },
    {
     "name": "stdout",
     "output_type": "stream",
     "text": [
      "\n"
     ]
    },
    {
     "name": "stderr",
     "output_type": "stream",
     "text": [
      "2023-08-15 09:03:54,976 - stpipe - INFO - Median combination step not performed.\n",
      "2023-08-15 09:03:54,977 - stpipe - INFO - ==== Processing Step  Blot  started at  09:03:54.97 (15/08/2023)\n"
     ]
    },
    {
     "name": "stdout",
     "output_type": "stream",
     "text": [
      "==== Processing Step  Blot  started at  09:03:54.97 (15/08/2023)\n"
     ]
    },
    {
     "name": "stderr",
     "output_type": "stream",
     "text": [
      "2023-08-15 09:03:54,979 - stpipe - INFO - \n"
     ]
    },
    {
     "name": "stdout",
     "output_type": "stream",
     "text": [
      "\n"
     ]
    },
    {
     "name": "stderr",
     "output_type": "stream",
     "text": [
      "2023-08-15 09:03:54,982 - stpipe - INFO - Blot step not performed.\n",
      "2023-08-15 09:03:54,983 - stpipe - INFO - ==== Processing Step Blot finished at 09:03:54.982 (15/08/2023)\n"
     ]
    },
    {
     "name": "stdout",
     "output_type": "stream",
     "text": [
      "==== Processing Step Blot finished at 09:03:54.982 (15/08/2023)\n"
     ]
    },
    {
     "name": "stderr",
     "output_type": "stream",
     "text": [
      "2023-08-15 09:03:54,985 - stpipe - INFO - ==== Processing Step  Driz_CR  started at  09:03:54.9 (15/08/2023)\n"
     ]
    },
    {
     "name": "stdout",
     "output_type": "stream",
     "text": [
      "==== Processing Step  Driz_CR  started at  09:03:54.9 (15/08/2023)\n"
     ]
    },
    {
     "name": "stderr",
     "output_type": "stream",
     "text": [
      "2023-08-15 09:03:54,987 - stpipe - INFO - \n"
     ]
    },
    {
     "name": "stdout",
     "output_type": "stream",
     "text": [
      "\n"
     ]
    },
    {
     "name": "stderr",
     "output_type": "stream",
     "text": [
      "2023-08-15 09:03:54,989 - stpipe - INFO - Cosmic-ray identification (driz_cr) step not performed.\n",
      "2023-08-15 09:03:54,990 - stpipe - INFO - ==== Processing Step  Final Drizzle  started at  09:03:54.990 (15/08/2023)\n"
     ]
    },
    {
     "name": "stdout",
     "output_type": "stream",
     "text": [
      "==== Processing Step  Final Drizzle  started at  09:03:54.990 (15/08/2023)\n"
     ]
    },
    {
     "name": "stderr",
     "output_type": "stream",
     "text": [
      "2023-08-15 09:03:54,992 - stpipe - INFO - \n"
     ]
    },
    {
     "name": "stdout",
     "output_type": "stream",
     "text": [
      "\n"
     ]
    },
    {
     "name": "stderr",
     "output_type": "stream",
     "text": [
      "2023-08-15 09:03:54,994 - stpipe - INFO - Interpreted paramDict with single=False as:\n",
      "2023-08-15 09:03:54,995 - stpipe - INFO - {'build': False, 'stepsize': 10, 'coeffs': True, 'wcskey': '', 'wht_type': 'IVM', 'kernel': 'square', 'wt_scl': 'exptime', 'pixfrac': 0.8, 'fillval': None, 'maskval': None, 'bits': 4, 'units': 'cps'}\n",
      "2023-08-15 09:03:54,995 - stpipe - INFO - USER INPUT PARAMETERS for Final Drizzle Step:\n",
      "2023-08-15 09:03:54,996 - stpipe - INFO - \tbits :\t4\n",
      "2023-08-15 09:03:54,997 - stpipe - INFO - \tbuild :\tFalse\n",
      "2023-08-15 09:03:54,998 - stpipe - INFO - \tclean :\tTrue\n",
      "2023-08-15 09:03:54,998 - stpipe - INFO - \tcoeffs :\tTrue\n",
      "2023-08-15 09:03:54,999 - stpipe - INFO - \tcrbit :\t4096\n",
      "2023-08-15 09:03:55,000 - stpipe - INFO - \tfillval :\tNone\n",
      "2023-08-15 09:03:55,001 - stpipe - INFO - \tkernel :\tsquare\n",
      "2023-08-15 09:03:55,002 - stpipe - INFO - \tlogfile :\tastrodrizzle.log\n",
      "2023-08-15 09:03:55,003 - stpipe - INFO - \tmaskval :\tNone\n",
      "2023-08-15 09:03:55,004 - stpipe - INFO - \tpixfrac :\t0.8\n",
      "2023-08-15 09:03:55,005 - stpipe - INFO - \tproc_unit :\tnative\n",
      "2023-08-15 09:03:55,006 - stpipe - INFO - \trules_file :\tNone\n",
      "2023-08-15 09:03:55,007 - stpipe - INFO - \tstepsize :\t10\n",
      "2023-08-15 09:03:55,008 - stpipe - INFO - \tunits :\tcps\n",
      "2023-08-15 09:03:55,009 - stpipe - INFO - \twcskey :\t\n",
      "2023-08-15 09:03:55,010 - stpipe - INFO - \twht_type :\tIVM\n",
      "2023-08-15 09:03:55,010 - stpipe - INFO - \twt_scl :\texptime\n",
      "2023-08-15 09:03:55,011 - stpipe - INFO -   **Using sub-sampling value of 10 for kernel square\n",
      "2023-08-15 09:03:55,012 - stpipe - INFO - Running Drizzle to create output frame with WCS of: \n",
      "2023-08-15 09:03:55,013 - stpipe - INFO - WCS Keywords\n"
     ]
    },
    {
     "name": "stdout",
     "output_type": "stream",
     "text": [
      "WCS Keywords\n"
     ]
    },
    {
     "name": "stderr",
     "output_type": "stream",
     "text": [
      "2023-08-15 09:03:55,015 - stpipe - INFO - \n"
     ]
    },
    {
     "name": "stdout",
     "output_type": "stream",
     "text": [
      "\n"
     ]
    },
    {
     "name": "stderr",
     "output_type": "stream",
     "text": [
      "2023-08-15 09:03:55,017 - stpipe - INFO - Number of WCS axes: 2\n"
     ]
    },
    {
     "name": "stdout",
     "output_type": "stream",
     "text": [
      "Number of WCS axes: 2\n"
     ]
    },
    {
     "name": "stderr",
     "output_type": "stream",
     "text": [
      "2023-08-15 09:03:55,019 - stpipe - INFO - CTYPE : 'RA---TAN'  'DEC--TAN'  \n"
     ]
    },
    {
     "name": "stdout",
     "output_type": "stream",
     "text": [
      "CTYPE : 'RA---TAN'  'DEC--TAN'  \n"
     ]
    },
    {
     "name": "stderr",
     "output_type": "stream",
     "text": [
      "2023-08-15 09:03:55,020 - stpipe - INFO - CRVAL : 23.683811214865685  -15.507445512250277  \n"
     ]
    },
    {
     "name": "stdout",
     "output_type": "stream",
     "text": [
      "CRVAL : 23.683811214865685  -15.507445512250277  \n"
     ]
    },
    {
     "name": "stderr",
     "output_type": "stream",
     "text": [
      "2023-08-15 09:03:55,023 - stpipe - INFO - CRPIX : 1054.0  1046.0  \n"
     ]
    },
    {
     "name": "stdout",
     "output_type": "stream",
     "text": [
      "CRPIX : 1054.0  1046.0  \n"
     ]
    },
    {
     "name": "stderr",
     "output_type": "stream",
     "text": [
      "2023-08-15 09:03:55,024 - stpipe - INFO - CD1_1 CD1_2  : 2.5025752099369816e-06  -1.7296542196802506e-05  \n"
     ]
    },
    {
     "name": "stdout",
     "output_type": "stream",
     "text": [
      "CD1_1 CD1_2  : 2.5025752099369816e-06  -1.7296542196802506e-05  \n"
     ]
    },
    {
     "name": "stderr",
     "output_type": "stream",
     "text": [
      "2023-08-15 09:03:55,027 - stpipe - INFO - CD2_1 CD2_2  : -1.7296542196802506e-05  -2.5025752099369816e-06  \n"
     ]
    },
    {
     "name": "stdout",
     "output_type": "stream",
     "text": [
      "CD2_1 CD2_2  : -1.7296542196802506e-05  -2.5025752099369816e-06  \n"
     ]
    },
    {
     "name": "stderr",
     "output_type": "stream",
     "text": [
      "2023-08-15 09:03:55,028 - stpipe - INFO - NAXIS : 2108  2092\n"
     ]
    },
    {
     "name": "stdout",
     "output_type": "stream",
     "text": [
      "NAXIS : 2108  2092\n"
     ]
    },
    {
     "name": "stderr",
     "output_type": "stream",
     "text": [
      "2023-08-15 09:03:55,034 - stpipe - INFO - -Drizzle input: jw02514197001_02201_00001_nrcalong_rate.fits[sci,1]\n",
      "2023-08-15 09:03:55,057 - stpipe - INFO - Applying sky value of 0.263227 to jw02514197001_02201_00001_nrcalong_rate.fits[sci,1]\n",
      "2023-08-15 09:03:55,070 - stpipe - WARNING - No CR mask file found! Input DQ array not updated.\n",
      "2023-08-15 09:03:55,071 - stpipe - INFO - Automatically creating IVM files for chip 1\n",
      "2023-08-15 09:03:55,075 - stpipe - WARNING - Cannot find flat field file 'jwst_nircam_flat_0574.fits'\n",
      "2023-08-15 09:03:55,075 - stpipe - WARNING - Treating flatfield as a constant value of '1'.\n",
      "2023-08-15 09:03:55,106 - stpipe - INFO - Using WCSLIB-based coordinate transformation...\n",
      "2023-08-15 09:03:55,107 - stpipe - INFO - stepsize = 10\n",
      "2023-08-15 09:03:55,120 - stpipe - INFO - -Drizzling using kernel = square\n",
      "2023-08-15 09:03:55,121 - stpipe - INFO - \n",
      "2023-08-15 09:03:55,899 - stpipe - INFO - -Drizzle input: jw02514197001_02201_00002_nrcalong_rate.fits[sci,1]\n",
      "2023-08-15 09:03:55,926 - stpipe - INFO - Applying sky value of 0.259626 to jw02514197001_02201_00002_nrcalong_rate.fits[sci,1]\n",
      "2023-08-15 09:03:55,936 - stpipe - WARNING - No CR mask file found! Input DQ array not updated.\n",
      "2023-08-15 09:03:55,937 - stpipe - INFO - Automatically creating IVM files for chip 1\n",
      "2023-08-15 09:03:55,939 - stpipe - WARNING - Cannot find flat field file 'jwst_nircam_flat_0574.fits'\n",
      "2023-08-15 09:03:55,940 - stpipe - WARNING - Treating flatfield as a constant value of '1'.\n",
      "2023-08-15 09:03:55,969 - stpipe - INFO - Using WCSLIB-based coordinate transformation...\n",
      "2023-08-15 09:03:55,970 - stpipe - INFO - stepsize = 10\n",
      "2023-08-15 09:03:55,985 - stpipe - INFO - -Drizzling using kernel = square\n",
      "2023-08-15 09:03:55,986 - stpipe - INFO - \n",
      "2023-08-15 09:03:56,749 - stpipe - INFO - -Drizzle input: jw02514197001_02201_00003_nrcalong_rate.fits[sci,1]\n",
      "2023-08-15 09:03:56,771 - stpipe - INFO - Applying sky value of 0.264291 to jw02514197001_02201_00003_nrcalong_rate.fits[sci,1]\n",
      "2023-08-15 09:03:56,781 - stpipe - WARNING - No CR mask file found! Input DQ array not updated.\n",
      "2023-08-15 09:03:56,783 - stpipe - INFO - Automatically creating IVM files for chip 1\n",
      "2023-08-15 09:03:56,785 - stpipe - WARNING - Cannot find flat field file 'jwst_nircam_flat_0574.fits'\n",
      "2023-08-15 09:03:56,787 - stpipe - WARNING - Treating flatfield as a constant value of '1'.\n",
      "2023-08-15 09:03:56,809 - stpipe - INFO - Using WCSLIB-based coordinate transformation...\n",
      "2023-08-15 09:03:56,810 - stpipe - INFO - stepsize = 10\n",
      "2023-08-15 09:03:56,823 - stpipe - INFO - -Drizzling using kernel = square\n",
      "2023-08-15 09:03:56,824 - stpipe - INFO - \n",
      "2023-08-15 09:03:57,510 - stpipe - INFO - -Drizzle input: jw02514197001_02201_00004_nrcalong_rate.fits[sci,1]\n",
      "2023-08-15 09:03:57,534 - stpipe - INFO - Applying sky value of 0.262439 to jw02514197001_02201_00004_nrcalong_rate.fits[sci,1]\n",
      "2023-08-15 09:03:57,544 - stpipe - WARNING - No CR mask file found! Input DQ array not updated.\n",
      "2023-08-15 09:03:57,545 - stpipe - INFO - Automatically creating IVM files for chip 1\n",
      "2023-08-15 09:03:57,548 - stpipe - WARNING - Cannot find flat field file 'jwst_nircam_flat_0574.fits'\n",
      "2023-08-15 09:03:57,548 - stpipe - WARNING - Treating flatfield as a constant value of '1'.\n",
      "2023-08-15 09:03:57,571 - stpipe - INFO - Using WCSLIB-based coordinate transformation...\n",
      "2023-08-15 09:03:57,571 - stpipe - INFO - stepsize = 10\n",
      "2023-08-15 09:03:57,585 - stpipe - INFO - -Drizzling using kernel = square\n",
      "2023-08-15 09:03:57,585 - stpipe - INFO - \n",
      "2023-08-15 09:03:58,275 - stpipe - INFO - Deleting previous output product: indef-02514-197-262.0-nrca5-f444w-clear_drz_sci.fits\n",
      "2023-08-15 09:03:58,278 - stpipe - INFO - Deleting previous output WHT product: indef-02514-197-262.0-nrca5-f444w-clear_drz_wht.fits\n",
      "2023-08-15 09:03:58,880 - stpipe - INFO - -Generating simple FITS output: indef-02514-197-262.0-nrca5-f444w-clear_drz_sci.fits\n"
     ]
    },
    {
     "name": "stdout",
     "output_type": "stream",
     "text": [
      "-Generating simple FITS output: indef-02514-197-262.0-nrca5-f444w-clear_drz_sci.fits\n"
     ]
    },
    {
     "name": "stderr",
     "output_type": "stream",
     "text": [
      "2023-08-15 09:03:59,045 - stpipe - INFO - Writing out image to disk: indef-02514-197-262.0-nrca5-f444w-clear_drz_sci.fits\n"
     ]
    },
    {
     "name": "stdout",
     "output_type": "stream",
     "text": [
      "Writing out image to disk: indef-02514-197-262.0-nrca5-f444w-clear_drz_sci.fits\n"
     ]
    },
    {
     "name": "stderr",
     "output_type": "stream",
     "text": [
      "2023-08-15 09:03:59,192 - stpipe - INFO - Writing out image to disk: indef-02514-197-262.0-nrca5-f444w-clear_drz_wht.fits\n"
     ]
    },
    {
     "name": "stdout",
     "output_type": "stream",
     "text": [
      "Writing out image to disk: indef-02514-197-262.0-nrca5-f444w-clear_drz_wht.fits\n"
     ]
    },
    {
     "name": "stderr",
     "output_type": "stream",
     "text": [
      "2023-08-15 09:03:59,223 - stpipe - INFO - ==== Processing Step Final Drizzle finished at 09:03:59.223 (15/08/2023)\n"
     ]
    },
    {
     "name": "stdout",
     "output_type": "stream",
     "text": [
      "==== Processing Step Final Drizzle finished at 09:03:59.223 (15/08/2023)\n"
     ]
    },
    {
     "name": "stderr",
     "output_type": "stream",
     "text": [
      "2023-08-15 09:03:59,226 - stpipe - INFO - \n"
     ]
    },
    {
     "name": "stdout",
     "output_type": "stream",
     "text": [
      "\n"
     ]
    },
    {
     "name": "stderr",
     "output_type": "stream",
     "text": [
      "2023-08-15 09:03:59,233 - stpipe - INFO - AstroDrizzle Version 3.6.1 is finished processing at 09:03:59.233 (15/08/2023).\n"
     ]
    },
    {
     "name": "stdout",
     "output_type": "stream",
     "text": [
      "AstroDrizzle Version 3.6.1 is finished processing at 09:03:59.233 (15/08/2023).\n"
     ]
    },
    {
     "name": "stderr",
     "output_type": "stream",
     "text": [
      "2023-08-15 09:03:59,235 - stpipe - INFO - \n"
     ]
    },
    {
     "name": "stdout",
     "output_type": "stream",
     "text": [
      "\n"
     ]
    },
    {
     "name": "stderr",
     "output_type": "stream",
     "text": [
      "2023-08-15 09:03:59,238 - stpipe - INFO - \n"
     ]
    },
    {
     "name": "stdout",
     "output_type": "stream",
     "text": [
      "\n"
     ]
    },
    {
     "name": "stderr",
     "output_type": "stream",
     "text": [
      "2023-08-15 09:03:59,241 - stpipe - INFO - \n"
     ]
    },
    {
     "name": "stdout",
     "output_type": "stream",
     "text": [
      "\n"
     ]
    },
    {
     "name": "stderr",
     "output_type": "stream",
     "text": [
      "2023-08-15 09:03:59,242 - stpipe - INFO -    --------------------          --------------------\n"
     ]
    },
    {
     "name": "stdout",
     "output_type": "stream",
     "text": [
      "   --------------------          --------------------\n"
     ]
    },
    {
     "name": "stderr",
     "output_type": "stream",
     "text": [
      "2023-08-15 09:03:59,244 - stpipe - INFO -                    Step          Elapsed time\n"
     ]
    },
    {
     "name": "stdout",
     "output_type": "stream",
     "text": [
      "                   Step          Elapsed time\n"
     ]
    },
    {
     "name": "stderr",
     "output_type": "stream",
     "text": [
      "2023-08-15 09:03:59,246 - stpipe - INFO -    --------------------          --------------------\n"
     ]
    },
    {
     "name": "stdout",
     "output_type": "stream",
     "text": [
      "   --------------------          --------------------\n"
     ]
    },
    {
     "name": "stderr",
     "output_type": "stream",
     "text": [
      "2023-08-15 09:03:59,248 - stpipe - INFO - \n"
     ]
    },
    {
     "name": "stdout",
     "output_type": "stream",
     "text": [
      "\n"
     ]
    },
    {
     "name": "stderr",
     "output_type": "stream",
     "text": [
      "2023-08-15 09:03:59,250 - stpipe - INFO -          Initialization          0.6470 sec.\n"
     ]
    },
    {
     "name": "stdout",
     "output_type": "stream",
     "text": [
      "         Initialization          0.6470 sec.\n"
     ]
    },
    {
     "name": "stderr",
     "output_type": "stream",
     "text": [
      "2023-08-15 09:03:59,255 - stpipe - INFO -             Static Mask          0.0049 sec.\n"
     ]
    },
    {
     "name": "stdout",
     "output_type": "stream",
     "text": [
      "            Static Mask          0.0049 sec.\n"
     ]
    },
    {
     "name": "stderr",
     "output_type": "stream",
     "text": [
      "2023-08-15 09:03:59,257 - stpipe - INFO -            Subtract Sky          0.9644 sec.\n"
     ]
    },
    {
     "name": "stdout",
     "output_type": "stream",
     "text": [
      "           Subtract Sky          0.9644 sec.\n"
     ]
    },
    {
     "name": "stderr",
     "output_type": "stream",
     "text": [
      "2023-08-15 09:03:59,259 - stpipe - INFO -        Separate Drizzle          0.0046 sec.\n"
     ]
    },
    {
     "name": "stdout",
     "output_type": "stream",
     "text": [
      "       Separate Drizzle          0.0046 sec.\n"
     ]
    },
    {
     "name": "stderr",
     "output_type": "stream",
     "text": [
      "2023-08-15 09:03:59,261 - stpipe - INFO -           Create Median          0.0000 sec.\n"
     ]
    },
    {
     "name": "stdout",
     "output_type": "stream",
     "text": [
      "          Create Median          0.0000 sec.\n"
     ]
    },
    {
     "name": "stderr",
     "output_type": "stream",
     "text": [
      "2023-08-15 09:03:59,262 - stpipe - INFO -                    Blot          0.0051 sec.\n"
     ]
    },
    {
     "name": "stdout",
     "output_type": "stream",
     "text": [
      "                   Blot          0.0051 sec.\n"
     ]
    },
    {
     "name": "stderr",
     "output_type": "stream",
     "text": [
      "2023-08-15 09:03:59,264 - stpipe - INFO -                 Driz_CR          0.0000 sec.\n"
     ]
    },
    {
     "name": "stdout",
     "output_type": "stream",
     "text": [
      "                Driz_CR          0.0000 sec.\n"
     ]
    },
    {
     "name": "stderr",
     "output_type": "stream",
     "text": [
      "2023-08-15 09:03:59,266 - stpipe - INFO -           Final Drizzle          4.2332 sec.\n"
     ]
    },
    {
     "name": "stdout",
     "output_type": "stream",
     "text": [
      "          Final Drizzle          4.2332 sec.\n"
     ]
    },
    {
     "name": "stderr",
     "output_type": "stream",
     "text": [
      "2023-08-15 09:03:59,267 - stpipe - INFO -    ====================          ====================\n"
     ]
    },
    {
     "name": "stdout",
     "output_type": "stream",
     "text": [
      "   ====================          ====================\n"
     ]
    },
    {
     "name": "stderr",
     "output_type": "stream",
     "text": [
      "2023-08-15 09:03:59,269 - stpipe - INFO -                   Total          5.8592 sec.\n"
     ]
    },
    {
     "name": "stdout",
     "output_type": "stream",
     "text": [
      "                  Total          5.8592 sec.\n"
     ]
    },
    {
     "name": "stderr",
     "output_type": "stream",
     "text": [
      "2023-08-15 09:03:59,271 - stpipe - INFO - \n"
     ]
    },
    {
     "name": "stdout",
     "output_type": "stream",
     "text": [
      "\n"
     ]
    },
    {
     "name": "stderr",
     "output_type": "stream",
     "text": [
      "2023-08-15 09:03:59,276 - stpipe - INFO - Removing intermediate files for jw02514197001_02201_00001_nrcalong_rate.fits\n",
      "2023-08-15 09:03:59,283 - stpipe - INFO - Removing intermediate files for jw02514197001_02201_00002_nrcalong_rate.fits\n",
      "2023-08-15 09:03:59,290 - stpipe - INFO - Removing intermediate files for jw02514197001_02201_00003_nrcalong_rate.fits\n",
      "2023-08-15 09:03:59,296 - stpipe - INFO - Removing intermediate files for jw02514197001_02201_00004_nrcalong_rate.fits\n",
      "2023-08-15 09:03:59,307 - stpipe - INFO - Trailer file written to:  astrodrizzle.log\n"
     ]
    },
    {
     "name": "stdout",
     "output_type": "stream",
     "text": [
      "Trailer file written to:  astrodrizzle.log\n",
      "# Imaging background: {'bh': 256, 'bw': 256, 'fh': 3, 'fw': 3, 'pixel_scale': 0.1, 'get_median': False}\n",
      "# (2023-08-15 09:03:59.510)\n",
      "\n",
      "prep.blot_background(**{'visit': {'files': ['jw02514197001_02201_00001_nrcalong_rate.fits', 'jw02514197001_02201_00002_nrcalong_rate.fits', 'jw02514197001_02201_00003_nrcalong_rate.fits', 'jw02514197001_02201_00004_nrcalong_rate.fits'], 'footprint': <POLYGON ((23.668 -15.528, 23.668 -15.528, 23.668 -15.528, 23.668 -15.528, 2...>, 'product': 'indef-02514-197-262.0-nrca5-f444w-clear'}, 'bkg_params': {'bh': 256, 'bw': 256, 'fh': 3, 'fw': 3, 'pixel_scale': 0.1}, 'verbose': True, 'skip_existing': True, 'get_median': False, 'log': True, 'stepsize': 10, 'kwargs': {}})\n",
      "\n",
      "#   Blot background from indef-02514-197-262.0-nrca5-f444w-clear_drz_sci.fits\n",
      "#   Blot background: jw02514197001_02201_00001_nrcalong_rate.fits[SCI,1]\n",
      "#   Blot background: jw02514197001_02201_00002_nrcalong_rate.fits[SCI,1]\n",
      "#   Blot background: jw02514197001_02201_00003_nrcalong_rate.fits[SCI,1]\n",
      "#   Blot background: jw02514197001_02201_00004_nrcalong_rate.fits[SCI,1]\n",
      "# (2023-08-15 09:04:01.470)\n",
      "\n",
      "jwst_utils.set_jwst_to_hst_keywords(**{'input': 'jw02514197001_02201_00001_nrcalong_rate.fits', 'reset': True, 'verbose': True, 'orig_keys': ['TELESCOP', 'INSTRUME', 'DETECTOR', 'FILTER', 'PUPIL', 'EXP_TYPE', 'GRATING']})\n",
      "\n",
      "Reset: TELESCOP > JWST (OTELESCO)\n",
      "Reset: INSTRUME > NIRCAM (OINSTRUM)\n",
      "Reset: DETECTOR > NRCALONG (ODETECTO)\n",
      "Reset: FILTER > F444W (OFILTER)\n",
      "Reset: PUPIL > CLEAR (OPUPIL)\n",
      "Reset: EXP_TYPE > NRC_IMAGE (OEXP_TYP)\n",
      "# (2023-08-15 09:04:01.573)\n",
      "\n",
      "jwst_utils.set_jwst_to_hst_keywords(**{'input': 'jw02514197001_02201_00002_nrcalong_rate.fits', 'reset': True, 'verbose': True, 'orig_keys': ['TELESCOP', 'INSTRUME', 'DETECTOR', 'FILTER', 'PUPIL', 'EXP_TYPE', 'GRATING']})\n",
      "\n",
      "Reset: TELESCOP > JWST (OTELESCO)\n",
      "Reset: INSTRUME > NIRCAM (OINSTRUM)\n",
      "Reset: DETECTOR > NRCALONG (ODETECTO)\n",
      "Reset: FILTER > F444W (OFILTER)\n",
      "Reset: PUPIL > CLEAR (OPUPIL)\n",
      "Reset: EXP_TYPE > NRC_IMAGE (OEXP_TYP)\n",
      "# (2023-08-15 09:04:01.676)\n",
      "\n",
      "jwst_utils.set_jwst_to_hst_keywords(**{'input': 'jw02514197001_02201_00003_nrcalong_rate.fits', 'reset': True, 'verbose': True, 'orig_keys': ['TELESCOP', 'INSTRUME', 'DETECTOR', 'FILTER', 'PUPIL', 'EXP_TYPE', 'GRATING']})\n",
      "\n",
      "Reset: TELESCOP > JWST (OTELESCO)\n",
      "Reset: INSTRUME > NIRCAM (OINSTRUM)\n",
      "Reset: DETECTOR > NRCALONG (ODETECTO)\n",
      "Reset: FILTER > F444W (OFILTER)\n",
      "Reset: PUPIL > CLEAR (OPUPIL)\n",
      "Reset: EXP_TYPE > NRC_IMAGE (OEXP_TYP)\n",
      "# (2023-08-15 09:04:01.782)\n",
      "\n",
      "jwst_utils.set_jwst_to_hst_keywords(**{'input': 'jw02514197001_02201_00004_nrcalong_rate.fits', 'reset': True, 'verbose': True, 'orig_keys': ['TELESCOP', 'INSTRUME', 'DETECTOR', 'FILTER', 'PUPIL', 'EXP_TYPE', 'GRATING']})\n",
      "\n",
      "Reset: TELESCOP > JWST (OTELESCO)\n",
      "Reset: INSTRUME > NIRCAM (OINSTRUM)\n",
      "Reset: DETECTOR > NRCALONG (ODETECTO)\n",
      "Reset: FILTER > F444W (OFILTER)\n",
      "Reset: PUPIL > CLEAR (OPUPIL)\n",
      "Reset: EXP_TYPE > NRC_IMAGE (OEXP_TYP)\n",
      "# prep.apply_region_mask_from_db: query failed\n"
     ]
    },
    {
     "name": "stderr",
     "output_type": "stream",
     "text": [
      "2023-08-15 09:04:03,302 - stpipe - INFO - Using WCSLIB-based coordinate transformation...\n",
      "2023-08-15 09:04:03,303 - stpipe - INFO - stepsize = 10\n",
      "2023-08-15 09:04:03,315 - stpipe - INFO - -Drizzling using kernel = square\n",
      "2023-08-15 09:04:03,316 - stpipe - INFO - \n"
     ]
    },
    {
     "name": "stdout",
     "output_type": "stream",
     "text": [
      "# prep.apply_region_mask_from_db: query failed\n"
     ]
    },
    {
     "name": "stderr",
     "output_type": "stream",
     "text": [
      "2023-08-15 09:04:05,256 - stpipe - INFO - Using WCSLIB-based coordinate transformation...\n",
      "2023-08-15 09:04:05,256 - stpipe - INFO - stepsize = 10\n",
      "2023-08-15 09:04:05,269 - stpipe - INFO - -Drizzling using kernel = square\n",
      "2023-08-15 09:04:05,270 - stpipe - INFO - \n"
     ]
    },
    {
     "name": "stdout",
     "output_type": "stream",
     "text": [
      "# prep.apply_region_mask_from_db: query failed\n"
     ]
    },
    {
     "name": "stderr",
     "output_type": "stream",
     "text": [
      "2023-08-15 09:04:07,234 - stpipe - INFO - Using WCSLIB-based coordinate transformation...\n",
      "2023-08-15 09:04:07,235 - stpipe - INFO - stepsize = 10\n",
      "2023-08-15 09:04:07,247 - stpipe - INFO - -Drizzling using kernel = square\n",
      "2023-08-15 09:04:07,248 - stpipe - INFO - \n"
     ]
    },
    {
     "name": "stdout",
     "output_type": "stream",
     "text": [
      "# prep.apply_region_mask_from_db: query failed\n"
     ]
    },
    {
     "name": "stderr",
     "output_type": "stream",
     "text": [
      "2023-08-15 09:04:09,231 - stpipe - INFO - Using WCSLIB-based coordinate transformation...\n",
      "2023-08-15 09:04:09,231 - stpipe - INFO - stepsize = 10\n",
      "2023-08-15 09:04:09,244 - stpipe - INFO - -Drizzling using kernel = square\n",
      "2023-08-15 09:04:09,245 - stpipe - INFO - \n"
     ]
    },
    {
     "name": "stdout",
     "output_type": "stream",
     "text": [
      "make_SEP_catalog: sep version = 1.2.1\n",
      "# (2023-08-15 09:04:10.138)\n",
      "sep: Image AB zeropoint =  26.478\n",
      "# (2023-08-15 09:04:10.171)\n",
      "SEP: Get background {'bw': 32.0, 'bh': 32.0, 'fw': 3, 'fh': 3}\n",
      "SEP: err_scale=0.735\n",
      "   SEP: Extract...\n",
      "    Done.\n",
      "compute_SEP_auto_params: sep version = 1.2.1\n",
      "compute_SEP_auto_params: autoparams=[2.5, <Quantity 0.35 arcsec>, 2.4, 3.8]; pixel_scale=0.0629159358179124; subpix=0; flux_radii=[0.2, 0.5, 0.9]\n",
      "# SEP indef-02514-197-262.0-nrca5-f444w-clear.cat.fits: 833 objects\n",
      "indef-02514-197-262.0-nrca5-f444w-clear.cat.reg: x = X_WORLD, y=Y_WORLD, ellipse=False\n",
      "jw02514197001_02201_00001_nrcalong_rate.fits\n",
      "utils.fix_flt_nan: jw02514197001_02201_00001_nrcalong_rate.fits[SCI,1] NaNPixels=46888\n",
      "jw02514197001_02201_00002_nrcalong_rate.fits\n",
      "utils.fix_flt_nan: jw02514197001_02201_00002_nrcalong_rate.fits[SCI,1] NaNPixels=46931\n",
      "jw02514197001_02201_00003_nrcalong_rate.fits\n",
      "utils.fix_flt_nan: jw02514197001_02201_00003_nrcalong_rate.fits[SCI,1] NaNPixels=46998\n",
      "jw02514197001_02201_00004_nrcalong_rate.fits\n",
      "utils.fix_flt_nan: jw02514197001_02201_00004_nrcalong_rate.fits[SCI,1] NaNPixels=46961\n",
      "remove indef-02514-197-262.0-nrca5-f444w-clear_drz_wht.fits\n",
      "remove indef-02514-197-262.0-nrca5-f444w-clear_seg.fits\n",
      "remove indef-02514-197-262.0-nrca5-f444w-clear_bkg.fits\n",
      "kill='preprocess'\n",
      "Update exposure footprints in ./j013444m1532_indef-f444w_00009_visits.yaml\n"
     ]
    }
   ],
   "source": [
    "\n",
    "# assoc_list = ['j100736p2109_indef-f444w_00023']\n",
    "\n",
    "for assoc in assoc_list:\n",
    "    print(assoc)\n",
    "    \n",
    "    if True:\n",
    "        visit_processor.process_visit(assoc, sync=False, clean=False)\n"
   ]
  },
  {
   "cell_type": "code",
   "execution_count": 4,
   "metadata": {},
   "outputs": [
    {
     "name": "stdout",
     "output_type": "stream",
     "text": [
      "# flt xshift yshift rot scale N rmsx rmsy\n",
      "# fit_order: -1\n",
      "# match['jw02514197001_02201_00001_nrcblong_rate.fits'] = []\n",
      "# match['jw02514197001_02201_00002_nrcblong_rate.fits'] = []\n",
      "# match['jw02514197001_02201_00003_nrcblong_rate.fits'] = []\n",
      "# match['jw02514197001_02201_00004_nrcblong_rate.fits'] = []\n",
      "jw02514197001_02201_00001_nrcblong_rate.fits   0.001   0.005  0.00000  1.00000    89  0.011  0.015\n",
      "jw02514197001_02201_00002_nrcblong_rate.fits   0.005   0.001  0.00000  1.00000    87  0.011  0.015\n",
      "jw02514197001_02201_00003_nrcblong_rate.fits   0.000   0.005  0.00000  1.00000    90  0.009  0.011\n",
      "jw02514197001_02201_00004_nrcblong_rate.fits  -0.002  -0.002  0.00000  1.00000    87  0.010  0.012\n",
      "# flt xshift yshift rot scale N rmsx rmsy\n",
      "# fit_order: -1\n",
      "# match['jw02514197001_02201_00001_nrcalong_rate.fits'] = []\n",
      "# match['jw02514197001_02201_00002_nrcalong_rate.fits'] = []\n",
      "# match['jw02514197001_02201_00003_nrcalong_rate.fits'] = []\n",
      "# match['jw02514197001_02201_00004_nrcalong_rate.fits'] = []\n",
      "jw02514197001_02201_00001_nrcalong_rate.fits   0.015   0.007  0.00000  1.00000    77  0.013  0.013\n",
      "jw02514197001_02201_00002_nrcalong_rate.fits   0.010   0.011  0.00000  1.00000    76  0.009  0.009\n",
      "jw02514197001_02201_00003_nrcalong_rate.fits   0.001   0.001  0.00000  1.00000    78  0.022  0.011\n",
      "jw02514197001_02201_00004_nrcalong_rate.fits  -0.001  -0.001  0.00000  1.00000    74  0.019  0.021\n"
     ]
    }
   ],
   "source": [
    "# Check WCS log\n",
    "! cat j*/Prep/*shifts.log"
   ]
  },
  {
   "attachments": {},
   "cell_type": "markdown",
   "metadata": {},
   "source": [
    "## Make astrometric reference catalogs"
   ]
  },
  {
   "cell_type": "code",
   "execution_count": 5,
   "metadata": {},
   "outputs": [
    {
     "name": "stdout",
     "output_type": "stream",
     "text": [
      "j013444m1532_indef-f444w_00002/Prep/indef-02514-197-262.0-nrcb5-f444w-clear_wcs.log\n",
      "j013444m1532_indef-f444w_00009/Prep/indef-02514-197-262.0-nrca5-f444w-clear_wcs.log\n"
     ]
    }
   ],
   "source": [
    "! ls j*/Prep/*wcs.log"
   ]
  },
  {
   "cell_type": "code",
   "execution_count": 6,
   "metadata": {},
   "outputs": [
    {
     "name": "stdout",
     "output_type": "stream",
     "text": [
      "# ext xshift yshift rot scale rms N\n",
      "# radec: indef-02514-197-262.0-nrcb5-f444w-clear_ls_dr9.radec\n",
      "# indef-02514-197-262.0-nrcb5-f444w-clear\n",
      "    0       -0.8787        2.1580       -0.0021       1.00000         0.650   25\n",
      "# ext xshift yshift rot scale rms N\n",
      "# radec: indef-02514-197-262.0-nrca5-f444w-clear_ls_dr9.radec\n",
      "# indef-02514-197-262.0-nrca5-f444w-clear\n",
      "    0       -0.5028        2.5664        0.0088       1.00000         0.622   39\n"
     ]
    }
   ],
   "source": [
    "! cat j*/Prep/*wcs.log"
   ]
  },
  {
   "cell_type": "code",
   "execution_count": 7,
   "metadata": {},
   "outputs": [],
   "source": [
    "ref_cats = db.SQL(\"\"\"select src, count(src) \n",
    "from astrometry_reference\n",
    "group by src\n",
    "\"\"\")\n",
    "\n",
    "HOME = os.getcwd()\n",
    "\n",
    "REDO_REF_CATS = ['cos_primer_hst160_17_24']\n",
    "\n",
    "def get_used_radec(file):\n",
    "    \"\"\"\n",
    "    Get the radec catalog that was used to compare to those already in the database\n",
    "    \"\"\"\n",
    "    with open(file.replace('.cat.fits', '_wcs.log')) as fp:\n",
    "        line = fp.readlines()[1]\n",
    "    \n",
    "    return line.strip().split()[-1].replace('.radec','')"
   ]
  },
  {
   "attachments": {},
   "cell_type": "markdown",
   "metadata": {},
   "source": [
    "# Process reference catalogs\n",
    "\n",
    "Flip `SEND_TO_DB=True` to actually send the catalogs to the `astrometry_reference` table in teh database.\n"
   ]
  },
  {
   "cell_type": "code",
   "execution_count": 9,
   "metadata": {
    "cell_id": "eb3c69c9e31943d0b48daa990b7e48e8",
    "deepnote_cell_type": "code"
   },
   "outputs": [
    {
     "name": "stdout",
     "output_type": "stream",
     "text": [
      "\n",
      "Add 483 objects to astrometry_reference for j013444m1532_indef-f444w_00002/indef-02514-197-262.0-nrcb5-f444w-clear.cat.fits src=j013444m1532_f444w_00002_cat\n",
      "\n",
      "/workspaces/panoramic-jwst/Astrometry/j013444m1532_f444w_00002_cat.reg: x = ra, y=dec, ellipse=False\n",
      "clean j013444m1532_f444w_00002_cat\n",
      "upload j013444m1532_f444w_00002_cat\n",
      "\n",
      "Add 485 objects to astrometry_reference for j013444m1532_indef-f444w_00009/indef-02514-197-262.0-nrca5-f444w-clear.cat.fits src=j013444m1532_f444w_00009_cat\n",
      "\n",
      "/workspaces/panoramic-jwst/Astrometry/j013444m1532_f444w_00009_cat.reg: x = ra, y=dec, ellipse=False\n",
      "clean j013444m1532_f444w_00009_cat\n",
      "upload j013444m1532_f444w_00009_cat\n"
     ]
    }
   ],
   "source": [
    "# Set to True to actually send the catalogs to the database table\n",
    "SEND_TO_DB = False \n",
    "\n",
    "mag_lim = (17, 26)\n",
    "flux_radius = (1,10)\n",
    "sn = 20\n",
    "\n",
    "max_count = 1000\n",
    "\n",
    "for assoc in assoc_list:\n",
    "    os.chdir(HOME)\n",
    "    \n",
    "    if os.path.exists(f'{assoc}/Prep'):\n",
    "        os.chdir(f'{assoc}/Prep')\n",
    "        files = glob.glob('*cat.fits')\n",
    "        for file in files:\n",
    "            ref_src = get_used_radec(file)\n",
    "            if (ref_src in ref_cats['src']) & (ref_src not in REDO_REF_CATS):\n",
    "                print(f'\\n{file}: {ref_src} in astrometry_db\\n')\n",
    "                continue\n",
    "\n",
    "            tab = utils.read_catalog(file)\n",
    "            for c in list(tab.colnames):\n",
    "                tab.rename_column(c, c.lower())\n",
    "\n",
    "            tab['mag'] = tab['mag_auto']\n",
    "            if True:\n",
    "                #clip = tab['mag'] < mag_lim[1]\n",
    "                clip = tab['mag'] > mag_lim[0]\n",
    "                clip &= tab['mask_aper_1'] == 0\n",
    "                clip &= tab['flux_radius'] > flux_radius[0]\n",
    "                clip &= tab['flux_radius'] < flux_radius[1]\n",
    "                clip &= tab['flux_aper_1'] / tab['fluxerr_aper_1'] > sn\n",
    "                \n",
    "                tab = tab[clip]\n",
    "                so = np.argsort(tab['mag'])\n",
    "                tab = tab[so]\n",
    "                \n",
    "                if max_count > 0:\n",
    "                    tab = tab[:max_count]\n",
    "                    \n",
    "            plt.scatter(tab['mag_auto'], tab['flux_radius'], alpha=0.2)\n",
    "            plt.ylim(0, 10)\n",
    "            plt.xlim(12,28)\n",
    "            \n",
    "            if len(files) == 1:\n",
    "                src = assoc+'_cat'\n",
    "            else:\n",
    "                src = os.path.basename(file).split('.cat')[0]\n",
    "            \n",
    "            src = src.replace('indef-','')\n",
    "            \n",
    "            tab['src'] = src\n",
    "            try:\n",
    "                ok = np.isfinite(tab['mag'].filled(np.nan))\n",
    "                tab = tab[ok]\n",
    "            except:\n",
    "                pass\n",
    "\n",
    "            print(f'\\nAdd {len(tab)} objects to astrometry_reference for {assoc}/{file} src={src}\\n')\n",
    "            \n",
    "            prep.table_to_regions(tab, os.path.join(HOME, f'{src}.reg'))\n",
    "            \n",
    "            # Set this to True to actually send the table!                \n",
    "            if SEND_TO_DB:\n",
    "                print(f'clean {src}')\n",
    "                db.execute(f\"delete from astrometry_reference where src='{src}'\")\n",
    "                print(f'upload {src}')\n",
    "                db.send_to_database('astrometry_reference', tab['ra','dec','src','mag'], if_exists='append')\n",
    "            else:\n",
    "                print(\"\\n! Set SEND_TO_DB=True to send the table to the remote DB\")\n",
    "\n",
    "os.chdir(HOME)"
   ]
  },
  {
   "attachments": {},
   "cell_type": "markdown",
   "metadata": {},
   "source": [
    "# Break here in Run All"
   ]
  },
  {
   "cell_type": "code",
   "execution_count": 17,
   "metadata": {},
   "outputs": [
    {
     "ename": "NameError",
     "evalue": "name 'breakme' is not defined",
     "output_type": "error",
     "traceback": [
      "\u001b[0;31m---------------------------------------------------------------------------\u001b[0m",
      "\u001b[0;31mNameError\u001b[0m                                 Traceback (most recent call last)",
      "Cell \u001b[0;32mIn[17], line 1\u001b[0m\n\u001b[0;32m----> 1\u001b[0m \u001b[39mprint\u001b[39m(breakme)\n",
      "\u001b[0;31mNameError\u001b[0m: name 'breakme' is not defined"
     ]
    }
   ],
   "source": [
    "print(breakme)"
   ]
  },
  {
   "cell_type": "code",
   "execution_count": null,
   "metadata": {},
   "outputs": [
    {
     "data": {
      "text/html": [
       "<div><i>GTable length=4</i>\n",
       "<table id=\"table140426608259232\" class=\"table-striped table-bordered table-condensed\">\n",
       "<thead><tr><th>src</th><th>count</th></tr></thead>\n",
       "<thead><tr><th>str34</th><th>int64</th></tr></thead>\n",
       "<tr><td>j131432p2432_f115w-f444w_00004_cat</td><td>578</td></tr>\n",
       "<tr><td>j131432p2432_f277w-f444w_00009_cat</td><td>447</td></tr>\n",
       "<tr><td>j134348p5549_f200w-f444w_00028_cat</td><td>477</td></tr>\n",
       "<tr><td>j134348p5549_f200w-f444w_00029_cat</td><td>515</td></tr>\n",
       "</table></div>"
      ],
      "text/plain": [
       "<GTable length=4>\n",
       "               src                 count\n",
       "              str34                int64\n",
       "---------------------------------- -----\n",
       "j131432p2432_f115w-f444w_00004_cat   578\n",
       "j131432p2432_f277w-f444w_00009_cat   447\n",
       "j134348p5549_f200w-f444w_00028_cat   477\n",
       "j134348p5549_f200w-f444w_00029_cat   515"
      ]
     },
     "execution_count": 9,
     "metadata": {},
     "output_type": "execute_result"
    }
   ],
   "source": [
    "db.SQL(\"\"\"select src, count(src) from astrometry_reference\n",
    "where src like 'j1343%%' OR src like 'j1314%%'\n",
    "group by src\n",
    "\"\"\")"
   ]
  },
  {
   "cell_type": "code",
   "execution_count": 10,
   "metadata": {},
   "outputs": [],
   "source": [
    "import time\n",
    "\n",
    "with open('astrometry_log.txt','a') as fp:\n",
    "    for assoc in assoc_list:\n",
    "        fp.write(f'{assoc}   {time.ctime()}\\n')\n"
   ]
  },
  {
   "attachments": {},
   "cell_type": "markdown",
   "metadata": {},
   "source": [
    "# Reset status and launch EC2\n",
    "\n",
    "Now that the astrometry reference is in place, update the status of the unprocessed visits to zero and launch the processing on EC2"
   ]
  },
  {
   "cell_type": "code",
   "execution_count": 11,
   "metadata": {},
   "outputs": [
    {
     "data": {
      "text/html": [
       "<div><i>GTable length=30</i>\n",
       "<table id=\"table140448125626272\" class=\"table-striped table-bordered table-condensed\">\n",
       "<thead><tr><th>assoc_name</th><th>status</th><th>filter</th></tr></thead>\n",
       "<thead><tr><th>str30</th><th>int64</th><th>str11</th></tr></thead>\n",
       "<tr><td>j013444m1532_indef-f115w_00000</td><td>70</td><td>F115W-CLEAR</td></tr>\n",
       "<tr><td>j013444m1532_indef-f115w_00001</td><td>70</td><td>F115W-CLEAR</td></tr>\n",
       "<tr><td>j013444m1532_indef-f115w_00003</td><td>70</td><td>F115W-CLEAR</td></tr>\n",
       "<tr><td>j013444m1532_indef-f115w_00004</td><td>70</td><td>F115W-CLEAR</td></tr>\n",
       "<tr><td>j013444m1532_indef-f115w_00005</td><td>70</td><td>F115W-CLEAR</td></tr>\n",
       "<tr><td>j013444m1532_indef-f115w_00006</td><td>70</td><td>F115W-CLEAR</td></tr>\n",
       "<tr><td>j013444m1532_indef-f115w_00007</td><td>70</td><td>F115W-CLEAR</td></tr>\n",
       "<tr><td>j013444m1532_indef-f115w_00008</td><td>70</td><td>F115W-CLEAR</td></tr>\n",
       "<tr><td>j013444m1532_indef-f150w_00010</td><td>70</td><td>F150W-CLEAR</td></tr>\n",
       "<tr><td>j013444m1532_indef-f150w_00011</td><td>70</td><td>F150W-CLEAR</td></tr>\n",
       "<tr><td>...</td><td>...</td><td>...</td></tr>\n",
       "<tr><td>j013444m1532_indef-f200w_00026</td><td>70</td><td>F200W-CLEAR</td></tr>\n",
       "<tr><td>j013444m1532_indef-f200w_00027</td><td>70</td><td>F200W-CLEAR</td></tr>\n",
       "<tr><td>j013444m1532_indef-f200w_00028</td><td>70</td><td>F200W-CLEAR</td></tr>\n",
       "<tr><td>j013444m1532_indef-f200w_00029</td><td>70</td><td>F200W-CLEAR</td></tr>\n",
       "<tr><td>j013444m1532_indef-f277w_00020</td><td>70</td><td>F277W-CLEAR</td></tr>\n",
       "<tr><td>j013444m1532_indef-f277w_00025</td><td>70</td><td>F277W-CLEAR</td></tr>\n",
       "<tr><td>j013444m1532_indef-f356w_00014</td><td>70</td><td>F356W-CLEAR</td></tr>\n",
       "<tr><td>j013444m1532_indef-f356w_00015</td><td>70</td><td>F356W-CLEAR</td></tr>\n",
       "<tr><td>j013444m1532_indef-f444w_00002</td><td>70</td><td>F444W-CLEAR</td></tr>\n",
       "<tr><td>j013444m1532_indef-f444w_00009</td><td>70</td><td>F444W-CLEAR</td></tr>\n",
       "</table></div>"
      ],
      "text/plain": [
       "<GTable length=30>\n",
       "          assoc_name           status    filter  \n",
       "            str30              int64     str11   \n",
       "------------------------------ ------ -----------\n",
       "j013444m1532_indef-f115w_00000     70 F115W-CLEAR\n",
       "j013444m1532_indef-f115w_00001     70 F115W-CLEAR\n",
       "j013444m1532_indef-f115w_00003     70 F115W-CLEAR\n",
       "j013444m1532_indef-f115w_00004     70 F115W-CLEAR\n",
       "j013444m1532_indef-f115w_00005     70 F115W-CLEAR\n",
       "j013444m1532_indef-f115w_00006     70 F115W-CLEAR\n",
       "j013444m1532_indef-f115w_00007     70 F115W-CLEAR\n",
       "j013444m1532_indef-f115w_00008     70 F115W-CLEAR\n",
       "j013444m1532_indef-f150w_00010     70 F150W-CLEAR\n",
       "j013444m1532_indef-f150w_00011     70 F150W-CLEAR\n",
       "                           ...    ...         ...\n",
       "j013444m1532_indef-f200w_00026     70 F200W-CLEAR\n",
       "j013444m1532_indef-f200w_00027     70 F200W-CLEAR\n",
       "j013444m1532_indef-f200w_00028     70 F200W-CLEAR\n",
       "j013444m1532_indef-f200w_00029     70 F200W-CLEAR\n",
       "j013444m1532_indef-f277w_00020     70 F277W-CLEAR\n",
       "j013444m1532_indef-f277w_00025     70 F277W-CLEAR\n",
       "j013444m1532_indef-f356w_00014     70 F356W-CLEAR\n",
       "j013444m1532_indef-f356w_00015     70 F356W-CLEAR\n",
       "j013444m1532_indef-f444w_00002     70 F444W-CLEAR\n",
       "j013444m1532_indef-f444w_00009     70 F444W-CLEAR"
      ]
     },
     "execution_count": 11,
     "metadata": {},
     "output_type": "execute_result"
    }
   ],
   "source": [
    "assoc_list = db.SQL(f\"\"\"select assoc_name, max(status) as status, max(filter) as filter\n",
    "from assoc_table\n",
    "where status != 2\n",
    "and proposal_id in ({progs}) AND instrument_name in ('NIRCAM','NIRISS')\n",
    "GROUP BY assoc_name\n",
    "order by filter\n",
    "\"\"\"\n",
    ") \n",
    "assoc_list"
   ]
  },
  {
   "cell_type": "code",
   "execution_count": 12,
   "metadata": {},
   "outputs": [],
   "source": [
    "if len(assoc_list) > 0:\n",
    "    db.execute(f\"\"\"update assoc_table set status = 0\n",
    "where status != 2\n",
    "and proposal_id in ({progs}) AND instrument_name in ('NIRCAM','NIRISS')\n",
    "\"\"\") "
   ]
  },
  {
   "cell_type": "code",
   "execution_count": 24,
   "metadata": {},
   "outputs": [
    {
     "data": {
      "text/html": [
       "<div><i>GTable length=0</i>\n",
       "<table id=\"table140448106797456\" class=\"table-striped table-bordered table-condensed\">\n",
       "<thead><tr><th>assoc_name</th><th>status</th><th>filter</th></tr></thead>\n",
       "<thead><tr><th>float64</th><th>float64</th><th>float64</th></tr></thead>\n",
       "</table></div>"
      ],
      "text/plain": [
       "<GTable length=0>\n",
       "assoc_name  status  filter\n",
       " float64   float64 float64\n",
       "---------- ------- -------"
      ]
     },
     "execution_count": 24,
     "metadata": {},
     "output_type": "execute_result"
    }
   ],
   "source": [
    "assoc_list = db.SQL(f\"\"\"select assoc_name, max(status) as status, max(filter) as filter\n",
    "from assoc_table\n",
    "where status != 2\n",
    "and proposal_id in ({progs}) AND instrument_name in ('NIRCAM','NIRISS')\n",
    "GROUP BY assoc_name\n",
    "\"\"\"\n",
    ") \n",
    "assoc_list"
   ]
  },
  {
   "cell_type": "code",
   "execution_count": 14,
   "metadata": {},
   "outputs": [
    {
     "name": "stdout",
     "output_type": "stream",
     "text": [
      "rm: cannot remove '/tmp/pipeline_defaults/*': No such file or directory\n",
      "upload: ../../../tmp/pipeline_defaults/j013444m1532_indef-f115w_00001.yaml to s3://grizli-v2/HST/Pipeline/Input/j013444m1532_indef-f115w_00001.yaml\n",
      "upload: ../../../tmp/pipeline_defaults/j013444m1532_indef-f150w_00018.yaml to s3://grizli-v2/HST/Pipeline/Input/j013444m1532_indef-f150w_00018.yaml\n",
      "upload: ../../../tmp/pipeline_defaults/j013444m1532_indef-f115w_00006.yaml to s3://grizli-v2/HST/Pipeline/Input/j013444m1532_indef-f115w_00006.yaml\n",
      "upload: ../../../tmp/pipeline_defaults/j013444m1532_indef-f115w_00005.yaml to s3://grizli-v2/HST/Pipeline/Input/j013444m1532_indef-f115w_00005.yaml\n",
      "upload: ../../../tmp/pipeline_defaults/j013444m1532_indef-f115w_00004.yaml to s3://grizli-v2/HST/Pipeline/Input/j013444m1532_indef-f115w_00004.yaml\n",
      "upload: ../../../tmp/pipeline_defaults/j013444m1532_indef-f115w_00007.yaml to s3://grizli-v2/HST/Pipeline/Input/j013444m1532_indef-f115w_00007.yaml\n",
      "upload: ../../../tmp/pipeline_defaults/j013444m1532_indef-f115w_00000.yaml to s3://grizli-v2/HST/Pipeline/Input/j013444m1532_indef-f115w_00000.yaml\n",
      "upload: ../../../tmp/pipeline_defaults/j013444m1532_indef-f150w_00013.yaml to s3://grizli-v2/HST/Pipeline/Input/j013444m1532_indef-f150w_00013.yaml\n",
      "upload: ../../../tmp/pipeline_defaults/j013444m1532_indef-f115w_00003.yaml to s3://grizli-v2/HST/Pipeline/Input/j013444m1532_indef-f115w_00003.yaml\n",
      "upload: ../../../tmp/pipeline_defaults/j013444m1532_indef-f150w_00010.yaml to s3://grizli-v2/HST/Pipeline/Input/j013444m1532_indef-f150w_00010.yaml\n",
      "upload: ../../../tmp/pipeline_defaults/j013444m1532_indef-f150w_00011.yaml to s3://grizli-v2/HST/Pipeline/Input/j013444m1532_indef-f150w_00011.yaml\n",
      "upload: ../../../tmp/pipeline_defaults/j013444m1532_indef-f115w_00008.yaml to s3://grizli-v2/HST/Pipeline/Input/j013444m1532_indef-f115w_00008.yaml\n",
      "upload: ../../../tmp/pipeline_defaults/j013444m1532_indef-f150w_00017.yaml to s3://grizli-v2/HST/Pipeline/Input/j013444m1532_indef-f150w_00017.yaml\n",
      "upload: ../../../tmp/pipeline_defaults/j013444m1532_indef-f150w_00012.yaml to s3://grizli-v2/HST/Pipeline/Input/j013444m1532_indef-f150w_00012.yaml\n",
      "upload: ../../../tmp/pipeline_defaults/j013444m1532_indef-f150w_00016.yaml to s3://grizli-v2/HST/Pipeline/Input/j013444m1532_indef-f150w_00016.yaml\n",
      "upload: ../../../tmp/pipeline_defaults/j013444m1532_indef-f200w_00021.yaml to s3://grizli-v2/HST/Pipeline/Input/j013444m1532_indef-f200w_00021.yaml\n",
      "upload: ../../../tmp/pipeline_defaults/j013444m1532_indef-f200w_00022.yaml to s3://grizli-v2/HST/Pipeline/Input/j013444m1532_indef-f200w_00022.yaml\n",
      "upload: ../../../tmp/pipeline_defaults/j013444m1532_indef-f200w_00023.yaml to s3://grizli-v2/HST/Pipeline/Input/j013444m1532_indef-f200w_00023.yaml\n",
      "upload: ../../../tmp/pipeline_defaults/j013444m1532_indef-f200w_00026.yaml to s3://grizli-v2/HST/Pipeline/Input/j013444m1532_indef-f200w_00026.yaml\n",
      "upload: ../../../tmp/pipeline_defaults/j013444m1532_indef-f200w_00024.yaml to s3://grizli-v2/HST/Pipeline/Input/j013444m1532_indef-f200w_00024.yaml\n",
      "upload: ../../../tmp/pipeline_defaults/j013444m1532_indef-f150w_00019.yaml to s3://grizli-v2/HST/Pipeline/Input/j013444m1532_indef-f150w_00019.yaml\n",
      "upload: ../../../tmp/pipeline_defaults/j013444m1532_indef-f200w_00027.yaml to s3://grizli-v2/HST/Pipeline/Input/j013444m1532_indef-f200w_00027.yaml\n",
      "upload: ../../../tmp/pipeline_defaults/j013444m1532_indef-f277w_00020.yaml to s3://grizli-v2/HST/Pipeline/Input/j013444m1532_indef-f277w_00020.yaml\n",
      "upload: ../../../tmp/pipeline_defaults/j013444m1532_indef-f277w_00025.yaml to s3://grizli-v2/HST/Pipeline/Input/j013444m1532_indef-f277w_00025.yaml\n",
      "upload: ../../../tmp/pipeline_defaults/j013444m1532_indef-f200w_00029.yaml to s3://grizli-v2/HST/Pipeline/Input/j013444m1532_indef-f200w_00029.yaml\n",
      "upload: ../../../tmp/pipeline_defaults/j013444m1532_indef-f200w_00028.yaml to s3://grizli-v2/HST/Pipeline/Input/j013444m1532_indef-f200w_00028.yaml\n",
      "upload: ../../../tmp/pipeline_defaults/j013444m1532_indef-f356w_00015.yaml to s3://grizli-v2/HST/Pipeline/Input/j013444m1532_indef-f356w_00015.yaml\n",
      "upload: ../../../tmp/pipeline_defaults/j013444m1532_indef-f444w_00002.yaml to s3://grizli-v2/HST/Pipeline/Input/j013444m1532_indef-f444w_00002.yaml\n",
      "upload: ../../../tmp/pipeline_defaults/j013444m1532_indef-f444w_00009.yaml to s3://grizli-v2/HST/Pipeline/Input/j013444m1532_indef-f444w_00009.yaml\n",
      "upload: ../../../tmp/pipeline_defaults/j013444m1532_indef-f356w_00014.yaml to s3://grizli-v2/HST/Pipeline/Input/j013444m1532_indef-f356w_00014.yaml\n",
      "                                                                                 \n"
     ]
    }
   ],
   "source": [
    "# Pipeline parameters\n",
    "\n",
    "import os\n",
    "import yaml\n",
    "\n",
    "# Aggressive 1/f correction for blank fields\n",
    "defaults = {'visit_prep_args': {\n",
    "                'oneoverf_kwargs': {'deg_pix':2048, 'dilate_iterations':3, 'thresholds':[5,4,3]},\n",
    "                'align_mag_limits': [14, 26.5, 0.1],\n",
    "            }, \n",
    "           }\n",
    "\n",
    "if not os.path.exists('/tmp/pipeline_defaults'):\n",
    "    os.mkdir('/tmp/pipeline_defaults')\n",
    "    \n",
    "if 1:\n",
    "    ! rm /tmp/pipeline_defaults/*\n",
    "    \n",
    "for assoc in assoc_list['assoc_name']:\n",
    "    # COSMOS-Web\n",
    "    if assoc.split()[0] in ('j095944p0222','j100032p0216','j100028p0217'):\n",
    "        if ('f770w' in assoc) | ('f1800w' in assoc):\n",
    "            # MIRI\n",
    "            defaults['global_miri_skyflat'] = True\n",
    "            defaults['visit_prep_args']['oneoverf_kwargs'] = None\n",
    "        else:\n",
    "            # NIRCam\n",
    "            defaults['visit_prep_args']['oneoverf_kwargs'] =  {'deg_pix':2048, 'dilate_iterations':3,\n",
    "                                                               'thresholds':[5,4,3], 'other_axis':True}\n",
    "            defaults['global_miri_skyflat'] = False\n",
    "            \n",
    "    else:\n",
    "        has_grism = ('gr150' in assoc) | ('grism' in assoc)\n",
    "        \n",
    "        defaults['visit_prep_args']['oneoverf_kwargs'] =  {'deg_pix':2048, 'dilate_iterations':3, \n",
    "                                                           'thresholds':[5,4,3],\n",
    "                                                           'other_axis':(not has_grism),\n",
    "                                                          }\n",
    "    \n",
    "    with open(f'/tmp/pipeline_defaults/{assoc}.yaml','w') as fp:\n",
    "        yaml.dump(defaults, fp)\n",
    "       \n",
    "if 1:\n",
    "    ! aws s3 sync /tmp/pipeline_defaults/ s3://grizli-v2/HST/Pipeline/Input/ --acl public-read --exclude \"*\" --include \"*yaml\""
   ]
  },
  {
   "cell_type": "markdown",
   "metadata": {},
   "source": [
    "# Reset status of already completed PANORAMIC visits to run them again with the updated pipeline"
   ]
  },
  {
   "cell_type": "code",
   "execution_count": 16,
   "metadata": {},
   "outputs": [
    {
     "name": "stdout",
     "output_type": "stream",
     "text": [
      "1770 visits from proposal 2514\n"
     ]
    }
   ],
   "source": [
    "# look at all completed PANORAMIC visits\n",
    "prog_id = 2514\n",
    "\n",
    "visits = db.SQL(f\"\"\"select assoc_name, count(assoc_name), max(filter) as filter, max(status) as status\n",
    "from assoc_table\n",
    "where proposal_id in ('{prog_id}')\n",
    "and status = 2\n",
    "group by assoc_name\n",
    "order by assoc_name\n",
    "\"\"\")\n",
    "\n",
    "print(f\"\"\"{len(visits)} visits from proposal {prog_id}\"\"\")"
   ]
  },
  {
   "cell_type": "code",
   "execution_count": 15,
   "metadata": {},
   "outputs": [
    {
     "data": {
      "text/plain": [
       "<sqlalchemy.engine.cursor.LegacyCursorResult at 0x29a31e920>"
      ]
     },
     "execution_count": 15,
     "metadata": {},
     "output_type": "execute_result"
    }
   ],
   "source": [
    "# Reset the status, careful!\n",
    "db.execute(f\"\"\"update assoc_table set status = 0 \n",
    "where status = 2\n",
    "and proposal_id in ('{prog_id}') and assoc_name like 'j013900%%'\n",
    "\"\"\")"
   ]
  },
  {
   "cell_type": "code",
   "execution_count": 11,
   "metadata": {},
   "outputs": [
    {
     "name": "stdout",
     "output_type": "stream",
     "text": [
      "          assoc_name              filter   status\n",
      "------------------------------ ----------- ------\n",
      "j125652p5652_indef-f115w_00000 F115W-CLEAR      0\n",
      "j125652p5652_indef-f115w_00001 F115W-CLEAR      0\n",
      "j125652p5652_indef-f115w_00002 F115W-CLEAR      0\n",
      "j125652p5652_indef-f115w_00004 F115W-CLEAR      0\n",
      "j125652p5652_indef-f115w_00005 F115W-CLEAR      0\n",
      "j125652p5652_indef-f115w_00006 F115W-CLEAR      0\n",
      "j125652p5652_indef-f115w_00008 F115W-CLEAR      0\n",
      "j125652p5652_indef-f115w_00009 F115W-CLEAR      0\n",
      "j125652p5652_indef-f150w_00012 F150W-CLEAR      0\n",
      "j125652p5652_indef-f150w_00013 F150W-CLEAR      0\n",
      "                           ...         ...    ...\n",
      "j125652p5652_indef-f200w_00024 F200W-CLEAR      0\n",
      "j125652p5652_indef-f200w_00025 F200W-CLEAR      0\n",
      "j125652p5652_indef-f200w_00026 F200W-CLEAR      0\n",
      "j125652p5652_indef-f200w_00027 F200W-CLEAR      0\n",
      "j125652p5652_indef-f200w_00028 F200W-CLEAR      0\n",
      "j125652p5652_indef-f277w_00003 F277W-CLEAR      0\n",
      "j125652p5652_indef-f277w_00007 F277W-CLEAR      0\n",
      "j125652p5652_indef-f356w_00010 F356W-CLEAR      0\n",
      "j125652p5652_indef-f356w_00011 F356W-CLEAR      0\n",
      "j125652p5652_indef-f444w_00023 F444W-CLEAR      0\n",
      "j125652p5652_indef-f444w_00029 F444W-CLEAR      0\n",
      "Length = 30 rows\n"
     ]
    }
   ],
   "source": [
    "# Look for unprocessed PANORAMIC and potentially reset status of \n",
    "\n",
    "pano = db.SQL(\"\"\"select assoc_name, max(filter) as filter, max(status) as status\n",
    "from assoc_table\n",
    "where proposal_id in ('2514')\n",
    "AND status > -1 \n",
    "AND assoc_name like '%%j125652p5652%%'\n",
    "group by assoc_name\n",
    "\"\"\")\n",
    "print(pano)\n",
    "\n",
    "if False:\n",
    "    print('resetting status for given associations')\n",
    "    # Set PANORAMIC status to 0 for processing\n",
    "    db.execute(\"\"\"update assoc_table set status = 0\n",
    "where proposal_id in ('2514') and status = 2 AND assoc_name like '%%j125652p5652%%'\n",
    "\"\"\")\n",
    "\n"
   ]
  },
  {
   "cell_type": "code",
   "execution_count": 13,
   "metadata": {},
   "outputs": [
    {
     "data": {
      "text/plain": [
       "<sqlalchemy.engine.cursor.LegacyCursorResult at 0x29a31e980>"
      ]
     },
     "execution_count": 13,
     "metadata": {},
     "output_type": "execute_result"
    }
   ],
   "source": [
    "if 0:\n",
    "    db.execute(f\"\"\"update assoc_table set status = 2 \n",
    "where status = 0\n",
    "and proposal_id in ('{prog_id}')\n",
    "\"\"\")"
   ]
  },
  {
   "cell_type": "markdown",
   "metadata": {},
   "source": [
    "## Set angle parameters for PANORAMIC reprocessing"
   ]
  },
  {
   "cell_type": "code",
   "execution_count": 8,
   "metadata": {},
   "outputs": [
    {
     "name": "stdout",
     "output_type": "stream",
     "text": [
      "30 visits from proposal 2514\n"
     ]
    }
   ],
   "source": [
    "# set new drizzle parameters for associations  j125652p5652\n",
    "\n",
    "prog_id = '2514'\n",
    "\n",
    "assoc_list = db.SQL(f\"\"\"select assoc_name, count(assoc_name)\n",
    "from assoc_table\n",
    "where status > -1\n",
    "AND proposal_id in ('{prog_id}')\n",
    "AND assoc_name like '%%j125652p5652%%'\n",
    "group by assoc_name\n",
    "\"\"\")\n",
    "print(f\"\"\"{len(assoc_list)} visits from proposal {prog_id}\"\"\")"
   ]
  },
  {
   "cell_type": "code",
   "execution_count": null,
   "metadata": {},
   "outputs": [],
   "source": []
  },
  {
   "cell_type": "code",
   "execution_count": 9,
   "metadata": {},
   "outputs": [
    {
     "name": "stdout",
     "output_type": "stream",
     "text": [
      "rm: cannot remove '/tmp/pipeline_defaults/*': No such file or directory\n",
      " ** setting new drz cosmic ray identification parameters\n",
      " ** setting new drz cosmic ray identification parameters\n",
      " ** setting new drz cosmic ray identification parameters\n",
      " ** setting new drz cosmic ray identification parameters\n",
      " ** setting new drz cosmic ray identification parameters\n",
      " ** setting new drz cosmic ray identification parameters\n",
      " ** setting new drz cosmic ray identification parameters\n",
      " ** setting new drz cosmic ray identification parameters\n",
      " ** setting new drz cosmic ray identification parameters\n",
      " ** setting new drz cosmic ray identification parameters\n",
      " ** setting new drz cosmic ray identification parameters\n",
      " ** setting new drz cosmic ray identification parameters\n",
      " ** setting new drz cosmic ray identification parameters\n",
      " ** setting new drz cosmic ray identification parameters\n",
      " ** setting new drz cosmic ray identification parameters\n",
      " ** setting new drz cosmic ray identification parameters\n",
      " ** setting new drz cosmic ray identification parameters\n",
      " ** setting new drz cosmic ray identification parameters\n",
      " ** setting new drz cosmic ray identification parameters\n",
      " ** setting new drz cosmic ray identification parameters\n",
      " ** setting new drz cosmic ray identification parameters\n",
      " ** setting new drz cosmic ray identification parameters\n",
      " ** setting new drz cosmic ray identification parameters\n",
      " ** setting new drz cosmic ray identification parameters\n",
      " ** setting new drz cosmic ray identification parameters\n",
      " ** setting new drz cosmic ray identification parameters\n",
      " ** setting new drz cosmic ray identification parameters\n",
      " ** setting new drz cosmic ray identification parameters\n",
      " ** setting new drz cosmic ray identification parameters\n",
      " ** setting new drz cosmic ray identification parameters\n",
      "upload: ../../../tmp/pipeline_defaults/j125652p5652_indef-f115w_00001.yaml to s3://grizli-v2/HST/Pipeline/Input/j125652p5652_indef-f115w_00001.yaml\n",
      "upload: ../../../tmp/pipeline_defaults/j125652p5652_indef-f150w_00014.yaml to s3://grizli-v2/HST/Pipeline/Input/j125652p5652_indef-f150w_00014.yaml\n",
      "upload: ../../../tmp/pipeline_defaults/j125652p5652_indef-f115w_00002.yaml to s3://grizli-v2/HST/Pipeline/Input/j125652p5652_indef-f115w_00002.yaml\n",
      "upload: ../../../tmp/pipeline_defaults/j125652p5652_indef-f150w_00013.yaml to s3://grizli-v2/HST/Pipeline/Input/j125652p5652_indef-f150w_00013.yaml\n",
      "upload: ../../../tmp/pipeline_defaults/j125652p5652_indef-f115w_00006.yaml to s3://grizli-v2/HST/Pipeline/Input/j125652p5652_indef-f115w_00006.yaml\n",
      "upload: ../../../tmp/pipeline_defaults/j125652p5652_indef-f115w_00008.yaml to s3://grizli-v2/HST/Pipeline/Input/j125652p5652_indef-f115w_00008.yaml\n",
      "upload: ../../../tmp/pipeline_defaults/j125652p5652_indef-f115w_00009.yaml to s3://grizli-v2/HST/Pipeline/Input/j125652p5652_indef-f115w_00009.yaml\n",
      "upload: ../../../tmp/pipeline_defaults/j125652p5652_indef-f115w_00005.yaml to s3://grizli-v2/HST/Pipeline/Input/j125652p5652_indef-f115w_00005.yaml\n",
      "upload: ../../../tmp/pipeline_defaults/j125652p5652_indef-f150w_00012.yaml to s3://grizli-v2/HST/Pipeline/Input/j125652p5652_indef-f150w_00012.yaml\n",
      "upload: ../../../tmp/pipeline_defaults/j125652p5652_indef-f115w_00000.yaml to s3://grizli-v2/HST/Pipeline/Input/j125652p5652_indef-f115w_00000.yaml\n",
      "upload: ../../../tmp/pipeline_defaults/j125652p5652_indef-f115w_00004.yaml to s3://grizli-v2/HST/Pipeline/Input/j125652p5652_indef-f115w_00004.yaml\n",
      "upload: ../../../tmp/pipeline_defaults/j125652p5652_indef-f150w_00015.yaml to s3://grizli-v2/HST/Pipeline/Input/j125652p5652_indef-f150w_00015.yaml\n",
      "upload: ../../../tmp/pipeline_defaults/j125652p5652_indef-f150w_00016.yaml to s3://grizli-v2/HST/Pipeline/Input/j125652p5652_indef-f150w_00016.yaml\n",
      "upload: ../../../tmp/pipeline_defaults/j125652p5652_indef-f150w_00017.yaml to s3://grizli-v2/HST/Pipeline/Input/j125652p5652_indef-f150w_00017.yaml\n",
      "upload: ../../../tmp/pipeline_defaults/j125652p5652_indef-f150w_00018.yaml to s3://grizli-v2/HST/Pipeline/Input/j125652p5652_indef-f150w_00018.yaml\n",
      "upload: ../../../tmp/pipeline_defaults/j125652p5652_indef-f200w_00020.yaml to s3://grizli-v2/HST/Pipeline/Input/j125652p5652_indef-f200w_00020.yaml\n",
      "upload: ../../../tmp/pipeline_defaults/j125652p5652_indef-f150w_00019.yaml to s3://grizli-v2/HST/Pipeline/Input/j125652p5652_indef-f150w_00019.yaml\n",
      "upload: ../../../tmp/pipeline_defaults/j125652p5652_indef-f200w_00021.yaml to s3://grizli-v2/HST/Pipeline/Input/j125652p5652_indef-f200w_00021.yaml\n",
      "upload: ../../../tmp/pipeline_defaults/j125652p5652_indef-f200w_00022.yaml to s3://grizli-v2/HST/Pipeline/Input/j125652p5652_indef-f200w_00022.yaml\n",
      "upload: ../../../tmp/pipeline_defaults/j125652p5652_indef-f200w_00024.yaml to s3://grizli-v2/HST/Pipeline/Input/j125652p5652_indef-f200w_00024.yaml\n",
      "upload: ../../../tmp/pipeline_defaults/j125652p5652_indef-f200w_00025.yaml to s3://grizli-v2/HST/Pipeline/Input/j125652p5652_indef-f200w_00025.yaml\n",
      "upload: ../../../tmp/pipeline_defaults/j125652p5652_indef-f200w_00026.yaml to s3://grizli-v2/HST/Pipeline/Input/j125652p5652_indef-f200w_00026.yaml\n",
      "upload: ../../../tmp/pipeline_defaults/j125652p5652_indef-f200w_00027.yaml to s3://grizli-v2/HST/Pipeline/Input/j125652p5652_indef-f200w_00027.yaml\n",
      "upload: ../../../tmp/pipeline_defaults/j125652p5652_indef-f200w_00028.yaml to s3://grizli-v2/HST/Pipeline/Input/j125652p5652_indef-f200w_00028.yaml\n",
      "upload: ../../../tmp/pipeline_defaults/j125652p5652_indef-f356w_00010.yaml to s3://grizli-v2/HST/Pipeline/Input/j125652p5652_indef-f356w_00010.yaml\n",
      "upload: ../../../tmp/pipeline_defaults/j125652p5652_indef-f277w_00007.yaml to s3://grizli-v2/HST/Pipeline/Input/j125652p5652_indef-f277w_00007.yaml\n",
      "upload: ../../../tmp/pipeline_defaults/j125652p5652_indef-f356w_00011.yaml to s3://grizli-v2/HST/Pipeline/Input/j125652p5652_indef-f356w_00011.yaml\n",
      "upload: ../../../tmp/pipeline_defaults/j125652p5652_indef-f277w_00003.yaml to s3://grizli-v2/HST/Pipeline/Input/j125652p5652_indef-f277w_00003.yaml\n",
      "upload: ../../../tmp/pipeline_defaults/j125652p5652_indef-f444w_00023.yaml to s3://grizli-v2/HST/Pipeline/Input/j125652p5652_indef-f444w_00023.yaml\n",
      "upload: ../../../tmp/pipeline_defaults/j125652p5652_indef-f444w_00029.yaml to s3://grizli-v2/HST/Pipeline/Input/j125652p5652_indef-f444w_00029.yaml\n",
      "                                                                                    \n"
     ]
    }
   ],
   "source": [
    "# Pipeline parameters\n",
    "\n",
    "import os\n",
    "import yaml\n",
    "\n",
    "# Aggressive 1/f correction for blank fields\n",
    "defaults = {'visit_prep_args': {\n",
    "                'oneoverf_kwargs': {'deg_pix':2048, 'dilate_iterations':3, 'thresholds':[5,4,3]},\n",
    "                'align_mag_limits': [14, 26.5, 0.1],\n",
    "            }, \n",
    "           }\n",
    "\n",
    "if not os.path.exists('/tmp/pipeline_defaults'):\n",
    "    os.mkdir('/tmp/pipeline_defaults')\n",
    "    \n",
    "if 1:\n",
    "    ! rm /tmp/pipeline_defaults/*\n",
    "    \n",
    "for assoc in assoc_list['assoc_name']:\n",
    "    has_grism = ('gr150' in assoc) | ('grism' in assoc)\n",
    "        \n",
    "    defaults['visit_prep_args']['oneoverf_kwargs'] =  {'deg_pix':2048, 'dilate_iterations':3, \n",
    "                                                       'thresholds':[5,4,3],\n",
    "                                                       'other_axis':(not has_grism),\n",
    "                                                      }\n",
    "\n",
    "    # Do \"angle background\" for long diffraction spikes\n",
    "    defaults['visit_prep_args']['angle_background_kwargs'] = {'instruments':['NIRCAM'],\n",
    "                                                              'angles': [30.0, -30.0, 0, 90],\n",
    "                                                              'threshold':0.9}        \n",
    "\n",
    "    # now set new CR identification parameters\n",
    "    if True:\n",
    "        print(' ** setting new drz cosmic ray identification parameters')\n",
    "        defaults['visit_prep_args']['drizzle_params'] = {'driz_cr_snr':'1.0 0.5', 'driz_cr_scale':'1.0 0.6'}\n",
    "    \n",
    "\n",
    "    with open(f'/tmp/pipeline_defaults/{assoc}.yaml','w') as fp:\n",
    "        yaml.dump(defaults, fp)\n",
    "       \n",
    "if 1:\n",
    "    ! aws s3 sync /tmp/pipeline_defaults/ s3://grizli-v2/HST/Pipeline/Input/ --acl public-read --exclude \"*\" --include \"*yaml\""
   ]
  },
  {
   "attachments": {},
   "cell_type": "markdown",
   "metadata": {},
   "source": [
    "# Launch EC2 instances\n",
    "\n",
    "Flip the switch `if 0:` > `if 1` below to run up to 70 EC2 instances that will work through the preprocessing pipeline on all associations with `status=0` in the database.  The script below will launch `Ni = min(Ns//2, nmax)` instances where `Ns` is the number of `status=0` associations in the database. "
   ]
  },
  {
   "cell_type": "code",
   "execution_count": 13,
   "metadata": {},
   "outputs": [
    {
     "name": "stdout",
     "output_type": "stream",
     "text": [
      "# Launch 15 instances with LaunchTemplateId=lt-0e8c2b8611c9029eb,Version=38: \n",
      "aws ec2 run-instances --count 15 --launch-template LaunchTemplateId=lt-0e8c2b8611c9029eb,Version=38\n"
     ]
    },
    {
     "name": "stdout",
     "output_type": "stream",
     "text": [
      "{\n",
      "    \"Groups\": [],\n",
      "    \"Instances\": [\n",
      "        {\n",
      "            \"AmiLaunchIndex\": 0,\n",
      "            \"ImageId\": \"ami-0251162c8d60c856f\",\n",
      "            \"InstanceId\": \"i-0d619df2cfe106cae\",\n",
      "            \"InstanceType\": \"c5d.large\",\n",
      "            \"KeyName\": \"MBP-nbi-group\",\n",
      "            \"LaunchTime\": \"2024-04-15T13:00:43.000Z\",\n",
      "            \"Monitoring\": {\n",
      "                \"State\": \"disabled\"\n",
      "            },\n",
      "            \"Placement\": {\n",
      "                \"AvailabilityZone\": \"us-east-1c\",\n",
      "                \"GroupName\": \"\",\n",
      "                \"Tenancy\": \"default\"\n",
      "            },\n",
      "            \"PrivateDnsName\": \"ip-172-31-80-34.ec2.internal\",\n",
      "            \"PrivateIpAddress\": \"172.31.80.34\",\n",
      "            \"ProductCodes\": [],\n",
      "            \"PublicDnsName\": \"\",\n",
      "            \"State\": {\n",
      "                \"Code\": 0,\n",
      "                \"Name\": \"pending\"\n",
      "            },\n",
      "            \"StateTransitionReason\": \"\",\n",
      "            \"SubnetId\": \"subnet-155ed53b\",\n",
      "            \"VpcId\": \"vpc-29da0253\",\n",
      "            \"Architecture\": \"x86_64\",\n",
      "            \"BlockDeviceMappings\": [],\n",
      "            \"ClientToken\": \"3561f264-c64c-4978-98da-c144a76e5660\",\n",
      "            \"EbsOptimized\": false,\n",
      "            \"EnaSupport\": true,\n",
      "            \"Hypervisor\": \"xen\",\n",
      "            \"IamInstanceProfile\": {\n",
      "                \"Arn\": \"arn:aws:iam::598781256208:instance-profile/Full_S3_Lambda_RDS\",\n",
      "                \"Id\": \"AIPAYW2RE4IIKOHDULIBX\"\n",
      "            },\n",
      "            \"InstanceLifecycle\": \"spot\",\n",
      "            \"NetworkInterfaces\": [\n",
      "                {\n",
      "                    \"Attachment\": {\n",
      "                        \"AttachTime\": \"2024-04-15T13:00:43.000Z\",\n",
      "                        \"AttachmentId\": \"eni-attach-085ae1945e900e245\",\n",
      "                        \"DeleteOnTermination\": true,\n",
      "                        \"DeviceIndex\": 0,\n",
      "                        \"Status\": \"attaching\",\n",
      "                        \"NetworkCardIndex\": 0\n",
      "                    },\n",
      "                    \"Description\": \"\",\n",
      "                    \"Groups\": [\n",
      "                        {\n",
      "                            \"GroupName\": \"default\",\n",
      "                            \"GroupId\": \"sg-abc4c7e4\"\n",
      "                        },\n",
      "                        {\n",
      "                            \"GroupName\": \"copy-instance-sg-1\",\n",
      "                            \"GroupId\": \"sg-02ed161c0d14d658f\"\n",
      "                        }\n",
      "                    ],\n",
      "                    \"Ipv6Addresses\": [],\n",
      "                    \"MacAddress\": \"12:54:3a:5e:c1:97\",\n",
      "                    \"NetworkInterfaceId\": \"eni-06e7422835ee86559\",\n",
      "                    \"OwnerId\": \"598781256208\",\n",
      "                    \"PrivateDnsName\": \"ip-172-31-80-34.ec2.internal\",\n",
      "                    \"PrivateIpAddress\": \"172.31.80.34\",\n",
      "                    \"PrivateIpAddresses\": [\n",
      "                        {\n",
      "                            \"Primary\": true,\n",
      "                            \"PrivateDnsName\": \"ip-172-31-80-34.ec2.internal\",\n",
      "                            \"PrivateIpAddress\": \"172.31.80.34\"\n",
      "                        }\n",
      "                    ],\n",
      "                    \"SourceDestCheck\": true,\n",
      "                    \"Status\": \"in-use\",\n",
      "                    \"SubnetId\": \"subnet-155ed53b\",\n",
      "                    \"VpcId\": \"vpc-29da0253\",\n",
      "                    \"InterfaceType\": \"interface\"\n",
      "                }\n",
      "            ],\n",
      "            \"RootDeviceName\": \"/dev/xvda\",\n",
      "            \"RootDeviceType\": \"ebs\",\n",
      "            \"SecurityGroups\": [\n",
      "                {\n",
      "                    \"GroupName\": \"default\",\n",
      "                    \"GroupId\": \"sg-abc4c7e4\"\n",
      "                },\n",
      "                {\n",
      "                    \"GroupName\": \"copy-instance-sg-1\",\n",
      "                    \"GroupId\": \"sg-02ed161c0d14d658f\"\n",
      "                }\n",
      "            ],\n",
      "            \"SourceDestCheck\": true,\n",
      "            \"SpotInstanceRequestId\": \"sir-h2ryrm6p\",\n",
      "            \"StateReason\": {\n",
      "                \"Code\": \"pending\",\n",
      "                \"Message\": \"pending\"\n",
      "            },\n",
      "            \"Tags\": [\n",
      "                {\n",
      "                    \"Key\": \"aws:ec2launchtemplate:id\",\n",
      "                    \"Value\": \"lt-0e8c2b8611c9029eb\"\n",
      "                },\n",
      "                {\n",
      "                    \"Key\": \"aws:ec2launchtemplate:version\",\n",
      "                    \"Value\": \"38\"\n",
      "                },\n",
      "                {\n",
      "                    \"Key\": \"Name\",\n",
      "                    \"Value\": \"visit-worker39\"\n",
      "                }\n",
      "            ],\n",
      "            \"VirtualizationType\": \"hvm\",\n",
      "            \"CpuOptions\": {\n",
      "                \"CoreCount\": 1,\n",
      "                \"ThreadsPerCore\": 2\n",
      "            },\n",
      "            \"CapacityReservationSpecification\": {\n",
      "                \"CapacityReservationPreference\": \"open\"\n",
      "            },\n",
      "            \"MetadataOptions\": {\n",
      "                \"State\": \"pending\",\n",
      "                \"HttpTokens\": \"optional\",\n",
      "                \"HttpPutResponseHopLimit\": 1,\n",
      "                \"HttpEndpoint\": \"enabled\",\n",
      "                \"HttpProtocolIpv6\": \"disabled\",\n",
      "                \"InstanceMetadataTags\": \"disabled\"\n",
      "            },\n",
      "            \"EnclaveOptions\": {\n",
      "                \"Enabled\": false\n",
      "            },\n",
      "            \"PrivateDnsNameOptions\": {\n",
      "                \"HostnameType\": \"ip-name\",\n",
      "                \"EnableResourceNameDnsARecord\": false,\n",
      "                \"EnableResourceNameDnsAAAARecord\": false\n",
      "            },\n",
      "            \"MaintenanceOptions\": {\n",
      "                \"AutoRecovery\": \"default\"\n",
      "            },\n",
      "            \"CurrentInstanceBootMode\": \"legacy-bios\"\n",
      "        },\n",
      "        {\n",
      "            \"AmiLaunchIndex\": 3,\n",
      "            \"ImageId\": \"ami-0251162c8d60c856f\",\n",
      "            \"InstanceId\": \"i-030b156b95679d532\",\n",
      "            \"InstanceType\": \"c5d.large\",\n",
      "            \"KeyName\": \"MBP-nbi-group\",\n",
      "            \"LaunchTime\": \"2024-04-15T13:00:43.000Z\",\n",
      "            \"Monitoring\": {\n",
      "                \"State\": \"disabled\"\n",
      "            },\n",
      "            \"Placement\": {\n",
      "                \"AvailabilityZone\": \"us-east-1c\",\n",
      "                \"GroupName\": \"\",\n",
      "                \"Tenancy\": \"default\"\n",
      "            },\n",
      "            \"PrivateDnsName\": \"ip-172-31-86-172.ec2.internal\",\n",
      "            \"PrivateIpAddress\": \"172.31.86.172\",\n",
      "            \"ProductCodes\": [],\n",
      "            \"PublicDnsName\": \"\",\n",
      "            \"State\": {\n",
      "                \"Code\": 0,\n",
      "                \"Name\": \"pending\"\n",
      "            },\n",
      "            \"StateTransitionReason\": \"\",\n",
      "            \"SubnetId\": \"subnet-155ed53b\",\n",
      "            \"VpcId\": \"vpc-29da0253\",\n",
      "            \"Architecture\": \"x86_64\",\n",
      "            \"BlockDeviceMappings\": [],\n",
      "            \"ClientToken\": \"3561f264-c64c-4978-98da-c144a76e5660\",\n",
      "            \"EbsOptimized\": false,\n",
      "            \"EnaSupport\": true,\n",
      "            \"Hypervisor\": \"xen\",\n",
      "            \"IamInstanceProfile\": {\n",
      "                \"Arn\": \"arn:aws:iam::598781256208:instance-profile/Full_S3_Lambda_RDS\",\n",
      "                \"Id\": \"AIPAYW2RE4IIKOHDULIBX\"\n",
      "            },\n",
      "            \"InstanceLifecycle\": \"spot\",\n",
      "            \"NetworkInterfaces\": [\n",
      "                {\n",
      "                    \"Attachment\": {\n",
      "                        \"AttachTime\": \"2024-04-15T13:00:43.000Z\",\n",
      "                        \"AttachmentId\": \"eni-attach-04568217146217c4d\",\n",
      "                        \"DeleteOnTermination\": true,\n",
      "                        \"DeviceIndex\": 0,\n",
      "                        \"Status\": \"attaching\",\n",
      "                        \"NetworkCardIndex\": 0\n",
      "                    },\n",
      "                    \"Description\": \"\",\n",
      "                    \"Groups\": [\n",
      "                        {\n",
      "                            \"GroupName\": \"default\",\n",
      "                            \"GroupId\": \"sg-abc4c7e4\"\n",
      "                        },\n",
      "                        {\n",
      "                            \"GroupName\": \"copy-instance-sg-1\",\n",
      "                            \"GroupId\": \"sg-02ed161c0d14d658f\"\n",
      "                        }\n",
      "                    ],\n",
      "                    \"Ipv6Addresses\": [],\n",
      "                    \"MacAddress\": \"12:b8:1a:41:3f:6d\",\n",
      "                    \"NetworkInterfaceId\": \"eni-0975bcea7f01e4072\",\n",
      "                    \"OwnerId\": \"598781256208\",\n",
      "                    \"PrivateDnsName\": \"ip-172-31-86-172.ec2.internal\",\n",
      "                    \"PrivateIpAddress\": \"172.31.86.172\",\n",
      "                    \"PrivateIpAddresses\": [\n",
      "                        {\n",
      "                            \"Primary\": true,\n",
      "                            \"PrivateDnsName\": \"ip-172-31-86-172.ec2.internal\",\n",
      "                            \"PrivateIpAddress\": \"172.31.86.172\"\n",
      "                        }\n",
      "                    ],\n",
      "                    \"SourceDestCheck\": true,\n",
      "                    \"Status\": \"in-use\",\n",
      "                    \"SubnetId\": \"subnet-155ed53b\",\n",
      "                    \"VpcId\": \"vpc-29da0253\",\n",
      "                    \"InterfaceType\": \"interface\"\n",
      "                }\n",
      "            ],\n",
      "            \"RootDeviceName\": \"/dev/xvda\",\n",
      "            \"RootDeviceType\": \"ebs\",\n",
      "            \"SecurityGroups\": [\n",
      "                {\n",
      "                    \"GroupName\": \"default\",\n",
      "                    \"GroupId\": \"sg-abc4c7e4\"\n",
      "                },\n",
      "                {\n",
      "                    \"GroupName\": \"copy-instance-sg-1\",\n",
      "                    \"GroupId\": \"sg-02ed161c0d14d658f\"\n",
      "                }\n",
      "            ],\n",
      "            \"SourceDestCheck\": true,\n",
      "            \"SpotInstanceRequestId\": \"sir-amiyszmn\",\n",
      "            \"StateReason\": {\n",
      "                \"Code\": \"pending\",\n",
      "                \"Message\": \"pending\"\n",
      "            },\n",
      "            \"Tags\": [\n",
      "                {\n",
      "                    \"Key\": \"aws:ec2launchtemplate:id\",\n",
      "                    \"Value\": \"lt-0e8c2b8611c9029eb\"\n",
      "                },\n",
      "                {\n",
      "                    \"Key\": \"aws:ec2launchtemplate:version\",\n",
      "                    \"Value\": \"38\"\n",
      "                },\n",
      "                {\n",
      "                    \"Key\": \"Name\",\n",
      "                    \"Value\": \"visit-worker39\"\n",
      "                }\n",
      "            ],\n",
      "            \"VirtualizationType\": \"hvm\",\n",
      "            \"CpuOptions\": {\n",
      "                \"CoreCount\": 1,\n",
      "                \"ThreadsPerCore\": 2\n",
      "            },\n",
      "            \"CapacityReservationSpecification\": {\n",
      "                \"CapacityReservationPreference\": \"open\"\n",
      "            },\n",
      "            \"MetadataOptions\": {\n",
      "                \"State\": \"pending\",\n",
      "                \"HttpTokens\": \"optional\",\n",
      "                \"HttpPutResponseHopLimit\": 1,\n",
      "                \"HttpEndpoint\": \"enabled\",\n",
      "                \"HttpProtocolIpv6\": \"disabled\",\n",
      "                \"InstanceMetadataTags\": \"disabled\"\n",
      "            },\n",
      "            \"EnclaveOptions\": {\n",
      "                \"Enabled\": false\n",
      "            },\n",
      "            \"PrivateDnsNameOptions\": {\n",
      "                \"HostnameType\": \"ip-name\",\n",
      "                \"EnableResourceNameDnsARecord\": false,\n",
      "                \"EnableResourceNameDnsAAAARecord\": false\n",
      "            },\n",
      "            \"MaintenanceOptions\": {\n",
      "                \"AutoRecovery\": \"default\"\n",
      "            },\n",
      "            \"CurrentInstanceBootMode\": \"legacy-bios\"\n",
      "        },\n",
      "        {\n",
      "            \"AmiLaunchIndex\": 10,\n",
      "            \"ImageId\": \"ami-0251162c8d60c856f\",\n",
      "            \"InstanceId\": \"i-03c8e8e1e9a7ad06c\",\n",
      "            \"InstanceType\": \"c5d.large\",\n",
      "            \"KeyName\": \"MBP-nbi-group\",\n",
      "            \"LaunchTime\": \"2024-04-15T13:00:43.000Z\",\n",
      "            \"Monitoring\": {\n",
      "                \"State\": \"disabled\"\n",
      "            },\n",
      "            \"Placement\": {\n",
      "                \"AvailabilityZone\": \"us-east-1c\",\n",
      "                \"GroupName\": \"\",\n",
      "                \"Tenancy\": \"default\"\n",
      "            },\n",
      "            \"PrivateDnsName\": \"ip-172-31-81-21.ec2.internal\",\n",
      "            \"PrivateIpAddress\": \"172.31.81.21\",\n",
      "            \"ProductCodes\": [],\n",
      "            \"PublicDnsName\": \"\",\n",
      "            \"State\": {\n",
      "                \"Code\": 0,\n",
      "                \"Name\": \"pending\"\n",
      "            },\n",
      "            \"StateTransitionReason\": \"\",\n",
      "            \"SubnetId\": \"subnet-155ed53b\",\n",
      "            \"VpcId\": \"vpc-29da0253\",\n",
      "            \"Architecture\": \"x86_64\",\n",
      "            \"BlockDeviceMappings\": [],\n",
      "            \"ClientToken\": \"3561f264-c64c-4978-98da-c144a76e5660\",\n",
      "            \"EbsOptimized\": false,\n",
      "            \"EnaSupport\": true,\n",
      "            \"Hypervisor\": \"xen\",\n",
      "            \"IamInstanceProfile\": {\n",
      "                \"Arn\": \"arn:aws:iam::598781256208:instance-profile/Full_S3_Lambda_RDS\",\n",
      "                \"Id\": \"AIPAYW2RE4IIKOHDULIBX\"\n",
      "            },\n",
      "            \"InstanceLifecycle\": \"spot\",\n",
      "            \"NetworkInterfaces\": [\n",
      "                {\n",
      "                    \"Attachment\": {\n",
      "                        \"AttachTime\": \"2024-04-15T13:00:43.000Z\",\n",
      "                        \"AttachmentId\": \"eni-attach-023e61c49021a697c\",\n",
      "                        \"DeleteOnTermination\": true,\n",
      "                        \"DeviceIndex\": 0,\n",
      "                        \"Status\": \"attaching\",\n",
      "                        \"NetworkCardIndex\": 0\n",
      "                    },\n",
      "                    \"Description\": \"\",\n",
      "                    \"Groups\": [\n",
      "                        {\n",
      "                            \"GroupName\": \"default\",\n",
      "                            \"GroupId\": \"sg-abc4c7e4\"\n",
      "                        },\n",
      "                        {\n",
      "                            \"GroupName\": \"copy-instance-sg-1\",\n",
      "                            \"GroupId\": \"sg-02ed161c0d14d658f\"\n",
      "                        }\n",
      "                    ],\n",
      "                    \"Ipv6Addresses\": [],\n",
      "                    \"MacAddress\": \"12:07:ae:4e:cc:cb\",\n",
      "                    \"NetworkInterfaceId\": \"eni-0c3003bb6aceeb800\",\n",
      "                    \"OwnerId\": \"598781256208\",\n",
      "                    \"PrivateDnsName\": \"ip-172-31-81-21.ec2.internal\",\n",
      "                    \"PrivateIpAddress\": \"172.31.81.21\",\n",
      "                    \"PrivateIpAddresses\": [\n",
      "                        {\n",
      "                            \"Primary\": true,\n",
      "                            \"PrivateDnsName\": \"ip-172-31-81-21.ec2.internal\",\n",
      "                            \"PrivateIpAddress\": \"172.31.81.21\"\n",
      "                        }\n",
      "                    ],\n",
      "                    \"SourceDestCheck\": true,\n",
      "                    \"Status\": \"in-use\",\n",
      "                    \"SubnetId\": \"subnet-155ed53b\",\n",
      "                    \"VpcId\": \"vpc-29da0253\",\n",
      "                    \"InterfaceType\": \"interface\"\n",
      "                }\n",
      "            ],\n",
      "            \"RootDeviceName\": \"/dev/xvda\",\n",
      "            \"RootDeviceType\": \"ebs\",\n",
      "            \"SecurityGroups\": [\n",
      "                {\n",
      "                    \"GroupName\": \"default\",\n",
      "                    \"GroupId\": \"sg-abc4c7e4\"\n",
      "                },\n",
      "                {\n",
      "                    \"GroupName\": \"copy-instance-sg-1\",\n",
      "                    \"GroupId\": \"sg-02ed161c0d14d658f\"\n",
      "                }\n",
      "            ],\n",
      "            \"SourceDestCheck\": true,\n",
      "            \"SpotInstanceRequestId\": \"sir-5s56sggm\",\n",
      "            \"StateReason\": {\n",
      "                \"Code\": \"pending\",\n",
      "                \"Message\": \"pending\"\n",
      "            },\n",
      "            \"Tags\": [\n",
      "                {\n",
      "                    \"Key\": \"Name\",\n",
      "                    \"Value\": \"visit-worker39\"\n",
      "                },\n",
      "                {\n",
      "                    \"Key\": \"aws:ec2launchtemplate:version\",\n",
      "                    \"Value\": \"38\"\n",
      "                },\n",
      "                {\n",
      "                    \"Key\": \"aws:ec2launchtemplate:id\",\n",
      "                    \"Value\": \"lt-0e8c2b8611c9029eb\"\n",
      "                }\n",
      "            ],\n",
      "            \"VirtualizationType\": \"hvm\",\n",
      "            \"CpuOptions\": {\n",
      "                \"CoreCount\": 1,\n",
      "                \"ThreadsPerCore\": 2\n",
      "            },\n",
      "            \"CapacityReservationSpecification\": {\n",
      "                \"CapacityReservationPreference\": \"open\"\n",
      "            },\n",
      "            \"MetadataOptions\": {\n",
      "                \"State\": \"pending\",\n",
      "                \"HttpTokens\": \"optional\",\n",
      "                \"HttpPutResponseHopLimit\": 1,\n",
      "                \"HttpEndpoint\": \"enabled\",\n",
      "                \"HttpProtocolIpv6\": \"disabled\",\n",
      "                \"InstanceMetadataTags\": \"disabled\"\n",
      "            },\n",
      "            \"EnclaveOptions\": {\n",
      "                \"Enabled\": false\n",
      "            },\n",
      "            \"PrivateDnsNameOptions\": {\n",
      "                \"HostnameType\": \"ip-name\",\n",
      "                \"EnableResourceNameDnsARecord\": false,\n",
      "                \"EnableResourceNameDnsAAAARecord\": false\n",
      "            },\n",
      "            \"MaintenanceOptions\": {\n",
      "                \"AutoRecovery\": \"default\"\n",
      "            },\n",
      "            \"CurrentInstanceBootMode\": \"legacy-bios\"\n",
      "        },\n",
      "        {\n",
      "            \"AmiLaunchIndex\": 4,\n",
      "            \"ImageId\": \"ami-0251162c8d60c856f\",\n",
      "            \"InstanceId\": \"i-0ee865a9af557b120\",\n",
      "            \"InstanceType\": \"c5d.large\",\n",
      "            \"KeyName\": \"MBP-nbi-group\",\n",
      "            \"LaunchTime\": \"2024-04-15T13:00:43.000Z\",\n",
      "            \"Monitoring\": {\n",
      "                \"State\": \"disabled\"\n",
      "            },\n",
      "            \"Placement\": {\n",
      "                \"AvailabilityZone\": \"us-east-1c\",\n",
      "                \"GroupName\": \"\",\n",
      "                \"Tenancy\": \"default\"\n",
      "            },\n",
      "            \"PrivateDnsName\": \"ip-172-31-85-205.ec2.internal\",\n",
      "            \"PrivateIpAddress\": \"172.31.85.205\",\n",
      "            \"ProductCodes\": [],\n",
      "            \"PublicDnsName\": \"\",\n",
      "            \"State\": {\n",
      "                \"Code\": 0,\n",
      "                \"Name\": \"pending\"\n",
      "            },\n",
      "            \"StateTransitionReason\": \"\",\n",
      "            \"SubnetId\": \"subnet-155ed53b\",\n",
      "            \"VpcId\": \"vpc-29da0253\",\n",
      "            \"Architecture\": \"x86_64\",\n",
      "            \"BlockDeviceMappings\": [],\n",
      "            \"ClientToken\": \"3561f264-c64c-4978-98da-c144a76e5660\",\n",
      "            \"EbsOptimized\": false,\n",
      "            \"EnaSupport\": true,\n",
      "            \"Hypervisor\": \"xen\",\n",
      "            \"IamInstanceProfile\": {\n",
      "                \"Arn\": \"arn:aws:iam::598781256208:instance-profile/Full_S3_Lambda_RDS\",\n",
      "                \"Id\": \"AIPAYW2RE4IIKOHDULIBX\"\n",
      "            },\n",
      "            \"InstanceLifecycle\": \"spot\",\n",
      "            \"NetworkInterfaces\": [\n",
      "                {\n",
      "                    \"Attachment\": {\n",
      "                        \"AttachTime\": \"2024-04-15T13:00:43.000Z\",\n",
      "                        \"AttachmentId\": \"eni-attach-013c0a4343346c71c\",\n",
      "                        \"DeleteOnTermination\": true,\n",
      "                        \"DeviceIndex\": 0,\n",
      "                        \"Status\": \"attaching\",\n",
      "                        \"NetworkCardIndex\": 0\n",
      "                    },\n",
      "                    \"Description\": \"\",\n",
      "                    \"Groups\": [\n",
      "                        {\n",
      "                            \"GroupName\": \"default\",\n",
      "                            \"GroupId\": \"sg-abc4c7e4\"\n",
      "                        },\n",
      "                        {\n",
      "                            \"GroupName\": \"copy-instance-sg-1\",\n",
      "                            \"GroupId\": \"sg-02ed161c0d14d658f\"\n",
      "                        }\n",
      "                    ],\n",
      "                    \"Ipv6Addresses\": [],\n",
      "                    \"MacAddress\": \"12:4e:c7:10:39:cf\",\n",
      "                    \"NetworkInterfaceId\": \"eni-0e25a91e3ec62cde2\",\n",
      "                    \"OwnerId\": \"598781256208\",\n",
      "                    \"PrivateDnsName\": \"ip-172-31-85-205.ec2.internal\",\n",
      "                    \"PrivateIpAddress\": \"172.31.85.205\",\n",
      "                    \"PrivateIpAddresses\": [\n",
      "                        {\n",
      "                            \"Primary\": true,\n",
      "                            \"PrivateDnsName\": \"ip-172-31-85-205.ec2.internal\",\n",
      "                            \"PrivateIpAddress\": \"172.31.85.205\"\n",
      "                        }\n",
      "                    ],\n",
      "                    \"SourceDestCheck\": true,\n",
      "                    \"Status\": \"in-use\",\n",
      "                    \"SubnetId\": \"subnet-155ed53b\",\n",
      "                    \"VpcId\": \"vpc-29da0253\",\n",
      "                    \"InterfaceType\": \"interface\"\n",
      "                }\n",
      "            ],\n",
      "            \"RootDeviceName\": \"/dev/xvda\",\n",
      "            \"RootDeviceType\": \"ebs\",\n",
      "            \"SecurityGroups\": [\n",
      "                {\n",
      "                    \"GroupName\": \"default\",\n",
      "                    \"GroupId\": \"sg-abc4c7e4\"\n",
      "                },\n",
      "                {\n",
      "                    \"GroupName\": \"copy-instance-sg-1\",\n",
      "                    \"GroupId\": \"sg-02ed161c0d14d658f\"\n",
      "                }\n",
      "            ],\n",
      "            \"SourceDestCheck\": true,\n",
      "            \"SpotInstanceRequestId\": \"sir-7r9yt6qp\",\n",
      "            \"StateReason\": {\n",
      "                \"Code\": \"pending\",\n",
      "                \"Message\": \"pending\"\n",
      "            },\n",
      "            \"Tags\": [\n",
      "                {\n",
      "                    \"Key\": \"aws:ec2launchtemplate:version\",\n",
      "                    \"Value\": \"38\"\n",
      "                },\n",
      "                {\n",
      "                    \"Key\": \"Name\",\n",
      "                    \"Value\": \"visit-worker39\"\n",
      "                },\n",
      "                {\n",
      "                    \"Key\": \"aws:ec2launchtemplate:id\",\n",
      "                    \"Value\": \"lt-0e8c2b8611c9029eb\"\n",
      "                }\n",
      "            ],\n",
      "            \"VirtualizationType\": \"hvm\",\n",
      "            \"CpuOptions\": {\n",
      "                \"CoreCount\": 1,\n",
      "                \"ThreadsPerCore\": 2\n",
      "            },\n",
      "            \"CapacityReservationSpecification\": {\n",
      "                \"CapacityReservationPreference\": \"open\"\n",
      "            },\n",
      "            \"MetadataOptions\": {\n",
      "                \"State\": \"pending\",\n",
      "                \"HttpTokens\": \"optional\",\n",
      "                \"HttpPutResponseHopLimit\": 1,\n",
      "                \"HttpEndpoint\": \"enabled\",\n",
      "                \"HttpProtocolIpv6\": \"disabled\",\n",
      "                \"InstanceMetadataTags\": \"disabled\"\n",
      "            },\n",
      "            \"EnclaveOptions\": {\n",
      "                \"Enabled\": false\n",
      "            },\n",
      "            \"PrivateDnsNameOptions\": {\n",
      "                \"HostnameType\": \"ip-name\",\n",
      "                \"EnableResourceNameDnsARecord\": false,\n",
      "                \"EnableResourceNameDnsAAAARecord\": false\n",
      "            },\n",
      "            \"MaintenanceOptions\": {\n",
      "                \"AutoRecovery\": \"default\"\n",
      "            },\n",
      "            \"CurrentInstanceBootMode\": \"legacy-bios\"\n",
      "        },\n",
      "        {\n",
      "            \"AmiLaunchIndex\": 5,\n",
      "            \"ImageId\": \"ami-0251162c8d60c856f\",\n",
      "            \"InstanceId\": \"i-01a8866ab867ef422\",\n",
      "            \"InstanceType\": \"c5d.large\",\n",
      "            \"KeyName\": \"MBP-nbi-group\",\n",
      "            \"LaunchTime\": \"2024-04-15T13:00:43.000Z\",\n",
      "            \"Monitoring\": {\n",
      "                \"State\": \"disabled\"\n",
      "            },\n",
      "            \"Placement\": {\n",
      "                \"AvailabilityZone\": \"us-east-1c\",\n",
      "                \"GroupName\": \"\",\n",
      "                \"Tenancy\": \"default\"\n",
      "            },\n",
      "            \"PrivateDnsName\": \"ip-172-31-95-79.ec2.internal\",\n",
      "            \"PrivateIpAddress\": \"172.31.95.79\",\n",
      "            \"ProductCodes\": [],\n",
      "            \"PublicDnsName\": \"\",\n",
      "            \"State\": {\n",
      "                \"Code\": 0,\n",
      "                \"Name\": \"pending\"\n",
      "            },\n",
      "            \"StateTransitionReason\": \"\",\n",
      "            \"SubnetId\": \"subnet-155ed53b\",\n",
      "            \"VpcId\": \"vpc-29da0253\",\n",
      "            \"Architecture\": \"x86_64\",\n",
      "            \"BlockDeviceMappings\": [],\n",
      "            \"ClientToken\": \"3561f264-c64c-4978-98da-c144a76e5660\",\n",
      "            \"EbsOptimized\": false,\n",
      "            \"EnaSupport\": true,\n",
      "            \"Hypervisor\": \"xen\",\n",
      "            \"IamInstanceProfile\": {\n",
      "                \"Arn\": \"arn:aws:iam::598781256208:instance-profile/Full_S3_Lambda_RDS\",\n",
      "                \"Id\": \"AIPAYW2RE4IIKOHDULIBX\"\n",
      "            },\n",
      "            \"InstanceLifecycle\": \"spot\",\n",
      "            \"NetworkInterfaces\": [\n",
      "                {\n",
      "                    \"Attachment\": {\n",
      "                        \"AttachTime\": \"2024-04-15T13:00:43.000Z\",\n",
      "                        \"AttachmentId\": \"eni-attach-09ecf24c537021192\",\n",
      "                        \"DeleteOnTermination\": true,\n",
      "                        \"DeviceIndex\": 0,\n",
      "                        \"Status\": \"attaching\",\n",
      "                        \"NetworkCardIndex\": 0\n",
      "                    },\n",
      "                    \"Description\": \"\",\n",
      "                    \"Groups\": [\n",
      "                        {\n",
      "                            \"GroupName\": \"default\",\n",
      "                            \"GroupId\": \"sg-abc4c7e4\"\n",
      "                        },\n",
      "                        {\n",
      "                            \"GroupName\": \"copy-instance-sg-1\",\n",
      "                            \"GroupId\": \"sg-02ed161c0d14d658f\"\n",
      "                        }\n",
      "                    ],\n",
      "                    \"Ipv6Addresses\": [],\n",
      "                    \"MacAddress\": \"12:d3:15:91:11:d3\",\n",
      "                    \"NetworkInterfaceId\": \"eni-0c05b7f5e089bdde0\",\n",
      "                    \"OwnerId\": \"598781256208\",\n",
      "                    \"PrivateDnsName\": \"ip-172-31-95-79.ec2.internal\",\n",
      "                    \"PrivateIpAddress\": \"172.31.95.79\",\n",
      "                    \"PrivateIpAddresses\": [\n",
      "                        {\n",
      "                            \"Primary\": true,\n",
      "                            \"PrivateDnsName\": \"ip-172-31-95-79.ec2.internal\",\n",
      "                            \"PrivateIpAddress\": \"172.31.95.79\"\n",
      "                        }\n",
      "                    ],\n",
      "                    \"SourceDestCheck\": true,\n",
      "                    \"Status\": \"in-use\",\n",
      "                    \"SubnetId\": \"subnet-155ed53b\",\n",
      "                    \"VpcId\": \"vpc-29da0253\",\n",
      "                    \"InterfaceType\": \"interface\"\n",
      "                }\n",
      "            ],\n",
      "            \"RootDeviceName\": \"/dev/xvda\",\n",
      "            \"RootDeviceType\": \"ebs\",\n",
      "            \"SecurityGroups\": [\n",
      "                {\n",
      "                    \"GroupName\": \"default\",\n",
      "                    \"GroupId\": \"sg-abc4c7e4\"\n",
      "                },\n",
      "                {\n",
      "                    \"GroupName\": \"copy-instance-sg-1\",\n",
      "                    \"GroupId\": \"sg-02ed161c0d14d658f\"\n",
      "                }\n",
      "            ],\n",
      "            \"SourceDestCheck\": true,\n",
      "            \"SpotInstanceRequestId\": \"sir-tahytr9p\",\n",
      "            \"StateReason\": {\n",
      "                \"Code\": \"pending\",\n",
      "                \"Message\": \"pending\"\n",
      "            },\n",
      "            \"Tags\": [\n",
      "                {\n",
      "                    \"Key\": \"aws:ec2launchtemplate:version\",\n",
      "                    \"Value\": \"38\"\n",
      "                },\n",
      "                {\n",
      "                    \"Key\": \"aws:ec2launchtemplate:id\",\n",
      "                    \"Value\": \"lt-0e8c2b8611c9029eb\"\n",
      "                },\n",
      "                {\n",
      "                    \"Key\": \"Name\",\n",
      "                    \"Value\": \"visit-worker39\"\n",
      "                }\n",
      "            ],\n",
      "            \"VirtualizationType\": \"hvm\",\n",
      "            \"CpuOptions\": {\n",
      "                \"CoreCount\": 1,\n",
      "                \"ThreadsPerCore\": 2\n",
      "            },\n",
      "            \"CapacityReservationSpecification\": {\n",
      "                \"CapacityReservationPreference\": \"open\"\n",
      "            },\n",
      "            \"MetadataOptions\": {\n",
      "                \"State\": \"pending\",\n",
      "                \"HttpTokens\": \"optional\",\n",
      "                \"HttpPutResponseHopLimit\": 1,\n",
      "                \"HttpEndpoint\": \"enabled\",\n",
      "                \"HttpProtocolIpv6\": \"disabled\",\n",
      "                \"InstanceMetadataTags\": \"disabled\"\n",
      "            },\n",
      "            \"EnclaveOptions\": {\n",
      "                \"Enabled\": false\n",
      "            },\n",
      "            \"PrivateDnsNameOptions\": {\n",
      "                \"HostnameType\": \"ip-name\",\n",
      "                \"EnableResourceNameDnsARecord\": false,\n",
      "                \"EnableResourceNameDnsAAAARecord\": false\n",
      "            },\n",
      "            \"MaintenanceOptions\": {\n",
      "                \"AutoRecovery\": \"default\"\n",
      "            },\n",
      "            \"CurrentInstanceBootMode\": \"legacy-bios\"\n",
      "        },\n",
      "        {\n",
      "            \"AmiLaunchIndex\": 12,\n",
      "            \"ImageId\": \"ami-0251162c8d60c856f\",\n",
      "            \"InstanceId\": \"i-02cc839c8934db969\",\n",
      "            \"InstanceType\": \"c5d.large\",\n",
      "            \"KeyName\": \"MBP-nbi-group\",\n",
      "            \"LaunchTime\": \"2024-04-15T13:00:43.000Z\",\n",
      "            \"Monitoring\": {\n",
      "                \"State\": \"disabled\"\n",
      "            },\n",
      "            \"Placement\": {\n",
      "                \"AvailabilityZone\": \"us-east-1c\",\n",
      "                \"GroupName\": \"\",\n",
      "                \"Tenancy\": \"default\"\n",
      "            },\n",
      "            \"PrivateDnsName\": \"ip-172-31-81-249.ec2.internal\",\n",
      "            \"PrivateIpAddress\": \"172.31.81.249\",\n",
      "            \"ProductCodes\": [],\n",
      "            \"PublicDnsName\": \"\",\n",
      "            \"State\": {\n",
      "                \"Code\": 0,\n",
      "                \"Name\": \"pending\"\n",
      "            },\n",
      "            \"StateTransitionReason\": \"\",\n",
      "            \"SubnetId\": \"subnet-155ed53b\",\n",
      "            \"VpcId\": \"vpc-29da0253\",\n",
      "            \"Architecture\": \"x86_64\",\n",
      "            \"BlockDeviceMappings\": [],\n",
      "            \"ClientToken\": \"3561f264-c64c-4978-98da-c144a76e5660\",\n",
      "            \"EbsOptimized\": false,\n",
      "            \"EnaSupport\": true,\n",
      "            \"Hypervisor\": \"xen\",\n",
      "            \"IamInstanceProfile\": {\n",
      "                \"Arn\": \"arn:aws:iam::598781256208:instance-profile/Full_S3_Lambda_RDS\",\n",
      "                \"Id\": \"AIPAYW2RE4IIKOHDULIBX\"\n",
      "            },\n",
      "            \"InstanceLifecycle\": \"spot\",\n",
      "            \"NetworkInterfaces\": [\n",
      "                {\n",
      "                    \"Attachment\": {\n",
      "                        \"AttachTime\": \"2024-04-15T13:00:43.000Z\",\n",
      "                        \"AttachmentId\": \"eni-attach-0d349636921f62bf8\",\n",
      "                        \"DeleteOnTermination\": true,\n",
      "                        \"DeviceIndex\": 0,\n",
      "                        \"Status\": \"attaching\",\n",
      "                        \"NetworkCardIndex\": 0\n",
      "                    },\n",
      "                    \"Description\": \"\",\n",
      "                    \"Groups\": [\n",
      "                        {\n",
      "                            \"GroupName\": \"default\",\n",
      "                            \"GroupId\": \"sg-abc4c7e4\"\n",
      "                        },\n",
      "                        {\n",
      "                            \"GroupName\": \"copy-instance-sg-1\",\n",
      "                            \"GroupId\": \"sg-02ed161c0d14d658f\"\n",
      "                        }\n",
      "                    ],\n",
      "                    \"Ipv6Addresses\": [],\n",
      "                    \"MacAddress\": \"12:76:3d:fb:f0:ed\",\n",
      "                    \"NetworkInterfaceId\": \"eni-0732e9b07afb33d2b\",\n",
      "                    \"OwnerId\": \"598781256208\",\n",
      "                    \"PrivateDnsName\": \"ip-172-31-81-249.ec2.internal\",\n",
      "                    \"PrivateIpAddress\": \"172.31.81.249\",\n",
      "                    \"PrivateIpAddresses\": [\n",
      "                        {\n",
      "                            \"Primary\": true,\n",
      "                            \"PrivateDnsName\": \"ip-172-31-81-249.ec2.internal\",\n",
      "                            \"PrivateIpAddress\": \"172.31.81.249\"\n",
      "                        }\n",
      "                    ],\n",
      "                    \"SourceDestCheck\": true,\n",
      "                    \"Status\": \"in-use\",\n",
      "                    \"SubnetId\": \"subnet-155ed53b\",\n",
      "                    \"VpcId\": \"vpc-29da0253\",\n",
      "                    \"InterfaceType\": \"interface\"\n",
      "                }\n",
      "            ],\n",
      "            \"RootDeviceName\": \"/dev/xvda\",\n",
      "            \"RootDeviceType\": \"ebs\",\n",
      "            \"SecurityGroups\": [\n",
      "                {\n",
      "                    \"GroupName\": \"default\",\n",
      "                    \"GroupId\": \"sg-abc4c7e4\"\n",
      "                },\n",
      "                {\n",
      "                    \"GroupName\": \"copy-instance-sg-1\",\n",
      "                    \"GroupId\": \"sg-02ed161c0d14d658f\"\n",
      "                }\n",
      "            ],\n",
      "            \"SourceDestCheck\": true,\n",
      "            \"SpotInstanceRequestId\": \"sir-sy4pv8hn\",\n",
      "            \"StateReason\": {\n",
      "                \"Code\": \"pending\",\n",
      "                \"Message\": \"pending\"\n",
      "            },\n",
      "            \"Tags\": [\n",
      "                {\n",
      "                    \"Key\": \"aws:ec2launchtemplate:version\",\n",
      "                    \"Value\": \"38\"\n",
      "                },\n",
      "                {\n",
      "                    \"Key\": \"aws:ec2launchtemplate:id\",\n",
      "                    \"Value\": \"lt-0e8c2b8611c9029eb\"\n",
      "                },\n",
      "                {\n",
      "                    \"Key\": \"Name\",\n",
      "                    \"Value\": \"visit-worker39\"\n",
      "                }\n",
      "            ],\n",
      "            \"VirtualizationType\": \"hvm\",\n",
      "            \"CpuOptions\": {\n",
      "                \"CoreCount\": 1,\n",
      "                \"ThreadsPerCore\": 2\n",
      "            },\n",
      "            \"CapacityReservationSpecification\": {\n",
      "                \"CapacityReservationPreference\": \"open\"\n",
      "            },\n",
      "            \"MetadataOptions\": {\n",
      "                \"State\": \"pending\",\n",
      "                \"HttpTokens\": \"optional\",\n",
      "                \"HttpPutResponseHopLimit\": 1,\n",
      "                \"HttpEndpoint\": \"enabled\",\n",
      "                \"HttpProtocolIpv6\": \"disabled\",\n",
      "                \"InstanceMetadataTags\": \"disabled\"\n",
      "            },\n",
      "            \"EnclaveOptions\": {\n",
      "                \"Enabled\": false\n",
      "            },\n",
      "            \"PrivateDnsNameOptions\": {\n",
      "                \"HostnameType\": \"ip-name\",\n",
      "                \"EnableResourceNameDnsARecord\": false,\n",
      "                \"EnableResourceNameDnsAAAARecord\": false\n",
      "            },\n",
      "            \"MaintenanceOptions\": {\n",
      "                \"AutoRecovery\": \"default\"\n",
      "            },\n",
      "            \"CurrentInstanceBootMode\": \"legacy-bios\"\n",
      "        },\n",
      "        {\n",
      "            \"AmiLaunchIndex\": 6,\n",
      "            \"ImageId\": \"ami-0251162c8d60c856f\",\n",
      "            \"InstanceId\": \"i-01448f035d5260d63\",\n",
      "            \"InstanceType\": \"c5d.large\",\n",
      "            \"KeyName\": \"MBP-nbi-group\",\n",
      "            \"LaunchTime\": \"2024-04-15T13:00:43.000Z\",\n",
      "            \"Monitoring\": {\n",
      "                \"State\": \"disabled\"\n",
      "            },\n",
      "            \"Placement\": {\n",
      "                \"AvailabilityZone\": \"us-east-1c\",\n",
      "                \"GroupName\": \"\",\n",
      "                \"Tenancy\": \"default\"\n",
      "            },\n",
      "            \"PrivateDnsName\": \"ip-172-31-95-48.ec2.internal\",\n",
      "            \"PrivateIpAddress\": \"172.31.95.48\",\n",
      "            \"ProductCodes\": [],\n",
      "            \"PublicDnsName\": \"\",\n",
      "            \"State\": {\n",
      "                \"Code\": 0,\n",
      "                \"Name\": \"pending\"\n",
      "            },\n",
      "            \"StateTransitionReason\": \"\",\n",
      "            \"SubnetId\": \"subnet-155ed53b\",\n",
      "            \"VpcId\": \"vpc-29da0253\",\n",
      "            \"Architecture\": \"x86_64\",\n",
      "            \"BlockDeviceMappings\": [],\n",
      "            \"ClientToken\": \"3561f264-c64c-4978-98da-c144a76e5660\",\n",
      "            \"EbsOptimized\": false,\n",
      "            \"EnaSupport\": true,\n",
      "            \"Hypervisor\": \"xen\",\n",
      "            \"IamInstanceProfile\": {\n",
      "                \"Arn\": \"arn:aws:iam::598781256208:instance-profile/Full_S3_Lambda_RDS\",\n",
      "                \"Id\": \"AIPAYW2RE4IIKOHDULIBX\"\n",
      "            },\n",
      "            \"InstanceLifecycle\": \"spot\",\n",
      "            \"NetworkInterfaces\": [\n",
      "                {\n",
      "                    \"Attachment\": {\n",
      "                        \"AttachTime\": \"2024-04-15T13:00:43.000Z\",\n",
      "                        \"AttachmentId\": \"eni-attach-0a6df25880913fcd0\",\n",
      "                        \"DeleteOnTermination\": true,\n",
      "                        \"DeviceIndex\": 0,\n",
      "                        \"Status\": \"attaching\",\n",
      "                        \"NetworkCardIndex\": 0\n",
      "                    },\n",
      "                    \"Description\": \"\",\n",
      "                    \"Groups\": [\n",
      "                        {\n",
      "                            \"GroupName\": \"default\",\n",
      "                            \"GroupId\": \"sg-abc4c7e4\"\n",
      "                        },\n",
      "                        {\n",
      "                            \"GroupName\": \"copy-instance-sg-1\",\n",
      "                            \"GroupId\": \"sg-02ed161c0d14d658f\"\n",
      "                        }\n",
      "                    ],\n",
      "                    \"Ipv6Addresses\": [],\n",
      "                    \"MacAddress\": \"12:bd:57:57:dc:a7\",\n",
      "                    \"NetworkInterfaceId\": \"eni-069377acb0d0d0532\",\n",
      "                    \"OwnerId\": \"598781256208\",\n",
      "                    \"PrivateDnsName\": \"ip-172-31-95-48.ec2.internal\",\n",
      "                    \"PrivateIpAddress\": \"172.31.95.48\",\n",
      "                    \"PrivateIpAddresses\": [\n",
      "                        {\n",
      "                            \"Primary\": true,\n",
      "                            \"PrivateDnsName\": \"ip-172-31-95-48.ec2.internal\",\n",
      "                            \"PrivateIpAddress\": \"172.31.95.48\"\n",
      "                        }\n",
      "                    ],\n",
      "                    \"SourceDestCheck\": true,\n",
      "                    \"Status\": \"in-use\",\n",
      "                    \"SubnetId\": \"subnet-155ed53b\",\n",
      "                    \"VpcId\": \"vpc-29da0253\",\n",
      "                    \"InterfaceType\": \"interface\"\n",
      "                }\n",
      "            ],\n",
      "            \"RootDeviceName\": \"/dev/xvda\",\n",
      "            \"RootDeviceType\": \"ebs\",\n",
      "            \"SecurityGroups\": [\n",
      "                {\n",
      "                    \"GroupName\": \"default\",\n",
      "                    \"GroupId\": \"sg-abc4c7e4\"\n",
      "                },\n",
      "                {\n",
      "                    \"GroupName\": \"copy-instance-sg-1\",\n",
      "                    \"GroupId\": \"sg-02ed161c0d14d658f\"\n",
      "                }\n",
      "            ],\n",
      "            \"SourceDestCheck\": true,\n",
      "            \"SpotInstanceRequestId\": \"sir-rfpptpbq\",\n",
      "            \"StateReason\": {\n",
      "                \"Code\": \"pending\",\n",
      "                \"Message\": \"pending\"\n",
      "            },\n",
      "            \"Tags\": [\n",
      "                {\n",
      "                    \"Key\": \"aws:ec2launchtemplate:id\",\n",
      "                    \"Value\": \"lt-0e8c2b8611c9029eb\"\n",
      "                },\n",
      "                {\n",
      "                    \"Key\": \"aws:ec2launchtemplate:version\",\n",
      "                    \"Value\": \"38\"\n",
      "                },\n",
      "                {\n",
      "                    \"Key\": \"Name\",\n",
      "                    \"Value\": \"visit-worker39\"\n",
      "                }\n",
      "            ],\n",
      "            \"VirtualizationType\": \"hvm\",\n",
      "            \"CpuOptions\": {\n",
      "                \"CoreCount\": 1,\n",
      "                \"ThreadsPerCore\": 2\n",
      "            },\n",
      "            \"CapacityReservationSpecification\": {\n",
      "                \"CapacityReservationPreference\": \"open\"\n",
      "            },\n",
      "            \"MetadataOptions\": {\n",
      "                \"State\": \"pending\",\n",
      "                \"HttpTokens\": \"optional\",\n",
      "                \"HttpPutResponseHopLimit\": 1,\n",
      "                \"HttpEndpoint\": \"enabled\",\n",
      "                \"HttpProtocolIpv6\": \"disabled\",\n",
      "                \"InstanceMetadataTags\": \"disabled\"\n",
      "            },\n",
      "            \"EnclaveOptions\": {\n",
      "                \"Enabled\": false\n",
      "            },\n",
      "            \"PrivateDnsNameOptions\": {\n",
      "                \"HostnameType\": \"ip-name\",\n",
      "                \"EnableResourceNameDnsARecord\": false,\n",
      "                \"EnableResourceNameDnsAAAARecord\": false\n",
      "            },\n",
      "            \"MaintenanceOptions\": {\n",
      "                \"AutoRecovery\": \"default\"\n",
      "            },\n",
      "            \"CurrentInstanceBootMode\": \"legacy-bios\"\n",
      "        },\n",
      "        {\n",
      "            \"AmiLaunchIndex\": 9,\n",
      "            \"ImageId\": \"ami-0251162c8d60c856f\",\n",
      "            \"InstanceId\": \"i-0232547f6916e71e3\",\n",
      "            \"InstanceType\": \"c5d.large\",\n",
      "            \"KeyName\": \"MBP-nbi-group\",\n",
      "            \"LaunchTime\": \"2024-04-15T13:00:43.000Z\",\n",
      "            \"Monitoring\": {\n",
      "                \"State\": \"disabled\"\n",
      "            },\n",
      "            \"Placement\": {\n",
      "                \"AvailabilityZone\": \"us-east-1c\",\n",
      "                \"GroupName\": \"\",\n",
      "                \"Tenancy\": \"default\"\n",
      "            },\n",
      "            \"PrivateDnsName\": \"ip-172-31-91-21.ec2.internal\",\n",
      "            \"PrivateIpAddress\": \"172.31.91.21\",\n",
      "            \"ProductCodes\": [],\n",
      "            \"PublicDnsName\": \"\",\n",
      "            \"State\": {\n",
      "                \"Code\": 0,\n",
      "                \"Name\": \"pending\"\n",
      "            },\n",
      "            \"StateTransitionReason\": \"\",\n",
      "            \"SubnetId\": \"subnet-155ed53b\",\n",
      "            \"VpcId\": \"vpc-29da0253\",\n",
      "            \"Architecture\": \"x86_64\",\n",
      "            \"BlockDeviceMappings\": [],\n",
      "            \"ClientToken\": \"3561f264-c64c-4978-98da-c144a76e5660\",\n",
      "            \"EbsOptimized\": false,\n",
      "            \"EnaSupport\": true,\n",
      "            \"Hypervisor\": \"xen\",\n",
      "            \"IamInstanceProfile\": {\n",
      "                \"Arn\": \"arn:aws:iam::598781256208:instance-profile/Full_S3_Lambda_RDS\",\n",
      "                \"Id\": \"AIPAYW2RE4IIKOHDULIBX\"\n",
      "            },\n",
      "            \"InstanceLifecycle\": \"spot\",\n",
      "            \"NetworkInterfaces\": [\n",
      "                {\n",
      "                    \"Attachment\": {\n",
      "                        \"AttachTime\": \"2024-04-15T13:00:43.000Z\",\n",
      "                        \"AttachmentId\": \"eni-attach-0da60be1a23c68a40\",\n",
      "                        \"DeleteOnTermination\": true,\n",
      "                        \"DeviceIndex\": 0,\n",
      "                        \"Status\": \"attaching\",\n",
      "                        \"NetworkCardIndex\": 0\n",
      "                    },\n",
      "                    \"Description\": \"\",\n",
      "                    \"Groups\": [\n",
      "                        {\n",
      "                            \"GroupName\": \"default\",\n",
      "                            \"GroupId\": \"sg-abc4c7e4\"\n",
      "                        },\n",
      "                        {\n",
      "                            \"GroupName\": \"copy-instance-sg-1\",\n",
      "                            \"GroupId\": \"sg-02ed161c0d14d658f\"\n",
      "                        }\n",
      "                    ],\n",
      "                    \"Ipv6Addresses\": [],\n",
      "                    \"MacAddress\": \"12:8d:75:f8:89:3d\",\n",
      "                    \"NetworkInterfaceId\": \"eni-0d3da7415d1dfb6b5\",\n",
      "                    \"OwnerId\": \"598781256208\",\n",
      "                    \"PrivateDnsName\": \"ip-172-31-91-21.ec2.internal\",\n",
      "                    \"PrivateIpAddress\": \"172.31.91.21\",\n",
      "                    \"PrivateIpAddresses\": [\n",
      "                        {\n",
      "                            \"Primary\": true,\n",
      "                            \"PrivateDnsName\": \"ip-172-31-91-21.ec2.internal\",\n",
      "                            \"PrivateIpAddress\": \"172.31.91.21\"\n",
      "                        }\n",
      "                    ],\n",
      "                    \"SourceDestCheck\": true,\n",
      "                    \"Status\": \"in-use\",\n",
      "                    \"SubnetId\": \"subnet-155ed53b\",\n",
      "                    \"VpcId\": \"vpc-29da0253\",\n",
      "                    \"InterfaceType\": \"interface\"\n",
      "                }\n",
      "            ],\n",
      "            \"RootDeviceName\": \"/dev/xvda\",\n",
      "            \"RootDeviceType\": \"ebs\",\n",
      "            \"SecurityGroups\": [\n",
      "                {\n",
      "                    \"GroupName\": \"default\",\n",
      "                    \"GroupId\": \"sg-abc4c7e4\"\n",
      "                },\n",
      "                {\n",
      "                    \"GroupName\": \"copy-instance-sg-1\",\n",
      "                    \"GroupId\": \"sg-02ed161c0d14d658f\"\n",
      "                }\n",
      "            ],\n",
      "            \"SourceDestCheck\": true,\n",
      "            \"SpotInstanceRequestId\": \"sir-trtevpbq\",\n",
      "            \"StateReason\": {\n",
      "                \"Code\": \"pending\",\n",
      "                \"Message\": \"pending\"\n",
      "            },\n",
      "            \"Tags\": [\n",
      "                {\n",
      "                    \"Key\": \"aws:ec2launchtemplate:id\",\n",
      "                    \"Value\": \"lt-0e8c2b8611c9029eb\"\n",
      "                },\n",
      "                {\n",
      "                    \"Key\": \"aws:ec2launchtemplate:version\",\n",
      "                    \"Value\": \"38\"\n",
      "                },\n",
      "                {\n",
      "                    \"Key\": \"Name\",\n",
      "                    \"Value\": \"visit-worker39\"\n",
      "                }\n",
      "            ],\n",
      "            \"VirtualizationType\": \"hvm\",\n",
      "            \"CpuOptions\": {\n",
      "                \"CoreCount\": 1,\n",
      "                \"ThreadsPerCore\": 2\n",
      "            },\n",
      "            \"CapacityReservationSpecification\": {\n",
      "                \"CapacityReservationPreference\": \"open\"\n",
      "            },\n",
      "            \"MetadataOptions\": {\n",
      "                \"State\": \"pending\",\n",
      "                \"HttpTokens\": \"optional\",\n",
      "                \"HttpPutResponseHopLimit\": 1,\n",
      "                \"HttpEndpoint\": \"enabled\",\n",
      "                \"HttpProtocolIpv6\": \"disabled\",\n",
      "                \"InstanceMetadataTags\": \"disabled\"\n",
      "            },\n",
      "            \"EnclaveOptions\": {\n",
      "                \"Enabled\": false\n",
      "            },\n",
      "            \"PrivateDnsNameOptions\": {\n",
      "                \"HostnameType\": \"ip-name\",\n",
      "                \"EnableResourceNameDnsARecord\": false,\n",
      "                \"EnableResourceNameDnsAAAARecord\": false\n",
      "            },\n",
      "            \"MaintenanceOptions\": {\n",
      "                \"AutoRecovery\": \"default\"\n",
      "            },\n",
      "            \"CurrentInstanceBootMode\": \"legacy-bios\"\n",
      "        },\n",
      "        {\n",
      "            \"AmiLaunchIndex\": 2,\n",
      "            \"ImageId\": \"ami-0251162c8d60c856f\",\n",
      "            \"InstanceId\": \"i-094af7b0ca0639c6c\",\n",
      "            \"InstanceType\": \"c5d.large\",\n",
      "            \"KeyName\": \"MBP-nbi-group\",\n",
      "            \"LaunchTime\": \"2024-04-15T13:00:43.000Z\",\n",
      "            \"Monitoring\": {\n",
      "                \"State\": \"disabled\"\n",
      "            },\n",
      "            \"Placement\": {\n",
      "                \"AvailabilityZone\": \"us-east-1c\",\n",
      "                \"GroupName\": \"\",\n",
      "                \"Tenancy\": \"default\"\n",
      "            },\n",
      "            \"PrivateDnsName\": \"ip-172-31-82-74.ec2.internal\",\n",
      "            \"PrivateIpAddress\": \"172.31.82.74\",\n",
      "            \"ProductCodes\": [],\n",
      "            \"PublicDnsName\": \"\",\n",
      "            \"State\": {\n",
      "                \"Code\": 0,\n",
      "                \"Name\": \"pending\"\n",
      "            },\n",
      "            \"StateTransitionReason\": \"\",\n",
      "            \"SubnetId\": \"subnet-155ed53b\",\n",
      "            \"VpcId\": \"vpc-29da0253\",\n",
      "            \"Architecture\": \"x86_64\",\n",
      "            \"BlockDeviceMappings\": [],\n",
      "            \"ClientToken\": \"3561f264-c64c-4978-98da-c144a76e5660\",\n",
      "            \"EbsOptimized\": false,\n",
      "            \"EnaSupport\": true,\n",
      "            \"Hypervisor\": \"xen\",\n",
      "            \"IamInstanceProfile\": {\n",
      "                \"Arn\": \"arn:aws:iam::598781256208:instance-profile/Full_S3_Lambda_RDS\",\n",
      "                \"Id\": \"AIPAYW2RE4IIKOHDULIBX\"\n",
      "            },\n",
      "            \"InstanceLifecycle\": \"spot\",\n",
      "            \"NetworkInterfaces\": [\n",
      "                {\n",
      "                    \"Attachment\": {\n",
      "                        \"AttachTime\": \"2024-04-15T13:00:43.000Z\",\n",
      "                        \"AttachmentId\": \"eni-attach-015b2916cc3269b6f\",\n",
      "                        \"DeleteOnTermination\": true,\n",
      "                        \"DeviceIndex\": 0,\n",
      "                        \"Status\": \"attaching\",\n",
      "                        \"NetworkCardIndex\": 0\n",
      "                    },\n",
      "                    \"Description\": \"\",\n",
      "                    \"Groups\": [\n",
      "                        {\n",
      "                            \"GroupName\": \"default\",\n",
      "                            \"GroupId\": \"sg-abc4c7e4\"\n",
      "                        },\n",
      "                        {\n",
      "                            \"GroupName\": \"copy-instance-sg-1\",\n",
      "                            \"GroupId\": \"sg-02ed161c0d14d658f\"\n",
      "                        }\n",
      "                    ],\n",
      "                    \"Ipv6Addresses\": [],\n",
      "                    \"MacAddress\": \"12:f4:19:0f:aa:af\",\n",
      "                    \"NetworkInterfaceId\": \"eni-01bacb3a929a54dd9\",\n",
      "                    \"OwnerId\": \"598781256208\",\n",
      "                    \"PrivateDnsName\": \"ip-172-31-82-74.ec2.internal\",\n",
      "                    \"PrivateIpAddress\": \"172.31.82.74\",\n",
      "                    \"PrivateIpAddresses\": [\n",
      "                        {\n",
      "                            \"Primary\": true,\n",
      "                            \"PrivateDnsName\": \"ip-172-31-82-74.ec2.internal\",\n",
      "                            \"PrivateIpAddress\": \"172.31.82.74\"\n",
      "                        }\n",
      "                    ],\n",
      "                    \"SourceDestCheck\": true,\n",
      "                    \"Status\": \"in-use\",\n",
      "                    \"SubnetId\": \"subnet-155ed53b\",\n",
      "                    \"VpcId\": \"vpc-29da0253\",\n",
      "                    \"InterfaceType\": \"interface\"\n",
      "                }\n",
      "            ],\n",
      "            \"RootDeviceName\": \"/dev/xvda\",\n",
      "            \"RootDeviceType\": \"ebs\",\n",
      "            \"SecurityGroups\": [\n",
      "                {\n",
      "                    \"GroupName\": \"default\",\n",
      "                    \"GroupId\": \"sg-abc4c7e4\"\n",
      "                },\n",
      "                {\n",
      "                    \"GroupName\": \"copy-instance-sg-1\",\n",
      "                    \"GroupId\": \"sg-02ed161c0d14d658f\"\n",
      "                }\n",
      "            ],\n",
      "            \"SourceDestCheck\": true,\n",
      "            \"SpotInstanceRequestId\": \"sir-62dpr24n\",\n",
      "            \"StateReason\": {\n",
      "                \"Code\": \"pending\",\n",
      "                \"Message\": \"pending\"\n",
      "            },\n",
      "            \"Tags\": [\n",
      "                {\n",
      "                    \"Key\": \"Name\",\n",
      "                    \"Value\": \"visit-worker39\"\n",
      "                },\n",
      "                {\n",
      "                    \"Key\": \"aws:ec2launchtemplate:id\",\n",
      "                    \"Value\": \"lt-0e8c2b8611c9029eb\"\n",
      "                },\n",
      "                {\n",
      "                    \"Key\": \"aws:ec2launchtemplate:version\",\n",
      "                    \"Value\": \"38\"\n",
      "                }\n",
      "            ],\n",
      "            \"VirtualizationType\": \"hvm\",\n",
      "            \"CpuOptions\": {\n",
      "                \"CoreCount\": 1,\n",
      "                \"ThreadsPerCore\": 2\n",
      "            },\n",
      "            \"CapacityReservationSpecification\": {\n",
      "                \"CapacityReservationPreference\": \"open\"\n",
      "            },\n",
      "            \"MetadataOptions\": {\n",
      "                \"State\": \"pending\",\n",
      "                \"HttpTokens\": \"optional\",\n",
      "                \"HttpPutResponseHopLimit\": 1,\n",
      "                \"HttpEndpoint\": \"enabled\",\n",
      "                \"HttpProtocolIpv6\": \"disabled\",\n",
      "                \"InstanceMetadataTags\": \"disabled\"\n",
      "            },\n",
      "            \"EnclaveOptions\": {\n",
      "                \"Enabled\": false\n",
      "            },\n",
      "            \"PrivateDnsNameOptions\": {\n",
      "                \"HostnameType\": \"ip-name\",\n",
      "                \"EnableResourceNameDnsARecord\": false,\n",
      "                \"EnableResourceNameDnsAAAARecord\": false\n",
      "            },\n",
      "            \"MaintenanceOptions\": {\n",
      "                \"AutoRecovery\": \"default\"\n",
      "            },\n",
      "            \"CurrentInstanceBootMode\": \"legacy-bios\"\n",
      "        },\n",
      "        {\n",
      "            \"AmiLaunchIndex\": 1,\n",
      "            \"ImageId\": \"ami-0251162c8d60c856f\",\n",
      "            \"InstanceId\": \"i-0e98b79531528e6e6\",\n",
      "            \"InstanceType\": \"c5d.large\",\n",
      "            \"KeyName\": \"MBP-nbi-group\",\n",
      "            \"LaunchTime\": \"2024-04-15T13:00:43.000Z\",\n",
      "            \"Monitoring\": {\n",
      "                \"State\": \"disabled\"\n",
      "            },\n",
      "            \"Placement\": {\n",
      "                \"AvailabilityZone\": \"us-east-1c\",\n",
      "                \"GroupName\": \"\",\n",
      "                \"Tenancy\": \"default\"\n",
      "            },\n",
      "            \"PrivateDnsName\": \"ip-172-31-89-228.ec2.internal\",\n",
      "            \"PrivateIpAddress\": \"172.31.89.228\",\n",
      "            \"ProductCodes\": [],\n",
      "            \"PublicDnsName\": \"\",\n",
      "            \"State\": {\n",
      "                \"Code\": 0,\n",
      "                \"Name\": \"pending\"\n",
      "            },\n",
      "            \"StateTransitionReason\": \"\",\n",
      "            \"SubnetId\": \"subnet-155ed53b\",\n",
      "            \"VpcId\": \"vpc-29da0253\",\n",
      "            \"Architecture\": \"x86_64\",\n",
      "            \"BlockDeviceMappings\": [],\n",
      "            \"ClientToken\": \"3561f264-c64c-4978-98da-c144a76e5660\",\n",
      "            \"EbsOptimized\": false,\n",
      "            \"EnaSupport\": true,\n",
      "            \"Hypervisor\": \"xen\",\n",
      "            \"IamInstanceProfile\": {\n",
      "                \"Arn\": \"arn:aws:iam::598781256208:instance-profile/Full_S3_Lambda_RDS\",\n",
      "                \"Id\": \"AIPAYW2RE4IIKOHDULIBX\"\n",
      "            },\n",
      "            \"InstanceLifecycle\": \"spot\",\n",
      "            \"NetworkInterfaces\": [\n",
      "                {\n",
      "                    \"Attachment\": {\n",
      "                        \"AttachTime\": \"2024-04-15T13:00:43.000Z\",\n",
      "                        \"AttachmentId\": \"eni-attach-07f36a17ff3853eaa\",\n",
      "                        \"DeleteOnTermination\": true,\n",
      "                        \"DeviceIndex\": 0,\n",
      "                        \"Status\": \"attaching\",\n",
      "                        \"NetworkCardIndex\": 0\n",
      "                    },\n",
      "                    \"Description\": \"\",\n",
      "                    \"Groups\": [\n",
      "                        {\n",
      "                            \"GroupName\": \"default\",\n",
      "                            \"GroupId\": \"sg-abc4c7e4\"\n",
      "                        },\n",
      "                        {\n",
      "                            \"GroupName\": \"copy-instance-sg-1\",\n",
      "                            \"GroupId\": \"sg-02ed161c0d14d658f\"\n",
      "                        }\n",
      "                    ],\n",
      "                    \"Ipv6Addresses\": [],\n",
      "                    \"MacAddress\": \"12:cb:2f:73:be:ad\",\n",
      "                    \"NetworkInterfaceId\": \"eni-08d34cd54c4b2b268\",\n",
      "                    \"OwnerId\": \"598781256208\",\n",
      "                    \"PrivateDnsName\": \"ip-172-31-89-228.ec2.internal\",\n",
      "                    \"PrivateIpAddress\": \"172.31.89.228\",\n",
      "                    \"PrivateIpAddresses\": [\n",
      "                        {\n",
      "                            \"Primary\": true,\n",
      "                            \"PrivateDnsName\": \"ip-172-31-89-228.ec2.internal\",\n",
      "                            \"PrivateIpAddress\": \"172.31.89.228\"\n",
      "                        }\n",
      "                    ],\n",
      "                    \"SourceDestCheck\": true,\n",
      "                    \"Status\": \"in-use\",\n",
      "                    \"SubnetId\": \"subnet-155ed53b\",\n",
      "                    \"VpcId\": \"vpc-29da0253\",\n",
      "                    \"InterfaceType\": \"interface\"\n",
      "                }\n",
      "            ],\n",
      "            \"RootDeviceName\": \"/dev/xvda\",\n",
      "            \"RootDeviceType\": \"ebs\",\n",
      "            \"SecurityGroups\": [\n",
      "                {\n",
      "                    \"GroupName\": \"default\",\n",
      "                    \"GroupId\": \"sg-abc4c7e4\"\n",
      "                },\n",
      "                {\n",
      "                    \"GroupName\": \"copy-instance-sg-1\",\n",
      "                    \"GroupId\": \"sg-02ed161c0d14d658f\"\n",
      "                }\n",
      "            ],\n",
      "            \"SourceDestCheck\": true,\n",
      "            \"SpotInstanceRequestId\": \"sir-5e2ptepq\",\n",
      "            \"StateReason\": {\n",
      "                \"Code\": \"pending\",\n",
      "                \"Message\": \"pending\"\n",
      "            },\n",
      "            \"Tags\": [\n",
      "                {\n",
      "                    \"Key\": \"Name\",\n",
      "                    \"Value\": \"visit-worker39\"\n",
      "                },\n",
      "                {\n",
      "                    \"Key\": \"aws:ec2launchtemplate:version\",\n",
      "                    \"Value\": \"38\"\n",
      "                },\n",
      "                {\n",
      "                    \"Key\": \"aws:ec2launchtemplate:id\",\n",
      "                    \"Value\": \"lt-0e8c2b8611c9029eb\"\n",
      "                }\n",
      "            ],\n",
      "            \"VirtualizationType\": \"hvm\",\n",
      "            \"CpuOptions\": {\n",
      "                \"CoreCount\": 1,\n",
      "                \"ThreadsPerCore\": 2\n",
      "            },\n",
      "            \"CapacityReservationSpecification\": {\n",
      "                \"CapacityReservationPreference\": \"open\"\n",
      "            },\n",
      "            \"MetadataOptions\": {\n",
      "                \"State\": \"pending\",\n",
      "                \"HttpTokens\": \"optional\",\n",
      "                \"HttpPutResponseHopLimit\": 1,\n",
      "                \"HttpEndpoint\": \"enabled\",\n",
      "                \"HttpProtocolIpv6\": \"disabled\",\n",
      "                \"InstanceMetadataTags\": \"disabled\"\n",
      "            },\n",
      "            \"EnclaveOptions\": {\n",
      "                \"Enabled\": false\n",
      "            },\n",
      "            \"PrivateDnsNameOptions\": {\n",
      "                \"HostnameType\": \"ip-name\",\n",
      "                \"EnableResourceNameDnsARecord\": false,\n",
      "                \"EnableResourceNameDnsAAAARecord\": false\n",
      "            },\n",
      "            \"MaintenanceOptions\": {\n",
      "                \"AutoRecovery\": \"default\"\n",
      "            },\n",
      "            \"CurrentInstanceBootMode\": \"legacy-bios\"\n",
      "        },\n",
      "        {\n",
      "            \"AmiLaunchIndex\": 7,\n",
      "            \"ImageId\": \"ami-0251162c8d60c856f\",\n",
      "            \"InstanceId\": \"i-0b6fc4ed6b7459a9a\",\n",
      "            \"InstanceType\": \"c5d.large\",\n",
      "            \"KeyName\": \"MBP-nbi-group\",\n",
      "            \"LaunchTime\": \"2024-04-15T13:00:43.000Z\",\n",
      "            \"Monitoring\": {\n",
      "                \"State\": \"disabled\"\n",
      "            },\n",
      "            \"Placement\": {\n",
      "                \"AvailabilityZone\": \"us-east-1c\",\n",
      "                \"GroupName\": \"\",\n",
      "                \"Tenancy\": \"default\"\n",
      "            },\n",
      "            \"PrivateDnsName\": \"ip-172-31-81-209.ec2.internal\",\n",
      "            \"PrivateIpAddress\": \"172.31.81.209\",\n",
      "            \"ProductCodes\": [],\n",
      "            \"PublicDnsName\": \"\",\n",
      "            \"State\": {\n",
      "                \"Code\": 0,\n",
      "                \"Name\": \"pending\"\n",
      "            },\n",
      "            \"StateTransitionReason\": \"\",\n",
      "            \"SubnetId\": \"subnet-155ed53b\",\n",
      "            \"VpcId\": \"vpc-29da0253\",\n",
      "            \"Architecture\": \"x86_64\",\n",
      "            \"BlockDeviceMappings\": [],\n",
      "            \"ClientToken\": \"3561f264-c64c-4978-98da-c144a76e5660\",\n",
      "            \"EbsOptimized\": false,\n",
      "            \"EnaSupport\": true,\n",
      "            \"Hypervisor\": \"xen\",\n",
      "            \"IamInstanceProfile\": {\n",
      "                \"Arn\": \"arn:aws:iam::598781256208:instance-profile/Full_S3_Lambda_RDS\",\n",
      "                \"Id\": \"AIPAYW2RE4IIKOHDULIBX\"\n",
      "            },\n",
      "            \"InstanceLifecycle\": \"spot\",\n",
      "            \"NetworkInterfaces\": [\n",
      "                {\n",
      "                    \"Attachment\": {\n",
      "                        \"AttachTime\": \"2024-04-15T13:00:43.000Z\",\n",
      "                        \"AttachmentId\": \"eni-attach-0835c1be1fcf07970\",\n",
      "                        \"DeleteOnTermination\": true,\n",
      "                        \"DeviceIndex\": 0,\n",
      "                        \"Status\": \"attaching\",\n",
      "                        \"NetworkCardIndex\": 0\n",
      "                    },\n",
      "                    \"Description\": \"\",\n",
      "                    \"Groups\": [\n",
      "                        {\n",
      "                            \"GroupName\": \"default\",\n",
      "                            \"GroupId\": \"sg-abc4c7e4\"\n",
      "                        },\n",
      "                        {\n",
      "                            \"GroupName\": \"copy-instance-sg-1\",\n",
      "                            \"GroupId\": \"sg-02ed161c0d14d658f\"\n",
      "                        }\n",
      "                    ],\n",
      "                    \"Ipv6Addresses\": [],\n",
      "                    \"MacAddress\": \"12:c3:9f:74:b8:7d\",\n",
      "                    \"NetworkInterfaceId\": \"eni-0766b541078c9b44b\",\n",
      "                    \"OwnerId\": \"598781256208\",\n",
      "                    \"PrivateDnsName\": \"ip-172-31-81-209.ec2.internal\",\n",
      "                    \"PrivateIpAddress\": \"172.31.81.209\",\n",
      "                    \"PrivateIpAddresses\": [\n",
      "                        {\n",
      "                            \"Primary\": true,\n",
      "                            \"PrivateDnsName\": \"ip-172-31-81-209.ec2.internal\",\n",
      "                            \"PrivateIpAddress\": \"172.31.81.209\"\n",
      "                        }\n",
      "                    ],\n",
      "                    \"SourceDestCheck\": true,\n",
      "                    \"Status\": \"in-use\",\n",
      "                    \"SubnetId\": \"subnet-155ed53b\",\n",
      "                    \"VpcId\": \"vpc-29da0253\",\n",
      "                    \"InterfaceType\": \"interface\"\n",
      "                }\n",
      "            ],\n",
      "            \"RootDeviceName\": \"/dev/xvda\",\n",
      "            \"RootDeviceType\": \"ebs\",\n",
      "            \"SecurityGroups\": [\n",
      "                {\n",
      "                    \"GroupName\": \"default\",\n",
      "                    \"GroupId\": \"sg-abc4c7e4\"\n",
      "                },\n",
      "                {\n",
      "                    \"GroupName\": \"copy-instance-sg-1\",\n",
      "                    \"GroupId\": \"sg-02ed161c0d14d658f\"\n",
      "                }\n",
      "            ],\n",
      "            \"SourceDestCheck\": true,\n",
      "            \"SpotInstanceRequestId\": \"sir-6s7yrpkn\",\n",
      "            \"StateReason\": {\n",
      "                \"Code\": \"pending\",\n",
      "                \"Message\": \"pending\"\n",
      "            },\n",
      "            \"Tags\": [\n",
      "                {\n",
      "                    \"Key\": \"aws:ec2launchtemplate:id\",\n",
      "                    \"Value\": \"lt-0e8c2b8611c9029eb\"\n",
      "                },\n",
      "                {\n",
      "                    \"Key\": \"Name\",\n",
      "                    \"Value\": \"visit-worker39\"\n",
      "                },\n",
      "                {\n",
      "                    \"Key\": \"aws:ec2launchtemplate:version\",\n",
      "                    \"Value\": \"38\"\n",
      "                }\n",
      "            ],\n",
      "            \"VirtualizationType\": \"hvm\",\n",
      "            \"CpuOptions\": {\n",
      "                \"CoreCount\": 1,\n",
      "                \"ThreadsPerCore\": 2\n",
      "            },\n",
      "            \"CapacityReservationSpecification\": {\n",
      "                \"CapacityReservationPreference\": \"open\"\n",
      "            },\n",
      "            \"MetadataOptions\": {\n",
      "                \"State\": \"pending\",\n",
      "                \"HttpTokens\": \"optional\",\n",
      "                \"HttpPutResponseHopLimit\": 1,\n",
      "                \"HttpEndpoint\": \"enabled\",\n",
      "                \"HttpProtocolIpv6\": \"disabled\",\n",
      "                \"InstanceMetadataTags\": \"disabled\"\n",
      "            },\n",
      "            \"EnclaveOptions\": {\n",
      "                \"Enabled\": false\n",
      "            },\n",
      "            \"PrivateDnsNameOptions\": {\n",
      "                \"HostnameType\": \"ip-name\",\n",
      "                \"EnableResourceNameDnsARecord\": false,\n",
      "                \"EnableResourceNameDnsAAAARecord\": false\n",
      "            },\n",
      "            \"MaintenanceOptions\": {\n",
      "                \"AutoRecovery\": \"default\"\n",
      "            },\n",
      "            \"CurrentInstanceBootMode\": \"legacy-bios\"\n",
      "        },\n",
      "        {\n",
      "            \"AmiLaunchIndex\": 14,\n",
      "            \"ImageId\": \"ami-0251162c8d60c856f\",\n",
      "            \"InstanceId\": \"i-0565deb59bf0113a1\",\n",
      "            \"InstanceType\": \"c5d.large\",\n",
      "            \"KeyName\": \"MBP-nbi-group\",\n",
      "            \"LaunchTime\": \"2024-04-15T13:00:43.000Z\",\n",
      "            \"Monitoring\": {\n",
      "                \"State\": \"disabled\"\n",
      "            },\n",
      "            \"Placement\": {\n",
      "                \"AvailabilityZone\": \"us-east-1c\",\n",
      "                \"GroupName\": \"\",\n",
      "                \"Tenancy\": \"default\"\n",
      "            },\n",
      "            \"PrivateDnsName\": \"ip-172-31-81-31.ec2.internal\",\n",
      "            \"PrivateIpAddress\": \"172.31.81.31\",\n",
      "            \"ProductCodes\": [],\n",
      "            \"PublicDnsName\": \"\",\n",
      "            \"State\": {\n",
      "                \"Code\": 0,\n",
      "                \"Name\": \"pending\"\n",
      "            },\n",
      "            \"StateTransitionReason\": \"\",\n",
      "            \"SubnetId\": \"subnet-155ed53b\",\n",
      "            \"VpcId\": \"vpc-29da0253\",\n",
      "            \"Architecture\": \"x86_64\",\n",
      "            \"BlockDeviceMappings\": [],\n",
      "            \"ClientToken\": \"3561f264-c64c-4978-98da-c144a76e5660\",\n",
      "            \"EbsOptimized\": false,\n",
      "            \"EnaSupport\": true,\n",
      "            \"Hypervisor\": \"xen\",\n",
      "            \"IamInstanceProfile\": {\n",
      "                \"Arn\": \"arn:aws:iam::598781256208:instance-profile/Full_S3_Lambda_RDS\",\n",
      "                \"Id\": \"AIPAYW2RE4IIKOHDULIBX\"\n",
      "            },\n",
      "            \"InstanceLifecycle\": \"spot\",\n",
      "            \"NetworkInterfaces\": [\n",
      "                {\n",
      "                    \"Attachment\": {\n",
      "                        \"AttachTime\": \"2024-04-15T13:00:43.000Z\",\n",
      "                        \"AttachmentId\": \"eni-attach-09d96398cda143718\",\n",
      "                        \"DeleteOnTermination\": true,\n",
      "                        \"DeviceIndex\": 0,\n",
      "                        \"Status\": \"attaching\",\n",
      "                        \"NetworkCardIndex\": 0\n",
      "                    },\n",
      "                    \"Description\": \"\",\n",
      "                    \"Groups\": [\n",
      "                        {\n",
      "                            \"GroupName\": \"default\",\n",
      "                            \"GroupId\": \"sg-abc4c7e4\"\n",
      "                        },\n",
      "                        {\n",
      "                            \"GroupName\": \"copy-instance-sg-1\",\n",
      "                            \"GroupId\": \"sg-02ed161c0d14d658f\"\n",
      "                        }\n",
      "                    ],\n",
      "                    \"Ipv6Addresses\": [],\n",
      "                    \"MacAddress\": \"12:11:0c:86:09:b7\",\n",
      "                    \"NetworkInterfaceId\": \"eni-093cc2a4dfdcfd2aa\",\n",
      "                    \"OwnerId\": \"598781256208\",\n",
      "                    \"PrivateDnsName\": \"ip-172-31-81-31.ec2.internal\",\n",
      "                    \"PrivateIpAddress\": \"172.31.81.31\",\n",
      "                    \"PrivateIpAddresses\": [\n",
      "                        {\n",
      "                            \"Primary\": true,\n",
      "                            \"PrivateDnsName\": \"ip-172-31-81-31.ec2.internal\",\n",
      "                            \"PrivateIpAddress\": \"172.31.81.31\"\n",
      "                        }\n",
      "                    ],\n",
      "                    \"SourceDestCheck\": true,\n",
      "                    \"Status\": \"in-use\",\n",
      "                    \"SubnetId\": \"subnet-155ed53b\",\n",
      "                    \"VpcId\": \"vpc-29da0253\",\n",
      "                    \"InterfaceType\": \"interface\"\n",
      "                }\n",
      "            ],\n",
      "            \"RootDeviceName\": \"/dev/xvda\",\n",
      "            \"RootDeviceType\": \"ebs\",\n",
      "            \"SecurityGroups\": [\n",
      "                {\n",
      "                    \"GroupName\": \"default\",\n",
      "                    \"GroupId\": \"sg-abc4c7e4\"\n",
      "                },\n",
      "                {\n",
      "                    \"GroupName\": \"copy-instance-sg-1\",\n",
      "                    \"GroupId\": \"sg-02ed161c0d14d658f\"\n",
      "                }\n",
      "            ],\n",
      "            \"SourceDestCheck\": true,\n",
      "            \"SpotInstanceRequestId\": \"sir-w8ypvrsn\",\n",
      "            \"StateReason\": {\n",
      "                \"Code\": \"pending\",\n",
      "                \"Message\": \"pending\"\n",
      "            },\n",
      "            \"Tags\": [\n",
      "                {\n",
      "                    \"Key\": \"aws:ec2launchtemplate:id\",\n",
      "                    \"Value\": \"lt-0e8c2b8611c9029eb\"\n",
      "                },\n",
      "                {\n",
      "                    \"Key\": \"Name\",\n",
      "                    \"Value\": \"visit-worker39\"\n",
      "                },\n",
      "                {\n",
      "                    \"Key\": \"aws:ec2launchtemplate:version\",\n",
      "                    \"Value\": \"38\"\n",
      "                }\n",
      "            ],\n",
      "            \"VirtualizationType\": \"hvm\",\n",
      "            \"CpuOptions\": {\n",
      "                \"CoreCount\": 1,\n",
      "                \"ThreadsPerCore\": 2\n",
      "            },\n",
      "            \"CapacityReservationSpecification\": {\n",
      "                \"CapacityReservationPreference\": \"open\"\n",
      "            },\n",
      "            \"MetadataOptions\": {\n",
      "                \"State\": \"pending\",\n",
      "                \"HttpTokens\": \"optional\",\n",
      "                \"HttpPutResponseHopLimit\": 1,\n",
      "                \"HttpEndpoint\": \"enabled\",\n",
      "                \"HttpProtocolIpv6\": \"disabled\",\n",
      "                \"InstanceMetadataTags\": \"disabled\"\n",
      "            },\n",
      "            \"EnclaveOptions\": {\n",
      "                \"Enabled\": false\n",
      "            },\n",
      "            \"PrivateDnsNameOptions\": {\n",
      "                \"HostnameType\": \"ip-name\",\n",
      "                \"EnableResourceNameDnsARecord\": false,\n",
      "                \"EnableResourceNameDnsAAAARecord\": false\n",
      "            },\n",
      "            \"MaintenanceOptions\": {\n",
      "                \"AutoRecovery\": \"default\"\n",
      "            },\n",
      "            \"CurrentInstanceBootMode\": \"legacy-bios\"\n",
      "        },\n",
      "        {\n",
      "            \"AmiLaunchIndex\": 8,\n",
      "            \"ImageId\": \"ami-0251162c8d60c856f\",\n",
      "            \"InstanceId\": \"i-0ee321202a392047d\",\n",
      "            \"InstanceType\": \"c5d.large\",\n",
      "            \"KeyName\": \"MBP-nbi-group\",\n",
      "            \"LaunchTime\": \"2024-04-15T13:00:43.000Z\",\n",
      "            \"Monitoring\": {\n",
      "                \"State\": \"disabled\"\n",
      "            },\n",
      "            \"Placement\": {\n",
      "                \"AvailabilityZone\": \"us-east-1c\",\n",
      "                \"GroupName\": \"\",\n",
      "                \"Tenancy\": \"default\"\n",
      "            },\n",
      "            \"PrivateDnsName\": \"ip-172-31-82-180.ec2.internal\",\n",
      "            \"PrivateIpAddress\": \"172.31.82.180\",\n",
      "            \"ProductCodes\": [],\n",
      "            \"PublicDnsName\": \"\",\n",
      "            \"State\": {\n",
      "                \"Code\": 0,\n",
      "                \"Name\": \"pending\"\n",
      "            },\n",
      "            \"StateTransitionReason\": \"\",\n",
      "            \"SubnetId\": \"subnet-155ed53b\",\n",
      "            \"VpcId\": \"vpc-29da0253\",\n",
      "            \"Architecture\": \"x86_64\",\n",
      "            \"BlockDeviceMappings\": [],\n",
      "            \"ClientToken\": \"3561f264-c64c-4978-98da-c144a76e5660\",\n",
      "            \"EbsOptimized\": false,\n",
      "            \"EnaSupport\": true,\n",
      "            \"Hypervisor\": \"xen\",\n",
      "            \"IamInstanceProfile\": {\n",
      "                \"Arn\": \"arn:aws:iam::598781256208:instance-profile/Full_S3_Lambda_RDS\",\n",
      "                \"Id\": \"AIPAYW2RE4IIKOHDULIBX\"\n",
      "            },\n",
      "            \"InstanceLifecycle\": \"spot\",\n",
      "            \"NetworkInterfaces\": [\n",
      "                {\n",
      "                    \"Attachment\": {\n",
      "                        \"AttachTime\": \"2024-04-15T13:00:43.000Z\",\n",
      "                        \"AttachmentId\": \"eni-attach-0789ee32cb513b551\",\n",
      "                        \"DeleteOnTermination\": true,\n",
      "                        \"DeviceIndex\": 0,\n",
      "                        \"Status\": \"attaching\",\n",
      "                        \"NetworkCardIndex\": 0\n",
      "                    },\n",
      "                    \"Description\": \"\",\n",
      "                    \"Groups\": [\n",
      "                        {\n",
      "                            \"GroupName\": \"default\",\n",
      "                            \"GroupId\": \"sg-abc4c7e4\"\n",
      "                        },\n",
      "                        {\n",
      "                            \"GroupName\": \"copy-instance-sg-1\",\n",
      "                            \"GroupId\": \"sg-02ed161c0d14d658f\"\n",
      "                        }\n",
      "                    ],\n",
      "                    \"Ipv6Addresses\": [],\n",
      "                    \"MacAddress\": \"12:c7:58:4a:b4:07\",\n",
      "                    \"NetworkInterfaceId\": \"eni-03d978a2591f08515\",\n",
      "                    \"OwnerId\": \"598781256208\",\n",
      "                    \"PrivateDnsName\": \"ip-172-31-82-180.ec2.internal\",\n",
      "                    \"PrivateIpAddress\": \"172.31.82.180\",\n",
      "                    \"PrivateIpAddresses\": [\n",
      "                        {\n",
      "                            \"Primary\": true,\n",
      "                            \"PrivateDnsName\": \"ip-172-31-82-180.ec2.internal\",\n",
      "                            \"PrivateIpAddress\": \"172.31.82.180\"\n",
      "                        }\n",
      "                    ],\n",
      "                    \"SourceDestCheck\": true,\n",
      "                    \"Status\": \"in-use\",\n",
      "                    \"SubnetId\": \"subnet-155ed53b\",\n",
      "                    \"VpcId\": \"vpc-29da0253\",\n",
      "                    \"InterfaceType\": \"interface\"\n",
      "                }\n",
      "            ],\n",
      "            \"RootDeviceName\": \"/dev/xvda\",\n",
      "            \"RootDeviceType\": \"ebs\",\n",
      "            \"SecurityGroups\": [\n",
      "                {\n",
      "                    \"GroupName\": \"default\",\n",
      "                    \"GroupId\": \"sg-abc4c7e4\"\n",
      "                },\n",
      "                {\n",
      "                    \"GroupName\": \"copy-instance-sg-1\",\n",
      "                    \"GroupId\": \"sg-02ed161c0d14d658f\"\n",
      "                }\n",
      "            ],\n",
      "            \"SourceDestCheck\": true,\n",
      "            \"SpotInstanceRequestId\": \"sir-bs3yvd8n\",\n",
      "            \"StateReason\": {\n",
      "                \"Code\": \"pending\",\n",
      "                \"Message\": \"pending\"\n",
      "            },\n",
      "            \"Tags\": [\n",
      "                {\n",
      "                    \"Key\": \"Name\",\n",
      "                    \"Value\": \"visit-worker39\"\n",
      "                },\n",
      "                {\n",
      "                    \"Key\": \"aws:ec2launchtemplate:id\",\n",
      "                    \"Value\": \"lt-0e8c2b8611c9029eb\"\n",
      "                },\n",
      "                {\n",
      "                    \"Key\": \"aws:ec2launchtemplate:version\",\n",
      "                    \"Value\": \"38\"\n",
      "                }\n",
      "            ],\n",
      "            \"VirtualizationType\": \"hvm\",\n",
      "            \"CpuOptions\": {\n",
      "                \"CoreCount\": 1,\n",
      "                \"ThreadsPerCore\": 2\n",
      "            },\n",
      "            \"CapacityReservationSpecification\": {\n",
      "                \"CapacityReservationPreference\": \"open\"\n",
      "            },\n",
      "            \"MetadataOptions\": {\n",
      "                \"State\": \"pending\",\n",
      "                \"HttpTokens\": \"optional\",\n",
      "                \"HttpPutResponseHopLimit\": 1,\n",
      "                \"HttpEndpoint\": \"enabled\",\n",
      "                \"HttpProtocolIpv6\": \"disabled\",\n",
      "                \"InstanceMetadataTags\": \"disabled\"\n",
      "            },\n",
      "            \"EnclaveOptions\": {\n",
      "                \"Enabled\": false\n",
      "            },\n",
      "            \"PrivateDnsNameOptions\": {\n",
      "                \"HostnameType\": \"ip-name\",\n",
      "                \"EnableResourceNameDnsARecord\": false,\n",
      "                \"EnableResourceNameDnsAAAARecord\": false\n",
      "            },\n",
      "            \"MaintenanceOptions\": {\n",
      "                \"AutoRecovery\": \"default\"\n",
      "            },\n",
      "            \"CurrentInstanceBootMode\": \"legacy-bios\"\n",
      "        },\n",
      "        {\n",
      "            \"AmiLaunchIndex\": 11,\n",
      "            \"ImageId\": \"ami-0251162c8d60c856f\",\n",
      "            \"InstanceId\": \"i-0077bd0b39ee8dfa1\",\n",
      "            \"InstanceType\": \"c5d.large\",\n",
      "            \"KeyName\": \"MBP-nbi-group\",\n",
      "            \"LaunchTime\": \"2024-04-15T13:00:43.000Z\",\n",
      "            \"Monitoring\": {\n",
      "                \"State\": \"disabled\"\n",
      "            },\n",
      "            \"Placement\": {\n",
      "                \"AvailabilityZone\": \"us-east-1c\",\n",
      "                \"GroupName\": \"\",\n",
      "                \"Tenancy\": \"default\"\n",
      "            },\n",
      "            \"PrivateDnsName\": \"ip-172-31-84-117.ec2.internal\",\n",
      "            \"PrivateIpAddress\": \"172.31.84.117\",\n",
      "            \"ProductCodes\": [],\n",
      "            \"PublicDnsName\": \"\",\n",
      "            \"State\": {\n",
      "                \"Code\": 0,\n",
      "                \"Name\": \"pending\"\n",
      "            },\n",
      "            \"StateTransitionReason\": \"\",\n",
      "            \"SubnetId\": \"subnet-155ed53b\",\n",
      "            \"VpcId\": \"vpc-29da0253\",\n",
      "            \"Architecture\": \"x86_64\",\n",
      "            \"BlockDeviceMappings\": [],\n",
      "            \"ClientToken\": \"3561f264-c64c-4978-98da-c144a76e5660\",\n",
      "            \"EbsOptimized\": false,\n",
      "            \"EnaSupport\": true,\n",
      "            \"Hypervisor\": \"xen\",\n",
      "            \"IamInstanceProfile\": {\n",
      "                \"Arn\": \"arn:aws:iam::598781256208:instance-profile/Full_S3_Lambda_RDS\",\n",
      "                \"Id\": \"AIPAYW2RE4IIKOHDULIBX\"\n",
      "            },\n",
      "            \"InstanceLifecycle\": \"spot\",\n",
      "            \"NetworkInterfaces\": [\n",
      "                {\n",
      "                    \"Attachment\": {\n",
      "                        \"AttachTime\": \"2024-04-15T13:00:43.000Z\",\n",
      "                        \"AttachmentId\": \"eni-attach-0065cb15a034793d7\",\n",
      "                        \"DeleteOnTermination\": true,\n",
      "                        \"DeviceIndex\": 0,\n",
      "                        \"Status\": \"attaching\",\n",
      "                        \"NetworkCardIndex\": 0\n",
      "                    },\n",
      "                    \"Description\": \"\",\n",
      "                    \"Groups\": [\n",
      "                        {\n",
      "                            \"GroupName\": \"default\",\n",
      "                            \"GroupId\": \"sg-abc4c7e4\"\n",
      "                        },\n",
      "                        {\n",
      "                            \"GroupName\": \"copy-instance-sg-1\",\n",
      "                            \"GroupId\": \"sg-02ed161c0d14d658f\"\n",
      "                        }\n",
      "                    ],\n",
      "                    \"Ipv6Addresses\": [],\n",
      "                    \"MacAddress\": \"12:46:e9:78:39:7f\",\n",
      "                    \"NetworkInterfaceId\": \"eni-073bee886c677ca9c\",\n",
      "                    \"OwnerId\": \"598781256208\",\n",
      "                    \"PrivateDnsName\": \"ip-172-31-84-117.ec2.internal\",\n",
      "                    \"PrivateIpAddress\": \"172.31.84.117\",\n",
      "                    \"PrivateIpAddresses\": [\n",
      "                        {\n",
      "                            \"Primary\": true,\n",
      "                            \"PrivateDnsName\": \"ip-172-31-84-117.ec2.internal\",\n",
      "                            \"PrivateIpAddress\": \"172.31.84.117\"\n",
      "                        }\n",
      "                    ],\n",
      "                    \"SourceDestCheck\": true,\n",
      "                    \"Status\": \"in-use\",\n",
      "                    \"SubnetId\": \"subnet-155ed53b\",\n",
      "                    \"VpcId\": \"vpc-29da0253\",\n",
      "                    \"InterfaceType\": \"interface\"\n",
      "                }\n",
      "            ],\n",
      "            \"RootDeviceName\": \"/dev/xvda\",\n",
      "            \"RootDeviceType\": \"ebs\",\n",
      "            \"SecurityGroups\": [\n",
      "                {\n",
      "                    \"GroupName\": \"default\",\n",
      "                    \"GroupId\": \"sg-abc4c7e4\"\n",
      "                },\n",
      "                {\n",
      "                    \"GroupName\": \"copy-instance-sg-1\",\n",
      "                    \"GroupId\": \"sg-02ed161c0d14d658f\"\n",
      "                }\n",
      "            ],\n",
      "            \"SourceDestCheck\": true,\n",
      "            \"SpotInstanceRequestId\": \"sir-zddpttcm\",\n",
      "            \"StateReason\": {\n",
      "                \"Code\": \"pending\",\n",
      "                \"Message\": \"pending\"\n",
      "            },\n",
      "            \"Tags\": [\n",
      "                {\n",
      "                    \"Key\": \"aws:ec2launchtemplate:id\",\n",
      "                    \"Value\": \"lt-0e8c2b8611c9029eb\"\n",
      "                },\n",
      "                {\n",
      "                    \"Key\": \"Name\",\n",
      "                    \"Value\": \"visit-worker39\"\n",
      "                },\n",
      "                {\n",
      "                    \"Key\": \"aws:ec2launchtemplate:version\",\n",
      "                    \"Value\": \"38\"\n",
      "                }\n",
      "            ],\n",
      "            \"VirtualizationType\": \"hvm\",\n",
      "            \"CpuOptions\": {\n",
      "                \"CoreCount\": 1,\n",
      "                \"ThreadsPerCore\": 2\n",
      "            },\n",
      "            \"CapacityReservationSpecification\": {\n",
      "                \"CapacityReservationPreference\": \"open\"\n",
      "            },\n",
      "            \"MetadataOptions\": {\n",
      "                \"State\": \"pending\",\n",
      "                \"HttpTokens\": \"optional\",\n",
      "                \"HttpPutResponseHopLimit\": 1,\n",
      "                \"HttpEndpoint\": \"enabled\",\n",
      "                \"HttpProtocolIpv6\": \"disabled\",\n",
      "                \"InstanceMetadataTags\": \"disabled\"\n",
      "            },\n",
      "            \"EnclaveOptions\": {\n",
      "                \"Enabled\": false\n",
      "            },\n",
      "            \"PrivateDnsNameOptions\": {\n",
      "                \"HostnameType\": \"ip-name\",\n",
      "                \"EnableResourceNameDnsARecord\": false,\n",
      "                \"EnableResourceNameDnsAAAARecord\": false\n",
      "            },\n",
      "            \"MaintenanceOptions\": {\n",
      "                \"AutoRecovery\": \"default\"\n",
      "            },\n",
      "            \"CurrentInstanceBootMode\": \"legacy-bios\"\n",
      "        },\n",
      "        {\n",
      "            \"AmiLaunchIndex\": 13,\n",
      "            \"ImageId\": \"ami-0251162c8d60c856f\",\n",
      "            \"InstanceId\": \"i-087ec195f0b12a63b\",\n",
      "            \"InstanceType\": \"c5d.large\",\n",
      "            \"KeyName\": \"MBP-nbi-group\",\n",
      "            \"LaunchTime\": \"2024-04-15T13:00:43.000Z\",\n",
      "            \"Monitoring\": {\n",
      "                \"State\": \"disabled\"\n",
      "            },\n",
      "            \"Placement\": {\n",
      "                \"AvailabilityZone\": \"us-east-1c\",\n",
      "                \"GroupName\": \"\",\n",
      "                \"Tenancy\": \"default\"\n",
      "            },\n",
      "            \"PrivateDnsName\": \"ip-172-31-85-122.ec2.internal\",\n",
      "            \"PrivateIpAddress\": \"172.31.85.122\",\n",
      "            \"ProductCodes\": [],\n",
      "            \"PublicDnsName\": \"\",\n",
      "            \"State\": {\n",
      "                \"Code\": 0,\n",
      "                \"Name\": \"pending\"\n",
      "            },\n",
      "            \"StateTransitionReason\": \"\",\n",
      "            \"SubnetId\": \"subnet-155ed53b\",\n",
      "            \"VpcId\": \"vpc-29da0253\",\n",
      "            \"Architecture\": \"x86_64\",\n",
      "            \"BlockDeviceMappings\": [],\n",
      "            \"ClientToken\": \"3561f264-c64c-4978-98da-c144a76e5660\",\n",
      "            \"EbsOptimized\": false,\n",
      "            \"EnaSupport\": true,\n",
      "            \"Hypervisor\": \"xen\",\n",
      "            \"IamInstanceProfile\": {\n",
      "                \"Arn\": \"arn:aws:iam::598781256208:instance-profile/Full_S3_Lambda_RDS\",\n",
      "                \"Id\": \"AIPAYW2RE4IIKOHDULIBX\"\n",
      "            },\n",
      "            \"InstanceLifecycle\": \"spot\",\n",
      "            \"NetworkInterfaces\": [\n",
      "                {\n",
      "                    \"Attachment\": {\n",
      "                        \"AttachTime\": \"2024-04-15T13:00:43.000Z\",\n",
      "                        \"AttachmentId\": \"eni-attach-06c35e43b64594f81\",\n",
      "                        \"DeleteOnTermination\": true,\n",
      "                        \"DeviceIndex\": 0,\n",
      "                        \"Status\": \"attaching\",\n",
      "                        \"NetworkCardIndex\": 0\n",
      "                    },\n",
      "                    \"Description\": \"\",\n",
      "                    \"Groups\": [\n",
      "                        {\n",
      "                            \"GroupName\": \"default\",\n",
      "                            \"GroupId\": \"sg-abc4c7e4\"\n",
      "                        },\n",
      "                        {\n",
      "                            \"GroupName\": \"copy-instance-sg-1\",\n",
      "                            \"GroupId\": \"sg-02ed161c0d14d658f\"\n",
      "                        }\n",
      "                    ],\n",
      "                    \"Ipv6Addresses\": [],\n",
      "                    \"MacAddress\": \"12:01:33:d4:d2:f5\",\n",
      "                    \"NetworkInterfaceId\": \"eni-02aa8a1763a3666d9\",\n",
      "                    \"OwnerId\": \"598781256208\",\n",
      "                    \"PrivateDnsName\": \"ip-172-31-85-122.ec2.internal\",\n",
      "                    \"PrivateIpAddress\": \"172.31.85.122\",\n",
      "                    \"PrivateIpAddresses\": [\n",
      "                        {\n",
      "                            \"Primary\": true,\n",
      "                            \"PrivateDnsName\": \"ip-172-31-85-122.ec2.internal\",\n",
      "                            \"PrivateIpAddress\": \"172.31.85.122\"\n",
      "                        }\n",
      "                    ],\n",
      "                    \"SourceDestCheck\": true,\n",
      "                    \"Status\": \"in-use\",\n",
      "                    \"SubnetId\": \"subnet-155ed53b\",\n",
      "                    \"VpcId\": \"vpc-29da0253\",\n",
      "                    \"InterfaceType\": \"interface\"\n",
      "                }\n",
      "            ],\n",
      "            \"RootDeviceName\": \"/dev/xvda\",\n",
      "            \"RootDeviceType\": \"ebs\",\n",
      "            \"SecurityGroups\": [\n",
      "                {\n",
      "                    \"GroupName\": \"default\",\n",
      "                    \"GroupId\": \"sg-abc4c7e4\"\n",
      "                },\n",
      "                {\n",
      "                    \"GroupName\": \"copy-instance-sg-1\",\n",
      "                    \"GroupId\": \"sg-02ed161c0d14d658f\"\n",
      "                }\n",
      "            ],\n",
      "            \"SourceDestCheck\": true,\n",
      "            \"SpotInstanceRequestId\": \"sir-wqbytrcm\",\n",
      "            \"StateReason\": {\n",
      "                \"Code\": \"pending\",\n",
      "                \"Message\": \"pending\"\n",
      "            },\n",
      "            \"Tags\": [\n",
      "                {\n",
      "                    \"Key\": \"aws:ec2launchtemplate:version\",\n",
      "                    \"Value\": \"38\"\n",
      "                },\n",
      "                {\n",
      "                    \"Key\": \"aws:ec2launchtemplate:id\",\n",
      "                    \"Value\": \"lt-0e8c2b8611c9029eb\"\n",
      "                },\n",
      "                {\n",
      "                    \"Key\": \"Name\",\n",
      "                    \"Value\": \"visit-worker39\"\n",
      "                }\n",
      "            ],\n",
      "            \"VirtualizationType\": \"hvm\",\n",
      "            \"CpuOptions\": {\n",
      "                \"CoreCount\": 1,\n",
      "                \"ThreadsPerCore\": 2\n",
      "            },\n",
      "            \"CapacityReservationSpecification\": {\n",
      "                \"CapacityReservationPreference\": \"open\"\n",
      "            },\n",
      "            \"MetadataOptions\": {\n",
      "                \"State\": \"pending\",\n",
      "                \"HttpTokens\": \"optional\",\n",
      "                \"HttpPutResponseHopLimit\": 1,\n",
      "                \"HttpEndpoint\": \"enabled\",\n",
      "                \"HttpProtocolIpv6\": \"disabled\",\n",
      "                \"InstanceMetadataTags\": \"disabled\"\n",
      "            },\n",
      "            \"EnclaveOptions\": {\n",
      "                \"Enabled\": false\n",
      "            },\n",
      "            \"PrivateDnsNameOptions\": {\n",
      "                \"HostnameType\": \"ip-name\",\n",
      "                \"EnableResourceNameDnsARecord\": false,\n",
      "                \"EnableResourceNameDnsAAAARecord\": false\n",
      "            },\n",
      "            \"MaintenanceOptions\": {\n",
      "                \"AutoRecovery\": \"default\"\n",
      "            },\n",
      "            \"CurrentInstanceBootMode\": \"legacy-bios\"\n",
      "        }\n",
      "    ],\n",
      "    \"OwnerId\": \"598781256208\",\n",
      "    \"ReservationId\": \"r-0ac73821f3f1cde5a\"\n",
      "}\n"
     ]
    }
   ],
   "source": [
    "# Launch\n",
    "from grizli.aws import db, visit_processor\n",
    "\n",
    "if 0:\n",
    "    _ = visit_processor.launch_ec2_instances(nmax=80, templ='lt-0e8c2b8611c9029eb,Version=38')\n",
    "else:\n",
    "    print(\"Don't launch instances\")"
   ]
  },
  {
   "attachments": {},
   "cell_type": "markdown",
   "metadata": {},
   "source": [
    "# Check status of associations in the DB\n",
    "\n",
    "`assoc_table.status` flags:\n",
    "\n",
    "- 0 = Will be run by the EC2 machines\n",
    "- 1 = In process\n",
    "- 2 = Completed successfully\n",
    "- 9 = Alignment error\n",
    "- 10 = Some other error, perhaps no exposures downloaded from MAST\n",
    "- 12 = Status set for associations manually deleted, don't run them again\n",
    "- Larger numbers, e.g., 50, 70, 99 - placeholders for associations to skip for now"
   ]
  },
  {
   "cell_type": "code",
   "execution_count": 12,
   "metadata": {},
   "outputs": [
    {
     "data": {
      "text/html": [
       "<div><i>GTable length=5</i>\n",
       "<table id=\"table140477595264496\" class=\"table-striped table-bordered table-condensed\">\n",
       "<thead><tr><th>status</th><th>count</th></tr></thead>\n",
       "<thead><tr><th>int64</th><th>int64</th></tr></thead>\n",
       "<tr><td>0</td><td>30</td></tr>\n",
       "<tr><td>2</td><td>15828</td></tr>\n",
       "<tr><td>9</td><td>50</td></tr>\n",
       "<tr><td>10</td><td>50</td></tr>\n",
       "<tr><td>12</td><td>319</td></tr>\n",
       "</table></div>"
      ],
      "text/plain": [
       "<GTable length=5>\n",
       "status count\n",
       "int64  int64\n",
       "------ -----\n",
       "     0    30\n",
       "     2 15828\n",
       "     9    50\n",
       "    10    50\n",
       "    12   319"
      ]
     },
     "execution_count": 12,
     "metadata": {},
     "output_type": "execute_result"
    }
   ],
   "source": [
    "from grizli.aws import db\n",
    "import astropy.time\n",
    "now = astropy.time.Time.now().mjd\n",
    "\n",
    "db.SQL(f\"\"\"select status, count(distinct(assoc_name)) from assoc_table\n",
    "where instrument_name in ('NIRISS','NIRCAM','MIRI')\n",
    "AND status < 13\n",
    "group by status\n",
    "\"\"\")"
   ]
  },
  {
   "cell_type": "code",
   "execution_count": 23,
   "metadata": {},
   "outputs": [
    {
     "data": {
      "text/html": [
       "<div><i>GTable length=4</i>\n",
       "<table id=\"table140448106796688\" class=\"table-striped table-bordered table-condensed\">\n",
       "<thead><tr><th>status</th><th>count</th></tr></thead>\n",
       "<thead><tr><th>int64</th><th>int64</th></tr></thead>\n",
       "<tr><td>2</td><td>9792</td></tr>\n",
       "<tr><td>9</td><td>46</td></tr>\n",
       "<tr><td>10</td><td>2</td></tr>\n",
       "<tr><td>12</td><td>101</td></tr>\n",
       "</table></div>"
      ],
      "text/plain": [
       "<GTable length=4>\n",
       "status count\n",
       "int64  int64\n",
       "------ -----\n",
       "     2  9792\n",
       "     9    46\n",
       "    10     2\n",
       "    12   101"
      ]
     },
     "execution_count": 23,
     "metadata": {},
     "output_type": "execute_result"
    }
   ],
   "source": [
    "# Do it again to see differences\n",
    "db.SQL(f\"\"\"select status, count(distinct(assoc_name)) from assoc_table\n",
    "where instrument_name in ('NIRISS','NIRCAM','MIRI')\n",
    "AND status < 13\n",
    "group by status\n",
    "\"\"\")"
   ]
  },
  {
   "cell_type": "code",
   "execution_count": null,
   "metadata": {},
   "outputs": [],
   "source": [
    "# Shouldn't need to do this, but the line resets the status to zero of status=10,\n",
    "# which often means some problem with the download, like the download timed out\n",
    "# or perhaps you tried to run proprietary data that isn't visible to the\n",
    "# MAST_TOKEN running the pipeline.\n",
    "if 0:\n",
    "    db.execute(\"\"\"update assoc_table set status = 0 where status = 10\n",
    "AND instrument_name in ('NIRISS','NIRCAM','MIRI')\n",
    "\"\"\")"
   ]
  },
  {
   "attachments": {},
   "cell_type": "markdown",
   "metadata": {},
   "source": [
    "# Count that the number of reduced exposures matches number in association\n",
    "\n",
    "The download scripts can occasionally time out for some reason and skip some files."
   ]
  },
  {
   "cell_type": "code",
   "execution_count": 11,
   "metadata": {},
   "outputs": [
    {
     "name": "stdout",
     "output_type": "stream",
     "text": [
      "assoc_table:  18749\n"
     ]
    }
   ],
   "source": [
    "import astropy.time\n",
    "from grizli import utils\n",
    "from grizli.aws import db\n",
    "\n",
    "now = astropy.time.Time.now().mjd\n",
    "assoc = db.SQL(f\"\"\"select assoc_name as assoc, \"dataURL\", max(instrument_name) as instrume\n",
    "from assoc_table where t_min > {now-180} AND status = 2 and instrument_name in ('MIRI','NIRCAM','NIRISS')\n",
    "AND assoc_name not in ('j013900m1019_indef-f444w_00024')\n",
    "group by assoc, \"dataURL\"\n",
    "\"\"\")\n",
    "\n",
    "print('assoc_table: ', len(assoc))"
   ]
  },
  {
   "cell_type": "code",
   "execution_count": 12,
   "metadata": {},
   "outputs": [
    {
     "name": "stdout",
     "output_type": "stream",
     "text": [
      "files assoc:  18749\n",
      "File lists match!\n"
     ]
    }
   ],
   "source": [
    "files = db.SQL(f\"\"\"select assoc, dataset, max(instrume) as instrume\n",
    "from exposure_files where expstart > {now-180}\n",
    "and instrume in ('MIRI','NIRCAM','NIRISS')\n",
    "AND assoc not in ('j013900m1019_indef-f444w_00024')\n",
    "group by assoc, dataset\n",
    "\"\"\")\n",
    "print('files assoc: ', len(files))\n",
    "\n",
    "if len(assoc) == len(files):\n",
    "    print('File lists match!')\n",
    "else:\n",
    "    print('!! exposure_files and assoc_table don\\'t match !!')\n",
    "    "
   ]
  },
  {
   "cell_type": "code",
   "execution_count": null,
   "metadata": {},
   "outputs": [],
   "source": [
    "una = utils.Unique(assoc['assoc'], verbose=False)\n",
    "unf = utils.Unique(files['assoc'], verbose=False)\n",
    "\n",
    "redo = []\n",
    "\n",
    "for i, a in enumerate(unf.values):\n",
    "    nf = unf.counts[i]\n",
    "    na = una.counts[una.values.index(a)]\n",
    "    if nf != na:\n",
    "        print(f'{nf:>3} {na:>3} {a}')\n",
    "        redo.append(a)        "
   ]
  },
  {
   "cell_type": "code",
   "execution_count": null,
   "metadata": {},
   "outputs": [
    {
     "name": "stdout",
     "output_type": "stream",
     "text": [
      "0\n"
     ]
    }
   ],
   "source": [
    "print(len(redo))\n",
    "\n",
    "if len(redo) > 0:\n",
    "    with open('/tmp/redo_assoc.txt','w') as fp:\n",
    "        for a in redo:\n",
    "            fp.write(a+'\\n')"
   ]
  },
  {
   "cell_type": "code",
   "execution_count": null,
   "metadata": {},
   "outputs": [],
   "source": [
    "from grizli.aws import visit_processor\n",
    "import numpy as np\n",
    "import os\n",
    "import time\n",
    "\n",
    "# i = 0\n",
    "\n",
    "skip = 1\n",
    "\n",
    "if len(redo) > 0:\n",
    "    \n",
    "    redo = np.loadtxt('/tmp/redo_assoc.txt', dtype=str)[i::skip]\n",
    "    for a in redo:\n",
    "        os.chdir('/GrizliImaging')\n",
    "        with open('/tmp/redo_done.txt','a') as fp:\n",
    "            fp.write(f'{i} {time.ctime()} {a}\\n')\n",
    "\n",
    "        visit_processor.process_visit(a, sync=True, clean=True)\n",
    "    "
   ]
  }
 ],
 "metadata": {
  "deepnote": {},
  "deepnote_execution_queue": [],
  "deepnote_notebook_id": "a0535b6b6c3443c8b96d319ff9881ef7",
  "kernelspec": {
   "display_name": "Python 3 (ipykernel)",
   "language": "python",
   "name": "python3"
  },
  "language_info": {
   "codemirror_mode": {
    "name": "ipython",
    "version": 3
   },
   "file_extension": ".py",
   "mimetype": "text/x-python",
   "name": "python",
   "nbconvert_exporter": "python",
   "pygments_lexer": "ipython3",
   "version": "3.10.13"
  }
 },
 "nbformat": 4,
 "nbformat_minor": 4
}
