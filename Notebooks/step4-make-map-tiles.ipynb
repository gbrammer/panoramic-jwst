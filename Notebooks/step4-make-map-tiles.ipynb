{
 "cells": [
  {
   "cell_type": "markdown",
   "metadata": {},
   "source": [
    "# Make drizzled tiles\n",
    "\n",
    "There are functionality for defining a tiling grid for a particular field and functions on EC2 to drizzle the tiles in parallel."
   ]
  },
  {
   "cell_type": "code",
   "execution_count": 2,
   "metadata": {},
   "outputs": [
    {
     "name": "stdout",
     "output_type": "stream",
     "text": [
      "Set ROOT_PATH=/usr/local/share/python/panoramic-jwst/Notebooks\n"
     ]
    }
   ],
   "source": [
    "import os\n",
    "import warnings\n",
    "warnings.filterwarnings('ignore')\n",
    "\n",
    "import numpy as np\n",
    "import matplotlib.pyplot as plt\n",
    "\n",
    "import astropy.time\n",
    "\n",
    "from grizli.aws import db\n",
    "from grizli import utils"
   ]
  },
  {
   "cell_type": "code",
   "execution_count": 3,
   "metadata": {},
   "outputs": [
    {
     "data": {
      "text/plain": [
       "'/usr/local/share/python/panoramic-jwst/Notebooks'"
      ]
     },
     "execution_count": 3,
     "metadata": {},
     "output_type": "execute_result"
    }
   ],
   "source": [
    "if os.path.exists('/workspaces/panoramic-jwst/Mosaics'):\n",
    "    os.chdir('/workspaces/panoramic-jwst/Mosaics')\n",
    "\n",
    "os.getcwd()"
   ]
  },
  {
   "cell_type": "code",
   "execution_count": 13,
   "metadata": {},
   "outputs": [
    {
     "name": "stdout",
     "output_type": "stream",
     "text": [
      "# lookback_time: 20 days\n",
      "SELECT file, assoc, instrume, filter, tile, field, e.footprint, t.footprint as tile_footprint\n",
      "FROM exposure_files e, combined_tiles t\n",
      "WHERE instrume in ('NIRCAM','MIRI','NIRISS')\n",
      "AND (field like 'panoramic%%' OR field = 'j013804m2156')\n",
      "AND polygon(e.footprint) && polygon(t.footprint)\n",
      "AND (e.dataset like 'jw02514%%' OR e.dataset like 'jw06549%%') AND e.filter in ('F090W-CLEAR','F115W-CLEAR','F150W-CLEAR','F200W-CLEAR','F182M-CLEAR','F210M-CLEAR','F070W-CLEAR','F140M-CLEAR','F300M-CLEAR','F250M-CLEAR','F335M-CLEAR','F360M-CLEAR','F277W-CLEAR','F356W-CLEAR','F410M-CLEAR','F444W-CLEAR','F560W','F770W','F1800W','CLEARP-F444W','F430M-CLEAR','F460M-CLEAR','F090WN-CLEAR','CLEARP-F277W','CLEARP-F356W','F150W2-CLEAR')\n",
      "AND expstart > 60301.50086706586\n",
      "\n"
     ]
    },
    {
     "data": {
      "text/plain": [
       "524"
      ]
     },
     "execution_count": 13,
     "metadata": {},
     "output_type": "execute_result"
    }
   ],
   "source": [
    "# Query for tiles\n",
    "\n",
    "runmode = 'panoramic'\n",
    "# runmode = 'uncover'\n",
    "#runmode = 'smacs'\n",
    "# runmode = 'gds'\n",
    "# runmode = 'spitzer_idf'\n",
    "\n",
    "# runmode = 'egs-v2'\n",
    "\n",
    "# runmode = 'cos'\n",
    "# runmode = 'uds'\n",
    "# runmode = 'j013804m2156'\n",
    "# runmode = 'macs0416'\n",
    "# runmode = 'sextansa'\n",
    "# runmode = 'j031124m5823'\n",
    "\n",
    "# Find everything back to the beginning of Cycle 1\n",
    "lookback_time = 800\n",
    "\n",
    "# runmode = 'abell370'\n",
    "\n",
    "if runmode == 'panoramic':\n",
    "    # PANORAMIC\n",
    "    fields = \"AND (field like 'panoramic%%' OR field = 'j013804m2156')\"\n",
    "    prog = \"AND (e.dataset like 'jw02514%%' OR e.dataset like 'jw06549%%')\"\n",
    "\n",
    "    # Limit to more recent so that it runs faster\n",
    "    lookback_time = 20\n",
    "    \n",
    "elif runmode == 'spitzer_idf':\n",
    "    # PANORAMIC\n",
    "    fields = \"AND field = 'spitzer_idf'\"\n",
    "    prog = \"AND (e.dataset like 'jw02738%%')\"\n",
    "\n",
    "elif runmode == 'egs-v2':\n",
    "    # PANORAMIC\n",
    "    fields = \"AND field = 'egs-v2'\"\n",
    "    prog = \"AND (e.dataset like 'jw01345%%' OR e.dataset like 'jw02279%%' OR e.dataset like 'jw02514%%' OR e.dataset like 'jw02750%%')\"\n",
    "\n",
    "elif runmode == 'uncover':\n",
    "    # PANORAMIC\n",
    "    fields = \"AND field = 'abell2744'\"\n",
    "    prog = \"AND (e.dataset like 'jw01324%%' OR e.dataset like 'jw02561%%' OR e.dataset like 'jw03516%%' OR e.dataset like 'jw02756%%' OR e.dataset like 'jw04111%%')\"\n",
    "    \n",
    "elif runmode == 'smacs':\n",
    "    # SMACS 0723\n",
    "    fields = \"AND field = 'j072305m7327'\"\n",
    "    prog = \"AND (e.dataset like 'jw02736%%')\"\n",
    "    \n",
    "elif runmode == 'panoramic-uds':\n",
    "    # Extra UDS\n",
    "    fields = \"AND field = 'uds'\"\n",
    "    prog = \"AND e.dataset like 'jw02514%%'\"\n",
    "    \n",
    "elif runmode == 'macs0416':\n",
    "    # Extra UDS\n",
    "    fields = \"AND field = 'macs0416'\"\n",
    "    prog = \"AND (e.dataset like 'jw02514%%' OR e.dataset like 'jw01208%%' OR e.dataset like 'jw01176%%')\"\n",
    "    \n",
    "elif runmode == 'gds':\n",
    "    # GOODS-South\n",
    "    fields = \"AND field = 'gds'\"\n",
    "    prog = \"AND (e.dataset like 'jw01895%%' OR e.dataset like 'jw01180%%' OR e.dataset like 'jw02514%%' OR e.dataset like 'jw03215%%')\"\n",
    "    prog = \"AND (e.dataset like 'jw01283%%')\"\n",
    "    prog = \"AND (e.dataset like 'jw02198%%')\"\n",
    "    prog = \"\"\"AND (e.dataset like 'jw01895%%' OR e.dataset like 'jw01180%%' OR e.dataset like 'jw02514%%'\n",
    "                   OR e.dataset like 'jw03215%%' or e.dataset like 'jw02198%%' or e.dataset like 'jw01283%%'\n",
    "                   or e.dataset like 'jw02079%%' or e.dataset like 'jw01207%%')\"\"\"\n",
    "    \n",
    "elif runmode == 'cos':\n",
    "    fields = \"AND field = 'cos'\"\n",
    "    # Valentino\n",
    "    prog = \"AND (e.dataset like 'jw03567%%' OR e.dataset like 'jw01635%%')\"\n",
    "    prog = \"AND (e.dataset like 'jw01727%%' OR e.dataset like 'jw02514%%' or e.dataset like 'jw03990%%')\"\n",
    "    \n",
    "elif runmode == 'abell370':\n",
    "    fields = \"AND field = 'abell370'\"\n",
    "    # Valentino\n",
    "    prog = \"AND (e.dataset like 'jw01208%%' OR e.dataset like 'jw02514%%' OR e.dataset like 'jw03538%%' OR e.dataset like 'jw03362%%')\"\n",
    "elif runmode == 'uds':\n",
    "    fields = \"AND field = 'uds'\"\n",
    "    # Valentino\n",
    "    prog = \"AND (e.dataset like 'jw03567%%' OR e.dataset like 'jw01635%%')\"\n",
    "elif runmode == 'j013804m2156':\n",
    "    fields = \"AND field = 'j013804m2156'\"\n",
    "    prog = \"AND (e.dataset like 'jw06549%%' OR e.dataset like 'jw02514%%')\"\n",
    "else:\n",
    "    fields = f\"AND field = '{runmode}'\"\n",
    "    # prog = \"AND (e.dataset like 'jw01791%%')\" # j0311\n",
    "\n",
    "    \n",
    "instruments = \"'NIRCAM','MIRI','NIRISS'\"\n",
    "\n",
    "filters = \"'F090W-CLEAR','F115W-CLEAR','F150W-CLEAR','F200W-CLEAR'\"\n",
    "filters += \",'F182M-CLEAR','F210M-CLEAR'\"\n",
    "# filters += \",'F070W-CLEAR','F140M-CLEAR','F300M-CLEAR','F250M-CLEAR','F335M-CLEAR','F360M-CLEAR'\"\n",
    "filters += \",'F070W-CLEAR','F140M-CLEAR','F300M-CLEAR','F250M-CLEAR','F335M-CLEAR','F360M-CLEAR'\"\n",
    "filters += \",'F277W-CLEAR','F356W-CLEAR','F410M-CLEAR','F444W-CLEAR'\"\n",
    "filters += \",'F560W','F770W','F1800W','CLEARP-F444W'\"\n",
    "filters += \",'F430M-CLEAR','F460M-CLEAR'\"\n",
    "filters += \",'F090WN-CLEAR','CLEARP-F277W','CLEARP-F356W'\"\n",
    "filters += \",'F150W2-CLEAR'\"\n",
    "\n",
    "# instruments = \"'NIRISS'\"\n",
    "\n",
    "# filters = \"'F410M-CLEAR'\"\n",
    "\n",
    "print(f'# lookback_time: {lookback_time} days')\n",
    "\n",
    "QUERY = f\"\"\"SELECT file, assoc, instrume, filter, tile, field, e.footprint, t.footprint as tile_footprint\n",
    "FROM exposure_files e, combined_tiles t\n",
    "WHERE instrume in ({instruments})\n",
    "{fields}\n",
    "AND polygon(e.footprint) && polygon(t.footprint)\n",
    "{prog} AND e.filter in ({filters})\n",
    "AND expstart > {astropy.time.Time.now().mjd - lookback_time}\n",
    "\"\"\"\n",
    "\n",
    "print(QUERY)\n",
    "\n",
    "res = db.SQL(QUERY)\n",
    "\n",
    "\n",
    "len(res)"
   ]
  },
  {
   "cell_type": "code",
   "execution_count": 14,
   "metadata": {},
   "outputs": [
    {
     "data": {
      "text/plain": [
       "(\"'F115W-CLEAR','F150W-CLEAR','F200W-CLEAR','F277W-CLEAR','F356W-CLEAR','F410M-CLEAR','F444W-CLEAR'\",\n",
       " \"'NIRCAM'\")"
      ]
     },
     "execution_count": 14,
     "metadata": {},
     "output_type": "execute_result"
    }
   ],
   "source": [
    "instruments = ','.join([f\"'{f}'\" for f in np.unique(res['instrume']).tolist()])\n",
    "filters = ','.join([f\"'{f}'\" for f in np.unique(res['filter']).tolist()])\n",
    "\n",
    "filters, instruments"
   ]
  },
  {
   "cell_type": "code",
   "execution_count": 20,
   "metadata": {},
   "outputs": [
    {
     "data": {
      "text/html": [
       "<div><i>GTable length=66</i>\n",
       "<table id=\"table6241323424\" class=\"table-striped table-bordered table-condensed\">\n",
       "<thead><tr><th>field</th><th>tile</th><th>instrume</th><th>filter</th><th>ndrizim</th></tr></thead>\n",
       "<thead><tr><th>str12</th><th>str5</th><th>str6</th><th>str11</th><th>int64</th></tr></thead>\n",
       "<tr><td>j013804m2156</td><td>07.08</td><td>NIRCAM</td><td>F115W-CLEAR</td><td>25</td></tr>\n",
       "<tr><td>j013804m2156</td><td>07.08</td><td>NIRCAM</td><td>F150W-CLEAR</td><td>25</td></tr>\n",
       "<tr><td>j013804m2156</td><td>07.08</td><td>NIRCAM</td><td>F200W-CLEAR</td><td>25</td></tr>\n",
       "<tr><td>j013804m2156</td><td>07.08</td><td>NIRCAM</td><td>F277W-CLEAR</td><td>12</td></tr>\n",
       "<tr><td>j013804m2156</td><td>07.08</td><td>NIRCAM</td><td>F356W-CLEAR</td><td>12</td></tr>\n",
       "<tr><td>j013804m2156</td><td>07.08</td><td>NIRCAM</td><td>F444W-CLEAR</td><td>12</td></tr>\n",
       "<tr><td>j013804m2156</td><td>08.07</td><td>NIRCAM</td><td>F115W-CLEAR</td><td>14</td></tr>\n",
       "<tr><td>...</td><td>...</td><td>...</td><td>...</td><td>...</td></tr>\n",
       "<tr><td>j013804m2156</td><td>10.10</td><td>NIRCAM</td><td>F115W-CLEAR</td><td>28</td></tr>\n",
       "<tr><td>j013804m2156</td><td>10.10</td><td>NIRCAM</td><td>F150W-CLEAR</td><td>12</td></tr>\n",
       "<tr><td>j013804m2156</td><td>10.10</td><td>NIRCAM</td><td>F200W-CLEAR</td><td>16</td></tr>\n",
       "<tr><td>j013804m2156</td><td>10.10</td><td>NIRCAM</td><td>F277W-CLEAR</td><td>4</td></tr>\n",
       "<tr><td>j013804m2156</td><td>10.10</td><td>NIRCAM</td><td>F356W-CLEAR</td><td>4</td></tr>\n",
       "<tr><td>j013804m2156</td><td>10.10</td><td>NIRCAM</td><td>F410M-CLEAR</td><td>4</td></tr>\n",
       "<tr><td>j013804m2156</td><td>10.10</td><td>NIRCAM</td><td>F444W-CLEAR</td><td>4</td></tr>\n",
       "</table></div>"
      ],
      "text/plain": [
       "<GTable length=66>\n",
       "   field      tile instrume    filter   ndrizim\n",
       "   str12      str5   str6      str11     int64 \n",
       "------------ ----- -------- ----------- -------\n",
       "j013804m2156 07.08   NIRCAM F115W-CLEAR      25\n",
       "j013804m2156 07.08   NIRCAM F150W-CLEAR      25\n",
       "j013804m2156 07.08   NIRCAM F200W-CLEAR      25\n",
       "j013804m2156 07.08   NIRCAM F277W-CLEAR      12\n",
       "j013804m2156 07.08   NIRCAM F356W-CLEAR      12\n",
       "j013804m2156 07.08   NIRCAM F444W-CLEAR      12\n",
       "j013804m2156 08.07   NIRCAM F115W-CLEAR      14\n",
       "         ...   ...      ...         ...     ...\n",
       "j013804m2156 10.10   NIRCAM F115W-CLEAR      28\n",
       "j013804m2156 10.10   NIRCAM F150W-CLEAR      12\n",
       "j013804m2156 10.10   NIRCAM F200W-CLEAR      16\n",
       "j013804m2156 10.10   NIRCAM F277W-CLEAR       4\n",
       "j013804m2156 10.10   NIRCAM F356W-CLEAR       4\n",
       "j013804m2156 10.10   NIRCAM F410M-CLEAR       4\n",
       "j013804m2156 10.10   NIRCAM F444W-CLEAR       4"
      ]
     },
     "execution_count": 20,
     "metadata": {},
     "output_type": "execute_result"
    }
   ],
   "source": [
    "# Query counting by exposures per field\n",
    "# can take a while\n",
    "\n",
    "fields = ','.join([f\"'{f}'\" for f in np.unique(res['field']).tolist()])\n",
    "tiles = ','.join([f\"'{f}'\" for f in np.unique(res['tile']).tolist()])\n",
    "instruments = ','.join([f\"'{f}'\" for f in np.unique(res['instrume']).tolist()])\n",
    "filters = ','.join([f\"'{f}'\" for f in np.unique(res['filter']).tolist()])\n",
    "prog = ''\n",
    "\n",
    "grp = db.SQL(f\"\"\"select field, tile, instrume, filter, count(filter) as ndrizim\n",
    "from exposure_files e, combined_tiles t\n",
    "where instrume in ({instruments})\n",
    "AND t.field in ({fields})\n",
    "AND t.tile in ({tiles})\n",
    "AND polygon(e.footprint) && polygon(t.footprint)\n",
    "{prog}\n",
    "AND e.filter in ({filters})\n",
    "group by field, tile, instrume, filter\n",
    "order by field, tile, instrume, filter\n",
    "\"\"\")\n",
    "grp"
   ]
  },
  {
   "cell_type": "code",
   "execution_count": 21,
   "metadata": {},
   "outputs": [
    {
     "name": "stdout",
     "output_type": "stream",
     "text": [
      "   N  value     \n",
      "====  ==========\n",
      "   7  F410M-CLEAR\n",
      "   9  F200W-CLEAR\n",
      "   9  F277W-CLEAR\n",
      "   9  F356W-CLEAR\n",
      "  10  F444W-CLEAR\n",
      "  11  F115W-CLEAR\n",
      "  11  F150W-CLEAR\n"
     ]
    },
    {
     "data": {
      "text/plain": [
       "<grizli.utils.Unique at 0x17485f1c0>"
      ]
     },
     "execution_count": 21,
     "metadata": {},
     "output_type": "execute_result"
    }
   ],
   "source": [
    "utils.Unique(grp['filter'])"
   ]
  },
  {
   "cell_type": "code",
   "execution_count": 22,
   "metadata": {},
   "outputs": [
    {
     "name": "stdout",
     "output_type": "stream",
     "text": [
      "   N  value     \n",
      "====  ==========\n",
      " 524  j013804m2156\n"
     ]
    },
    {
     "data": {
      "image/png": "[encoded data removed]",
      "text/plain": [
       "<Figure size 900x900 with 1 Axes>"
      ]
     },
     "metadata": {},
     "output_type": "display_data"
    }
   ],
   "source": [
    "# Make field plots\n",
    "\n",
    "un = utils.Unique(res['field'])\n",
    "\n",
    "figs = {}\n",
    "\n",
    "for v in un.values:\n",
    "    fig, ax = plt.subplots(1,1,figsize=(9,9))\n",
    "    test = un[v] & np.in1d(res['filter'], ['F444W-CLEAR'])\n",
    "    jw_color = 'r'\n",
    "\n",
    "    if test.sum() == 0:\n",
    "        test = un[v] & np.in1d(res['filter'], ['F356W-CLEAR','F335M-CLEAR','F300M-CLEAR'])\n",
    "        jw_color = 'orange'\n",
    "        \n",
    "    una = utils.Unique(res['assoc'][test], verbose=False)\n",
    "    for a in una.values:\n",
    "        for f in res['footprint'][test][una[a]][0::2]:\n",
    "            sr = utils.SRegion(f)\n",
    "            ax.scatter(*sr.xy[0][0], alpha=0)\n",
    "            for p in sr.patch(fc=jw_color, ec='None', alpha=0.1):\n",
    "                ax.add_patch(p)\n",
    "        \n",
    "    figs[v] = fig\n",
    "    ax.set_title(v)\n",
    "    cosd = np.cos(ax.get_ylim()[0]/180*np.pi)\n",
    "    \n",
    "    ax.set_aspect(1./cosd)\n",
    "    ax.set_xlim(*ax.get_xlim()[::-1])\n",
    "    \n",
    "ftf = ['{field} {tile} {instrume} {filter}'.format(**row) for row in res]\n",
    "un = utils.Unique(ftf, verbose=False)\n",
    "\n",
    "ft = ['{field} {tile}'.format(**row) for row in res]\n",
    "unt = utils.Unique(ft, verbose=False)\n",
    "\n",
    "for v in unt.values:\n",
    "    sr = utils.SRegion(res['tile_footprint'][unt[v]][0])\n",
    "    for p in sr.patch(fc='b', ec='lightblue', alpha=0.1):\n",
    "        figs[v.split()[0]].axes[0].add_patch(p)\n",
    "        "
   ]
  },
  {
   "cell_type": "code",
   "execution_count": 23,
   "metadata": {},
   "outputs": [
    {
     "name": "stdout",
     "output_type": "stream",
     "text": [
      "   N  value     \n",
      "====  ==========\n",
      "   1  j013804m2156 09.08 NIRCAM F200W-CLEAR\n",
      "   1  j013804m2156 09.08 NIRCAM F150W-CLEAR\n",
      "   4  j013804m2156 08.10 NIRCAM F115W-CLEAR\n",
      "   4  j013804m2156 10.09 NIRCAM F444W-CLEAR\n",
      "   4  j013804m2156 10.09 NIRCAM F410M-CLEAR\n",
      "   4  j013804m2156 10.09 NIRCAM F150W-CLEAR\n",
      "   4  j013804m2156 10.09 NIRCAM F115W-CLEAR\n",
      "   4  j013804m2156 09.11 NIRCAM F444W-CLEAR\n",
      "   4  j013804m2156 09.11 NIRCAM F410M-CLEAR\n",
      "   4  j013804m2156 09.11 NIRCAM F150W-CLEAR\n",
      "   4  j013804m2156 09.11 NIRCAM F115W-CLEAR\n",
      "   4  j013804m2156 08.10 NIRCAM F444W-CLEAR\n",
      "   4  j013804m2156 08.10 NIRCAM F410M-CLEAR\n",
      "   4  j013804m2156 08.10 NIRCAM F150W-CLEAR\n",
      "   4  j013804m2156 10.10 NIRCAM F410M-CLEAR\n",
      "   4  j013804m2156 08.09 NIRCAM F410M-CLEAR\n",
      "   4  j013804m2156 10.10 NIRCAM F444W-CLEAR\n",
      "   5  j013804m2156 09.08 NIRCAM F115W-CLEAR\n",
      "   6  j013804m2156 08.09 NIRCAM F277W-CLEAR\n",
      "   6  j013804m2156 08.09 NIRCAM F356W-CLEAR\n",
      "   7  j013804m2156 08.09 NIRCAM F200W-CLEAR\n",
      "   8  j013804m2156 08.08 NIRCAM F444W-CLEAR\n",
      "   8  j013804m2156 07.08 NIRCAM F277W-CLEAR\n",
      "   8  j013804m2156 07.08 NIRCAM F356W-CLEAR\n",
      "   8  j013804m2156 07.08 NIRCAM F444W-CLEAR\n",
      "   8  j013804m2156 09.10 NIRCAM F444W-CLEAR\n",
      "   8  j013804m2156 09.10 NIRCAM F410M-CLEAR\n",
      "   8  j013804m2156 09.09 NIRCAM F444W-CLEAR\n",
      "   8  j013804m2156 08.08 NIRCAM F356W-CLEAR\n",
      "   8  j013804m2156 08.07 NIRCAM F277W-CLEAR\n",
      "   8  j013804m2156 09.09 NIRCAM F410M-CLEAR\n",
      "   8  j013804m2156 08.07 NIRCAM F444W-CLEAR\n",
      "   8  j013804m2156 08.08 NIRCAM F277W-CLEAR\n",
      "   8  j013804m2156 08.07 NIRCAM F356W-CLEAR\n",
      "  10  j013804m2156 08.07 NIRCAM F115W-CLEAR\n",
      "  10  j013804m2156 08.07 NIRCAM F200W-CLEAR\n",
      "  10  j013804m2156 08.09 NIRCAM F444W-CLEAR\n",
      "  10  j013804m2156 08.07 NIRCAM F150W-CLEAR\n",
      "  12  j013804m2156 10.10 NIRCAM F115W-CLEAR\n",
      "  12  j013804m2156 10.10 NIRCAM F150W-CLEAR\n",
      "  16  j013804m2156 07.08 NIRCAM F200W-CLEAR\n",
      "  16  j013804m2156 07.08 NIRCAM F150W-CLEAR\n",
      "  16  j013804m2156 07.08 NIRCAM F115W-CLEAR\n",
      "  19  j013804m2156 08.09 NIRCAM F150W-CLEAR\n",
      "  19  j013804m2156 08.09 NIRCAM F115W-CLEAR\n",
      "  20  j013804m2156 09.09 NIRCAM F150W-CLEAR\n",
      "  20  j013804m2156 09.09 NIRCAM F115W-CLEAR\n",
      "  24  j013804m2156 09.10 NIRCAM F115W-CLEAR\n",
      "  24  j013804m2156 09.10 NIRCAM F150W-CLEAR\n",
      "  32  j013804m2156 08.08 NIRCAM F200W-CLEAR\n",
      "  32  j013804m2156 08.08 NIRCAM F150W-CLEAR\n",
      "  32  j013804m2156 08.08 NIRCAM F115W-CLEAR\n"
     ]
    }
   ],
   "source": [
    "# Unique items\n",
    "gtf = ['{field} {tile} {instrume} {filter}'.format(**row) for row in grp]\n",
    "\n",
    "ftf = ['{field} {tile} {instrume} {filter}'.format(**row) for row in res]\n",
    "un = utils.Unique(ftf)"
   ]
  },
  {
   "cell_type": "markdown",
   "metadata": {},
   "source": [
    "# Update `combined_tile_filters` table"
   ]
  },
  {
   "cell_type": "code",
   "execution_count": 24,
   "metadata": {},
   "outputs": [
    {
     "data": {
      "text/html": [
       "<div><i>GTable length=52</i>\n",
       "<table id=\"table6260376000\" class=\"table-striped table-bordered table-condensed\">\n",
       "<thead><tr><th>field</th><th>tile</th><th>instrume</th><th>filter</th><th>modtime</th><th>status</th><th>ndrizim</th></tr></thead>\n",
       "<thead><tr><th>str12</th><th>str5</th><th>str6</th><th>str11</th><th>float64</th><th>int64</th><th>int64</th></tr></thead>\n",
       "<tr><td>j013804m2156</td><td>07.08</td><td>NIRCAM</td><td>F115W-CLEAR</td><td>0.0</td><td>0</td><td>25</td></tr>\n",
       "<tr><td>j013804m2156</td><td>07.08</td><td>NIRCAM</td><td>F150W-CLEAR</td><td>0.0</td><td>0</td><td>25</td></tr>\n",
       "<tr><td>j013804m2156</td><td>07.08</td><td>NIRCAM</td><td>F200W-CLEAR</td><td>0.0</td><td>0</td><td>25</td></tr>\n",
       "<tr><td>j013804m2156</td><td>07.08</td><td>NIRCAM</td><td>F277W-CLEAR</td><td>0.0</td><td>0</td><td>12</td></tr>\n",
       "<tr><td>j013804m2156</td><td>07.08</td><td>NIRCAM</td><td>F356W-CLEAR</td><td>0.0</td><td>0</td><td>12</td></tr>\n",
       "<tr><td>j013804m2156</td><td>07.08</td><td>NIRCAM</td><td>F444W-CLEAR</td><td>0.0</td><td>0</td><td>12</td></tr>\n",
       "<tr><td>j013804m2156</td><td>08.07</td><td>NIRCAM</td><td>F115W-CLEAR</td><td>0.0</td><td>0</td><td>14</td></tr>\n",
       "<tr><td>...</td><td>...</td><td>...</td><td>...</td><td>...</td><td>...</td><td>...</td></tr>\n",
       "<tr><td>j013804m2156</td><td>10.09</td><td>NIRCAM</td><td>F150W-CLEAR</td><td>0.0</td><td>0</td><td>4</td></tr>\n",
       "<tr><td>j013804m2156</td><td>10.09</td><td>NIRCAM</td><td>F410M-CLEAR</td><td>0.0</td><td>0</td><td>4</td></tr>\n",
       "<tr><td>j013804m2156</td><td>10.09</td><td>NIRCAM</td><td>F444W-CLEAR</td><td>0.0</td><td>0</td><td>4</td></tr>\n",
       "<tr><td>j013804m2156</td><td>10.10</td><td>NIRCAM</td><td>F115W-CLEAR</td><td>0.0</td><td>0</td><td>28</td></tr>\n",
       "<tr><td>j013804m2156</td><td>10.10</td><td>NIRCAM</td><td>F150W-CLEAR</td><td>0.0</td><td>0</td><td>12</td></tr>\n",
       "<tr><td>j013804m2156</td><td>10.10</td><td>NIRCAM</td><td>F410M-CLEAR</td><td>0.0</td><td>0</td><td>4</td></tr>\n",
       "<tr><td>j013804m2156</td><td>10.10</td><td>NIRCAM</td><td>F444W-CLEAR</td><td>0.0</td><td>0</td><td>4</td></tr>\n",
       "</table></div>"
      ],
      "text/plain": [
       "<GTable length=52>\n",
       "   field      tile instrume    filter   modtime status ndrizim\n",
       "   str12      str5   str6      str11    float64 int64   int64 \n",
       "------------ ----- -------- ----------- ------- ------ -------\n",
       "j013804m2156 07.08   NIRCAM F115W-CLEAR     0.0      0      25\n",
       "j013804m2156 07.08   NIRCAM F150W-CLEAR     0.0      0      25\n",
       "j013804m2156 07.08   NIRCAM F200W-CLEAR     0.0      0      25\n",
       "j013804m2156 07.08   NIRCAM F277W-CLEAR     0.0      0      12\n",
       "j013804m2156 07.08   NIRCAM F356W-CLEAR     0.0      0      12\n",
       "j013804m2156 07.08   NIRCAM F444W-CLEAR     0.0      0      12\n",
       "j013804m2156 08.07   NIRCAM F115W-CLEAR     0.0      0      14\n",
       "         ...   ...      ...         ...     ...    ...     ...\n",
       "j013804m2156 10.09   NIRCAM F150W-CLEAR     0.0      0       4\n",
       "j013804m2156 10.09   NIRCAM F410M-CLEAR     0.0      0       4\n",
       "j013804m2156 10.09   NIRCAM F444W-CLEAR     0.0      0       4\n",
       "j013804m2156 10.10   NIRCAM F115W-CLEAR     0.0      0      28\n",
       "j013804m2156 10.10   NIRCAM F150W-CLEAR     0.0      0      12\n",
       "j013804m2156 10.10   NIRCAM F410M-CLEAR     0.0      0       4\n",
       "j013804m2156 10.10   NIRCAM F444W-CLEAR     0.0      0       4"
      ]
     },
     "execution_count": 24,
     "metadata": {},
     "output_type": "execute_result"
    }
   ],
   "source": [
    "rows = [v.split() for v in un.values]\n",
    "\n",
    "tab = utils.GTable(names=['field','tile','instrume','filter'], rows=rows)\n",
    "tab['modtime'] = 0.\n",
    "tab['status'] = 0\n",
    "\n",
    "tab['ndrizim'] = [grp['ndrizim'][gtf.index(v)] for v in un.values]\n",
    "    \n",
    "tab"
   ]
  },
  {
   "cell_type": "code",
   "execution_count": 25,
   "metadata": {},
   "outputs": [
    {
     "name": "stdout",
     "output_type": "stream",
     "text": [
      "ntot: 52  old: 52  new: 0\n"
     ]
    }
   ],
   "source": [
    "exist = db.SQL(\"\"\"select * from combined_tiles_filters\"\"\")\n",
    "exist_ftf = ['{field} {tile} {instrume} {filter}'.format(**row) for row in exist]\n",
    "\n",
    "new_ftf = ['{field} {tile} {instrume} {filter}'.format(**row) for row in tab]\n",
    "\n",
    "old = np.in1d(new_ftf, exist_ftf)\n",
    "new = ~old\n",
    "print(f'ntot: {len(old)}  old: {old.sum()}  new: {(new).sum()}')"
   ]
  },
  {
   "cell_type": "code",
   "execution_count": 26,
   "metadata": {},
   "outputs": [
    {
     "name": "stdout",
     "output_type": "stream",
     "text": [
      "OK # j013804m2156 07.08 NIRCAM F115W-CLEAR 25 -> 25\n",
      "OK # j013804m2156 07.08 NIRCAM F150W-CLEAR 25 -> 25\n",
      "OK # j013804m2156 07.08 NIRCAM F200W-CLEAR 25 -> 25\n",
      "OK # j013804m2156 07.08 NIRCAM F277W-CLEAR 12 -> 12\n",
      "OK # j013804m2156 07.08 NIRCAM F356W-CLEAR 12 -> 12\n",
      "OK # j013804m2156 07.08 NIRCAM F444W-CLEAR 12 -> 12\n",
      "OK # j013804m2156 08.07 NIRCAM F115W-CLEAR 14 -> 14\n",
      "OK # j013804m2156 08.07 NIRCAM F150W-CLEAR 14 -> 14\n",
      "OK # j013804m2156 08.07 NIRCAM F200W-CLEAR 14 -> 14\n",
      "OK # j013804m2156 08.07 NIRCAM F277W-CLEAR 12 -> 12\n",
      "OK # j013804m2156 08.07 NIRCAM F356W-CLEAR 12 -> 12\n",
      "OK # j013804m2156 08.07 NIRCAM F444W-CLEAR 12 -> 12\n",
      "OK # j013804m2156 08.08 NIRCAM F115W-CLEAR 48 -> 48\n",
      "OK # j013804m2156 08.08 NIRCAM F150W-CLEAR 48 -> 48\n",
      "OK # j013804m2156 08.08 NIRCAM F200W-CLEAR 48 -> 48\n",
      "OK # j013804m2156 08.08 NIRCAM F277W-CLEAR 12 -> 12\n",
      "OK # j013804m2156 08.08 NIRCAM F356W-CLEAR 12 -> 12\n",
      "OK # j013804m2156 08.08 NIRCAM F444W-CLEAR 12 -> 12\n",
      "OK # j013804m2156 08.09 NIRCAM F115W-CLEAR 27 -> 27\n",
      "OK # j013804m2156 08.09 NIRCAM F150W-CLEAR 23 -> 23\n",
      "OK # j013804m2156 08.09 NIRCAM F200W-CLEAR 15 -> 15\n",
      "OK # j013804m2156 08.09 NIRCAM F277W-CLEAR 14 -> 14\n",
      "OK # j013804m2156 08.09 NIRCAM F356W-CLEAR 14 -> 14\n",
      "OK # j013804m2156 08.09 NIRCAM F410M-CLEAR 4 -> 4\n",
      "OK # j013804m2156 08.09 NIRCAM F444W-CLEAR 14 -> 14\n",
      "OK # j013804m2156 08.10 NIRCAM F115W-CLEAR 4 -> 4\n",
      "OK # j013804m2156 08.10 NIRCAM F150W-CLEAR 4 -> 4\n",
      "OK # j013804m2156 08.10 NIRCAM F410M-CLEAR 4 -> 4\n",
      "OK # j013804m2156 08.10 NIRCAM F444W-CLEAR 4 -> 4\n",
      "OK # j013804m2156 09.08 NIRCAM F115W-CLEAR 9 -> 9\n",
      "OK # j013804m2156 09.08 NIRCAM F150W-CLEAR 1 -> 1\n",
      "OK # j013804m2156 09.08 NIRCAM F200W-CLEAR 5 -> 5\n",
      "OK # j013804m2156 09.09 NIRCAM F115W-CLEAR 44 -> 44\n",
      "OK # j013804m2156 09.09 NIRCAM F150W-CLEAR 20 -> 20\n",
      "OK # j013804m2156 09.09 NIRCAM F410M-CLEAR 8 -> 8\n",
      "OK # j013804m2156 09.09 NIRCAM F444W-CLEAR 8 -> 8\n",
      "OK # j013804m2156 09.10 NIRCAM F115W-CLEAR 32 -> 32\n",
      "OK # j013804m2156 09.10 NIRCAM F150W-CLEAR 24 -> 24\n",
      "OK # j013804m2156 09.10 NIRCAM F410M-CLEAR 8 -> 8\n",
      "OK # j013804m2156 09.10 NIRCAM F444W-CLEAR 8 -> 8\n",
      "OK # j013804m2156 09.11 NIRCAM F115W-CLEAR 4 -> 4\n",
      "OK # j013804m2156 09.11 NIRCAM F150W-CLEAR 4 -> 4\n",
      "OK # j013804m2156 09.11 NIRCAM F410M-CLEAR 4 -> 4\n",
      "OK # j013804m2156 09.11 NIRCAM F444W-CLEAR 4 -> 4\n",
      "OK # j013804m2156 10.09 NIRCAM F115W-CLEAR 20 -> 20\n",
      "OK # j013804m2156 10.09 NIRCAM F150W-CLEAR 4 -> 4\n",
      "OK # j013804m2156 10.09 NIRCAM F410M-CLEAR 4 -> 4\n",
      "OK # j013804m2156 10.09 NIRCAM F444W-CLEAR 4 -> 4\n",
      "OK # j013804m2156 10.10 NIRCAM F115W-CLEAR 28 -> 28\n",
      "OK # j013804m2156 10.10 NIRCAM F150W-CLEAR 12 -> 12\n",
      "OK # j013804m2156 10.10 NIRCAM F410M-CLEAR 4 -> 4\n",
      "OK # j013804m2156 10.10 NIRCAM F444W-CLEAR 4 -> 4\n"
     ]
    }
   ],
   "source": [
    "# Update rows with more exposures now than before\n",
    "if old.sum() > 0:\n",
    "    \n",
    "    for i in np.where(old)[0]:\n",
    "        new_n = tab['ndrizim'][i]\n",
    "        j = exist_ftf.index(new_ftf[i])\n",
    "        old_n = exist['ndrizim'][j]\n",
    "        cmds = ''\n",
    "        if new_n != old_n:\n",
    "            print(f'\\n# {new_ftf[i]} {old_n} -> {new_n}')\n",
    "            cmd = \"\"\"update combined_tiles_filters\n",
    "            set status=0, ndrizim={ndrizim}\n",
    "            where field='{field}' AND tile='{tile}' AND instrume='{instrume}' AND filter= '{filter}';\"\"\".format(**tab[i])\n",
    "            print(cmd)\n",
    "\n",
    "            if 1:\n",
    "                db.execute(cmd)\n",
    "                \n",
    "        else:\n",
    "            print(f'OK # {new_ftf[i]} {old_n} -> {new_n}')\n",
    "\n",
    "        # cmds += cmd\n",
    "    \n"
   ]
  },
  {
   "cell_type": "code",
   "execution_count": 27,
   "metadata": {},
   "outputs": [
    {
     "name": "stdout",
     "output_type": "stream",
     "text": [
      "No new tiles\n"
     ]
    }
   ],
   "source": [
    "# Send *new* tiles\n",
    "\n",
    "if (new).sum() > 0:\n",
    "    print(f'send {new.sum()} new tiles')\n",
    "    db.send_to_database('combined_tiles_filters', tab[new], if_exists='append')\n",
    "else:\n",
    "    print('No new tiles')"
   ]
  },
  {
   "cell_type": "markdown",
   "metadata": {},
   "source": [
    "# Query `combined_tiles_filters` by status\n",
    "\n",
    "`combined_tiles_filters.status`\n",
    "- **0** : to be run\n",
    "- **1** : in process\n",
    "- **2** : completed"
   ]
  },
  {
   "cell_type": "code",
   "execution_count": 28,
   "metadata": {},
   "outputs": [
    {
     "data": {
      "text/html": [
       "<div><i>GTable length=2</i>\n",
       "<table id=\"table6246305024\" class=\"table-striped table-bordered table-condensed\">\n",
       "<thead><tr><th>status</th><th>count</th></tr></thead>\n",
       "<thead><tr><th>int64</th><th>int64</th></tr></thead>\n",
       "<tr><td>2</td><td>6489</td></tr>\n",
       "<tr><td>4</td><td>5</td></tr>\n",
       "</table></div>"
      ],
      "text/plain": [
       "<GTable length=2>\n",
       "status count\n",
       "int64  int64\n",
       "------ -----\n",
       "     2  6489\n",
       "     4     5"
      ]
     },
     "execution_count": 28,
     "metadata": {},
     "output_type": "execute_result"
    }
   ],
   "source": [
    "# Query by status\n",
    "db.SQL(\"\"\"select status, count(status) from combined_tiles_filters\n",
    "group by status order by max(status)\"\"\")"
   ]
  },
  {
   "cell_type": "markdown",
   "metadata": {},
   "source": [
    "# How many to run?"
   ]
  },
  {
   "cell_type": "code",
   "execution_count": 29,
   "metadata": {},
   "outputs": [
    {
     "data": {
      "text/plain": [
       "0"
      ]
     },
     "execution_count": 29,
     "metadata": {},
     "output_type": "execute_result"
    }
   ],
   "source": [
    "tile = db.SQL(\"\"\"SELECT tile, field, filter\n",
    "              FROM combined_tiles_filters\n",
    "              WHERE status = 0\n",
    "              GROUP BY tile, field, filter\"\"\")\n",
    "len(tile)"
   ]
  },
  {
   "cell_type": "markdown",
   "metadata": {},
   "source": [
    "# Launch EC2 instances to drizzle the tiles_filters"
   ]
  },
  {
   "cell_type": "code",
   "execution_count": 30,
   "metadata": {},
   "outputs": [],
   "source": [
    "import os\n",
    "\n",
    "def launch_ec2_instances(nmax=50, count=None, filter_tiles=True, templ='lt-0e8c2b8611c9029eb,Version=32'):\n",
    "    \"\"\"\n",
    "    Launch EC2 instances from a launch template that run through all \n",
    "    status=0 associations/tiles and then terminate\n",
    "    \n",
    "    Version 19 is the latest run_all_visits.sh\n",
    "    Version 20 is the latest run_all_tiles.sh\n",
    "    Version 24 is run_all_visits with a new python39 environment\n",
    "    \n",
    "    Version 25 is run_all_tile_filters.sh with a new python39 environment\n",
    "    Version 31 is run_all_tile_filters.sh with a new python39 environment and ImageMagick requirement\n",
    "    Version 32 is run_all_tile_filters.sh with a new python39 environment and ImageMagick requirement - fix bug\n",
    "    \n",
    "    Version 34 is run_all_tiles copied from 32\n",
    "    Version 35 is run_all_tiles copied from 32, with golfir needed for catalog\n",
    "\n",
    "    \"\"\"\n",
    "\n",
    "    if count is None:\n",
    "        if filter_tiles:\n",
    "            assoc = db.SQL(\"\"\"SELECT tile, field, filter\n",
    "                      FROM combined_tiles_filters\n",
    "                      WHERE status = 0\n",
    "                      GROUP BY tile, field, filter\"\"\")\n",
    "        else:\n",
    "            templ='lt-0e8c2b8611c9029eb,Version=35'\n",
    "            \n",
    "            assoc = db.SQL(\"\"\"SELECT tile, field\n",
    "                      FROM combined_tiles\n",
    "                      WHERE status = 0\n",
    "                      GROUP BY tile, field\"\"\")\n",
    "            \n",
    "        count = int(np.minimum(nmax, len(assoc)/2))\n",
    "\n",
    "    if count == 0:\n",
    "        print('No associations to run, abort.')\n",
    "        return True\n",
    "    else:\n",
    "        print(f'# {len(assoc)} tiles to run')\n",
    "        print(f'# Launch {count} instances with LaunchTemplateId={templ}: ')\n",
    "        cmd = f'aws ec2 run-instances --count {count}'\n",
    "        cmd += f' --launch-template LaunchTemplateId={templ}'\n",
    "        print(cmd)\n",
    "        \n",
    "        if templ is not None:\n",
    "            os.system(cmd)"
   ]
  },
  {
   "cell_type": "code",
   "execution_count": 24,
   "metadata": {},
   "outputs": [
    {
     "name": "stdout",
     "output_type": "stream",
     "text": [
      "Don't launch....\n"
     ]
    }
   ],
   "source": [
    "# switch to `if (1) ... ` to run\n",
    "\n",
    "if (0) & (len(tile) > 0):\n",
    "    launch_ec2_instances(nmax=80)\n",
    "else:\n",
    "    print(\"Don't launch....\")"
   ]
  },
  {
   "cell_type": "code",
   "execution_count": 36,
   "metadata": {},
   "outputs": [
    {
     "data": {
      "text/html": [
       "<div><i>GTable length=3</i>\n",
       "<table id=\"table140071273642544\" class=\"table-striped table-bordered table-condensed\">\n",
       "<thead><tr><th>status</th><th>count</th></tr></thead>\n",
       "<thead><tr><th>int64</th><th>int64</th></tr></thead>\n",
       "<tr><td>1</td><td>2</td></tr>\n",
       "<tr><td>2</td><td>4148</td></tr>\n",
       "<tr><td>10</td><td>3</td></tr>\n",
       "</table></div>"
      ],
      "text/plain": [
       "<GTable length=3>\n",
       "status count\n",
       "int64  int64\n",
       "------ -----\n",
       "     1     2\n",
       "     2  4148\n",
       "    10     3"
      ]
     },
     "execution_count": 36,
     "metadata": {},
     "output_type": "execute_result"
    }
   ],
   "source": [
    "## Monitor status - should see some change from 0 -> 1 -> 2, and eventually all 2 (or 10)\n",
    "\n",
    "db.SQL(\"\"\"select status, count(status) from combined_tiles_filters\n",
    "group by status order by max(status)\"\"\")"
   ]
  },
  {
   "cell_type": "code",
   "execution_count": 38,
   "metadata": {},
   "outputs": [
    {
     "data": {
      "text/html": [
       "<div><i>GTable length=2</i>\n",
       "<table id=\"table140071272035520\" class=\"table-striped table-bordered table-condensed\">\n",
       "<thead><tr><th>status</th><th>count</th></tr></thead>\n",
       "<thead><tr><th>int64</th><th>int64</th></tr></thead>\n",
       "<tr><td>2</td><td>4150</td></tr>\n",
       "<tr><td>10</td><td>3</td></tr>\n",
       "</table></div>"
      ],
      "text/plain": [
       "<GTable length=2>\n",
       "status count\n",
       "int64  int64\n",
       "------ -----\n",
       "     2  4150\n",
       "    10     3"
      ]
     },
     "execution_count": 38,
     "metadata": {},
     "output_type": "execute_result"
    }
   ],
   "source": [
    "db.SQL(\"\"\"select status, count(status) from combined_tiles_filters\n",
    "group by status order by max(status)\"\"\")"
   ]
  },
  {
   "cell_type": "markdown",
   "metadata": {},
   "source": [
    "## Once tiles done by filter, run the combined RGB tiles\n",
    "\n",
    "`combined_tiles.status`\n",
    "\n",
    "- **0** : To be run\n",
    "- **1** : In process\n",
    "- **2** : Completed\n",
    "- **3** : The tile has been updated and should be set to zero and run\n",
    "- **4** : Failed, probably because no overlapping exposures so is fine"
   ]
  },
  {
   "cell_type": "code",
   "execution_count": 39,
   "metadata": {},
   "outputs": [
    {
     "data": {
      "text/html": [
       "<div><i>GTable length=6</i>\n",
       "<table id=\"table140071273850352\" class=\"table-striped table-bordered table-condensed\">\n",
       "<thead><tr><th>status</th><th>count</th></tr></thead>\n",
       "<thead><tr><th>int64</th><th>int64</th></tr></thead>\n",
       "<tr><td>1</td><td>11</td></tr>\n",
       "<tr><td>2</td><td>885</td></tr>\n",
       "<tr><td>3</td><td>6</td></tr>\n",
       "<tr><td>4</td><td>12212</td></tr>\n",
       "<tr><td>10</td><td>13</td></tr>\n",
       "<tr><td>90</td><td>332</td></tr>\n",
       "</table></div>"
      ],
      "text/plain": [
       "<GTable length=6>\n",
       "status count\n",
       "int64  int64\n",
       "------ -----\n",
       "     1    11\n",
       "     2   885\n",
       "     3     6\n",
       "     4 12212\n",
       "    10    13\n",
       "    90   332"
      ]
     },
     "execution_count": 39,
     "metadata": {},
     "output_type": "execute_result"
    }
   ],
   "source": [
    "db.SQL(\"\"\"select status, count(status) from combined_tiles\n",
    "group by status order by status\"\"\")"
   ]
  },
  {
   "cell_type": "code",
   "execution_count": 59,
   "metadata": {},
   "outputs": [
    {
     "data": {
      "text/html": [
       "<div><i>GTable length=5</i>\n",
       "<table id=\"table140071272026208\" class=\"table-striped table-bordered table-condensed\">\n",
       "<thead><tr><th>status</th><th>count</th></tr></thead>\n",
       "<thead><tr><th>int64</th><th>int64</th></tr></thead>\n",
       "<tr><td>1</td><td>12</td></tr>\n",
       "<tr><td>2</td><td>890</td></tr>\n",
       "<tr><td>4</td><td>12212</td></tr>\n",
       "<tr><td>10</td><td>13</td></tr>\n",
       "<tr><td>90</td><td>332</td></tr>\n",
       "</table></div>"
      ],
      "text/plain": [
       "<GTable length=5>\n",
       "status count\n",
       "int64  int64\n",
       "------ -----\n",
       "     1    12\n",
       "     2   890\n",
       "     4 12212\n",
       "    10    13\n",
       "    90   332"
      ]
     },
     "execution_count": 59,
     "metadata": {},
     "output_type": "execute_result"
    }
   ],
   "source": [
    "db.SQL(\"\"\"select status, count(status) from combined_tiles\n",
    "group by status order by status\"\"\")\n"
   ]
  },
  {
   "cell_type": "markdown",
   "metadata": {},
   "source": [
    "## Change `combined_tiles` status = 3 to 0 and launch EC2 with `run_all_tiles`"
   ]
  },
  {
   "cell_type": "code",
   "execution_count": 60,
   "metadata": {},
   "outputs": [
    {
     "name": "stdout",
     "output_type": "stream",
     "text": [
      "No tiles to reset\n"
     ]
    }
   ],
   "source": [
    "# Change status = 3 > 0 and launch \n",
    "tiles = db.SQL(\"\"\"SELECT tile, field\n",
    "          FROM combined_tiles\n",
    "          WHERE status in (0,3)\n",
    "          GROUP BY tile, field\"\"\")\n",
    "\n",
    "if len(tiles) > 0:\n",
    "    # db.execute\n",
    "    utils.Unique(tiles['field'])\n",
    "    \n",
    "    if (0):\n",
    "        db.execute('update combined_tiles set status=0 where status=3')\n",
    "\n",
    "        launch_ec2_instances(nmax=50, count=None, filter_tiles=False,\n",
    "                             templ='lt-0e8c2b8611c9029eb,Version=35')\n",
    "    else:\n",
    "        print(\"Change logic to execute EC2\")\n",
    "else:\n",
    "    print('No tiles to reset')"
   ]
  },
  {
   "cell_type": "code",
   "execution_count": 58,
   "metadata": {},
   "outputs": [
    {
     "data": {
      "text/html": [
       "<div><i>GTable length=5</i>\n",
       "<table id=\"table140071272028464\" class=\"table-striped table-bordered table-condensed\">\n",
       "<thead><tr><th>status</th><th>count</th></tr></thead>\n",
       "<thead><tr><th>int64</th><th>int64</th></tr></thead>\n",
       "<tr><td>1</td><td>14</td></tr>\n",
       "<tr><td>2</td><td>888</td></tr>\n",
       "<tr><td>4</td><td>12212</td></tr>\n",
       "<tr><td>10</td><td>13</td></tr>\n",
       "<tr><td>90</td><td>332</td></tr>\n",
       "</table></div>"
      ],
      "text/plain": [
       "<GTable length=5>\n",
       "status count\n",
       "int64  int64\n",
       "------ -----\n",
       "     1    14\n",
       "     2   888\n",
       "     4 12212\n",
       "    10    13\n",
       "    90   332"
      ]
     },
     "execution_count": 58,
     "metadata": {},
     "output_type": "execute_result"
    }
   ],
   "source": [
    "# Initial monitor\n",
    "db.SQL(\"\"\"select status, count(status) from combined_tiles\n",
    "group by status order by status\"\"\")"
   ]
  },
  {
   "cell_type": "code",
   "execution_count": 56,
   "metadata": {},
   "outputs": [
    {
     "data": {
      "text/html": [
       "<div><i>GTable length=5</i>\n",
       "<table id=\"table140071272245536\" class=\"table-striped table-bordered table-condensed\">\n",
       "<thead><tr><th>status</th><th>count</th></tr></thead>\n",
       "<thead><tr><th>int64</th><th>int64</th></tr></thead>\n",
       "<tr><td>1</td><td>14</td></tr>\n",
       "<tr><td>2</td><td>888</td></tr>\n",
       "<tr><td>4</td><td>12212</td></tr>\n",
       "<tr><td>10</td><td>13</td></tr>\n",
       "<tr><td>90</td><td>332</td></tr>\n",
       "</table></div>"
      ],
      "text/plain": [
       "<GTable length=5>\n",
       "status count\n",
       "int64  int64\n",
       "------ -----\n",
       "     1    14\n",
       "     2   888\n",
       "     4 12212\n",
       "    10    13\n",
       "    90   332"
      ]
     },
     "execution_count": 56,
     "metadata": {},
     "output_type": "execute_result"
    }
   ],
   "source": [
    "# Monitor\n",
    "db.SQL(\"\"\"select status, count(status) from combined_tiles\n",
    "group by status order by status\"\"\")"
   ]
  },
  {
   "cell_type": "markdown",
   "metadata": {},
   "source": [
    "# Make FITSMap HTML pages.  \n",
    "\n",
    "Fine to do this while the tiles are running"
   ]
  },
  {
   "cell_type": "code",
   "execution_count": 46,
   "metadata": {},
   "outputs": [
    {
     "data": {
      "text/html": [
       "<div><i>GTable length=24</i>\n",
       "<table id=\"table140071272251344\" class=\"table-striped table-bordered table-condensed\">\n",
       "<thead><tr><th>field</th><th>count</th></tr></thead>\n",
       "<thead><tr><th>str22</th><th>int64</th></tr></thead>\n",
       "<tr><td>panoramic-j000352m1120</td><td>289</td></tr>\n",
       "<tr><td>panoramic-j010408m5508</td><td>289</td></tr>\n",
       "<tr><td>panoramic-j013444m1532</td><td>289</td></tr>\n",
       "<tr><td>panoramic-j021728m0214</td><td>289</td></tr>\n",
       "<tr><td>panoramic-j043844m6849</td><td>289</td></tr>\n",
       "<tr><td>panoramic-j090000p0207</td><td>289</td></tr>\n",
       "<tr><td>panoramic-j093144p0819</td><td>289</td></tr>\n",
       "<tr><td>panoramic-j093452p6116</td><td>289</td></tr>\n",
       "<tr><td>panoramic-j094232p0923</td><td>289</td></tr>\n",
       "<tr><td>panoramic-j100736p2109</td><td>289</td></tr>\n",
       "<tr><td>...</td><td>...</td></tr>\n",
       "<tr><td>panoramic-j131432p2432</td><td>289</td></tr>\n",
       "<tr><td>panoramic-j134348p5549</td><td>289</td></tr>\n",
       "<tr><td>panoramic-j142536p5630</td><td>289</td></tr>\n",
       "<tr><td>panoramic-j144904m1017</td><td>289</td></tr>\n",
       "<tr><td>panoramic-j145652p2444</td><td>289</td></tr>\n",
       "<tr><td>panoramic-j150604p5409</td><td>289</td></tr>\n",
       "<tr><td>panoramic-j153500p2325</td><td>289</td></tr>\n",
       "<tr><td>panoramic-j170720p5853</td><td>289</td></tr>\n",
       "<tr><td>panoramic-j224612m0527</td><td>289</td></tr>\n",
       "<tr><td>panoramic-j234512m4235</td><td>289</td></tr>\n",
       "</table></div>"
      ],
      "text/plain": [
       "<GTable length=24>\n",
       "        field          count\n",
       "        str22          int64\n",
       "---------------------- -----\n",
       "panoramic-j000352m1120   289\n",
       "panoramic-j010408m5508   289\n",
       "panoramic-j013444m1532   289\n",
       "panoramic-j021728m0214   289\n",
       "panoramic-j043844m6849   289\n",
       "panoramic-j090000p0207   289\n",
       "panoramic-j093144p0819   289\n",
       "panoramic-j093452p6116   289\n",
       "panoramic-j094232p0923   289\n",
       "panoramic-j100736p2109   289\n",
       "                   ...   ...\n",
       "panoramic-j131432p2432   289\n",
       "panoramic-j134348p5549   289\n",
       "panoramic-j142536p5630   289\n",
       "panoramic-j144904m1017   289\n",
       "panoramic-j145652p2444   289\n",
       "panoramic-j150604p5409   289\n",
       "panoramic-j153500p2325   289\n",
       "panoramic-j170720p5853   289\n",
       "panoramic-j224612m0527   289\n",
       "panoramic-j234512m4235   289"
      ]
     },
     "execution_count": 46,
     "metadata": {},
     "output_type": "execute_result"
    }
   ],
   "source": [
    "pano_fields = db.SQL(\"\"\"select field, count(field) from combined_tiles \n",
    "where field like 'panoramic%%'\n",
    "group by field\n",
    "order by field\n",
    "\"\"\")\n",
    "\n",
    "pano_fields"
   ]
  },
  {
   "cell_type": "code",
   "execution_count": 16,
   "metadata": {},
   "outputs": [
    {
     "name": "stdout",
     "output_type": "stream",
     "text": [
      "## panoramic-j121932p0330\n",
      "   N  value     \n",
      "====  ==========\n",
      "   8  F115W-CLEAR\n",
      "   8  F150W-CLEAR\n",
      "   8  F200W-CLEAR\n",
      "   8  F277W-CLEAR\n",
      "   8  F356W-CLEAR\n",
      "   8  F444W-CLEAR\n",
      "upload: ./panoramic-j121932p0330_map.html to s3://grizli-v2/ClusterTiles/Map/panoramic-j121932p0330/index.html\n",
      "https://s3.amazonaws.com/grizli-v2/ClusterTiles/Map/panoramic-j121932p0330/index.html\n",
      "panoramic-j121932p0330-080-08.08 F115W-CLEAR F150W-CLEAR F200W-CLEAR F277W-CLEAR F356W-CLEAR F444W-CLEAR\n",
      "panoramic-j121932p0330-080-08.09 F115W-CLEAR F150W-CLEAR F200W-CLEAR F277W-CLEAR F356W-CLEAR F444W-CLEAR\n",
      "panoramic-j121932p0330-080-08.10 F115W-CLEAR F150W-CLEAR F200W-CLEAR F277W-CLEAR F356W-CLEAR F444W-CLEAR\n",
      "panoramic-j121932p0330-080-08.11 F115W-CLEAR F150W-CLEAR F200W-CLEAR F277W-CLEAR F356W-CLEAR F444W-CLEAR\n",
      "panoramic-j121932p0330-080-09.08 F115W-CLEAR F150W-CLEAR F200W-CLEAR F277W-CLEAR F356W-CLEAR F444W-CLEAR\n",
      "panoramic-j121932p0330-080-09.09 F115W-CLEAR F150W-CLEAR F200W-CLEAR F277W-CLEAR F356W-CLEAR F444W-CLEAR\n",
      "panoramic-j121932p0330-080-09.10 F115W-CLEAR F150W-CLEAR F200W-CLEAR F277W-CLEAR F356W-CLEAR F444W-CLEAR\n",
      "panoramic-j121932p0330-080-09.11 F115W-CLEAR F150W-CLEAR F200W-CLEAR F277W-CLEAR F356W-CLEAR F444W-CLEAR\n",
      "upload: ./panoramic-j121932p0330_tiles.js to s3://grizli-v2/ClusterTiles/Map/panoramic-j121932p0330/panoramic-j121932p0330_tiles.js\n",
      "# panoramic-j121932p0330\n",
      "     DESI-N (Duncan+22) VII/292/north 2420\n",
      "    - Skip  DESI-S (Duncan+22)\n",
      "     GAIA DR3 I/355/gaiadr3 310\n",
      "     XMM-DR11 (Traulson+22) IX/66/xmm411st 16\n",
      "       - Use srcML for source sizes\n",
      "    * Query XMM-DR12 (Webb+23): IIX/68/xmm4d12s failed\n",
      "     SDSS DR16Q (Lyke+20) VII/289/superset 1\n",
      "     https://s3.amazonaws.com/grizli-v2/ClusterTiles/Map/panoramic-j121932p0330/index.html\n"
     ]
    }
   ],
   "source": [
    "import astropy.time\n",
    "import make_fitsmap_html\n",
    "\n",
    "# First time initializing the file\n",
    "if False:\n",
    "    with open('tile_webpages_completed.txt','w') as fp:\n",
    "        fp.write('# field date time\\n')\n",
    "        for field in pano_fields['field']:\n",
    "            fp.write(f'{field} {astropy.time.Time.now().iso}\\n')\n",
    "\n",
    "# Run script for fields that need it\n",
    "done = utils.read_catalog('tile_webpages_completed.txt')\n",
    "\n",
    "for field in pano_fields['field']:\n",
    "    if field not in done['field']:\n",
    "        with open('tile_webpages_completed.txt','a') as fp:\n",
    "            fp.write(f'{field} {astropy.time.Time.now().iso}\\n')\n",
    "        \n",
    "        make_fitsmap_html.run_make_fitsmap_html(field)\n",
    "        "
   ]
  },
  {
   "cell_type": "markdown",
   "metadata": {},
   "source": [
    "# Now you're done!\n",
    "\n",
    "Some debugging manual things below."
   ]
  },
  {
   "cell_type": "code",
   "execution_count": 4,
   "metadata": {},
   "outputs": [
    {
     "name": "stdout",
     "output_type": "stream",
     "text": [
      "## panoramic-j170720p5853\n",
      "   N  value     \n",
      "====  ==========\n",
      "   8  F115W-CLEAR\n",
      "   8  F150W-CLEAR\n",
      "   8  F200W-CLEAR\n",
      "   8  F277W-CLEAR\n",
      "   8  F356W-CLEAR\n",
      "   8  F444W-CLEAR\n",
      "upload: ./panoramic-j170720p5853_map.html to s3://grizli-v2/ClusterTiles/Map/panoramic-j170720p5853/index.html\n",
      "https://s3.amazonaws.com/grizli-v2/ClusterTiles/Map/panoramic-j170720p5853/index.html\n",
      "panoramic-j170720p5853-080-08.08 F115W-CLEAR F150W-CLEAR F200W-CLEAR F277W-CLEAR F356W-CLEAR F444W-CLEAR\n",
      "panoramic-j170720p5853-080-08.09 F115W-CLEAR F150W-CLEAR F200W-CLEAR F277W-CLEAR F356W-CLEAR F444W-CLEAR\n",
      "panoramic-j170720p5853-080-08.10 F115W-CLEAR F150W-CLEAR F200W-CLEAR F277W-CLEAR F356W-CLEAR F444W-CLEAR\n",
      "panoramic-j170720p5853-080-08.11 F115W-CLEAR F150W-CLEAR F200W-CLEAR F277W-CLEAR F356W-CLEAR F444W-CLEAR\n",
      "panoramic-j170720p5853-080-09.08 F115W-CLEAR F150W-CLEAR F200W-CLEAR F277W-CLEAR F356W-CLEAR F444W-CLEAR\n",
      "panoramic-j170720p5853-080-09.09 F115W-CLEAR F150W-CLEAR F200W-CLEAR F277W-CLEAR F356W-CLEAR F444W-CLEAR\n",
      "panoramic-j170720p5853-080-09.10 F115W-CLEAR F150W-CLEAR F200W-CLEAR F277W-CLEAR F356W-CLEAR F444W-CLEAR\n",
      "panoramic-j170720p5853-080-09.11 F115W-CLEAR F150W-CLEAR F200W-CLEAR F277W-CLEAR F356W-CLEAR F444W-CLEAR\n",
      "upload: ./panoramic-j170720p5853_tiles.js to s3://grizli-v2/ClusterTiles/Map/panoramic-j170720p5853/panoramic-j170720p5853_tiles.js\n",
      "# panoramic-j170720p5853\n",
      "     DESI-N (Duncan+22) VII/292/north 0\n",
      "     DESI-S (Duncan+22) VII/292/south 0\n",
      "     GAIA DR3 I/355/gaiadr3 526\n",
      "     XMM-DR11 (Traulson+22) IX/66/xmm411st 0\n",
      "    * Query XMM-DR12 (Webb+23): IIX/68/xmm4d12s failed\n",
      "     SDSS DR16Q (Lyke+20) VII/289/superset 0\n",
      "     DESI EDR: 23 sources\n",
      "     https://s3.amazonaws.com/grizli-v2/ClusterTiles/Map/panoramic-j170720p5853/index.html\n"
     ]
    }
   ],
   "source": [
    "import make_fitsmap_html\n",
    "\n",
    "#field = 'panoramic-j100736p2109'\n",
    "# field = 'panoramic-j150604p5409'\n",
    "# field = 'panoramic-j094232p0923'\n",
    "\n",
    "# field = 'panoramic-j090000p0207'\n",
    "# field = 'panoramic-j093144p0819'\n",
    "# field = 'panoramic-j093452p6116'\n",
    "# field = 'panoramic-j094232p0923'\n",
    "# field = 'panoramic-j125652p5652'\n",
    "# field = 'panoramic-j145652p2444'\n",
    "# field = 'panoramic-j153500p2325'\n",
    "field = 'panoramic-j170720p5853'\n",
    "\n",
    "# field = 'panoramic-j131432p2432'\n",
    "# field = 'panoramic-j134348p5549'\n",
    "\n",
    "## Copy \n",
    "make_fitsmap_html.run_make_fitsmap_html(field)"
   ]
  },
  {
   "cell_type": "code",
   "execution_count": 5,
   "metadata": {},
   "outputs": [],
   "source": [
    "# Testing\n",
    "\n",
    "import make_fitsmap_html\n",
    "from importlib import reload\n",
    "\n",
    "reload(make_fitsmap_html)\n",
    "\n",
    "field = 'panoramic-j131432p2432'\n",
    "field = 'panoramic-j170720p5853'\n",
    "\n",
    "if False:\n",
    "    for field in pano_fields['field'][:1]:\n",
    "        make_fitsmap_html.make_vizier_overlay(field)"
   ]
  },
  {
   "cell_type": "code",
   "execution_count": 19,
   "metadata": {},
   "outputs": [
    {
     "data": {
      "text/html": [
       "<i>Row index=49</i>\n",
       "<table id=\"table140608810180736\">\n",
       "<thead><tr><th>tile</th><th>wcsaxes</th><th>crpix1</th><th>crpix2</th><th>cd1_1</th><th>cd2_2</th><th>cdelt1</th><th>cdelt2</th><th>cunit1</th><th>cunit2</th><th>ctype1</th><th>ctype2</th><th>crval1</th><th>crval2</th><th>lonpole</th><th>latpole</th><th>mjdref</th><th>radesys</th><th>naxis</th><th>naxis1</th><th>naxis2</th><th>footprint</th><th>status</th><th>field</th></tr></thead>\n",
       "<thead><tr><th>str5</th><th>int64</th><th>float64</th><th>float64</th><th>float64</th><th>float64</th><th>float64</th><th>float64</th><th>str3</th><th>str3</th><th>str8</th><th>str8</th><th>float64</th><th>float64</th><th>float64</th><th>float64</th><th>float64</th><th>str4</th><th>int64</th><th>int64</th><th>int64</th><th>str93</th><th>int64</th><th>str6</th></tr></thead>\n",
       "<tr><td>12.12</td><td>2</td><td>128.0</td><td>128.0</td><td>-2.2222222222222e-05</td><td>2.2222222222222e-05</td><td>1.0</td><td>1.0</td><td>deg</td><td>deg</td><td>RA---TAN</td><td>DEC--TAN</td><td>214.8288</td><td>52.8067333</td><td>180.0</td><td>52.8067333</td><td>0.0</td><td>ICRS</td><td>2</td><td>2304</td><td>2304</td><td>((214.833468,52.803911),(214.833474,52.855089),(214.748719,52.855062),(214.748813,52.803884))</td><td>2</td><td>egs-v2</td></tr>\n",
       "</table>"
      ],
      "text/plain": [
       "<Row index=49>\n",
       " tile wcsaxes  crpix1  crpix2        cd1_1                cd2_2         cdelt1  cdelt2 cunit1 cunit2  ctype1   ctype2   crval1    crval2   lonpole  latpole    mjdref radesys naxis naxis1 naxis2                                           footprint                                           status field \n",
       " str5  int64  float64 float64       float64              float64       float64 float64  str3   str3    str8     str8   float64   float64   float64  float64   float64   str4  int64 int64  int64                                              str93                                             int64   str6 \n",
       "----- ------- ------- ------- -------------------- ------------------- ------- ------- ------ ------ -------- -------- -------- ---------- ------- ---------- ------- ------- ----- ------ ------ --------------------------------------------------------------------------------------------- ------ ------\n",
       "12.12       2   128.0   128.0 -2.2222222222222e-05 2.2222222222222e-05     1.0     1.0    deg    deg RA---TAN DEC--TAN 214.8288 52.8067333   180.0 52.8067333     0.0    ICRS     2   2304   2304 ((214.833468,52.803911),(214.833474,52.855089),(214.748719,52.855062),(214.748813,52.803884))      2 egs-v2"
      ]
     },
     "execution_count": 19,
     "metadata": {},
     "output_type": "execute_result"
    }
   ],
   "source": [
    "f_tiles = db.SQL(f\"\"\"select * from combined_tiles where field = 'egs-v2'\"\"\")\n",
    "ix = np.argmin(np.abs(f_tiles['crpix1']) + np.abs(f_tiles['crpix2']))\n",
    "f_tiles[ix]"
   ]
  },
  {
   "cell_type": "code",
   "execution_count": 13,
   "metadata": {},
   "outputs": [
    {
     "name": "stdout",
     "output_type": "stream",
     "text": [
      "# egs-v2\n",
      "     DESI-N (Duncan+22) VII/292/north 0\n",
      "     DESI-S (Duncan+22) VII/292/south 0\n",
      "     GAIA DR3 I/355/gaiadr3 2579\n",
      "     XMM-DR11 (Traulson+22) IX/66/xmm411st 134\n",
      "Use srcML for source sizes\n",
      "    * Query XMM-DR12 (Webb+23): IIX/68/xmm4d12s failed\n",
      "     SDSS DR16Q (Lyke+20) VII/289/superset 2170\n",
      "     DESI EDR: 1835 sources\n",
      "     https://s3.amazonaws.com/grizli-v2/ClusterTiles/Map/egs-v2/index.html\n"
     ]
    }
   ],
   "source": [
    "import make_fitsmap_html\n",
    "from importlib import reload\n",
    "reload(make_fitsmap_html)\n",
    "\n",
    "make_fitsmap_html.make_vizier_overlay('egs-v2', radius=30, ref_tile='10.14')"
   ]
  },
  {
   "cell_type": "code",
   "execution_count": 8,
   "metadata": {},
   "outputs": [
    {
     "name": "stdout",
     "output_type": "stream",
     "text": [
      "## j010256m4914\n",
      "   N  value     \n",
      "====  ==========\n",
      "   6  F090W-CLEAR\n",
      "   6  F115W-CLEAR\n",
      "   6  F150W-CLEAR\n",
      "   6  F200W-CLEAR\n",
      "   6  F277W-CLEAR\n",
      "   6  F356W-CLEAR\n",
      "   6  F410M-CLEAR\n",
      "   6  F444W-CLEAR\n",
      "upload: ./j010256m4914_map.html to s3://grizli-v2/ClusterTiles/Map/j010256m4914/index.html\n",
      "https://s3.amazonaws.com/grizli-v2/ClusterTiles/Map/j010256m4914/index.html\n",
      "WCS reference tile 09.09 for field j010256m4914\n",
      "j010256m4914-080-08.09 F090W-CLEAR F115W-CLEAR F150W-CLEAR F200W-CLEAR F277W-CLEAR F356W-CLEAR F410M-CLEAR F444W-CLEAR\n",
      "j010256m4914-080-08.10 F090W-CLEAR F115W-CLEAR F150W-CLEAR F200W-CLEAR F277W-CLEAR F356W-CLEAR F410M-CLEAR F444W-CLEAR\n",
      "j010256m4914-080-08.11 F090W-CLEAR F115W-CLEAR F150W-CLEAR F200W-CLEAR F277W-CLEAR F356W-CLEAR F410M-CLEAR F444W-CLEAR\n",
      "j010256m4914-080-09.09 F090W-CLEAR F115W-CLEAR F150W-CLEAR F200W-CLEAR F277W-CLEAR F356W-CLEAR F410M-CLEAR F444W-CLEAR\n",
      "j010256m4914-080-09.10 F090W-CLEAR F115W-CLEAR F150W-CLEAR F200W-CLEAR F277W-CLEAR F356W-CLEAR F410M-CLEAR F444W-CLEAR\n",
      "j010256m4914-080-09.11 F090W-CLEAR F115W-CLEAR F150W-CLEAR F200W-CLEAR F277W-CLEAR F356W-CLEAR F410M-CLEAR F444W-CLEAR\n",
      "upload: ./j010256m4914_tiles.js to s3://grizli-v2/ClusterTiles/Map/j010256m4914/j010256m4914_tiles.js\n",
      "WCS reference tile 09.09 for field j010256m4914\n",
      "# j010256m4914\n",
      "     DESI-N (Duncan+22) VII/292/north 2618\n",
      "    - Skip  DESI-S (Duncan+22)\n",
      "     GAIA DR3 I/355/gaiadr3 296\n",
      "     XMM-DR11 (Traulson+22) IX/66/xmm411st 0\n",
      "    * Query XMM-DR12 (Webb+23): IIX/68/xmm4d12s failed\n",
      "     SDSS DR16Q (Lyke+20) VII/289/superset 0\n",
      "WCS reference tile 09.09 for field j010256m4914\n",
      "     https://s3.amazonaws.com/grizli-v2/ClusterTiles/Map/j010256m4914/index.html\n",
      "WCS reference tile 09.09 for field j010256m4914\n",
      "http://archive.eso.org/tap_obs/sync?REQUEST=doQuery&FORMAT=fits&LANG=ADQL&MAXREC=200000&QUERY=SELECT+*+FROM+ivoa.ObsCore+++++WHERE+(obs_collection%3D%27ALMA%27+OR+obs_collection%3D%27MUSE%27+OR+obs_collection%3D%27MUSE-DEEP%27)+++++AND+s_ra+%3E+14.929908653195334+AND+s_ra+%3C+16.462242447462785+AND+s_dec+%3E+-49.76213225447158+AND+s_dec+%3C+-48.76213225447158+++++\n",
      "Full ESO query: 81\n",
      "MUSE: 10 10\n",
      "MUSE-DEEP: 3 3\n",
      "ALMA Band 3: 20 20\n",
      "ALMA Band 4: 4 4\n",
      "ALMA Band 6: 12 12\n",
      "ALMA Band 7: 32 32\n",
      "upload: ./j010256m4914_eso.js to s3://grizli-v2/ClusterTiles/Map/j010256m4914/j010256m4914_eso.js\n",
      "WCS reference tile 09.09 for field j010256m4914\n",
      "MOSFIRE N:  0\n",
      "WCS reference tile 09.09 for field j010256m4914\n"
     ]
    }
   ],
   "source": [
    "make_fitsmap_html.run_make_fitsmap_html('j010256m4914')\n"
   ]
  },
  {
   "cell_type": "code",
   "execution_count": 6,
   "metadata": {},
   "outputs": [],
   "source": [
    "# Rerun all maps if something changes in the map HTML\n",
    "import make_fitsmap_html\n",
    "\n",
    "if False:\n",
    "    for field in pano_fields['field']:\n",
    "        make_fitsmap_html.run_make_fitsmap_html(field)\n"
   ]
  },
  {
   "cell_type": "code",
   "execution_count": 2,
   "metadata": {},
   "outputs": [
    {
     "name": "stdout",
     "output_type": "stream",
     "text": [
      "WCS reference tile 08.08 for field abell2744\n",
      "abell2744-080-06.07 F115W-CLEAR F150W-CLEAR F200W-CLEAR F277W-CLEAR F356W-CLEAR F444W-CLEAR\n",
      "abell2744-080-06.08 F115W-CLEAR F150W-CLEAR F200W-CLEAR F277W-CLEAR F356W-CLEAR F444W-CLEAR\n",
      "abell2744-080-07.06 F115W-CLEAR F150W-CLEAR F200W-CLEAR F277W-CLEAR F356W-CLEAR F444W-CLEAR\n",
      "abell2744-080-07.07 F115W-CLEAR F150W-CLEAR F200W-CLEAR F277W-CLEAR F356W-CLEAR F410M-CLEAR F444W-CLEAR\n",
      "abell2744-080-07.08 F115W-CLEAR F115W-CLEAR F150W-CLEAR F150W-CLEAR F200W-CLEAR F277W-CLEAR F356W-CLEAR F410M-CLEAR F444W-CLEAR\n",
      "abell2744-080-07.09 F115W-CLEAR F150W-CLEAR F150W-CLEAR F200W-CLEAR F277W-CLEAR F356W-CLEAR F410M-CLEAR F444W-CLEAR\n",
      "abell2744-080-08.06 F115W-CLEAR F150W-CLEAR F200W-CLEAR F277W-CLEAR F356W-CLEAR F444W-CLEAR\n",
      "abell2744-080-08.07 F115W-CLEAR F115W-CLEAR F150W-CLEAR F150W-CLEAR F200W-CLEAR F277W-CLEAR F356W-CLEAR F410M-CLEAR F444W-CLEAR\n",
      "abell2744-080-08.08 F115W-CLEAR F115W-CLEAR F150W-CLEAR F150W-CLEAR F200W-CLEAR F277W-CLEAR F356W-CLEAR F410M-CLEAR F444W-CLEAR\n",
      "abell2744-080-08.09 F115W-CLEAR F115W-CLEAR F150W-CLEAR F150W-CLEAR F200W-CLEAR F277W-CLEAR F356W-CLEAR F410M-CLEAR F444W-CLEAR\n",
      "abell2744-080-08.10 F115W-CLEAR F150W-CLEAR F200W-CLEAR F277W-CLEAR F356W-CLEAR F410M-CLEAR F444W-CLEAR\n",
      "abell2744-080-09.07 F115W-CLEAR F150W-CLEAR F200W-CLEAR F277W-CLEAR F356W-CLEAR F410M-CLEAR F444W-CLEAR\n",
      "abell2744-080-09.08 F090W-CLEAR F115W-CLEAR F150W-CLEAR F200W-CLEAR F277W-CLEAR F356W-CLEAR F410M-CLEAR F444W-CLEAR\n",
      "abell2744-080-09.09 CLEARP-F444W F090W-CLEAR F115W-CLEAR F115W-CLEAR F150W-CLEAR F150W-CLEAR F200W-CLEAR F200W-CLEAR F277W-CLEAR F356W-CLEAR F410M-CLEAR F444W-CLEAR\n",
      "abell2744-080-09.10 F090W-CLEAR F115W-CLEAR F150W-CLEAR F200W-CLEAR F277W-CLEAR F356W-CLEAR F410M-CLEAR F444W-CLEAR\n",
      "abell2744-080-10.08 CLEARP-F444W F090W-CLEAR F115W-CLEAR F115W-CLEAR F150W-CLEAR F150W-CLEAR F200W-CLEAR F200W-CLEAR F277W-CLEAR F356W-CLEAR F410M-CLEAR F444W-CLEAR\n",
      "abell2744-080-10.09 CLEARP-F444W F090W-CLEAR F115W-CLEAR F115W-CLEAR F150W-CLEAR F150W-CLEAR F200W-CLEAR F200W-CLEAR F277W-CLEAR F356W-CLEAR F410M-CLEAR F444W-CLEAR\n",
      "abell2744-080-10.10 CLEARP-F444W F090W-CLEAR F115W-CLEAR F115W-CLEAR F150W-CLEAR F150W-CLEAR F200W-CLEAR F200W-CLEAR F277W-CLEAR F356W-CLEAR F444W-CLEAR\n",
      "abell2744-080-11.08 CLEARP-F444W F115W-CLEAR F150W-CLEAR F200W-CLEAR\n",
      "abell2744-080-11.09 CLEARP-F444W F090W-CLEAR F115W-CLEAR F115W-CLEAR F150W-CLEAR F150W-CLEAR F200W-CLEAR F200W-CLEAR F277W-CLEAR F356W-CLEAR F444W-CLEAR\n",
      "abell2744-080-11.10 CLEARP-F444W F090W-CLEAR F115W-CLEAR F115W-CLEAR F150W-CLEAR F150W-CLEAR F200W-CLEAR F200W-CLEAR F277W-CLEAR F356W-CLEAR F444W-CLEAR\n",
      "upload: ./abell2744_tiles.js to s3://grizli-v2/ClusterTiles/Map/abell2744/abell2744_tiles.js\n"
     ]
    }
   ],
   "source": [
    "import make_fitsmap_html\n",
    "from importlib import reload\n",
    "reload(make_fitsmap_html)\n",
    "\n",
    "make_fitsmap_html.make_tile_overlay('abell2744', ref_tile='08.08')"
   ]
  },
  {
   "cell_type": "code",
   "execution_count": 7,
   "metadata": {},
   "outputs": [
    {
     "name": "stdout",
     "output_type": "stream",
     "text": [
      "WCS reference tile 08.08 for field abell2744\n",
      "   N  value     \n",
      "====  ==========\n",
      " 500  2756 PRISM\n",
      " 836  1324 G140H F100LP\n",
      " 836  1324 G235H F170LP\n",
      " 836  1324 G395H F290LP\n",
      "11532  2561 PRISM\n",
      "NIRSPec: 1343 extractions\n",
      "   N  value     \n",
      "====  ==========\n",
      " 121  2756 PRISM CLEAR\n",
      " 125  1324 G235H F170LP\n",
      " 126  1324 G395H F290LP\n",
      " 154  1324 G140H F100LP\n",
      " 817  2561 PRISM CLEAR\n",
      "upload: ./abell2744_nirspec.js to s3://grizli-v2/ClusterTiles/Map/abell2744/abell2744_nirspec.js\n"
     ]
    }
   ],
   "source": [
    "reload(make_fitsmap_html)\n",
    "make_fitsmap_html.nirspec_slits_layer('abell2744')"
   ]
  },
  {
   "cell_type": "code",
   "execution_count": null,
   "metadata": {},
   "outputs": [],
   "source": []
  }
 ],
 "metadata": {
  "kernelspec": {
   "display_name": "Python 3 (ipykernel)",
   "language": "python",
   "name": "python3"
  },
  "language_info": {
   "codemirror_mode": {
    "name": "ipython",
    "version": 3
   },
   "file_extension": ".py",
   "mimetype": "text/x-python",
   "name": "python",
   "nbconvert_exporter": "python",
   "pygments_lexer": "ipython3",
   "version": "3.10.12"
  }
 },
 "nbformat": 4,
 "nbformat_minor": 4
}
