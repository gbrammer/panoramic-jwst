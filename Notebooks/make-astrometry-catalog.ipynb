{
 "cells": [
  {
   "cell_type": "markdown",
   "metadata": {
    "cell_id": "13fa0a8041b94cc6abdd661fba12e342",
    "deepnote_cell_type": "markdown"
   },
   "source": [
    "## Astrometry catalog\n",
    "\n",
    "Process an association and derive an astrometric catalog to send to the `astrometry_db` database.\n",
    "\n",
    "For fields that don't have a good existing astrometric reference (i.e., the pointings *not* in COSMOS, GOODS), derive a catalog from one JWST filter, e.g., F444W, and then align all other JWST filters to that one."
   ]
  },
  {
   "cell_type": "code",
   "execution_count": 1,
   "metadata": {
    "cell_id": "655b7887b0d043f3826a693bfbab4e6f",
    "deepnote_cell_type": "code",
    "deepnote_to_be_reexecuted": false,
    "execution_millis": 29,
    "execution_start": 1683729245668,
    "source_hash": "ddb207d8"
   },
   "outputs": [
    {
     "name": "stdout",
     "output_type": "stream",
     "text": [
      "Set ROOT_PATH=/usr/local/share/python/panoramic-jwst/LocalWorkspace\n",
      "jwst 1.9.6\n",
      "grizli 1.8.9.dev3+g76fe5b7.d20230515\n"
     ]
    }
   ],
   "source": [
    "import os\n",
    "if os.getenv('CRDS_PATH') is None:\n",
    "    print('Set environment variables....')\n",
    "    \n",
    "    os.environ['CRDS_PATH'] = '/tmp/crds_cache'\n",
    "    os.environ['CRDS_SERVER_URL'] = \"https://jwst-crds.stsci.edu\"\n",
    "\n",
    "    os.environ['iref'] = '/tmp/crds_cache/iref'\n",
    "    os.environ['jref'] = '/tmp/crds_cache/jref'\n",
    "\n",
    "if os.path.exists('/workspaces/panoramic-jwst/Astrometry'):\n",
    "    os.chdir('/workspaces/panoramic-jwst/Astrometry')\n",
    "\n",
    "if os.path.exists('../LocalWorkspace'):\n",
    "    os.chdir('../LocalWorkspace')\n",
    "\n",
    "import glob\n",
    "\n",
    "import warnings\n",
    "warnings.filterwarnings('ignore')\n",
    "\n",
    "import numpy as np\n",
    "import matplotlib.pyplot as plt\n",
    "\n",
    "from grizli import utils, prep\n",
    "from grizli.aws import db, visit_processor\n",
    "\n",
    "import jwst\n",
    "print('jwst', jwst.__version__)\n",
    "\n",
    "import grizli\n",
    "print('grizli', grizli.__version__)\n"
   ]
  },
  {
   "cell_type": "code",
   "execution_count": 2,
   "metadata": {},
   "outputs": [
    {
     "data": {
      "text/html": [
       "<div><i>GTable length=0</i>\n",
       "<table id=\"table11082129760\" class=\"table-striped table-bordered table-condensed\">\n",
       "<thead><tr><th>assoc_name</th><th>status</th><th>filter</th></tr></thead>\n",
       "<thead><tr><th>float64</th><th>float64</th><th>float64</th></tr></thead>\n",
       "</table></div>"
      ],
      "text/plain": [
       "<GTable length=0>\n",
       "assoc_name  status  filter\n",
       " float64   float64 float64\n",
       "---------- ------- -------"
      ]
     },
     "execution_count": 2,
     "metadata": {},
     "output_type": "execute_result"
    }
   ],
   "source": [
    "# Find PANORAMIC visits that haven't been processed\n",
    "\n",
    "progs = \"'2514'\" # PANORAMIC\n",
    "# progs = \"'4445','4446'\" # DD programs\n",
    "# progs = \"'1837'\" # PRIMER\n",
    "\n",
    "filter = 'F444W-CLEAR'\n",
    "\n",
    "if 0:\n",
    "    # CANUCS 1149 cluster\n",
    "    progs = \"'1208'\" # PRIMER\n",
    "    filter = 'F410M-CLEAR'\n",
    "\n",
    "\n",
    "panoramic_assoc = db.SQL(f\"\"\"select assoc_name, max(status) as status, max(filter) as filter\n",
    "from assoc_table\n",
    "where status != 2 and filter in ('{filter}')\n",
    "and proposal_id in ({progs})\n",
    "GROUP BY assoc_name\n",
    "\"\"\"\n",
    ") \n",
    "# comment\n",
    "assoc_list = panoramic_assoc['assoc_name']\n",
    "panoramic_assoc"
   ]
  },
  {
   "cell_type": "code",
   "execution_count": 3,
   "metadata": {
    "cell_id": "76d19d4b63fe40cfad649c4497e7755c",
    "deepnote_cell_type": "code",
    "deepnote_to_be_reexecuted": false,
    "execution_millis": 101,
    "execution_start": 1683729372747,
    "source_hash": "a60f1809"
   },
   "outputs": [],
   "source": [
    "\n",
    "# assoc_list = ['j100736p2109_indef-f444w_00023']\n",
    "\n",
    "for assoc in assoc_list:\n",
    "    print(assoc)\n",
    "    \n",
    "    if True:\n",
    "        visit_processor.process_visit(assoc, sync=False, clean=False)\n"
   ]
  },
  {
   "cell_type": "code",
   "execution_count": 4,
   "metadata": {},
   "outputs": [
    {
     "name": "stdout",
     "output_type": "stream",
     "text": [
      "cat: j*/Prep/*shifts.log: No such file or directory\n"
     ]
    }
   ],
   "source": [
    "# Check WCS log\n",
    "! cat j*/Prep/*shifts.log"
   ]
  },
  {
   "cell_type": "code",
   "execution_count": 5,
   "metadata": {},
   "outputs": [
    {
     "name": "stdout",
     "output_type": "stream",
     "text": [
      "cat: j*/Prep/*wcs.log: No such file or directory\n"
     ]
    }
   ],
   "source": [
    "! cat j*/Prep/*wcs.log"
   ]
  },
  {
   "cell_type": "markdown",
   "metadata": {},
   "source": [
    "## Make astrometric reference catalogs"
   ]
  },
  {
   "cell_type": "code",
   "execution_count": 6,
   "metadata": {},
   "outputs": [],
   "source": [
    "ref_cats = db.SQL(\"\"\"select src, count(src) \n",
    "from astrometry_reference\n",
    "group by src\n",
    "\"\"\")\n",
    "\n",
    "HOME = os.getcwd()\n",
    "\n",
    "REDO_REF_CATS = ['cos_primer_hst160_17_24']\n",
    "\n",
    "def get_used_radec(file):\n",
    "    \"\"\"\n",
    "    Get the radec catalog that was used to compare to those already in the database\n",
    "    \"\"\"\n",
    "    with open(file.replace('.cat.fits', '_wcs.log')) as fp:\n",
    "        line = fp.readlines()[1]\n",
    "    \n",
    "    return line.strip().split()[-1].replace('.radec','')"
   ]
  },
  {
   "cell_type": "code",
   "execution_count": 7,
   "metadata": {
    "cell_id": "eb3c69c9e31943d0b48daa990b7e48e8",
    "deepnote_cell_type": "code"
   },
   "outputs": [],
   "source": [
    "# Set to True to actually send the catalogs to the database table\n",
    "SEND_TO_DB = False \n",
    "\n",
    "mag_lim = (17, 26)\n",
    "flux_radius = (1,10)\n",
    "sn = 20\n",
    "\n",
    "max_count = 1000\n",
    "\n",
    "for assoc in assoc_list:\n",
    "    os.chdir(HOME)\n",
    "    \n",
    "    if os.path.exists(f'{assoc}/Prep'):\n",
    "        os.chdir(f'{assoc}/Prep')\n",
    "        files = glob.glob('*cat.fits')\n",
    "        for file in files:\n",
    "            ref_src = get_used_radec(file)\n",
    "            if (ref_src in ref_cats['src']) & (ref_src not in REDO_REF_CATS):\n",
    "                print(f'\\n{file}: {ref_src} in astrometry_db\\n')\n",
    "                continue\n",
    "\n",
    "            tab = utils.read_catalog(file)\n",
    "            for c in list(tab.colnames):\n",
    "                tab.rename_column(c, c.lower())\n",
    "\n",
    "            tab['mag'] = tab['mag_auto']\n",
    "            if True:\n",
    "                #clip = tab['mag'] < mag_lim[1]\n",
    "                clip = tab['mag'] > mag_lim[0]\n",
    "                clip &= tab['mask_aper_1'] == 0\n",
    "                clip &= tab['flux_radius'] > flux_radius[0]\n",
    "                clip &= tab['flux_radius'] < flux_radius[1]\n",
    "                clip &= tab['flux_aper_1'] / tab['fluxerr_aper_1'] > sn\n",
    "                \n",
    "                tab = tab[clip]\n",
    "                so = np.argsort(tab['mag'])\n",
    "                tab = tab[so]\n",
    "                \n",
    "                if max_count > 0:\n",
    "                    tab = tab[:max_count]\n",
    "                    \n",
    "            plt.scatter(tab['mag_auto'], tab['flux_radius'], alpha=0.2)\n",
    "            plt.ylim(0, 10)\n",
    "            plt.xlim(12,28)\n",
    "            \n",
    "            if len(files) == 1:\n",
    "                src = assoc+'_cat'\n",
    "            else:\n",
    "                src = os.path.basename(file).split('.cat')[0]\n",
    "            \n",
    "            src = src.replace('indef-','')\n",
    "            \n",
    "            tab['src'] = src\n",
    "            try:\n",
    "                ok = np.isfinite(tab['mag'].filled(np.nan))\n",
    "                tab = tab[ok]\n",
    "            except:\n",
    "                pass\n",
    "\n",
    "            print(f'\\nAdd {len(tab)} objects to astrometry_reference for {assoc}/{file} src={src}\\n')\n",
    "            \n",
    "            prep.table_to_regions(tab, os.path.join(HOME, f'{src}.reg'))\n",
    "            \n",
    "            # Set this to True to actually send the table!                \n",
    "            if SEND_TO_DB:\n",
    "                print(f'clean {src}')\n",
    "                db.execute(f\"delete from astrometry_reference where src='{src}'\")\n",
    "                print(f'upload {src}')\n",
    "                db.send_to_database('astrometry_reference', tab['ra','dec','src','mag'], if_exists='append')\n",
    "            else:\n",
    "                print(\"\\n! Set SEND_TO_DB=True to send the table to the remote DB\")\n",
    "\n",
    "os.chdir(HOME)"
   ]
  },
  {
   "cell_type": "code",
   "execution_count": 44,
   "metadata": {},
   "outputs": [],
   "source": [
    "import time\n",
    "\n",
    "with open('astrometry_log.txt','a') as fp:\n",
    "    for assoc in assoc_list:\n",
    "        fp.write(f'{assoc}   {time.ctime()}\\n')\n"
   ]
  },
  {
   "cell_type": "markdown",
   "metadata": {},
   "source": [
    "## Reset status and launch EC2\n",
    "\n",
    "Now that the astrometry reference is in place, update the status of the unprocessed visits to zero and launch the processing on EC2"
   ]
  },
  {
   "cell_type": "code",
   "execution_count": 8,
   "metadata": {},
   "outputs": [
    {
     "data": {
      "text/html": [
       "<div><i>GTable length=0</i>\n",
       "<table id=\"table4408930560\" class=\"table-striped table-bordered table-condensed\">\n",
       "<thead><tr><th>assoc_name</th><th>status</th><th>filter</th></tr></thead>\n",
       "<thead><tr><th>float64</th><th>float64</th><th>float64</th></tr></thead>\n",
       "</table></div>"
      ],
      "text/plain": [
       "<GTable length=0>\n",
       "assoc_name  status  filter\n",
       " float64   float64 float64\n",
       "---------- ------- -------"
      ]
     },
     "execution_count": 8,
     "metadata": {},
     "output_type": "execute_result"
    }
   ],
   "source": [
    "assoc_list = db.SQL(f\"\"\"select assoc_name, max(status) as status, max(filter) as filter\n",
    "from assoc_table\n",
    "where status != 2\n",
    "and proposal_id in ({progs}) AND instrument_name in ('NIRCAM','NIRISS')\n",
    "GROUP BY assoc_name\n",
    "\"\"\"\n",
    ") \n",
    "assoc_list"
   ]
  },
  {
   "cell_type": "code",
   "execution_count": 9,
   "metadata": {},
   "outputs": [],
   "source": [
    "if len(assoc_list) > 0:\n",
    "    db.execute(f\"\"\"update assoc_table set status = 0\n",
    "where status != 2\n",
    "and proposal_id in ({progs}) AND instrument_name in ('NIRCAM','NIRISS')\n",
    "\"\"\") "
   ]
  },
  {
   "cell_type": "code",
   "execution_count": 10,
   "metadata": {},
   "outputs": [
    {
     "data": {
      "text/html": [
       "<div><i>GTable length=0</i>\n",
       "<table id=\"table4408583216\" class=\"table-striped table-bordered table-condensed\">\n",
       "<thead><tr><th>assoc_name</th><th>status</th><th>filter</th></tr></thead>\n",
       "<thead><tr><th>float64</th><th>float64</th><th>float64</th></tr></thead>\n",
       "</table></div>"
      ],
      "text/plain": [
       "<GTable length=0>\n",
       "assoc_name  status  filter\n",
       " float64   float64 float64\n",
       "---------- ------- -------"
      ]
     },
     "execution_count": 10,
     "metadata": {},
     "output_type": "execute_result"
    }
   ],
   "source": [
    "assoc_list = db.SQL(f\"\"\"select assoc_name, max(status) as status, max(filter) as filter\n",
    "from assoc_table\n",
    "where status != 2\n",
    "and proposal_id in ({progs}) AND instrument_name in ('NIRCAM','NIRISS')\n",
    "GROUP BY assoc_name\n",
    "\"\"\"\n",
    ") \n",
    "assoc_list"
   ]
  },
  {
   "cell_type": "code",
   "execution_count": 11,
   "metadata": {},
   "outputs": [],
   "source": [
    "# Pipeline parameters\n",
    "\n",
    "import os\n",
    "import yaml\n",
    "\n",
    "# Aggressive 1/f correction for blank fields\n",
    "defaults = {'visit_prep_args': {\n",
    "                'oneoverf_kwargs': {'deg_pix':2048, 'dilate_iterations':3, 'thresholds':[5,4,3]},\n",
    "                'align_mag_limits': [14, 26.5, 0.1],\n",
    "            }, \n",
    "           }\n",
    "\n",
    "if not os.path.exists('/tmp/pipeline_defaults'):\n",
    "    os.mkdir('/tmp/pipeline_defaults')\n",
    "    \n",
    "if 1:\n",
    "    ! rm /tmp/pipeline_defaults/*\n",
    "    \n",
    "for assoc in assoc_list['assoc_name']:\n",
    "    # COSMOS-Web\n",
    "    if assoc.split()[0] in ('j095944p0222','j100032p0216','j100028p0217'):\n",
    "        if ('f770w' in assoc) | ('f1800w' in assoc):\n",
    "            # MIRI\n",
    "            defaults['global_miri_skyflat'] = True\n",
    "            defaults['visit_prep_args']['oneoverf_kwargs'] = None\n",
    "        else:\n",
    "            # NIRCam\n",
    "            defaults['visit_prep_args']['oneoverf_kwargs'] =  {'deg_pix':2048, 'dilate_iterations':3,\n",
    "                                                               'thresholds':[5,4,3], 'other_axis':True}\n",
    "            defaults['global_miri_skyflat'] = False\n",
    "            \n",
    "    else:\n",
    "        has_grism = ('gr150' in assoc) | ('grism' in assoc)\n",
    "        \n",
    "        defaults['visit_prep_args']['oneoverf_kwargs'] =  {'deg_pix':2048, 'dilate_iterations':3, \n",
    "                                                           'thresholds':[5,4,3],\n",
    "                                                           'other_axis':(not has_grism),\n",
    "                                                          }\n",
    "    \n",
    "    with open(f'/tmp/pipeline_defaults/{assoc}.yaml','w') as fp:\n",
    "        yaml.dump(defaults, fp)\n",
    "       \n",
    "if 1:\n",
    "    ! aws s3 sync /tmp/pipeline_defaults/ s3://grizli-v2/HST/Pipeline/Input/ --acl public-read --exclude \"*\" --include \"*yaml\""
   ]
  },
  {
   "cell_type": "code",
   "execution_count": 12,
   "metadata": {},
   "outputs": [
    {
     "name": "stdout",
     "output_type": "stream",
     "text": [
      "Don't launch instances\n"
     ]
    }
   ],
   "source": [
    "# Launch\n",
    "from grizli.aws import db, visit_processor\n",
    "\n",
    "if 0:\n",
    "    _ = visit_processor.launch_ec2_instances(nmax=70, templ='lt-0e8c2b8611c9029eb,Version=33')\n",
    "else:\n",
    "    print(\"Don't launch instances\")"
   ]
  },
  {
   "cell_type": "markdown",
   "metadata": {},
   "source": [
    "# Check status of associations in the DB\n",
    "\n",
    "`assoc_table.status` flags:\n",
    "\n",
    "- 0 = Will be run by the EC2 machines\n",
    "- 1 = In process\n",
    "- 2 = Completed successfully\n",
    "- 9 = Alignment error\n",
    "- 10 = Some other error, perhaps no exposures downloaded from MAST\n",
    "- 12 = Status set for associations manually deleted, don't run them again\n",
    "- Larger numbers, e.g., 50, 70, 99 - placeholders for associations to skip for now"
   ]
  },
  {
   "cell_type": "code",
   "execution_count": 13,
   "metadata": {},
   "outputs": [
    {
     "data": {
      "text/html": [
       "<div><i>GTable length=4</i>\n",
       "<table id=\"table4408932096\" class=\"table-striped table-bordered table-condensed\">\n",
       "<thead><tr><th>status</th><th>count</th></tr></thead>\n",
       "<thead><tr><th>int64</th><th>int64</th></tr></thead>\n",
       "<tr><td>2</td><td>7256</td></tr>\n",
       "<tr><td>9</td><td>44</td></tr>\n",
       "<tr><td>10</td><td>2</td></tr>\n",
       "<tr><td>12</td><td>1</td></tr>\n",
       "</table></div>"
      ],
      "text/plain": [
       "<GTable length=4>\n",
       "status count\n",
       "int64  int64\n",
       "------ -----\n",
       "     2  7256\n",
       "     9    44\n",
       "    10     2\n",
       "    12     1"
      ]
     },
     "execution_count": 13,
     "metadata": {},
     "output_type": "execute_result"
    }
   ],
   "source": [
    "from grizli.aws import db\n",
    "import astropy.time\n",
    "now = astropy.time.Time.now().mjd\n",
    "\n",
    "db.SQL(f\"\"\"select status, count(distinct(assoc_name)) from assoc_table\n",
    "where instrument_name in ('NIRISS','NIRCAM','MIRI')\n",
    "AND status < 13\n",
    "group by status\n",
    "\"\"\")"
   ]
  },
  {
   "cell_type": "code",
   "execution_count": 14,
   "metadata": {},
   "outputs": [
    {
     "data": {
      "text/html": [
       "<div><i>GTable length=4</i>\n",
       "<table id=\"table4408931232\" class=\"table-striped table-bordered table-condensed\">\n",
       "<thead><tr><th>status</th><th>count</th></tr></thead>\n",
       "<thead><tr><th>int64</th><th>int64</th></tr></thead>\n",
       "<tr><td>2</td><td>7256</td></tr>\n",
       "<tr><td>9</td><td>44</td></tr>\n",
       "<tr><td>10</td><td>2</td></tr>\n",
       "<tr><td>12</td><td>1</td></tr>\n",
       "</table></div>"
      ],
      "text/plain": [
       "<GTable length=4>\n",
       "status count\n",
       "int64  int64\n",
       "------ -----\n",
       "     2  7256\n",
       "     9    44\n",
       "    10     2\n",
       "    12     1"
      ]
     },
     "execution_count": 14,
     "metadata": {},
     "output_type": "execute_result"
    }
   ],
   "source": [
    "# Do it again to see differences\n",
    "db.SQL(f\"\"\"select status, count(distinct(assoc_name)) from assoc_table\n",
    "where instrument_name in ('NIRISS','NIRCAM','MIRI')\n",
    "AND status < 13\n",
    "group by status\n",
    "\"\"\")"
   ]
  },
  {
   "cell_type": "code",
   "execution_count": 15,
   "metadata": {},
   "outputs": [],
   "source": [
    "if 0:\n",
    "    db.execute(\"\"\"update assoc_table set status = 0 where status = 10\n",
    "AND instrument_name in ('NIRISS','NIRCAM','MIRI')\n",
    "\"\"\")"
   ]
  },
  {
   "cell_type": "markdown",
   "metadata": {},
   "source": [
    "# Count that the number of reduced exposures matches number in association\n",
    "\n",
    "The download scripts can occasionally time out for some reason and skip some files."
   ]
  },
  {
   "cell_type": "code",
   "execution_count": 16,
   "metadata": {},
   "outputs": [
    {
     "name": "stdout",
     "output_type": "stream",
     "text": [
      "assoc_table:  36543\n"
     ]
    }
   ],
   "source": [
    "import astropy.time\n",
    "from grizli import utils\n",
    "from grizli.aws import db\n",
    "\n",
    "now = astropy.time.Time.now().mjd\n",
    "assoc = db.SQL(f\"\"\"select assoc_name as assoc, \"dataURL\", max(instrument_name) as instrume\n",
    "from assoc_table where t_min > {now-180}\n",
    "group by assoc, \"dataURL\"\n",
    "\"\"\")\n",
    "\n",
    "print('assoc_table: ', len(assoc))"
   ]
  },
  {
   "cell_type": "code",
   "execution_count": 17,
   "metadata": {},
   "outputs": [
    {
     "name": "stdout",
     "output_type": "stream",
     "text": [
      "files assoc:  22214\n"
     ]
    }
   ],
   "source": [
    "files = db.SQL(f\"\"\"select assoc, dataset, max(instrume) as instrume\n",
    "from exposure_files where expstart > {now-180}\n",
    "group by assoc, dataset\n",
    "\"\"\")\n",
    "print('files assoc: ', len(files))"
   ]
  },
  {
   "cell_type": "code",
   "execution_count": 18,
   "metadata": {},
   "outputs": [],
   "source": [
    "una = utils.Unique(assoc['assoc'], verbose=False)\n",
    "unf = utils.Unique(files['assoc'], verbose=False)\n",
    "\n",
    "redo = []\n",
    "\n",
    "for i, a in enumerate(unf.values):\n",
    "    nf = unf.counts[i]\n",
    "    na = una.counts[una.values.index(a)]\n",
    "    if nf != na:\n",
    "        print(f'{nf:>3} {na:>3} {a}')\n",
    "        redo.append(a)        "
   ]
  },
  {
   "cell_type": "code",
   "execution_count": 20,
   "metadata": {},
   "outputs": [
    {
     "name": "stdout",
     "output_type": "stream",
     "text": [
      "0\n"
     ]
    }
   ],
   "source": [
    "print(len(redo))\n",
    "\n",
    "if len(redo) > 0:\n",
    "    with open('/tmp/redo_assoc.txt','w') as fp:\n",
    "        for a in redo:\n",
    "            fp.write(a+'\\n')"
   ]
  },
  {
   "cell_type": "code",
   "execution_count": 22,
   "metadata": {},
   "outputs": [],
   "source": [
    "from grizli.aws import visit_processor\n",
    "import numpy as np\n",
    "import os\n",
    "import time\n",
    "\n",
    "# i = 0\n",
    "\n",
    "skip = 1\n",
    "\n",
    "if len(redo) > 0:\n",
    "    \n",
    "    redo = np.loadtxt('/tmp/redo_assoc.txt', dtype=str)[i::skip]\n",
    "    for a in redo:\n",
    "        os.chdir('/GrizliImaging')\n",
    "        with open('/tmp/redo_done.txt','a') as fp:\n",
    "            fp.write(f'{i} {time.ctime()} {a}\\n')\n",
    "\n",
    "        visit_processor.process_visit(a, sync=True, clean=True)\n",
    "    "
   ]
  }
 ],
 "metadata": {
  "deepnote": {},
  "deepnote_execution_queue": [],
  "deepnote_notebook_id": "a0535b6b6c3443c8b96d319ff9881ef7",
  "kernelspec": {
   "display_name": "Python 3 (ipykernel)",
   "language": "python",
   "name": "python3"
  },
  "language_info": {
   "codemirror_mode": {
    "name": "ipython",
    "version": 3
   },
   "file_extension": ".py",
   "mimetype": "text/x-python",
   "name": "python",
   "nbconvert_exporter": "python",
   "pygments_lexer": "ipython3",
   "version": "3.9.16"
  }
 },
 "nbformat": 4,
 "nbformat_minor": 4
}
