{
 "cells": [
  {
   "attachments": {},
   "cell_type": "markdown",
   "metadata": {
    "cell_id": "13fa0a8041b94cc6abdd661fba12e342",
    "deepnote_cell_type": "markdown"
   },
   "source": [
    "## Astrometry catalog\n",
    "\n",
    "Process an association and derive an astrometric catalog to send to the `astrometry_db` database.\n",
    "\n",
    "For fields that don't have a good existing astrometric reference (i.e., the pointings *not* in COSMOS, GOODS), derive a catalog from one JWST filter, e.g., F444W, and then align all other JWST filters to that one."
   ]
  },
  {
   "cell_type": "code",
   "execution_count": 1,
   "metadata": {
    "cell_id": "655b7887b0d043f3826a693bfbab4e6f",
    "deepnote_cell_type": "code",
    "deepnote_to_be_reexecuted": false,
    "execution_millis": 29,
    "execution_start": 1683729245668,
    "source_hash": "ddb207d8"
   },
   "outputs": [
    {
     "name": "stdout",
     "output_type": "stream",
     "text": [
      "`import jwst` failed so JWST processing will not work!\n",
      "Set ROOT_PATH=/workspaces/panoramic-jwst/Astrometry\n",
      "jwst 1.10.2\n",
      "grizli 1.8.11\n"
     ]
    }
   ],
   "source": [
    "import os\n",
    "if os.getenv('CRDS_PATH') is None:\n",
    "    print('Set environment variables....')\n",
    "    \n",
    "    os.environ['CRDS_PATH'] = '/tmp/crds_cache'\n",
    "    os.environ['CRDS_SERVER_URL'] = \"https://jwst-crds.stsci.edu\"\n",
    "\n",
    "if os.getenv('iref') is None:\n",
    "    os.environ['iref'] = '/tmp/crds_cache/iref'\n",
    "    \n",
    "if os.getenv('jref') is None:\n",
    "    os.environ['jref'] = '/tmp/crds_cache/jref'\n",
    "\n",
    "if os.path.exists('/workspaces/panoramic-jwst/Astrometry'):\n",
    "    os.chdir('/workspaces/panoramic-jwst/Astrometry')\n",
    "\n",
    "if os.path.exists('../LocalWorkspace'):\n",
    "    os.chdir('../LocalWorkspace')\n",
    "\n",
    "import glob\n",
    "\n",
    "import warnings\n",
    "warnings.filterwarnings('ignore')\n",
    "\n",
    "import numpy as np\n",
    "import matplotlib.pyplot as plt\n",
    "\n",
    "from grizli import utils, prep\n",
    "from grizli.aws import db, visit_processor\n",
    "\n",
    "import jwst\n",
    "print('jwst', jwst.__version__)\n",
    "\n",
    "import grizli\n",
    "print('grizli', grizli.__version__)\n"
   ]
  },
  {
   "cell_type": "code",
   "execution_count": 2,
   "metadata": {},
   "outputs": [
    {
     "data": {
      "text/html": [
       "<div><i>GTable length=4</i>\n",
       "<table id=\"table140426298630272\" class=\"table-striped table-bordered table-condensed\">\n",
       "<thead><tr><th>assoc_name</th><th>status</th><th>filter</th></tr></thead>\n",
       "<thead><tr><th>str36</th><th>int64</th><th>str11</th></tr></thead>\n",
       "<tr><td>j131432p2432_indef-f115w-f444w_00004</td><td>0</td><td>F444W-CLEAR</td></tr>\n",
       "<tr><td>j131432p2432_indef-f277w-f444w_00009</td><td>0</td><td>F444W-CLEAR</td></tr>\n",
       "<tr><td>j134348p5549_indef-f200w-f444w_00028</td><td>0</td><td>F444W-CLEAR</td></tr>\n",
       "<tr><td>j134348p5549_indef-f200w-f444w_00029</td><td>0</td><td>F444W-CLEAR</td></tr>\n",
       "</table></div>"
      ],
      "text/plain": [
       "<GTable length=4>\n",
       "             assoc_name              status    filter  \n",
       "               str36                 int64     str11   \n",
       "------------------------------------ ------ -----------\n",
       "j131432p2432_indef-f115w-f444w_00004      0 F444W-CLEAR\n",
       "j131432p2432_indef-f277w-f444w_00009      0 F444W-CLEAR\n",
       "j134348p5549_indef-f200w-f444w_00028      0 F444W-CLEAR\n",
       "j134348p5549_indef-f200w-f444w_00029      0 F444W-CLEAR"
      ]
     },
     "execution_count": 2,
     "metadata": {},
     "output_type": "execute_result"
    }
   ],
   "source": [
    "# Find PANORAMIC visits that haven't been processed\n",
    "\n",
    "progs = \"'2514'\" # PANORAMIC\n",
    "# progs = \"'4445','4446'\" # DD programs\n",
    "# progs = \"'1837'\" # PRIMER\n",
    "\n",
    "filter = 'F444W-CLEAR'\n",
    "\n",
    "if 0:\n",
    "    # CANUCS 1149 cluster\n",
    "    progs = \"'1208'\" # PRIMER\n",
    "    filter = 'F410M-CLEAR'\n",
    "\n",
    "\n",
    "panoramic_assoc = db.SQL(f\"\"\"select assoc_name, max(status) as status, max(filter) as filter\n",
    "from assoc_table\n",
    "where status != 2 and filter in ('{filter}')\n",
    "and proposal_id in ({progs})\n",
    "GROUP BY assoc_name\n",
    "\"\"\"\n",
    ") \n",
    "# comment\n",
    "assoc_list = panoramic_assoc['assoc_name']\n",
    "panoramic_assoc"
   ]
  },
  {
   "cell_type": "code",
   "execution_count": 5,
   "metadata": {
    "cell_id": "76d19d4b63fe40cfad649c4497e7755c",
    "deepnote_cell_type": "code",
    "deepnote_to_be_reexecuted": false,
    "execution_millis": 101,
    "execution_start": 1683729372747,
    "source_hash": "a60f1809"
   },
   "outputs": [
    {
     "name": "stdout",
     "output_type": "stream",
     "text": [
      "j131432p2432_indef-f115w-f444w_00004\n",
      "# (2023-06-12 20:59:02.801)\n",
      "# get_wcs_guess : No entries found in wcs_log for wcs_assoc='j131432p2432_indef-f115w-f444w_00004'\n",
      "Fetch params from s3://grizli-v2/HST/Pipeline/Input/j131432p2432_indef-f115w-f444w_00004.yaml\n",
      "\n",
      "# Write parameters to j131432p2432_indef-f115w-f444w_00004.run.yaml\n",
      "\n",
      "Failed to `import dust_attenuation`\n",
      "Install my fork with $ pip install git+https://github.com/gbrammer/dust_attenuation.git\n",
      "Failed to `import dust_extinction`\n",
      "Install my fork with $ pip install git+https://github.com/gbrammer/dust_extinction.git\n",
      "j131432p2432_indef-f115w-f444w_00004 : found 5 GAIA sources\n",
      "j131432p2432_indef-f115w-f444w_00004.gaia.reg: x = ra, y=dec, ellipse=False\n",
      "# (2023-06-12 20:59:06.924)\n",
      "\n",
      "auto_script.fetch_files(**{'field_root': 'j131432p2432_indef-f115w-f444w_00004', 'HOME_PATH': '$PWD', 'paths': {'home': '/workspaces/panoramic-jwst/Astrometry', 'base': '/workspaces/panoramic-jwst/Astrometry/j131432p2432_indef-f115w-f444w_00004', 'raw': '/workspaces/panoramic-jwst/Astrometry/j131432p2432_indef-f115w-f444w_00004/RAW', 'prep': '/workspaces/panoramic-jwst/Astrometry/j131432p2432_indef-f115w-f444w_00004/Prep', 'persist': '/workspaces/panoramic-jwst/Astrometry/j131432p2432_indef-f115w-f444w_00004/Persistence', 'extract': '/workspaces/panoramic-jwst/Astrometry/j131432p2432_indef-f115w-f444w_00004/Extractions', 'thumbs': '/workspaces/panoramic-jwst/Astrometry/j131432p2432_indef-f115w-f444w_00004/Extractions'}, 'inst_products': {'ACS/WFC': ['FLC'], 'WFC3/IR': ['RAW'], 'WFC3/UVIS': ['FLC'], 'WFPC2/PC': ['C0M', 'C1M'], 'WFPC2/WFC': ['C0M', 'C1M']}, 'remove_bad': True, 'reprocess_parallel': False, 'reprocess_clean_darks': False, 's3_sync': 'cp', 'fetch_flt_calibs': ['IDCTAB', 'PFLTFILE', 'NPOLFILE'], 'filters': ['F444W'], 'min_bad_expflag': 2, 'fetch_only': False, 'force_rate': True, 'get_rateints': False, 'recalibrate_jwst': False, 's3path': None})\n",
      "\n",
      "paths:  {'home': '/workspaces/panoramic-jwst/Astrometry', 'base': '/workspaces/panoramic-jwst/Astrometry/j131432p2432_indef-f115w-f444w_00004', 'raw': '/workspaces/panoramic-jwst/Astrometry/j131432p2432_indef-f115w-f444w_00004/RAW', 'prep': '/workspaces/panoramic-jwst/Astrometry/j131432p2432_indef-f115w-f444w_00004/Prep', 'persist': '/workspaces/panoramic-jwst/Astrometry/j131432p2432_indef-f115w-f444w_00004/Persistence', 'extract': '/workspaces/panoramic-jwst/Astrometry/j131432p2432_indef-f115w-f444w_00004/Extractions', 'thumbs': '/workspaces/panoramic-jwst/Astrometry/j131432p2432_indef-f115w-f444w_00004/Extractions'}\n",
      "Fetch 4 JWST files!\n",
      "Download iteration: 0\n",
      "Warning: no files to fetch for filters=['F444W'].\n",
      "\n",
      "grizli.pipeline.reprocess: Fetch calibrations...\n",
      "\n",
      "# (2023-06-12 20:59:08.415)\n",
      "\n",
      "auto_script.parse_visits(**{'files': [], 'field_root': 'j131432p2432_indef-f115w-f444w_00004', 'RAW_PATH': '/workspaces/panoramic-jwst/Astrometry/j131432p2432_indef-f115w-f444w_00004/RAW', 'use_visit': True, 'combine_same_pa': False, 'combine_minexp': 2, 'is_dash': False, 'filters': ['F444W'], 'max_dt': 4, 'visit_split_shift': 1.2, 'file_query': '*'})\n",
      "\n",
      "indef-02514-209-124.0-NRCB5-F444W-CLEAR 4\n"
     ]
    },
    {
     "name": "stderr",
     "output_type": "stream",
     "text": [
      "cp: cannot stat '*mask.reg': No such file or directory\n"
     ]
    },
    {
     "name": "stdout",
     "output_type": "stream",
     "text": [
      "** Combine Singles: **\n",
      "0 indef-02514-209-124.0-nrcb5-f444w-clear 4\n",
      "\n",
      " == Grism groups ==\n",
      "\n",
      "# (2023-06-12 20:59:08.628)\n",
      "\n",
      "auto_script.preprocess(**{'field_root': 'j131432p2432_indef-f115w-f444w_00004', 'HOME_PATH': '/workspaces/panoramic-jwst/Astrometry', 'PERSIST_PATH': '/workspaces/panoramic-jwst/Astrometry/j131432p2432_indef-f115w-f444w_00004/Persistence', 'min_overlap': 0.2, 'make_combined': False, 'catalogs': ['PS1', 'DES', 'NSC', 'SDSS', 'GAIA', 'WISE'], 'use_visit': True, 'master_radec': 'astrometry_db', 'parent_radec': None, 'use_first_radec': False, 'skip_imaging': False, 'clean': True, 'skip_single_optical_visits': False, 'visit_prep_args': {'align_thresh': None, 'align_rms_limit': 2, 'align_mag_limits': [14, 26.5, 0.1], 'align_assume_close': False, 'align_transform': None, 'align_ref_border': 100, 'align_guess': None, 'max_err_percentile': 99, 'align_min_flux_radius': 1.0, 'catalog_mask_pad': 0.05, 'match_catalog_density': False, 'skymethod': 'localmin', 'drizzle_params': {}, 'single_image_CRs': True, 'run_tweak_align': True, 'tweak_threshold': 1.5, 'tweak_fit_order': -1, 'tweak_max_dist': 100, 'tweak_n_min': 10, 'tweak_ref_exp': 0, 'align_simple': False, 'align_clip': 120, 'column_average': True, 'sky_iter': 10, 'iter_atol': 0.0001, 'imaging_bkg_params': {'bh': 256, 'bw': 256, 'fh': 3, 'fw': 3, 'pixel_scale': 0.1, 'get_median': False}, 'run_separate_chip_sky': True, 'fix_stars': False, 'reference_catalogs': ['LS_DR9', 'PS1', 'DES', 'NSC', 'GAIA'], 'outlier_threshold': 4, 'nircam_wisp_kwargs': {'niter': 3, 'update': True}, 'oneoverf_kwargs': {'deg_pix': 2048, 'dilate_iterations': 3, 'other_axis': True, 'thresholds': [5, 4, 3]}, 'snowball_kwargs': {'snowball_erode': 4, 'snowball_dilate': 18, 'mask_bit': 1024, 'instruments': ['NIRCAM', 'NIRISS'], 'max_fraction': 0.3}, 'angle_background_kwargs': {'threshold': 1.8, 'detection_background': True, 'angles': [30.0, -30.0, 0, 90], 'suffix': 'angles', 'niter': 3, 'instruments': []}, 'miri_skyflat': False, 'miri_skyfile': None, 'use_skyflats': True, 'use_self_catalog': False}, 'persistence_args': {'dq_value': 1024, 'err_threshold': 0.5, 'grow_mask': 3, 'verbose': True, 'reset': False}})\n",
      "\n",
      "Skip indef-02514-209-124.0-nrcb5-f444w-clear\n",
      "kill='preprocess'\n",
      "Update exposure footprints in ./j131432p2432_indef-f115w-f444w_00004_visits.yaml\n",
      "j131432p2432_indef-f277w-f444w_00009\n",
      "# (2023-06-12 20:59:10.605)\n",
      "# get_wcs_guess : No entries found in wcs_log for wcs_assoc='j131432p2432_indef-f277w-f444w_00009'\n",
      "Fetch params from s3://grizli-v2/HST/Pipeline/Input/j131432p2432_indef-f277w-f444w_00009.yaml\n",
      "\n",
      "# Write parameters to j131432p2432_indef-f277w-f444w_00009.run.yaml\n",
      "\n",
      "j131432p2432_indef-f277w-f444w_00009 : found 7 GAIA sources\n",
      "j131432p2432_indef-f277w-f444w_00009.gaia.reg: x = ra, y=dec, ellipse=False\n",
      "# (2023-06-12 20:59:13.255)\n",
      "\n",
      "auto_script.fetch_files(**{'field_root': 'j131432p2432_indef-f277w-f444w_00009', 'HOME_PATH': '$PWD', 'paths': {'home': '/workspaces/panoramic-jwst/Astrometry', 'base': '/workspaces/panoramic-jwst/Astrometry/j131432p2432_indef-f277w-f444w_00009', 'raw': '/workspaces/panoramic-jwst/Astrometry/j131432p2432_indef-f277w-f444w_00009/RAW', 'prep': '/workspaces/panoramic-jwst/Astrometry/j131432p2432_indef-f277w-f444w_00009/Prep', 'persist': '/workspaces/panoramic-jwst/Astrometry/j131432p2432_indef-f277w-f444w_00009/Persistence', 'extract': '/workspaces/panoramic-jwst/Astrometry/j131432p2432_indef-f277w-f444w_00009/Extractions', 'thumbs': '/workspaces/panoramic-jwst/Astrometry/j131432p2432_indef-f277w-f444w_00009/Extractions'}, 'inst_products': {'ACS/WFC': ['FLC'], 'WFC3/IR': ['RAW'], 'WFC3/UVIS': ['FLC'], 'WFPC2/PC': ['C0M', 'C1M'], 'WFPC2/WFC': ['C0M', 'C1M']}, 'remove_bad': True, 'reprocess_parallel': False, 'reprocess_clean_darks': False, 's3_sync': 'cp', 'fetch_flt_calibs': ['IDCTAB', 'PFLTFILE', 'NPOLFILE'], 'filters': ['F444W'], 'min_bad_expflag': 2, 'fetch_only': False, 'force_rate': True, 'get_rateints': False, 'recalibrate_jwst': False, 's3path': None})\n",
      "\n",
      "paths:  {'home': '/workspaces/panoramic-jwst/Astrometry', 'base': '/workspaces/panoramic-jwst/Astrometry/j131432p2432_indef-f277w-f444w_00009', 'raw': '/workspaces/panoramic-jwst/Astrometry/j131432p2432_indef-f277w-f444w_00009/RAW', 'prep': '/workspaces/panoramic-jwst/Astrometry/j131432p2432_indef-f277w-f444w_00009/Prep', 'persist': '/workspaces/panoramic-jwst/Astrometry/j131432p2432_indef-f277w-f444w_00009/Persistence', 'extract': '/workspaces/panoramic-jwst/Astrometry/j131432p2432_indef-f277w-f444w_00009/Extractions', 'thumbs': '/workspaces/panoramic-jwst/Astrometry/j131432p2432_indef-f277w-f444w_00009/Extractions'}\n",
      "Fetch 4 JWST files!\n",
      "Download iteration: 0\n",
      "Warning: no files to fetch for filters=['F444W'].\n",
      "\n",
      "grizli.pipeline.reprocess: Fetch calibrations...\n",
      "\n",
      "# (2023-06-12 20:59:13.352)\n",
      "\n",
      "auto_script.parse_visits(**{'files': [], 'field_root': 'j131432p2432_indef-f277w-f444w_00009', 'RAW_PATH': '/workspaces/panoramic-jwst/Astrometry/j131432p2432_indef-f277w-f444w_00009/RAW', 'use_visit': True, 'combine_same_pa': False, 'combine_minexp': 2, 'is_dash': False, 'filters': ['F444W'], 'max_dt': 4, 'visit_split_shift': 1.2, 'file_query': '*'})\n",
      "\n",
      "indef-02514-209-124.0-NRCA5-F444W-CLEAR 4\n"
     ]
    },
    {
     "name": "stderr",
     "output_type": "stream",
     "text": [
      "cp: cannot stat '*mask.reg': No such file or directory\n"
     ]
    },
    {
     "name": "stdout",
     "output_type": "stream",
     "text": [
      "** Combine Singles: **\n",
      "0 indef-02514-209-124.0-nrca5-f444w-clear 4\n",
      "\n",
      " == Grism groups ==\n",
      "\n",
      "# (2023-06-12 20:59:13.537)\n",
      "\n",
      "auto_script.preprocess(**{'field_root': 'j131432p2432_indef-f277w-f444w_00009', 'HOME_PATH': '/workspaces/panoramic-jwst/Astrometry', 'PERSIST_PATH': '/workspaces/panoramic-jwst/Astrometry/j131432p2432_indef-f277w-f444w_00009/Persistence', 'min_overlap': 0.2, 'make_combined': False, 'catalogs': ['PS1', 'DES', 'NSC', 'SDSS', 'GAIA', 'WISE'], 'use_visit': True, 'master_radec': 'astrometry_db', 'parent_radec': None, 'use_first_radec': False, 'skip_imaging': False, 'clean': True, 'skip_single_optical_visits': False, 'visit_prep_args': {'align_thresh': None, 'align_rms_limit': 2, 'align_mag_limits': [14, 26.5, 0.1], 'align_assume_close': False, 'align_transform': None, 'align_ref_border': 100, 'align_guess': None, 'max_err_percentile': 99, 'align_min_flux_radius': 1.0, 'catalog_mask_pad': 0.05, 'match_catalog_density': False, 'skymethod': 'localmin', 'drizzle_params': {}, 'single_image_CRs': True, 'run_tweak_align': True, 'tweak_threshold': 1.5, 'tweak_fit_order': -1, 'tweak_max_dist': 100, 'tweak_n_min': 10, 'tweak_ref_exp': 0, 'align_simple': False, 'align_clip': 120, 'column_average': True, 'sky_iter': 10, 'iter_atol': 0.0001, 'imaging_bkg_params': {'bh': 256, 'bw': 256, 'fh': 3, 'fw': 3, 'pixel_scale': 0.1, 'get_median': False}, 'run_separate_chip_sky': True, 'fix_stars': False, 'reference_catalogs': ['LS_DR9', 'PS1', 'DES', 'NSC', 'GAIA'], 'outlier_threshold': 4, 'nircam_wisp_kwargs': {'niter': 3, 'update': True}, 'oneoverf_kwargs': {'deg_pix': 2048, 'dilate_iterations': 3, 'other_axis': True, 'thresholds': [5, 4, 3]}, 'snowball_kwargs': {'snowball_erode': 4, 'snowball_dilate': 18, 'mask_bit': 1024, 'instruments': ['NIRCAM', 'NIRISS'], 'max_fraction': 0.3}, 'angle_background_kwargs': {'threshold': 1.8, 'detection_background': True, 'angles': [30.0, -30.0, 0, 90], 'suffix': 'angles', 'niter': 3, 'instruments': []}, 'miri_skyflat': False, 'miri_skyfile': None, 'use_skyflats': True, 'use_self_catalog': False}, 'persistence_args': {'dq_value': 1024, 'err_threshold': 0.5, 'grow_mask': 3, 'verbose': True, 'reset': False}})\n",
      "\n",
      "Skip indef-02514-209-124.0-nrca5-f444w-clear\n",
      "kill='preprocess'\n",
      "Update exposure footprints in ./j131432p2432_indef-f277w-f444w_00009_visits.yaml\n",
      "j134348p5549_indef-f200w-f444w_00028\n",
      "# (2023-06-12 20:59:15.550)\n",
      "# get_wcs_guess : No entries found in wcs_log for wcs_assoc='j134348p5549_indef-f200w-f444w_00028'\n",
      "Fetch params from s3://grizli-v2/HST/Pipeline/Input/j134348p5549_indef-f200w-f444w_00028.yaml\n",
      "\n",
      "# Write parameters to j134348p5549_indef-f200w-f444w_00028.run.yaml\n",
      "\n",
      "j134348p5549_indef-f200w-f444w_00028 : found 11 GAIA sources\n",
      "j134348p5549_indef-f200w-f444w_00028.gaia.reg: x = ra, y=dec, ellipse=False\n",
      "# (2023-06-12 20:59:18.936)\n",
      "\n",
      "auto_script.fetch_files(**{'field_root': 'j134348p5549_indef-f200w-f444w_00028', 'HOME_PATH': '$PWD', 'paths': {'home': '/workspaces/panoramic-jwst/Astrometry', 'base': '/workspaces/panoramic-jwst/Astrometry/j134348p5549_indef-f200w-f444w_00028', 'raw': '/workspaces/panoramic-jwst/Astrometry/j134348p5549_indef-f200w-f444w_00028/RAW', 'prep': '/workspaces/panoramic-jwst/Astrometry/j134348p5549_indef-f200w-f444w_00028/Prep', 'persist': '/workspaces/panoramic-jwst/Astrometry/j134348p5549_indef-f200w-f444w_00028/Persistence', 'extract': '/workspaces/panoramic-jwst/Astrometry/j134348p5549_indef-f200w-f444w_00028/Extractions', 'thumbs': '/workspaces/panoramic-jwst/Astrometry/j134348p5549_indef-f200w-f444w_00028/Extractions'}, 'inst_products': {'ACS/WFC': ['FLC'], 'WFC3/IR': ['RAW'], 'WFC3/UVIS': ['FLC'], 'WFPC2/PC': ['C0M', 'C1M'], 'WFPC2/WFC': ['C0M', 'C1M']}, 'remove_bad': True, 'reprocess_parallel': False, 'reprocess_clean_darks': False, 's3_sync': 'cp', 'fetch_flt_calibs': ['IDCTAB', 'PFLTFILE', 'NPOLFILE'], 'filters': ['F444W'], 'min_bad_expflag': 2, 'fetch_only': False, 'force_rate': True, 'get_rateints': False, 'recalibrate_jwst': False, 's3path': None})\n",
      "\n",
      "paths:  {'home': '/workspaces/panoramic-jwst/Astrometry', 'base': '/workspaces/panoramic-jwst/Astrometry/j134348p5549_indef-f200w-f444w_00028', 'raw': '/workspaces/panoramic-jwst/Astrometry/j134348p5549_indef-f200w-f444w_00028/RAW', 'prep': '/workspaces/panoramic-jwst/Astrometry/j134348p5549_indef-f200w-f444w_00028/Prep', 'persist': '/workspaces/panoramic-jwst/Astrometry/j134348p5549_indef-f200w-f444w_00028/Persistence', 'extract': '/workspaces/panoramic-jwst/Astrometry/j134348p5549_indef-f200w-f444w_00028/Extractions', 'thumbs': '/workspaces/panoramic-jwst/Astrometry/j134348p5549_indef-f200w-f444w_00028/Extractions'}\n",
      "Fetch 4 JWST files!\n",
      "Download iteration: 0\n",
      "Warning: no files to fetch for filters=['F444W'].\n",
      "\n",
      "grizli.pipeline.reprocess: Fetch calibrations...\n",
      "\n",
      "# (2023-06-12 20:59:19.015)\n",
      "\n",
      "auto_script.parse_visits(**{'files': [], 'field_root': 'j134348p5549_indef-f200w-f444w_00028', 'RAW_PATH': '/workspaces/panoramic-jwst/Astrometry/j134348p5549_indef-f200w-f444w_00028/RAW', 'use_visit': True, 'combine_same_pa': False, 'combine_minexp': 2, 'is_dash': False, 'filters': ['F444W'], 'max_dt': 4, 'visit_split_shift': 1.2, 'file_query': '*'})\n",
      "\n",
      "indef-02514-055-134.0-NRCB5-F444W-CLEAR 4\n"
     ]
    },
    {
     "name": "stderr",
     "output_type": "stream",
     "text": [
      "cp: cannot stat '*mask.reg': No such file or directory\n"
     ]
    },
    {
     "name": "stdout",
     "output_type": "stream",
     "text": [
      "** Combine Singles: **\n",
      "0 indef-02514-055-134.0-nrcb5-f444w-clear 4\n",
      "\n",
      " == Grism groups ==\n",
      "\n",
      "# (2023-06-12 20:59:19.188)\n",
      "\n",
      "auto_script.preprocess(**{'field_root': 'j134348p5549_indef-f200w-f444w_00028', 'HOME_PATH': '/workspaces/panoramic-jwst/Astrometry', 'PERSIST_PATH': '/workspaces/panoramic-jwst/Astrometry/j134348p5549_indef-f200w-f444w_00028/Persistence', 'min_overlap': 0.2, 'make_combined': False, 'catalogs': ['PS1', 'DES', 'NSC', 'SDSS', 'GAIA', 'WISE'], 'use_visit': True, 'master_radec': 'astrometry_db', 'parent_radec': None, 'use_first_radec': False, 'skip_imaging': False, 'clean': True, 'skip_single_optical_visits': False, 'visit_prep_args': {'align_thresh': None, 'align_rms_limit': 2, 'align_mag_limits': [14, 26.5, 0.1], 'align_assume_close': False, 'align_transform': None, 'align_ref_border': 100, 'align_guess': None, 'max_err_percentile': 99, 'align_min_flux_radius': 1.0, 'catalog_mask_pad': 0.05, 'match_catalog_density': False, 'skymethod': 'localmin', 'drizzle_params': {}, 'single_image_CRs': True, 'run_tweak_align': True, 'tweak_threshold': 1.5, 'tweak_fit_order': -1, 'tweak_max_dist': 100, 'tweak_n_min': 10, 'tweak_ref_exp': 0, 'align_simple': False, 'align_clip': 120, 'column_average': True, 'sky_iter': 10, 'iter_atol': 0.0001, 'imaging_bkg_params': {'bh': 256, 'bw': 256, 'fh': 3, 'fw': 3, 'pixel_scale': 0.1, 'get_median': False}, 'run_separate_chip_sky': True, 'fix_stars': False, 'reference_catalogs': ['LS_DR9', 'PS1', 'DES', 'NSC', 'GAIA'], 'outlier_threshold': 4, 'nircam_wisp_kwargs': {'niter': 3, 'update': True}, 'oneoverf_kwargs': {'deg_pix': 2048, 'dilate_iterations': 3, 'other_axis': True, 'thresholds': [5, 4, 3]}, 'snowball_kwargs': {'snowball_erode': 4, 'snowball_dilate': 18, 'mask_bit': 1024, 'instruments': ['NIRCAM', 'NIRISS'], 'max_fraction': 0.3}, 'angle_background_kwargs': {'threshold': 1.8, 'detection_background': True, 'angles': [30.0, -30.0, 0, 90], 'suffix': 'angles', 'niter': 3, 'instruments': []}, 'miri_skyflat': False, 'miri_skyfile': None, 'use_skyflats': True, 'use_self_catalog': False}, 'persistence_args': {'dq_value': 1024, 'err_threshold': 0.5, 'grow_mask': 3, 'verbose': True, 'reset': False}})\n",
      "\n",
      "Skip indef-02514-055-134.0-nrcb5-f444w-clear\n",
      "kill='preprocess'\n",
      "Update exposure footprints in ./j134348p5549_indef-f200w-f444w_00028_visits.yaml\n",
      "j134348p5549_indef-f200w-f444w_00029\n",
      "# (2023-06-12 20:59:21.226)\n",
      "# get_wcs_guess : No entries found in wcs_log for wcs_assoc='j134348p5549_indef-f200w-f444w_00029'\n",
      "Fetch params from s3://grizli-v2/HST/Pipeline/Input/j134348p5549_indef-f200w-f444w_00029.yaml\n",
      "\n",
      "# Write parameters to j134348p5549_indef-f200w-f444w_00029.run.yaml\n",
      "\n",
      "j134348p5549_indef-f200w-f444w_00029 : found 8 GAIA sources\n",
      "j134348p5549_indef-f200w-f444w_00029.gaia.reg: x = ra, y=dec, ellipse=False\n",
      "# (2023-06-12 20:59:23.778)\n",
      "\n",
      "auto_script.fetch_files(**{'field_root': 'j134348p5549_indef-f200w-f444w_00029', 'HOME_PATH': '$PWD', 'paths': {'home': '/workspaces/panoramic-jwst/Astrometry', 'base': '/workspaces/panoramic-jwst/Astrometry/j134348p5549_indef-f200w-f444w_00029', 'raw': '/workspaces/panoramic-jwst/Astrometry/j134348p5549_indef-f200w-f444w_00029/RAW', 'prep': '/workspaces/panoramic-jwst/Astrometry/j134348p5549_indef-f200w-f444w_00029/Prep', 'persist': '/workspaces/panoramic-jwst/Astrometry/j134348p5549_indef-f200w-f444w_00029/Persistence', 'extract': '/workspaces/panoramic-jwst/Astrometry/j134348p5549_indef-f200w-f444w_00029/Extractions', 'thumbs': '/workspaces/panoramic-jwst/Astrometry/j134348p5549_indef-f200w-f444w_00029/Extractions'}, 'inst_products': {'ACS/WFC': ['FLC'], 'WFC3/IR': ['RAW'], 'WFC3/UVIS': ['FLC'], 'WFPC2/PC': ['C0M', 'C1M'], 'WFPC2/WFC': ['C0M', 'C1M']}, 'remove_bad': True, 'reprocess_parallel': False, 'reprocess_clean_darks': False, 's3_sync': 'cp', 'fetch_flt_calibs': ['IDCTAB', 'PFLTFILE', 'NPOLFILE'], 'filters': ['F444W'], 'min_bad_expflag': 2, 'fetch_only': False, 'force_rate': True, 'get_rateints': False, 'recalibrate_jwst': False, 's3path': None})\n",
      "\n",
      "paths:  {'home': '/workspaces/panoramic-jwst/Astrometry', 'base': '/workspaces/panoramic-jwst/Astrometry/j134348p5549_indef-f200w-f444w_00029', 'raw': '/workspaces/panoramic-jwst/Astrometry/j134348p5549_indef-f200w-f444w_00029/RAW', 'prep': '/workspaces/panoramic-jwst/Astrometry/j134348p5549_indef-f200w-f444w_00029/Prep', 'persist': '/workspaces/panoramic-jwst/Astrometry/j134348p5549_indef-f200w-f444w_00029/Persistence', 'extract': '/workspaces/panoramic-jwst/Astrometry/j134348p5549_indef-f200w-f444w_00029/Extractions', 'thumbs': '/workspaces/panoramic-jwst/Astrometry/j134348p5549_indef-f200w-f444w_00029/Extractions'}\n",
      "Fetch 4 JWST files!\n",
      "Download iteration: 0\n",
      "Warning: no files to fetch for filters=['F444W'].\n",
      "\n",
      "grizli.pipeline.reprocess: Fetch calibrations...\n",
      "\n",
      "# (2023-06-12 20:59:23.872)\n",
      "\n",
      "auto_script.parse_visits(**{'files': [], 'field_root': 'j134348p5549_indef-f200w-f444w_00029', 'RAW_PATH': '/workspaces/panoramic-jwst/Astrometry/j134348p5549_indef-f200w-f444w_00029/RAW', 'use_visit': True, 'combine_same_pa': False, 'combine_minexp': 2, 'is_dash': False, 'filters': ['F444W'], 'max_dt': 4, 'visit_split_shift': 1.2, 'file_query': '*'})\n",
      "\n",
      "indef-02514-055-134.0-NRCA5-F444W-CLEAR 4\n"
     ]
    },
    {
     "name": "stderr",
     "output_type": "stream",
     "text": [
      "cp: cannot stat '*mask.reg': No such file or directory\n"
     ]
    },
    {
     "name": "stdout",
     "output_type": "stream",
     "text": [
      "** Combine Singles: **\n",
      "0 indef-02514-055-134.0-nrca5-f444w-clear 4\n",
      "\n",
      " == Grism groups ==\n",
      "\n",
      "# (2023-06-12 20:59:24.096)\n",
      "\n",
      "auto_script.preprocess(**{'field_root': 'j134348p5549_indef-f200w-f444w_00029', 'HOME_PATH': '/workspaces/panoramic-jwst/Astrometry', 'PERSIST_PATH': '/workspaces/panoramic-jwst/Astrometry/j134348p5549_indef-f200w-f444w_00029/Persistence', 'min_overlap': 0.2, 'make_combined': False, 'catalogs': ['PS1', 'DES', 'NSC', 'SDSS', 'GAIA', 'WISE'], 'use_visit': True, 'master_radec': 'astrometry_db', 'parent_radec': None, 'use_first_radec': False, 'skip_imaging': False, 'clean': True, 'skip_single_optical_visits': False, 'visit_prep_args': {'align_thresh': None, 'align_rms_limit': 2, 'align_mag_limits': [14, 26.5, 0.1], 'align_assume_close': False, 'align_transform': None, 'align_ref_border': 100, 'align_guess': None, 'max_err_percentile': 99, 'align_min_flux_radius': 1.0, 'catalog_mask_pad': 0.05, 'match_catalog_density': False, 'skymethod': 'localmin', 'drizzle_params': {}, 'single_image_CRs': True, 'run_tweak_align': True, 'tweak_threshold': 1.5, 'tweak_fit_order': -1, 'tweak_max_dist': 100, 'tweak_n_min': 10, 'tweak_ref_exp': 0, 'align_simple': False, 'align_clip': 120, 'column_average': True, 'sky_iter': 10, 'iter_atol': 0.0001, 'imaging_bkg_params': {'bh': 256, 'bw': 256, 'fh': 3, 'fw': 3, 'pixel_scale': 0.1, 'get_median': False}, 'run_separate_chip_sky': True, 'fix_stars': False, 'reference_catalogs': ['LS_DR9', 'PS1', 'DES', 'NSC', 'GAIA'], 'outlier_threshold': 4, 'nircam_wisp_kwargs': {'niter': 3, 'update': True}, 'oneoverf_kwargs': {'deg_pix': 2048, 'dilate_iterations': 3, 'other_axis': True, 'thresholds': [5, 4, 3]}, 'snowball_kwargs': {'snowball_erode': 4, 'snowball_dilate': 18, 'mask_bit': 1024, 'instruments': ['NIRCAM', 'NIRISS'], 'max_fraction': 0.3}, 'angle_background_kwargs': {'threshold': 1.8, 'detection_background': True, 'angles': [30.0, -30.0, 0, 90], 'suffix': 'angles', 'niter': 3, 'instruments': []}, 'miri_skyflat': False, 'miri_skyfile': None, 'use_skyflats': True, 'use_self_catalog': False}, 'persistence_args': {'dq_value': 1024, 'err_threshold': 0.5, 'grow_mask': 3, 'verbose': True, 'reset': False}})\n",
      "\n",
      "Skip indef-02514-055-134.0-nrca5-f444w-clear\n",
      "kill='preprocess'\n",
      "Update exposure footprints in ./j134348p5549_indef-f200w-f444w_00029_visits.yaml\n"
     ]
    }
   ],
   "source": [
    "\n",
    "# assoc_list = ['j100736p2109_indef-f444w_00023']\n",
    "\n",
    "for assoc in assoc_list:\n",
    "    print(assoc)\n",
    "    \n",
    "    if True:\n",
    "        visit_processor.process_visit(assoc, sync=False, clean=False)\n"
   ]
  },
  {
   "cell_type": "code",
   "execution_count": 6,
   "metadata": {},
   "outputs": [
    {
     "name": "stdout",
     "output_type": "stream",
     "text": [
      "# flt xshift yshift rot scale N rmsx rmsy\n",
      "# fit_order: -1\n",
      "# match['jw02514209001_02201_00001_nrcblong_rate.fits'] = []\n",
      "# match['jw02514209001_02201_00002_nrcblong_rate.fits'] = []\n",
      "# match['jw02514209001_02201_00003_nrcblong_rate.fits'] = []\n",
      "# match['jw02514209001_02201_00004_nrcblong_rate.fits'] = []\n",
      "jw02514209001_02201_00001_nrcblong_rate.fits   0.000  -0.000  0.00000  1.00000   100  0.000  0.000\n",
      "jw02514209001_02201_00002_nrcblong_rate.fits  -0.953  -1.894  0.00000  1.00000    93  0.047  0.048\n",
      "jw02514209001_02201_00003_nrcblong_rate.fits   0.980  -2.374  0.00000  1.00000    97  0.043  0.039\n",
      "jw02514209001_02201_00004_nrcblong_rate.fits   0.421  -1.047  0.00000  1.00000    94  0.049  0.044\n",
      "# flt xshift yshift rot scale N rmsx rmsy\n",
      "# fit_order: -1\n",
      "# match['jw02514209001_02201_00001_nrcalong_rate.fits'] = []\n",
      "# match['jw02514209001_02201_00002_nrcalong_rate.fits'] = []\n",
      "# match['jw02514209001_02201_00003_nrcalong_rate.fits'] = []\n",
      "# match['jw02514209001_02201_00004_nrcalong_rate.fits'] = []\n",
      "jw02514209001_02201_00001_nrcalong_rate.fits   0.000   0.000  0.00000  1.00000   100  0.000  0.000\n",
      "jw02514209001_02201_00002_nrcalong_rate.fits  -1.013  -1.937  0.00000  1.00000    86  0.076  0.057\n",
      "jw02514209001_02201_00003_nrcalong_rate.fits   1.037  -2.319  0.00000  1.00000    91  0.066  0.052\n",
      "jw02514209001_02201_00004_nrcalong_rate.fits   0.454  -0.992  0.00000  1.00000    90  0.065  0.057\n",
      "# flt xshift yshift rot scale N rmsx rmsy\n",
      "# fit_order: -1\n",
      "# match['jw02514055001_06201_00001_nrcblong_rate.fits'] = []\n",
      "# match['jw02514055001_06201_00002_nrcblong_rate.fits'] = []\n",
      "# match['jw02514055001_06201_00003_nrcblong_rate.fits'] = []\n",
      "# match['jw02514055001_06201_00004_nrcblong_rate.fits'] = []\n",
      "jw02514055001_06201_00001_nrcblong_rate.fits   0.000   0.000  0.00000  1.00000   100  0.000  0.000\n",
      "jw02514055001_06201_00002_nrcblong_rate.fits  -0.000  -3.870  0.00000  1.00000    79  0.061  0.071\n",
      "jw02514055001_06201_00003_nrcblong_rate.fits  -2.830   0.896  0.00000  1.00000    87  0.068  0.053\n",
      "jw02514055001_06201_00004_nrcblong_rate.fits   0.122  -2.910  0.00000  1.00000    72  0.075  0.076\n",
      "# flt xshift yshift rot scale N rmsx rmsy\n",
      "# fit_order: -1\n",
      "# match['jw02514055001_06201_00001_nrcalong_rate.fits'] = []\n",
      "# match['jw02514055001_06201_00002_nrcalong_rate.fits'] = []\n",
      "# match['jw02514055001_06201_00003_nrcalong_rate.fits'] = []\n",
      "# match['jw02514055001_06201_00004_nrcalong_rate.fits'] = []\n",
      "jw02514055001_06201_00001_nrcalong_rate.fits  -0.000   0.000  0.00000  1.00000   100  0.000  0.000\n",
      "jw02514055001_06201_00002_nrcalong_rate.fits   0.095  -3.882  0.00000  1.00000    83  0.085  0.064\n",
      "jw02514055001_06201_00003_nrcalong_rate.fits  -2.732   0.941  0.00000  1.00000    86  0.069  0.052\n",
      "jw02514055001_06201_00004_nrcalong_rate.fits   0.171  -2.914  0.00000  1.00000    81  0.079  0.067\n"
     ]
    }
   ],
   "source": [
    "# Check WCS log\n",
    "! cat j*/Prep/*shifts.log"
   ]
  },
  {
   "attachments": {},
   "cell_type": "markdown",
   "metadata": {},
   "source": [
    "## Make astrometric reference catalogs"
   ]
  },
  {
   "cell_type": "code",
   "execution_count": 7,
   "metadata": {},
   "outputs": [
    {
     "name": "stdout",
     "output_type": "stream",
     "text": [
      "j131432p2432_indef-f115w-f444w_00004/Prep/indef-02514-209-124.0-nrcb5-f444w-clear_wcs.log\n",
      "j131432p2432_indef-f277w-f444w_00009/Prep/indef-02514-209-124.0-nrca5-f444w-clear_wcs.log\n",
      "j134348p5549_indef-f200w-f444w_00028/Prep/indef-02514-055-134.0-nrcb5-f444w-clear_wcs.log\n",
      "j134348p5549_indef-f200w-f444w_00029/Prep/indef-02514-055-134.0-nrca5-f444w-clear_wcs.log\n"
     ]
    }
   ],
   "source": [
    "! ls j*/Prep/*wcs.log"
   ]
  },
  {
   "cell_type": "code",
   "execution_count": 3,
   "metadata": {},
   "outputs": [
    {
     "name": "stdout",
     "output_type": "stream",
     "text": [
      "# ext xshift yshift rot scale rms N\n",
      "# radec: indef-02514-209-124.0-nrcb5-f444w-clear_ls_dr9.radec\n",
      "# indef-02514-209-124.0-nrcb5-f444w-clear\n",
      "    0       -0.4828        2.0927       -0.0164       1.00000         0.341   19\n",
      "# ext xshift yshift rot scale rms N\n",
      "# radec: indef-02514-209-124.0-nrca5-f444w-clear_ls_dr9.radec\n",
      "# indef-02514-209-124.0-nrca5-f444w-clear\n",
      "    0       -0.8560        2.0599       -0.0203       1.00000         0.626    9\n",
      "# ext xshift yshift rot scale rms N\n",
      "# radec: indef-02514-055-134.0-nrcb5-f444w-clear_ls_dr9.radec\n",
      "# indef-02514-055-134.0-nrcb5-f444w-clear\n",
      "    0        0.1558        0.5978        0.0335       1.00000         0.552    5\n",
      "# ext xshift yshift rot scale rms N\n",
      "# radec: indef-02514-055-134.0-nrca5-f444w-clear_ls_dr9.radec\n",
      "# indef-02514-055-134.0-nrca5-f444w-clear\n",
      "    0       -0.1091       -0.5164        0.0180       1.00000         0.757   13\n"
     ]
    }
   ],
   "source": [
    "! cat j*/Prep/*wcs.log"
   ]
  },
  {
   "cell_type": "code",
   "execution_count": 4,
   "metadata": {},
   "outputs": [],
   "source": [
    "ref_cats = db.SQL(\"\"\"select src, count(src) \n",
    "from astrometry_reference\n",
    "group by src\n",
    "\"\"\")\n",
    "\n",
    "HOME = os.getcwd()\n",
    "\n",
    "REDO_REF_CATS = ['cos_primer_hst160_17_24']\n",
    "\n",
    "def get_used_radec(file):\n",
    "    \"\"\"\n",
    "    Get the radec catalog that was used to compare to those already in the database\n",
    "    \"\"\"\n",
    "    with open(file.replace('.cat.fits', '_wcs.log')) as fp:\n",
    "        line = fp.readlines()[1]\n",
    "    \n",
    "    return line.strip().split()[-1].replace('.radec','')"
   ]
  },
  {
   "attachments": {},
   "cell_type": "markdown",
   "metadata": {},
   "source": [
    "# Process reference catalogs\n",
    "\n",
    "Flip `SEND_TO_DB=True` to actually send the catalogs to the `astrometry_reference` table in teh database.\n"
   ]
  },
  {
   "cell_type": "code",
   "execution_count": 5,
   "metadata": {
    "cell_id": "eb3c69c9e31943d0b48daa990b7e48e8",
    "deepnote_cell_type": "code"
   },
   "outputs": [
    {
     "name": "stdout",
     "output_type": "stream",
     "text": [
      "\n",
      "Add 578 objects to astrometry_reference for j131432p2432_indef-f115w-f444w_00004/indef-02514-209-124.0-nrcb5-f444w-clear.cat.fits src=j131432p2432_f115w-f444w_00004_cat\n",
      "\n",
      "/workspaces/panoramic-jwst/Astrometry/j131432p2432_f115w-f444w_00004_cat.reg: x = ra, y=dec, ellipse=False\n",
      "\n",
      "! Set SEND_TO_DB=True to send the table to the remote DB\n",
      "\n",
      "Add 447 objects to astrometry_reference for j131432p2432_indef-f277w-f444w_00009/indef-02514-209-124.0-nrca5-f444w-clear.cat.fits src=j131432p2432_f277w-f444w_00009_cat\n",
      "\n",
      "/workspaces/panoramic-jwst/Astrometry/j131432p2432_f277w-f444w_00009_cat.reg: x = ra, y=dec, ellipse=False\n",
      "\n",
      "! Set SEND_TO_DB=True to send the table to the remote DB\n",
      "\n",
      "Add 477 objects to astrometry_reference for j134348p5549_indef-f200w-f444w_00028/indef-02514-055-134.0-nrcb5-f444w-clear.cat.fits src=j134348p5549_f200w-f444w_00028_cat\n",
      "\n",
      "/workspaces/panoramic-jwst/Astrometry/j134348p5549_f200w-f444w_00028_cat.reg: x = ra, y=dec, ellipse=False\n",
      "\n",
      "! Set SEND_TO_DB=True to send the table to the remote DB\n",
      "\n",
      "Add 515 objects to astrometry_reference for j134348p5549_indef-f200w-f444w_00029/indef-02514-055-134.0-nrca5-f444w-clear.cat.fits src=j134348p5549_f200w-f444w_00029_cat\n",
      "\n",
      "/workspaces/panoramic-jwst/Astrometry/j134348p5549_f200w-f444w_00029_cat.reg: x = ra, y=dec, ellipse=False\n",
      "\n",
      "! Set SEND_TO_DB=True to send the table to the remote DB\n"
     ]
    },
    {
     "data": {
      "image/png": "[encoded data removed]",
      "text/plain": [
       "<Figure size 640x480 with 1 Axes>"
      ]
     },
     "metadata": {},
     "output_type": "display_data"
    }
   ],
   "source": [
    "# Set to True to actually send the catalogs to the database table\n",
    "SEND_TO_DB = False \n",
    "\n",
    "mag_lim = (17, 26)\n",
    "flux_radius = (1,10)\n",
    "sn = 20\n",
    "\n",
    "max_count = 1000\n",
    "\n",
    "for assoc in assoc_list:\n",
    "    os.chdir(HOME)\n",
    "    \n",
    "    if os.path.exists(f'{assoc}/Prep'):\n",
    "        os.chdir(f'{assoc}/Prep')\n",
    "        files = glob.glob('*cat.fits')\n",
    "        for file in files:\n",
    "            ref_src = get_used_radec(file)\n",
    "            if (ref_src in ref_cats['src']) & (ref_src not in REDO_REF_CATS):\n",
    "                print(f'\\n{file}: {ref_src} in astrometry_db\\n')\n",
    "                continue\n",
    "\n",
    "            tab = utils.read_catalog(file)\n",
    "            for c in list(tab.colnames):\n",
    "                tab.rename_column(c, c.lower())\n",
    "\n",
    "            tab['mag'] = tab['mag_auto']\n",
    "            if True:\n",
    "                #clip = tab['mag'] < mag_lim[1]\n",
    "                clip = tab['mag'] > mag_lim[0]\n",
    "                clip &= tab['mask_aper_1'] == 0\n",
    "                clip &= tab['flux_radius'] > flux_radius[0]\n",
    "                clip &= tab['flux_radius'] < flux_radius[1]\n",
    "                clip &= tab['flux_aper_1'] / tab['fluxerr_aper_1'] > sn\n",
    "                \n",
    "                tab = tab[clip]\n",
    "                so = np.argsort(tab['mag'])\n",
    "                tab = tab[so]\n",
    "                \n",
    "                if max_count > 0:\n",
    "                    tab = tab[:max_count]\n",
    "                    \n",
    "            plt.scatter(tab['mag_auto'], tab['flux_radius'], alpha=0.2)\n",
    "            plt.ylim(0, 10)\n",
    "            plt.xlim(12,28)\n",
    "            \n",
    "            if len(files) == 1:\n",
    "                src = assoc+'_cat'\n",
    "            else:\n",
    "                src = os.path.basename(file).split('.cat')[0]\n",
    "            \n",
    "            src = src.replace('indef-','')\n",
    "            \n",
    "            tab['src'] = src\n",
    "            try:\n",
    "                ok = np.isfinite(tab['mag'].filled(np.nan))\n",
    "                tab = tab[ok]\n",
    "            except:\n",
    "                pass\n",
    "\n",
    "            print(f'\\nAdd {len(tab)} objects to astrometry_reference for {assoc}/{file} src={src}\\n')\n",
    "            \n",
    "            prep.table_to_regions(tab, os.path.join(HOME, f'{src}.reg'))\n",
    "            \n",
    "            # Set this to True to actually send the table!                \n",
    "            if SEND_TO_DB:\n",
    "                print(f'clean {src}')\n",
    "                db.execute(f\"delete from astrometry_reference where src='{src}'\")\n",
    "                print(f'upload {src}')\n",
    "                db.send_to_database('astrometry_reference', tab['ra','dec','src','mag'], if_exists='append')\n",
    "            else:\n",
    "                print(\"\\n! Set SEND_TO_DB=True to send the table to the remote DB\")\n",
    "\n",
    "os.chdir(HOME)"
   ]
  },
  {
   "attachments": {},
   "cell_type": "markdown",
   "metadata": {},
   "source": [
    "# Break here in Run All"
   ]
  },
  {
   "cell_type": "code",
   "execution_count": 1,
   "metadata": {},
   "outputs": [
    {
     "ename": "NameError",
     "evalue": "name 'breakme' is not defined",
     "output_type": "error",
     "traceback": [
      "\u001b[0;31m---------------------------------------------------------------------------\u001b[0m",
      "\u001b[0;31mNameError\u001b[0m                                 Traceback (most recent call last)",
      "Cell \u001b[0;32mIn[1], line 1\u001b[0m\n\u001b[0;32m----> 1\u001b[0m \u001b[39mprint\u001b[39m(breakme)\n",
      "\u001b[0;31mNameError\u001b[0m: name 'breakme' is not defined"
     ]
    }
   ],
   "source": [
    "print(breakme)"
   ]
  },
  {
   "cell_type": "code",
   "execution_count": 9,
   "metadata": {},
   "outputs": [
    {
     "data": {
      "text/html": [
       "<div><i>GTable length=4</i>\n",
       "<table id=\"table140426608259232\" class=\"table-striped table-bordered table-condensed\">\n",
       "<thead><tr><th>src</th><th>count</th></tr></thead>\n",
       "<thead><tr><th>str34</th><th>int64</th></tr></thead>\n",
       "<tr><td>j131432p2432_f115w-f444w_00004_cat</td><td>578</td></tr>\n",
       "<tr><td>j131432p2432_f277w-f444w_00009_cat</td><td>447</td></tr>\n",
       "<tr><td>j134348p5549_f200w-f444w_00028_cat</td><td>477</td></tr>\n",
       "<tr><td>j134348p5549_f200w-f444w_00029_cat</td><td>515</td></tr>\n",
       "</table></div>"
      ],
      "text/plain": [
       "<GTable length=4>\n",
       "               src                 count\n",
       "              str34                int64\n",
       "---------------------------------- -----\n",
       "j131432p2432_f115w-f444w_00004_cat   578\n",
       "j131432p2432_f277w-f444w_00009_cat   447\n",
       "j134348p5549_f200w-f444w_00028_cat   477\n",
       "j134348p5549_f200w-f444w_00029_cat   515"
      ]
     },
     "execution_count": 9,
     "metadata": {},
     "output_type": "execute_result"
    }
   ],
   "source": [
    "db.SQL(\"\"\"select src, count(src) from astrometry_reference\n",
    "where src like 'j1343%%' OR src like 'j1314%%'\n",
    "group by src\n",
    "\"\"\")"
   ]
  },
  {
   "cell_type": "code",
   "execution_count": 44,
   "metadata": {},
   "outputs": [],
   "source": [
    "import time\n",
    "\n",
    "with open('astrometry_log.txt','a') as fp:\n",
    "    for assoc in assoc_list:\n",
    "        fp.write(f'{assoc}   {time.ctime()}\\n')\n"
   ]
  },
  {
   "attachments": {},
   "cell_type": "markdown",
   "metadata": {},
   "source": [
    "## Reset status and launch EC2\n",
    "\n",
    "Now that the astrometry reference is in place, update the status of the unprocessed visits to zero and launch the processing on EC2"
   ]
  },
  {
   "cell_type": "code",
   "execution_count": 11,
   "metadata": {},
   "outputs": [
    {
     "data": {
      "text/html": [
       "<div><i>GTable length=60</i>\n",
       "<table id=\"table140426608260528\" class=\"table-striped table-bordered table-condensed\">\n",
       "<thead><tr><th>assoc_name</th><th>status</th><th>filter</th></tr></thead>\n",
       "<thead><tr><th>str36</th><th>int64</th><th>str11</th></tr></thead>\n",
       "<tr><td>j134348p5549_indef-f115w_00002</td><td>0</td><td>F115W-CLEAR</td></tr>\n",
       "<tr><td>j134348p5549_indef-f115w_00003</td><td>0</td><td>F115W-CLEAR</td></tr>\n",
       "<tr><td>j134348p5549_indef-f115w_00005</td><td>0</td><td>F115W-CLEAR</td></tr>\n",
       "<tr><td>j134348p5549_indef-f115w_00007</td><td>0</td><td>F115W-CLEAR</td></tr>\n",
       "<tr><td>j134348p5549_indef-f115w_00008</td><td>0</td><td>F115W-CLEAR</td></tr>\n",
       "<tr><td>j134348p5549_indef-f115w-f444w_00004</td><td>0</td><td>F115W-CLEAR</td></tr>\n",
       "<tr><td>j131432p2432_indef-f115w_00001</td><td>0</td><td>F115W-CLEAR</td></tr>\n",
       "<tr><td>j131432p2432_indef-f115w_00002</td><td>0</td><td>F115W-CLEAR</td></tr>\n",
       "<tr><td>j131432p2432_indef-f115w_00003</td><td>0</td><td>F115W-CLEAR</td></tr>\n",
       "<tr><td>j131432p2432_indef-f115w_00005</td><td>0</td><td>F115W-CLEAR</td></tr>\n",
       "<tr><td>...</td><td>...</td><td>...</td></tr>\n",
       "<tr><td>j134348p5549_indef-f277w-f444w_00009</td><td>0</td><td>F277W-CLEAR</td></tr>\n",
       "<tr><td>j131432p2432_indef-f200w-f277w_00026</td><td>0</td><td>F277W-CLEAR</td></tr>\n",
       "<tr><td>j134348p5549_indef-f150w-f356w_00015</td><td>0</td><td>F356W-CLEAR</td></tr>\n",
       "<tr><td>j131432p2432_indef-f150w-f356w_00018</td><td>0</td><td>F356W-CLEAR</td></tr>\n",
       "<tr><td>j134348p5549_indef-f150w-f356w_00011</td><td>0</td><td>F356W-CLEAR</td></tr>\n",
       "<tr><td>j131432p2432_indef-f150w-f356w_00014</td><td>0</td><td>F356W-CLEAR</td></tr>\n",
       "<tr><td>j131432p2432_indef-f115w-f444w_00004</td><td>0</td><td>F444W-CLEAR</td></tr>\n",
       "<tr><td>j131432p2432_indef-f277w-f444w_00009</td><td>0</td><td>F444W-CLEAR</td></tr>\n",
       "<tr><td>j134348p5549_indef-f200w-f444w_00028</td><td>0</td><td>F444W-CLEAR</td></tr>\n",
       "<tr><td>j134348p5549_indef-f200w-f444w_00029</td><td>0</td><td>F444W-CLEAR</td></tr>\n",
       "</table></div>"
      ],
      "text/plain": [
       "<GTable length=60>\n",
       "             assoc_name              status    filter  \n",
       "               str36                 int64     str11   \n",
       "------------------------------------ ------ -----------\n",
       "      j134348p5549_indef-f115w_00002      0 F115W-CLEAR\n",
       "      j134348p5549_indef-f115w_00003      0 F115W-CLEAR\n",
       "      j134348p5549_indef-f115w_00005      0 F115W-CLEAR\n",
       "      j134348p5549_indef-f115w_00007      0 F115W-CLEAR\n",
       "      j134348p5549_indef-f115w_00008      0 F115W-CLEAR\n",
       "j134348p5549_indef-f115w-f444w_00004      0 F115W-CLEAR\n",
       "      j131432p2432_indef-f115w_00001      0 F115W-CLEAR\n",
       "      j131432p2432_indef-f115w_00002      0 F115W-CLEAR\n",
       "      j131432p2432_indef-f115w_00003      0 F115W-CLEAR\n",
       "      j131432p2432_indef-f115w_00005      0 F115W-CLEAR\n",
       "                                 ...    ...         ...\n",
       "j134348p5549_indef-f277w-f444w_00009      0 F277W-CLEAR\n",
       "j131432p2432_indef-f200w-f277w_00026      0 F277W-CLEAR\n",
       "j134348p5549_indef-f150w-f356w_00015      0 F356W-CLEAR\n",
       "j131432p2432_indef-f150w-f356w_00018      0 F356W-CLEAR\n",
       "j134348p5549_indef-f150w-f356w_00011      0 F356W-CLEAR\n",
       "j131432p2432_indef-f150w-f356w_00014      0 F356W-CLEAR\n",
       "j131432p2432_indef-f115w-f444w_00004      0 F444W-CLEAR\n",
       "j131432p2432_indef-f277w-f444w_00009      0 F444W-CLEAR\n",
       "j134348p5549_indef-f200w-f444w_00028      0 F444W-CLEAR\n",
       "j134348p5549_indef-f200w-f444w_00029      0 F444W-CLEAR"
      ]
     },
     "execution_count": 11,
     "metadata": {},
     "output_type": "execute_result"
    }
   ],
   "source": [
    "assoc_list = db.SQL(f\"\"\"select assoc_name, max(status) as status, max(filter) as filter\n",
    "from assoc_table\n",
    "where status != 2\n",
    "and proposal_id in ({progs}) AND instrument_name in ('NIRCAM','NIRISS')\n",
    "GROUP BY assoc_name\n",
    "order by filter\n",
    "\"\"\"\n",
    ") \n",
    "assoc_list"
   ]
  },
  {
   "cell_type": "code",
   "execution_count": 12,
   "metadata": {},
   "outputs": [],
   "source": [
    "if len(assoc_list) > 0:\n",
    "    db.execute(f\"\"\"update assoc_table set status = 0\n",
    "where status != 2\n",
    "and proposal_id in ({progs}) AND instrument_name in ('NIRCAM','NIRISS')\n",
    "\"\"\") "
   ]
  },
  {
   "cell_type": "code",
   "execution_count": 13,
   "metadata": {},
   "outputs": [
    {
     "data": {
      "text/html": [
       "<div><i>GTable length=60</i>\n",
       "<table id=\"table140426608262352\" class=\"table-striped table-bordered table-condensed\">\n",
       "<thead><tr><th>assoc_name</th><th>status</th><th>filter</th></tr></thead>\n",
       "<thead><tr><th>str36</th><th>int64</th><th>str11</th></tr></thead>\n",
       "<tr><td>j131432p2432_indef-f115w_00000</td><td>0</td><td>F115W-CLEAR</td></tr>\n",
       "<tr><td>j131432p2432_indef-f115w_00001</td><td>0</td><td>F115W-CLEAR</td></tr>\n",
       "<tr><td>j131432p2432_indef-f115w_00002</td><td>0</td><td>F115W-CLEAR</td></tr>\n",
       "<tr><td>j131432p2432_indef-f115w_00003</td><td>0</td><td>F115W-CLEAR</td></tr>\n",
       "<tr><td>j131432p2432_indef-f115w_00005</td><td>0</td><td>F115W-CLEAR</td></tr>\n",
       "<tr><td>j131432p2432_indef-f115w_00007</td><td>0</td><td>F115W-CLEAR</td></tr>\n",
       "<tr><td>j131432p2432_indef-f115w_00008</td><td>0</td><td>F115W-CLEAR</td></tr>\n",
       "<tr><td>j131432p2432_indef-f115w-f277w_00006</td><td>0</td><td>F115W-CLEAR</td></tr>\n",
       "<tr><td>j131432p2432_indef-f115w-f444w_00004</td><td>0</td><td>F444W-CLEAR</td></tr>\n",
       "<tr><td>j131432p2432_indef-f150w_00010</td><td>0</td><td>F150W-CLEAR</td></tr>\n",
       "<tr><td>...</td><td>...</td><td>...</td></tr>\n",
       "<tr><td>j134348p5549_indef-f200w_00022</td><td>0</td><td>F200W-CLEAR</td></tr>\n",
       "<tr><td>j134348p5549_indef-f200w_00023</td><td>0</td><td>F200W-CLEAR</td></tr>\n",
       "<tr><td>j134348p5549_indef-f200w_00024</td><td>0</td><td>F200W-CLEAR</td></tr>\n",
       "<tr><td>j134348p5549_indef-f200w_00025</td><td>0</td><td>F200W-CLEAR</td></tr>\n",
       "<tr><td>j134348p5549_indef-f200w_00027</td><td>0</td><td>F200W-CLEAR</td></tr>\n",
       "<tr><td>j134348p5549_indef-f200w-f277w_00021</td><td>0</td><td>F200W-CLEAR</td></tr>\n",
       "<tr><td>j134348p5549_indef-f200w-f277w_00026</td><td>0</td><td>F200W-CLEAR</td></tr>\n",
       "<tr><td>j134348p5549_indef-f200w-f444w_00028</td><td>0</td><td>F444W-CLEAR</td></tr>\n",
       "<tr><td>j134348p5549_indef-f200w-f444w_00029</td><td>0</td><td>F444W-CLEAR</td></tr>\n",
       "<tr><td>j134348p5549_indef-f277w-f444w_00009</td><td>0</td><td>F277W-CLEAR</td></tr>\n",
       "</table></div>"
      ],
      "text/plain": [
       "<GTable length=60>\n",
       "             assoc_name              status    filter  \n",
       "               str36                 int64     str11   \n",
       "------------------------------------ ------ -----------\n",
       "      j131432p2432_indef-f115w_00000      0 F115W-CLEAR\n",
       "      j131432p2432_indef-f115w_00001      0 F115W-CLEAR\n",
       "      j131432p2432_indef-f115w_00002      0 F115W-CLEAR\n",
       "      j131432p2432_indef-f115w_00003      0 F115W-CLEAR\n",
       "      j131432p2432_indef-f115w_00005      0 F115W-CLEAR\n",
       "      j131432p2432_indef-f115w_00007      0 F115W-CLEAR\n",
       "      j131432p2432_indef-f115w_00008      0 F115W-CLEAR\n",
       "j131432p2432_indef-f115w-f277w_00006      0 F115W-CLEAR\n",
       "j131432p2432_indef-f115w-f444w_00004      0 F444W-CLEAR\n",
       "      j131432p2432_indef-f150w_00010      0 F150W-CLEAR\n",
       "                                 ...    ...         ...\n",
       "      j134348p5549_indef-f200w_00022      0 F200W-CLEAR\n",
       "      j134348p5549_indef-f200w_00023      0 F200W-CLEAR\n",
       "      j134348p5549_indef-f200w_00024      0 F200W-CLEAR\n",
       "      j134348p5549_indef-f200w_00025      0 F200W-CLEAR\n",
       "      j134348p5549_indef-f200w_00027      0 F200W-CLEAR\n",
       "j134348p5549_indef-f200w-f277w_00021      0 F200W-CLEAR\n",
       "j134348p5549_indef-f200w-f277w_00026      0 F200W-CLEAR\n",
       "j134348p5549_indef-f200w-f444w_00028      0 F444W-CLEAR\n",
       "j134348p5549_indef-f200w-f444w_00029      0 F444W-CLEAR\n",
       "j134348p5549_indef-f277w-f444w_00009      0 F277W-CLEAR"
      ]
     },
     "execution_count": 13,
     "metadata": {},
     "output_type": "execute_result"
    }
   ],
   "source": [
    "assoc_list = db.SQL(f\"\"\"select assoc_name, max(status) as status, max(filter) as filter\n",
    "from assoc_table\n",
    "where status != 2\n",
    "and proposal_id in ({progs}) AND instrument_name in ('NIRCAM','NIRISS')\n",
    "GROUP BY assoc_name\n",
    "\"\"\"\n",
    ") \n",
    "assoc_list"
   ]
  },
  {
   "cell_type": "code",
   "execution_count": 14,
   "metadata": {},
   "outputs": [
    {
     "name": "stdout",
     "output_type": "stream",
     "text": [
      "rm: cannot remove '/tmp/pipeline_defaults/*': No such file or directory\n",
      "upload: ../../../tmp/pipeline_defaults/j131432p2432_indef-f115w-f444w_00004.yaml to s3://grizli-v2/HST/Pipeline/Input/j131432p2432_indef-f115w-f444w_00004.yaml\n",
      "upload: ../../../tmp/pipeline_defaults/j131432p2432_indef-f150w-f356w_00014.yaml to s3://grizli-v2/HST/Pipeline/Input/j131432p2432_indef-f150w-f356w_00014.yaml\n",
      "upload: ../../../tmp/pipeline_defaults/j131432p2432_indef-f115w_00002.yaml to s3://grizli-v2/HST/Pipeline/Input/j131432p2432_indef-f115w_00002.yaml\n",
      "upload: ../../../tmp/pipeline_defaults/j131432p2432_indef-f115w-f277w_00006.yaml to s3://grizli-v2/HST/Pipeline/Input/j131432p2432_indef-f115w-f277w_00006.yaml\n",
      "upload: ../../../tmp/pipeline_defaults/j131432p2432_indef-f150w-f356w_00011.yaml to s3://grizli-v2/HST/Pipeline/Input/j131432p2432_indef-f150w-f356w_00011.yaml\n",
      "upload: ../../../tmp/pipeline_defaults/j131432p2432_indef-f115w_00001.yaml to s3://grizli-v2/HST/Pipeline/Input/j131432p2432_indef-f115w_00001.yaml\n",
      "upload: ../../../tmp/pipeline_defaults/j131432p2432_indef-f115w_00007.yaml to s3://grizli-v2/HST/Pipeline/Input/j131432p2432_indef-f115w_00007.yaml\n",
      "upload: ../../../tmp/pipeline_defaults/j131432p2432_indef-f115w_00005.yaml to s3://grizli-v2/HST/Pipeline/Input/j131432p2432_indef-f115w_00005.yaml\n",
      "upload: ../../../tmp/pipeline_defaults/j131432p2432_indef-f115w_00003.yaml to s3://grizli-v2/HST/Pipeline/Input/j131432p2432_indef-f115w_00003.yaml\n",
      "upload: ../../../tmp/pipeline_defaults/j131432p2432_indef-f115w_00000.yaml to s3://grizli-v2/HST/Pipeline/Input/j131432p2432_indef-f115w_00000.yaml\n",
      "upload: ../../../tmp/pipeline_defaults/j131432p2432_indef-f115w_00008.yaml to s3://grizli-v2/HST/Pipeline/Input/j131432p2432_indef-f115w_00008.yaml\n",
      "upload: ../../../tmp/pipeline_defaults/j131432p2432_indef-f150w-f356w_00015.yaml to s3://grizli-v2/HST/Pipeline/Input/j131432p2432_indef-f150w-f356w_00015.yaml\n",
      "upload: ../../../tmp/pipeline_defaults/j131432p2432_indef-f150w-f356w_00018.yaml to s3://grizli-v2/HST/Pipeline/Input/j131432p2432_indef-f150w-f356w_00018.yaml\n",
      "upload: ../../../tmp/pipeline_defaults/j131432p2432_indef-f150w_00013.yaml to s3://grizli-v2/HST/Pipeline/Input/j131432p2432_indef-f150w_00013.yaml\n",
      "upload: ../../../tmp/pipeline_defaults/j131432p2432_indef-f150w_00012.yaml to s3://grizli-v2/HST/Pipeline/Input/j131432p2432_indef-f150w_00012.yaml\n",
      "upload: ../../../tmp/pipeline_defaults/j131432p2432_indef-f150w_00016.yaml to s3://grizli-v2/HST/Pipeline/Input/j131432p2432_indef-f150w_00016.yaml\n",
      "upload: ../../../tmp/pipeline_defaults/j131432p2432_indef-f150w_00010.yaml to s3://grizli-v2/HST/Pipeline/Input/j131432p2432_indef-f150w_00010.yaml\n",
      "upload: ../../../tmp/pipeline_defaults/j131432p2432_indef-f150w_00019.yaml to s3://grizli-v2/HST/Pipeline/Input/j131432p2432_indef-f150w_00019.yaml\n",
      "upload: ../../../tmp/pipeline_defaults/j131432p2432_indef-f200w-f277w_00021.yaml to s3://grizli-v2/HST/Pipeline/Input/j131432p2432_indef-f200w-f277w_00021.yaml\n",
      "upload: ../../../tmp/pipeline_defaults/j131432p2432_indef-f150w_00017.yaml to s3://grizli-v2/HST/Pipeline/Input/j131432p2432_indef-f150w_00017.yaml\n",
      "upload: ../../../tmp/pipeline_defaults/j131432p2432_indef-f200w-f277w_00026.yaml to s3://grizli-v2/HST/Pipeline/Input/j131432p2432_indef-f200w-f277w_00026.yaml\n",
      "upload: ../../../tmp/pipeline_defaults/j131432p2432_indef-f200w-f444w_00028.yaml to s3://grizli-v2/HST/Pipeline/Input/j131432p2432_indef-f200w-f444w_00028.yaml\n",
      "upload: ../../../tmp/pipeline_defaults/j131432p2432_indef-f200w-f444w_00029.yaml to s3://grizli-v2/HST/Pipeline/Input/j131432p2432_indef-f200w-f444w_00029.yaml\n",
      "upload: ../../../tmp/pipeline_defaults/j131432p2432_indef-f200w_00020.yaml to s3://grizli-v2/HST/Pipeline/Input/j131432p2432_indef-f200w_00020.yaml\n",
      "upload: ../../../tmp/pipeline_defaults/j131432p2432_indef-f200w_00022.yaml to s3://grizli-v2/HST/Pipeline/Input/j131432p2432_indef-f200w_00022.yaml\n",
      "upload: ../../../tmp/pipeline_defaults/j131432p2432_indef-f200w_00023.yaml to s3://grizli-v2/HST/Pipeline/Input/j131432p2432_indef-f200w_00023.yaml\n",
      "upload: ../../../tmp/pipeline_defaults/j131432p2432_indef-f277w-f444w_00009.yaml to s3://grizli-v2/HST/Pipeline/Input/j131432p2432_indef-f277w-f444w_00009.yaml\n",
      "upload: ../../../tmp/pipeline_defaults/j131432p2432_indef-f200w_00024.yaml to s3://grizli-v2/HST/Pipeline/Input/j131432p2432_indef-f200w_00024.yaml\n",
      "upload: ../../../tmp/pipeline_defaults/j131432p2432_indef-f200w_00027.yaml to s3://grizli-v2/HST/Pipeline/Input/j131432p2432_indef-f200w_00027.yaml\n",
      "upload: ../../../tmp/pipeline_defaults/j131432p2432_indef-f200w_00025.yaml to s3://grizli-v2/HST/Pipeline/Input/j131432p2432_indef-f200w_00025.yaml\n",
      "upload: ../../../tmp/pipeline_defaults/j134348p5549_indef-f115w-f277w_00006.yaml to s3://grizli-v2/HST/Pipeline/Input/j134348p5549_indef-f115w-f277w_00006.yaml\n",
      "upload: ../../../tmp/pipeline_defaults/j134348p5549_indef-f115w-f444w_00004.yaml to s3://grizli-v2/HST/Pipeline/Input/j134348p5549_indef-f115w-f444w_00004.yaml\n",
      "upload: ../../../tmp/pipeline_defaults/j134348p5549_indef-f115w_00000.yaml to s3://grizli-v2/HST/Pipeline/Input/j134348p5549_indef-f115w_00000.yaml\n",
      "upload: ../../../tmp/pipeline_defaults/j134348p5549_indef-f115w_00003.yaml to s3://grizli-v2/HST/Pipeline/Input/j134348p5549_indef-f115w_00003.yaml\n",
      "upload: ../../../tmp/pipeline_defaults/j134348p5549_indef-f115w_00002.yaml to s3://grizli-v2/HST/Pipeline/Input/j134348p5549_indef-f115w_00002.yaml\n",
      "upload: ../../../tmp/pipeline_defaults/j134348p5549_indef-f115w_00001.yaml to s3://grizli-v2/HST/Pipeline/Input/j134348p5549_indef-f115w_00001.yaml\n",
      "upload: ../../../tmp/pipeline_defaults/j134348p5549_indef-f115w_00005.yaml to s3://grizli-v2/HST/Pipeline/Input/j134348p5549_indef-f115w_00005.yaml\n",
      "upload: ../../../tmp/pipeline_defaults/j134348p5549_indef-f115w_00007.yaml to s3://grizli-v2/HST/Pipeline/Input/j134348p5549_indef-f115w_00007.yaml\n",
      "upload: ../../../tmp/pipeline_defaults/j134348p5549_indef-f115w_00008.yaml to s3://grizli-v2/HST/Pipeline/Input/j134348p5549_indef-f115w_00008.yaml\n",
      "upload: ../../../tmp/pipeline_defaults/j134348p5549_indef-f150w-f356w_00011.yaml to s3://grizli-v2/HST/Pipeline/Input/j134348p5549_indef-f150w-f356w_00011.yaml\n",
      "upload: ../../../tmp/pipeline_defaults/j134348p5549_indef-f150w-f356w_00014.yaml to s3://grizli-v2/HST/Pipeline/Input/j134348p5549_indef-f150w-f356w_00014.yaml\n",
      "upload: ../../../tmp/pipeline_defaults/j134348p5549_indef-f150w-f356w_00015.yaml to s3://grizli-v2/HST/Pipeline/Input/j134348p5549_indef-f150w-f356w_00015.yaml\n",
      "upload: ../../../tmp/pipeline_defaults/j134348p5549_indef-f150w-f356w_00018.yaml to s3://grizli-v2/HST/Pipeline/Input/j134348p5549_indef-f150w-f356w_00018.yaml\n",
      "upload: ../../../tmp/pipeline_defaults/j134348p5549_indef-f150w_00010.yaml to s3://grizli-v2/HST/Pipeline/Input/j134348p5549_indef-f150w_00010.yaml\n",
      "upload: ../../../tmp/pipeline_defaults/j134348p5549_indef-f150w_00013.yaml to s3://grizli-v2/HST/Pipeline/Input/j134348p5549_indef-f150w_00013.yaml\n",
      "upload: ../../../tmp/pipeline_defaults/j134348p5549_indef-f150w_00012.yaml to s3://grizli-v2/HST/Pipeline/Input/j134348p5549_indef-f150w_00012.yaml\n",
      "upload: ../../../tmp/pipeline_defaults/j134348p5549_indef-f150w_00016.yaml to s3://grizli-v2/HST/Pipeline/Input/j134348p5549_indef-f150w_00016.yaml\n",
      "upload: ../../../tmp/pipeline_defaults/j134348p5549_indef-f150w_00017.yaml to s3://grizli-v2/HST/Pipeline/Input/j134348p5549_indef-f150w_00017.yaml\n",
      "upload: ../../../tmp/pipeline_defaults/j134348p5549_indef-f150w_00019.yaml to s3://grizli-v2/HST/Pipeline/Input/j134348p5549_indef-f150w_00019.yaml\n",
      "upload: ../../../tmp/pipeline_defaults/j134348p5549_indef-f200w-f277w_00021.yaml to s3://grizli-v2/HST/Pipeline/Input/j134348p5549_indef-f200w-f277w_00021.yaml\n",
      "upload: ../../../tmp/pipeline_defaults/j134348p5549_indef-f200w-f277w_00026.yaml to s3://grizli-v2/HST/Pipeline/Input/j134348p5549_indef-f200w-f277w_00026.yaml\n",
      "upload: ../../../tmp/pipeline_defaults/j134348p5549_indef-f200w-f444w_00028.yaml to s3://grizli-v2/HST/Pipeline/Input/j134348p5549_indef-f200w-f444w_00028.yaml\n",
      "upload: ../../../tmp/pipeline_defaults/j134348p5549_indef-f200w-f444w_00029.yaml to s3://grizli-v2/HST/Pipeline/Input/j134348p5549_indef-f200w-f444w_00029.yaml\n",
      "upload: ../../../tmp/pipeline_defaults/j134348p5549_indef-f200w_00020.yaml to s3://grizli-v2/HST/Pipeline/Input/j134348p5549_indef-f200w_00020.yaml\n",
      "upload: ../../../tmp/pipeline_defaults/j134348p5549_indef-f200w_00022.yaml to s3://grizli-v2/HST/Pipeline/Input/j134348p5549_indef-f200w_00022.yaml\n",
      "upload: ../../../tmp/pipeline_defaults/j134348p5549_indef-f200w_00023.yaml to s3://grizli-v2/HST/Pipeline/Input/j134348p5549_indef-f200w_00023.yaml\n",
      "upload: ../../../tmp/pipeline_defaults/j134348p5549_indef-f200w_00024.yaml to s3://grizli-v2/HST/Pipeline/Input/j134348p5549_indef-f200w_00024.yaml\n",
      "upload: ../../../tmp/pipeline_defaults/j134348p5549_indef-f200w_00025.yaml to s3://grizli-v2/HST/Pipeline/Input/j134348p5549_indef-f200w_00025.yaml\n",
      "upload: ../../../tmp/pipeline_defaults/j134348p5549_indef-f200w_00027.yaml to s3://grizli-v2/HST/Pipeline/Input/j134348p5549_indef-f200w_00027.yaml\n",
      "upload: ../../../tmp/pipeline_defaults/j134348p5549_indef-f277w-f444w_00009.yaml to s3://grizli-v2/HST/Pipeline/Input/j134348p5549_indef-f277w-f444w_00009.yaml\n"
     ]
    }
   ],
   "source": [
    "# Pipeline parameters\n",
    "\n",
    "import os\n",
    "import yaml\n",
    "\n",
    "# Aggressive 1/f correction for blank fields\n",
    "defaults = {'visit_prep_args': {\n",
    "                'oneoverf_kwargs': {'deg_pix':2048, 'dilate_iterations':3, 'thresholds':[5,4,3]},\n",
    "                'align_mag_limits': [14, 26.5, 0.1],\n",
    "            }, \n",
    "           }\n",
    "\n",
    "if not os.path.exists('/tmp/pipeline_defaults'):\n",
    "    os.mkdir('/tmp/pipeline_defaults')\n",
    "    \n",
    "if 1:\n",
    "    ! rm /tmp/pipeline_defaults/*\n",
    "    \n",
    "for assoc in assoc_list['assoc_name']:\n",
    "    # COSMOS-Web\n",
    "    if assoc.split()[0] in ('j095944p0222','j100032p0216','j100028p0217'):\n",
    "        if ('f770w' in assoc) | ('f1800w' in assoc):\n",
    "            # MIRI\n",
    "            defaults['global_miri_skyflat'] = True\n",
    "            defaults['visit_prep_args']['oneoverf_kwargs'] = None\n",
    "        else:\n",
    "            # NIRCam\n",
    "            defaults['visit_prep_args']['oneoverf_kwargs'] =  {'deg_pix':2048, 'dilate_iterations':3,\n",
    "                                                               'thresholds':[5,4,3], 'other_axis':True}\n",
    "            defaults['global_miri_skyflat'] = False\n",
    "            \n",
    "    else:\n",
    "        has_grism = ('gr150' in assoc) | ('grism' in assoc)\n",
    "        \n",
    "        defaults['visit_prep_args']['oneoverf_kwargs'] =  {'deg_pix':2048, 'dilate_iterations':3, \n",
    "                                                           'thresholds':[5,4,3],\n",
    "                                                           'other_axis':(not has_grism),\n",
    "                                                          }\n",
    "    \n",
    "    with open(f'/tmp/pipeline_defaults/{assoc}.yaml','w') as fp:\n",
    "        yaml.dump(defaults, fp)\n",
    "       \n",
    "if 1:\n",
    "    ! aws s3 sync /tmp/pipeline_defaults/ s3://grizli-v2/HST/Pipeline/Input/ --acl public-read --exclude \"*\" --include \"*yaml\""
   ]
  },
  {
   "attachments": {},
   "cell_type": "markdown",
   "metadata": {},
   "source": [
    "## Launch EC2 instances\n",
    "\n",
    "Flip the switch `if 0:` > `if 1` below to run up to 70 EC2 instances that will work through the preprocessing pipeline on all associations with `status=0` in the database.  The script below will launch `Ni = min(Ns//2, nmax)` instances where `Ns` is the number of `status=0` associations in the database. "
   ]
  },
  {
   "cell_type": "code",
   "execution_count": 12,
   "metadata": {},
   "outputs": [
    {
     "name": "stdout",
     "output_type": "stream",
     "text": [
      "Don't launch instances\n"
     ]
    }
   ],
   "source": [
    "# Launch\n",
    "from grizli.aws import db, visit_processor\n",
    "\n",
    "if 0:\n",
    "    _ = visit_processor.launch_ec2_instances(nmax=70, templ='lt-0e8c2b8611c9029eb,Version=33')\n",
    "else:\n",
    "    print(\"Don't launch instances\")"
   ]
  },
  {
   "attachments": {},
   "cell_type": "markdown",
   "metadata": {},
   "source": [
    "# Check status of associations in the DB\n",
    "\n",
    "`assoc_table.status` flags:\n",
    "\n",
    "- 0 = Will be run by the EC2 machines\n",
    "- 1 = In process\n",
    "- 2 = Completed successfully\n",
    "- 9 = Alignment error\n",
    "- 10 = Some other error, perhaps no exposures downloaded from MAST\n",
    "- 12 = Status set for associations manually deleted, don't run them again\n",
    "- Larger numbers, e.g., 50, 70, 99 - placeholders for associations to skip for now"
   ]
  },
  {
   "cell_type": "code",
   "execution_count": 2,
   "metadata": {},
   "outputs": [
    {
     "name": "stdout",
     "output_type": "stream",
     "text": [
      "Set ROOT_PATH=/workspaces/panoramic-jwst/Notebooks\n"
     ]
    },
    {
     "data": {
      "text/html": [
       "<div><i>GTable length=5</i>\n",
       "<table id=\"table140019571667872\" class=\"table-striped table-bordered table-condensed\">\n",
       "<thead><tr><th>status</th><th>count</th></tr></thead>\n",
       "<thead><tr><th>int64</th><th>int64</th></tr></thead>\n",
       "<tr><td>0</td><td>58</td></tr>\n",
       "<tr><td>2</td><td>8010</td></tr>\n",
       "<tr><td>9</td><td>44</td></tr>\n",
       "<tr><td>10</td><td>2</td></tr>\n",
       "<tr><td>12</td><td>97</td></tr>\n",
       "</table></div>"
      ],
      "text/plain": [
       "<GTable length=5>\n",
       "status count\n",
       "int64  int64\n",
       "------ -----\n",
       "     0    58\n",
       "     2  8010\n",
       "     9    44\n",
       "    10     2\n",
       "    12    97"
      ]
     },
     "execution_count": 2,
     "metadata": {},
     "output_type": "execute_result"
    }
   ],
   "source": [
    "from grizli.aws import db\n",
    "import astropy.time\n",
    "now = astropy.time.Time.now().mjd\n",
    "\n",
    "db.SQL(f\"\"\"select status, count(distinct(assoc_name)) from assoc_table\n",
    "where instrument_name in ('NIRISS','NIRCAM','MIRI')\n",
    "AND status < 13\n",
    "group by status\n",
    "\"\"\")"
   ]
  },
  {
   "cell_type": "code",
   "execution_count": 16,
   "metadata": {},
   "outputs": [
    {
     "data": {
      "text/html": [
       "<div><i>GTable length=5</i>\n",
       "<table id=\"table140427521883536\" class=\"table-striped table-bordered table-condensed\">\n",
       "<thead><tr><th>status</th><th>count</th></tr></thead>\n",
       "<thead><tr><th>int64</th><th>int64</th></tr></thead>\n",
       "<tr><td>0</td><td>59</td></tr>\n",
       "<tr><td>2</td><td>8009</td></tr>\n",
       "<tr><td>9</td><td>44</td></tr>\n",
       "<tr><td>10</td><td>2</td></tr>\n",
       "<tr><td>12</td><td>97</td></tr>\n",
       "</table></div>"
      ],
      "text/plain": [
       "<GTable length=5>\n",
       "status count\n",
       "int64  int64\n",
       "------ -----\n",
       "     0    59\n",
       "     2  8009\n",
       "     9    44\n",
       "    10     2\n",
       "    12    97"
      ]
     },
     "execution_count": 16,
     "metadata": {},
     "output_type": "execute_result"
    }
   ],
   "source": [
    "# Do it again to see differences\n",
    "db.SQL(f\"\"\"select status, count(distinct(assoc_name)) from assoc_table\n",
    "where instrument_name in ('NIRISS','NIRCAM','MIRI')\n",
    "AND status < 13\n",
    "group by status\n",
    "\"\"\")"
   ]
  },
  {
   "cell_type": "code",
   "execution_count": 15,
   "metadata": {},
   "outputs": [],
   "source": [
    "# Shouldn't need to do this\n",
    "if 0:\n",
    "    db.execute(\"\"\"update assoc_table set status = 0 where status = 10\n",
    "AND instrument_name in ('NIRISS','NIRCAM','MIRI')\n",
    "\"\"\")"
   ]
  },
  {
   "attachments": {},
   "cell_type": "markdown",
   "metadata": {},
   "source": [
    "# Count that the number of reduced exposures matches number in association\n",
    "\n",
    "The download scripts can occasionally time out for some reason and skip some files."
   ]
  },
  {
   "cell_type": "code",
   "execution_count": 16,
   "metadata": {},
   "outputs": [
    {
     "name": "stdout",
     "output_type": "stream",
     "text": [
      "assoc_table:  36543\n"
     ]
    }
   ],
   "source": [
    "import astropy.time\n",
    "from grizli import utils\n",
    "from grizli.aws import db\n",
    "\n",
    "now = astropy.time.Time.now().mjd\n",
    "assoc = db.SQL(f\"\"\"select assoc_name as assoc, \"dataURL\", max(instrument_name) as instrume\n",
    "from assoc_table where t_min > {now-180}\n",
    "group by assoc, \"dataURL\"\n",
    "\"\"\")\n",
    "\n",
    "print('assoc_table: ', len(assoc))"
   ]
  },
  {
   "cell_type": "code",
   "execution_count": 17,
   "metadata": {},
   "outputs": [
    {
     "name": "stdout",
     "output_type": "stream",
     "text": [
      "files assoc:  22214\n"
     ]
    }
   ],
   "source": [
    "files = db.SQL(f\"\"\"select assoc, dataset, max(instrume) as instrume\n",
    "from exposure_files where expstart > {now-180}\n",
    "group by assoc, dataset\n",
    "\"\"\")\n",
    "print('files assoc: ', len(files))"
   ]
  },
  {
   "cell_type": "code",
   "execution_count": 18,
   "metadata": {},
   "outputs": [],
   "source": [
    "una = utils.Unique(assoc['assoc'], verbose=False)\n",
    "unf = utils.Unique(files['assoc'], verbose=False)\n",
    "\n",
    "redo = []\n",
    "\n",
    "for i, a in enumerate(unf.values):\n",
    "    nf = unf.counts[i]\n",
    "    na = una.counts[una.values.index(a)]\n",
    "    if nf != na:\n",
    "        print(f'{nf:>3} {na:>3} {a}')\n",
    "        redo.append(a)        "
   ]
  },
  {
   "cell_type": "code",
   "execution_count": 20,
   "metadata": {},
   "outputs": [
    {
     "name": "stdout",
     "output_type": "stream",
     "text": [
      "0\n"
     ]
    }
   ],
   "source": [
    "print(len(redo))\n",
    "\n",
    "if len(redo) > 0:\n",
    "    with open('/tmp/redo_assoc.txt','w') as fp:\n",
    "        for a in redo:\n",
    "            fp.write(a+'\\n')"
   ]
  },
  {
   "cell_type": "code",
   "execution_count": 22,
   "metadata": {},
   "outputs": [],
   "source": [
    "from grizli.aws import visit_processor\n",
    "import numpy as np\n",
    "import os\n",
    "import time\n",
    "\n",
    "# i = 0\n",
    "\n",
    "skip = 1\n",
    "\n",
    "if len(redo) > 0:\n",
    "    \n",
    "    redo = np.loadtxt('/tmp/redo_assoc.txt', dtype=str)[i::skip]\n",
    "    for a in redo:\n",
    "        os.chdir('/GrizliImaging')\n",
    "        with open('/tmp/redo_done.txt','a') as fp:\n",
    "            fp.write(f'{i} {time.ctime()} {a}\\n')\n",
    "\n",
    "        visit_processor.process_visit(a, sync=True, clean=True)\n",
    "    "
   ]
  }
 ],
 "metadata": {
  "deepnote": {},
  "deepnote_execution_queue": [],
  "deepnote_notebook_id": "a0535b6b6c3443c8b96d319ff9881ef7",
  "kernelspec": {
   "display_name": "Python 3 (ipykernel)",
   "language": "python",
   "name": "python3"
  },
  "language_info": {
   "codemirror_mode": {
    "name": "ipython",
    "version": 3
   },
   "file_extension": ".py",
   "mimetype": "text/x-python",
   "name": "python",
   "nbconvert_exporter": "python",
   "pygments_lexer": "ipython3",
   "version": "3.10.4"
  }
 },
 "nbformat": 4,
 "nbformat_minor": 4
}
