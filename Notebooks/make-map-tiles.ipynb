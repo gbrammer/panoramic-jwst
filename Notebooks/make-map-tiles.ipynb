{
 "cells": [
  {
   "cell_type": "markdown",
   "metadata": {},
   "source": [
    "# Make drizzled tiles\n",
    "\n",
    "There are functionality for defining a tiling grid for a particular field and functions on EC2 to drizzle the tiles in parallel."
   ]
  },
  {
   "cell_type": "code",
   "execution_count": 1,
   "metadata": {},
   "outputs": [
    {
     "name": "stdout",
     "output_type": "stream",
     "text": [
      "Set ROOT_PATH=/usr/local/share/python/panoramic-jwst/Notebooks\n"
     ]
    }
   ],
   "source": [
    "import os\n",
    "import warnings\n",
    "warnings.filterwarnings('ignore')\n",
    "\n",
    "import numpy as np\n",
    "import matplotlib.pyplot as plt\n",
    "\n",
    "import astropy.time\n",
    "\n",
    "from grizli.aws import db\n",
    "from grizli import utils"
   ]
  },
  {
   "cell_type": "code",
   "execution_count": 2,
   "metadata": {},
   "outputs": [
    {
     "data": {
      "text/plain": [
       "'/usr/local/share/python/panoramic-jwst/Notebooks'"
      ]
     },
     "execution_count": 2,
     "metadata": {},
     "output_type": "execute_result"
    }
   ],
   "source": [
    "if os.path.exists('/workspaces/panoramic-jwst/Mosaics'):\n",
    "    os.chdir('/workspaces/panoramic-jwst/Mosaics')\n",
    "\n",
    "os.getcwd()"
   ]
  },
  {
   "cell_type": "code",
   "execution_count": 4,
   "metadata": {},
   "outputs": [
    {
     "data": {
      "text/plain": [
       "973"
      ]
     },
     "execution_count": 4,
     "metadata": {},
     "output_type": "execute_result"
    }
   ],
   "source": [
    "# Query for tiles\n",
    "\n",
    "runmode = 'panoramic'\n",
    "runmode = 'uncover'\n",
    "runmode = 'smacs'\n",
    "\n",
    "if runmode == 'panoramic':\n",
    "    # PANORAMIC\n",
    "    fields = \"AND field like 'panoramic%%'\"\n",
    "    prog = \"AND e.dataset like 'jw02514%%'\"\n",
    "elif runmode == 'uncover':\n",
    "    # PANORAMIC\n",
    "    fields = \"AND field = 'abell2744'\"\n",
    "    prog = \"AND (e.dataset like 'jw01324%%' OR e.dataset like 'jw02561%%' OR e.dataset like 'jw02756%%')\"\n",
    "elif runmode == 'smacs':\n",
    "    # SMACS 0723\n",
    "    fields = \"AND field = 'j072305m7327'\"\n",
    "    prog = \"AND (e.dataset like 'jw02736%%')\"\n",
    "\n",
    "   \n",
    "instruments = \"'NIRCAM','MIRI','NIRISS'\"\n",
    "\n",
    "filters = \"'F090W-CLEAR','F115W-CLEAR','F150W-CLEAR','F200W-CLEAR','F277W-CLEAR','F356W-CLEAR','F410M-CLEAR','F444W-CLEAR','F770W','F1800W','CLEARP-F444W'\"\n",
    "\n",
    "# filters = \"'F410M-CLEAR'\"\n",
    "\n",
    "res = db.SQL(f\"\"\"select file, assoc, instrume, filter, tile, field, e.footprint, t.footprint as tile_footprint\n",
    "from exposure_files e, combined_tiles t\n",
    "where instrume in ({instruments})\n",
    "{fields}\n",
    "AND polygon(e.footprint) && polygon(t.footprint)\n",
    "{prog} AND e.filter in ({filters})\n",
    "AND expstart > {astropy.time.Time.now().mjd-560}\n",
    "\"\"\")\n",
    "\n",
    "len(res)"
   ]
  },
  {
   "cell_type": "code",
   "execution_count": 5,
   "metadata": {},
   "outputs": [
    {
     "data": {
      "text/html": [
       "<div><i>GTable length=58</i>\n",
       "<table id=\"table5620148736\" class=\"table-striped table-bordered table-condensed\">\n",
       "<thead><tr><th>field</th><th>tile</th><th>instrume</th><th>filter</th><th>ndrizim</th></tr></thead>\n",
       "<thead><tr><th>str12</th><th>str5</th><th>str6</th><th>str11</th><th>int64</th></tr></thead>\n",
       "<tr><td>j072305m7327</td><td>08.09</td><td>MIRI</td><td>F1800W</td><td>10</td></tr>\n",
       "<tr><td>j072305m7327</td><td>08.09</td><td>MIRI</td><td>F770W</td><td>10</td></tr>\n",
       "<tr><td>j072305m7327</td><td>08.09</td><td>NIRCAM</td><td>F090W-CLEAR</td><td>31</td></tr>\n",
       "<tr><td>j072305m7327</td><td>08.09</td><td>NIRCAM</td><td>F150W-CLEAR</td><td>31</td></tr>\n",
       "<tr><td>j072305m7327</td><td>08.09</td><td>NIRCAM</td><td>F200W-CLEAR</td><td>31</td></tr>\n",
       "<tr><td>j072305m7327</td><td>08.09</td><td>NIRCAM</td><td>F277W-CLEAR</td><td>9</td></tr>\n",
       "<tr><td>j072305m7327</td><td>08.09</td><td>NIRCAM</td><td>F356W-CLEAR</td><td>9</td></tr>\n",
       "<tr><td>j072305m7327</td><td>08.09</td><td>NIRCAM</td><td>F444W-CLEAR</td><td>9</td></tr>\n",
       "<tr><td>j072305m7327</td><td>08.09</td><td>NIRISS</td><td>F115W-CLEAR</td><td>8</td></tr>\n",
       "<tr><td>...</td><td>...</td><td>...</td><td>...</td><td>...</td></tr>\n",
       "<tr><td>j072305m7327</td><td>10.08</td><td>NIRCAM</td><td>F277W-CLEAR</td><td>9</td></tr>\n",
       "<tr><td>j072305m7327</td><td>10.08</td><td>NIRCAM</td><td>F356W-CLEAR</td><td>9</td></tr>\n",
       "<tr><td>j072305m7327</td><td>10.08</td><td>NIRCAM</td><td>F444W-CLEAR</td><td>9</td></tr>\n",
       "<tr><td>j072305m7327</td><td>10.09</td><td>NIRCAM</td><td>F090W-CLEAR</td><td>29</td></tr>\n",
       "<tr><td>j072305m7327</td><td>10.09</td><td>NIRCAM</td><td>F150W-CLEAR</td><td>29</td></tr>\n",
       "<tr><td>j072305m7327</td><td>10.09</td><td>NIRCAM</td><td>F200W-CLEAR</td><td>30</td></tr>\n",
       "<tr><td>j072305m7327</td><td>10.09</td><td>NIRCAM</td><td>F277W-CLEAR</td><td>9</td></tr>\n",
       "<tr><td>j072305m7327</td><td>10.09</td><td>NIRCAM</td><td>F356W-CLEAR</td><td>9</td></tr>\n",
       "<tr><td>j072305m7327</td><td>10.09</td><td>NIRCAM</td><td>F444W-CLEAR</td><td>9</td></tr>\n",
       "</table></div>"
      ],
      "text/plain": [
       "<GTable length=58>\n",
       "   field      tile instrume    filter   ndrizim\n",
       "   str12      str5   str6      str11     int64 \n",
       "------------ ----- -------- ----------- -------\n",
       "j072305m7327 08.09     MIRI      F1800W      10\n",
       "j072305m7327 08.09     MIRI       F770W      10\n",
       "j072305m7327 08.09   NIRCAM F090W-CLEAR      31\n",
       "j072305m7327 08.09   NIRCAM F150W-CLEAR      31\n",
       "j072305m7327 08.09   NIRCAM F200W-CLEAR      31\n",
       "j072305m7327 08.09   NIRCAM F277W-CLEAR       9\n",
       "j072305m7327 08.09   NIRCAM F356W-CLEAR       9\n",
       "j072305m7327 08.09   NIRCAM F444W-CLEAR       9\n",
       "j072305m7327 08.09   NIRISS F115W-CLEAR       8\n",
       "         ...   ...      ...         ...     ...\n",
       "j072305m7327 10.08   NIRCAM F277W-CLEAR       9\n",
       "j072305m7327 10.08   NIRCAM F356W-CLEAR       9\n",
       "j072305m7327 10.08   NIRCAM F444W-CLEAR       9\n",
       "j072305m7327 10.09   NIRCAM F090W-CLEAR      29\n",
       "j072305m7327 10.09   NIRCAM F150W-CLEAR      29\n",
       "j072305m7327 10.09   NIRCAM F200W-CLEAR      30\n",
       "j072305m7327 10.09   NIRCAM F277W-CLEAR       9\n",
       "j072305m7327 10.09   NIRCAM F356W-CLEAR       9\n",
       "j072305m7327 10.09   NIRCAM F444W-CLEAR       9"
      ]
     },
     "execution_count": 5,
     "metadata": {},
     "output_type": "execute_result"
    }
   ],
   "source": [
    "# Query counting by exposures per field\n",
    "# can take a while\n",
    "\n",
    "fields = ','.join([f\"'{f}'\" for f in np.unique(res['field']).tolist()])\n",
    "instruments = ','.join([f\"'{f}'\" for f in np.unique(res['instrume']).tolist()])\n",
    "filters = ','.join([f\"'{f}'\" for f in np.unique(res['filter']).tolist()])\n",
    "prog = ''\n",
    "\n",
    "grp = db.SQL(f\"\"\"select field, tile, instrume, filter, count(filter) as ndrizim\n",
    "from exposure_files e, combined_tiles t\n",
    "where instrume in ({instruments})\n",
    "AND t.field in ({fields})\n",
    "AND polygon(e.footprint) && polygon(t.footprint)\n",
    "{prog}\n",
    "AND e.filter in ({filters})\n",
    "group by field, tile, instrume, filter\n",
    "order by field, tile, instrume, filter\n",
    "\"\"\")\n",
    "grp"
   ]
  },
  {
   "cell_type": "code",
   "execution_count": 6,
   "metadata": {},
   "outputs": [
    {
     "name": "stdout",
     "output_type": "stream",
     "text": [
      "   N  value     \n",
      "====  ==========\n",
      " 973  j072305m7327\n"
     ]
    },
    {
     "data": {
      "image/png": "[encoded data removed]",
      "text/plain": [
       "<Figure size 900x900 with 1 Axes>"
      ]
     },
     "metadata": {},
     "output_type": "display_data"
    }
   ],
   "source": [
    "# Make field plots\n",
    "\n",
    "un = utils.Unique(res['field'])\n",
    "\n",
    "figs = {}\n",
    "\n",
    "for v in un.values:\n",
    "    fig, ax = plt.subplots(1,1,figsize=(9,9))\n",
    "    test = un[v] & np.in1d(res['filter'], ['F444W-CLEAR'])\n",
    "    jw_color = 'r'\n",
    "\n",
    "    if test.sum() == 0:\n",
    "        test = un[v] & np.in1d(res['filter'], ['F356W-CLEAR'])\n",
    "        jw_color = 'orange'\n",
    "\n",
    "    una = utils.Unique(res['assoc'][test], verbose=False)\n",
    "    for a in una.values:\n",
    "        for f in res['footprint'][test][una[a]][0::2]:\n",
    "            sr = utils.SRegion(f)\n",
    "            ax.scatter(*sr.xy[0][0], alpha=0)\n",
    "            for p in sr.patch(fc=jw_color, ec='None', alpha=0.1):\n",
    "                ax.add_patch(p)\n",
    "        \n",
    "    figs[v] = fig\n",
    "    ax.set_title(v)\n",
    "    cosd = np.cos(ax.get_ylim()[0]/180*np.pi)\n",
    "    \n",
    "    ax.set_aspect(1./cosd)\n",
    "    ax.set_xlim(*ax.get_xlim()[::-1])\n",
    "    \n",
    "ftf = ['{field} {tile} {instrume} {filter}'.format(**row) for row in res]\n",
    "un = utils.Unique(ftf, verbose=False)\n",
    "\n",
    "ft = ['{field} {tile}'.format(**row) for row in res]\n",
    "unt = utils.Unique(ft, verbose=False)\n",
    "\n",
    "for v in unt.values:\n",
    "    sr = utils.SRegion(res['tile_footprint'][unt[v]][0])\n",
    "    for p in sr.patch(fc='b', ec='lightblue', alpha=0.1):\n",
    "        figs[v.split()[0]].axes[0].add_patch(p)\n",
    "        "
   ]
  },
  {
   "cell_type": "code",
   "execution_count": 7,
   "metadata": {},
   "outputs": [
    {
     "name": "stdout",
     "output_type": "stream",
     "text": [
      "   N  value     \n",
      "====  ==========\n",
      "   8  j072305m7327 09.09 NIRISS F200W-CLEAR\n",
      "   8  j072305m7327 08.10 NIRISS F200W-CLEAR\n",
      "   8  j072305m7327 08.10 NIRISS F115W-CLEAR\n",
      "   8  j072305m7327 08.09 NIRISS F115W-CLEAR\n",
      "   8  j072305m7327 08.09 NIRISS F200W-CLEAR\n",
      "   8  j072305m7327 09.10 NIRISS F200W-CLEAR\n",
      "   8  j072305m7327 09.10 NIRISS F115W-CLEAR\n",
      "   8  j072305m7327 09.09 NIRISS F115W-CLEAR\n",
      "   9  j072305m7327 10.09 NIRCAM F444W-CLEAR\n",
      "   9  j072305m7327 09.08 NIRCAM F444W-CLEAR\n",
      "   9  j072305m7327 09.08 NIRCAM F356W-CLEAR\n",
      "   9  j072305m7327 09.08 NIRCAM F277W-CLEAR\n",
      "   9  j072305m7327 08.10 NIRCAM F444W-CLEAR\n",
      "   9  j072305m7327 08.10 NIRCAM F356W-CLEAR\n",
      "   9  j072305m7327 08.10 NIRCAM F277W-CLEAR\n",
      "   9  j072305m7327 09.10 NIRCAM F356W-CLEAR\n",
      "   9  j072305m7327 09.10 NIRCAM F444W-CLEAR\n",
      "   9  j072305m7327 08.09 NIRCAM F444W-CLEAR\n",
      "   9  j072305m7327 08.09 NIRCAM F356W-CLEAR\n",
      "   9  j072305m7327 08.09 NIRCAM F277W-CLEAR\n",
      "   9  j072305m7327 10.08 NIRCAM F277W-CLEAR\n",
      "   9  j072305m7327 10.08 NIRCAM F356W-CLEAR\n",
      "   9  j072305m7327 10.08 NIRCAM F444W-CLEAR\n",
      "   9  j072305m7327 10.09 NIRCAM F277W-CLEAR\n",
      "   9  j072305m7327 09.10 NIRCAM F277W-CLEAR\n",
      "   9  j072305m7327 10.09 NIRCAM F356W-CLEAR\n",
      "  10  j072305m7327 09.10 MIRI F770W\n",
      "  10  j072305m7327 09.10 MIRI F1800W\n",
      "  10  j072305m7327 08.09 MIRI F1800W\n",
      "  10  j072305m7327 08.09 MIRI F770W\n",
      "  10  j072305m7327 09.09 MIRI F1800W\n",
      "  10  j072305m7327 08.10 MIRI F1800W\n",
      "  10  j072305m7327 08.10 MIRI F770W\n",
      "  10  j072305m7327 09.09 MIRI F770W\n",
      "  18  j072305m7327 08.10 NIRCAM F090W-CLEAR\n",
      "  18  j072305m7327 10.08 NIRCAM F200W-CLEAR\n",
      "  18  j072305m7327 10.08 NIRCAM F150W-CLEAR\n",
      "  18  j072305m7327 10.08 NIRCAM F090W-CLEAR\n",
      "  18  j072305m7327 08.10 NIRCAM F150W-CLEAR\n",
      "  18  j072305m7327 09.10 NIRCAM F200W-CLEAR\n",
      "  18  j072305m7327 08.10 NIRCAM F200W-CLEAR\n",
      "  18  j072305m7327 09.10 NIRCAM F090W-CLEAR\n",
      "  18  j072305m7327 09.08 NIRCAM F090W-CLEAR\n",
      "  18  j072305m7327 09.08 NIRCAM F150W-CLEAR\n",
      "  18  j072305m7327 09.08 NIRCAM F200W-CLEAR\n",
      "  18  j072305m7327 09.09 NIRCAM F444W-CLEAR\n",
      "  18  j072305m7327 09.09 NIRCAM F356W-CLEAR\n",
      "  18  j072305m7327 09.09 NIRCAM F277W-CLEAR\n",
      "  18  j072305m7327 09.10 NIRCAM F150W-CLEAR\n",
      "  29  j072305m7327 10.09 NIRCAM F150W-CLEAR\n",
      "  29  j072305m7327 10.09 NIRCAM F090W-CLEAR\n",
      "  30  j072305m7327 10.09 NIRCAM F200W-CLEAR\n",
      "  31  j072305m7327 08.09 NIRCAM F200W-CLEAR\n",
      "  31  j072305m7327 08.09 NIRCAM F150W-CLEAR\n",
      "  31  j072305m7327 08.09 NIRCAM F090W-CLEAR\n",
      "  72  j072305m7327 09.09 NIRCAM F150W-CLEAR\n",
      "  72  j072305m7327 09.09 NIRCAM F200W-CLEAR\n",
      "  72  j072305m7327 09.09 NIRCAM F090W-CLEAR\n"
     ]
    }
   ],
   "source": [
    "# Unique items\n",
    "gtf = ['{field} {tile} {instrume} {filter}'.format(**row) for row in grp]\n",
    "\n",
    "ftf = ['{field} {tile} {instrume} {filter}'.format(**row) for row in res]\n",
    "un = utils.Unique(ftf)"
   ]
  },
  {
   "cell_type": "markdown",
   "metadata": {},
   "source": [
    "# Update `combined_tile_filters` table"
   ]
  },
  {
   "cell_type": "code",
   "execution_count": 8,
   "metadata": {},
   "outputs": [
    {
     "data": {
      "text/html": [
       "<div><i>GTable length=58</i>\n",
       "<table id=\"table6054308208\" class=\"table-striped table-bordered table-condensed\">\n",
       "<thead><tr><th>field</th><th>tile</th><th>instrume</th><th>filter</th><th>modtime</th><th>status</th><th>ndrizim</th></tr></thead>\n",
       "<thead><tr><th>str12</th><th>str5</th><th>str6</th><th>str11</th><th>float64</th><th>int64</th><th>int64</th></tr></thead>\n",
       "<tr><td>j072305m7327</td><td>08.09</td><td>MIRI</td><td>F1800W</td><td>0.0</td><td>0</td><td>10</td></tr>\n",
       "<tr><td>j072305m7327</td><td>08.09</td><td>MIRI</td><td>F770W</td><td>0.0</td><td>0</td><td>10</td></tr>\n",
       "<tr><td>j072305m7327</td><td>08.09</td><td>NIRCAM</td><td>F090W-CLEAR</td><td>0.0</td><td>0</td><td>31</td></tr>\n",
       "<tr><td>j072305m7327</td><td>08.09</td><td>NIRCAM</td><td>F150W-CLEAR</td><td>0.0</td><td>0</td><td>31</td></tr>\n",
       "<tr><td>j072305m7327</td><td>08.09</td><td>NIRCAM</td><td>F200W-CLEAR</td><td>0.0</td><td>0</td><td>31</td></tr>\n",
       "<tr><td>j072305m7327</td><td>08.09</td><td>NIRCAM</td><td>F277W-CLEAR</td><td>0.0</td><td>0</td><td>9</td></tr>\n",
       "<tr><td>j072305m7327</td><td>08.09</td><td>NIRCAM</td><td>F356W-CLEAR</td><td>0.0</td><td>0</td><td>9</td></tr>\n",
       "<tr><td>j072305m7327</td><td>08.09</td><td>NIRCAM</td><td>F444W-CLEAR</td><td>0.0</td><td>0</td><td>9</td></tr>\n",
       "<tr><td>j072305m7327</td><td>08.09</td><td>NIRISS</td><td>F115W-CLEAR</td><td>0.0</td><td>0</td><td>8</td></tr>\n",
       "<tr><td>...</td><td>...</td><td>...</td><td>...</td><td>...</td><td>...</td><td>...</td></tr>\n",
       "<tr><td>j072305m7327</td><td>10.08</td><td>NIRCAM</td><td>F277W-CLEAR</td><td>0.0</td><td>0</td><td>9</td></tr>\n",
       "<tr><td>j072305m7327</td><td>10.08</td><td>NIRCAM</td><td>F356W-CLEAR</td><td>0.0</td><td>0</td><td>9</td></tr>\n",
       "<tr><td>j072305m7327</td><td>10.08</td><td>NIRCAM</td><td>F444W-CLEAR</td><td>0.0</td><td>0</td><td>9</td></tr>\n",
       "<tr><td>j072305m7327</td><td>10.09</td><td>NIRCAM</td><td>F090W-CLEAR</td><td>0.0</td><td>0</td><td>29</td></tr>\n",
       "<tr><td>j072305m7327</td><td>10.09</td><td>NIRCAM</td><td>F150W-CLEAR</td><td>0.0</td><td>0</td><td>29</td></tr>\n",
       "<tr><td>j072305m7327</td><td>10.09</td><td>NIRCAM</td><td>F200W-CLEAR</td><td>0.0</td><td>0</td><td>30</td></tr>\n",
       "<tr><td>j072305m7327</td><td>10.09</td><td>NIRCAM</td><td>F277W-CLEAR</td><td>0.0</td><td>0</td><td>9</td></tr>\n",
       "<tr><td>j072305m7327</td><td>10.09</td><td>NIRCAM</td><td>F356W-CLEAR</td><td>0.0</td><td>0</td><td>9</td></tr>\n",
       "<tr><td>j072305m7327</td><td>10.09</td><td>NIRCAM</td><td>F444W-CLEAR</td><td>0.0</td><td>0</td><td>9</td></tr>\n",
       "</table></div>"
      ],
      "text/plain": [
       "<GTable length=58>\n",
       "   field      tile instrume    filter   modtime status ndrizim\n",
       "   str12      str5   str6      str11    float64 int64   int64 \n",
       "------------ ----- -------- ----------- ------- ------ -------\n",
       "j072305m7327 08.09     MIRI      F1800W     0.0      0      10\n",
       "j072305m7327 08.09     MIRI       F770W     0.0      0      10\n",
       "j072305m7327 08.09   NIRCAM F090W-CLEAR     0.0      0      31\n",
       "j072305m7327 08.09   NIRCAM F150W-CLEAR     0.0      0      31\n",
       "j072305m7327 08.09   NIRCAM F200W-CLEAR     0.0      0      31\n",
       "j072305m7327 08.09   NIRCAM F277W-CLEAR     0.0      0       9\n",
       "j072305m7327 08.09   NIRCAM F356W-CLEAR     0.0      0       9\n",
       "j072305m7327 08.09   NIRCAM F444W-CLEAR     0.0      0       9\n",
       "j072305m7327 08.09   NIRISS F115W-CLEAR     0.0      0       8\n",
       "         ...   ...      ...         ...     ...    ...     ...\n",
       "j072305m7327 10.08   NIRCAM F277W-CLEAR     0.0      0       9\n",
       "j072305m7327 10.08   NIRCAM F356W-CLEAR     0.0      0       9\n",
       "j072305m7327 10.08   NIRCAM F444W-CLEAR     0.0      0       9\n",
       "j072305m7327 10.09   NIRCAM F090W-CLEAR     0.0      0      29\n",
       "j072305m7327 10.09   NIRCAM F150W-CLEAR     0.0      0      29\n",
       "j072305m7327 10.09   NIRCAM F200W-CLEAR     0.0      0      30\n",
       "j072305m7327 10.09   NIRCAM F277W-CLEAR     0.0      0       9\n",
       "j072305m7327 10.09   NIRCAM F356W-CLEAR     0.0      0       9\n",
       "j072305m7327 10.09   NIRCAM F444W-CLEAR     0.0      0       9"
      ]
     },
     "execution_count": 8,
     "metadata": {},
     "output_type": "execute_result"
    }
   ],
   "source": [
    "rows = [v.split() for v in un.values]\n",
    "\n",
    "tab = utils.GTable(names=['field','tile','instrume','filter'], rows=rows)\n",
    "tab['modtime'] = 0.\n",
    "tab['status'] = 0\n",
    "\n",
    "tab['ndrizim'] = [grp['ndrizim'][gtf.index(v)] for v in un.values]\n",
    "    \n",
    "tab"
   ]
  },
  {
   "cell_type": "code",
   "execution_count": 9,
   "metadata": {},
   "outputs": [
    {
     "name": "stdout",
     "output_type": "stream",
     "text": [
      "ntot: 58  old: 54  new: 4\n"
     ]
    }
   ],
   "source": [
    "exist = db.SQL(\"\"\"select * from combined_tiles_filters\"\"\")\n",
    "exist_ftf = ['{field} {tile} {instrume} {filter}'.format(**row) for row in exist]\n",
    "\n",
    "new_ftf = ['{field} {tile} {instrume} {filter}'.format(**row) for row in tab]\n",
    "\n",
    "old = np.in1d(new_ftf, exist_ftf)\n",
    "new = ~old\n",
    "print(f'ntot: {len(old)}  old: {old.sum()}  new: {(new).sum()}')"
   ]
  },
  {
   "cell_type": "code",
   "execution_count": 10,
   "metadata": {},
   "outputs": [
    {
     "name": "stdout",
     "output_type": "stream",
     "text": [
      "OK # j072305m7327 08.09 MIRI F770W 10 -> 10\n",
      "OK # j072305m7327 08.09 NIRCAM F090W-CLEAR 31 -> 31\n",
      "OK # j072305m7327 08.09 NIRCAM F150W-CLEAR 31 -> 31\n",
      "OK # j072305m7327 08.09 NIRCAM F200W-CLEAR 31 -> 31\n",
      "OK # j072305m7327 08.09 NIRCAM F277W-CLEAR 9 -> 9\n",
      "OK # j072305m7327 08.09 NIRCAM F356W-CLEAR 9 -> 9\n",
      "OK # j072305m7327 08.09 NIRCAM F444W-CLEAR 9 -> 9\n",
      "OK # j072305m7327 08.09 NIRISS F115W-CLEAR 8 -> 8\n",
      "OK # j072305m7327 08.09 NIRISS F200W-CLEAR 8 -> 8\n",
      "OK # j072305m7327 08.10 MIRI F770W 10 -> 10\n",
      "OK # j072305m7327 08.10 NIRCAM F090W-CLEAR 18 -> 18\n",
      "OK # j072305m7327 08.10 NIRCAM F150W-CLEAR 18 -> 18\n",
      "OK # j072305m7327 08.10 NIRCAM F200W-CLEAR 18 -> 18\n",
      "OK # j072305m7327 08.10 NIRCAM F277W-CLEAR 9 -> 9\n",
      "OK # j072305m7327 08.10 NIRCAM F356W-CLEAR 9 -> 9\n",
      "OK # j072305m7327 08.10 NIRCAM F444W-CLEAR 9 -> 9\n",
      "OK # j072305m7327 08.10 NIRISS F115W-CLEAR 8 -> 8\n",
      "OK # j072305m7327 08.10 NIRISS F200W-CLEAR 8 -> 8\n",
      "OK # j072305m7327 09.08 NIRCAM F090W-CLEAR 18 -> 18\n",
      "OK # j072305m7327 09.08 NIRCAM F150W-CLEAR 18 -> 18\n",
      "OK # j072305m7327 09.08 NIRCAM F200W-CLEAR 18 -> 18\n",
      "OK # j072305m7327 09.08 NIRCAM F277W-CLEAR 9 -> 9\n",
      "OK # j072305m7327 09.08 NIRCAM F356W-CLEAR 9 -> 9\n",
      "OK # j072305m7327 09.08 NIRCAM F444W-CLEAR 9 -> 9\n",
      "OK # j072305m7327 09.09 MIRI F770W 10 -> 10\n",
      "OK # j072305m7327 09.09 NIRCAM F090W-CLEAR 72 -> 72\n",
      "OK # j072305m7327 09.09 NIRCAM F150W-CLEAR 72 -> 72\n",
      "OK # j072305m7327 09.09 NIRCAM F200W-CLEAR 72 -> 72\n",
      "OK # j072305m7327 09.09 NIRCAM F277W-CLEAR 18 -> 18\n",
      "OK # j072305m7327 09.09 NIRCAM F356W-CLEAR 18 -> 18\n",
      "OK # j072305m7327 09.09 NIRCAM F444W-CLEAR 18 -> 18\n",
      "OK # j072305m7327 09.09 NIRISS F115W-CLEAR 8 -> 8\n",
      "OK # j072305m7327 09.09 NIRISS F200W-CLEAR 8 -> 8\n",
      "OK # j072305m7327 09.10 MIRI F770W 10 -> 10\n",
      "OK # j072305m7327 09.10 NIRCAM F090W-CLEAR 18 -> 18\n",
      "OK # j072305m7327 09.10 NIRCAM F150W-CLEAR 18 -> 18\n",
      "OK # j072305m7327 09.10 NIRCAM F200W-CLEAR 18 -> 18\n",
      "OK # j072305m7327 09.10 NIRCAM F277W-CLEAR 9 -> 9\n",
      "OK # j072305m7327 09.10 NIRCAM F356W-CLEAR 9 -> 9\n",
      "OK # j072305m7327 09.10 NIRCAM F444W-CLEAR 9 -> 9\n",
      "OK # j072305m7327 09.10 NIRISS F115W-CLEAR 8 -> 8\n",
      "OK # j072305m7327 09.10 NIRISS F200W-CLEAR 8 -> 8\n",
      "OK # j072305m7327 10.08 NIRCAM F090W-CLEAR 18 -> 18\n",
      "OK # j072305m7327 10.08 NIRCAM F150W-CLEAR 18 -> 18\n",
      "OK # j072305m7327 10.08 NIRCAM F200W-CLEAR 18 -> 18\n",
      "OK # j072305m7327 10.08 NIRCAM F277W-CLEAR 9 -> 9\n",
      "OK # j072305m7327 10.08 NIRCAM F356W-CLEAR 9 -> 9\n",
      "OK # j072305m7327 10.08 NIRCAM F444W-CLEAR 9 -> 9\n",
      "OK # j072305m7327 10.09 NIRCAM F090W-CLEAR 29 -> 29\n",
      "OK # j072305m7327 10.09 NIRCAM F150W-CLEAR 29 -> 29\n",
      "OK # j072305m7327 10.09 NIRCAM F200W-CLEAR 30 -> 30\n",
      "OK # j072305m7327 10.09 NIRCAM F277W-CLEAR 9 -> 9\n",
      "OK # j072305m7327 10.09 NIRCAM F356W-CLEAR 9 -> 9\n",
      "OK # j072305m7327 10.09 NIRCAM F444W-CLEAR 9 -> 9\n"
     ]
    }
   ],
   "source": [
    "# Update rows with more exposures now than before\n",
    "if old.sum() > 0:\n",
    "    \n",
    "    for i in np.where(old)[0]:\n",
    "        new_n = tab['ndrizim'][i]\n",
    "        j = exist_ftf.index(new_ftf[i])\n",
    "        old_n = exist['ndrizim'][j]\n",
    "        cmds = ''\n",
    "        if new_n != old_n:\n",
    "            print(f'\\n# {new_ftf[i]} {old_n} -> {new_n}')\n",
    "            cmd = \"\"\"update combined_tiles_filters\n",
    "            set status=0, ndrizim={ndrizim}\n",
    "            where field='{field}' AND tile='{tile}' AND instrume='{instrume}' AND filter= '{filter}';\"\"\".format(**tab[i])\n",
    "            print(cmd)\n",
    "\n",
    "            if 1:\n",
    "                db.execute(cmd)\n",
    "                \n",
    "        else:\n",
    "            print(f'OK # {new_ftf[i]} {old_n} -> {new_n}')\n",
    "\n",
    "        # cmds += cmd\n",
    "    \n"
   ]
  },
  {
   "cell_type": "code",
   "execution_count": 11,
   "metadata": {},
   "outputs": [
    {
     "name": "stdout",
     "output_type": "stream",
     "text": [
      "send 4 new tiles\n"
     ]
    }
   ],
   "source": [
    "# Send *new* tiles\n",
    "\n",
    "if (new).sum() > 0:\n",
    "    print(f'send {new.sum()} new tiles')\n",
    "    db.send_to_database('combined_tiles_filters', tab[new], if_exists='append')\n",
    "else:\n",
    "    print('No new tiles')"
   ]
  },
  {
   "cell_type": "markdown",
   "metadata": {},
   "source": [
    "# Query `combined_tiles_filters` by status\n",
    "\n",
    "`combined_tiles_filters.status`\n",
    "- **0** : to be run\n",
    "- **1** : in process\n",
    "- **2** : completed"
   ]
  },
  {
   "cell_type": "code",
   "execution_count": 13,
   "metadata": {},
   "outputs": [
    {
     "data": {
      "text/html": [
       "<div><i>GTable length=2</i>\n",
       "<table id=\"table6052099456\" class=\"table-striped table-bordered table-condensed\">\n",
       "<thead><tr><th>status</th><th>count</th></tr></thead>\n",
       "<thead><tr><th>int64</th><th>int64</th></tr></thead>\n",
       "<tr><td>2</td><td>3562</td></tr>\n",
       "<tr><td>10</td><td>3</td></tr>\n",
       "</table></div>"
      ],
      "text/plain": [
       "<GTable length=2>\n",
       "status count\n",
       "int64  int64\n",
       "------ -----\n",
       "     2  3562\n",
       "    10     3"
      ]
     },
     "execution_count": 13,
     "metadata": {},
     "output_type": "execute_result"
    }
   ],
   "source": [
    "# Query by status\n",
    "db.SQL(\"\"\"select status, count(status) from combined_tiles_filters\n",
    "group by status order by max(status)\"\"\")"
   ]
  },
  {
   "cell_type": "markdown",
   "metadata": {},
   "source": [
    "# How many to run?"
   ]
  },
  {
   "cell_type": "code",
   "execution_count": 14,
   "metadata": {},
   "outputs": [
    {
     "data": {
      "text/plain": [
       "0"
      ]
     },
     "execution_count": 14,
     "metadata": {},
     "output_type": "execute_result"
    }
   ],
   "source": [
    "tile = db.SQL(\"\"\"SELECT tile, field, filter\n",
    "              FROM combined_tiles_filters\n",
    "              WHERE status = 0\n",
    "              GROUP BY tile, field, filter\"\"\")\n",
    "len(tile)"
   ]
  },
  {
   "cell_type": "markdown",
   "metadata": {},
   "source": [
    "# Launch EC2 instances to drizzle the tiles_filters"
   ]
  },
  {
   "cell_type": "code",
   "execution_count": 15,
   "metadata": {},
   "outputs": [],
   "source": [
    "import os\n",
    "\n",
    "def launch_ec2_instances(nmax=50, count=None, filter_tiles=True, templ='lt-0e8c2b8611c9029eb,Version=32'):\n",
    "    \"\"\"\n",
    "    Launch EC2 instances from a launch template that run through all \n",
    "    status=0 associations/tiles and then terminate\n",
    "    \n",
    "    Version 19 is the latest run_all_visits.sh\n",
    "    Version 20 is the latest run_all_tiles.sh\n",
    "    Version 24 is run_all_visits with a new python39 environment\n",
    "    \n",
    "    Version 25 is run_all_tile_filters.sh with a new python39 environment\n",
    "    Version 31 is run_all_tile_filters.sh with a new python39 environment and ImageMagick requirement\n",
    "    Version 32 is run_all_tile_filters.sh with a new python39 environment and ImageMagick requirement - fix bug\n",
    "    \n",
    "    Version 34 is run_all_tiles copied from 32\n",
    "    Version 35 is run_all_tiles copied from 32, with golfir needed for catalog\n",
    "\n",
    "    \"\"\"\n",
    "\n",
    "    if count is None:\n",
    "        if filter_tiles:\n",
    "            assoc = db.SQL(\"\"\"SELECT tile, field, filter\n",
    "                      FROM combined_tiles_filters\n",
    "                      WHERE status = 0\n",
    "                      GROUP BY tile, field, filter\"\"\")\n",
    "        else:\n",
    "            templ='lt-0e8c2b8611c9029eb,Version=35'\n",
    "            \n",
    "            assoc = db.SQL(\"\"\"SELECT tile, field\n",
    "                      FROM combined_tiles\n",
    "                      WHERE status = 0\n",
    "                      GROUP BY tile, field\"\"\")\n",
    "            \n",
    "        count = int(np.minimum(nmax, len(assoc)/2))\n",
    "\n",
    "    if count == 0:\n",
    "        print('No associations to run, abort.')\n",
    "        return True\n",
    "    else:\n",
    "        print(f'# {len(assoc)} tiles to run')\n",
    "        print(f'# Launch {count} instances with LaunchTemplateId={templ}: ')\n",
    "        cmd = f'aws ec2 run-instances --count {count}'\n",
    "        cmd += f' --launch-template LaunchTemplateId={templ}'\n",
    "        print(cmd)\n",
    "        \n",
    "        if templ is not None:\n",
    "            os.system(cmd)"
   ]
  },
  {
   "cell_type": "code",
   "execution_count": 16,
   "metadata": {},
   "outputs": [
    {
     "name": "stdout",
     "output_type": "stream",
     "text": [
      "Don't launch....\n"
     ]
    }
   ],
   "source": [
    "# switch to `if (1) ... ` to run\n",
    "\n",
    "if (0) & (len(tile) > 0):\n",
    "    launch_ec2_instances(nmax=80)\n",
    "else:\n",
    "    print(\"Don't launch....\")"
   ]
  },
  {
   "cell_type": "code",
   "execution_count": 17,
   "metadata": {},
   "outputs": [
    {
     "data": {
      "text/html": [
       "<div><i>GTable length=2</i>\n",
       "<table id=\"table6054307920\" class=\"table-striped table-bordered table-condensed\">\n",
       "<thead><tr><th>status</th><th>count</th></tr></thead>\n",
       "<thead><tr><th>int64</th><th>int64</th></tr></thead>\n",
       "<tr><td>2</td><td>3562</td></tr>\n",
       "<tr><td>10</td><td>3</td></tr>\n",
       "</table></div>"
      ],
      "text/plain": [
       "<GTable length=2>\n",
       "status count\n",
       "int64  int64\n",
       "------ -----\n",
       "     2  3562\n",
       "    10     3"
      ]
     },
     "execution_count": 17,
     "metadata": {},
     "output_type": "execute_result"
    }
   ],
   "source": [
    "## Monitor status - should see some change from 0 -> 1 -> 2, and eventually all 2 (or 10)\n",
    "\n",
    "db.SQL(\"\"\"select status, count(status) from combined_tiles_filters\n",
    "group by status order by max(status)\"\"\")"
   ]
  },
  {
   "cell_type": "code",
   "execution_count": 18,
   "metadata": {},
   "outputs": [
    {
     "data": {
      "text/html": [
       "<div><i>GTable length=2</i>\n",
       "<table id=\"table6049373872\" class=\"table-striped table-bordered table-condensed\">\n",
       "<thead><tr><th>status</th><th>count</th></tr></thead>\n",
       "<thead><tr><th>int64</th><th>int64</th></tr></thead>\n",
       "<tr><td>2</td><td>3562</td></tr>\n",
       "<tr><td>10</td><td>3</td></tr>\n",
       "</table></div>"
      ],
      "text/plain": [
       "<GTable length=2>\n",
       "status count\n",
       "int64  int64\n",
       "------ -----\n",
       "     2  3562\n",
       "    10     3"
      ]
     },
     "execution_count": 18,
     "metadata": {},
     "output_type": "execute_result"
    }
   ],
   "source": [
    "db.SQL(\"\"\"select status, count(status) from combined_tiles_filters\n",
    "group by status order by max(status)\"\"\")"
   ]
  },
  {
   "cell_type": "markdown",
   "metadata": {},
   "source": [
    "## Once tiles done by filter, run the combined RGB tiles\n",
    "\n",
    "`combined_tiles.status`\n",
    "\n",
    "- **0** : To be run\n",
    "- **1** : In process\n",
    "- **2** : Completed\n",
    "- **3** : The tile has been updated and should be set to zero and run\n",
    "- **4** : Failed, probably because no overlapping exposures so is fine"
   ]
  },
  {
   "cell_type": "code",
   "execution_count": 19,
   "metadata": {},
   "outputs": [
    {
     "data": {
      "text/html": [
       "<div><i>GTable length=6</i>\n",
       "<table id=\"table6054306672\" class=\"table-striped table-bordered table-condensed\">\n",
       "<thead><tr><th>status</th><th>count</th></tr></thead>\n",
       "<thead><tr><th>int64</th><th>int64</th></tr></thead>\n",
       "<tr><td>1</td><td>16</td></tr>\n",
       "<tr><td>2</td><td>1249</td></tr>\n",
       "<tr><td>3</td><td>4</td></tr>\n",
       "<tr><td>4</td><td>2072</td></tr>\n",
       "<tr><td>10</td><td>34</td></tr>\n",
       "<tr><td>90</td><td>7772</td></tr>\n",
       "</table></div>"
      ],
      "text/plain": [
       "<GTable length=6>\n",
       "status count\n",
       "int64  int64\n",
       "------ -----\n",
       "     1    16\n",
       "     2  1249\n",
       "     3     4\n",
       "     4  2072\n",
       "    10    34\n",
       "    90  7772"
      ]
     },
     "execution_count": 19,
     "metadata": {},
     "output_type": "execute_result"
    }
   ],
   "source": [
    "db.SQL(\"\"\"select status, count(status) from combined_tiles\n",
    "group by status order by status\"\"\")"
   ]
  },
  {
   "cell_type": "code",
   "execution_count": 54,
   "metadata": {},
   "outputs": [
    {
     "data": {
      "text/html": [
       "<div><i>GTable length=6</i>\n",
       "<table id=\"table5587806144\" class=\"table-striped table-bordered table-condensed\">\n",
       "<thead><tr><th>status</th><th>count</th></tr></thead>\n",
       "<thead><tr><th>int64</th><th>int64</th></tr></thead>\n",
       "<tr><td>1</td><td>16</td></tr>\n",
       "<tr><td>2</td><td>1233</td></tr>\n",
       "<tr><td>3</td><td>20</td></tr>\n",
       "<tr><td>4</td><td>2072</td></tr>\n",
       "<tr><td>10</td><td>34</td></tr>\n",
       "<tr><td>90</td><td>7772</td></tr>\n",
       "</table></div>"
      ],
      "text/plain": [
       "<GTable length=6>\n",
       "status count\n",
       "int64  int64\n",
       "------ -----\n",
       "     1    16\n",
       "     2  1233\n",
       "     3    20\n",
       "     4  2072\n",
       "    10    34\n",
       "    90  7772"
      ]
     },
     "execution_count": 54,
     "metadata": {},
     "output_type": "execute_result"
    }
   ],
   "source": [
    "db.SQL(\"\"\"select status, count(status) from combined_tiles\n",
    "group by status order by status\"\"\")\n"
   ]
  },
  {
   "cell_type": "markdown",
   "metadata": {},
   "source": [
    "## Change `combined_tiles` status = 3 to 0 and launch EC2 with `run_all_tiles`"
   ]
  },
  {
   "cell_type": "code",
   "execution_count": 55,
   "metadata": {},
   "outputs": [
    {
     "name": "stdout",
     "output_type": "stream",
     "text": [
      "   N  value     \n",
      "====  ==========\n",
      "  20  abell2744 \n",
      "# 20 tiles to run\n",
      "# Launch 10 instances with LaunchTemplateId=lt-0e8c2b8611c9029eb,Version=35: \n",
      "aws ec2 run-instances --count 10 --launch-template LaunchTemplateId=lt-0e8c2b8611c9029eb,Version=35\n",
      "598781256208\tr-0aa67c09bbda84b76\n",
      "INSTANCES\t2\tx86_64\t9033feda-b53e-4fef-ace0-9ae42206c777\tFalse\tTrue\txen\tami-0251162c8d60c856f\ti-037e9f262264f5393\tspot\tc5d.large\tMBP-nbi-group\t2023-07-17T10:01:37.000Z\tip-172-31-29-3.ec2.internal\t172.31.29.3\t\t/dev/xvda\tebs\tTrue\tsir-xifpn27g\t\tsubnet-33abf779\thvm\tvpc-29da0253\n",
      "CAPACITYRESERVATIONSPECIFICATION\topen\n",
      "CPUOPTIONS\t1\t2\n",
      "ENCLAVEOPTIONS\tFalse\n",
      "IAMINSTANCEPROFILE\tarn:aws:iam::598781256208:instance-profile/Full_S3_Lambda_RDS\tAIPAYW2RE4IIKOHDULIBX\n",
      "MAINTENANCEOPTIONS\tdefault\n",
      "METADATAOPTIONS\tenabled\tdisabled\t1\toptional\tdisabled\tpending\n",
      "MONITORING\tdisabled\n",
      "NETWORKINTERFACES\t\tinterface\t0a:c4:a7:77:1d:3f\teni-0abc0b19142d4a579\t598781256208\tip-172-31-29-3.ec2.internal\t172.31.29.3\tTrue\tin-use\tsubnet-33abf779\tvpc-29da0253\n",
      "ATTACHMENT\t2023-07-17T10:01:37.000Z\teni-attach-0a766219cc09450b1\tTrue\t0\t0\tattaching\n",
      "GROUPS\tsg-abc4c7e4\tdefault\n",
      "GROUPS\tsg-02ed161c0d14d658f\tcopy-instance-sg-1\n",
      "PRIVATEIPADDRESSES\tTrue\tip-172-31-29-3.ec2.internal\t172.31.29.3\n",
      "PLACEMENT\tus-east-1d\t\tdefault\n",
      "PRIVATEDNSNAMEOPTIONS\tFalse\tFalse\tip-name\n",
      "SECURITYGROUPS\tsg-abc4c7e4\tdefault\n",
      "SECURITYGROUPS\tsg-02ed161c0d14d658f\tcopy-instance-sg-1\n",
      "STATE\t0\tpending\n",
      "STATEREASON\tpending\tpending\n",
      "TAGS\taws:ec2launchtemplate:id\tlt-0e8c2b8611c9029eb\n",
      "TAGS\taws:ec2launchtemplate:version\t35\n",
      "TAGS\tName\ttile-worker39\n",
      "INSTANCES\t1\tx86_64\t9033feda-b53e-4fef-ace0-9ae42206c777\tFalse\tTrue\txen\tami-0251162c8d60c856f\ti-0a5e08e5a49d7da79\tspot\tc5d.large\tMBP-nbi-group\t2023-07-17T10:01:37.000Z\tip-172-31-29-178.ec2.internal\t172.31.29.178\t\t/dev/xvda\tebs\tTrue\tsir-211ymskk\t\tsubnet-33abf779\thvm\tvpc-29da0253\n",
      "CAPACITYRESERVATIONSPECIFICATION\topen\n",
      "CPUOPTIONS\t1\t2\n",
      "ENCLAVEOPTIONS\tFalse\n",
      "IAMINSTANCEPROFILE\tarn:aws:iam::598781256208:instance-profile/Full_S3_Lambda_RDS\tAIPAYW2RE4IIKOHDULIBX\n",
      "MAINTENANCEOPTIONS\tdefault\n",
      "METADATAOPTIONS\tenabled\tdisabled\t1\toptional\tdisabled\tpending\n",
      "MONITORING\tdisabled\n",
      "NETWORKINTERFACES\t\tinterface\t0a:7c:e4:00:6f:31\teni-0b7402effef785358\t598781256208\tip-172-31-29-178.ec2.internal\t172.31.29.178\tTrue\tin-use\tsubnet-33abf779\tvpc-29da0253\n",
      "ATTACHMENT\t2023-07-17T10:01:37.000Z\teni-attach-0ab264fc1c581102d\tTrue\t0\t0\tattaching\n",
      "GROUPS\tsg-abc4c7e4\tdefault\n",
      "GROUPS\tsg-02ed161c0d14d658f\tcopy-instance-sg-1\n",
      "PRIVATEIPADDRESSES\tTrue\tip-172-31-29-178.ec2.internal\t172.31.29.178\n",
      "PLACEMENT\tus-east-1d\t\tdefault\n",
      "PRIVATEDNSNAMEOPTIONS\tFalse\tFalse\tip-name\n",
      "SECURITYGROUPS\tsg-abc4c7e4\tdefault\n",
      "SECURITYGROUPS\tsg-02ed161c0d14d658f\tcopy-instance-sg-1\n",
      "STATE\t0\tpending\n",
      "STATEREASON\tpending\tpending\n",
      "TAGS\taws:ec2launchtemplate:id\tlt-0e8c2b8611c9029eb\n",
      "TAGS\tName\ttile-worker39\n",
      "TAGS\taws:ec2launchtemplate:version\t35\n",
      "INSTANCES\t4\tx86_64\t9033feda-b53e-4fef-ace0-9ae42206c777\tFalse\tTrue\txen\tami-0251162c8d60c856f\ti-0912ce814b0cea7a0\tspot\tc5d.large\tMBP-nbi-group\t2023-07-17T10:01:37.000Z\tip-172-31-29-102.ec2.internal\t172.31.29.102\t\t/dev/xvda\tebs\tTrue\tsir-71mym7yh\t\tsubnet-33abf779\thvm\tvpc-29da0253\n",
      "CAPACITYRESERVATIONSPECIFICATION\topen\n",
      "CPUOPTIONS\t1\t2\n",
      "ENCLAVEOPTIONS\tFalse\n",
      "IAMINSTANCEPROFILE\tarn:aws:iam::598781256208:instance-profile/Full_S3_Lambda_RDS\tAIPAYW2RE4IIKOHDULIBX\n",
      "MAINTENANCEOPTIONS\tdefault\n",
      "METADATAOPTIONS\tenabled\tdisabled\t1\toptional\tdisabled\tpending\n",
      "MONITORING\tdisabled\n",
      "NETWORKINTERFACES\t\tinterface\t0a:20:83:17:24:ff\teni-011611c7e84ae12b7\t598781256208\tip-172-31-29-102.ec2.internal\t172.31.29.102\tTrue\tin-use\tsubnet-33abf779\tvpc-29da0253\n",
      "ATTACHMENT\t2023-07-17T10:01:37.000Z\teni-attach-00d6e2a15eee2b726\tTrue\t0\t0\tattaching\n",
      "GROUPS\tsg-abc4c7e4\tdefault\n",
      "GROUPS\tsg-02ed161c0d14d658f\tcopy-instance-sg-1\n",
      "PRIVATEIPADDRESSES\tTrue\tip-172-31-29-102.ec2.internal\t172.31.29.102\n",
      "PLACEMENT\tus-east-1d\t\tdefault\n",
      "PRIVATEDNSNAMEOPTIONS\tFalse\tFalse\tip-name\n",
      "SECURITYGROUPS\tsg-abc4c7e4\tdefault\n",
      "SECURITYGROUPS\tsg-02ed161c0d14d658f\tcopy-instance-sg-1\n",
      "STATE\t0\tpending\n",
      "STATEREASON\tpending\tpending\n",
      "TAGS\taws:ec2launchtemplate:version\t35\n",
      "TAGS\taws:ec2launchtemplate:id\tlt-0e8c2b8611c9029eb\n",
      "TAGS\tName\ttile-worker39\n",
      "INSTANCES\t3\tx86_64\t9033feda-b53e-4fef-ace0-9ae42206c777\tFalse\tTrue\txen\tami-0251162c8d60c856f\ti-0ed4ad4c92ad6c46c\tspot\tc5d.large\tMBP-nbi-group\t2023-07-17T10:01:37.000Z\tip-172-31-16-196.ec2.internal\t172.31.16.196\t\t/dev/xvda\tebs\tTrue\tsir-9196m73k\t\tsubnet-33abf779\thvm\tvpc-29da0253\n",
      "CAPACITYRESERVATIONSPECIFICATION\topen\n",
      "CPUOPTIONS\t1\t2\n",
      "ENCLAVEOPTIONS\tFalse\n",
      "IAMINSTANCEPROFILE\tarn:aws:iam::598781256208:instance-profile/Full_S3_Lambda_RDS\tAIPAYW2RE4IIKOHDULIBX\n",
      "MAINTENANCEOPTIONS\tdefault\n",
      "METADATAOPTIONS\tenabled\tdisabled\t1\toptional\tdisabled\tpending\n",
      "MONITORING\tdisabled\n",
      "NETWORKINTERFACES\t\tinterface\t0a:74:99:7e:85:01\teni-019133794eebb37a8\t598781256208\tip-172-31-16-196.ec2.internal\t172.31.16.196\tTrue\tin-use\tsubnet-33abf779\tvpc-29da0253\n",
      "ATTACHMENT\t2023-07-17T10:01:37.000Z\teni-attach-0a4b8f7e0a463efbe\tTrue\t0\t0\tattaching\n",
      "GROUPS\tsg-abc4c7e4\tdefault\n",
      "GROUPS\tsg-02ed161c0d14d658f\tcopy-instance-sg-1\n",
      "PRIVATEIPADDRESSES\tTrue\tip-172-31-16-196.ec2.internal\t172.31.16.196\n",
      "PLACEMENT\tus-east-1d\t\tdefault\n",
      "PRIVATEDNSNAMEOPTIONS\tFalse\tFalse\tip-name\n",
      "SECURITYGROUPS\tsg-abc4c7e4\tdefault\n",
      "SECURITYGROUPS\tsg-02ed161c0d14d658f\tcopy-instance-sg-1\n",
      "STATE\t0\tpending\n",
      "STATEREASON\tpending\tpending\n",
      "TAGS\tName\ttile-worker39\n",
      "TAGS\taws:ec2launchtemplate:version\t35\n",
      "TAGS\taws:ec2launchtemplate:id\tlt-0e8c2b8611c9029eb\n",
      "INSTANCES\t9\tx86_64\t9033feda-b53e-4fef-ace0-9ae42206c777\tFalse\tTrue\txen\tami-0251162c8d60c856f\ti-0b20d72a640d5cb6a\tspot\tc5d.large\tMBP-nbi-group\t2023-07-17T10:01:37.000Z\tip-172-31-23-127.ec2.internal\t172.31.23.127\t\t/dev/xvda\tebs\tTrue\tsir-cgx6pyzg\t\tsubnet-33abf779\thvm\tvpc-29da0253\n",
      "CAPACITYRESERVATIONSPECIFICATION\topen\n",
      "CPUOPTIONS\t1\t2\n",
      "ENCLAVEOPTIONS\tFalse\n",
      "IAMINSTANCEPROFILE\tarn:aws:iam::598781256208:instance-profile/Full_S3_Lambda_RDS\tAIPAYW2RE4IIKOHDULIBX\n",
      "MAINTENANCEOPTIONS\tdefault\n",
      "METADATAOPTIONS\tenabled\tdisabled\t1\toptional\tdisabled\tpending\n",
      "MONITORING\tdisabled\n",
      "NETWORKINTERFACES\t\tinterface\t0a:29:65:79:ab:51\teni-02b1b3825dbd65080\t598781256208\tip-172-31-23-127.ec2.internal\t172.31.23.127\tTrue\tin-use\tsubnet-33abf779\tvpc-29da0253\n",
      "ATTACHMENT\t2023-07-17T10:01:37.000Z\teni-attach-0f0f4073ae9371402\tTrue\t0\t0\tattaching\n",
      "GROUPS\tsg-abc4c7e4\tdefault\n",
      "GROUPS\tsg-02ed161c0d14d658f\tcopy-instance-sg-1\n",
      "PRIVATEIPADDRESSES\tTrue\tip-172-31-23-127.ec2.internal\t172.31.23.127\n",
      "PLACEMENT\tus-east-1d\t\tdefault\n",
      "PRIVATEDNSNAMEOPTIONS\tFalse\tFalse\tip-name\n",
      "SECURITYGROUPS\tsg-abc4c7e4\tdefault\n",
      "SECURITYGROUPS\tsg-02ed161c0d14d658f\tcopy-instance-sg-1\n",
      "STATE\t0\tpending\n",
      "STATEREASON\tpending\tpending\n",
      "TAGS\tName\ttile-worker39\n",
      "TAGS\taws:ec2launchtemplate:id\tlt-0e8c2b8611c9029eb\n",
      "TAGS\taws:ec2launchtemplate:version\t35\n",
      "INSTANCES\t8\tx86_64\t9033feda-b53e-4fef-ace0-9ae42206c777\tFalse\tTrue\txen\tami-0251162c8d60c856f\ti-0be9df8f7c3be8f65\tspot\tc5d.large\tMBP-nbi-group\t2023-07-17T10:01:37.000Z\tip-172-31-17-47.ec2.internal\t172.31.17.47\t\t/dev/xvda\tebs\tTrue\tsir-j7yypd4g\t\tsubnet-33abf779\thvm\tvpc-29da0253\n",
      "CAPACITYRESERVATIONSPECIFICATION\topen\n",
      "CPUOPTIONS\t1\t2\n",
      "ENCLAVEOPTIONS\tFalse\n",
      "IAMINSTANCEPROFILE\tarn:aws:iam::598781256208:instance-profile/Full_S3_Lambda_RDS\tAIPAYW2RE4IIKOHDULIBX\n",
      "MAINTENANCEOPTIONS\tdefault\n",
      "METADATAOPTIONS\tenabled\tdisabled\t1\toptional\tdisabled\tpending\n",
      "MONITORING\tdisabled\n",
      "NETWORKINTERFACES\t\tinterface\t0a:f8:d3:66:98:7d\teni-0e5d0c0c2e13966f1\t598781256208\tip-172-31-17-47.ec2.internal\t172.31.17.47\tTrue\tin-use\tsubnet-33abf779\tvpc-29da0253\n",
      "ATTACHMENT\t2023-07-17T10:01:37.000Z\teni-attach-0a557f139e53bb954\tTrue\t0\t0\tattaching\n",
      "GROUPS\tsg-abc4c7e4\tdefault\n",
      "GROUPS\tsg-02ed161c0d14d658f\tcopy-instance-sg-1\n",
      "PRIVATEIPADDRESSES\tTrue\tip-172-31-17-47.ec2.internal\t172.31.17.47\n",
      "PLACEMENT\tus-east-1d\t\tdefault\n",
      "PRIVATEDNSNAMEOPTIONS\tFalse\tFalse\tip-name\n",
      "SECURITYGROUPS\tsg-abc4c7e4\tdefault\n",
      "SECURITYGROUPS\tsg-02ed161c0d14d658f\tcopy-instance-sg-1\n",
      "STATE\t0\tpending\n",
      "STATEREASON\tpending\tpending\n",
      "TAGS\taws:ec2launchtemplate:id\tlt-0e8c2b8611c9029eb\n",
      "TAGS\taws:ec2launchtemplate:version\t35\n",
      "TAGS\tName\ttile-worker39\n",
      "INSTANCES\t0\tx86_64\t9033feda-b53e-4fef-ace0-9ae42206c777\tFalse\tTrue\txen\tami-0251162c8d60c856f\ti-0c4c89e30c0d35a94\tspot\tc5d.large\tMBP-nbi-group\t2023-07-17T10:01:37.000Z\tip-172-31-30-112.ec2.internal\t172.31.30.112\t\t/dev/xvda\tebs\tTrue\tsir-gidynekh\t\tsubnet-33abf779\thvm\tvpc-29da0253\n",
      "CAPACITYRESERVATIONSPECIFICATION\topen\n",
      "CPUOPTIONS\t1\t2\n",
      "ENCLAVEOPTIONS\tFalse\n",
      "IAMINSTANCEPROFILE\tarn:aws:iam::598781256208:instance-profile/Full_S3_Lambda_RDS\tAIPAYW2RE4IIKOHDULIBX\n",
      "MAINTENANCEOPTIONS\tdefault\n",
      "METADATAOPTIONS\tenabled\tdisabled\t1\toptional\tdisabled\tpending\n",
      "MONITORING\tdisabled\n",
      "NETWORKINTERFACES\t\tinterface\t0a:11:11:48:e1:17\teni-0d3a62ab89a566e9a\t598781256208\tip-172-31-30-112.ec2.internal\t172.31.30.112\tTrue\tin-use\tsubnet-33abf779\tvpc-29da0253\n",
      "ATTACHMENT\t2023-07-17T10:01:37.000Z\teni-attach-0ff1a69b89906a838\tTrue\t0\t0\tattaching\n",
      "GROUPS\tsg-abc4c7e4\tdefault\n",
      "GROUPS\tsg-02ed161c0d14d658f\tcopy-instance-sg-1\n",
      "PRIVATEIPADDRESSES\tTrue\tip-172-31-30-112.ec2.internal\t172.31.30.112\n",
      "PLACEMENT\tus-east-1d\t\tdefault\n",
      "PRIVATEDNSNAMEOPTIONS\tFalse\tFalse\tip-name\n",
      "SECURITYGROUPS\tsg-abc4c7e4\tdefault\n",
      "SECURITYGROUPS\tsg-02ed161c0d14d658f\tcopy-instance-sg-1\n",
      "STATE\t0\tpending\n",
      "STATEREASON\tpending\tpending\n",
      "TAGS\tName\ttile-worker39\n",
      "TAGS\taws:ec2launchtemplate:version\t35\n",
      "TAGS\taws:ec2launchtemplate:id\tlt-0e8c2b8611c9029eb\n",
      "INSTANCES\t5\tx86_64\t9033feda-b53e-4fef-ace0-9ae42206c777\tFalse\tTrue\txen\tami-0251162c8d60c856f\ti-01ad0ae2383bfea17\tspot\tc5d.large\tMBP-nbi-group\t2023-07-17T10:01:37.000Z\tip-172-31-22-152.ec2.internal\t172.31.22.152\t\t/dev/xvda\tebs\tTrue\tsir-wijpq8aj\t\tsubnet-33abf779\thvm\tvpc-29da0253\n",
      "CAPACITYRESERVATIONSPECIFICATION\topen\n",
      "CPUOPTIONS\t1\t2\n",
      "ENCLAVEOPTIONS\tFalse\n",
      "IAMINSTANCEPROFILE\tarn:aws:iam::598781256208:instance-profile/Full_S3_Lambda_RDS\tAIPAYW2RE4IIKOHDULIBX\n",
      "MAINTENANCEOPTIONS\tdefault\n",
      "METADATAOPTIONS\tenabled\tdisabled\t1\toptional\tdisabled\tpending\n",
      "MONITORING\tdisabled\n",
      "NETWORKINTERFACES\t\tinterface\t0a:eb:b0:c7:a7:ab\teni-02322d4898d805ef7\t598781256208\tip-172-31-22-152.ec2.internal\t172.31.22.152\tTrue\tin-use\tsubnet-33abf779\tvpc-29da0253\n",
      "ATTACHMENT\t2023-07-17T10:01:37.000Z\teni-attach-0932ce42f119d2e8e\tTrue\t0\t0\tattaching\n",
      "GROUPS\tsg-abc4c7e4\tdefault\n",
      "GROUPS\tsg-02ed161c0d14d658f\tcopy-instance-sg-1\n",
      "PRIVATEIPADDRESSES\tTrue\tip-172-31-22-152.ec2.internal\t172.31.22.152\n",
      "PLACEMENT\tus-east-1d\t\tdefault\n",
      "PRIVATEDNSNAMEOPTIONS\tFalse\tFalse\tip-name\n",
      "SECURITYGROUPS\tsg-abc4c7e4\tdefault\n",
      "SECURITYGROUPS\tsg-02ed161c0d14d658f\tcopy-instance-sg-1\n",
      "STATE\t0\tpending\n",
      "STATEREASON\tpending\tpending\n",
      "TAGS\tName\ttile-worker39\n",
      "TAGS\taws:ec2launchtemplate:version\t35\n",
      "TAGS\taws:ec2launchtemplate:id\tlt-0e8c2b8611c9029eb\n",
      "INSTANCES\t7\tx86_64\t9033feda-b53e-4fef-ace0-9ae42206c777\tFalse\tTrue\txen\tami-0251162c8d60c856f\ti-0d65104d737f56f5a\tspot\tc5d.large\tMBP-nbi-group\t2023-07-17T10:01:37.000Z\tip-172-31-22-139.ec2.internal\t172.31.22.139\t\t/dev/xvda\tebs\tTrue\tsir-x116m3bk\t\tsubnet-33abf779\thvm\tvpc-29da0253\n",
      "CAPACITYRESERVATIONSPECIFICATION\topen\n",
      "CPUOPTIONS\t1\t2\n",
      "ENCLAVEOPTIONS\tFalse\n",
      "IAMINSTANCEPROFILE\tarn:aws:iam::598781256208:instance-profile/Full_S3_Lambda_RDS\tAIPAYW2RE4IIKOHDULIBX\n",
      "MAINTENANCEOPTIONS\tdefault\n",
      "METADATAOPTIONS\tenabled\tdisabled\t1\toptional\tdisabled\tpending\n",
      "MONITORING\tdisabled\n",
      "NETWORKINTERFACES\t\tinterface\t0a:33:fd:20:aa:77\teni-0c8d67763888c17a3\t598781256208\tip-172-31-22-139.ec2.internal\t172.31.22.139\tTrue\tin-use\tsubnet-33abf779\tvpc-29da0253\n",
      "ATTACHMENT\t2023-07-17T10:01:37.000Z\teni-attach-0a1ff3f9d27a4777f\tTrue\t0\t0\tattaching\n",
      "GROUPS\tsg-abc4c7e4\tdefault\n",
      "GROUPS\tsg-02ed161c0d14d658f\tcopy-instance-sg-1\n",
      "PRIVATEIPADDRESSES\tTrue\tip-172-31-22-139.ec2.internal\t172.31.22.139\n",
      "PLACEMENT\tus-east-1d\t\tdefault\n",
      "PRIVATEDNSNAMEOPTIONS\tFalse\tFalse\tip-name\n",
      "SECURITYGROUPS\tsg-abc4c7e4\tdefault\n",
      "SECURITYGROUPS\tsg-02ed161c0d14d658f\tcopy-instance-sg-1\n",
      "STATE\t0\tpending\n",
      "STATEREASON\tpending\tpending\n",
      "TAGS\taws:ec2launchtemplate:version\t35\n",
      "TAGS\tName\ttile-worker39\n",
      "TAGS\taws:ec2launchtemplate:id\tlt-0e8c2b8611c9029eb\n",
      "INSTANCES\t6\tx86_64\t9033feda-b53e-4fef-ace0-9ae42206c777\tFalse\tTrue\txen\tami-0251162c8d60c856f\ti-0bcba99ed4bf070aa\tspot\tc5d.large\tMBP-nbi-group\t2023-07-17T10:01:37.000Z\tip-172-31-25-73.ec2.internal\t172.31.25.73\t\t/dev/xvda\tebs\tTrue\tsir-xtmynh6k\t\tsubnet-33abf779\thvm\tvpc-29da0253\n",
      "CAPACITYRESERVATIONSPECIFICATION\topen\n",
      "CPUOPTIONS\t1\t2\n",
      "ENCLAVEOPTIONS\tFalse\n",
      "IAMINSTANCEPROFILE\tarn:aws:iam::598781256208:instance-profile/Full_S3_Lambda_RDS\tAIPAYW2RE4IIKOHDULIBX\n",
      "MAINTENANCEOPTIONS\tdefault\n",
      "METADATAOPTIONS\tenabled\tdisabled\t1\toptional\tdisabled\tpending\n",
      "MONITORING\tdisabled\n",
      "NETWORKINTERFACES\t\tinterface\t0a:1e:74:9f:fe:27\teni-03be0ae8941a78855\t598781256208\tip-172-31-25-73.ec2.internal\t172.31.25.73\tTrue\tin-use\tsubnet-33abf779\tvpc-29da0253\n",
      "ATTACHMENT\t2023-07-17T10:01:37.000Z\teni-attach-098f1e3c2db9bc07d\tTrue\t0\t0\tattaching\n",
      "GROUPS\tsg-abc4c7e4\tdefault\n",
      "GROUPS\tsg-02ed161c0d14d658f\tcopy-instance-sg-1\n",
      "PRIVATEIPADDRESSES\tTrue\tip-172-31-25-73.ec2.internal\t172.31.25.73\n",
      "PLACEMENT\tus-east-1d\t\tdefault\n",
      "PRIVATEDNSNAMEOPTIONS\tFalse\tFalse\tip-name\n",
      "SECURITYGROUPS\tsg-abc4c7e4\tdefault\n",
      "SECURITYGROUPS\tsg-02ed161c0d14d658f\tcopy-instance-sg-1\n",
      "STATE\t0\tpending\n",
      "STATEREASON\tpending\tpending\n",
      "TAGS\taws:ec2launchtemplate:version\t35\n",
      "TAGS\taws:ec2launchtemplate:id\tlt-0e8c2b8611c9029eb\n",
      "TAGS\tName\ttile-worker39\n"
     ]
    }
   ],
   "source": [
    "# Change status = 3 > 0 and launch \n",
    "tiles = db.SQL(\"\"\"SELECT tile, field\n",
    "          FROM combined_tiles\n",
    "          WHERE status in (0,3)\n",
    "          GROUP BY tile, field\"\"\")\n",
    "\n",
    "if len(tiles) > 0:\n",
    "    # db.execute\n",
    "    utils.Unique(tiles['field'])\n",
    "    \n",
    "    if (0):\n",
    "        db.execute('update combined_tiles set status=0 where status=3')\n",
    "\n",
    "        launch_ec2_instances(nmax=50, count=None, filter_tiles=False,\n",
    "                             templ='lt-0e8c2b8611c9029eb,Version=35')\n",
    "    else:\n",
    "        print(\"Change logic to execute EC2\")\n",
    "else:\n",
    "    print('No tiles to reset')"
   ]
  },
  {
   "cell_type": "code",
   "execution_count": 21,
   "metadata": {},
   "outputs": [
    {
     "data": {
      "text/html": [
       "<div><i>GTable length=5</i>\n",
       "<table id=\"table6055581056\" class=\"table-striped table-bordered table-condensed\">\n",
       "<thead><tr><th>status</th><th>count</th></tr></thead>\n",
       "<thead><tr><th>int64</th><th>int64</th></tr></thead>\n",
       "<tr><td>1</td><td>20</td></tr>\n",
       "<tr><td>2</td><td>1249</td></tr>\n",
       "<tr><td>4</td><td>2072</td></tr>\n",
       "<tr><td>10</td><td>34</td></tr>\n",
       "<tr><td>90</td><td>7772</td></tr>\n",
       "</table></div>"
      ],
      "text/plain": [
       "<GTable length=5>\n",
       "status count\n",
       "int64  int64\n",
       "------ -----\n",
       "     1    20\n",
       "     2  1249\n",
       "     4  2072\n",
       "    10    34\n",
       "    90  7772"
      ]
     },
     "execution_count": 21,
     "metadata": {},
     "output_type": "execute_result"
    }
   ],
   "source": [
    "# Initial monitor\n",
    "db.SQL(\"\"\"select status, count(status) from combined_tiles\n",
    "group by status order by status\"\"\")"
   ]
  },
  {
   "cell_type": "code",
   "execution_count": 76,
   "metadata": {},
   "outputs": [
    {
     "data": {
      "text/html": [
       "<div><i>GTable length=6</i>\n",
       "<table id=\"table5594176480\" class=\"table-striped table-bordered table-condensed\">\n",
       "<thead><tr><th>status</th><th>count</th></tr></thead>\n",
       "<thead><tr><th>int64</th><th>int64</th></tr></thead>\n",
       "<tr><td>0</td><td>9</td></tr>\n",
       "<tr><td>1</td><td>19</td></tr>\n",
       "<tr><td>2</td><td>1241</td></tr>\n",
       "<tr><td>4</td><td>2072</td></tr>\n",
       "<tr><td>10</td><td>34</td></tr>\n",
       "<tr><td>90</td><td>7772</td></tr>\n",
       "</table></div>"
      ],
      "text/plain": [
       "<GTable length=6>\n",
       "status count\n",
       "int64  int64\n",
       "------ -----\n",
       "     0     9\n",
       "     1    19\n",
       "     2  1241\n",
       "     4  2072\n",
       "    10    34\n",
       "    90  7772"
      ]
     },
     "execution_count": 76,
     "metadata": {},
     "output_type": "execute_result"
    }
   ],
   "source": [
    "# Monitor\n",
    "db.SQL(\"\"\"select status, count(status) from combined_tiles\n",
    "group by status order by status\"\"\")"
   ]
  },
  {
   "cell_type": "markdown",
   "metadata": {},
   "source": [
    "# Make FITSMap HTML pages.  \n",
    "\n",
    "Fine to do this while the tiles are running"
   ]
  },
  {
   "cell_type": "code",
   "execution_count": 9,
   "metadata": {},
   "outputs": [
    {
     "data": {
      "text/html": [
       "<div><i>GTable length=13</i>\n",
       "<table id=\"table140594155377888\" class=\"table-striped table-bordered table-condensed\">\n",
       "<thead><tr><th>field</th><th>count</th></tr></thead>\n",
       "<thead><tr><th>str22</th><th>int64</th></tr></thead>\n",
       "<tr><td>panoramic-j090000p0207</td><td>289</td></tr>\n",
       "<tr><td>panoramic-j093144p0819</td><td>289</td></tr>\n",
       "<tr><td>panoramic-j093452p6116</td><td>289</td></tr>\n",
       "<tr><td>panoramic-j094232p0923</td><td>289</td></tr>\n",
       "<tr><td>panoramic-j100736p2109</td><td>289</td></tr>\n",
       "<tr><td>panoramic-j121932p0330</td><td>289</td></tr>\n",
       "<tr><td>panoramic-j125652p5652</td><td>289</td></tr>\n",
       "<tr><td>panoramic-j131432p2432</td><td>289</td></tr>\n",
       "<tr><td>panoramic-j134348p5549</td><td>289</td></tr>\n",
       "<tr><td>panoramic-j145652p2444</td><td>289</td></tr>\n",
       "<tr><td>panoramic-j150604p5409</td><td>289</td></tr>\n",
       "<tr><td>panoramic-j153500p2325</td><td>289</td></tr>\n",
       "<tr><td>panoramic-j170720p5853</td><td>289</td></tr>\n",
       "</table></div>"
      ],
      "text/plain": [
       "<GTable length=13>\n",
       "        field          count\n",
       "        str22          int64\n",
       "---------------------- -----\n",
       "panoramic-j090000p0207   289\n",
       "panoramic-j093144p0819   289\n",
       "panoramic-j093452p6116   289\n",
       "panoramic-j094232p0923   289\n",
       "panoramic-j100736p2109   289\n",
       "panoramic-j121932p0330   289\n",
       "panoramic-j125652p5652   289\n",
       "panoramic-j131432p2432   289\n",
       "panoramic-j134348p5549   289\n",
       "panoramic-j145652p2444   289\n",
       "panoramic-j150604p5409   289\n",
       "panoramic-j153500p2325   289\n",
       "panoramic-j170720p5853   289"
      ]
     },
     "execution_count": 9,
     "metadata": {},
     "output_type": "execute_result"
    }
   ],
   "source": [
    "pano_fields = db.SQL(\"\"\"select field, count(field) from combined_tiles \n",
    "where field like 'panoramic%%'\n",
    "group by field\n",
    "order by field\n",
    "\"\"\")\n",
    "\n",
    "pano_fields"
   ]
  },
  {
   "cell_type": "code",
   "execution_count": 16,
   "metadata": {},
   "outputs": [
    {
     "name": "stdout",
     "output_type": "stream",
     "text": [
      "## panoramic-j121932p0330\n",
      "   N  value     \n",
      "====  ==========\n",
      "   8  F115W-CLEAR\n",
      "   8  F150W-CLEAR\n",
      "   8  F200W-CLEAR\n",
      "   8  F277W-CLEAR\n",
      "   8  F356W-CLEAR\n",
      "   8  F444W-CLEAR\n",
      "upload: ./panoramic-j121932p0330_map.html to s3://grizli-v2/ClusterTiles/Map/panoramic-j121932p0330/index.html\n",
      "https://s3.amazonaws.com/grizli-v2/ClusterTiles/Map/panoramic-j121932p0330/index.html\n",
      "panoramic-j121932p0330-080-08.08 F115W-CLEAR F150W-CLEAR F200W-CLEAR F277W-CLEAR F356W-CLEAR F444W-CLEAR\n",
      "panoramic-j121932p0330-080-08.09 F115W-CLEAR F150W-CLEAR F200W-CLEAR F277W-CLEAR F356W-CLEAR F444W-CLEAR\n",
      "panoramic-j121932p0330-080-08.10 F115W-CLEAR F150W-CLEAR F200W-CLEAR F277W-CLEAR F356W-CLEAR F444W-CLEAR\n",
      "panoramic-j121932p0330-080-08.11 F115W-CLEAR F150W-CLEAR F200W-CLEAR F277W-CLEAR F356W-CLEAR F444W-CLEAR\n",
      "panoramic-j121932p0330-080-09.08 F115W-CLEAR F150W-CLEAR F200W-CLEAR F277W-CLEAR F356W-CLEAR F444W-CLEAR\n",
      "panoramic-j121932p0330-080-09.09 F115W-CLEAR F150W-CLEAR F200W-CLEAR F277W-CLEAR F356W-CLEAR F444W-CLEAR\n",
      "panoramic-j121932p0330-080-09.10 F115W-CLEAR F150W-CLEAR F200W-CLEAR F277W-CLEAR F356W-CLEAR F444W-CLEAR\n",
      "panoramic-j121932p0330-080-09.11 F115W-CLEAR F150W-CLEAR F200W-CLEAR F277W-CLEAR F356W-CLEAR F444W-CLEAR\n",
      "upload: ./panoramic-j121932p0330_tiles.js to s3://grizli-v2/ClusterTiles/Map/panoramic-j121932p0330/panoramic-j121932p0330_tiles.js\n",
      "# panoramic-j121932p0330\n",
      "     DESI-N (Duncan+22) VII/292/north 2420\n",
      "    - Skip  DESI-S (Duncan+22)\n",
      "     GAIA DR3 I/355/gaiadr3 310\n",
      "     XMM-DR11 (Traulson+22) IX/66/xmm411st 16\n",
      "       - Use srcML for source sizes\n",
      "    * Query XMM-DR12 (Webb+23): IIX/68/xmm4d12s failed\n",
      "     SDSS DR16Q (Lyke+20) VII/289/superset 1\n",
      "     https://s3.amazonaws.com/grizli-v2/ClusterTiles/Map/panoramic-j121932p0330/index.html\n"
     ]
    }
   ],
   "source": [
    "import astropy.time\n",
    "import make_fitsmap_html\n",
    "\n",
    "# First time initializing the file\n",
    "if False:\n",
    "    with open('tile_webpages_completed.txt','w') as fp:\n",
    "        fp.write('# field date time\\n')\n",
    "        for field in pano_fields['field']:\n",
    "            fp.write(f'{field} {astropy.time.Time.now().iso}\\n')\n",
    "\n",
    "# Run script for fields that need it\n",
    "done = utils.read_catalog('tile_webpages_completed.txt')\n",
    "\n",
    "for field in pano_fields['field']:\n",
    "    if field not in done['field']:\n",
    "        with open('tile_webpages_completed.txt','a') as fp:\n",
    "            fp.write(f'{field} {astropy.time.Time.now().iso}\\n')\n",
    "        \n",
    "        make_fitsmap_html.run_make_fitsmap_html(field)\n",
    "        "
   ]
  },
  {
   "cell_type": "markdown",
   "metadata": {},
   "source": [
    "# Now you're done!\n",
    "\n",
    "Some debugging manual things below."
   ]
  },
  {
   "cell_type": "code",
   "execution_count": 4,
   "metadata": {},
   "outputs": [
    {
     "name": "stdout",
     "output_type": "stream",
     "text": [
      "## panoramic-j170720p5853\n",
      "   N  value     \n",
      "====  ==========\n",
      "   8  F115W-CLEAR\n",
      "   8  F150W-CLEAR\n",
      "   8  F200W-CLEAR\n",
      "   8  F277W-CLEAR\n",
      "   8  F356W-CLEAR\n",
      "   8  F444W-CLEAR\n",
      "upload: ./panoramic-j170720p5853_map.html to s3://grizli-v2/ClusterTiles/Map/panoramic-j170720p5853/index.html\n",
      "https://s3.amazonaws.com/grizli-v2/ClusterTiles/Map/panoramic-j170720p5853/index.html\n",
      "panoramic-j170720p5853-080-08.08 F115W-CLEAR F150W-CLEAR F200W-CLEAR F277W-CLEAR F356W-CLEAR F444W-CLEAR\n",
      "panoramic-j170720p5853-080-08.09 F115W-CLEAR F150W-CLEAR F200W-CLEAR F277W-CLEAR F356W-CLEAR F444W-CLEAR\n",
      "panoramic-j170720p5853-080-08.10 F115W-CLEAR F150W-CLEAR F200W-CLEAR F277W-CLEAR F356W-CLEAR F444W-CLEAR\n",
      "panoramic-j170720p5853-080-08.11 F115W-CLEAR F150W-CLEAR F200W-CLEAR F277W-CLEAR F356W-CLEAR F444W-CLEAR\n",
      "panoramic-j170720p5853-080-09.08 F115W-CLEAR F150W-CLEAR F200W-CLEAR F277W-CLEAR F356W-CLEAR F444W-CLEAR\n",
      "panoramic-j170720p5853-080-09.09 F115W-CLEAR F150W-CLEAR F200W-CLEAR F277W-CLEAR F356W-CLEAR F444W-CLEAR\n",
      "panoramic-j170720p5853-080-09.10 F115W-CLEAR F150W-CLEAR F200W-CLEAR F277W-CLEAR F356W-CLEAR F444W-CLEAR\n",
      "panoramic-j170720p5853-080-09.11 F115W-CLEAR F150W-CLEAR F200W-CLEAR F277W-CLEAR F356W-CLEAR F444W-CLEAR\n",
      "upload: ./panoramic-j170720p5853_tiles.js to s3://grizli-v2/ClusterTiles/Map/panoramic-j170720p5853/panoramic-j170720p5853_tiles.js\n",
      "# panoramic-j170720p5853\n",
      "     DESI-N (Duncan+22) VII/292/north 0\n",
      "     DESI-S (Duncan+22) VII/292/south 0\n",
      "     GAIA DR3 I/355/gaiadr3 526\n",
      "     XMM-DR11 (Traulson+22) IX/66/xmm411st 0\n",
      "    * Query XMM-DR12 (Webb+23): IIX/68/xmm4d12s failed\n",
      "     SDSS DR16Q (Lyke+20) VII/289/superset 0\n",
      "     DESI EDR: 23 sources\n",
      "     https://s3.amazonaws.com/grizli-v2/ClusterTiles/Map/panoramic-j170720p5853/index.html\n"
     ]
    }
   ],
   "source": [
    "import make_fitsmap_html\n",
    "\n",
    "#field = 'panoramic-j100736p2109'\n",
    "# field = 'panoramic-j150604p5409'\n",
    "# field = 'panoramic-j094232p0923'\n",
    "\n",
    "# field = 'panoramic-j090000p0207'\n",
    "# field = 'panoramic-j093144p0819'\n",
    "# field = 'panoramic-j093452p6116'\n",
    "# field = 'panoramic-j094232p0923'\n",
    "# field = 'panoramic-j125652p5652'\n",
    "# field = 'panoramic-j145652p2444'\n",
    "# field = 'panoramic-j153500p2325'\n",
    "field = 'panoramic-j170720p5853'\n",
    "\n",
    "# field = 'panoramic-j131432p2432'\n",
    "# field = 'panoramic-j134348p5549'\n",
    "\n",
    "## Copy \n",
    "make_fitsmap_html.run_make_fitsmap_html(field)"
   ]
  },
  {
   "cell_type": "code",
   "execution_count": 5,
   "metadata": {},
   "outputs": [],
   "source": [
    "# Testing\n",
    "\n",
    "import make_fitsmap_html\n",
    "from importlib import reload\n",
    "\n",
    "reload(make_fitsmap_html)\n",
    "\n",
    "field = 'panoramic-j131432p2432'\n",
    "field = 'panoramic-j170720p5853'\n",
    "\n",
    "if False:\n",
    "    for field in pano_fields['field'][:1]:\n",
    "        make_fitsmap_html.make_vizier_overlay(field)"
   ]
  },
  {
   "cell_type": "code",
   "execution_count": 19,
   "metadata": {},
   "outputs": [
    {
     "data": {
      "text/html": [
       "<i>Row index=49</i>\n",
       "<table id=\"table140608810180736\">\n",
       "<thead><tr><th>tile</th><th>wcsaxes</th><th>crpix1</th><th>crpix2</th><th>cd1_1</th><th>cd2_2</th><th>cdelt1</th><th>cdelt2</th><th>cunit1</th><th>cunit2</th><th>ctype1</th><th>ctype2</th><th>crval1</th><th>crval2</th><th>lonpole</th><th>latpole</th><th>mjdref</th><th>radesys</th><th>naxis</th><th>naxis1</th><th>naxis2</th><th>footprint</th><th>status</th><th>field</th></tr></thead>\n",
       "<thead><tr><th>str5</th><th>int64</th><th>float64</th><th>float64</th><th>float64</th><th>float64</th><th>float64</th><th>float64</th><th>str3</th><th>str3</th><th>str8</th><th>str8</th><th>float64</th><th>float64</th><th>float64</th><th>float64</th><th>float64</th><th>str4</th><th>int64</th><th>int64</th><th>int64</th><th>str93</th><th>int64</th><th>str6</th></tr></thead>\n",
       "<tr><td>12.12</td><td>2</td><td>128.0</td><td>128.0</td><td>-2.2222222222222e-05</td><td>2.2222222222222e-05</td><td>1.0</td><td>1.0</td><td>deg</td><td>deg</td><td>RA---TAN</td><td>DEC--TAN</td><td>214.8288</td><td>52.8067333</td><td>180.0</td><td>52.8067333</td><td>0.0</td><td>ICRS</td><td>2</td><td>2304</td><td>2304</td><td>((214.833468,52.803911),(214.833474,52.855089),(214.748719,52.855062),(214.748813,52.803884))</td><td>2</td><td>egs-v2</td></tr>\n",
       "</table>"
      ],
      "text/plain": [
       "<Row index=49>\n",
       " tile wcsaxes  crpix1  crpix2        cd1_1                cd2_2         cdelt1  cdelt2 cunit1 cunit2  ctype1   ctype2   crval1    crval2   lonpole  latpole    mjdref radesys naxis naxis1 naxis2                                           footprint                                           status field \n",
       " str5  int64  float64 float64       float64              float64       float64 float64  str3   str3    str8     str8   float64   float64   float64  float64   float64   str4  int64 int64  int64                                              str93                                             int64   str6 \n",
       "----- ------- ------- ------- -------------------- ------------------- ------- ------- ------ ------ -------- -------- -------- ---------- ------- ---------- ------- ------- ----- ------ ------ --------------------------------------------------------------------------------------------- ------ ------\n",
       "12.12       2   128.0   128.0 -2.2222222222222e-05 2.2222222222222e-05     1.0     1.0    deg    deg RA---TAN DEC--TAN 214.8288 52.8067333   180.0 52.8067333     0.0    ICRS     2   2304   2304 ((214.833468,52.803911),(214.833474,52.855089),(214.748719,52.855062),(214.748813,52.803884))      2 egs-v2"
      ]
     },
     "execution_count": 19,
     "metadata": {},
     "output_type": "execute_result"
    }
   ],
   "source": [
    "f_tiles = db.SQL(f\"\"\"select * from combined_tiles where field = 'egs-v2'\"\"\")\n",
    "ix = np.argmin(np.abs(f_tiles['crpix1']) + np.abs(f_tiles['crpix2']))\n",
    "f_tiles[ix]"
   ]
  },
  {
   "cell_type": "code",
   "execution_count": 13,
   "metadata": {},
   "outputs": [
    {
     "name": "stdout",
     "output_type": "stream",
     "text": [
      "# egs-v2\n",
      "     DESI-N (Duncan+22) VII/292/north 0\n",
      "     DESI-S (Duncan+22) VII/292/south 0\n",
      "     GAIA DR3 I/355/gaiadr3 2579\n",
      "     XMM-DR11 (Traulson+22) IX/66/xmm411st 134\n",
      "Use srcML for source sizes\n",
      "    * Query XMM-DR12 (Webb+23): IIX/68/xmm4d12s failed\n",
      "     SDSS DR16Q (Lyke+20) VII/289/superset 2170\n",
      "     DESI EDR: 1835 sources\n",
      "     https://s3.amazonaws.com/grizli-v2/ClusterTiles/Map/egs-v2/index.html\n"
     ]
    }
   ],
   "source": [
    "import make_fitsmap_html\n",
    "from importlib import reload\n",
    "reload(make_fitsmap_html)\n",
    "\n",
    "make_fitsmap_html.make_vizier_overlay('egs-v2', radius=30, ref_tile='10.14')"
   ]
  },
  {
   "cell_type": "code",
   "execution_count": 8,
   "metadata": {},
   "outputs": [
    {
     "name": "stdout",
     "output_type": "stream",
     "text": [
      "## j010256m4914\n",
      "   N  value     \n",
      "====  ==========\n",
      "   6  F090W-CLEAR\n",
      "   6  F115W-CLEAR\n",
      "   6  F150W-CLEAR\n",
      "   6  F200W-CLEAR\n",
      "   6  F277W-CLEAR\n",
      "   6  F356W-CLEAR\n",
      "   6  F410M-CLEAR\n",
      "   6  F444W-CLEAR\n",
      "upload: ./j010256m4914_map.html to s3://grizli-v2/ClusterTiles/Map/j010256m4914/index.html\n",
      "https://s3.amazonaws.com/grizli-v2/ClusterTiles/Map/j010256m4914/index.html\n",
      "WCS reference tile 09.09 for field j010256m4914\n",
      "j010256m4914-080-08.09 F090W-CLEAR F115W-CLEAR F150W-CLEAR F200W-CLEAR F277W-CLEAR F356W-CLEAR F410M-CLEAR F444W-CLEAR\n",
      "j010256m4914-080-08.10 F090W-CLEAR F115W-CLEAR F150W-CLEAR F200W-CLEAR F277W-CLEAR F356W-CLEAR F410M-CLEAR F444W-CLEAR\n",
      "j010256m4914-080-08.11 F090W-CLEAR F115W-CLEAR F150W-CLEAR F200W-CLEAR F277W-CLEAR F356W-CLEAR F410M-CLEAR F444W-CLEAR\n",
      "j010256m4914-080-09.09 F090W-CLEAR F115W-CLEAR F150W-CLEAR F200W-CLEAR F277W-CLEAR F356W-CLEAR F410M-CLEAR F444W-CLEAR\n",
      "j010256m4914-080-09.10 F090W-CLEAR F115W-CLEAR F150W-CLEAR F200W-CLEAR F277W-CLEAR F356W-CLEAR F410M-CLEAR F444W-CLEAR\n",
      "j010256m4914-080-09.11 F090W-CLEAR F115W-CLEAR F150W-CLEAR F200W-CLEAR F277W-CLEAR F356W-CLEAR F410M-CLEAR F444W-CLEAR\n",
      "upload: ./j010256m4914_tiles.js to s3://grizli-v2/ClusterTiles/Map/j010256m4914/j010256m4914_tiles.js\n",
      "WCS reference tile 09.09 for field j010256m4914\n",
      "# j010256m4914\n",
      "     DESI-N (Duncan+22) VII/292/north 2618\n",
      "    - Skip  DESI-S (Duncan+22)\n",
      "     GAIA DR3 I/355/gaiadr3 296\n",
      "     XMM-DR11 (Traulson+22) IX/66/xmm411st 0\n",
      "    * Query XMM-DR12 (Webb+23): IIX/68/xmm4d12s failed\n",
      "     SDSS DR16Q (Lyke+20) VII/289/superset 0\n",
      "WCS reference tile 09.09 for field j010256m4914\n",
      "     https://s3.amazonaws.com/grizli-v2/ClusterTiles/Map/j010256m4914/index.html\n",
      "WCS reference tile 09.09 for field j010256m4914\n",
      "http://archive.eso.org/tap_obs/sync?REQUEST=doQuery&FORMAT=fits&LANG=ADQL&MAXREC=200000&QUERY=SELECT+*+FROM+ivoa.ObsCore+++++WHERE+(obs_collection%3D%27ALMA%27+OR+obs_collection%3D%27MUSE%27+OR+obs_collection%3D%27MUSE-DEEP%27)+++++AND+s_ra+%3E+14.929908653195334+AND+s_ra+%3C+16.462242447462785+AND+s_dec+%3E+-49.76213225447158+AND+s_dec+%3C+-48.76213225447158+++++\n",
      "Full ESO query: 81\n",
      "MUSE: 10 10\n",
      "MUSE-DEEP: 3 3\n",
      "ALMA Band 3: 20 20\n",
      "ALMA Band 4: 4 4\n",
      "ALMA Band 6: 12 12\n",
      "ALMA Band 7: 32 32\n",
      "upload: ./j010256m4914_eso.js to s3://grizli-v2/ClusterTiles/Map/j010256m4914/j010256m4914_eso.js\n",
      "WCS reference tile 09.09 for field j010256m4914\n",
      "MOSFIRE N:  0\n",
      "WCS reference tile 09.09 for field j010256m4914\n"
     ]
    }
   ],
   "source": [
    "make_fitsmap_html.run_make_fitsmap_html('j010256m4914')\n"
   ]
  },
  {
   "cell_type": "code",
   "execution_count": 6,
   "metadata": {},
   "outputs": [],
   "source": [
    "# Rerun all maps if something changes in the map HTML\n",
    "import make_fitsmap_html\n",
    "\n",
    "if False:\n",
    "    for field in pano_fields['field']:\n",
    "        make_fitsmap_html.run_make_fitsmap_html(field)\n"
   ]
  },
  {
   "cell_type": "code",
   "execution_count": 2,
   "metadata": {},
   "outputs": [
    {
     "name": "stdout",
     "output_type": "stream",
     "text": [
      "WCS reference tile 08.08 for field abell2744\n",
      "abell2744-080-06.07 F115W-CLEAR F150W-CLEAR F200W-CLEAR F277W-CLEAR F356W-CLEAR F444W-CLEAR\n",
      "abell2744-080-06.08 F115W-CLEAR F150W-CLEAR F200W-CLEAR F277W-CLEAR F356W-CLEAR F444W-CLEAR\n",
      "abell2744-080-07.06 F115W-CLEAR F150W-CLEAR F200W-CLEAR F277W-CLEAR F356W-CLEAR F444W-CLEAR\n",
      "abell2744-080-07.07 F115W-CLEAR F150W-CLEAR F200W-CLEAR F277W-CLEAR F356W-CLEAR F410M-CLEAR F444W-CLEAR\n",
      "abell2744-080-07.08 F115W-CLEAR F115W-CLEAR F150W-CLEAR F150W-CLEAR F200W-CLEAR F277W-CLEAR F356W-CLEAR F410M-CLEAR F444W-CLEAR\n",
      "abell2744-080-07.09 F115W-CLEAR F150W-CLEAR F150W-CLEAR F200W-CLEAR F277W-CLEAR F356W-CLEAR F410M-CLEAR F444W-CLEAR\n",
      "abell2744-080-08.06 F115W-CLEAR F150W-CLEAR F200W-CLEAR F277W-CLEAR F356W-CLEAR F444W-CLEAR\n",
      "abell2744-080-08.07 F115W-CLEAR F115W-CLEAR F150W-CLEAR F150W-CLEAR F200W-CLEAR F277W-CLEAR F356W-CLEAR F410M-CLEAR F444W-CLEAR\n",
      "abell2744-080-08.08 F115W-CLEAR F115W-CLEAR F150W-CLEAR F150W-CLEAR F200W-CLEAR F277W-CLEAR F356W-CLEAR F410M-CLEAR F444W-CLEAR\n",
      "abell2744-080-08.09 F115W-CLEAR F115W-CLEAR F150W-CLEAR F150W-CLEAR F200W-CLEAR F277W-CLEAR F356W-CLEAR F410M-CLEAR F444W-CLEAR\n",
      "abell2744-080-08.10 F115W-CLEAR F150W-CLEAR F200W-CLEAR F277W-CLEAR F356W-CLEAR F410M-CLEAR F444W-CLEAR\n",
      "abell2744-080-09.07 F115W-CLEAR F150W-CLEAR F200W-CLEAR F277W-CLEAR F356W-CLEAR F410M-CLEAR F444W-CLEAR\n",
      "abell2744-080-09.08 F090W-CLEAR F115W-CLEAR F150W-CLEAR F200W-CLEAR F277W-CLEAR F356W-CLEAR F410M-CLEAR F444W-CLEAR\n",
      "abell2744-080-09.09 CLEARP-F444W F090W-CLEAR F115W-CLEAR F115W-CLEAR F150W-CLEAR F150W-CLEAR F200W-CLEAR F200W-CLEAR F277W-CLEAR F356W-CLEAR F410M-CLEAR F444W-CLEAR\n",
      "abell2744-080-09.10 F090W-CLEAR F115W-CLEAR F150W-CLEAR F200W-CLEAR F277W-CLEAR F356W-CLEAR F410M-CLEAR F444W-CLEAR\n",
      "abell2744-080-10.08 CLEARP-F444W F090W-CLEAR F115W-CLEAR F115W-CLEAR F150W-CLEAR F150W-CLEAR F200W-CLEAR F200W-CLEAR F277W-CLEAR F356W-CLEAR F410M-CLEAR F444W-CLEAR\n",
      "abell2744-080-10.09 CLEARP-F444W F090W-CLEAR F115W-CLEAR F115W-CLEAR F150W-CLEAR F150W-CLEAR F200W-CLEAR F200W-CLEAR F277W-CLEAR F356W-CLEAR F410M-CLEAR F444W-CLEAR\n",
      "abell2744-080-10.10 CLEARP-F444W F090W-CLEAR F115W-CLEAR F115W-CLEAR F150W-CLEAR F150W-CLEAR F200W-CLEAR F200W-CLEAR F277W-CLEAR F356W-CLEAR F444W-CLEAR\n",
      "abell2744-080-11.08 CLEARP-F444W F115W-CLEAR F150W-CLEAR F200W-CLEAR\n",
      "abell2744-080-11.09 CLEARP-F444W F090W-CLEAR F115W-CLEAR F115W-CLEAR F150W-CLEAR F150W-CLEAR F200W-CLEAR F200W-CLEAR F277W-CLEAR F356W-CLEAR F444W-CLEAR\n",
      "abell2744-080-11.10 CLEARP-F444W F090W-CLEAR F115W-CLEAR F115W-CLEAR F150W-CLEAR F150W-CLEAR F200W-CLEAR F200W-CLEAR F277W-CLEAR F356W-CLEAR F444W-CLEAR\n",
      "upload: ./abell2744_tiles.js to s3://grizli-v2/ClusterTiles/Map/abell2744/abell2744_tiles.js\n"
     ]
    }
   ],
   "source": [
    "import make_fitsmap_html\n",
    "from importlib import reload\n",
    "reload(make_fitsmap_html)\n",
    "\n",
    "make_fitsmap_html.make_tile_overlay('abell2744', ref_tile='08.08')"
   ]
  },
  {
   "cell_type": "code",
   "execution_count": 7,
   "metadata": {},
   "outputs": [
    {
     "name": "stdout",
     "output_type": "stream",
     "text": [
      "WCS reference tile 08.08 for field abell2744\n",
      "   N  value     \n",
      "====  ==========\n",
      " 500  2756 PRISM\n",
      " 836  1324 G140H F100LP\n",
      " 836  1324 G235H F170LP\n",
      " 836  1324 G395H F290LP\n",
      "11532  2561 PRISM\n",
      "NIRSPec: 1343 extractions\n",
      "   N  value     \n",
      "====  ==========\n",
      " 121  2756 PRISM CLEAR\n",
      " 125  1324 G235H F170LP\n",
      " 126  1324 G395H F290LP\n",
      " 154  1324 G140H F100LP\n",
      " 817  2561 PRISM CLEAR\n",
      "upload: ./abell2744_nirspec.js to s3://grizli-v2/ClusterTiles/Map/abell2744/abell2744_nirspec.js\n"
     ]
    }
   ],
   "source": [
    "reload(make_fitsmap_html)\n",
    "make_fitsmap_html.nirspec_slits_layer('abell2744')"
   ]
  },
  {
   "cell_type": "code",
   "execution_count": null,
   "metadata": {},
   "outputs": [],
   "source": []
  }
 ],
 "metadata": {
  "kernelspec": {
   "display_name": "Python 3 (ipykernel)",
   "language": "python",
   "name": "python3"
  },
  "language_info": {
   "codemirror_mode": {
    "name": "ipython",
    "version": 3
   },
   "file_extension": ".py",
   "mimetype": "text/x-python",
   "name": "python",
   "nbconvert_exporter": "python",
   "pygments_lexer": "ipython3",
   "version": "3.9.16"
  }
 },
 "nbformat": 4,
 "nbformat_minor": 4
}
